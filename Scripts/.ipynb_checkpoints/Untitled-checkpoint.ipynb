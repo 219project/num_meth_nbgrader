{
 "cells": [
  {
   "cell_type": "code",
   "execution_count": null,
   "metadata": {},
   "outputs": [],
   "source": [
    "import os\n",
    "\n",
    "def restructure(source_path, final_path, submission):\n",
    "    source_list = os.listdir(source_path)\n",
    "    print('Found folders:', len(source_list))\n",
    "    benefit_files = 0\n",
    "    for file in source_list:\n",
    "        print('Student_id', file, ':')\n",
    "        student_id = os.path.basename(source_path)\n",
    "        os.system('cp', os.path.join(source_path, student_id, submission + '.html'), \n",
    "                  os.path.join(final_path, student_id + submission + '.html'))\n",
    "        if os.path.exists(os.path.join(final_path, student_id + submission + '.html')):\n",
    "            benefit_files += 1\n",
    "    print(benefit_files, 'files were moved successfully')\n",
    "    \n",
    "if __name__ == \"__main__\":\n",
    "    restructure(sys.argv[1], sys.argv[2])"
   ]
  }
 ],
 "metadata": {
  "kernelspec": {
   "display_name": "Python 3",
   "language": "python",
   "name": "python3"
  },
  "language_info": {
   "codemirror_mode": {
    "name": "ipython",
    "version": 3
   },
   "file_extension": ".py",
   "mimetype": "text/x-python",
   "name": "python",
   "nbconvert_exporter": "python",
   "pygments_lexer": "ipython3",
   "version": "3.7.6"
  }
 },
 "nbformat": 4,
 "nbformat_minor": 4
}
