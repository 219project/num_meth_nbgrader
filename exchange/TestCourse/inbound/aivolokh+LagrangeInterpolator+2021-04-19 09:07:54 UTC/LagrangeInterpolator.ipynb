{
  "nbformat": 4,
  "nbformat_minor": 0,
  "metadata": {
    "kernelspec": {
      "display_name": "Python 3",
      "language": "python",
      "name": "python3"
    },
    "language_info": {
      "codemirror_mode": {
        "name": "ipython",
        "version": 3
      },
      "file_extension": ".py",
      "mimetype": "text/x-python",
      "name": "python",
      "nbconvert_exporter": "python",
      "pygments_lexer": "ipython3",
      "version": "3.8.5"
    },
    "colab": {
      "name": "LagrangeInterpolator_aivolokh.ipynb",
      "provenance": []
    }
  },
  "cells": [
    {
      "cell_type": "markdown",
      "metadata": {
        "id": "NsTDevCXaMAD"
      },
      "source": [
        "Before you turn this problem in, make sure everything runs as expected. First, **restart the kernel** (in the menubar, select Kernel$\\rightarrow$Restart) and then **run all cells** (in the menubar, select Cell$\\rightarrow$Run All).\n",
        "\n",
        "Make sure you fill in any place that says `YOUR CODE HERE` or \"YOUR ANSWER HERE\", as well as your name and collaborators below:"
      ]
    },
    {
      "cell_type": "code",
      "metadata": {
        "id": "oNzhF4OTaMAM"
      },
      "source": [
        "NAME = \"Andrew Volokh\"\n",
        "COLLABORATORS = \"Andrew Volokh\""
      ],
      "execution_count": null,
      "outputs": []
    },
    {
      "cell_type": "markdown",
      "metadata": {
        "id": "VqeYpzr2aMAN"
      },
      "source": [
        "---"
      ]
    },
    {
      "cell_type": "markdown",
      "metadata": {
        "deletable": false,
        "editable": false,
        "nbgrader": {
          "cell_type": "markdown",
          "checksum": "233c53446ef795debdf3179ead9a728a",
          "grade": false,
          "grade_id": "cell-af0193379161e7dd",
          "locked": true,
          "schema_version": 3,
          "solution": false,
          "task": false
        },
        "id": "RrjWk72FaMAO"
      },
      "source": [
        "# Интерполяция при помощи полиномов Лагранжа."
      ]
    },
    {
      "cell_type": "code",
      "metadata": {
        "deletable": false,
        "nbgrader": {
          "cell_type": "code",
          "checksum": "c209243c82df3a0862e2b45a6e133bbc",
          "grade": false,
          "grade_id": "cell-d459dee4d09527c4",
          "locked": false,
          "schema_version": 3,
          "solution": true,
          "task": false
        },
        "id": "6QpRD6rRaMAO"
      },
      "source": [
        "import numpy as np\n",
        "\n",
        "class LagrangeInterpolator:\n",
        "    \"\"\"Lagrange interpolating polynomial.\n",
        "    \n",
        "    Given a set of pairs ``(x_k, y_k)``, construct \n",
        "    a Lagrange polynomial ``f(x)``, such that\n",
        "    \n",
        "    .. math::\n",
        "\n",
        "        f(x_k) = y_k   for k =0, ..., n-1\n",
        "    \n",
        "    Parameters\n",
        "    ----------\n",
        "    xk : array_like, shape(n,)\n",
        "        Abscissas\n",
        "    yk : array_like, shape(n,)\n",
        "        Ordinates\n",
        "    \n",
        "    Attributes\n",
        "    ----------\n",
        "    __call__\n",
        "    \n",
        "    \"\"\"\n",
        "    def __init__(self, xk, yk):\n",
        "        self.xk = np.asarray(xk, dtype=float)\n",
        "        self.yk = np.asarray(yk, dtype=float)\n",
        "        \n",
        "    def __call__(self, x):\n",
        "        \"\"\"Evaluate the interpolator at a given point.\n",
        "        \n",
        "        Parameters\n",
        "        ----------\n",
        "        x : float\n",
        "        \n",
        "        Returns\n",
        "        -------\n",
        "        the value of the interpolator at ``x``.\n",
        "        \"\"\"\n",
        "        n = self.yk.shape[0]\n",
        "        f = np.array(n)\n",
        "        res = 0\n",
        "        for i in range(n):\n",
        "          l = 1\n",
        "          for j in range(n):\n",
        "            if i != j:\n",
        "              l *= (x - self.xk[j]) / (self.xk[i] - self.xk[j])\n",
        "          res += self.yk[i] * l\n",
        "        return res\n",
        "        raise NotImplementedError()"
      ],
      "execution_count": null,
      "outputs": []
    },
    {
      "cell_type": "code",
      "metadata": {
        "deletable": false,
        "editable": false,
        "nbgrader": {
          "cell_type": "code",
          "checksum": "bcea1ecba91d3cd6618b2556506016de",
          "grade": true,
          "grade_id": "cell-02e34e05d317dfb2",
          "locked": true,
          "points": 5,
          "schema_version": 3,
          "solution": false,
          "task": false
        },
        "id": "KAEWpc2-aMAP"
      },
      "source": [
        "def runge_func(x, a=25):\n",
        "    return 1.0 / (1.0 + a*x**2)\n",
        "\n",
        "xx = np.linspace(-2, 2, 21)\n",
        "yy = runge_func(xx)\n",
        "\n",
        "lagr = LagrangeInterpolator(xx, yy)\n",
        "\n",
        "from numpy.testing import assert_allclose\n",
        "\n",
        "assert_allclose(yy,\n",
        "                [lagr(xval) for xval in xx],\n",
        "                atol=1e-14)"
      ],
      "execution_count": null,
      "outputs": []
    },
    {
      "cell_type": "markdown",
      "metadata": {
        "deletable": false,
        "editable": false,
        "nbgrader": {
          "cell_type": "markdown",
          "checksum": "e7c0d15903d4b1cd34c0580a8b6b37c0",
          "grade": false,
          "grade_id": "cell-7017c4fddb92f038",
          "locked": true,
          "points": 5,
          "schema_version": 3,
          "solution": false,
          "task": true
        },
        "id": "BelPCq4BaMAP"
      },
      "source": [
        "Рассмотрим функцию Рунге $1/(1 + 25x^2)$. Интерполируйте данную функцию на интервале $x\\in [-2, 2]$, используя полиномы Лагранжа степени $m$, где $m=3, 5, 7, 11$. Используйте равномерную сетку. Постройте результат интерполяции вместе с $f(x)$.\n",
        "\n",
        "Повторите предыдущее задание используя узлы Чебышева. Сравните качество интерполяции на равномерной сетке и на узлах Чебышева.\n"
      ]
    },
    {
      "cell_type": "code",
      "metadata": {
        "id": "ptJuQr8ZaMAQ",
        "colab": {
          "base_uri": "https://localhost:8080/",
          "height": 530
        },
        "outputId": "b7183f83-ac7a-4d22-cd5c-e631167542ba"
      },
      "source": [
        "from numpy.polynomial.chebyshev import Chebyshev\n",
        "import matplotlib.pyplot as plt\n",
        "def runge_func(x, a=25):\n",
        "    return 1.0 / (1.0 + a*x**2)\n",
        "\n",
        "def lag(m):\n",
        "  xx = np.linspace(-2, 2, m)\n",
        "  yy = runge_func(xx)\n",
        "  l = LagrangeInterpolator(xx, yy)\n",
        "  return l(xx)\n",
        "m = [3,5,7,11]\n",
        "l = np.array(4)\n",
        "k = 0\n",
        "for i in m:\n",
        "  plt.plot(lag(i))\n",
        "\n",
        "plt.show()\n"
      ],
      "execution_count": null,
      "outputs": [
        {
          "output_type": "display_data",
          "data": {
            "image/png": "[encoded data removed]",
            "text/plain": [
              "<Figure size 432x288 with 1 Axes>"
            ]
          },
          "metadata": {
            "tags": [],
            "needs_background": "light"
          }
        },
        {
          "output_type": "execute_result",
          "data": {
            "text/plain": [
              "[<matplotlib.lines.Line2D at 0x7fa9467b7e10>]"
            ]
          },
          "metadata": {
            "tags": []
          },
          "execution_count": 21
        },
        {
          "output_type": "display_data",
          "data": {
            "image/png": "[encoded data removed]",
            "text/plain": [
              "<Figure size 432x288 with 1 Axes>"
            ]
          },
          "metadata": {
            "tags": [],
            "needs_background": "light"
          }
        }
      ]
    },
    {
      "cell_type": "code",
      "metadata": {
        "id": "cVftyIrLKXtx"
      },
      "source": [
        ""
      ],
      "execution_count": null,
      "outputs": []
    }
  ]
}