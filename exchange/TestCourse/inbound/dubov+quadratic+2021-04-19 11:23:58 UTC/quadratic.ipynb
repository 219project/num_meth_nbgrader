{
 "cells": [
  {
   "cell_type": "markdown",
   "metadata": {},
   "source": [
    "Name = \"Andrey Dubov\"\n",
    "Group = \"BPM184\""
   ]
  },
  {
   "cell_type": "markdown",
   "metadata": {},
   "source": [
    "![](https://sun9-19.userapi.com/impg/5j_twL8vC-Ok_7UFiU_mo31-scelCOuGvm16Ew/704MzVGzV4Y.jpg?size=1600x333&quality=96&proxy=1&sign=92e91ae23dd357d2bd5a586b340f1dd0&type=album)"
   ]
  },
  {
   "cell_type": "code",
   "execution_count": 22,
   "metadata": {},
   "outputs": [
    {
     "name": "stdout",
     "output_type": "stream",
     "text": [
      "9.167381616796105e+22\n",
      "0.03636363636363636\n"
     ]
    }
   ],
   "source": [
    "import math\n",
    "def recurforw(alfa,n):\n",
    "    I = math.log(1 + alfa) - math.log(alfa)\n",
    "    for i in range (1,n):\n",
    "        I = 1/n - alfa * I\n",
    "    return I\n",
    "print(recurforw(10, 25))\n",
    "print(recurforw(0.1, 25))"
   ]
  },
  {
   "cell_type": "code",
   "execution_count": 19,
   "metadata": {},
   "outputs": [
    {
     "name": "stdout",
     "output_type": "stream",
     "text": [
      "916988169.5363449\n",
      "0.03622697090911682\n"
     ]
    }
   ],
   "source": [
    "def recurback(alfa,n):\n",
    "    if n == 0:\n",
    "        return  math.log(1 + alfa) - math.log(alfa) \n",
    "    I = 1/n - alfa*recurback(alfa,n-1)\n",
    "    return I\n",
    "print(recurback(10,25))\n",
    "print(recurback(0.1, 25))"
   ]
  }
 ],
 "metadata": {
  "kernelspec": {
   "display_name": "Python 3",
   "language": "python",
   "name": "python3"
  },
  "language_info": {
   "codemirror_mode": {
    "name": "ipython",
    "version": 3
   },
   "file_extension": ".py",
   "mimetype": "text/x-python",
   "name": "python",
   "nbconvert_exporter": "python",
   "pygments_lexer": "ipython3",
   "version": "3.7.3"
  }
 },
 "nbformat": 4,
 "nbformat_minor": 2
}
