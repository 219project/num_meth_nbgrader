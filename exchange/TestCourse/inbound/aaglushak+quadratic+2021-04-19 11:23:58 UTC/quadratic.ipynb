{
  "nbformat": 4,
  "nbformat_minor": 0,
  "metadata": {
    "kernelspec": {
      "display_name": "Python 3",
      "language": "python",
      "name": "python3"
    },
    "language_info": {
      "codemirror_mode": {
        "name": "ipython",
        "version": 3
      },
      "file_extension": ".py",
      "mimetype": "text/x-python",
      "name": "python",
      "nbconvert_exporter": "python",
      "pygments_lexer": "ipython3",
      "version": "3.8.5"
    },
    "colab": {
      "name": "Копия блокнота \"quadratic.ipynb\"",
      "provenance": [],
      "collapsed_sections": []
    }
  },
  "cells": [
    {
      "cell_type": "markdown",
      "metadata": {
        "id": "ifxLRWGzXxH8"
      },
      "source": [
        "Before you turn this problem in, make sure everything runs as expected. First, **restart the kernel** (in the menubar, select Kernel$\\rightarrow$Restart) and then **run all cells** (in the menubar, select Cell$\\rightarrow$Run All).\n",
        "\n",
        "Make sure you fill in any place that says `YOUR CODE HERE` or \"YOUR ANSWER HERE\", as well as your name and collaborators below:"
      ]
    },
    {
      "cell_type": "code",
      "metadata": {
        "id": "7Wv2p7n5XxH-"
      },
      "source": [
        "NAME = \"Glushak Artem\"\n",
        "COLLABORATORS = \"\""
      ],
      "execution_count": null,
      "outputs": []
    },
    {
      "cell_type": "markdown",
      "metadata": {
        "id": "L_8krHbOXxH-"
      },
      "source": [
        "---"
      ]
    },
    {
      "cell_type": "markdown",
      "metadata": {
        "deletable": false,
        "editable": false,
        "nbgrader": {
          "cell_type": "markdown",
          "checksum": "74073e87d382d0355e85faeba52e8453",
          "grade": false,
          "grade_id": "cell-eb39a9ff603592f6",
          "locked": true,
          "schema_version": 3,
          "solution": false
        },
        "id": "bVTIAc57XxH_"
      },
      "source": [
        "Write a function which solves a quadratic equation, $x^2 + b x + c = 0$. Your function must receive two values for coefficients and return two real or complex roots. Always return two roots, even if the equation has a single double root. "
      ]
    },
    {
      "cell_type": "code",
      "metadata": {
        "deletable": false,
        "nbgrader": {
          "cell_type": "code",
          "checksum": "60c2d35c9cce948edb2dca582d5f63b5",
          "grade": false,
          "grade_id": "cell-2032efc64a327acc",
          "locked": false,
          "schema_version": 3,
          "solution": true
        },
        "id": "8Lc4VQuJXxH_"
      },
      "source": [
        "from math import sqrt\n",
        "from cmath import sqrt as c_sqrt\n",
        "\n",
        "def solve_quad(b, c):\n",
        "    ''' Parameters\n",
        "    ----------\n",
        "    b, c : float\n",
        "       Coefficients\n",
        "       \n",
        "    Returns\n",
        "    -------\n",
        "    x1, x2 : float or complex\n",
        "        Roots.\n",
        "    '''\n",
        "    if b == 0 and c == 0:\n",
        "      return 0,0\n",
        "    discr = b ** 2 - 4 * c #discriminant\n",
        "    if b >= 0 : #catch extremal parameters\n",
        "      x2 = -2 * c / (c_sqrt(discr) + b)\n",
        "      x1 = (-b - c_sqrt(discr)) / 2\n",
        "    elif b<0 : #extremal case\n",
        "      x1 = 2 * c / (c_sqrt(discr) - b)\n",
        "      x2 = (-b + c_sqrt(discr)) / 2\n",
        "    return x1, x2\n"
      ],
      "execution_count": 9,
      "outputs": []
    },
    {
      "cell_type": "code",
      "metadata": {
        "id": "CBiAxN3oa4z2",
        "colab": {
          "base_uri": "https://localhost:8080/"
        },
        "outputId": "11c1087e-bae6-424f-c840-edccb4995534"
      },
      "source": [
        "x1, x2 = solve_quad(1e10, 1e10)\r\n",
        "print (x1,x2)"
      ],
      "execution_count": null,
      "outputs": [
        {
          "output_type": "stream",
          "text": [
            "(-9999999999+0j) (-1.0000000001+0j)\n"
          ],
          "name": "stdout"
        }
      ]
    },
    {
      "cell_type": "code",
      "metadata": {
        "id": "evoPWdcebPvZ",
        "colab": {
          "base_uri": "https://localhost:8080/"
        },
        "outputId": "ba9be3d1-0c5b-4a2b-83e3-173e76a42581"
      },
      "source": [
        "x1, x2 = solve_quad(0, 0)\r\n",
        "print (x1,x2)"
      ],
      "execution_count": 10,
      "outputs": [
        {
          "output_type": "stream",
          "text": [
            "0 0\n"
          ],
          "name": "stdout"
        }
      ]
    },
    {
      "cell_type": "code",
      "metadata": {
        "deletable": false,
        "editable": false,
        "nbgrader": {
          "cell_type": "code",
          "checksum": "cba52b9e7e77f925b1f2fb3334a99b92",
          "grade": true,
          "grade_id": "cell-89cf7badb387b0e0",
          "locked": true,
          "points": 5,
          "schema_version": 3,
          "solution": false
        },
        "id": "FrbdcAgMXxIA"
      },
      "source": [
        "#\n",
        "# Your implementation should pass tests in this cell.\n",
        "#\n",
        "# Do not remove or alter this cell. You may run it, but do not remove or alter it.\n",
        "# Your changes to this cell will be ignored on grading.\n",
        "# There will be additional tests.\n",
        "#\n",
        "from numpy.testing import assert_allclose\n",
        "\n",
        "variants = [{'b': 4.0, 'c': 3.0},\n",
        "            {'b': 2.0, 'c': 1.0},\n",
        "            {'b': 0.5, 'c': 4.0},\n",
        "            {'b': 1e10, 'c': 3.0},\n",
        "           ]\n",
        "\n",
        "for var in variants:\n",
        "    x1, x2 = solve_quad(**var)\n",
        "    assert_allclose(x1*x2, var['c'], rtol=1e-15)"
      ],
      "execution_count": 11,
      "outputs": []
    },
    {
      "cell_type": "code",
      "metadata": {
        "deletable": false,
        "editable": false,
        "nbgrader": {
          "cell_type": "code",
          "checksum": "5b5fc0da6dc8c015736ff9e557a54fd9",
          "grade": true,
          "grade_id": "cell-0970e4298cb77486",
          "locked": true,
          "points": 5,
          "schema_version": 3,
          "solution": false,
          "task": false
        },
        "id": "vjdaDXu4XxIA",
        "colab": {
          "base_uri": "https://localhost:8080/"
        },
        "outputId": "465b5fd9-46fe-449c-e2ec-7e0c8b00fb18"
      },
      "source": [
        "for var in variants:\r\n",
        "    x1, x2 = solve_quad(**var)\r\n",
        "    print(assert_allclose(x1*x2, var['c'], rtol=1e-15))"
      ],
      "execution_count": 12,
      "outputs": [
        {
          "output_type": "stream",
          "text": [
            "None\n",
            "None\n",
            "None\n",
            "None\n"
          ],
          "name": "stdout"
        }
      ]
    }
  ]
}