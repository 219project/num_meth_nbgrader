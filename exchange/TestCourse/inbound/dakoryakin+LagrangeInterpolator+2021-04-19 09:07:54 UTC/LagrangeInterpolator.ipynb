{
 "cells": [
  {
   "cell_type": "markdown",
   "metadata": {},
   "source": [
    "Before you turn this problem in, make sure everything runs as expected. First, **restart the kernel** (in the menubar, select Kernel$\\rightarrow$Restart) and then **run all cells** (in the menubar, select Cell$\\rightarrow$Run All).\n",
    "\n",
    "Make sure you fill in any place that says `YOUR CODE HERE` or \"YOUR ANSWER HERE\", as well as your name and collaborators below:"
   ]
  },
  {
   "cell_type": "code",
   "execution_count": 6,
   "metadata": {},
   "outputs": [],
   "source": [
    "NAME = \"\"\n",
    "COLLABORATORS = \"\""
   ]
  },
  {
   "cell_type": "markdown",
   "metadata": {},
   "source": [
    "---"
   ]
  },
  {
   "cell_type": "markdown",
   "metadata": {
    "deletable": false,
    "editable": false,
    "nbgrader": {
     "cell_type": "markdown",
     "checksum": "233c53446ef795debdf3179ead9a728a",
     "grade": false,
     "grade_id": "cell-af0193379161e7dd",
     "locked": true,
     "schema_version": 3,
     "solution": false,
     "task": false
    }
   },
   "source": [
    "# Интерполяция при помощи полиномов Лагранжа."
   ]
  },
  {
   "cell_type": "code",
   "execution_count": 11,
   "metadata": {
    "deletable": false,
    "nbgrader": {
     "cell_type": "code",
     "checksum": "c209243c82df3a0862e2b45a6e133bbc",
     "grade": false,
     "grade_id": "cell-d459dee4d09527c4",
     "locked": false,
     "schema_version": 3,
     "solution": true,
     "task": false
    }
   },
   "outputs": [],
   "source": [
    "import numpy as np\n",
    "\n",
    "class LagrangeInterpolator:\n",
    "    \"\"\"Lagrange interpolating polynomial.\n",
    "    \n",
    "    Given a set of pairs ``(x_k, y_k)``, construct \n",
    "    a Lagrange polynomial ``f(x)``, such that\n",
    "    \n",
    "    .. math::\n",
    "\n",
    "        f(x_k) = y_k   for k =0, ..., n-1\n",
    "    \n",
    "    Parameters\n",
    "    ----------\n",
    "    xk : array_like, shape(n,)\n",
    "        Abscissas\n",
    "    yk : array_like, shape(n,)\n",
    "        Ordinates\n",
    "    \n",
    "    Attributes\n",
    "    ----------\n",
    "    __call__\n",
    "    \n",
    "    \"\"\"\n",
    "    def __init__(self, xk, yk):\n",
    "        self.xk = np.asarray(xk, dtype=float)\n",
    "        self.yk = np.asarray(yk, dtype=float)\n",
    "        \n",
    "    def __call__(self, x):\n",
    "        \"\"\"Evaluate the interpolator at a given point.\n",
    "        \n",
    "        Parameters\n",
    "        ----------\n",
    "        x : float\n",
    "        \n",
    "        Returns\n",
    "        -------\n",
    "        the value of the interpolator at ``x``.\n",
    "        \"\"\"\n",
    "        # YOUR CODE HERE\n",
    "        # yk — имеем\n",
    "        # lk — посчитаем\n",
    "        m = len(self.xk)\n",
    "        X = self.xk\n",
    "        Y = self.yk\n",
    "        L = []\n",
    "\n",
    "        for k in range(m):\n",
    "            lk = 1\n",
    "            for j in range(m):\n",
    "                if j == k: continue\n",
    "                \n",
    "                lk *= (x - X[j]) / (X[k] - X[j])\n",
    "            \n",
    "            L.append(lk)\n",
    "        L = np.array(L)\n",
    "        \n",
    "        return np.dot(L, Y)\n",
    "        \n",
    "        raise NotImplementedError()"
   ]
  },
  {
   "cell_type": "code",
   "execution_count": 30,
   "metadata": {
    "deletable": false,
    "editable": false,
    "nbgrader": {
     "cell_type": "code",
     "checksum": "bcea1ecba91d3cd6618b2556506016de",
     "grade": true,
     "grade_id": "cell-02e34e05d317dfb2",
     "locked": true,
     "points": 5,
     "schema_version": 3,
     "solution": false,
     "task": false
    }
   },
   "outputs": [],
   "source": [
    "def runge_func(x, a=25):\n",
    "    return 1.0 / (1.0 + a*x**2)\n",
    "\n",
    "xx = np.linspace(-2, 2, 21)\n",
    "yy = runge_func(xx)\n",
    "\n",
    "lagr = LagrangeInterpolator(xx, yy)\n",
    "\n",
    "from numpy.testing import assert_allclose\n",
    "\n",
    "assert_allclose(yy,\n",
    "                [lagr(xval) for xval in xx],\n",
    "                atol=1e-14)"
   ]
  },
  {
   "cell_type": "markdown",
   "metadata": {
    "deletable": false,
    "editable": false,
    "nbgrader": {
     "cell_type": "markdown",
     "checksum": "e7c0d15903d4b1cd34c0580a8b6b37c0",
     "grade": false,
     "grade_id": "cell-7017c4fddb92f038",
     "locked": true,
     "points": 5,
     "schema_version": 3,
     "solution": false,
     "task": true
    }
   },
   "source": [
    "Рассмотрим функцию Рунге $1/(1 + 25x^2)$. Интерполируйте данную функцию на интервале $x\\in [-2, 2]$, используя полиномы Лагранжа степени $m$, где $m=3, 5, 7, 11$. Используйте равномерную сетку. Постройте результат интерполяции вместе с $f(x)$.\n",
    "\n",
    "Повторите предыдущее задание используя узлы Чебышева. Сравните качество интерполяции на равномерной сетке и на узлах Чебышева.\n"
   ]
  },
  {
   "cell_type": "code",
   "execution_count": 13,
   "metadata": {},
   "outputs": [],
   "source": [
    "# YOUR CODE AND COMMENTS HERE (5 pts, manually graded)"
   ]
  },
  {
   "cell_type": "code",
   "execution_count": 15,
   "metadata": {},
   "outputs": [],
   "source": [
    "from matplotlib import pyplot as plt"
   ]
  },
  {
   "cell_type": "code",
   "execution_count": 79,
   "metadata": {},
   "outputs": [],
   "source": [
    "M = [3, 5, 7, 11]"
   ]
  },
  {
   "cell_type": "code",
   "execution_count": 87,
   "metadata": {},
   "outputs": [],
   "source": [
    "runge_interpolators = []\n",
    "\n",
    "for m in M:\n",
    "    X = np.linspace(-2, 2, m)\n",
    "    Y = runge_func(X)\n",
    "    interpolator = LagrangeInterpolator(X, Y)\n",
    "    runge_interpolators.append(interpolator)"
   ]
  },
  {
   "cell_type": "code",
   "execution_count": 88,
   "metadata": {},
   "outputs": [
    {
     "data": {
      "text/plain": [
       "<matplotlib.legend.Legend at 0x7fc7c2be0ee0>"
      ]
     },
     "execution_count": 88,
     "metadata": {},
     "output_type": "execute_result"
    },
    {
     "data": {
      "image/png": "[encoded data removed]",
      "text/plain": [
       "<Figure size 432x288 with 1 Axes>"
      ]
     },
     "metadata": {
      "needs_background": "light"
     },
     "output_type": "display_data"
    }
   ],
   "source": [
    "X = np.linspace(-2, 2, 200)\n",
    "plt.plot(X, runge_func(X), label = 'f(x)')\n",
    "\n",
    "i = 0\n",
    "for interpolator in runge_interpolators:\n",
    "    plt.plot(X, [interpolator(x) for x in X], label=f'Многочлен {M[i]} степени')\n",
    "    i += 1\n",
    "plt.legend()"
   ]
  },
  {
   "cell_type": "code",
   "execution_count": 89,
   "metadata": {},
   "outputs": [],
   "source": [
    "def get_chebyshev_nodes(a, b, n):\n",
    "    x = np.zeros(n)\n",
    "    for k in range(n):\n",
    "        x[k] = 1/2*(a + b) + 1/2*(b - a)*np.cos(np.pi*2*k/(2 * n))\n",
    "    return x"
   ]
  },
  {
   "cell_type": "code",
   "execution_count": 90,
   "metadata": {},
   "outputs": [],
   "source": [
    "runge_interpolators = []\n",
    "\n",
    "for m in M:\n",
    "    X = get_chebyshev_nodes(-2, 2, m)\n",
    "    Y = runge_func(X)\n",
    "    interpolator = LagrangeInterpolator(X, Y)\n",
    "    runge_interpolators.append(interpolator)"
   ]
  },
  {
   "cell_type": "code",
   "execution_count": 91,
   "metadata": {},
   "outputs": [
    {
     "data": {
      "text/plain": [
       "<matplotlib.legend.Legend at 0x7fc7c202cd60>"
      ]
     },
     "execution_count": 91,
     "metadata": {},
     "output_type": "execute_result"
    },
    {
     "data": {
      "image/png": "[encoded data removed]",
      "text/plain": [
       "<Figure size 432x288 with 1 Axes>"
      ]
     },
     "metadata": {
      "needs_background": "light"
     },
     "output_type": "display_data"
    }
   ],
   "source": [
    "X = np.linspace(-2, 2, 200)\n",
    "plt.plot(X, runge_func(X))\n",
    "\n",
    "i = 0\n",
    "for interpolator in runge_interpolators:\n",
    "    plt.plot(X, [interpolator(x) for x in X], label=f'Многочлен {M[i]} степени')\n",
    "    i += 1\n",
    "plt.legend()"
   ]
  },
  {
   "cell_type": "markdown",
   "metadata": {},
   "source": [
    "Видим сильное улучшение качества при интерполяции в узлах Чебышева по сравнению с равномерной сеткой"
   ]
  }
 ],
 "metadata": {
  "kernelspec": {
   "display_name": "Python 3",
   "language": "python",
   "name": "python3"
  },
  "language_info": {
   "codemirror_mode": {
    "name": "ipython",
    "version": 3
   },
   "file_extension": ".py",
   "mimetype": "text/x-python",
   "name": "python",
   "nbconvert_exporter": "python",
   "pygments_lexer": "ipython3",
   "version": "3.9.1"
  }
 },
 "nbformat": 4,
 "nbformat_minor": 4
}
