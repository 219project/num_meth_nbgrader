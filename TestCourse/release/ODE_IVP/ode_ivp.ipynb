{
 "cells": [
  {
   "cell_type": "markdown",
   "metadata": {},
   "source": [
    "Before you turn this problem in, make sure everything runs as expected. First, **restart the kernel** (in the menubar, select Kernel$\\rightarrow$Restart) and then **run all cells** (in the menubar, select Cell$\\rightarrow$Run All).\n",
    "\n",
    "Make sure you fill in any place that says `YOUR CODE HERE` or \"YOUR ANSWER HERE\", as well as your name and collaborators below:"
   ]
  },
  {
   "cell_type": "code",
   "execution_count": null,
   "metadata": {},
   "outputs": [],
   "source": [
    "NAME = \"\"\n",
    "COLLABORATORS = \"\""
   ]
  },
  {
   "cell_type": "markdown",
   "metadata": {},
   "source": [
    "---"
   ]
  },
  {
   "cell_type": "markdown",
   "metadata": {
    "deletable": false,
    "editable": false,
    "nbgrader": {
     "cell_type": "markdown",
     "checksum": "6efb33090fabfc6a1f2cd087e5c642f7",
     "grade": false,
     "grade_id": "cell-9b523965d40334d3",
     "locked": true,
     "schema_version": 3,
     "solution": false,
     "task": false
    }
   },
   "source": [
    "# Задача Коши для ОДУ"
   ]
  },
  {
   "cell_type": "markdown",
   "metadata": {
    "deletable": false,
    "editable": false,
    "nbgrader": {
     "cell_type": "markdown",
     "checksum": "e46f70ffb5941b3311b63870881fb8fe",
     "grade": false,
     "grade_id": "cell-a23d606ae810688a",
     "locked": true,
     "schema_version": 3,
     "solution": false,
     "task": false
    }
   },
   "source": [
    "# I. Метод Эйлера для ОДУ первого порядка.\n",
    "\n",
    "Рассмотрим уравнение первого порядка\n",
    "\n",
    "$$\n",
    "\\frac{d u}{d t} = \\lambda u\n",
    "$$\n",
    "\n",
    "С начальным условием $u(t=0) = u_0$.\n",
    "\n",
    "\n",
    "### I.I. Явный метод Эйлера."
   ]
  },
  {
   "cell_type": "code",
   "execution_count": null,
   "metadata": {
    "deletable": false,
    "editable": false,
    "nbgrader": {
     "cell_type": "code",
     "checksum": "b3e4a6211d06b314baa2579de1607205",
     "grade": false,
     "grade_id": "cell-275adf71ea9912f4",
     "locked": true,
     "schema_version": 3,
     "solution": false,
     "task": false
    }
   },
   "outputs": [],
   "source": [
    "import numpy as np\n",
    "import matplotlib.pyplot as plt"
   ]
  },
  {
   "cell_type": "code",
   "execution_count": null,
   "metadata": {
    "deletable": false,
    "editable": false,
    "nbgrader": {
     "cell_type": "code",
     "checksum": "e1d45e9a7a3a504a784ecd4c0e9d90ad",
     "grade": false,
     "grade_id": "cell-489aa147b6c22003",
     "locked": true,
     "schema_version": 3,
     "solution": false,
     "task": false
    }
   },
   "outputs": [],
   "source": [
    "def euler_solve(lam, u0, T, dt):\n",
    "    \"\"\"Решает $du/dt = \\lambda u$ на $0 < t < T$ с $u(t=0) = u0$ при помощи явного метода Эйлера.\"\"\"\n",
    "    num_steps = int(T/dt)\n",
    "    tt = np.arange(num_steps+1)*dt\n",
    "    y = np.empty(num_steps+1)\n",
    "    y[0] = u0\n",
    "    for k in range(num_steps):\n",
    "        y[k+1] = y[k] + dt*lam*y[k]\n",
    "    return tt, y"
   ]
  },
  {
   "cell_type": "code",
   "execution_count": null,
   "metadata": {
    "deletable": false,
    "editable": false,
    "nbgrader": {
     "cell_type": "code",
     "checksum": "3f4ac9179aeafd966b55cf34e9feaf5a",
     "grade": false,
     "grade_id": "cell-f544e90b58d49628",
     "locked": true,
     "schema_version": 3,
     "solution": false,
     "task": false
    }
   },
   "outputs": [],
   "source": [
    "lam = -0.5\n",
    "tt, y = euler_solve(lam, u0=1.0, T=5, dt=0.1/abs(lam))\n",
    "plt.plot(tt, y, 'o--', label='numeric solution')\n",
    "plt.plot(tt, np.exp(lam*tt), '-', lw=2, label='ground truth')\n",
    "plt.legend(loc='best')\n",
    "plt.grid(True)"
   ]
  },
  {
   "cell_type": "markdown",
   "metadata": {
    "deletable": false,
    "editable": false,
    "nbgrader": {
     "cell_type": "markdown",
     "checksum": "e2013ac761a56bb0a3b8ac058b5eb0e8",
     "grade": false,
     "grade_id": "cell-280070433659bcea",
     "locked": true,
     "schema_version": 3,
     "solution": false,
     "task": false
    }
   },
   "source": [
    "Теперь попробуем задать значение шага $\\tau$ (в коде это `dt`) такое, что $|\\lambda| \\tau > 1$."
   ]
  },
  {
   "cell_type": "code",
   "execution_count": null,
   "metadata": {
    "deletable": false,
    "editable": false,
    "nbgrader": {
     "cell_type": "code",
     "checksum": "bdfe2833ec47c75cb0d3aab02790abf1",
     "grade": false,
     "grade_id": "cell-a4b2a8664c051974",
     "locked": true,
     "schema_version": 3,
     "solution": false,
     "task": false
    }
   },
   "outputs": [],
   "source": [
    "lam = -0.5\n",
    "tt, y = euler_solve(lam, u0=1.0, T=12/abs(lam), dt=2.1/abs(lam))\n",
    "plt.plot(tt, y, 'o--', label='numeric solution')\n",
    "plt.plot(tt, np.exp(lam*tt), '-', lw=2, label='ground truth')\n",
    "plt.legend(loc='best')\n",
    "plt.grid(True)"
   ]
  },
  {
   "cell_type": "markdown",
   "metadata": {
    "deletable": false,
    "editable": false,
    "nbgrader": {
     "cell_type": "markdown",
     "checksum": "f8b21c4b7d52c6433256b0b74698b1b2",
     "grade": false,
     "grade_id": "cell-5ae1205a7f778578",
     "locked": true,
     "schema_version": 3,
     "solution": false,
     "task": false
    }
   },
   "source": [
    "### I.II Неявный метод Эйлера.\n",
    "\n",
    "Напишите функцию решения того же самого уравнения $du/dt = \\lambda u$ используя неявную схему Эйлера. Постройте решение для нескольких значений шага интегрирования, обсудите поведение решения при $\\lambda\\tau > 2$."
   ]
  },
  {
   "cell_type": "code",
   "execution_count": null,
   "metadata": {
    "deletable": false,
    "nbgrader": {
     "cell_type": "code",
     "checksum": "4d91b545ed1aed0f49f1193f8ed8067e",
     "grade": false,
     "grade_id": "cell-c0b39ab300b9ba9e",
     "locked": false,
     "schema_version": 3,
     "solution": true,
     "task": false
    }
   },
   "outputs": [],
   "source": [
    "def implicit_euler_solve(lam, u0, T, dt):\n",
    "    \"\"\"Решает $du/dt = \\lambda u$ на $0 < t < T$ с $u(t=0) = u0$ при помощи неявного метода Эйлера.\"\"\"\n",
    "    num_steps = int(T/dt)\n",
    "    tt = np.arange(num_steps+1)*dt\n",
    "    # YOUR CODE HERE\n",
    "    raise NotImplementedError()"
   ]
  },
  {
   "cell_type": "code",
   "execution_count": null,
   "metadata": {
    "deletable": false,
    "editable": false,
    "nbgrader": {
     "cell_type": "code",
     "checksum": "8177b8398b19bf7680e87360e75317ea",
     "grade": false,
     "grade_id": "cell-3de18d0720bf799b",
     "locked": true,
     "schema_version": 3,
     "solution": false,
     "task": false
    }
   },
   "outputs": [],
   "source": [
    "# Plot your solution. Vary the step size, discuss the behavior of the solution for $\\lambda\\tau > 2$. \n",
    "\n",
    "lam = -0.5\n",
    "tt, y = implicit_euler_solve(lam, u0=1.0, T=8/abs(lam), dt=2.1/abs(lam))\n",
    "plt.plot(tt, y, 'o--', label='numeric solution')\n",
    "plt.plot(tt, np.exp(lam*tt), '-', lw=2, label='ground truth')\n",
    "plt.legend(loc='best')\n",
    "plt.grid(True)"
   ]
  },
  {
   "cell_type": "code",
   "execution_count": null,
   "metadata": {},
   "outputs": [],
   "source": [
    "# Add your experiments and discussion here."
   ]
  },
  {
   "cell_type": "code",
   "execution_count": null,
   "metadata": {
    "deletable": false,
    "editable": false,
    "nbgrader": {
     "cell_type": "code",
     "checksum": "d76eaccfe18b6c2fc3b5db7f35d08d38",
     "grade": true,
     "grade_id": "cell-9126a4597c6ed95a",
     "locked": true,
     "points": 5,
     "schema_version": 3,
     "solution": false,
     "task": false
    }
   },
   "outputs": [],
   "source": [
    "lam = -0.5\n",
    "tt, y = implicit_euler_solve(lam, u0=1.0, T=8/abs(lam), dt=2.1/abs(lam))\n",
    "\n",
    "assert (y > 0).all()\n"
   ]
  },
  {
   "cell_type": "markdown",
   "metadata": {
    "deletable": false,
    "editable": false,
    "nbgrader": {
     "cell_type": "markdown",
     "checksum": "e44aa4b10f2111e0620f93ad869b98eb",
     "grade": false,
     "grade_id": "cell-a1337f0a879c5260",
     "locked": true,
     "schema_version": 3,
     "solution": false,
     "task": false
    }
   },
   "source": [
    "## II. Системы линейных уравнений"
   ]
  },
  {
   "cell_type": "markdown",
   "metadata": {
    "deletable": false,
    "editable": false,
    "nbgrader": {
     "cell_type": "markdown",
     "checksum": "a8f61353cf70b80bb68dd39984b61b88",
     "grade": false,
     "grade_id": "cell-8d6421cfcbcc65e7",
     "locked": true,
     "schema_version": 3,
     "solution": false,
     "task": false
    }
   },
   "source": [
    "Рассмотрим систему двух уравнений первого порядка.\n",
    "\n",
    "$$\n",
    "\\frac{d \\mathbf{u} }{d t} = A \\mathbf{u}\n",
    "$$\n",
    "\n",
    "где $\\mathbf{u}$ есть вектор длины 2, $A = \\mathrm{const}$ - заданная матрица 2$\\times$2.\n",
    "\n",
    "Выполните обобщение алгоритма `euler_solve` для решения систем линейных уравнений первого порядка с матрицей $A$, не зависящей от времени, используя явную схему Эйлера."
   ]
  },
  {
   "cell_type": "code",
   "execution_count": null,
   "metadata": {
    "deletable": false,
    "nbgrader": {
     "cell_type": "code",
     "checksum": "b9da22bea2b0560c02d2c9e5b65e1f94",
     "grade": false,
     "grade_id": "cell-434639a2772a1867",
     "locked": false,
     "schema_version": 3,
     "solution": true,
     "task": false
    }
   },
   "outputs": [],
   "source": [
    "def euler_solve2(a, u0, T, dt):\n",
    "    \"\"\"Solve the system du/dt = Au via an explicit Euler scheme.\n",
    "    \n",
    "    Parameters\n",
    "    ----------\n",
    "    a : ndarray, shape(ndim, ndim)\n",
    "        The matrix of the l.h.s.\n",
    "    u0 : ndarray, shape(ndim,)\n",
    "        Initial condition\n",
    "    T : float\n",
    "        construct the solution for $t\\in [0, T)$\n",
    "    dt : float\n",
    "        Integration step size $\\tau$\n",
    "        \n",
    "    Returns\n",
    "    -------\n",
    "    t : ndarray, shape (n,)\n",
    "        Integration times\n",
    "    y : ndarray, shape (n, ndim)\n",
    "        Solution of the FD system. \n",
    "        y[k, :] is the solution at t[k].\n",
    "    \"\"\"\n",
    "    a = np.asarray(a, dtype=float)\n",
    "    u0 = np.asarray(u0, dtype=float)\n",
    "    num_steps = int(T/dt)\n",
    "    tt = np.arange(num_steps+1)*dt\n",
    "    ndim = a.shape[0]\n",
    "    # YOUR CODE HERE\n",
    "    raise NotImplementedError()"
   ]
  },
  {
   "cell_type": "markdown",
   "metadata": {
    "deletable": false,
    "editable": false,
    "nbgrader": {
     "cell_type": "markdown",
     "checksum": "1b7fdc73d9c5392d93929b6fe9407a19",
     "grade": false,
     "grade_id": "cell-a32b568a7b9bd426",
     "locked": true,
     "schema_version": 3,
     "solution": false,
     "task": false
    }
   },
   "source": [
    "Напишите функцию, возвращающую решение задачи Коши для системы уравнений $du/dt = A u$ с постоянной матрицей $A$ через матричную экспоненту. (Используйте библиотечную функцию `scipy.linalg.expm`)"
   ]
  },
  {
   "cell_type": "code",
   "execution_count": null,
   "metadata": {
    "deletable": false,
    "nbgrader": {
     "cell_type": "code",
     "checksum": "d9c8f15205dd8a918a22068a3d2af050",
     "grade": false,
     "grade_id": "cell-9f74c774b637d6b1",
     "locked": false,
     "schema_version": 3,
     "solution": true,
     "task": false
    }
   },
   "outputs": [],
   "source": [
    "from scipy.linalg import expm\n",
    "\n",
    "def mat_exp_solve(a, u0, tt):\n",
    "    \"\"\"Construct the solution of $du/dt = A u$ with $u(t=0) = u_0$ at times `tt`.\n",
    "    \n",
    "    Parameters\n",
    "    ----------\n",
    "    a : ndarray, shape (ndim, ndim)\n",
    "    \n",
    "    u0 : ndarray, shape (ndim,)\n",
    "    \n",
    "    tt : ndarray, shape (n,)\n",
    "        The values of $t$\n",
    "        \n",
    "    Return\n",
    "    ------\n",
    "    u : ndarray, shape (n, ndim)\n",
    "        u[:, k] is $\\exp(t[k] A)$\n",
    "    \"\"\"\n",
    "    # YOUR CODE HERE\n",
    "    raise NotImplementedError()"
   ]
  },
  {
   "cell_type": "code",
   "execution_count": null,
   "metadata": {
    "deletable": false,
    "editable": false,
    "nbgrader": {
     "cell_type": "code",
     "checksum": "470487b761abdbf342fc4b4a2854df64",
     "grade": false,
     "grade_id": "cell-fd07d545ad301ab9",
     "locked": true,
     "schema_version": 3,
     "solution": false,
     "task": false
    }
   },
   "outputs": [],
   "source": [
    "# Solve via Euler's method, compare to the matrix exponential\n",
    "\n",
    "from scipy.linalg import expm\n",
    "\n",
    "a = np.array([[-1, 1],\n",
    "              [0, -1]], dtype=float)\n",
    "t, y  = euler_solve2(a, u0=[1, 1], T=3, dt=0.1)\n",
    "ym = mat_exp_solve(a, [1, 1], t)\n",
    "\n",
    "plt.plot(t, y[:, 0], 'o', label='0, Euler')\n",
    "plt.plot(t, ym[:, 0], '-', label='0, expm')\n",
    "\n",
    "plt.plot(t, y[:, 1], 's', label='1, Euler')\n",
    "plt.plot(t, ym[:, 1], '-', label='1, expm')\n",
    "\n",
    "plt.legend(loc='best')\n",
    "plt.grid(True)"
   ]
  },
  {
   "cell_type": "code",
   "execution_count": null,
   "metadata": {
    "deletable": false,
    "editable": false,
    "nbgrader": {
     "cell_type": "code",
     "checksum": "3e3665232eb2dfc917c7a598b10102c8",
     "grade": true,
     "grade_id": "cell-d987d6a24bb043dc",
     "locked": true,
     "points": 5,
     "schema_version": 3,
     "solution": false,
     "task": false
    }
   },
   "outputs": [],
   "source": [
    "# This cell is a test to compare your Euler method solution to the matrix exponential\n",
    "\n",
    "a = np.array([[-1, 1],\n",
    "              [0, -1]], dtype=float)\n"
   ]
  },
  {
   "cell_type": "markdown",
   "metadata": {
    "deletable": false,
    "editable": false,
    "nbgrader": {
     "cell_type": "markdown",
     "checksum": "d5d91bd6aadf71e047afef3e129f9b22",
     "grade": false,
     "grade_id": "cell-19ab81ee9161f6c5",
     "locked": true,
     "schema_version": 3,
     "solution": false,
     "task": false
    }
   },
   "source": [
    "## II.2 Жесткие системы\n",
    "\n",
    "Рассмотрим линейную систему, $du/dt = Au$, с матрицей правой части \n",
    "$$\n",
    "A = \\begin{bmatrix} -10 & 10 \\\\ 32 & -499 \\end{bmatrix}\n",
    "$$\n",
    "\n",
    "с начальным условием $u = (1, 0)^T$."
   ]
  },
  {
   "cell_type": "markdown",
   "metadata": {
    "deletable": false,
    "editable": false,
    "nbgrader": {
     "cell_type": "markdown",
     "checksum": "53fac0c44910edae0858f34211cbaa06",
     "grade": false,
     "grade_id": "cell-ee45ceceb9547e65",
     "locked": true,
     "points": 2,
     "schema_version": 3,
     "solution": false,
     "task": true
    }
   },
   "source": [
    "Найдите собственные значения матрицы $A$ (используя `np.linalg.eigvals`) и прокомментируйте, является ли система жесткой.\n",
    "\n",
    "(2 балла)"
   ]
  },
  {
   "cell_type": "code",
   "execution_count": null,
   "metadata": {
    "deletable": false,
    "nbgrader": {
     "cell_type": "code",
     "checksum": "d99eff1408666071c1037e4c7b808944",
     "grade": true,
     "grade_id": "cell-e19423f8c0f9cb28",
     "locked": false,
     "points": 0,
     "schema_version": 3,
     "solution": true,
     "task": false
    }
   },
   "outputs": [],
   "source": [
    "# YOUR CODE HERE\n",
    "raise NotImplementedError()"
   ]
  },
  {
   "cell_type": "markdown",
   "metadata": {
    "deletable": false,
    "editable": false,
    "nbgrader": {
     "cell_type": "markdown",
     "checksum": "0fc2529145b738f2159158fd4020d485",
     "grade": false,
     "grade_id": "cell-94cde5760aab6d84",
     "locked": true,
     "points": 3,
     "schema_version": 3,
     "solution": false,
     "task": true
    }
   },
   "source": [
    "Постройте графики решения системы на интервале $0 < t < 1$ с начальным условием $u = (1, 0)^T$ используя функции `euler_solve2` и `mat_exp_solve`. Используйте несколько значений шага, например $\\tau = 4\\cdot 10^{-3}$ и $\\tau = 4.5\\cdot 10^{-3}$. Прокомментируйте поведение решений.\n",
    "\n",
    "(3 балла)\n",
    " "
   ]
  },
  {
   "cell_type": "code",
   "execution_count": null,
   "metadata": {
    "deletable": false,
    "nbgrader": {
     "cell_type": "code",
     "checksum": "6e090a7c03c59d999abd50ad8a346590",
     "grade": true,
     "grade_id": "cell-c807f4452ea7853a",
     "locked": false,
     "points": 0,
     "schema_version": 3,
     "solution": true,
     "task": false
    }
   },
   "outputs": [],
   "source": [
    "# YOUR CODE HERE\n",
    "raise NotImplementedError()"
   ]
  },
  {
   "cell_type": "markdown",
   "metadata": {
    "deletable": false,
    "editable": false,
    "nbgrader": {
     "cell_type": "markdown",
     "checksum": "e0982a3d997e9431b1859288247949a8",
     "grade": false,
     "grade_id": "cell-df4fb53cd32cb17f",
     "locked": true,
     "schema_version": 3,
     "solution": false,
     "task": false
    }
   },
   "source": [
    "## Неявный метод Эйлера II.3\n",
    "\n",
    "Реализуйте $\\textit{неявную}$ схему Эйлера для системы линейных уравнений первого порядка с постоянными коэффициентами. Заметьте, что на каждом шаге вам необходимо решать систему линйных алгебраических уравнений (используйте `np.linalg.solve`).\n",
    "\n",
    "Примените Вашу реализацию для уравнения из пункта II.2. Прокомментируйте результаты.\n",
    "(5 баллов)"
   ]
  },
  {
   "cell_type": "code",
   "execution_count": null,
   "metadata": {
    "deletable": false,
    "nbgrader": {
     "cell_type": "code",
     "checksum": "21f0f5ac02c8a8ad53b1b99857d0d3a5",
     "grade": true,
     "grade_id": "cell-924511124def49d2",
     "locked": false,
     "points": 5,
     "schema_version": 3,
     "solution": true,
     "task": false
    }
   },
   "outputs": [],
   "source": [
    "# YOUR CODE HERE\n",
    "raise NotImplementedError()"
   ]
  },
  {
   "cell_type": "markdown",
   "metadata": {
    "collapsed": true,
    "deletable": false,
    "editable": false,
    "nbgrader": {
     "cell_type": "markdown",
     "checksum": "7a936f9ca540b79153d8c951cf6e9676",
     "grade": false,
     "grade_id": "cell-58e8135483477269",
     "locked": true,
     "schema_version": 3,
     "solution": false,
     "task": false
    }
   },
   "source": [
    "# III. ОДУ второго порядка.\n",
    "\n",
    "Рассмотрим ОДУ второго порядка, описывающее осцилляции маятника\n",
    "\n",
    "$$\n",
    "\\frac{d^2 u}{dt^2} + \\omega^2 u = 0\n",
    "$$\n",
    "\n",
    "Преобразуйте данное уравнение второго порядка в систему ОДУ первого порядка.\n",
    "\n",
    "### Тест III.1 \n",
    "\n",
    "Решите данную систему уравнений, используя явную  схему Эйлера на интервале временине менее десяти периодов осцилляций. \n",
    "\n",
    "Мы знаем, что в отсутствии трения выполняется закон сохранения энергии:\n",
    "\n",
    "$$\n",
    "E = \\frac{(du/dt)^2}{2} + \\frac{\\omega^2 u^2}{2}\n",
    "$$\n",
    "\n",
    "Постройте зависимость $E$ от времени для вашего численного решения. Используйте несколько значений шага. Выполняется ли закон сохранения энергии?\n",
    "\n",
    "(5 баллов)"
   ]
  },
  {
   "cell_type": "code",
   "execution_count": null,
   "metadata": {
    "deletable": false,
    "nbgrader": {
     "cell_type": "code",
     "checksum": "3dac4fe917a4ee392f9e5b871362008a",
     "grade": true,
     "grade_id": "cell-1d935f818793fa57",
     "locked": false,
     "points": 5,
     "schema_version": 3,
     "solution": true,
     "task": false
    }
   },
   "outputs": [],
   "source": [
    "# YOUR CODE HERE\n",
    "raise NotImplementedError()"
   ]
  },
  {
   "cell_type": "markdown",
   "metadata": {
    "deletable": false,
    "editable": false,
    "nbgrader": {
     "cell_type": "markdown",
     "checksum": "c89c5b79901b091862e991bbd989face",
     "grade": false,
     "grade_id": "cell-c685dcce3b8efd52",
     "locked": true,
     "schema_version": 3,
     "solution": false,
     "task": false
    }
   },
   "source": [
    "### Тест III.2\n",
    "\n",
    "Реализуйте схему Рунге-Кутта второго порядка. Используте ее для решения того же уравнения с теми же значениями шага $\\tau$. Сравните решения, полученные методом Рунге-Кутта и методом Эйлера на одинаковых промежутках времени. Проверьте закон сохранения энергии. Обсудите.\n",
    "\n",
    "(5 баллов)"
   ]
  },
  {
   "cell_type": "code",
   "execution_count": null,
   "metadata": {
    "deletable": false,
    "nbgrader": {
     "cell_type": "code",
     "checksum": "4b3c541284aaf3828b5a8ff9c9bd91c9",
     "grade": true,
     "grade_id": "cell-fc2381a56a533f8f",
     "locked": false,
     "points": 5,
     "schema_version": 3,
     "solution": true,
     "task": false
    }
   },
   "outputs": [],
   "source": [
    "# YOUR CODE HERE\n",
    "raise NotImplementedError()"
   ]
  },
  {
   "cell_type": "markdown",
   "metadata": {
    "deletable": false,
    "editable": false,
    "nbgrader": {
     "cell_type": "markdown",
     "checksum": "61660de023fb8c01de0d37560219de5e",
     "grade": false,
     "grade_id": "cell-f5c28b799b829224",
     "locked": true,
     "points": 5,
     "schema_version": 3,
     "solution": false,
     "task": true
    }
   },
   "source": [
    "### Тест III.3\n",
    "\n",
    "Используте для решения того же уравнения библиотечную функцию `scipy.intergrate_solve_ivp`.\n",
    "Сравните результаты с решениями, полученными методомами Рунге-Кутта и Эйлера. Проверьте закон сохранения энергии. Обсудите.\n",
    "\n",
    "(5 баллов)"
   ]
  },
  {
   "cell_type": "code",
   "execution_count": null,
   "metadata": {},
   "outputs": [],
   "source": [
    "# ... ENTER YOUR CODE HERE ..."
   ]
  }
 ],
 "metadata": {
  "kernelspec": {
   "display_name": "Python 3",
   "language": "python",
   "name": "python3"
  },
  "language_info": {
   "codemirror_mode": {
    "name": "ipython",
    "version": 3
   },
   "file_extension": ".py",
   "mimetype": "text/x-python",
   "name": "python",
   "nbconvert_exporter": "python",
   "pygments_lexer": "ipython3",
   "version": "3.8.5"
  }
 },
 "nbformat": 4,
 "nbformat_minor": 2
}
