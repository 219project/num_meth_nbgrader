{
 "cells": [
  {
   "cell_type": "markdown",
   "metadata": {},
   "source": [
    "Before you turn this problem in, make sure everything runs as expected. First, **restart the kernel** (in the menubar, select Kernel$\\rightarrow$Restart) and then **run all cells** (in the menubar, select Cell$\\rightarrow$Run All).\n",
    "\n",
    "Make sure you fill in any place that says `YOUR CODE HERE` or \"YOUR ANSWER HERE\", as well as your name and collaborators below:"
   ]
  },
  {
   "cell_type": "code",
   "execution_count": null,
   "metadata": {},
   "outputs": [],
   "source": [
    "NAME = \"\"\n",
    "COLLABORATORS = \"\""
   ]
  },
  {
   "cell_type": "markdown",
   "metadata": {},
   "source": [
    "---"
   ]
  },
  {
   "cell_type": "markdown",
   "metadata": {
    "deletable": false,
    "editable": false,
    "nbgrader": {
     "cell_type": "markdown",
     "checksum": "6efb33090fabfc6a1f2cd087e5c642f7",
     "grade": false,
     "grade_id": "cell-9b523965d40334d3",
     "locked": true,
     "schema_version": 3,
     "solution": false,
     "task": false
    }
   },
   "source": [
    "# Задача Коши для ОДУ"
   ]
  },
  {
   "cell_type": "markdown",
   "metadata": {
    "deletable": false,
    "editable": false,
    "nbgrader": {
     "cell_type": "markdown",
     "checksum": "14f628d356e98eee68443f6b42d884bd",
     "grade": false,
     "grade_id": "cell-a23d606ae810688a",
     "locked": true,
     "schema_version": 3,
     "solution": false,
     "task": false
    }
   },
   "source": [
    "# I. Метод Эйлера для ОДУ первого порядка.\n",
    "\n",
    "Рассмотрим уравнение первого порядка\n",
    "\n",
    "$$\n",
    "\\frac{d u}{d t} = \\lambda u\n",
    "$$\n",
    "\n",
    "С начальным условием $u(t=0) = u_0$.\n",
    "\n",
    "Далее представлена простая иллюстрация явного метода Эйлера для решения такого уравнения."
   ]
  },
  {
   "cell_type": "code",
   "execution_count": null,
   "metadata": {
    "deletable": false,
    "editable": false,
    "nbgrader": {
     "cell_type": "code",
     "checksum": "09f6faad235fa2af62e3972bb4b5fa79",
     "grade": false,
     "grade_id": "cell-275adf71ea9912f4",
     "locked": true,
     "schema_version": 3,
     "solution": false,
     "task": false
    }
   },
   "outputs": [],
   "source": [
    "import numpy as np\n",
    "import matplotlib.pyplot as plt\n",
    "%matplotlib notebook"
   ]
  },
  {
   "cell_type": "code",
   "execution_count": null,
   "metadata": {
    "deletable": false,
    "editable": false,
    "nbgrader": {
     "cell_type": "code",
     "checksum": "e1d45e9a7a3a504a784ecd4c0e9d90ad",
     "grade": false,
     "grade_id": "cell-489aa147b6c22003",
     "locked": true,
     "schema_version": 3,
     "solution": false,
     "task": false
    }
   },
   "outputs": [],
   "source": [
    "def euler_solve(lam, u0, T, dt):\n",
    "    \"\"\"Решает $du/dt = \\lambda u$ на $0 < t < T$ с $u(t=0) = u0$ при помощи явного метода Эйлера.\"\"\"\n",
    "    num_steps = int(T/dt)\n",
    "    tt = np.arange(num_steps+1)*dt\n",
    "    y = np.empty(num_steps+1)\n",
    "    y[0] = u0\n",
    "    for k in range(num_steps):\n",
    "        y[k+1] = y[k] + dt*lam*y[k]\n",
    "    return tt, y"
   ]
  },
  {
   "cell_type": "code",
   "execution_count": null,
   "metadata": {
    "deletable": false,
    "editable": false,
    "nbgrader": {
     "cell_type": "code",
     "checksum": "8abef8592639626467cad3d042cfc756",
     "grade": false,
     "grade_id": "cell-f544e90b58d49628",
     "locked": true,
     "schema_version": 3,
     "solution": false,
     "task": false
    }
   },
   "outputs": [],
   "source": [
    "lam = -0.5\n",
    "tt, y = euler_solve(lam, u0=1.0, T=5, dt=0.1)\n",
    "plt.plot(tt, y, 'o--', label='numeric solution')\n",
    "plt.plot(tt, np.exp(lam*tt), '-', lw=2, label='ground truth')\n",
    "plt.legend(loc='best')\n",
    "plt.grid(True)"
   ]
  },
  {
   "cell_type": "markdown",
   "metadata": {
    "deletable": false,
    "editable": false,
    "nbgrader": {
     "cell_type": "markdown",
     "checksum": "c02a600b3762573a281ef552df7c19a7",
     "grade": false,
     "grade_id": "cell-280070433659bcea",
     "locked": true,
     "schema_version": 3,
     "solution": false,
     "task": false
    }
   },
   "source": [
    "### Тест I.1\n",
    "\n",
    "Проверьте функцию выше, варьируя шаг $\\tau$ (в коде это `dt`), $|\\lambda| \\tau > 1$.\n",
    "\n",
    "(10% итоговой оценки)"
   ]
  },
  {
   "cell_type": "code",
   "execution_count": null,
   "metadata": {
    "deletable": false,
    "nbgrader": {
     "cell_type": "code",
     "checksum": "32df3b2b970c8b477e081aa10cf0ddb8",
     "grade": true,
     "grade_id": "cell-a4b2a8664c051974",
     "locked": false,
     "points": 1,
     "schema_version": 3,
     "solution": true,
     "task": false
    }
   },
   "outputs": [],
   "source": [
    "# YOUR CODE HERE\n",
    "raise NotImplementedError()"
   ]
  },
  {
   "cell_type": "markdown",
   "metadata": {
    "deletable": false,
    "editable": false,
    "nbgrader": {
     "cell_type": "markdown",
     "checksum": "a9bea74ba7d9f291f4fac9f771085247",
     "grade": false,
     "grade_id": "cell-5ae1205a7f778578",
     "locked": true,
     "schema_version": 3,
     "solution": false,
     "task": false
    }
   },
   "source": [
    "### Тест I.2\n",
    "\n",
    "Решите то же самое уравнение $du/dt = \\lambda u$, используя невную схему Эйлера. Сравните поведение неявной и явной схем Эйлера. Обсудите.\n",
    "\n",
    "(10% итогвой оценки)"
   ]
  },
  {
   "cell_type": "code",
   "execution_count": null,
   "metadata": {
    "deletable": false,
    "nbgrader": {
     "cell_type": "code",
     "checksum": "90cb047080fe9c757216479d7dc9a759",
     "grade": true,
     "grade_id": "cell-c0b39ab300b9ba9e",
     "locked": false,
     "points": 1,
     "schema_version": 3,
     "solution": true,
     "task": false
    }
   },
   "outputs": [],
   "source": [
    "# YOUR CODE HERE\n",
    "raise NotImplementedError()"
   ]
  },
  {
   "cell_type": "markdown",
   "metadata": {
    "deletable": false,
    "editable": false,
    "nbgrader": {
     "cell_type": "markdown",
     "checksum": "45419d307fb6448744a7aca866e92a2e",
     "grade": false,
     "grade_id": "cell-a1337f0a879c5260",
     "locked": true,
     "schema_version": 3,
     "solution": false,
     "task": false
    }
   },
   "source": [
    "## II. Жесткие системы."
   ]
  },
  {
   "cell_type": "markdown",
   "metadata": {
    "deletable": false,
    "editable": false,
    "nbgrader": {
     "cell_type": "markdown",
     "checksum": "c6fb77a1e79e816ad01f4b9b7da29575",
     "grade": false,
     "grade_id": "cell-8d6421cfcbcc65e7",
     "locked": true,
     "schema_version": 3,
     "solution": false,
     "task": false
    }
   },
   "source": [
    "Рассмотрим систему двух уравнений первого порядка.\n",
    "\n",
    "$$\n",
    "\\frac{d \\mathbf{u} }{d t} = A \\mathbf{u}\n",
    "$$\n",
    "\n",
    "где $\\mathbf{u}$ есть вектор длины 2, $A = const$ - известная матрица 2$\\times$2.\n",
    "\n",
    "Выполните обобщение алгоритма `euler_solve` для решения систем линейных уравнений первого порядка с матрицей $A$, не зависящей от времени, используя явную схему Эйлера."
   ]
  },
  {
   "cell_type": "code",
   "execution_count": null,
   "metadata": {
    "deletable": false,
    "nbgrader": {
     "cell_type": "code",
     "checksum": "7f9bf3821e6b97c7a06ab62110b0a05c",
     "grade": false,
     "grade_id": "cell-434639a2772a1867",
     "locked": false,
     "schema_version": 3,
     "solution": true,
     "task": false
    }
   },
   "outputs": [],
   "source": [
    "# YOUR CODE HERE\n",
    "raise NotImplementedError()"
   ]
  },
  {
   "cell_type": "markdown",
   "metadata": {
    "deletable": false,
    "editable": false,
    "nbgrader": {
     "cell_type": "markdown",
     "checksum": "35dfadb8952c31f7eab60bff5d7247ca",
     "grade": false,
     "grade_id": "cell-19ab81ee9161f6c5",
     "locked": true,
     "schema_version": 3,
     "solution": false,
     "task": false
    }
   },
   "source": [
    "### Тест II.1\n",
    "\n",
    "Возьмите \n",
    "$$\n",
    "A = \\begin{bmatrix} -10 & 10 \\\\ 32 & -499 \\end{bmatrix}\n",
    "$$\n",
    "\n",
    "с начальным условием $\\mathbf{u} = (1, 0)^T$.\n",
    "\n",
    "Решите систему, используя фиксированный шаг $\\tau=0.01$. Стабилен ли метод на шаге такого размера?\n",
    "\n",
    "Найдите собственные значения $A$ (используя `np.linalg.eigvals`) и прокомментируйте, является ли система жесткой.\n",
    "\n",
    "(20% итоговой оценки)"
   ]
  },
  {
   "cell_type": "code",
   "execution_count": null,
   "metadata": {
    "deletable": false,
    "nbgrader": {
     "cell_type": "code",
     "checksum": "c06a0aa4047c4cfd4d4a004d8ff7962b",
     "grade": true,
     "grade_id": "cell-c807f4452ea7853a",
     "locked": false,
     "points": 2,
     "schema_version": 3,
     "solution": true,
     "task": false
    }
   },
   "outputs": [],
   "source": [
    "# YOUR CODE HERE\n",
    "raise NotImplementedError()"
   ]
  },
  {
   "cell_type": "markdown",
   "metadata": {
    "deletable": false,
    "editable": false,
    "nbgrader": {
     "cell_type": "markdown",
     "checksum": "ce0782d28909df6a4d32377cdf652846",
     "grade": false,
     "grade_id": "cell-df4fb53cd32cb17f",
     "locked": true,
     "schema_version": 3,
     "solution": false,
     "task": false
    }
   },
   "source": [
    "### Тест II.2\n",
    "\n",
    "Реализуйте $\\textit{неявную}$ схему Эйлера для системы линейных уравнений первого порядка с постоянными коэффициентами. Заметьте, что на каждом шаге вам необходимо решать систему линйных алгебраических уравнений (используйте `np.linalg.solve`).\n",
    "\n",
    "Выполните те же самые шаги, что и в тесте II.1 с таким же шагом $\\tau=0.01$. Сравните решения, полученные явной и неявной схемами Эйлера.\n",
    "\n",
    "(20% итоговой оценки)"
   ]
  },
  {
   "cell_type": "code",
   "execution_count": null,
   "metadata": {
    "deletable": false,
    "nbgrader": {
     "cell_type": "code",
     "checksum": "0b44e2044ab45263d5ed5ce1ff0dd847",
     "grade": true,
     "grade_id": "cell-924511124def49d2",
     "locked": false,
     "points": 2,
     "schema_version": 3,
     "solution": true,
     "task": false
    }
   },
   "outputs": [],
   "source": [
    "# YOUR CODE HERE\n",
    "raise NotImplementedError()"
   ]
  },
  {
   "cell_type": "markdown",
   "metadata": {
    "collapsed": true,
    "deletable": false,
    "editable": false,
    "nbgrader": {
     "cell_type": "markdown",
     "checksum": "dc8f552d8bcff3e554811dd4715337bb",
     "grade": false,
     "grade_id": "cell-58e8135483477269",
     "locked": true,
     "schema_version": 3,
     "solution": false,
     "task": false
    }
   },
   "source": [
    "# III. ОДУ второго порядка.\n",
    "\n",
    "Рассмотрим ОДУ второго порядка, описывающее осцилляции маятника\n",
    "\n",
    "$$\n",
    "\\frac{d^2 u}{dt^2} + \\omega^2 u = 0\n",
    "$$\n",
    "\n",
    "Преобразуйте данное уравнение второго порядка в систему ОДУ первого порядка.\n",
    "\n",
    "### Тест III.1 \n",
    "\n",
    "Решите данную систему уравнений, используя явную  схему Эйлера так, чтобы ответ захватывал хотя бы несколько периодов осциллятора. \n",
    "\n",
    "Мы знаем, что в отсутствии трения выполняется закон сохранения энергии:\n",
    "\n",
    "$$\n",
    "E = \\frac{u'^2}{2} + \\frac{\\omega^2 u^2}{2}\n",
    "$$\n",
    "\n",
    "Постройте зависимость $E$ от времени для вашего численного решения. Используйте несколько значений шага. Выполняется ли закон сохранения энергии?\n",
    "\n",
    "(20% итоговой оценки)"
   ]
  },
  {
   "cell_type": "code",
   "execution_count": null,
   "metadata": {
    "deletable": false,
    "nbgrader": {
     "cell_type": "code",
     "checksum": "6c0e871065df526670188b1c6f52e0be",
     "grade": true,
     "grade_id": "cell-1d935f818793fa57",
     "locked": false,
     "points": 2,
     "schema_version": 3,
     "solution": true,
     "task": false
    }
   },
   "outputs": [],
   "source": [
    "# YOUR CODE HERE\n",
    "raise NotImplementedError()"
   ]
  },
  {
   "cell_type": "markdown",
   "metadata": {
    "deletable": false,
    "editable": false,
    "nbgrader": {
     "cell_type": "markdown",
     "checksum": "4d664e6383e9873791db6704bd1635c3",
     "grade": false,
     "grade_id": "cell-c685dcce3b8efd52",
     "locked": true,
     "schema_version": 3,
     "solution": false,
     "task": false
    }
   },
   "source": [
    "### Тест III.2\n",
    "\n",
    "Реализуйте схему Рунге - Кутта второго порядка. Используте ее для решения того же уравнения с теми же шагами. Сравните решения, полученные методом Рунге - Кутта и методом Эйлера на одинаковых промежутках времени. Проверьте закон сохранения энергии. Обсудите.\n",
    "\n",
    "(20% итоговой оценки)"
   ]
  },
  {
   "cell_type": "code",
   "execution_count": null,
   "metadata": {
    "deletable": false,
    "nbgrader": {
     "cell_type": "code",
     "checksum": "7974f35808f11f007902513bd0d975cf",
     "grade": true,
     "grade_id": "cell-fc2381a56a533f8f",
     "locked": false,
     "points": 2,
     "schema_version": 3,
     "solution": true,
     "task": false
    }
   },
   "outputs": [],
   "source": [
    "# YOUR CODE HERE\n",
    "raise NotImplementedError()"
   ]
  }
 ],
 "metadata": {
  "kernelspec": {
   "display_name": "Python 3",
   "language": "python",
   "name": "python3"
  },
  "language_info": {
   "codemirror_mode": {
    "name": "ipython",
    "version": 3
   },
   "file_extension": ".py",
   "mimetype": "text/x-python",
   "name": "python",
   "nbconvert_exporter": "python",
   "pygments_lexer": "ipython3",
   "version": "3.7.6"
  }
 },
 "nbformat": 4,
 "nbformat_minor": 2
}
