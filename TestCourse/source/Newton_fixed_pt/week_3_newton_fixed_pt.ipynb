{
 "cells": [
  {
   "cell_type": "code",
   "execution_count": 13,
   "metadata": {
    "nbgrader": {
     "grade": false,
     "grade_id": "cell-d238cbae9896563e",
     "locked": true,
     "schema_version": 3,
     "solution": false,
     "task": false
    }
   },
   "outputs": [],
   "source": [
    "import matplotlib.pyplot as plt\n",
    "import numpy as np"
   ]
  },
  {
   "cell_type": "markdown",
   "metadata": {
    "nbgrader": {
     "grade": false,
     "grade_id": "cell-e24f93d1f5c3d8e8",
     "locked": true,
     "schema_version": 3,
     "solution": false,
     "task": false
    }
   },
   "source": [
    "# Часть I. Нахождение корней. Метод Ньютона."
   ]
  },
  {
   "cell_type": "markdown",
   "metadata": {
    "nbgrader": {
     "grade": false,
     "grade_id": "cell-dcdac7e559daf63a",
     "locked": true,
     "schema_version": 3,
     "solution": false,
     "task": false
    }
   },
   "source": [
    "Напишите алгоритм, который выполняет итерации Ньютона для заданной функции $f(x)$ с известной производной $f'(x)$. Ваша функция должна находить корни $f(x)$ с заданной точностью $\\epsilon$."
   ]
  },
  {
   "cell_type": "code",
   "execution_count": 1,
   "metadata": {
    "nbgrader": {
     "grade": false,
     "grade_id": "cell-e47469fedb8cc24a",
     "locked": false,
     "schema_version": 3,
     "solution": true,
     "task": false
    }
   },
   "outputs": [],
   "source": [
    "def newton_iteration(f, fder, x0, eps=1e-5, maxiter=1000):\n",
    "    \"\"\"Нахождение корней $f(x) = 0$ через итерации Ньютона, начиная с x0.\n",
    "    \n",
    "    Parameters\n",
    "    ----------\n",
    "    f : callable\n",
    "        Функция, корни которой мы хотим найти.\n",
    "    fder : callable\n",
    "        Производная `f`.\n",
    "    x0 : float\n",
    "        Начальное приближение итераций Ньютона.\n",
    "    eps : float\n",
    "        Заданная точность. \n",
    "        Алгоритм прекращает работу когда расстояние между последовательными приближениями меньше `eps`.\n",
    "        По умолчанию 1e-5.\n",
    "    maxiter : int\n",
    "        Максимальное число итераций (по умолчанию 1000).\n",
    "        Алгоритм прекращается, когда число итераций достигает `maxiter`.\n",
    "        Этот параметр нужен лишь для предотвращения бесконечного зацикливания.\n",
    "    \n",
    "    Returns\n",
    "    -------\n",
    "    x : float\n",
    "        Найденное приближение к корню.\n",
    "    niter : int\n",
    "        Количество итераций.\n",
    "    \"\"\"\n",
    "    ###BEGIN SOLUTION\n",
    "    it = 0\n",
    "    x = x0\n",
    "    while abs(f(x)) > eps and it < maxiter:\n",
    "        x = x - f(x)/fder(x)\n",
    "        it+=1\n",
    "    return x, it\n",
    "    ###END SOLUTION"
   ]
  },
  {
   "cell_type": "markdown",
   "metadata": {
    "nbgrader": {
     "grade": false,
     "grade_id": "cell-1296de57f81b39ec",
     "locked": true,
     "schema_version": 3,
     "solution": false,
     "task": false
    }
   },
   "source": [
    "### Test I.1 \n",
    "\n",
    "Протестируйте вашу функцию на простом примере $f(x) = x^2 - 1$. (20% итоговой оценки)"
   ]
  },
  {
   "cell_type": "code",
   "execution_count": 16,
   "metadata": {
    "nbgrader": {
     "grade": true,
     "grade_id": "cell-0c23dfbb8447f5aa",
     "locked": true,
     "points": 2,
     "schema_version": 3,
     "solution": false,
     "task": false
    }
   },
   "outputs": [],
   "source": [
    "def test1(x):\n",
    "    return x**2 - 1\n",
    "def test1der(x):\n",
    "    return 2 * x\n",
    "###BEGIN HIDDEN TESTS\n",
    "def test1hidden(x):\n",
    "    return x**2-5.6*x+3\n",
    "def test1derhidden(x):\n",
    "    return 2*x-5.6\n",
    "\n",
    "xList = [-1000, -100, -10, 10, 10000]\n",
    "for i in xList:\n",
    "    assert test1(newton_iteration(test1, test1der, i)[0]) < 1e-5\n",
    "    assert test1hidden(newton_iteration(test1hidden, test1derhidden, i)[0]) < 1e-5\n",
    "###END HIDDEN TESTS"
   ]
  },
  {
   "cell_type": "markdown",
   "metadata": {
    "nbgrader": {
     "grade": false,
     "grade_id": "cell-84731f18ce036c31",
     "locked": true,
     "schema_version": 3,
     "solution": false,
     "task": false
    }
   },
   "source": [
    "### Test I.2\n",
    "\n",
    "Now consider a function which has a multiple root. Take $f(x) = (x^2 - 1)^2$ as an example. Implement a modified Newton's iteraion,\n",
    "\n",
    "$$\n",
    "x_{n+1} = x_{n} - m \\frac{f(x_n)}{f'(x_n)}\n",
    "$$\n",
    "\n",
    "and vary $m= 1, 2, 3, 4, 5$. Check the number of iterations required for convergence within a fixed $\\epsilon$. Are your observations consistent with the expectation that the convergence is quadratic is $m$ equals the multiplicity of the root, and is linear otherwise? (40% of the total grade)"
   ]
  },
  {
   "cell_type": "code",
   "execution_count": 17,
   "metadata": {
    "nbgrader": {
     "grade": true,
     "grade_id": "cell-5ffc3af0a5321c05",
     "locked": false,
     "points": 4,
     "schema_version": 3,
     "solution": true,
     "task": false
    }
   },
   "outputs": [
    {
     "name": "stdout",
     "output_type": "stream",
     "text": [
      "m= 1 result is 1.0010190389301679 number of iterations is 25\n",
      "m= 2 result is 1.0000714038711747 number of iterations is 9\n",
      "m= 3 result is 1.0011825820421454 number of iterations is 11\n",
      "m= 4 result is 99.99999999980673 number of iterations is 1000\n",
      "m= 5 result is -1.2895268672886702 number of iterations is 1000\n",
      "minimal number of iterations is reached when m=2, e.g equal multiplity of a root\n",
      " Непосредственно скорость сходимости оценивают по тангенсу угла наклона логарифмического графика зависимости (x_i-1) от (x_(i-1)-1)\n",
      " if m=1, converage is linear and it is bad. We can see it on graphics: tangens is nearly 1 at first picture and bigger then 1 at second\n",
      "limits are (25, 9)\n"
     ]
    },
    {
     "data": {
      "image/png": "[encoded data removed]",
      "text/plain": [
       "<Figure size 576x288 with 2 Axes>"
      ]
     },
     "metadata": {
      "needs_background": "light"
     },
     "output_type": "display_data"
    }
   ],
   "source": [
    "\n",
    "def smart_newton(f, fder, x0, m=1, eps=1e-5, maxiter=1000): \n",
    "    it = 0\n",
    "    x = x0 \n",
    "    while abs(f(x)) > eps and it < maxiter and fder(x)!=0:\n",
    "        x = x - m * f(x)/fder(x)\n",
    "        it+=1\n",
    "    return x, it\n",
    "\n",
    "def test2(x):\n",
    "    return (x**2 - 1)**2\n",
    "def test2der(x):\n",
    "    return 4*(x**2 - 1)*x\n",
    "\n",
    "for param in range(1,6):\n",
    "    res, it = smart_newton(test2, test2der, 100, m=param)\n",
    "    print('m=', param, 'result is', res,'number of iterations is', it)\n",
    "\n",
    "def test(f, fder, x0, answer, m=1, eps=1e-5, maxiter=1000): \n",
    "    it1 = 0\n",
    "    x = x0 \n",
    "    while abs(f(x)) > eps and it1 < maxiter and fder(x)!=0:\n",
    "        ax1.plot(np.log(x-1), np.log(x - f(x)/fder(x)-1), '.', color = 'green')\n",
    "        x = x - f(x)/fder(x)\n",
    "        it1+=1\n",
    "    x = x0\n",
    "    it2 = 0\n",
    "    while abs(f(x)) > eps and it2 < maxiter and fder(x)!=0:\n",
    "        ax2.plot(np.log(x-1), np.log(x - m * f(x)/fder(x)-1), '.', color = 'green')\n",
    "        x = x - m * f(x)/fder(x)\n",
    "        it2+=1\n",
    "    ax1.grid()\n",
    "    ax2.grid()\n",
    "    return it1, it2\n",
    "print('minimal number of iterations is reached when m=2, e.g equal multiplity of a root')\n",
    "print(' Непосредственно скорость сходимости оценивают по тангенсу угла наклона логарифмического графика зависимости (x_i-1) от (x_(i-1)-1)\\n if m=1, converage is linear and it is bad. We can see it on graphics: tangens is nearly 1 at first picture and bigger then 1 at second')\n",
    "\n",
    "fig, (ax1, ax2) = plt.subplots(nrows=1, ncols=2,figsize=(8, 4))\n",
    "print('limits are',test(test2, test2der, 100, 1, m=2))"
   ]
  },
  {
   "cell_type": "markdown",
   "metadata": {
    "nbgrader": {
     "grade": false,
     "grade_id": "cell-dc7113b92731031b",
     "locked": true,
     "schema_version": 3,
     "solution": false,
     "task": false
    }
   },
   "source": [
    "# Part II. Fixed-point iteration"
   ]
  },
  {
   "cell_type": "markdown",
   "metadata": {
    "nbgrader": {
     "grade": false,
     "grade_id": "cell-2a1513c259cb2bf9",
     "locked": true,
     "schema_version": 3,
     "solution": false,
     "task": false
    }
   },
   "source": [
    "Consider the following equation:\n",
    "\n",
    "$$\n",
    "\\sqrt{x} = \\cos{x}\n",
    "$$\n",
    "\n",
    "Plot the left-hand side and right-hand side of this equation, and localize the root graphically. Estimate the location of the root by visual inspection of the plot.\n",
    "\n",
    "Write a function which finds the solution using fixed-point iteration up to a predefined accuracy $\\epsilon$. Compare the result to an estimate from a visual inspection.\n",
    "\n",
    "Next, rewrite the fixed-point problem in the form\n",
    "\n",
    "$$\n",
    "x = x - \\alpha f(x)\n",
    "$$\n",
    "\n",
    "where $\\alpha$ is the free parameter. Check the dependence of the number of iterations required for a given $\\epsilon$ on $\\alpha$. Compare your results to an expectation that the optimal value of $\\alpha$ is given by \n",
    "\n",
    "$$\n",
    "\\alpha = \\frac{2}{m + M}\n",
    "$$\n",
    "\n",
    "where $0 < m < |f'(x)| < M$ over the localization interval. (40% of the total grade)"
   ]
  },
  {
   "cell_type": "code",
   "execution_count": 19,
   "metadata": {
    "nbgrader": {
     "grade": true,
     "grade_id": "cell-2748dd78844e49c3",
     "locked": false,
     "points": 4,
     "schema_version": 3,
     "solution": true,
     "task": false
    }
   },
   "outputs": [
    {
     "name": "stdout",
     "output_type": "stream",
     "text": [
      "We can see that the root is nearly 0.64. Lets check it\n",
      "Newton iterations finded root at 0.6417143710025017 with 3 iterations\n"
     ]
    },
    {
     "data": {
      "text/plain": [
       "[<matplotlib.lines.Line2D at 0x7fdae46c5290>]"
      ]
     },
     "execution_count": 19,
     "metadata": {},
     "output_type": "execute_result"
    },
    {
     "data": {
      "image/png": "[encoded data removed]",
      "text/plain": [
       "<Figure size 720x288 with 2 Axes>"
      ]
     },
     "metadata": {
      "needs_background": "light"
     },
     "output_type": "display_data"
    }
   ],
   "source": [
    "fig, (ax1, ax2) = plt.subplots(nrows=1, ncols=2,figsize=(10, 4))\n",
    "\n",
    "x1 = np.linspace(-1,1,100)\n",
    "x2 = np.linspace(0.6,0.7,100)\n",
    "\n",
    "ax1.plot(x1,np.cos(x1), np.linspace(0,1,50), np.sqrt(np.linspace(0,1,50)))\n",
    "\n",
    "#Подписи графиков и все такое\n",
    "ax1.set_xlabel('X')\n",
    "ax1.set_ylabel('Y')\n",
    "ax2.set_xlabel('X')\n",
    "ax2.set_ylabel('Y')\n",
    "ax2.plot(x2,np.cos(x2), x2, np.sqrt(x2))\n",
    "ax1.grid()\n",
    "ax2.grid()\n",
    "\n",
    "def test3(x):\n",
    "    return np.cos(x) - np.sqrt(x)\n",
    "def test3der(x):\n",
    "    return -np.sin(x) - 1/2/np.sqrt(x)\n",
    "\n",
    "print('We can see that the root is nearly 0.64. Lets check it')\n",
    "root, it = newton_iteration(test3, test3der, 1)\n",
    "print('Newton iterations finded root at', root, 'with', it, 'iterations')\n",
    "ax2.plot(root, np.cos(root),'.', color='red')"
   ]
  }
 ],
 "metadata": {
  "celltoolbar": "Create Assignment",
  "kernelspec": {
   "display_name": "Python 3",
   "language": "python",
   "name": "python3"
  },
  "language_info": {
   "codemirror_mode": {
    "name": "ipython",
    "version": 3
   },
   "file_extension": ".py",
   "mimetype": "text/x-python",
   "name": "python",
   "nbconvert_exporter": "python",
   "pygments_lexer": "ipython3",
   "version": "3.7.3"
  }
 },
 "nbformat": 4,
 "nbformat_minor": 2
}
