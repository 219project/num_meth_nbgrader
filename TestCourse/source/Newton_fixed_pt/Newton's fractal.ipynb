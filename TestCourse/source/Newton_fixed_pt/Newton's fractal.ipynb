{
 "cells": [
  {
   "cell_type": "markdown",
   "metadata": {
    "nbgrader": {
     "grade": false,
     "grade_id": "cell-abdbc2a612344c2f",
     "locked": true,
     "schema_version": 3,
     "solution": false,
     "task": false
    }
   },
   "source": [
    "## Newton's fractal.\n",
    "\n",
    "(3 дополнительных балла)\n",
    "\n",
    "Consider the equation\n",
    "$$ x^3 = 1 $$\n",
    "\n",
    "It has three solutions in the complex plane, $x_k = \\exp(i\\, 2\\pi k/ 3)$, $k = 0, 1, 2$.\n",
    "\n",
    "The Newton's iterations converge to one of these solutions, depending on the starting point in the complex plane (to converge to a complex-valued solution, the iteration needs a complex-valued starting point).\n",
    "\n",
    "Plot the \\emph{basins of attraction} of these roots on the complex plane of $x$ (i.e., on the plane $\\mathrm{Re}x$ -- $\\mathrm{Im}x$). To this end, make a series of calculations, varying the initial conditions on a grid of points. Color the grid in three colors, according to the root, to which iterations converged.\n"
   ]
  },
  {
   "cell_type": "code",
   "execution_count": null,
   "metadata": {
    "nbgrader": {
     "grade": true,
     "grade_id": "cell-66869f9decf2a093",
     "locked": false,
     "points": 3,
     "schema_version": 3,
     "solution": true,
     "task": false
    }
   },
   "outputs": [],
   "source": [
    "def test5(x):\n",
    "    return x**3-1\n",
    "def test5der(x):\n",
    "    return 3*x**2\n",
    "\n",
    "roots=np.exp(np.arange(0,3)*2*np.pi*1j/3)\n",
    "\n",
    "initialReal=np.linspace(-2,2,1000)\n",
    "initialImag=np.linspace(-2,2,1000)\n",
    "\n",
    "XR,YR=np.meshgrid(initialReal,initialImag)\n",
    "initial=XR + 1j*YR\n",
    "results=np.zeros(np.shape(initial))\n",
    "\n",
    "for i in range(np.shape(results)[0]):\n",
    "    for j in range(np.shape(results)[1]):\n",
    "        find_root = abs(roots - newton_iteration(test5,test5der, initial[i,j])[0])\n",
    "        results[i,j] = np.argmin(find_root)\n",
    "\n",
    "        fig, ax1 = plt.subplots(figsize=(8, 8))\n",
    "h = plt.contourf(XR,YR,results)\n",
    "plt.show()"
   ]
  }
 ],
 "metadata": {
  "celltoolbar": "Create Assignment",
  "kernelspec": {
   "display_name": "Python 3",
   "language": "python",
   "name": "python3"
  },
  "language_info": {
   "codemirror_mode": {
    "name": "ipython",
    "version": 3
   },
   "file_extension": ".py",
   "mimetype": "text/x-python",
   "name": "python",
   "nbconvert_exporter": "python",
   "pygments_lexer": "ipython3",
   "version": "3.7.6"
  }
 },
 "nbformat": 4,
 "nbformat_minor": 4
}
