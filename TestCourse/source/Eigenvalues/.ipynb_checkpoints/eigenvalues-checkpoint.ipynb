{
 "cells": [
  {
   "cell_type": "code",
   "execution_count": 5,
   "metadata": {
    "nbgrader": {
     "grade": false,
     "grade_id": "cell-dee318487c917c20",
     "locked": true,
     "schema_version": 3,
     "solution": false,
     "task": false
    }
   },
   "outputs": [],
   "source": [
    "import numpy as np\n",
    "from numpy.testing import assert_allclose"
   ]
  },
  {
   "cell_type": "markdown",
   "metadata": {
    "nbgrader": {
     "grade": false,
     "grade_id": "cell-00de4de4082aa444",
     "locked": true,
     "schema_version": 3,
     "solution": false,
     "task": false
    }
   },
   "source": [
    "# 1. Степенная итерация"
   ]
  },
  {
   "cell_type": "markdown",
   "metadata": {
    "nbgrader": {
     "grade": false,
     "grade_id": "cell-1a3077925e3e394b",
     "locked": true,
     "schema_version": 3,
     "solution": false,
     "task": false
    }
   },
   "source": [
    "Дана квадратная $n \\times n$ матрица $A$. Алгоритм степенной итерации позволяет найти максимальное собственное значение $\\lambda$ матрицы $A$. Для начала необходимо задать начальное приближение собственного вектора $x_0$. \n",
    "\n",
    "\n",
    "Модифицированный алгоритм степенной итерации:\n",
    "\n",
    "1. $y_{k+1} = A x_k$\n",
    "\n",
    "2. $x_{k+1} = \\cfrac{y_{k+1}}{||y_{k+1}||}$\n",
    "\n",
    "3. $\\lambda^{(k)} = (x_k, y_{k+1})$\n",
    "\n",
    "где $k$ - номер итерации.\n",
    "\n",
    "Напишите функцию, реализующую поиск максимального собственного значения заданной матрицы с помощью алгоритма степенной итерации."
   ]
  },
  {
   "cell_type": "code",
   "execution_count": 2,
   "metadata": {
    "nbgrader": {
     "grade": false,
     "grade_id": "cell-3cfc4f5a0e04dc11",
     "locked": false,
     "schema_version": 3,
     "solution": true,
     "task": false
    }
   },
   "outputs": [],
   "source": [
    "def power_iter(a, vec, eps=1e-3, maxiter=1000):\n",
    "    \"\"\"Реализует алгоритм степенной итерации поиска максимального собственного значения матрицы `a` \n",
    "        с начальным приближением собственного вектора vec.\n",
    "    \n",
    "    Parameters\n",
    "    ----------\n",
    "    a : array-like of floats, shape (n, n)\n",
    "        Введённая матрица\n",
    "    vec : array-like of floats, shape (n,)\n",
    "        Введённое начальное приближение собственного вектора\n",
    "    eps : float\n",
    "        Введённая абсолютная точность\n",
    "    maxiter : integer\n",
    "        Максимальное количество итераций\n",
    "    \n",
    "    Returns\n",
    "    -------\n",
    "    lm : float\n",
    "        Приближение максимального собственного значения\n",
    "    outvec : array of floats, shape (n,)\n",
    "        Приближение собственного вектора\n",
    "    iters : integer\n",
    "        Количество итераций\n",
    "    \"\"\"\n",
    "    a = np.asarray(a, dtype=float)\n",
    "    if a.ndim != 2:\n",
    "        raise ValueError(\"a.ndim = %s, expected 2\" % a.ndim)\n",
    "    \n",
    "    vec = np.asarray(vec, dtype=float)\n",
    "    if vec.ndim != 1:\n",
    "        raise ValueError(\"vec.ndim = %s, expected 1\" % vec.ndim)\n",
    "        \n",
    "    if (a.shape[0] != a.shape[1]):\n",
    "        raise ValueError(\"a is not square\")\n",
    "        \n",
    "    if (a.shape[0] != vec.shape[0]):\n",
    "        raise ValueError(\"vec should be of length %s\" % a.shape[0])\n",
    "    \n",
    "    ###BEGIN SOLUTION\n",
    "    flag = True\n",
    "    iters = 1\n",
    "    outvec = vec / np.linalg.norm(vec)\n",
    "\n",
    "    y = A @ outvec\n",
    "    lm_1 = np.dot(outvec, y)\n",
    "    y = y / np.linalg.norm(y)\n",
    "    outvec = y\n",
    "    while (flag):\n",
    "        y = A @ outvec\n",
    "        lm = np.dot(outvec, y)\n",
    "        y = y / np.linalg.norm(y)\n",
    "        flag = (np.fabs(lm_1 - lm) > eps) & (iters < maxiter)\n",
    "        outvec = y\n",
    "        lm_1 = lm\n",
    "        iters += 1\n",
    "    \n",
    "    return lm, outvec, iters\n",
    "    ###END SOLUTION"
   ]
  },
  {
   "cell_type": "markdown",
   "metadata": {
    "nbgrader": {
     "grade": false,
     "grade_id": "cell-16650a49b51bde96",
     "locked": true,
     "schema_version": 3,
     "solution": false,
     "task": false
    }
   },
   "source": [
    "Протестируйте свою функцию на следующих примерах:"
   ]
  },
  {
   "cell_type": "code",
   "execution_count": 6,
   "metadata": {
    "nbgrader": {
     "grade": true,
     "grade_id": "cell-d67c4ed20e0cc45a",
     "locked": true,
     "points": 4,
     "schema_version": 3,
     "solution": false,
     "task": false
    }
   },
   "outputs": [],
   "source": [
    "A = np.asarray([[4, 34],[7, 1]])\n",
    "\n",
    "np.random.seed(123)\n",
    "x = np.random.random(size=2)\n",
    "\n",
    "l, e, k = power_iter(A, x)\n",
    "assert_allclose(A @ e, l * e, atol=1e-3)\n",
    "\n",
    "l, e, k = power_iter(A, x, 1e-5)\n",
    "assert_allclose(A @ e, l * e, atol=1e-5)\n",
    "\n",
    "###BEGIN HIDDEN TESTS\n",
    "\n",
    "A = np.asarray([[1, 2], [0, 1]])\n",
    "x = np.asarray([1,1])\n",
    "\n",
    "l, e, k = power_iter(A, x)\n",
    "assert_allclose(A @ e, l * e, atol=1e-3)\n",
    "\n",
    "l, e, k = power_iter(A, x, 1e-5)\n",
    "assert_allclose(A @ e, l * e, atol=1e-5)\n",
    "\n",
    "###END HIDDEN TESTS"
   ]
  },
  {
   "cell_type": "markdown",
   "metadata": {
    "nbgrader": {
     "grade": false,
     "grade_id": "cell-0aea0e46b416169e",
     "locked": true,
     "schema_version": 3,
     "solution": false,
     "task": false
    }
   },
   "source": [
    "# 2. Обратная итерация\n",
    "\n",
    "Этот метод может использоваться, например, для поиска собственных векторов матрицы, если уже имеется достаточно хорошее приближение её максимального собственного значения.\n",
    "\n",
    "Для реализации алгоритма необходимо задать начальные приближения для собственного вектора $x_0$ и собственного значения $\\mu$.\n",
    "\n",
    "На каждой итерации метода решается система уравнений:\n",
    "$$(A - \\lambda^{(k)} I) y_{k+1} = x_k,$$\n",
    "приэтом $\\lambda^{(0)} = \\mu$. После этого за новое приближение собственного вектора принимается нормированный вектор $y_{k+1}$:\n",
    "$$x_{k+1} = \\cfrac{y_{k+1}}{||y_{k+1}||}.$$"
   ]
  },
  {
   "cell_type": "code",
   "execution_count": 7,
   "metadata": {
    "nbgrader": {
     "grade": false,
     "grade_id": "cell-f3b15fcf5f5b9c62",
     "locked": false,
     "schema_version": 3,
     "solution": true,
     "task": false
    }
   },
   "outputs": [],
   "source": [
    "def inverse_iter(a, vec, mu, eps=1e-3, maxiter=1000):\n",
    "    \"\"\"Реализует алгоритм степенной итерации поиска максимального собственного значения матрицы a \n",
    "        с начальным приближением собственного вектора vec и начальным приближением собственного значения mu\n",
    "    \n",
    "    Parameters\n",
    "    ----------\n",
    "    a : array-like of floats, shape (n, n)\n",
    "        Введённая матрица\n",
    "    vec : array-like of floats, shape (n,)\n",
    "        Введённое начальное приближение собственного вектора\n",
    "    mu : float\n",
    "        Введённое начальное приближение собственного значения\n",
    "    eps : float\n",
    "        Введённая точность \n",
    "    maxiter : integer\n",
    "        Максимальное количество итераций\n",
    "    \n",
    "    Returns\n",
    "    -------\n",
    "    lm : float\n",
    "        Приближение максимального собственного значения\n",
    "    outvec : array of floats, shape (n,)\n",
    "        Приближение собственного вектора\n",
    "    iters : integer\n",
    "        Количество итераций\n",
    "    \"\"\"\n",
    "    a = np.asarray(a, dtype=float)\n",
    "    if a.ndim != 2:\n",
    "        raise ValueError(\"a.ndim = %s, expected 2\" % a.ndim)\n",
    "    \n",
    "    vec = np.asarray(vec, dtype=float)\n",
    "    if vec.ndim != 1:\n",
    "        raise ValueError(\"vec.ndim = %s, expected 1\" % vec.ndim)\n",
    "        \n",
    "    if (a.shape[0] != a.shape[1]):\n",
    "        raise ValueError(\"a is not square\")\n",
    "        \n",
    "    if (a.shape[0] != vec.shape[0]):\n",
    "        raise ValueError(\"vec should be of length %s\" % a.shape[0])\n",
    "    \n",
    "    ###BEGIN SOLUTION\n",
    "    flag = True\n",
    "    iters = 1\n",
    "    outvec = vec\n",
    "    I = np.eye(np.shape(vec)[0])\n",
    "\n",
    "    lm_1 = mu\n",
    "    y = np.linalg.solve(A - lm_1 * I, outvec)\n",
    "    outvec = y / np.linalg.norm(y)\n",
    "    while (flag):\n",
    "        lm = np.dot(outvec, A@outvec) / np.dot(outvec, outvec)\n",
    "        y = np.linalg.solve(A - lm_1 * I, outvec)\n",
    "        outvec = y / np.sqrt(np.sum(y**2))\n",
    "        flag = (np.fabs(lm_1 - lm) > eps) & (iters < maxiter)\n",
    "        lm_1 = lm\n",
    "        iters+=1\n",
    "        \n",
    "    return lm, outvec, iters\n",
    "    ###END SOLUTION"
   ]
  },
  {
   "cell_type": "markdown",
   "metadata": {
    "nbgrader": {
     "grade": false,
     "grade_id": "cell-dbefba66b5327bd6",
     "locked": true,
     "schema_version": 3,
     "solution": false,
     "task": false
    }
   },
   "source": [
    "Протестируйте свою функцию на следующих примерах:"
   ]
  },
  {
   "cell_type": "code",
   "execution_count": 9,
   "metadata": {
    "nbgrader": {
     "grade": true,
     "grade_id": "cell-014b5a8fe53ecfdf",
     "locked": true,
     "points": 3,
     "schema_version": 3,
     "solution": false,
     "task": false
    }
   },
   "outputs": [],
   "source": [
    "A = np.asarray([[4, 34],\n",
    "                [7, 1]])\n",
    "x = np.random.random(size=2)\n",
    "\n",
    "l, e, k = inverse_iter(A, x, 1.)\n",
    "assert_allclose(A @ e, l * e, atol=1e-3)\n",
    "\n",
    "l, e, k = inverse_iter(A, x, 100.)\n",
    "assert_allclose(A @ e, l * e, atol=1e-3)\n",
    "\n",
    "###BEGIN HIDDEN TESTS\n",
    "\n",
    "A = np.asarray([[1, 2], [0, 1]])\n",
    "x = np.asarray([1, 1])\n",
    "\n",
    "l, e, k = inverse_iter(A, x, 0.5)\n",
    "assert_allclose(A @ e, l * e, atol=1e-3)\n",
    "\n",
    "l, e, k = inverse_iter(A, x, 50.)\n",
    "assert_allclose(A @ e, l * e, atol=1e-3)\n",
    "\n",
    "###END HIDDEN TESTS"
   ]
  },
  {
   "cell_type": "markdown",
   "metadata": {
    "nbgrader": {
     "grade": false,
     "grade_id": "cell-30adf2c9ac9e0774",
     "locked": true,
     "schema_version": 3,
     "solution": false,
     "task": false
    }
   },
   "source": [
    "## Пример\n",
    "\n",
    "Рассмотрите матрицу \n",
    "$$ A = \n",
    "\\begin{bmatrix}\n",
    "3 & 1 & 0 & 0\\\\ \n",
    "1 & 2 & 0 & 1\\\\ \n",
    "0 & 0 & 1 & 1\\\\ \n",
    "0 & 1 & 1 & 1\n",
    "\\end{bmatrix}.$$"
   ]
  },
  {
   "cell_type": "code",
   "execution_count": 18,
   "metadata": {
    "nbgrader": {
     "grade": false,
     "grade_id": "cell-3fb3b96b54cbb97d",
     "locked": false,
     "schema_version": 3,
     "solution": true,
     "task": false
    }
   },
   "outputs": [],
   "source": [
    "# Определите матрицу `А` и задайте начальное приближение для собственного вектора\n",
    "# (используйте случайный начальный вектор)\n",
    "\n",
    "def A_and_x(seed=1234):\n",
    "    \"\"\"Возвращает матрицу `А` и случайный начальный вектор.\"\"\"\n",
    "\n",
    "    ### BEGIN SOLUTION\n",
    "    A = [[3, 1, 0, 0],\n",
    "         [1, 2, 0, 1],\n",
    "         [0, 0, 1, 1],\n",
    "         [0, 1, 1, 1]]\n",
    "    A = np.asarray(A, dtype=float)\n",
    "    \n",
    "    rndm = np.random.RandomState(seed)\n",
    "    x = rndm.uniform(size=A.shape[0])\n",
    "    return A, x\n",
    "    ### END SOLUTION"
   ]
  },
  {
   "cell_type": "markdown",
   "metadata": {
    "nbgrader": {
     "grade": false,
     "grade_id": "cell-8070e62614ed1872",
     "locked": true,
     "schema_version": 3,
     "solution": false,
     "task": false
    }
   },
   "source": [
    "Найдите максимальное собственное число этой матрицы тремя разными методами."
   ]
  },
  {
   "cell_type": "markdown",
   "metadata": {
    "nbgrader": {
     "grade": false,
     "grade_id": "cell-81756f5999707654",
     "locked": true,
     "schema_version": 3,
     "solution": false,
     "task": false
    }
   },
   "source": [
    "### 1) Степенная итерация"
   ]
  },
  {
   "cell_type": "code",
   "execution_count": 19,
   "metadata": {
    "nbgrader": {
     "grade": true,
     "grade_id": "cell-a48d281064127067",
     "locked": true,
     "points": 1,
     "schema_version": 3,
     "solution": false,
     "task": false
    }
   },
   "outputs": [],
   "source": [
    "A, x = A_and_x()\n",
    "\n",
    "l, e, k = power_iter(A, x, eps=1e-5)\n",
    "assert_allclose(A @ e, l * e, atol=1.6e-2)\n",
    "\n",
    "### BEGIN HIDDEN TESTS\n",
    "A, x = A_and_x()\n",
    "l, e, k = power_iter(A, x, eps=1e-5)\n",
    "assert_allclose(A @ e, l * e, atol=1.6e-3)\n",
    "### END HIDDEN TESTS"
   ]
  },
  {
   "cell_type": "markdown",
   "metadata": {},
   "source": [
    "### 2) Обратная итерация с $\\mu = 3.5$"
   ]
  },
  {
   "cell_type": "code",
   "execution_count": 20,
   "metadata": {
    "nbgrader": {
     "grade": true,
     "grade_id": "cell-80ce0d792279ba41",
     "locked": true,
     "points": 1,
     "schema_version": 3,
     "solution": false,
     "task": false
    }
   },
   "outputs": [],
   "source": [
    "A, x = A_and_x()\n",
    "\n",
    "l, e, k = inverse_iter(A, x, 3.5, eps=1e-5)\n",
    "assert_allclose(A @ e, l * e, atol=1e-3)\n",
    "\n",
    "### BEGIN HIDDEN TESTS\n",
    "A, x = A_and_x()\n",
    "l, e, k = inverse_iter(A, x, 3.5, eps=1e-5)\n",
    "assert_allclose(A @ e, l * e, atol=1e-5)\n",
    "### END HIDDEN TESTS"
   ]
  },
  {
   "cell_type": "markdown",
   "metadata": {
    "nbgrader": {
     "grade": false,
     "grade_id": "cell-8e66d533134b1c8a",
     "locked": true,
     "schema_version": 3,
     "solution": false,
     "task": false
    }
   },
   "source": [
    "### 3) Обратная итерация с $\\mu = 3.7$"
   ]
  },
  {
   "cell_type": "code",
   "execution_count": 21,
   "metadata": {
    "nbgrader": {
     "grade": true,
     "grade_id": "cell-9fdc8e167e855b76",
     "locked": true,
     "points": 1,
     "schema_version": 3,
     "solution": false,
     "task": false
    }
   },
   "outputs": [],
   "source": [
    "A, x = A_and_x()\n",
    "\n",
    "l, e, k = inverse_iter(A, x, 3.7, eps=1e-5)\n",
    "assert_allclose(A @ e, l * e, atol=1e-3)\n",
    "\n",
    "### BEGIN HIDDEN TESTS\n",
    "A, x = A_and_x()\n",
    "l, e, k = inverse_iter(A, x, 3.7, 1e-5)\n",
    "assert_allclose(A @ e, l * e, atol=1e-5)\n",
    "### END HIDDEN TESTS"
   ]
  },
  {
   "cell_type": "markdown",
   "metadata": {
    "nbgrader": {
     "grade": false,
     "grade_id": "cell-5a89eda9d7deabf3",
     "locked": true,
     "points": 5,
     "schema_version": 3,
     "solution": false,
     "task": true
    }
   },
   "source": [
    "Сколько шагов $k$ требуется в каждом случае для того, чтобы получить настоящий собственный вектор $x^*$ с точностью $||x^* - x_k||_2 < 10^{-3}$?"
   ]
  },
  {
   "cell_type": "code",
   "execution_count": null,
   "metadata": {
    "nbgrader": {
     "grade": true,
     "grade_id": "cell-6e9a3b55d1fa9b7d",
     "locked": false,
     "points": 0,
     "schema_version": 3,
     "solution": true,
     "task": false
    }
   },
   "outputs": [],
   "source": []
  }
 ],
 "metadata": {
  "celltoolbar": "Create Assignment",
  "kernelspec": {
   "display_name": "Python 3",
   "language": "python",
   "name": "python3"
  },
  "language_info": {
   "codemirror_mode": {
    "name": "ipython",
    "version": 3
   },
   "file_extension": ".py",
   "mimetype": "text/x-python",
   "name": "python",
   "nbconvert_exporter": "python",
   "pygments_lexer": "ipython3",
   "version": "3.8.5"
  }
 },
 "nbformat": 4,
 "nbformat_minor": 2
}
