{
 "cells": [
  {
   "cell_type": "markdown",
   "metadata": {
    "nbgrader": {
     "grade": false,
     "grade_id": "cell-a2abfc4a6208ed23",
     "locked": true,
     "schema_version": 3,
     "solution": false,
     "task": false
    }
   },
   "source": [
    "# Часть I. Односторонние разностные схемы."
   ]
  },
  {
   "cell_type": "markdown",
   "metadata": {
    "nbgrader": {
     "grade": false,
     "grade_id": "cell-58ce0b90477554a8",
     "locked": true,
     "schema_version": 3,
     "solution": false,
     "task": false
    }
   },
   "source": [
    "Напишите функцию `deriv`, которая вычисляет производную аргумента в заданной точке $x$, используя одностороннюю разностную схему с заданным шагом $h$ и степенью аппроксимации $O(h^2)$."
   ]
  },
  {
   "cell_type": "code",
   "execution_count": 1,
   "metadata": {
    "nbgrader": {
     "grade": false,
     "grade_id": "cell-247122d69a9fc913",
     "locked": false,
     "schema_version": 3,
     "solution": true,
     "task": false
    }
   },
   "outputs": [],
   "source": [
    "def deriv(f, x, h):\n",
    "    \"\"\" Вычисляет производную `f` в точке `x` с шагом `h`.\n",
    "    Вычисляет производную, используя односторонню разностную схему со степенью аппроксимации $O(h^2)$.\n",
    "    \n",
    "    Parameters\n",
    "    ----------\n",
    "    f : callable\n",
    "        Функция, которую нужно продифференцировать\n",
    "    x : float\n",
    "        Точка, в которой нужно дифференцировать функцию\n",
    "    h : float\n",
    "        Шаг\n",
    "        \n",
    "    Rerurns\n",
    "    -------\n",
    "    fder : производная f(x) в точке x с шагом h.\n",
    "    \"\"\"\n",
    "    ###BEGIN SOLUTION\n",
    "    return (-1.5*f(x)+2*f(x+h)-0.5*f(x+2*h))/h\n",
    "    ###END SOLUTION"
   ]
  },
  {
   "cell_type": "markdown",
   "metadata": {
    "nbgrader": {
     "grade": false,
     "grade_id": "cell-d0404f738b4b1ddf",
     "locked": true,
     "schema_version": 3,
     "solution": false,
     "task": false
    }
   },
   "source": [
    "#### Тест I.1\n",
    "\n",
    "Проверьте ваш алгоритм на простом примере: продифференцируйте $f(x) = x^3$ в точке $x=0$. Прокомментируйте, совпадает ли результат с ожидаемым $f'(x) = 0$ при стремлении $h\\to 0$.\n",
    "\n",
    " (10% итоговой оценки)"
   ]
  },
  {
   "cell_type": "code",
   "execution_count": null,
   "metadata": {
    "nbgrader": {
     "grade": true,
     "grade_id": "cell-de34dd9a8de8f123",
     "locked": true,
     "points": 1,
     "schema_version": 3,
     "solution": false,
     "task": false
    }
   },
   "outputs": [],
   "source": [
    "x = 0\n",
    "for h in [1e-2, 1e-3, 1e-4, 1e-5]:\n",
    "    err = deriv(lambda x: x**3, x, h)\n",
    "    print(\"%5f -- %7.4g\" % (h, err))\n"
   ]
  },
  {
   "cell_type": "markdown",
   "metadata": {
    "nbgrader": {
     "grade": true,
     "grade_id": "cell-27237ba3cda86241",
     "locked": false,
     "points": 1,
     "schema_version": 3,
     "solution": true,
     "task": false
    }
   },
   "source": [
    " ... ENTER YOUR COMMENTS HERE ..."
   ]
  },
  {
   "cell_type": "markdown",
   "metadata": {
    "nbgrader": {
     "grade": false,
     "grade_id": "cell-27d5fa90ce50a65f",
     "locked": true,
     "schema_version": 3,
     "solution": false,
     "task": false
    }
   },
   "source": [
    "### Тест I.2\n",
    "\n",
    "Теперь попробуйте немного более сложную функцию $f(x) = x^2 \\log{x}$. Оцените значение производной в точке $x=1$, используя двухточечную и трехточечную схемы. Для обеих схем оцените значение $h$, при котором ошибка перестанет падать.\n",
    "\n",
    "(15% итоговой оценки)"
   ]
  },
  {
   "cell_type": "code",
   "execution_count": null,
   "metadata": {
    "collapsed": true,
    "nbgrader": {
     "grade": false,
     "grade_id": "cell-388936373111aa39",
     "locked": true,
     "schema_version": 3,
     "solution": false,
     "task": false
    }
   },
   "outputs": [],
   "source": [
    "from math import log\n",
    "\n",
    "def f(x):\n",
    "    return x**2 * log(x)\n",
    "    \n",
    "def fder(x):\n",
    "    return x * (2.*log(x) + 1)"
   ]
  },
  {
   "cell_type": "code",
   "execution_count": null,
   "metadata": {
    "nbgrader": {
     "grade": true,
     "grade_id": "cell-89d470f23af144b9",
     "locked": false,
     "points": 3,
     "schema_version": 3,
     "solution": true,
     "task": false
    }
   },
   "outputs": [],
   "source": [
    "# ... ENTER YOUR CODE HERE ..."
   ]
  },
  {
   "cell_type": "markdown",
   "metadata": {
    "nbgrader": {
     "grade": false,
     "grade_id": "cell-c80bff08a3ce816e",
     "locked": true,
     "schema_version": 3,
     "solution": false,
     "task": false
    }
   },
   "source": [
    "### Тест I.3 \n",
    "\n",
    "Теперь продифференцируйте $x^2 \\log(x)$ в $x=0$. Используйте трехточечную схему. Заметьте, что в нуле функцию нужно доопределить явным образом. Проверьте шкалированные ошибки. Объясните полученные результаты.\n",
    "\n",
    "(25% итоговой оценки)"
   ]
  },
  {
   "cell_type": "code",
   "execution_count": null,
   "metadata": {
    "nbgrader": {
     "grade": false,
     "grade_id": "cell-0f7900a58bda55ca",
     "locked": true,
     "schema_version": 3,
     "solution": false,
     "task": false
    }
   },
   "outputs": [],
   "source": [
    "def f(x):\n",
    "    if x == 0:\n",
    "        # предел $x^2 log(x)$ при $x-> 0$ равен нулю, хотя log(x) не определен в x=0\n",
    "        return 0.0\n",
    "    else:\n",
    "        return x**2 * log(x)\n",
    "    \n",
    "def fder(x):\n",
    "    if x == 0:\n",
    "        return 0.0\n",
    "    else:\n",
    "        return x*(2*log(x) + 1)\n",
    "\n",
    "x = 0\n",
    "for h in [1e-2, 1e-3, 1e-4, 1e-5]:\n",
    "    err = deriv(f, x, h) - fder(x)\n",
    "    print(\"%5f -- %7.4g\" % (h, err))"
   ]
  },
  {
   "cell_type": "code",
   "execution_count": null,
   "metadata": {
    "nbgrader": {
     "grade": true,
     "grade_id": "cell-798170312e193040",
     "locked": false,
     "points": 3,
     "schema_version": 3,
     "solution": true,
     "task": false
    }
   },
   "outputs": [],
   "source": []
  },
  {
   "cell_type": "markdown",
   "metadata": {
    "nbgrader": {
     "grade": true,
     "grade_id": "cell-0d44d43244d82696",
     "locked": false,
     "points": 2,
     "schema_version": 3,
     "solution": true,
     "task": false
    }
   },
   "source": [
    "... ENTER YOUR EXPLANATION HERE ..."
   ]
  },
  {
   "cell_type": "markdown",
   "metadata": {
    "nbgrader": {
     "grade": false,
     "grade_id": "cell-ea586deba7686923",
     "locked": true,
     "schema_version": 3,
     "solution": false,
     "task": false
    }
   },
   "source": [
    "# Часть II. Правило центральной точки "
   ]
  },
  {
   "cell_type": "markdown",
   "metadata": {
    "nbgrader": {
     "grade": false,
     "grade_id": "cell-823e204de1d177cf",
     "locked": true,
     "schema_version": 3,
     "solution": false,
     "task": false
    }
   },
   "source": [
    "Напишите функцию, вычисляющую определенный интеграл, используя правило центральной точки, с точностью до заданной погрешности $\\epsilon$. Оцените ошибку, сравнивая значения интеграла для $N$ и $2N$ элементарных интервалов."
   ]
  },
  {
   "cell_type": "code",
   "execution_count": 2,
   "metadata": {
    "nbgrader": {
     "grade": false,
     "grade_id": "cell-6d8e2a4d5161892f",
     "locked": false,
     "schema_version": 3,
     "solution": true,
     "task": false
    }
   },
   "outputs": [],
   "source": [
    "def midpoint_rule(func, a, b, eps):\n",
    "    \"\"\" Вычисляет интеграл f от a до b используя правило центральной точки.\n",
    "    \n",
    "    Parameters\n",
    "    ----------\n",
    "    func : callable\n",
    "        Функция, которую нужно проинтегрировать\n",
    "    a : float\n",
    "        Нижний предел интегрирования\n",
    "    b : float\n",
    "        Верхний предел интегрирования\n",
    "    eps : float\n",
    "        Ожидаемая ошибка оценки\n",
    "        \n",
    "    Returns\n",
    "    -------\n",
    "    integral : float\n",
    "        Оценка интеграла $\\int_a^b f(x) dx$.\n",
    "    \"\"\"\n",
    "    ###BEGIN SOLUTION\n",
    "    N=1\n",
    "    width = (b-a)/N\n",
    "    m = np.array([a+(2*k-1)/(2*N)*(b-a) for k in range(1, N+1)])\n",
    "    M = (b-a)/N*np.sum(func(m))\n",
    "    while N==1 or (abs(Mprev-M)>eps and N<10**50):\n",
    "        Mprev=M\n",
    "        N*=2\n",
    "        width = (b-a)/N\n",
    "        m = np.array([a+(2*k-1)/(2*N)*(b-a) for k in range(1, N+1)])\n",
    "        M = (b-a)/N*np.sum(func(m))\n",
    "    if N<10**50:\n",
    "        return M, N\n",
    "    return \"N is too big, sorry(\"\n",
    "    ###END SOLUTION"
   ]
  },
  {
   "cell_type": "markdown",
   "metadata": {
    "nbgrader": {
     "grade": false,
     "grade_id": "cell-a4a6f9fe49230343",
     "locked": true,
     "schema_version": 3,
     "solution": false,
     "task": false
    }
   },
   "source": [
    "### Тест II.1\n",
    "\n",
    "Протестирутйте ваш алгоритм на простом интеграле, который вы можете посчитать аналитически.\n",
    "\n",
    "Сравните скорость сходимости с ожидаемой $O(N^{-2})$ в зависимости от количества интервалов, необходимых для заданной точности $\\epsilon$.\n",
    "\n",
    "Сравните полученный результат с ответом, вычисленным \"руками\". Попадает ли результат в интервал заданной ошибки?\n",
    "\n",
    "(20% итоговой оценки)\n"
   ]
  },
  {
   "cell_type": "code",
   "execution_count": null,
   "metadata": {
    "nbgrader": {
     "grade": true,
     "grade_id": "cell-8f4a8b01438b2182",
     "locked": false,
     "points": 2,
     "schema_version": 3,
     "solution": true,
     "task": false
    }
   },
   "outputs": [],
   "source": []
  },
  {
   "cell_type": "markdown",
   "metadata": {
    "nbgrader": {
     "grade": true,
     "grade_id": "cell-d474c41a6a7cbc6c",
     "locked": false,
     "points": 2,
     "schema_version": 3,
     "solution": true,
     "task": false
    }
   },
   "source": [
    "... ENTER YOUR CODE AND COMMENTS HERE ..."
   ]
  },
  {
   "cell_type": "markdown",
   "metadata": {
    "nbgrader": {
     "grade": false,
     "grade_id": "cell-9b204a1b206b1efd",
     "locked": true,
     "schema_version": 3,
     "solution": false,
     "task": false
    }
   },
   "source": [
    "### Тест II.2\n",
    "\n",
    "Используя ваш алгоритм, посчитайте значение\n",
    "\n",
    "$$\n",
    "\\int_0^1\\! \\frac{\\sin{\\sqrt{x}}}{x}\\, dx\n",
    "$$\n",
    "\n",
    "с точностью до $\\epsilon=10^{-4}$.\n",
    "\n",
    "Заметим, что интеграл содержит интегрируемую особенность в нижнем пределе. Выполните вычисление двумя способами: во первых, посчитайте интеграл \"в лоб\", во вторых, вычтите особенность из подынтегрального выражения. Сравните количество необходимых итераций для достижения заданной точности $\\epsilon$.\n",
    "\n",
    "(30% итоговой оценки)"
   ]
  },
  {
   "cell_type": "code",
   "execution_count": null,
   "metadata": {
    "collapsed": true,
    "nbgrader": {
     "grade": true,
     "grade_id": "cell-46b736cfbfd4d657",
     "locked": false,
     "points": 3,
     "schema_version": 3,
     "solution": true,
     "task": false
    }
   },
   "outputs": [],
   "source": [
    "# ... ENTER YOUR CODE HERE ..."
   ]
  },
  {
   "cell_type": "markdown",
   "metadata": {
    "collapsed": true,
    "nbgrader": {
     "grade": true,
     "grade_id": "cell-b34c2fc3d2b074ba",
     "locked": false,
     "points": 3,
     "schema_version": 3,
     "solution": true,
     "task": false
    }
   },
   "source": []
  }
 ],
 "metadata": {
  "celltoolbar": "Create Assignment",
  "kernelspec": {
   "display_name": "Python 3",
   "language": "python",
   "name": "python3"
  },
  "language_info": {
   "codemirror_mode": {
    "name": "ipython",
    "version": 3
   },
   "file_extension": ".py",
   "mimetype": "text/x-python",
   "name": "python",
   "nbconvert_exporter": "python",
   "pygments_lexer": "ipython3",
   "version": "3.7.3"
  }
 },
 "nbformat": 4,
 "nbformat_minor": 2
}
