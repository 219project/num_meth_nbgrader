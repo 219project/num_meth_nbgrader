{
 "cells": [
  {
   "cell_type": "code",
   "execution_count": 1,
   "metadata": {
    "nbgrader": {
     "grade": false,
     "grade_id": "cell-66c8d50345588c95",
     "locked": true,
     "schema_version": 3,
     "solution": false,
     "task": false
    }
   },
   "outputs": [],
   "source": [
    "import numpy as np\n",
    "\n",
    "from numpy.testing import assert_allclose"
   ]
  },
  {
   "cell_type": "markdown",
   "metadata": {
    "nbgrader": {
     "grade": false,
     "grade_id": "cell-cfd189ec24b01044",
     "locked": true,
     "schema_version": 3,
     "solution": false,
     "task": false
    }
   },
   "source": [
    "\n",
    "### Часть I. Постройте отражение Хаусхолдера для вектора.\n",
    "\n",
    "Дан вектор $\\mathbf{x}$ и плоскость, заданная вектором нормали $\\mathbf{u}$. Преобразование Хаусхолдера отражает $\\mathbf{x}$ относительно плоскости.\n",
    "\n",
    "Матрица преобразований Хаусхолдера:\n",
    "$$ \\mathbf{H} = \\mathbf{1} - 2 \\mathbf{u} \\mathbf{u}^T $$\n",
    "\n",
    "Если даны два вектора $\\mathbf{x}$ и $\\mathbf{y}$ одинаковой длины, поворот, преобразующий $\\mathbf{x}$ в $\\mathbf{y}$ называется преобразованием Хаусхолдера с\n",
    "$$ \\mathbf{u} = \\frac{\\mathbf{x} - \\mathbf{y}}{\\left|\\mathbf{x} - \\mathbf{y}\\right|} $$\n",
    "\n",
    "Напишите функцию, преобразующую заданный вектор $\\mathbf{x} = (x_1, \\dots, x_n)$ в $\\mathbf{y} = (\\left|\\mathbf{x}\\right|, 0, \\dots, 0)^T$, используя преобразование Хаусхолдера.\n"
   ]
  },
  {
   "cell_type": "code",
   "execution_count": 2,
   "metadata": {
    "nbgrader": {
     "grade": false,
     "grade_id": "cell-d8d82542e794c193",
     "locked": false,
     "schema_version": 3,
     "solution": true,
     "task": false
    }
   },
   "outputs": [],
   "source": [
    "def householder(vec):\n",
    "    \"\"\"Создает отражение Хаусхолдера, преобразующее 2-ю, 3-ю и т.д. компоненты вектора vec в нули.\n",
    "    \n",
    "    Parameters\n",
    "    ----------\n",
    "    vec : array-like of floats, shape (n,)\n",
    "        Введенный вектор\n",
    "    \n",
    "    Returns\n",
    "    -------\n",
    "    outvec : array of floats, shape (n,)\n",
    "        Преобразованный вектор, причем ``outvec[1:]==0`` и ``|outvec| == |vec|``\n",
    "    H : array of floats, shape (n, n)\n",
    "        Ортогональная матрица отражений Хаусхолдера\n",
    "    \"\"\"\n",
    "    vec = np.asarray(vec, dtype=float)\n",
    "    if vec.ndim != 1:\n",
    "        raise ValueError(\"vec.ndim = %s, expected 1\" % vec.ndim)\n",
    "    \n",
    "    ###BEGIN SOLUTION\n",
    "    module = np.linalg.norm(vec)\n",
    "    y = np.zeros_like(vec)\n",
    "    y[0] = module\n",
    "    u = np.zeros_like(vec)\n",
    "    u = (vec - y) / np.linalg.norm(vec - y)\n",
    "    if abs(u[0]) < 1e-6:\n",
    "        u[0] = -(sum(vec**2)-vec[0]**2)/(vec[0]+module) \n",
    "    \n",
    "    H = np.identity(vec.shape[0]) - 2 * u[:, None] @ u[None, :]\n",
    "        \n",
    "    return y, H\n",
    "    ###END SOLUTION"
   ]
  },
  {
   "cell_type": "markdown",
   "metadata": {
    "nbgrader": {
     "grade": false,
     "grade_id": "cell-63560fcd44e56146",
     "locked": true,
     "schema_version": 3,
     "solution": false,
     "task": false
    }
   },
   "source": [
    "Протестируйте свою функцию на следующих примерах:"
   ]
  },
  {
   "cell_type": "code",
   "execution_count": 3,
   "metadata": {
    "nbgrader": {
     "grade": true,
     "grade_id": "cell-7364c2b9de6bb44c",
     "locked": true,
     "points": 1,
     "schema_version": 3,
     "solution": false,
     "task": false
    }
   },
   "outputs": [],
   "source": [
    "v = np.array([1, 2, 3])\n",
    "v1, h = householder(v)\n",
    "\n",
    "assert_allclose(h @ v1, v, atol=1e-14)\n",
    "assert_allclose(h @ v, v1, atol=1e-14)\n",
    "\n",
    "assert_allclose(v1[1:], 0, atol=1e-14)\n",
    "\n",
    "assert_allclose(h @ h.T, np.eye(3), atol=1e-14)"
   ]
  },
  {
   "cell_type": "code",
   "execution_count": 4,
   "metadata": {
    "nbgrader": {
     "grade": true,
     "grade_id": "cell-bbe4e0fdd8cb66ae",
     "locked": true,
     "points": 1,
     "schema_version": 3,
     "solution": false,
     "task": false
    }
   },
   "outputs": [],
   "source": [
    "###BEGIN HIDDEN TEST\n",
    "rndm = np.random.RandomState(1223)\n",
    "vec = rndm.uniform(size=21)\n",
    "v1, h = householder(vec)\n",
    "\n",
    "assert_allclose(h @ v1, vec, atol=1e-14)\n",
    "assert_allclose(h @ vec, v1, atol=1e-14)\n",
    "assert_allclose(v1[1:], 0, atol=1e-14)\n",
    "\n",
    "assert_allclose(h @ h.T, np.eye(h.shape[0]), atol=1e-14)\n",
    "### END HIDDEN TEST"
   ]
  },
  {
   "cell_type": "markdown",
   "metadata": {
    "nbgrader": {
     "grade": false,
     "grade_id": "cell-35217c03c48d40be",
     "locked": true,
     "schema_version": 3,
     "solution": false,
     "task": false
    }
   },
   "source": [
    "### Part II. Вычисление $\\mathrm{QR}$ - разложения матрицы.\n",
    "\n",
    "Дана прямоугольная $m\\times n$ матрица $\\mathbf{A}$. Выполните отражение Хаусхолдера матрицы $\\mathbf{H}_1$, преобразующее первый столбец матрицы $\\mathbf{A}$ (назовем результат $\\mathbf{A}^{(1)}$)\n",
    "\n",
    "$$ \n",
    "\\mathbf{H}_1 \\mathbf{A} %\\begin{pmatrix} \\times &amp; \\times &amp; \\times &amp; \\dots &amp; \\times \\\\ 0 &amp; \\times &amp; \\times &amp; \\dots &amp; \\times \\\\ 0 &amp; \\times &amp; \\times &amp; \\dots &amp; \\times \\\\ &amp;&amp; \\dots&amp;&amp; \\\\ 0 &amp; \\times &amp; \\times &amp; \\dots &amp; \\times \\\\ \\end{pmatrix}\n",
    "%\n",
    "\\equiv \\mathbf{A}^{(1)}\\;. \n",
    "$$\n",
    "\n",
    "Теперь рассмотрим нижнюю правую часть матрицы $\\mathbf{A}^{(1)}$ и выполним преобразование Хаусхолдера, действующее на 2 столбец $\\mathbf{A}$:\n",
    "$$\n",
    "\\mathbf{H}_2 \\mathbf{A}^{(1)} % \\begin{pmatrix} \\times &amp; \\times &amp; \\times &amp; \\dots &amp; \\times \\\\ 0 &amp; \\times &amp; \\times &amp; \\dots &amp; \\times \\\\ 0 &amp; 0 &amp; \\times &amp; \\dots &amp; \\times \\\\ &amp;&amp; \\dots&amp;&amp; \\\\ 0 &amp; 0 &amp; \\times &amp; \\dots &amp; \\times \\\\ \\end{pmatrix}\n",
    "%\n",
    "\\equiv \\mathbf{A}^{(2)} \\;. $$\n",
    "\n",
    "Повторяя процесс $n$ раз, получим\n",
    "$$\n",
    "\\mathbf{H}_{n} \\cdots \\mathbf{H}_2 \\mathbf{H}_1 \\mathbf{A} = \\mathbf{R} \\;, \n",
    "$$\n",
    "\n",
    "где $\\mathbf{R}$ верхняя треугольная матрица. Так как каждая из матриц $\\mathbf{H}_k$ ортогональна, таковым будет и их произведение. Обратная от ортогональной также есть матрица ортогональная. Таким образом, алгоритм создает $\\mathrm{QR}$ - разложение матрицы $\\mathbf{A}$.\n",
    "\n",
    "Напишите функцию, получающую прямоугольную матрицу $A$ и возвращающую матрицы $Q$ и $R$ --- компоненты $QR$-разложения $A$.\n"
   ]
  },
  {
   "cell_type": "code",
   "execution_count": 5,
   "metadata": {
    "nbgrader": {
     "grade": false,
     "grade_id": "cell-d5a63eec70d4d566",
     "locked": false,
     "schema_version": 3,
     "solution": true,
     "task": false
    }
   },
   "outputs": [],
   "source": [
    "def qr_decomp(a):\n",
    "    \"\"\"Вычисляет QR - разложение матрицы.\n",
    "    \n",
    "    Parameters\n",
    "    ----------\n",
    "    a : ndarray, shape(m, n)\n",
    "        Введенная матрица\n",
    "    \n",
    "    Returns\n",
    "    -------\n",
    "    q : ndarray, shape(m, m)\n",
    "        Ортогональная матрица\n",
    "    r : ndarray, shape(m, n)\n",
    "        Верхняя треугольная матрица\n",
    "        \n",
    "    Examples\n",
    "    --------\n",
    "    >>> a = np.random.random(size=(3, 5))\n",
    "    >>> q, r = qr_decomp(a)\n",
    "    >>> np.testing.assert_allclose(q @ r, a, atol=1e-14)\n",
    "    \n",
    "    \"\"\"\n",
    "    a1 = np.array(a, copy=True, dtype=float)\n",
    "    m, n = a1.shape\n",
    "    \n",
    "    ###BEGIN SOLUTION\n",
    "    a1 = np.array(a, copy=True, dtype=float)\n",
    "    m, n = a1.shape\n",
    "    H = np.eye(m)\n",
    "   \n",
    "    for i in range(n if n<m else m-1):\n",
    "        matrix = a1[i:, i:]\n",
    "        vec = matrix[:,0]\n",
    "        Hi = np.eye(m)\n",
    "        Hi[i:, i:] = householder(vec)[1]\n",
    "        a1 = Hi @ a1\n",
    "        H = Hi @ H\n",
    "    return H.T, H @ a\n",
    "    ###END SOLUTION"
   ]
  },
  {
   "cell_type": "code",
   "execution_count": 6,
   "metadata": {
    "nbgrader": {
     "grade": false,
     "grade_id": "cell-56fbda736c3cd7ea",
     "locked": true,
     "schema_version": 3,
     "solution": false,
     "task": false
    }
   },
   "outputs": [],
   "source": [
    "# можете запустить данную операцию для бооее сжатого вывода: нули вместо `1e-16` и т.д.\n",
    "np.set_printoptions(suppress=True)"
   ]
  },
  {
   "cell_type": "code",
   "execution_count": 7,
   "metadata": {
    "nbgrader": {
     "grade": true,
     "grade_id": "cell-c3391a61cbdadb2f",
     "locked": true,
     "points": 2,
     "schema_version": 3,
     "solution": false,
     "task": false
    }
   },
   "outputs": [],
   "source": [
    "# Тест II.1\n",
    "\n",
    "rndm = np.random.RandomState(1234)\n",
    "a = rndm.uniform(size=(5, 3))\n",
    "aa = a.copy()\n",
    "\n",
    "q, r = qr_decomp(a)\n",
    "\n",
    "# check that `qr_decomp` leaves `a` intact\n",
    "assert_allclose(a, aa, atol=1e-16)\n",
    "\n",
    "# тестируем, что Q ортогональна\n",
    "assert_allclose(q @ q.T, np.eye(5), atol=1e-14)\n",
    "\n",
    "# проверяем разложение\n",
    "assert_allclose(q @ r, a, atol=1e-14)"
   ]
  },
  {
   "cell_type": "markdown",
   "metadata": {
    "nbgrader": {
     "grade": false,
     "grade_id": "cell-c0e81975f522036f",
     "locked": true,
     "schema_version": 3,
     "solution": false,
     "task": false
    }
   },
   "source": [
    "Теперь сравните ваше разложение с разложением, полученным библиотечной функцией (содержащей соответствующие функции библиотеки LAPACK)"
   ]
  },
  {
   "cell_type": "markdown",
   "metadata": {},
   "source": [
    "## Остальную часть задания необходимо сдать преподавателю как задание часть Б."
   ]
  },
  {
   "cell_type": "code",
   "execution_count": 8,
   "metadata": {
    "nbgrader": {
     "grade": false,
     "grade_id": "cell-30c8e09d6dfccd7e",
     "locked": true,
     "schema_version": 3,
     "solution": false,
     "task": false
    }
   },
   "outputs": [],
   "source": [
    "from scipy.linalg import qr\n",
    "qq, rr = qr(a)\n",
    "\n",
    "assert_allclose(np.dot(qq, rr), a,\n",
    "                atol=1e-14)"
   ]
  },
  {
   "cell_type": "markdown",
   "metadata": {},
   "source": [
    "Проверьте, согласуются ли ваши матрицы `q` и `r` с `qq` и `rr`. Объясните результат.\n",
    "Оставьте пояснения в этой ячейке."
   ]
  },
  {
   "cell_type": "markdown",
   "metadata": {
    "nbgrader": {
     "grade": false,
     "grade_id": "cell-28b501b4a2cd3dc1",
     "locked": true,
     "schema_version": 3,
     "solution": false,
     "task": false
    }
   },
   "source": [
    "\n",
    "### Часть III. Безматричная реализация.\n",
    "\n",
    "Отметим необычную структуру матрицы Хаусхолдера: матрица поворота $\\mathbf{H}$ полностью характеризуется вектором отражения $\\mathbf{u}$. Заметим, также, что вычислительная сложность операции отражения матрицы сильно зависит от порядка операций:\n",
    "$$ \\left( \\mathbf{u} \\mathbf{u}^T \\right) \\mathbf{A} \\qquad \\textrm{is } O(m^2 n)\\;, $$\n",
    "\n",
    "тогда как $$ \\mathbf{u} \\left( \\mathbf{u}^T \\mathbf{A} \\right) \\qquad \\textrm{is } O(mn) $$\n",
    "\n",
    "Таким образом, следует избегать формирований матриц $\\mathbf{H}$. Вместо этого можно сохранять сами векторы отражения $\\mathbf{u}$ и производить умножение произвольной матрицы на $\\mathbf{Q}^T$, например, как отдельную функцию (класс).\n",
    "\n",
    "Напишите функцию, выполняющую QR - разложение матрицы без формирования матриц $\\mathbf{H}$ и возвращающую матрицу $\\mathbf{R}$, а также вектора отражений Хаусхолдера.\n",
    "\n",
    "\n",
    "Напишите вторую функцию, которая использует вектора отражений, полученных предыдущей функцией, для вычисления произведения $Q^T B$ для заданной матрицы B. Убедитесь, что вы добавили достаточно комментариев, следующих вашим выкладкам. \n",
    "\n"
   ]
  },
  {
   "cell_type": "code",
   "execution_count": 9,
   "metadata": {
    "nbgrader": {
     "grade": false,
     "grade_id": "cell-5360f8930eabe0b4",
     "locked": false,
     "schema_version": 3,
     "solution": true,
     "task": false
    }
   },
   "outputs": [],
   "source": [
    "def qr_nomatrix(a):\n",
    "    \"\"\"Form QR decomposition of `a` via successive Householder reflections.\n",
    "    \n",
    "    Parameters\n",
    "    ----------\n",
    "    a : ndarray\n",
    "        Input matrix\n",
    "    \n",
    "    Returns\n",
    "    -------\n",
    "    R : ndarray\n",
    "        Upper triangular matrix of the QR decomposition\n",
    "    \n",
    "    U : ndarray\n",
    "        Columns store successive Householder reflectors: `U[j:, j]` stores\n",
    "        the Householder reflector for reducing the `j`-th column.\n",
    "        \n",
    "    See Also\n",
    "    --------\n",
    "    aU_to_R : apply Householder reflectors stored in `U` to `a`.\n",
    "    \n",
    "    \"\"\"\n",
    "    ###BEGIN SOLUTION\n",
    "    a1 = a.copy()\n",
    "    m, n = a.shape\n",
    "    U = np.zeros_like(a)\n",
    "    \n",
    "    for i in range(n if n<m else m-1):  # Проверяем, какое измерение матрицы больше\n",
    "        vec = a1[i:,i]  # Вектор, который хотим повернуть - от диагонали и ниже\n",
    "        y = np.zeros_like(vec)\n",
    "        y[0] = np.linalg.norm(vec)\n",
    "        u = np.zeros(m-i)  # Наш reflection vector(вектор отражения?)\n",
    "        u = (vec - y) / np.linalg.norm(vec - y)  # Заполняем как в Хаусхолдере\n",
    "        \n",
    "        # Чтобы избежать зануления в случае, когда векторы почти параллельны\n",
    "        if abs(u[0])<1e-6:\n",
    "            u[0] = -(sum(vec**2) - vec[0]**2) / (vec[0] + y[0])\n",
    "\n",
    "        a1[i:, i:] = a1[i:, i:] -  2*u[:, None] @ (u @ a1[i:, i:]).reshape(1,-1)\n",
    "\n",
    "        U[i:, i] = u  # Нужный столбик матрицы заполняем нашим вектором\n",
    "    return a1, U\n",
    "    ###END SOLUTION\n",
    "\n",
    "    \n",
    "def householder_apply(b, uu):\n",
    "    \"\"\"Apply the Householder reflectors stored in `uu` to `b`.\n",
    "    \n",
    "    The result is equivalent to\n",
    "    >>> r, q = qr_decomp(a)\n",
    "    >>> q.T @ b\n",
    "    \n",
    "    Parameters\n",
    "    ----------\n",
    "    b : ndarray\n",
    "        Input matrix\n",
    "    uu : ndarray\n",
    "        Householder reflectors: `U[j:, j]` is the reflection vector\n",
    "        for transforming the `j`-th column of `a`.\n",
    "        \n",
    "    Returns\n",
    "    -------\n",
    "    r : ndarray\n",
    "        The result of applying the reflectors to `b`. Equivalent to\n",
    "        computing `q.T @ b`.\n",
    "\n",
    "    See Also\n",
    "    --------\n",
    "    qr_decomp\n",
    "    \n",
    "    \"\"\"\n",
    "    ###BEGIN SOLUTION\n",
    "    m, n = uu.shape\n",
    "    h = np.eye(m)\n",
    "    for i in range(n):\n",
    "        h = h - 2 * np.outer(h @ uu[:,i], uu[:,i] )\n",
    "    return h.T @ b\n",
    "    ###END SOLUTION\n",
    "    "
   ]
  },
  {
   "cell_type": "code",
   "execution_count": 2,
   "metadata": {
    "nbgrader": {
     "grade": true,
     "grade_id": "cell-68363e2462de3a8b",
     "locked": true,
     "points": 2,
     "schema_version": 3,
     "solution": false,
     "task": false
    }
   },
   "outputs": [
    {
     "ename": "NameError",
     "evalue": "name 'rndm' is not defined",
     "output_type": "error",
     "traceback": [
      "\u001b[0;31m---------------------------------------------------------------------------\u001b[0m",
      "\u001b[0;31mNameError\u001b[0m                                 Traceback (most recent call last)",
      "\u001b[0;32m<ipython-input-2-eaa971a2614e>\u001b[0m in \u001b[0;36m<module>\u001b[0;34m\u001b[0m\n\u001b[0;32m----> 1\u001b[0;31m \u001b[0ma\u001b[0m \u001b[0;34m=\u001b[0m \u001b[0mrndm\u001b[0m\u001b[0;34m.\u001b[0m\u001b[0muniform\u001b[0m\u001b[0;34m(\u001b[0m\u001b[0msize\u001b[0m\u001b[0;34m=\u001b[0m\u001b[0;34m(\u001b[0m\u001b[0;36m5\u001b[0m\u001b[0;34m,\u001b[0m \u001b[0;36m5\u001b[0m\u001b[0;34m)\u001b[0m\u001b[0;34m)\u001b[0m\u001b[0;34m\u001b[0m\u001b[0;34m\u001b[0m\u001b[0m\n\u001b[0m\u001b[1;32m      2\u001b[0m \u001b[0mR1\u001b[0m\u001b[0;34m,\u001b[0m \u001b[0mU\u001b[0m \u001b[0;34m=\u001b[0m \u001b[0mqr_nomatrix\u001b[0m\u001b[0;34m(\u001b[0m\u001b[0ma\u001b[0m\u001b[0;34m)\u001b[0m\u001b[0;34m\u001b[0m\u001b[0;34m\u001b[0m\u001b[0m\n\u001b[1;32m      3\u001b[0m \u001b[0mR2\u001b[0m \u001b[0;34m=\u001b[0m \u001b[0mhouseholder_apply\u001b[0m\u001b[0;34m(\u001b[0m\u001b[0ma\u001b[0m\u001b[0;34m,\u001b[0m \u001b[0mU\u001b[0m\u001b[0;34m)\u001b[0m\u001b[0;34m\u001b[0m\u001b[0;34m\u001b[0m\u001b[0m\n\u001b[1;32m      4\u001b[0m \u001b[0mR_lib\u001b[0m \u001b[0;34m=\u001b[0m \u001b[0mqr\u001b[0m\u001b[0;34m(\u001b[0m\u001b[0ma\u001b[0m\u001b[0;34m)\u001b[0m\u001b[0;34m[\u001b[0m\u001b[0;36m1\u001b[0m\u001b[0;34m]\u001b[0m\u001b[0;34m\u001b[0m\u001b[0;34m\u001b[0m\u001b[0m\n\u001b[1;32m      5\u001b[0m \u001b[0massert_allclose\u001b[0m\u001b[0;34m(\u001b[0m\u001b[0mR1\u001b[0m\u001b[0;34m,\u001b[0m \u001b[0mR2\u001b[0m\u001b[0;34m,\u001b[0m \u001b[0matol\u001b[0m\u001b[0;34m=\u001b[0m\u001b[0;36m1e-14\u001b[0m\u001b[0;34m)\u001b[0m\u001b[0;34m\u001b[0m\u001b[0;34m\u001b[0m\u001b[0m\n",
      "\u001b[0;31mNameError\u001b[0m: name 'rndm' is not defined"
     ]
    }
   ],
   "source": [
    "a = rndm.uniform(size=(5, 5))\n",
    "R1, U = qr_nomatrix(a)\n",
    "R2 = householder_apply(a, U)\n",
    "R_lib = qr(a)[1]\n",
    "assert_allclose(R1, R2, atol=1e-14)\n",
    "\n",
    "###BEGIN HIDDEN TESTS\n",
    "\n",
    "name2 = \"Test 2: vertical rectangular matrix\"\n",
    "a2 = rndm.uniform(size=(5, 3))\n",
    "R1, U = qr_nomatrix(a2)\n",
    "R22 = householder_apply(a2, U)\n",
    "R_lib2 = qr(a2)[1]\n",
    "assert_allclose(R1, R22, atol=1e-14)\n",
    "\n",
    "\n",
    "name3 = \"Test 3: horizontal rectangular matrix\"\n",
    "a3 = rndm.uniform(size=(3, 5))\n",
    "R1, U = qr_nomatrix(a3)\n",
    "R23 = householder_apply(a3, U)\n",
    "R_lib3 = qr(a3)[1]\n",
    "assert_allclose(R1, R23, atol=1e-14)\n",
    "\n",
    "###END HIDDEN TESTS"
   ]
  },
  {
   "cell_type": "code",
   "execution_count": 1,
   "metadata": {
    "nbgrader": {
     "grade": true,
     "grade_id": "cell-159c6803d580116d",
     "locked": true,
     "points": 2,
     "schema_version": 3,
     "solution": false,
     "task": false
    }
   },
   "outputs": [
    {
     "ename": "NameError",
     "evalue": "name 'np' is not defined",
     "output_type": "error",
     "traceback": [
      "\u001b[0;31m---------------------------------------------------------------------------\u001b[0m",
      "\u001b[0;31mNameError\u001b[0m                                 Traceback (most recent call last)",
      "\u001b[0;32m<ipython-input-1-c3796e1e70bd>\u001b[0m in \u001b[0;36m<module>\u001b[0;34m\u001b[0m\n\u001b[1;32m      1\u001b[0m \u001b[0;31m# Check consistency with the scipy library decomposition. Allow for the signs\u001b[0m\u001b[0;34m\u001b[0m\u001b[0;34m\u001b[0m\u001b[0;34m\u001b[0m\u001b[0m\n\u001b[1;32m      2\u001b[0m \u001b[0;34m\u001b[0m\u001b[0m\n\u001b[0;32m----> 3\u001b[0;31m cond = [np.allclose(R2[i, :], R_lib[i, :], atol=1e-14) or\n\u001b[0m\u001b[1;32m      4\u001b[0m         np.allclose(R2[i, :], -R_lib[i, :], atol=1e-14) for i in range(5)]\n\u001b[1;32m      5\u001b[0m \u001b[0;32massert\u001b[0m \u001b[0;32mFalse\u001b[0m \u001b[0;32mnot\u001b[0m \u001b[0;32min\u001b[0m \u001b[0mcond\u001b[0m\u001b[0;34m\u001b[0m\u001b[0;34m\u001b[0m\u001b[0m\n",
      "\u001b[0;32m<ipython-input-1-c3796e1e70bd>\u001b[0m in \u001b[0;36m<listcomp>\u001b[0;34m(.0)\u001b[0m\n\u001b[1;32m      1\u001b[0m \u001b[0;31m# Check consistency with the scipy library decomposition. Allow for the signs\u001b[0m\u001b[0;34m\u001b[0m\u001b[0;34m\u001b[0m\u001b[0;34m\u001b[0m\u001b[0m\n\u001b[1;32m      2\u001b[0m \u001b[0;34m\u001b[0m\u001b[0m\n\u001b[0;32m----> 3\u001b[0;31m cond = [np.allclose(R2[i, :], R_lib[i, :], atol=1e-14) or\n\u001b[0m\u001b[1;32m      4\u001b[0m         np.allclose(R2[i, :], -R_lib[i, :], atol=1e-14) for i in range(5)]\n\u001b[1;32m      5\u001b[0m \u001b[0;32massert\u001b[0m \u001b[0;32mFalse\u001b[0m \u001b[0;32mnot\u001b[0m \u001b[0;32min\u001b[0m \u001b[0mcond\u001b[0m\u001b[0;34m\u001b[0m\u001b[0;34m\u001b[0m\u001b[0m\n",
      "\u001b[0;31mNameError\u001b[0m: name 'np' is not defined"
     ]
    }
   ],
   "source": [
    "# Check consistency with the scipy library decomposition. Allow for the signs\n",
    "\n",
    "conds = [np.allclose(R2[i, :], R_lib[i, :], atol=1e-14) or\n",
    "         np.allclose(R2[i, :], -R_lib[i, :], atol=1e-14) for i in range(5)]\n",
    "assert False not in conds\n",
    "\n",
    "###BEGIN HIDDEN TESTS\n",
    "conds = [np.allclose(R22[i, :], R_lib2[i, :]) or\n",
    "         np.allclose(R22[i, :], -R_lib2[i, :]) for i in range(5)]\n",
    "assert False not in conds\n",
    "\n",
    "conds = [np.allclose(R23[i, :], R_lib3[i, :]) or\n",
    "         np.allclose(R23[i, :], -R_lib3[i, :]) for i in range(3)]\n",
    "assert False not in conds\n",
    "###END HIDDEN TESTS"
   ]
  },
  {
   "cell_type": "code",
   "execution_count": 11,
   "metadata": {},
   "outputs": [],
   "source": [
    "### TESTS\n",
    "\n",
    "rndm = np.random.RandomState(1234)\n",
    "a = rndm.uniform(size=(5, 3))\n",
    "\n",
    "q, r = qr_decomp(a)\n",
    "rr, uu = qr_nomatrix(a)\n",
    "\n",
    "# check consistency\n",
    "assert_allclose(np.triu(r),\n",
    "                np.triu(rr), atol=1e-14)\n",
    "\n",
    "# $Q^T @ A = R$\n",
    "assert_allclose(householder_apply(a, uu),\n",
    "                r,\n",
    "                atol=1e-14)\n",
    "\n",
    "# act on a different matrix\n",
    "b = rndm.uniform(size=(5, 3))\n",
    "assert_allclose(householder_apply(b, uu),\n",
    "                q.T @ b,\n",
    "                atol=1e-14)\n"
   ]
  },
  {
   "cell_type": "code",
   "execution_count": null,
   "metadata": {},
   "outputs": [],
   "source": []
  }
 ],
 "metadata": {
  "celltoolbar": "Create Assignment",
  "kernelspec": {
   "display_name": "Python 3",
   "language": "python",
   "name": "python3"
  },
  "language_info": {
   "codemirror_mode": {
    "name": "ipython",
    "version": 3
   },
   "file_extension": ".py",
   "mimetype": "text/x-python",
   "name": "python",
   "nbconvert_exporter": "python",
   "pygments_lexer": "ipython3",
   "version": "3.8.5"
  }
 },
 "nbformat": 4,
 "nbformat_minor": 4
}
