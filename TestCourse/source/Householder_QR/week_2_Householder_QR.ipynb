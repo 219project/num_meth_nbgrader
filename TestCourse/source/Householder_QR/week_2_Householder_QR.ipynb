{
 "cells": [
  {
   "cell_type": "code",
   "execution_count": 1,
   "metadata": {
    "nbgrader": {
     "grade": false,
     "grade_id": "cell-66c8d50345588c95",
     "locked": true,
     "schema_version": 3,
     "solution": false,
     "task": false
    }
   },
   "outputs": [],
   "source": [
    "import numpy as np\n",
    "\n",
    "from numpy.testing import assert_allclose"
   ]
  },
  {
   "cell_type": "markdown",
   "metadata": {
    "nbgrader": {
     "grade": false,
     "grade_id": "cell-cfd189ec24b01044",
     "locked": true,
     "schema_version": 3,
     "solution": false,
     "task": false
    }
   },
   "source": [
    "\n",
    "### Часть I. Постройте отражение Хаусхолдера для вектора.\n",
    "\n",
    "Дан вектор $\\mathbf{x}$ и плоскость, заданная вектором нормали $\\mathbf{u}$. Преобразование Хаусхолдера отражает $\\mathbf{x}$ относительно плоскости.\n",
    "\n",
    "Матрица преобразований Хаусхолдера:\n",
    "$$ \\mathbf{H} = \\mathbf{1} - 2 \\mathbf{u} \\mathbf{u}^T $$\n",
    "\n",
    "Если даны два вектора $\\mathbf{x}$ и $\\mathbf{y}$ одинаковой длины, поворот, преобразующий $\\mathbf{x}$ в $\\mathbf{y}$ называется преобразованием Хаусхолдера с\n",
    "$$ \\mathbf{u} = \\frac{\\mathbf{x} - \\mathbf{y}}{\\left|\\mathbf{x} - \\mathbf{y}\\right|} $$\n",
    "\n",
    "Напишите функцию, преобразующую заданный вектор $\\mathbf{x} = (x_1, \\dots, x_n)$ в $\\mathbf{y} = (\\left|\\mathbf{x}\\right|, 0, \\dots, 0)^T$, используя преобразование Хаусхолдера.\n"
   ]
  },
  {
   "cell_type": "code",
   "execution_count": 2,
   "metadata": {
    "nbgrader": {
     "grade": false,
     "grade_id": "cell-d8d82542e794c193",
     "locked": false,
     "schema_version": 3,
     "solution": true,
     "task": false
    }
   },
   "outputs": [],
   "source": [
    "def householder(vec):\n",
    "    \"\"\"Создает отражение Хаусхолдера, преобразующее 2-ю, 3-ю и т.д. компоненты вектора vec в нули.\n",
    "    \n",
    "    Parameters\n",
    "    ----------\n",
    "    vec : array-like of floats, shape (n,)\n",
    "        Введенный вектор\n",
    "    \n",
    "    Returns\n",
    "    -------\n",
    "    outvec : array of floats, shape (n,)\n",
    "        Преобразованный вектор, причем ``outvec[1:]==0`` и ``|outvec| == |vec|``\n",
    "    H : array of floats, shape (n, n)\n",
    "        Ортогональная матрица отражений Хаусхолдера\n",
    "    \"\"\"\n",
    "    vec = np.asarray(vec, dtype=float)\n",
    "    if vec.ndim != 1:\n",
    "        raise ValueError(\"vec.ndim = %s, expected 1\" % vec.ndim)\n",
    "    \n",
    "    ###BEGIN SOLUTION\n",
    "    module = np.linalg.norm(vec)\n",
    "    y = np.zeros_like(vec)\n",
    "    y[0] = module\n",
    "    u = np.zeros_like(vec)\n",
    "    u = (vec-y)/np.linalg.norm(vec-y)\n",
    "    if abs(u[0])<1e-6:\n",
    "        u[0] = -(sum(vec**2)-vec[0]**2)/(vec[0]+module) \n",
    "    U = u.T\n",
    "    H = np.identity(np.shape(vec)[0]) - 2 * np.dot(u.reshape(-1,1), U.reshape(1,-1))\n",
    "    \n",
    "        \n",
    "    return y, H\n",
    "    ###END SOLUTION"
   ]
  },
  {
   "cell_type": "markdown",
   "metadata": {
    "nbgrader": {
     "grade": false,
     "grade_id": "cell-63560fcd44e56146",
     "locked": true,
     "schema_version": 3,
     "solution": false,
     "task": false
    }
   },
   "source": [
    "Протестируйте свою функцию на следующих примерах:"
   ]
  },
  {
   "cell_type": "code",
   "execution_count": 3,
   "metadata": {
    "nbgrader": {
     "grade": true,
     "grade_id": "cell-7364c2b9de6bb44c",
     "locked": true,
     "points": 1,
     "schema_version": 3,
     "solution": false,
     "task": false
    }
   },
   "outputs": [],
   "source": [
    "# Тест I.1 (10% итоговой оценки).\n",
    "\n",
    "v = np.array([1, 2, 3])\n",
    "v1, h = householder(v)\n",
    "\n",
    "assert np.allclose(np.dot(h, v1), v)\n",
    "assert np.allclose(np.dot(h, v), v1)"
   ]
  },
  {
   "cell_type": "code",
   "execution_count": 4,
   "metadata": {
    "nbgrader": {
     "grade": true,
     "grade_id": "cell-bbe4e0fdd8cb66ae",
     "locked": true,
     "points": 1,
     "schema_version": 3,
     "solution": false,
     "task": false
    }
   },
   "outputs": [],
   "source": [
    "# Test I.2 (10% итоговой оценки).\n",
    "\n",
    "np.random.seed()\n",
    "vec = np.random.uniform(size=7)\n",
    "v1, h = householder(vec)\n",
    "\n",
    "assert np.allclose(np.dot(h, v1), vec)\n",
    "assert np.allclose(np.dot(h, vec), v1)\n",
    "assert np.linalg.norm(v1[1:])==0"
   ]
  },
  {
   "cell_type": "markdown",
   "metadata": {
    "nbgrader": {
     "grade": false,
     "grade_id": "cell-35217c03c48d40be",
     "locked": true,
     "schema_version": 3,
     "solution": false,
     "task": false
    }
   },
   "source": [
    "\n",
    "### Part II. Вычисление $\\mathrm{QR}$ - разложения матрицы.\n",
    "\n",
    "Дана прямоугольная $m\\times n$ матрица $\\mathbf{A}$. Выполните отражение Хаусхолдера матрицы $\\mathbf{H}_1$, преобразующее первый столбец матрицы $\\mathbf{A}$ (назовем результат $\\mathbf{A}^{(1)}$)\n",
    "$$ \\mathbf{H}_1 \\mathbf{A} =% \\begin{pmatrix} \\times &amp; \\times &amp; \\times &amp; \\dots &amp; \\times \\\\ 0 &amp; \\times &amp; \\times &amp; \\dots &amp; \\times \\\\ 0 &amp; \\times &amp; \\times &amp; \\dots &amp; \\times \\\\ &amp;&amp; \\dots&amp;&amp; \\\\ 0 &amp; \\times &amp; \\times &amp; \\dots &amp; \\times \\\\ \\end{pmatrix}% \\equiv \\mathbf{A}^{(1)}\\;. $$\n",
    "\n",
    "Теперь рассмотрим нижнюю правую часть матрицы $\\mathbf{A}^{(1)}$ и выполним преобразование Хаусхолдера, действующее на 2 столбец $\\mathbf{A}$:\n",
    "$$ \\mathbf{H}_2 \\mathbf{A}^{(1)} =% \\begin{pmatrix} \\times &amp; \\times &amp; \\times &amp; \\dots &amp; \\times \\\\ 0 &amp; \\times &amp; \\times &amp; \\dots &amp; \\times \\\\ 0 &amp; 0 &amp; \\times &amp; \\dots &amp; \\times \\\\ &amp;&amp; \\dots&amp;&amp; \\\\ 0 &amp; 0 &amp; \\times &amp; \\dots &amp; \\times \\\\ \\end{pmatrix}% \\equiv \\mathbf{A}^{(2)} \\;. $$\n",
    "\n",
    "Повторяя процесс $n-1$ раз получим\n",
    "$$ \\mathbf{H}_{n-1} \\cdots \\mathbf{H}_2 \\mathbf{H}_1 \\mathbf{A} = \\mathbf{R} \\;, $$\n",
    "\n",
    "где $\\mathbf{R}$ верхнетреугольная матрица. Так как каждая $\\mathbf{H}_k$ ортогональна, таковым будет и их произведение. Обратная от ортогональной также есть матрица ортогональная. Таким образом, алгоритм создает $\\mathrm{QR}$ - разложение матрицы $\\mathbf{A}$.\n",
    "\n",
    "Напишите функцию, получающую прямоугольную матрицу $A$ и возвращающую Q и R - компоненты $QR$ - разложения $A$.\n"
   ]
  },
  {
   "cell_type": "code",
   "execution_count": 5,
   "metadata": {
    "nbgrader": {
     "grade": false,
     "grade_id": "cell-d5a63eec70d4d566",
     "locked": false,
     "schema_version": 3,
     "solution": true,
     "task": false
    }
   },
   "outputs": [],
   "source": [
    "def qr_decomp(a):\n",
    "    \"\"\"Вычисляет QR - разложение матрицы.\n",
    "    \n",
    "    Parameters\n",
    "    ----------\n",
    "    a : ndarray, shape(m, n)\n",
    "        Введенная матрица\n",
    "    \n",
    "    Returns\n",
    "    -------\n",
    "    q : ndarray, shape(m, m)\n",
    "        Ортогональная матрица\n",
    "    r : ndarray, shape(m, n)\n",
    "        Верхнетреугольная матрица\n",
    "        \n",
    "    Example\n",
    "    --------\n",
    "    >>> a = np.random.random(size=(3, 5))\n",
    "    >>> q, r = qr_decomp(a)\n",
    "    >>> np.assert_allclose(np.dot(q, r), a)\n",
    "    \n",
    "    \"\"\"\n",
    "    a1 = np.array(a, copy=True, dtype=float)\n",
    "    m, n = a1.shape\n",
    "    \n",
    "    ###BEGIN SOLUTION\n",
    "    a1 = np.array(a, copy=True, dtype=float)\n",
    "    m, n = a1.shape\n",
    "    H = np.eye(m)\n",
    "   \n",
    "    for i in range(n if n<m else m-1):\n",
    "        matrix = a1[i:, i:]\n",
    "        vec = matrix[:,0]\n",
    "        Hi = np.eye(m)\n",
    "        Hi[i:, i:] = householder(vec)[1]\n",
    "        a1 = Hi @ a1\n",
    "        H = Hi @ H\n",
    "    return H.T, H@a\n",
    "    ###END SOLUTION"
   ]
  },
  {
   "cell_type": "code",
   "execution_count": 6,
   "metadata": {
    "nbgrader": {
     "grade": false,
     "grade_id": "cell-56fbda736c3cd7ea",
     "locked": true,
     "schema_version": 3,
     "solution": false,
     "task": false
    }
   },
   "outputs": [],
   "source": [
    "# можете запустить данную операцию для более красивого вывода: нули вместо `1e-16` и т.д.\n",
    "\n",
    "np.set_printoptions(suppress=True)"
   ]
  },
  {
   "cell_type": "code",
   "execution_count": 7,
   "metadata": {
    "nbgrader": {
     "grade": true,
     "grade_id": "cell-c3391a61cbdadb2f",
     "locked": true,
     "points": 2,
     "schema_version": 3,
     "solution": false,
     "task": false
    }
   },
   "outputs": [],
   "source": [
    "# Тест II.1 (20% итоговой оценки)\n",
    "\n",
    "rndm = np.random.RandomState(1234)\n",
    "a = rndm.uniform(size=(5, 3))\n",
    "q, r = qr_decomp(a)\n",
    "\n",
    "# тестируем, что Q ортогональна\n",
    "assert np.allclose(np.dot(q, q.T), np.eye(5), atol=1e-10)\n",
    "\n",
    "# проверяем разложение\n",
    "assert np.allclose(np.dot(q, r), a)\n"
   ]
  },
  {
   "cell_type": "markdown",
   "metadata": {
    "nbgrader": {
     "grade": false,
     "grade_id": "cell-c0e81975f522036f",
     "locked": true,
     "schema_version": 3,
     "solution": false,
     "task": false
    }
   },
   "source": [
    "Теперь сравните ваше разложение с разложением, полученным библиотечной функцией (содержащей соответствующие функции библиотеки LAPACK)"
   ]
  },
  {
   "cell_type": "code",
   "execution_count": 8,
   "metadata": {
    "nbgrader": {
     "grade": false,
     "grade_id": "cell-30c8e09d6dfccd7e",
     "locked": true,
     "schema_version": 3,
     "solution": false,
     "task": false
    }
   },
   "outputs": [],
   "source": [
    "from scipy.linalg import qr\n",
    "qq, rr = qr(a)\n",
    "\n",
    "assert np.allclose(np.dot(qq, rr), a)"
   ]
  },
  {
   "cell_type": "markdown",
   "metadata": {
    "nbgrader": {
     "grade": false,
     "grade_id": "cell-db51e35a1060b65e",
     "locked": true,
     "points": 1,
     "schema_version": 3,
     "solution": false,
     "task": true
    }
   },
   "source": [
    "Проверьте, согласуются ли ваши q и r с qq и rr. Объясните.\n",
    "Оставьте пояснения здесь (10% итоговой оценки) "
   ]
  },
  {
   "cell_type": "markdown",
   "metadata": {
    "nbgrader": {
     "grade": false,
     "grade_id": "cell-28b501b4a2cd3dc1",
     "locked": true,
     "schema_version": 3,
     "solution": false,
     "task": false
    }
   },
   "source": [
    "\n",
    "### Часть III. Безматричная реализация.\n",
    "\n",
    "Отметим необычную структуру матрицы Хаусхолдера: матрица поворота $\\mathbf{H}$ полностью характеризуется вектором отражения $\\mathbf{u}$. Заметим, также, что вычислительная сложность операции отражения матрицы сильно зависит от порядка операций:\n",
    "$$ \\left( \\mathbf{u} \\mathbf{u}^T \\right) \\mathbf{A} \\qquad \\textrm{is } O(m^2 n)\\;, $$\n",
    "\n",
    "тогда как $$ \\mathbf{u} \\left( \\mathbf{u}^T \\mathbf{A} \\right) \\qquad \\textrm{is } O(mn) $$\n",
    "\n",
    "Таким образом, следует избегать формирований матриц $\\mathbf{H}$. Вместо этого можно сохранять сами векторы отражения $\\mathbf{u}$ и производить умножение произвольной матрицы на $\\mathbf{Q}^T$, например, как отдельную функцию (класс).\n",
    "\n",
    "Напишите функцию, выполняющую QR - разложение матрицы без формирования матриц $\\mathbf{H}$ и возвращающую матрицу $\\mathbf{R}$, а также вектор отражения.\n",
    "\n",
    "(20% итоговой оценки)\n",
    "\n",
    "Напишите вторую функцию, которая использует вектор отражения чтобы перемножить матрицу с $\\mathbf{Q}^T$. Убедитесь, что вы добавили достаточно комментариев, следующих вашим выкладкам. \n",
    "\n",
    "(20% итоговой оценки)\n"
   ]
  },
  {
   "cell_type": "code",
   "execution_count": 9,
   "metadata": {
    "nbgrader": {
     "grade": false,
     "grade_id": "cell-5360f8930eabe0b4",
     "locked": false,
     "schema_version": 3,
     "solution": true,
     "task": false
    }
   },
   "outputs": [],
   "source": [
    "def Qu(a):\n",
    "    ###BEGIN SOLUTION\n",
    "    a1 = a.copy()\n",
    "    m,n = a.shape\n",
    "    U = np.zeros_like(a)\n",
    "\n",
    "    for i in range(n if n<m else m-1):#Проверяем, какое измерение матрицы больше\n",
    "        vec = a1[i:,i]#Вектор, который хотим повернуть - от диагонали и ниже\n",
    "        y = np.zeros_like(vec)\n",
    "        y[0] = np.linalg.norm(vec)\n",
    "        u = np.zeros(m-i)#Наш reflection vector(вектор отражения?)\n",
    "        u = (vec-y)/np.linalg.norm(vec-y)#Заполняем как в Хаусхолдере\n",
    "        if abs(u[0])<1e-6:\n",
    "            u[0] = -(sum(vec**2)-vec[0]**2)/(vec[0]+y[0])#Чтобы избежать зануления в случае, когда векторы почти параллельны\n",
    "        a1[i:,i:] = a1[i:,i:] -  2 * np.dot(u.reshape(-1,1), (u @ a1[i:,i:]).reshape(1,-1))#Преобразование из инструкции\n",
    "        \n",
    "        U[i:,i] = u#Нужный столбик матрицы заполняем нашим вектором\n",
    "    return a1, U\n",
    "    ###END SOLUTION\n",
    "\n",
    "def aU_to_R(a, U):\n",
    "    ###BEGIN SOLUTION\n",
    "    a1 = a.copy()\n",
    "    m,n = a.shape\n",
    "    R = a1.copy()\n",
    "\n",
    "    for i in range(n if n<m else m-1):\n",
    "        u = U[i:,i]#Берем i-тый вектор отражения\n",
    "        R[i:,i:] = R[i:,i:] - 2 * np.dot(u.reshape(-1,1), (u @ R[i:,i:]).reshape(1,-1))#Находим (1-2u_i@u_i.T)a \n",
    "    return R\n",
    "    ###END SOLUTION"
   ]
  },
  {
   "cell_type": "code",
   "execution_count": 10,
   "metadata": {
    "nbgrader": {
     "grade": true,
     "grade_id": "cell-68363e2462de3a8b",
     "locked": true,
     "points": 2,
     "schema_version": 3,
     "solution": false,
     "task": false
    }
   },
   "outputs": [],
   "source": [
    "name1 = \"Test 1: square matrix\"\n",
    "a = rndm.uniform(size=(5,5))\n",
    "R1, U = Qu(a)\n",
    "R2 = aU_to_R(a, U)\n",
    "R_lib = qr(a)[1]\n",
    "assert np.allclose(R1, R2), 'Falied in'+name1\n",
    "\n",
    "###BEGIN HIDDEN TESTS\n",
    "name2 = \"Test 2: vertical rectangular matrix\"\n",
    "a2 = rndm.uniform(size=(5,3))\n",
    "R1, U = Qu(a2)\n",
    "R22 = aU_to_R(a2, U)\n",
    "R_lib2 = qr(a2)[1]\n",
    "#print('R from the 1 function',R1,'R from the 2 function', R2,'R_lib',qr(a)[1],sep='\\n')\n",
    "assert np.allclose(R1, R22), 'Falied in'+name2\n",
    "name3 = \"Test 3: horizontal rectangular matrix\"\n",
    "a3 = rndm.uniform(size=(3,5))\n",
    "R1, U = Qu(a3)\n",
    "R23 = aU_to_R(a3, U)\n",
    "R_lib3 = qr(a3)[1]\n",
    "assert np.allclose(R1, R23), 'Falied in'+name3\n",
    "###END HIDDEN TESTS"
   ]
  },
  {
   "cell_type": "code",
   "execution_count": 11,
   "metadata": {
    "nbgrader": {
     "grade": true,
     "grade_id": "cell-159c6803d580116d",
     "locked": true,
     "points": 2,
     "schema_version": 3,
     "solution": false,
     "task": false
    }
   },
   "outputs": [],
   "source": [
    "assert False not in [np.allclose(R2[i,:],R_lib[i,:]) or np.allclose(R2[i,:],-R_lib[i,:]) for i in range(5)]\n",
    "###BEGIN HIDDEN TESTS\n",
    "assert False not in [np.allclose(R22[i,:],R_lib2[i,:]) or np.allclose(R22[i,:],-R_lib2[i,:]) for i in range(5)]\n",
    "assert False not in [np.allclose(R23[i,:],R_lib3[i,:]) or np.allclose(R23[i,:],-R_lib3[i,:]) for i in range(3)]\n",
    "###END HIDDEN TESTS"
   ]
  }
 ],
 "metadata": {
  "celltoolbar": "Create Assignment",
  "kernelspec": {
   "display_name": "Python 3",
   "language": "python",
   "name": "python3"
  },
  "language_info": {
   "codemirror_mode": {
    "name": "ipython",
    "version": 3
   },
   "file_extension": ".py",
   "mimetype": "text/x-python",
   "name": "python",
   "nbconvert_exporter": "python",
   "pygments_lexer": "ipython3",
   "version": "3.7.6"
  }
 },
 "nbformat": 4,
 "nbformat_minor": 4
}
