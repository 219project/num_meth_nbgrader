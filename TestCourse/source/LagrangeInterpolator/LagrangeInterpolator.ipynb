{
 "cells": [
  {
   "cell_type": "markdown",
   "metadata": {
    "nbgrader": {
     "grade": false,
     "grade_id": "cell-af0193379161e7dd",
     "locked": true,
     "schema_version": 3,
     "solution": false,
     "task": false
    }
   },
   "source": [
    "# Интерполяция при помощи полиномов Лагранжа."
   ]
  },
  {
   "cell_type": "code",
   "execution_count": 6,
   "metadata": {
    "nbgrader": {
     "grade": false,
     "grade_id": "cell-d459dee4d09527c4",
     "locked": false,
     "schema_version": 3,
     "solution": true,
     "task": false
    }
   },
   "outputs": [],
   "source": [
    "import numpy as np\n",
    "\n",
    "class LagrangeInterpolator:\n",
    "    \"\"\"Lagrange interpolating polynomial.\n",
    "    \n",
    "    Given a set of pairs ``(x_k, y_k)``, construct \n",
    "    a Lagrange polynomial ``f(x)``, such that\n",
    "    \n",
    "    .. math::\n",
    "\n",
    "        f(x_k) = y_k   for k =0, ..., n-1\n",
    "    \n",
    "    Parameters\n",
    "    ----------\n",
    "    xk : array_like, shape(n,)\n",
    "        Abscissas\n",
    "    yk : array_like, shape(n,)\n",
    "        Ordinates\n",
    "    \n",
    "    Attributes\n",
    "    ----------\n",
    "    __call__\n",
    "    \n",
    "    \"\"\"\n",
    "    def __init__(self, xk, yk):\n",
    "        self.xk = np.asarray(xk, dtype=float)\n",
    "        self.yk = np.asarray(yk, dtype=float)\n",
    "        \n",
    "    def __call__(self, x):\n",
    "        \"\"\"Evaluate the interpolator at a given point.\n",
    "        \n",
    "        Parameters\n",
    "        ----------\n",
    "        x : float\n",
    "        \n",
    "        Returns\n",
    "        -------\n",
    "        the value of the interpolator at ``x``.\n",
    "        \"\"\"\n",
    "        ### BEGIN SOLUTION\n",
    "        def lagrange_k(xval, xk, k):\n",
    "            n = len(xk)\n",
    "            num, den = 1.0, 1.0\n",
    "            for j in range(n):\n",
    "                if j == k:\n",
    "                    continue          \n",
    "                den *= (xk[k] - xk[j])\n",
    "                num *= (xval - xk[j])\n",
    "            return num / den\n",
    "\n",
    "        return sum(self.yk[k] * lagrange_k(x, self.xk, k) for k in range(len(self.xk)))\n",
    "        ### END SOLUTION"
   ]
  },
  {
   "cell_type": "code",
   "execution_count": 24,
   "metadata": {
    "nbgrader": {
     "grade": true,
     "grade_id": "cell-02e34e05d317dfb2",
     "locked": true,
     "points": 5,
     "schema_version": 3,
     "solution": false,
     "task": false
    }
   },
   "outputs": [],
   "source": [
    "def runge_func(x, a=25):\n",
    "    return 1.0 / (1.0 + a*x**2)\n",
    "\n",
    "xx = np.linspace(-2, 2, 21)\n",
    "yy = runge_func(xx)\n",
    "\n",
    "lagr = LagrangeInterpolator(xx, yy)\n",
    "\n",
    "from numpy.testing import assert_allclose\n",
    "\n",
    "assert_allclose(yy,\n",
    "                [lagr(xval) for xval in xx],\n",
    "                atol=1e-14)"
   ]
  },
  {
   "cell_type": "markdown",
   "metadata": {
    "nbgrader": {
     "grade": false,
     "grade_id": "cell-7017c4fddb92f038",
     "locked": true,
     "points": 5,
     "schema_version": 3,
     "solution": false,
     "task": true
    }
   },
   "source": [
    "Рассмотрим функцию Рунге $1/(1 + 25x^2)$. Интерполируйте данную функцию на интервале $x\\in [-2, 2]$, используя полиномы Лагранжа степени $m$, где $m=3, 5, 7, 11$. Используйте равномерную сетку. Постройте результат интерполяции вместе с $f(x)$.\n",
    "\n",
    "Повторите предыдущее задание используя узлы Чебышева. Сравните качество интерполяции на равномерной сетке и на узлах Чебышева.\n"
   ]
  },
  {
   "cell_type": "code",
   "execution_count": 26,
   "metadata": {},
   "outputs": [],
   "source": [
    "# YOUR CODE AND COMMENTS HERE (5 pts, manually graded)"
   ]
  }
 ],
 "metadata": {
  "celltoolbar": "Create Assignment",
  "kernelspec": {
   "display_name": "Python 3",
   "language": "python",
   "name": "python3"
  },
  "language_info": {
   "codemirror_mode": {
    "name": "ipython",
    "version": 3
   },
   "file_extension": ".py",
   "mimetype": "text/x-python",
   "name": "python",
   "nbconvert_exporter": "python",
   "pygments_lexer": "ipython3",
   "version": "3.8.5"
  }
 },
 "nbformat": 4,
 "nbformat_minor": 2
}
