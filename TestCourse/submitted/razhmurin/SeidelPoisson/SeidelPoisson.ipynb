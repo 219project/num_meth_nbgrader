{
  "nbformat": 4,
  "nbformat_minor": 0,
  "metadata": {
    "kernelspec": {
      "display_name": "Python 3",
      "language": "python",
      "name": "python3"
    },
    "language_info": {
      "codemirror_mode": {
        "name": "ipython",
        "version": 3
      },
      "file_extension": ".py",
      "mimetype": "text/x-python",
      "name": "python",
      "nbconvert_exporter": "python",
      "pygments_lexer": "ipython3",
      "version": "3.8.5"
    },
    "colab": {
      "name": "SeidelPoisson_razhmurin.ipynb",
      "provenance": [],
      "collapsed_sections": []
    }
  },
  "cells": [
    {
      "cell_type": "markdown",
      "metadata": {
        "id": "tOunpwGSW_0w"
      },
      "source": [
        "Before you turn this problem in, make sure everything runs as expected. First, **restart the kernel** (in the menubar, select Kernel$\\rightarrow$Restart) and then **run all cells** (in the menubar, select Cell$\\rightarrow$Run All).\n",
        "\n",
        "Make sure you fill in any place that says `YOUR CODE HERE` or \"YOUR ANSWER HERE\", as well as your name and collaborators below:"
      ]
    },
    {
      "cell_type": "code",
      "metadata": {
        "id": "XEtRXdpvW_0_"
      },
      "source": [
        "NAME = \"Roman Zhmurin\"\n",
        "COLLABORATORS = \"razhmurin@edu.hse.ru\""
      ],
      "execution_count": 105,
      "outputs": []
    },
    {
      "cell_type": "markdown",
      "metadata": {
        "id": "QuZiFeotW_1B"
      },
      "source": [
        "---"
      ]
    },
    {
      "cell_type": "code",
      "metadata": {
        "deletable": false,
        "editable": false,
        "nbgrader": {
          "cell_type": "code",
          "checksum": "82ecff7a3476ffeb1b53c115df234878",
          "grade": false,
          "grade_id": "cell-ed0e89e39ef5b952",
          "locked": true,
          "schema_version": 3,
          "solution": false,
          "task": false
        },
        "id": "aDCqNPtaW_1B"
      },
      "source": [
        "import numpy as np\n",
        "from scipy.linalg import block_diag"
      ],
      "execution_count": 106,
      "outputs": []
    },
    {
      "cell_type": "markdown",
      "metadata": {
        "id": "KmVEN9uZW_1C"
      },
      "source": [
        "Рассмотрим систему линейных уравнений, матрица правой части которой является \"ленточной\" и имеет следующую структуру: ненулевые элементы расположены на трех центральных диагонялях и на двух \"крыльях\". Матрицы такой структуры возникают, например, при решении задачи на нахождение электростатического потенциала $\\phi(x, y)$, cоздаваемого двумерным распределением заряда $\\rho(x, y)$ при дискретизации на сетке уравнения Пуассона\n",
        "\n",
        "$$\n",
        "\\Delta \\phi = -4\\pi \\rho\\;.\n",
        "$$\n",
        "\n",
        "(детали см. напр. А.А. Самарский, А.В. Гулин, Численные методы, ч. 3 гл. 1, параграф 1).\n",
        "\n",
        "Размер матрицы растет с уменьшением шага сетки $h$ как $O(1/h^2)$. Таким образом, приходится иметь дело с разреженными матрицами огромного размера.\n",
        "\n",
        "Матрицу `m` создадим следующим образом:"
      ]
    },
    {
      "cell_type": "code",
      "metadata": {
        "deletable": false,
        "editable": false,
        "nbgrader": {
          "cell_type": "code",
          "checksum": "49cc83ba22b9baf06a0fd368ebbe0594",
          "grade": false,
          "grade_id": "cell-68787095785b88fa",
          "locked": true,
          "schema_version": 3,
          "solution": false,
          "task": false
        },
        "id": "7zgHKUVfW_1C"
      },
      "source": [
        "def lhs_matrix(n):\n",
        "    # Диагональный блок\n",
        "    a = np.zeros((n-1, n-1))\n",
        "\n",
        "    idx = np.arange(n-1)\n",
        "\n",
        "    a[idx, idx] = -4\n",
        "    a[idx[:-1], idx[:-1]+1] = 1\n",
        "    a[idx[1:], idx[1:]-1] = 1\n",
        "\n",
        "    # собираем блочно-диагональную матрицу `m`\n",
        "    m = block_diag(*(a,)*n)\n",
        "\n",
        "    # заполняем \"крылья\"\n",
        "    idx = np.arange(m.shape[0])\n",
        "\n",
        "    m[idx[:-n+1], idx[:-n+1] + n-1] = 1\n",
        "    m[idx[n-1:], idx[n-1:] - n+1] = 1\n",
        "    return m"
      ],
      "execution_count": 107,
      "outputs": []
    },
    {
      "cell_type": "code",
      "metadata": {
        "deletable": false,
        "editable": false,
        "nbgrader": {
          "cell_type": "code",
          "checksum": "02c4a2bb847ac93894a90f04a8bf25f2",
          "grade": false,
          "grade_id": "cell-4c5b195e789944ab",
          "locked": true,
          "schema_version": 3,
          "solution": false,
          "task": false
        },
        "colab": {
          "base_uri": "https://localhost:8080/"
        },
        "id": "Tp1WBuJVW_1D",
        "outputId": "bf32a219-6e35-446a-d2bf-af0e4d20bcf2"
      },
      "source": [
        "m = lhs_matrix(5)\n",
        "\n",
        "with np.printoptions(linewidth=99):\n",
        "    print(m)"
      ],
      "execution_count": 108,
      "outputs": [
        {
          "output_type": "stream",
          "text": [
            "[[-4.  1.  0.  0.  1.  0.  0.  0.  0.  0.  0.  0.  0.  0.  0.  0.  0.  0.  0.  0.]\n",
            " [ 1. -4.  1.  0.  0.  1.  0.  0.  0.  0.  0.  0.  0.  0.  0.  0.  0.  0.  0.  0.]\n",
            " [ 0.  1. -4.  1.  0.  0.  1.  0.  0.  0.  0.  0.  0.  0.  0.  0.  0.  0.  0.  0.]\n",
            " [ 0.  0.  1. -4.  0.  0.  0.  1.  0.  0.  0.  0.  0.  0.  0.  0.  0.  0.  0.  0.]\n",
            " [ 1.  0.  0.  0. -4.  1.  0.  0.  1.  0.  0.  0.  0.  0.  0.  0.  0.  0.  0.  0.]\n",
            " [ 0.  1.  0.  0.  1. -4.  1.  0.  0.  1.  0.  0.  0.  0.  0.  0.  0.  0.  0.  0.]\n",
            " [ 0.  0.  1.  0.  0.  1. -4.  1.  0.  0.  1.  0.  0.  0.  0.  0.  0.  0.  0.  0.]\n",
            " [ 0.  0.  0.  1.  0.  0.  1. -4.  0.  0.  0.  1.  0.  0.  0.  0.  0.  0.  0.  0.]\n",
            " [ 0.  0.  0.  0.  1.  0.  0.  0. -4.  1.  0.  0.  1.  0.  0.  0.  0.  0.  0.  0.]\n",
            " [ 0.  0.  0.  0.  0.  1.  0.  0.  1. -4.  1.  0.  0.  1.  0.  0.  0.  0.  0.  0.]\n",
            " [ 0.  0.  0.  0.  0.  0.  1.  0.  0.  1. -4.  1.  0.  0.  1.  0.  0.  0.  0.  0.]\n",
            " [ 0.  0.  0.  0.  0.  0.  0.  1.  0.  0.  1. -4.  0.  0.  0.  1.  0.  0.  0.  0.]\n",
            " [ 0.  0.  0.  0.  0.  0.  0.  0.  1.  0.  0.  0. -4.  1.  0.  0.  1.  0.  0.  0.]\n",
            " [ 0.  0.  0.  0.  0.  0.  0.  0.  0.  1.  0.  0.  1. -4.  1.  0.  0.  1.  0.  0.]\n",
            " [ 0.  0.  0.  0.  0.  0.  0.  0.  0.  0.  1.  0.  0.  1. -4.  1.  0.  0.  1.  0.]\n",
            " [ 0.  0.  0.  0.  0.  0.  0.  0.  0.  0.  0.  1.  0.  0.  1. -4.  0.  0.  0.  1.]\n",
            " [ 0.  0.  0.  0.  0.  0.  0.  0.  0.  0.  0.  0.  1.  0.  0.  0. -4.  1.  0.  0.]\n",
            " [ 0.  0.  0.  0.  0.  0.  0.  0.  0.  0.  0.  0.  0.  1.  0.  0.  1. -4.  1.  0.]\n",
            " [ 0.  0.  0.  0.  0.  0.  0.  0.  0.  0.  0.  0.  0.  0.  1.  0.  0.  1. -4.  1.]\n",
            " [ 0.  0.  0.  0.  0.  0.  0.  0.  0.  0.  0.  0.  0.  0.  0.  1.  0.  0.  1. -4.]]\n"
          ],
          "name": "stdout"
        }
      ]
    },
    {
      "cell_type": "code",
      "metadata": {
        "deletable": false,
        "editable": false,
        "nbgrader": {
          "cell_type": "code",
          "checksum": "d1c92e9be65ac427184fdae9935f7d8f",
          "grade": false,
          "grade_id": "cell-26d617a08fa36eb1",
          "locked": true,
          "schema_version": 3,
          "solution": false,
          "task": false
        },
        "colab": {
          "base_uri": "https://localhost:8080/",
          "height": 292
        },
        "id": "LYrFeAbEW_1D",
        "outputId": "1f67a1ee-361f-47e9-8286-c95612c624f8"
      },
      "source": [
        "import matplotlib.pyplot as plt\n",
        "plt.matshow(m)"
      ],
      "execution_count": 109,
      "outputs": [
        {
          "output_type": "execute_result",
          "data": {
            "text/plain": [
              "<matplotlib.image.AxesImage at 0x7f43200503d0>"
            ]
          },
          "metadata": {
            "tags": []
          },
          "execution_count": 109
        },
        {
          "output_type": "display_data",
          "data": {
            "image/png": "[encoded data removed]",
            "text/plain": [
              "<Figure size 288x288 with 1 Axes>"
            ]
          },
          "metadata": {
            "tags": [],
            "needs_background": "light"
          }
        }
      ]
    },
    {
      "cell_type": "markdown",
      "metadata": {
        "deletable": false,
        "editable": false,
        "nbgrader": {
          "cell_type": "markdown",
          "checksum": "c43ce232bdd094d2d8787200e82cd200",
          "grade": false,
          "grade_id": "cell-0810641c405cedb0",
          "locked": true,
          "schema_version": 3,
          "solution": false,
          "task": false
        },
        "id": "BIOL8_8NW_1D"
      },
      "source": [
        "Зададим вектор правой части системы $b$, символизирующий точечный заряд в центре:"
      ]
    },
    {
      "cell_type": "code",
      "metadata": {
        "deletable": false,
        "editable": false,
        "nbgrader": {
          "cell_type": "code",
          "checksum": "2ee23b7e4631364aa0def6e9025de5fe",
          "grade": false,
          "grade_id": "cell-bdf75cbde3d40c9b",
          "locked": true,
          "schema_version": 3,
          "solution": false,
          "task": false
        },
        "id": "2kv0Ocf1W_1L"
      },
      "source": [
        "b = np.zeros(m.shape[0])\n",
        "b[m.shape[0]//2] = -1"
      ],
      "execution_count": 110,
      "outputs": []
    },
    {
      "cell_type": "markdown",
      "metadata": {
        "deletable": false,
        "editable": false,
        "nbgrader": {
          "cell_type": "markdown",
          "checksum": "4818e389f558693d56e6bff7518c7d0d",
          "grade": false,
          "grade_id": "cell-3d07f62eb12bf684",
          "locked": true,
          "schema_version": 3,
          "solution": false,
          "task": false
        },
        "id": "4k_Pw9sWW_1L"
      },
      "source": [
        "Составьте функцию, вычисляющую решение системы уравнений $m x = b$ **методом Зейделя** с заданной точностью $\\epsilon$.\n",
        "\n",
        "Не пользуйтесь функциями `np.linalg.solve`, `np.linalg.inv` и т.п. Обратите внимание на функции `np.triu` и `scipy.linalg.solve_triangular`."
      ]
    },
    {
      "cell_type": "code",
      "metadata": {
        "deletable": false,
        "nbgrader": {
          "cell_type": "code",
          "checksum": "386955466ee6d63226201a37e3c5f0e8",
          "grade": false,
          "grade_id": "cell-d3e0976736f7d3f0",
          "locked": false,
          "schema_version": 3,
          "solution": true,
          "task": false
        },
        "id": "oPlsWNJYW_1M"
      },
      "source": [
        "from scipy.linalg import solve_triangular\n",
        "\n",
        "def seidel_solve(m, b, x0, eps=1e-5, maxiter=500):\n",
        "    \"\"\" Solve `m @ x = b` with Seidel iteration.\n",
        "    Parameters\n",
        "    ----------\n",
        "    m : ndarray, shape (n, n)\n",
        "       Input matrix\n",
        "    b : ndarray, shape (n,)\n",
        "       Right-hand side\n",
        "    x0 : ndarray, shape (n, )\n",
        "       Initial point for the iteration\n",
        "    eps : float, optional\n",
        "       Target accuracy.\n",
        "       Stop iterations when the 2-norm of \n",
        "       `|x_k - x_{k-1}| < eps`\n",
        "    maxiter : int\n",
        "       Maximum allowed number of iterations.\n",
        "       \n",
        "    Returns\n",
        "    -------\n",
        "    x : ndarray, shape (n,)\n",
        "       The approximation to the solution of `m @ x = b`\n",
        "    nit : the number of iterations performed.\n",
        "    \"\"\"\n",
        "    x = x0\n",
        "    nit = 0\n",
        "    U = np.triu(m, 1)\n",
        "    L = m - U\n",
        "    while True:\n",
        "        xPrev = x\n",
        "        x = solve_triangular(L, b - U@xPrev, lower=True)\n",
        "        nit += 1\n",
        "        if (np.linalg.norm(x - xPrev) < eps or nit > maxiter):\n",
        "            break\n",
        "    return x, nit"
      ],
      "execution_count": 111,
      "outputs": []
    },
    {
      "cell_type": "code",
      "metadata": {
        "deletable": false,
        "editable": false,
        "nbgrader": {
          "cell_type": "code",
          "checksum": "397e5092e4bf5d9b1dcbb011ea82c008",
          "grade": true,
          "grade_id": "cell-8f5b96cfad0e18d7",
          "locked": true,
          "points": 15,
          "schema_version": 3,
          "solution": false,
          "task": false
        },
        "id": "bOa_c2jOW_1M"
      },
      "source": [
        "m = lhs_matrix(n=6)\n",
        "b = np.zeros(m.shape[0])\n",
        "b[b.size//2] = 1\n",
        "\n",
        "x0 = np.ones(m.shape[0])\n",
        "x, nit = seidel_solve(m, b, x0)\n",
        "\n",
        "from numpy.testing import assert_allclose\n",
        "assert_allclose(x,\n",
        "                np.linalg.solve(m, b), atol=2e-5)\n"
      ],
      "execution_count": 112,
      "outputs": []
    },
    {
      "cell_type": "markdown",
      "metadata": {
        "deletable": false,
        "editable": false,
        "nbgrader": {
          "cell_type": "markdown",
          "checksum": "1df4e606a0bc3490f652daf5226d0c33",
          "grade": false,
          "grade_id": "cell-76a3476cfd72af3b",
          "locked": true,
          "schema_version": 3,
          "solution": false,
          "task": false
        },
        "id": "IQ7W0vfFW_1M"
      },
      "source": [
        "Прокомментируйте зависимость числа итераций, требуемых для достижения заданной точности, от $\\epsilon$. (без оценки)"
      ]
    },
    {
      "cell_type": "code",
      "metadata": {
        "id": "grE1N5sJW_1N",
        "colab": {
          "base_uri": "https://localhost:8080/"
        },
        "outputId": "f73cbfbd-8e3a-4902-cbb4-4db5197140c1"
      },
      "source": [
        "for eps in [1e-9, 1e-7, 1e-5, 1e-3]:\n",
        "  x, nit = seidel_solve(m, b, x0, eps = eps)\n",
        "  print(nit)"
      ],
      "execution_count": 113,
      "outputs": [
        {
          "output_type": "stream",
          "text": [
            "86\n",
            "68\n",
            "49\n",
            "31\n"
          ],
          "name": "stdout"
        }
      ]
    },
    {
      "cell_type": "markdown",
      "metadata": {
        "id": "gjvNBPz6HiLE"
      },
      "source": [
        "Количество итераций уменьшается на 17 при уменьшении точности в 100 раз"
      ]
    },
    {
      "cell_type": "code",
      "metadata": {
        "id": "WNdyJf9FW_1N",
        "colab": {
          "base_uri": "https://localhost:8080/",
          "height": 282
        },
        "outputId": "ac5d7b99-54b1-4b2c-8f34-06c3e3f7ebbc"
      },
      "source": [
        "# Постройте график решения как функцию индекса компоненты вектора. \n",
        "# Прокомментируйте характер зависимости (без оценки).\n",
        "x, nit = seidel_solve(m, b, x0, eps = 1e-7)\n",
        "plt.plot(x, 'o-')"
      ],
      "execution_count": 114,
      "outputs": [
        {
          "output_type": "execute_result",
          "data": {
            "text/plain": [
              "[<matplotlib.lines.Line2D at 0x7f431ffb4450>]"
            ]
          },
          "metadata": {
            "tags": []
          },
          "execution_count": 114
        },
        {
          "output_type": "display_data",
          "data": {
            "image/png": "[encoded data removed]",
            "text/plain": [
              "<Figure size 432x288 with 1 Axes>"
            ]
          },
          "metadata": {
            "tags": [],
            "needs_background": "light"
          }
        }
      ]
    },
    {
      "cell_type": "markdown",
      "metadata": {
        "id": "pjDw8mRGIPMB"
      },
      "source": [
        "График похож на кусочно-непрерывную функцию с разрывами каждые 5 \"шагов\""
      ]
    }
  ]
}