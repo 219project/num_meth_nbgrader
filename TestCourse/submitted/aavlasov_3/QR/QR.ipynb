{
  "nbformat": 4,
  "nbformat_minor": 0,
  "metadata": {
    "kernelspec": {
      "display_name": "Python 3",
      "language": "python",
      "name": "python3"
    },
    "language_info": {
      "codemirror_mode": {
        "name": "ipython",
        "version": 3
      },
      "file_extension": ".py",
      "mimetype": "text/x-python",
      "name": "python",
      "nbconvert_exporter": "python",
      "pygments_lexer": "ipython3",
      "version": "3.8.5"
    },
    "colab": {
      "name": "QR_aavlasov_3.ipynb",
      "provenance": []
    }
  },
  "cells": [
    {
      "cell_type": "markdown",
      "metadata": {
        "id": "AsQJy0-Bl2Uq"
      },
      "source": [
        "Before you turn this problem in, make sure everything runs as expected. First, **restart the kernel** (in the menubar, select Kernel$\\rightarrow$Restart) and then **run all cells** (in the menubar, select Cell$\\rightarrow$Run All).\n",
        "\n",
        "Make sure you fill in any place that says `YOUR CODE HERE` or \"YOUR ANSWER HERE\", as well as your name and collaborators below:"
      ]
    },
    {
      "cell_type": "code",
      "metadata": {
        "id": "q_V4qd9pl2U3"
      },
      "source": [
        "NAME = \"\"\n",
        "COLLABORATORS = \"\""
      ],
      "execution_count": null,
      "outputs": []
    },
    {
      "cell_type": "markdown",
      "metadata": {
        "id": "UWbKik4rl2U6"
      },
      "source": [
        "---"
      ]
    },
    {
      "cell_type": "code",
      "metadata": {
        "deletable": false,
        "editable": false,
        "nbgrader": {
          "cell_type": "code",
          "checksum": "771209e48db0b7681c5ce719d05b2b0c",
          "grade": false,
          "grade_id": "cell-66c8d50345588c95",
          "locked": true,
          "schema_version": 3,
          "solution": false,
          "task": false
        },
        "id": "uHyAdl33l2U8"
      },
      "source": [
        "import numpy as np\n",
        "\n",
        "from numpy.testing import assert_allclose"
      ],
      "execution_count": 30,
      "outputs": []
    },
    {
      "cell_type": "markdown",
      "metadata": {
        "deletable": false,
        "editable": false,
        "nbgrader": {
          "cell_type": "markdown",
          "checksum": "6e341b63b116d4fcfe0588359a79b265",
          "grade": false,
          "grade_id": "cell-cfd189ec24b01044",
          "locked": true,
          "schema_version": 3,
          "solution": false,
          "task": false
        },
        "id": "-tjazYryl2U9"
      },
      "source": [
        "\n",
        "### Часть I. Постройте отражение Хаусхолдера для вектора.\n",
        "\n",
        "Дан вектор $\\mathbf{x}$ и плоскость, заданная вектором нормали $\\mathbf{u}$. Преобразование Хаусхолдера отражает $\\mathbf{x}$ относительно плоскости.\n",
        "\n",
        "Матрица преобразований Хаусхолдера:\n",
        "$$ \\mathbf{H} = \\mathbf{1} - 2 \\mathbf{u} \\mathbf{u}^T $$\n",
        "\n",
        "Если даны два вектора $\\mathbf{x}$ и $\\mathbf{y}$ одинаковой длины, поворот, преобразующий $\\mathbf{x}$ в $\\mathbf{y}$ называется преобразованием Хаусхолдера с\n",
        "$$ \\mathbf{u} = \\frac{\\mathbf{x} - \\mathbf{y}}{\\left|\\mathbf{x} - \\mathbf{y}\\right|} $$\n",
        "\n",
        "Напишите функцию, преобразующую заданный вектор $\\mathbf{x} = (x_1, \\dots, x_n)$ в $\\mathbf{y} = (\\left|\\mathbf{x}\\right|, 0, \\dots, 0)^T$, используя преобразование Хаусхолдера.\n"
      ]
    },
    {
      "cell_type": "code",
      "metadata": {
        "deletable": false,
        "nbgrader": {
          "cell_type": "code",
          "checksum": "73d9a41ece5cf446777b9df562f48cf0",
          "grade": false,
          "grade_id": "cell-d8d82542e794c193",
          "locked": false,
          "schema_version": 3,
          "solution": true,
          "task": false
        },
        "id": "gJtKdXXkl2U-"
      },
      "source": [
        "def householder(vec):\n",
        "    \"\"\"Создает отражение Хаусхолдера, преобразующее 2-ю, 3-ю и т.д. компоненты вектора vec в нули.\n",
        "    \n",
        "    Parameters\n",
        "    ----------\n",
        "    vec : array-like of floats, shape (n,)\n",
        "        Введенный вектор\n",
        "    \n",
        "    Returns\n",
        "    -------\n",
        "    outvec : array of floats, shape (n,)\n",
        "        Преобразованный вектор, причем ``outvec[1:]==0`` и ``|outvec| == |vec|``\n",
        "    H : array of floats, shape (n, n)\n",
        "        Ортогональная матрица отражений Хаусхолдера\n",
        "    \"\"\"\n",
        "    from math import sqrt\n",
        "\n",
        "    vec = np.asarray(vec, dtype=float)\n",
        "    if vec.ndim != 1:\n",
        "        raise ValueError(\"vec.ndim = %s, expected 1\" % vec.ndim)\n",
        "    outvec = np.zeros(vec.shape)\n",
        "    outvec[0] = np.linalg.norm(vec, 2)\n",
        "    u = (vec - outvec) / np.linalg.norm(vec - outvec, 2)\n",
        "    uuT = np.array([[x*y for y in u] for x in u])\n",
        "    h = np.eye(vec.shape[0]) - 2 * uuT\n",
        "    return outvec, h"
      ],
      "execution_count": 63,
      "outputs": []
    },
    {
      "cell_type": "markdown",
      "metadata": {
        "deletable": false,
        "editable": false,
        "nbgrader": {
          "cell_type": "markdown",
          "checksum": "c06ea08fd1f013d15e1b17ca2fb48e27",
          "grade": false,
          "grade_id": "cell-63560fcd44e56146",
          "locked": true,
          "schema_version": 3,
          "solution": false,
          "task": false
        },
        "id": "wDeF0Q_Dl2U_"
      },
      "source": [
        "Протестируйте свою функцию на следующих примерах:"
      ]
    },
    {
      "cell_type": "code",
      "metadata": {
        "deletable": false,
        "editable": false,
        "nbgrader": {
          "cell_type": "code",
          "checksum": "39e0a1b30668d43674e1766410ce698b",
          "grade": true,
          "grade_id": "cell-7364c2b9de6bb44c",
          "locked": true,
          "points": 3,
          "schema_version": 3,
          "solution": false,
          "task": false
        },
        "id": "UKFC8Xbcl2VA"
      },
      "source": [
        "v = np.array([1, 2, 3])\n",
        "v1, h = householder(v)\n",
        "\n",
        "assert_allclose(h @ v1, v, atol=1e-14)\n",
        "assert_allclose(h @ v, v1, atol=1e-14)\n",
        "\n",
        "assert_allclose(v1[1:], 0, atol=1e-14)\n",
        "\n",
        "assert_allclose(h @ h.T, np.eye(3), atol=1e-14)\n"
      ],
      "execution_count": 64,
      "outputs": []
    },
    {
      "cell_type": "markdown",
      "metadata": {
        "deletable": false,
        "editable": false,
        "nbgrader": {
          "cell_type": "markdown",
          "checksum": "ebe7493dd22452e2422d5f111bc86adc",
          "grade": false,
          "grade_id": "cell-35217c03c48d40be",
          "locked": true,
          "schema_version": 3,
          "solution": false,
          "task": false
        },
        "id": "4hDmHnEXl2VC"
      },
      "source": [
        "### Part II. Вычисление $\\mathrm{QR}$ - разложения матрицы.\n",
        "\n",
        "Дана прямоугольная $m\\times n$ матрица $\\mathbf{A}$. Выполните отражение Хаусхолдера матрицы $\\mathbf{H}_1$, преобразующее первый столбец матрицы $\\mathbf{A}$ (назовем результат $\\mathbf{A}^{(1)}$)\n",
        "\n",
        "$$ \n",
        "\\mathbf{H}_1 \\mathbf{A} %\\begin{pmatrix} \\times &amp; \\times &amp; \\times &amp; \\dots &amp; \\times \\\\ 0 &amp; \\times &amp; \\times &amp; \\dots &amp; \\times \\\\ 0 &amp; \\times &amp; \\times &amp; \\dots &amp; \\times \\\\ &amp;&amp; \\dots&amp;&amp; \\\\ 0 &amp; \\times &amp; \\times &amp; \\dots &amp; \\times \\\\ \\end{pmatrix}\n",
        "%\n",
        "\\equiv \\mathbf{A}^{(1)}\\;. \n",
        "$$\n",
        "\n",
        "Теперь рассмотрим нижнюю правую часть матрицы $\\mathbf{A}^{(1)}$ и выполним преобразование Хаусхолдера, действующее на 2 столбец $\\mathbf{A}$:\n",
        "$$\n",
        "\\mathbf{H}_2 \\mathbf{A}^{(1)} % \\begin{pmatrix} \\times &amp; \\times &amp; \\times &amp; \\dots &amp; \\times \\\\ 0 &amp; \\times &amp; \\times &amp; \\dots &amp; \\times \\\\ 0 &amp; 0 &amp; \\times &amp; \\dots &amp; \\times \\\\ &amp;&amp; \\dots&amp;&amp; \\\\ 0 &amp; 0 &amp; \\times &amp; \\dots &amp; \\times \\\\ \\end{pmatrix}\n",
        "%\n",
        "\\equiv \\mathbf{A}^{(2)} \\;. $$\n",
        "\n",
        "Повторяя процесс $n$ раз, получим\n",
        "$$\n",
        "\\mathbf{H}_{n} \\cdots \\mathbf{H}_2 \\mathbf{H}_1 \\mathbf{A} = \\mathbf{R} \\;, \n",
        "$$\n",
        "\n",
        "где $\\mathbf{R}$ верхняя треугольная матрица. Так как каждая из матриц $\\mathbf{H}_k$ ортогональна, таковым будет и их произведение. Обратная от ортогональной также есть матрица ортогональная. Таким образом, алгоритм создает $\\mathrm{QR}$ - разложение матрицы $\\mathbf{A}$.\n",
        "\n",
        "Напишите функцию, получающую прямоугольную матрицу $A$ и возвращающую матрицы $Q$ и $R$ --- компоненты $QR$-разложения $A$.\n"
      ]
    },
    {
      "cell_type": "code",
      "metadata": {
        "deletable": false,
        "nbgrader": {
          "cell_type": "code",
          "checksum": "8a1f5a91c16847856a0cbb2190e6fc61",
          "grade": false,
          "grade_id": "cell-d5a63eec70d4d566",
          "locked": false,
          "schema_version": 3,
          "solution": true,
          "task": false
        },
        "id": "efHA3Tk4l2VD"
      },
      "source": [
        "def qr_decomp(a1):\n",
        "    \"\"\"Вычисляет QR - разложение матрицы.\n",
        "    \n",
        "    Parameters\n",
        "    ----------\n",
        "    a : ndarray, shape(m, n)\n",
        "        Введенная матрица\n",
        "    \n",
        "    Returns\n",
        "    -------\n",
        "    q : ndarray, shape(m, m)\n",
        "        Ортогональная матрица\n",
        "    r : ndarray, shape(m, n)\n",
        "        Верхняя треугольная матрица\n",
        "        \n",
        "    Examples\n",
        "    --------\n",
        "    >>> a = np.random.random(size=(3, 5))\n",
        "    >>> q, r = qr_decomp(a)\n",
        "    >>> np.testing.assert_allclose(q @ r, a, atol=1e-14)\n",
        "    \n",
        "    \"\"\"\n",
        "    a = np.array(a1, copy=True, dtype=float)\n",
        "    m, n = a1.shape\n",
        "    q = np.eye(m)\n",
        "    for i in range(n):\n",
        "        col = a[i:,i]\n",
        "        col1, h = householder(col)\n",
        "        h1 = np.concatenate((\n",
        "            np.concatenate((np.eye(i), np.zeros((i, m - i))), axis=1),\n",
        "            np.concatenate((np.zeros((m - i, i)), h), axis=1)\n",
        "        ))\n",
        "        q = q @ h1\n",
        "        # a[i:,i] = col1\n",
        "        a = h1 @ a\n",
        "    return q, a"
      ],
      "execution_count": 83,
      "outputs": []
    },
    {
      "cell_type": "code",
      "metadata": {
        "deletable": false,
        "editable": false,
        "nbgrader": {
          "cell_type": "code",
          "checksum": "cbad5d2fd9cc1e9402ecf57d84c8d4f6",
          "grade": false,
          "grade_id": "cell-56fbda736c3cd7ea",
          "locked": true,
          "schema_version": 3,
          "solution": false,
          "task": false
        },
        "id": "ZCMH0S-ql2VE"
      },
      "source": [
        "# можете запустить данную операцию для бооее сжатого вывода: нули вместо `1e-16` и т.д.\n",
        "np.set_printoptions(suppress=True)"
      ],
      "execution_count": 35,
      "outputs": []
    },
    {
      "cell_type": "code",
      "metadata": {
        "deletable": false,
        "editable": false,
        "nbgrader": {
          "cell_type": "code",
          "checksum": "92b610ca8921e1424ed15186f1ac0245",
          "grade": true,
          "grade_id": "cell-c3391a61cbdadb2f",
          "locked": true,
          "points": 3,
          "schema_version": 3,
          "solution": false,
          "task": false
        },
        "id": "djcfjy6Nl2VG"
      },
      "source": [
        "rndm = np.random.RandomState(1234)\n",
        "a = rndm.uniform(size=(5, 3))\n",
        "aa = a.copy()\n",
        "\n",
        "q, r = qr_decomp(a)\n",
        "\n",
        "# check that `qr_decomp` leaves `a` intact\n",
        "assert_allclose(a, aa, atol=1e-16)\n",
        "\n",
        "# тестируем, что Q ортогональна\n",
        "assert_allclose(q @ q.T, np.eye(5), atol=1e-14)\n",
        "\n",
        "# проверяем разложение\n",
        "assert_allclose(q @ r, a, atol=1e-14)"
      ],
      "execution_count": 84,
      "outputs": []
    },
    {
      "cell_type": "markdown",
      "metadata": {
        "deletable": false,
        "editable": false,
        "nbgrader": {
          "cell_type": "markdown",
          "checksum": "23a1c1caad0cc026fb9b11be20db43c9",
          "grade": false,
          "grade_id": "cell-c0e81975f522036f",
          "locked": true,
          "schema_version": 3,
          "solution": false,
          "task": false
        },
        "id": "k_mMm-cjl2VI"
      },
      "source": [
        "Теперь сравните ваше разложение с разложением, полученным библиотечной функцией (содержащей соответствующие функции библиотеки LAPACK)"
      ]
    },
    {
      "cell_type": "code",
      "metadata": {
        "deletable": false,
        "editable": false,
        "nbgrader": {
          "cell_type": "code",
          "checksum": "ff88b4759f8e931b7fd1c4865974f290",
          "grade": false,
          "grade_id": "cell-30c8e09d6dfccd7e",
          "locked": true,
          "schema_version": 3,
          "solution": false,
          "task": false
        },
        "id": "7Q6h-KXZl2VI",
        "colab": {
          "base_uri": "https://localhost:8080/"
        },
        "outputId": "1ae1a451-2d9d-4844-87c1-3b6df834ec40"
      },
      "source": [
        "from scipy.linalg import qr\n",
        "qq, rr = qr(a)\n",
        "\n",
        "assert_allclose(np.dot(qq, rr), a,\n",
        "                atol=1e-14)\n",
        "print(np.abs(qq - q) / qq)\n",
        "print(np.abs(rr - r) / rr)"
      ],
      "execution_count": 89,
      "outputs": [
        {
          "output_type": "stream",
          "text": [
            "[[-2.          0.          2.          0.16337892 -1.61226287]\n",
            " [-2.          0.          2.         -1.03505381 -0.82786826]\n",
            " [-2.          0.         -2.         -0.14504976  2.66316363]\n",
            " [-2.         -0.         -2.          0.50011664 -1.22173647]\n",
            " [-2.          0.          2.          2.43556095  0.10634398]]\n",
            "[[-2. -2. -2.]\n",
            " [inf  0.  0.]\n",
            " [inf inf -2.]\n",
            " [inf inf inf]\n",
            " [inf inf inf]]\n"
          ],
          "name": "stdout"
        },
        {
          "output_type": "stream",
          "text": [
            "/usr/local/lib/python3.6/dist-packages/ipykernel_launcher.py:7: RuntimeWarning: divide by zero encountered in true_divide\n",
            "  import sys\n"
          ],
          "name": "stderr"
        }
      ]
    },
    {
      "cell_type": "markdown",
      "metadata": {
        "id": "SCY8qMqQl2VJ"
      },
      "source": [
        "Проверьте, согласуются ли ваши матрицы `q` и `r` с `qq` и `rr`. Объясните результат.\n",
        "Оставьте пояснения в этой ячейке."
      ]
    },
    {
      "cell_type": "markdown",
      "metadata": {
        "deletable": false,
        "editable": false,
        "nbgrader": {
          "cell_type": "markdown",
          "checksum": "1a1cfd1969ba69c09cdd68d5e651fb5b",
          "grade": false,
          "grade_id": "cell-28b501b4a2cd3dc1",
          "locked": true,
          "schema_version": 3,
          "solution": false,
          "task": false
        },
        "id": "n2iDTppEl2VJ"
      },
      "source": [
        "\n",
        "### Часть III. Безматричная реализация.\n",
        "\n",
        "Отметим необычную структуру матрицы Хаусхолдера: матрица поворота $\\mathbf{H}$ полностью характеризуется вектором отражения $\\mathbf{u}$. Заметим, также, что вычислительная сложность операции отражения матрицы сильно зависит от порядка операций:\n",
        "$$ \\left( \\mathbf{u} \\mathbf{u}^T \\right) \\mathbf{A} \\qquad \\textrm{is } O(m^2 n)\\;, $$\n",
        "\n",
        "тогда как $$ \\mathbf{u} \\left( \\mathbf{u}^T \\mathbf{A} \\right) \\qquad \\textrm{is } O(mn) $$\n",
        "\n",
        "Таким образом, следует избегать формирований матриц $\\mathbf{H}$. Вместо этого можно сохранять сами векторы отражения $\\mathbf{u}$ и производить умножение произвольной матрицы на $\\mathbf{Q}^T$, например, как отдельную функцию (класс).\n",
        "\n",
        "Напишите функцию, выполняющую QR - разложение матрицы без формирования матриц $\\mathbf{H}$ и возвращающую матрицу $\\mathbf{R}$, а также вектора отражений Хаусхолдера.\n",
        "\n",
        "\n",
        "Напишите вторую функцию, которая использует вектора отражений, полученных предыдущей функцией, для вычисления произведения $Q^T B$ для заданной матрицы B. Убедитесь, что вы добавили достаточно комментариев, следующих вашим выкладкам. \n",
        "\n"
      ]
    },
    {
      "cell_type": "code",
      "metadata": {
        "deletable": false,
        "nbgrader": {
          "cell_type": "code",
          "checksum": "dcc0faefea89bcb89fa28f0ae61fb5e1",
          "grade": false,
          "grade_id": "cell-5360f8930eabe0b4",
          "locked": false,
          "schema_version": 3,
          "solution": true,
          "task": false
        },
        "id": "oJt2LTphl2VJ"
      },
      "source": [
        "def qr_nomatrix(a1):\n",
        "    \"\"\"Form QR decomposition of `a` via successive Householder reflections.\n",
        "    \n",
        "    Parameters\n",
        "    ----------\n",
        "    a : ndarray\n",
        "        Input matrix\n",
        "    \n",
        "    Returns\n",
        "    -------\n",
        "    R : ndarray\n",
        "        Upper triangular matrix of the QR decomposition\n",
        "    \n",
        "    U : ndarray\n",
        "        Columns store successive Householder reflectors: `U[j:, j]` stores\n",
        "        the Householder reflector for reducing the `j`-th column.\n",
        "        \n",
        "    See Also\n",
        "    --------\n",
        "    householder_apply : apply Householder reflectors stored in `U` to `a`.\n",
        "    \n",
        "    \"\"\"\n",
        "\n",
        "    def h_reflector(vec):\n",
        "        vec = np.asarray(vec, dtype=float)\n",
        "        if vec.ndim != 1:\n",
        "            raise ValueError(\"vec.ndim = %s, expected 1\" % vec.ndim)\n",
        "        outvec = np.zeros(vec.shape)\n",
        "        outvec[0] = np.linalg.norm(vec, 2)\n",
        "        u = (vec - outvec) / np.linalg.norm(vec - outvec, 2)\n",
        "        return u\n",
        "\n",
        "    a = np.array(a1, copy=True, dtype=float)\n",
        "    m, n = a1.shape\n",
        "    uu = np.zeros((m, n))\n",
        "    for i in range(n):\n",
        "        col = a[i:,i]\n",
        "        u = h_reflector(col)\n",
        "        h1 = np.concatenate((\n",
        "            np.concatenate((np.eye(i), np.zeros((i, m - i))), axis=1),\n",
        "            np.concatenate((np.zeros((m - i, i)), np.eye(m - i) - 2 * np.array([[x*y for y in u] for x in u])), axis=1)\n",
        "        ))\n",
        "        uu[i:,i] = u\n",
        "        a = h1 @ a\n",
        "    return a, uu\n",
        "\n",
        "    \n",
        "def householder_apply(b1, uu):\n",
        "    \"\"\"Apply the Householder reflectors stored in `uu` to `b`.\n",
        "    \n",
        "    The result is equivalent to\n",
        "    >>> r, q = qr_decomp(a)\n",
        "    >>> q.T @ b\n",
        "    \n",
        "    Parameters\n",
        "    ----------\n",
        "    b : ndarray\n",
        "        Input matrix\n",
        "    uu : ndarray\n",
        "        Householder reflectors: `U[j:, j]` is the reflection vector\n",
        "        for transforming the `j`-th column of `a`.\n",
        "        \n",
        "    Returns\n",
        "    -------\n",
        "    r : ndarray\n",
        "        The result of applying the reflectors to `b`. Equivalent to\n",
        "        computing `q.T @ b`.\n",
        "\n",
        "    See Also\n",
        "    --------\n",
        "    qr_decomp\n",
        "    \n",
        "    \"\"\"\n",
        "    b = np.array(b1, copy=True, dtype=float)\n",
        "    for i in reversed(range(uu.shape[1])):\n",
        "        u = uu[i:,i]\n",
        "        b_sub = b[i:,i:]\n",
        "        b[i:,i:] = b_sub - 2 * u @ (u.T @ b_sub)\n",
        "    return b"
      ],
      "execution_count": 105,
      "outputs": []
    },
    {
      "cell_type": "code",
      "metadata": {
        "deletable": false,
        "editable": false,
        "nbgrader": {
          "cell_type": "code",
          "checksum": "5973b62d7760c8e4f786f62f033e2904",
          "grade": true,
          "grade_id": "cell-68363e2462de3a8b",
          "locked": true,
          "points": 3,
          "schema_version": 3,
          "solution": false,
          "task": false
        },
        "id": "sPdASZ63l2VK",
        "colab": {
          "base_uri": "https://localhost:8080/",
          "height": 539
        },
        "outputId": "fb1f53e5-3183-4111-faf8-878031e79876"
      },
      "source": [
        "rndm = np.random.RandomState(1223)\n",
        "\n",
        "a = rndm.uniform(size=(5, 5))\n",
        "R1, U = qr_nomatrix(a)\n",
        "R2 = householder_apply(a, U)\n",
        "R_lib = qr(a)[1]\n",
        "assert_allclose(R1, R2, atol=1e-14)\n"
      ],
      "execution_count": 106,
      "outputs": [
        {
          "output_type": "error",
          "ename": "AssertionError",
          "evalue": "ignored",
          "traceback": [
            "\u001b[0;31m---------------------------------------------------------------------------\u001b[0m",
            "\u001b[0;31mAssertionError\u001b[0m                            Traceback (most recent call last)",
            "\u001b[0;32m<ipython-input-106-48062e3b3cdc>\u001b[0m in \u001b[0;36m<module>\u001b[0;34m()\u001b[0m\n\u001b[1;32m      5\u001b[0m \u001b[0mR2\u001b[0m \u001b[0;34m=\u001b[0m \u001b[0mhouseholder_apply\u001b[0m\u001b[0;34m(\u001b[0m\u001b[0ma\u001b[0m\u001b[0;34m,\u001b[0m \u001b[0mU\u001b[0m\u001b[0;34m)\u001b[0m\u001b[0;34m\u001b[0m\u001b[0;34m\u001b[0m\u001b[0m\n\u001b[1;32m      6\u001b[0m \u001b[0mR_lib\u001b[0m \u001b[0;34m=\u001b[0m \u001b[0mqr\u001b[0m\u001b[0;34m(\u001b[0m\u001b[0ma\u001b[0m\u001b[0;34m)\u001b[0m\u001b[0;34m[\u001b[0m\u001b[0;36m1\u001b[0m\u001b[0;34m]\u001b[0m\u001b[0;34m\u001b[0m\u001b[0;34m\u001b[0m\u001b[0m\n\u001b[0;32m----> 7\u001b[0;31m \u001b[0massert_allclose\u001b[0m\u001b[0;34m(\u001b[0m\u001b[0mR1\u001b[0m\u001b[0;34m,\u001b[0m \u001b[0mR2\u001b[0m\u001b[0;34m,\u001b[0m \u001b[0matol\u001b[0m\u001b[0;34m=\u001b[0m\u001b[0;36m1e-14\u001b[0m\u001b[0;34m)\u001b[0m\u001b[0;34m\u001b[0m\u001b[0;34m\u001b[0m\u001b[0m\n\u001b[0m",
            "\u001b[0;32m/usr/local/lib/python3.6/dist-packages/numpy/testing/_private/utils.py\u001b[0m in \u001b[0;36massert_allclose\u001b[0;34m(actual, desired, rtol, atol, equal_nan, err_msg, verbose)\u001b[0m\n\u001b[1;32m   1526\u001b[0m     \u001b[0mheader\u001b[0m \u001b[0;34m=\u001b[0m \u001b[0;34m'Not equal to tolerance rtol=%g, atol=%g'\u001b[0m \u001b[0;34m%\u001b[0m \u001b[0;34m(\u001b[0m\u001b[0mrtol\u001b[0m\u001b[0;34m,\u001b[0m \u001b[0matol\u001b[0m\u001b[0;34m)\u001b[0m\u001b[0;34m\u001b[0m\u001b[0;34m\u001b[0m\u001b[0m\n\u001b[1;32m   1527\u001b[0m     assert_array_compare(compare, actual, desired, err_msg=str(err_msg),\n\u001b[0;32m-> 1528\u001b[0;31m                          verbose=verbose, header=header, equal_nan=equal_nan)\n\u001b[0m\u001b[1;32m   1529\u001b[0m \u001b[0;34m\u001b[0m\u001b[0m\n\u001b[1;32m   1530\u001b[0m \u001b[0;34m\u001b[0m\u001b[0m\n",
            "\u001b[0;32m/usr/local/lib/python3.6/dist-packages/numpy/testing/_private/utils.py\u001b[0m in \u001b[0;36massert_array_compare\u001b[0;34m(comparison, x, y, err_msg, verbose, header, precision, equal_nan, equal_inf)\u001b[0m\n\u001b[1;32m    838\u001b[0m                                 \u001b[0mverbose\u001b[0m\u001b[0;34m=\u001b[0m\u001b[0mverbose\u001b[0m\u001b[0;34m,\u001b[0m \u001b[0mheader\u001b[0m\u001b[0;34m=\u001b[0m\u001b[0mheader\u001b[0m\u001b[0;34m,\u001b[0m\u001b[0;34m\u001b[0m\u001b[0;34m\u001b[0m\u001b[0m\n\u001b[1;32m    839\u001b[0m                                 names=('x', 'y'), precision=precision)\n\u001b[0;32m--> 840\u001b[0;31m             \u001b[0;32mraise\u001b[0m \u001b[0mAssertionError\u001b[0m\u001b[0;34m(\u001b[0m\u001b[0mmsg\u001b[0m\u001b[0;34m)\u001b[0m\u001b[0;34m\u001b[0m\u001b[0;34m\u001b[0m\u001b[0m\n\u001b[0m\u001b[1;32m    841\u001b[0m     \u001b[0;32mexcept\u001b[0m \u001b[0mValueError\u001b[0m\u001b[0;34m:\u001b[0m\u001b[0;34m\u001b[0m\u001b[0;34m\u001b[0m\u001b[0m\n\u001b[1;32m    842\u001b[0m         \u001b[0;32mimport\u001b[0m \u001b[0mtraceback\u001b[0m\u001b[0;34m\u001b[0m\u001b[0;34m\u001b[0m\u001b[0m\n",
            "\u001b[0;31mAssertionError\u001b[0m: \nNot equal to tolerance rtol=1e-07, atol=1e-14\n\nMismatched elements: 25 / 25 (100%)\nMax absolute difference: 14.72042492\nMax relative difference: 1.13429106\n x: array([[ 1.137109,  0.426699,  1.673337,  1.293916,  1.073292],\n       [ 0.      ,  0.389774, -0.044474,  0.649501,  0.493678],\n       [ 0.      ,  0.      ,  0.890476, -0.02996 ,  0.781654],...\n y: array([[-12.923189, -13.288912, -12.460523, -13.426509, -12.807002],\n       [-13.312339, -10.996474, -10.057152, -10.793458, -10.183203],\n       [-12.999187, -10.943607,  -8.556867,  -8.656224,  -9.033251],..."
          ]
        }
      ]
    },
    {
      "cell_type": "code",
      "metadata": {
        "deletable": false,
        "editable": false,
        "nbgrader": {
          "cell_type": "code",
          "checksum": "2eb85b9991a5a4f340ef32307fa42843",
          "grade": true,
          "grade_id": "cell-159c6803d580116d",
          "locked": true,
          "points": 3,
          "schema_version": 3,
          "solution": false,
          "task": false
        },
        "id": "Gwn-qWVnl2VK"
      },
      "source": [
        "# Check consistency with the scipy library decomposition. Allow for sign differences\n",
        "\n",
        "conds = [np.allclose(R2[i, :], R_lib[i, :], atol=1e-14) or\n",
        "         np.allclose(R2[i, :], -R_lib[i, :], atol=1e-14) for i in range(5)]\n",
        "assert False not in conds\n"
      ],
      "execution_count": null,
      "outputs": []
    },
    {
      "cell_type": "code",
      "metadata": {
        "deletable": false,
        "editable": false,
        "nbgrader": {
          "cell_type": "code",
          "checksum": "eae39ec8a064abcc8a9c74be1b03d24a",
          "grade": true,
          "grade_id": "cell-cfb9d263bcd923ed",
          "locked": true,
          "points": 3,
          "schema_version": 3,
          "solution": false,
          "task": false
        },
        "id": "7B3uo_NMl2VL"
      },
      "source": [
        "# More testing here, keep this cell intact\n"
      ],
      "execution_count": null,
      "outputs": []
    },
    {
      "cell_type": "code",
      "metadata": {
        "id": "tPzRL0IVl2VM"
      },
      "source": [
        ""
      ],
      "execution_count": null,
      "outputs": []
    }
  ]
}