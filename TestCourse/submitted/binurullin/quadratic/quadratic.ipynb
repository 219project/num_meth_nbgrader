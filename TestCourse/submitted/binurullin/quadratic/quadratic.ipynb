{
 "cells": [
  {
   "cell_type": "markdown",
   "metadata": {},
   "source": [
    "Before you turn this problem in, make sure everything runs as expected. First, **restart the kernel** (in the menubar, select Kernel$\\rightarrow$Restart) and then **run all cells** (in the menubar, select Cell$\\rightarrow$Run All).\n",
    "\n",
    "Make sure you fill in any place that says `YOUR CODE HERE` or \"YOUR ANSWER HERE\", as well as your name and collaborators below:"
   ]
  },
  {
   "cell_type": "code",
   "execution_count": 5,
   "metadata": {},
   "outputs": [],
   "source": [
    "NAME = \"\"\n",
    "COLLABORATORS = \"\""
   ]
  },
  {
   "cell_type": "markdown",
   "metadata": {},
   "source": [
    "---"
   ]
  },
  {
   "source": [
    "Write a function which solves a quadratic equation, $x^2 + b x + c = 0$. Your function must receive two values for coefficients and return two real or complex roots. Always return two roots, even if the equation has a single double root. "
   ],
   "cell_type": "markdown",
   "metadata": {
    "deletable": false,
    "editable": false,
    "nbgrader": {
     "cell_type": "markdown",
     "checksum": "74073e87d382d0355e85faeba52e8453",
     "grade": false,
     "grade_id": "cell-eb39a9ff603592f6",
     "locked": true,
     "schema_version": 3,
     "solution": false
    }
   }
  },
  {
   "cell_type": "code",
   "execution_count": 6,
   "metadata": {
    "deletable": false,
    "nbgrader": {
     "cell_type": "code",
     "checksum": "60c2d35c9cce948edb2dca582d5f63b5",
     "grade": false,
     "grade_id": "cell-2032efc64a327acc",
     "locked": false,
     "schema_version": 3,
     "solution": true
    }
   },
   "outputs": [],
   "source": [
    "from math import sqrt\n",
    "from cmath import sqrt as c_sqrt\n",
    "\n",
    "def solve_quad(b, c):\n",
    "    ''' Parameters\n",
    "    ----------\n",
    "    b, c : float\n",
    "       Coefficients\n",
    "       \n",
    "    Returns\n",
    "    -------\n",
    "    x1, x2 : float or complex\n",
    "        Roots.\n",
    "    '''\n",
    "     # YOUR CODE HERE\n",
    "    D = (b**2) - 4.0 * c\n",
    "    #  follows from the Vieta formula\n",
    "    if 1 + c == b:\n",
    "        return (-1.0), (-c)\n",
    "    elif 1 + b + c == 0:\n",
    "        return (1.0), (c)\n",
    "    elif b == 0 and c == 0: \n",
    "        return 0, 0\n",
    "    #calculations were at the seminar\n",
    "    elif D**0.5 == b or D**0.5 == -b: \n",
    "        x1 = - b + c/b + c**2 / b**3 \n",
    "        x2 = - (c/b + (c**2 / b**3))\n",
    "        return x1, x2\n",
    "    else:\n",
    "        if D>=0:\n",
    "            x1 = - (2 * c) / (sqrt(D) + b)\n",
    "            x2 = c / x2 #Vieta formula\n",
    "            return x1, x2\n",
    "        elif D<0:\n",
    "            x1 = - (2*c) / (c_sqrt(D) + b) \n",
    "            x2 = (2*c) / (c_sqrt(D) - b)\n",
    "            return x1, x2"
   ]
  },
  {
   "cell_type": "code",
   "execution_count": 7,
   "metadata": {
    "deletable": false,
    "editable": false,
    "nbgrader": {
     "cell_type": "code",
     "checksum": "cba52b9e7e77f925b1f2fb3334a99b92",
     "grade": true,
     "grade_id": "cell-89cf7badb387b0e0",
     "locked": true,
     "points": 5,
     "schema_version": 3,
     "solution": false
    }
   },
   "outputs": [
    {
     "output_type": "stream",
     "name": "stdout",
     "text": [
      "None\nNone\nNone\nNone\n"
     ]
    }
   ],
   "source": [
    "#\n",
    "# Your implementation should pass tests in this cell.\n",
    "#\n",
    "# Do not remove or alter this cell. You may run it, but do not remove or alter it.\n",
    "# Your changes to this cell will be ignored on grading.\n",
    "# There will be additional tests.\n",
    "#\n",
    "from numpy.testing import assert_allclose\n",
    "from numpy import allclose\n",
    "variants = [{'b': 4.0, 'c': 3.0},\n",
    "            {'b': 2.0, 'c': 1.0},\n",
    "            {'b': 0.5, 'c': 4.0},\n",
    "            {'b': 1e10, 'c': 3.0},\n",
    "           ]\n",
    "\n",
    "for var in variants:\n",
    "    x1, x2 = solve_quad(**var)\n",
    "    print(assert_allclose(x1*x2, var['c'], rtol=1e-15))"
   ]
  },
  {
   "cell_type": "code",
   "execution_count": 8,
   "metadata": {
    "deletable": false,
    "editable": false,
    "nbgrader": {
     "cell_type": "code",
     "checksum": "5b5fc0da6dc8c015736ff9e557a54fd9",
     "grade": true,
     "grade_id": "cell-0970e4298cb77486",
     "locked": true,
     "points": 5,
     "schema_version": 3,
     "solution": false,
     "task": false
    }
   },
   "outputs": [
    {
     "output_type": "stream",
     "name": "stdout",
     "text": [
      "True\nTrue\nTrue\nTrue\nTrue\n"
     ]
    }
   ],
   "source": [
    "variants = [{'b': 4.0, 'c': 3.0},\n",
    "            {'b': 2.0, 'c': 1.0},\n",
    "            {'b': 0.5, 'c': 4.0},\n",
    "            {'b': 1e10, 'c': 3.0},\n",
    "            {'b': -1e10, 'c': 4.0},\n",
    "            ]\n",
    "for var in variants:\n",
    "    x1, x2 = solve_quad(**var)\n",
    "    print(allclose(x1*x2, var['c']))"
   ]
  }
 ],
 "metadata": {
  "kernelspec": {
   "display_name": "Python 3",
   "language": "python",
   "name": "python3"
  },
  "language_info": {
   "codemirror_mode": {
    "name": "ipython",
    "version": 3
   },
   "file_extension": ".py",
   "mimetype": "text/x-python",
   "name": "python",
   "nbconvert_exporter": "python",
   "pygments_lexer": "ipython3",
   "version": "3.7.6-final"
  }
 },
 "nbformat": 4,
 "nbformat_minor": 2
}