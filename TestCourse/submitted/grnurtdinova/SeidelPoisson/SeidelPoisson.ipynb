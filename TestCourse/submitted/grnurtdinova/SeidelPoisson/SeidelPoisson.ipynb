{
  "nbformat": 4,
  "nbformat_minor": 0,
  "metadata": {
    "kernelspec": {
      "display_name": "Python 3",
      "language": "python",
      "name": "python3"
    },
    "language_info": {
      "codemirror_mode": {
        "name": "ipython",
        "version": 3
      },
      "file_extension": ".py",
      "mimetype": "text/x-python",
      "name": "python",
      "nbconvert_exporter": "python",
      "pygments_lexer": "ipython3",
      "version": "3.8.5"
    },
    "colab": {
      "name": "SeidelPoisson_grnurtdinova.ipynb",
      "provenance": []
    }
  },
  "cells": [
    {
      "cell_type": "markdown",
      "metadata": {
        "id": "6zaB3Mt13Saa"
      },
      "source": [
        "Before you turn this problem in, make sure everything runs as expected. First, **restart the kernel** (in the menubar, select Kernel$\\rightarrow$Restart) and then **run all cells** (in the menubar, select Cell$\\rightarrow$Run All).\n",
        "\n",
        "Make sure you fill in any place that says `YOUR CODE HERE` or \"YOUR ANSWER HERE\", as well as your name and collaborators below:"
      ]
    },
    {
      "cell_type": "code",
      "metadata": {
        "id": "Xxjt5br53Sbh"
      },
      "source": [
        "NAME = \"Nurtdinova BAM184\"\n",
        "COLLABORATORS = \"\""
      ],
      "execution_count": 2,
      "outputs": []
    },
    {
      "cell_type": "markdown",
      "metadata": {
        "id": "JU9gmXOM3Sbx"
      },
      "source": [
        "---"
      ]
    },
    {
      "cell_type": "code",
      "metadata": {
        "deletable": false,
        "editable": false,
        "nbgrader": {
          "cell_type": "code",
          "checksum": "82ecff7a3476ffeb1b53c115df234878",
          "grade": false,
          "grade_id": "cell-ed0e89e39ef5b952",
          "locked": true,
          "schema_version": 3,
          "solution": false,
          "task": false
        },
        "id": "Ucy4CsL53Sb-"
      },
      "source": [
        "import numpy as np\n",
        "from scipy.linalg import block_diag"
      ],
      "execution_count": 3,
      "outputs": []
    },
    {
      "cell_type": "markdown",
      "metadata": {
        "id": "EtmFMeCr3ScB"
      },
      "source": [
        "Рассмотрим систему линейных уравнений, матрица правой части которой является \"ленточной\" и имеет следующую структуру: ненулевые элементы расположены на трех центральных диагонялях и на двух \"крыльях\". Матрицы такой структуры возникают, например, при решении задачи на нахождение электростатического потенциала $\\phi(x, y)$, cоздаваемого двумерным распределением заряда $\\rho(x, y)$ при дискретизации на сетке уравнения Пуассона\n",
        "\n",
        "$$\n",
        "\\Delta \\phi = -4\\pi \\rho\\;.\n",
        "$$\n",
        "\n",
        "(детали см. напр. А.А. Самарский, А.В. Гулин, Численные методы, ч. 3 гл. 1, параграф 1).\n",
        "\n",
        "Размер матрицы растет с уменьшением шага сетки $h$ как $O(1/h^2)$. Таким образом, приходится иметь дело с разреженными матрицами огромного размера.\n",
        "\n",
        "Матрицу `m` создадим следующим образом:"
      ]
    },
    {
      "cell_type": "code",
      "metadata": {
        "deletable": false,
        "editable": false,
        "nbgrader": {
          "cell_type": "code",
          "checksum": "49cc83ba22b9baf06a0fd368ebbe0594",
          "grade": false,
          "grade_id": "cell-68787095785b88fa",
          "locked": true,
          "schema_version": 3,
          "solution": false,
          "task": false
        },
        "id": "epkpVSww3ScI"
      },
      "source": [
        "def lhs_matrix(n):\n",
        "    # Диагональный блок\n",
        "    a = np.zeros((n-1, n-1))\n",
        "\n",
        "    idx = np.arange(n-1)\n",
        "\n",
        "    a[idx, idx] = -4\n",
        "    a[idx[:-1], idx[:-1]+1] = 1\n",
        "    a[idx[1:], idx[1:]-1] = 1\n",
        "\n",
        "    # собираем блочно-диагональную матрицу `m`\n",
        "    m = block_diag(*(a,)*n)\n",
        "\n",
        "    # заполняем \"крылья\"\n",
        "    idx = np.arange(m.shape[0])\n",
        "\n",
        "    m[idx[:-n+1], idx[:-n+1] + n-1] = 1\n",
        "    m[idx[n-1:], idx[n-1:] - n+1] = 1\n",
        "    return m"
      ],
      "execution_count": 4,
      "outputs": []
    },
    {
      "cell_type": "code",
      "metadata": {
        "deletable": false,
        "editable": false,
        "nbgrader": {
          "cell_type": "code",
          "checksum": "02c4a2bb847ac93894a90f04a8bf25f2",
          "grade": false,
          "grade_id": "cell-4c5b195e789944ab",
          "locked": true,
          "schema_version": 3,
          "solution": false,
          "task": false
        },
        "colab": {
          "base_uri": "https://localhost:8080/"
        },
        "id": "cwxlErZr3ScN",
        "outputId": "16f678d2-7681-46ae-970b-6dbc968617fa"
      },
      "source": [
        "m = lhs_matrix(5)\n",
        "\n",
        "with np.printoptions(linewidth=99):\n",
        "    print(m)"
      ],
      "execution_count": 5,
      "outputs": [
        {
          "output_type": "stream",
          "text": [
            "[[-4.  1.  0.  0.  1.  0.  0.  0.  0.  0.  0.  0.  0.  0.  0.  0.  0.  0.  0.  0.]\n",
            " [ 1. -4.  1.  0.  0.  1.  0.  0.  0.  0.  0.  0.  0.  0.  0.  0.  0.  0.  0.  0.]\n",
            " [ 0.  1. -4.  1.  0.  0.  1.  0.  0.  0.  0.  0.  0.  0.  0.  0.  0.  0.  0.  0.]\n",
            " [ 0.  0.  1. -4.  0.  0.  0.  1.  0.  0.  0.  0.  0.  0.  0.  0.  0.  0.  0.  0.]\n",
            " [ 1.  0.  0.  0. -4.  1.  0.  0.  1.  0.  0.  0.  0.  0.  0.  0.  0.  0.  0.  0.]\n",
            " [ 0.  1.  0.  0.  1. -4.  1.  0.  0.  1.  0.  0.  0.  0.  0.  0.  0.  0.  0.  0.]\n",
            " [ 0.  0.  1.  0.  0.  1. -4.  1.  0.  0.  1.  0.  0.  0.  0.  0.  0.  0.  0.  0.]\n",
            " [ 0.  0.  0.  1.  0.  0.  1. -4.  0.  0.  0.  1.  0.  0.  0.  0.  0.  0.  0.  0.]\n",
            " [ 0.  0.  0.  0.  1.  0.  0.  0. -4.  1.  0.  0.  1.  0.  0.  0.  0.  0.  0.  0.]\n",
            " [ 0.  0.  0.  0.  0.  1.  0.  0.  1. -4.  1.  0.  0.  1.  0.  0.  0.  0.  0.  0.]\n",
            " [ 0.  0.  0.  0.  0.  0.  1.  0.  0.  1. -4.  1.  0.  0.  1.  0.  0.  0.  0.  0.]\n",
            " [ 0.  0.  0.  0.  0.  0.  0.  1.  0.  0.  1. -4.  0.  0.  0.  1.  0.  0.  0.  0.]\n",
            " [ 0.  0.  0.  0.  0.  0.  0.  0.  1.  0.  0.  0. -4.  1.  0.  0.  1.  0.  0.  0.]\n",
            " [ 0.  0.  0.  0.  0.  0.  0.  0.  0.  1.  0.  0.  1. -4.  1.  0.  0.  1.  0.  0.]\n",
            " [ 0.  0.  0.  0.  0.  0.  0.  0.  0.  0.  1.  0.  0.  1. -4.  1.  0.  0.  1.  0.]\n",
            " [ 0.  0.  0.  0.  0.  0.  0.  0.  0.  0.  0.  1.  0.  0.  1. -4.  0.  0.  0.  1.]\n",
            " [ 0.  0.  0.  0.  0.  0.  0.  0.  0.  0.  0.  0.  1.  0.  0.  0. -4.  1.  0.  0.]\n",
            " [ 0.  0.  0.  0.  0.  0.  0.  0.  0.  0.  0.  0.  0.  1.  0.  0.  1. -4.  1.  0.]\n",
            " [ 0.  0.  0.  0.  0.  0.  0.  0.  0.  0.  0.  0.  0.  0.  1.  0.  0.  1. -4.  1.]\n",
            " [ 0.  0.  0.  0.  0.  0.  0.  0.  0.  0.  0.  0.  0.  0.  0.  1.  0.  0.  1. -4.]]\n"
          ],
          "name": "stdout"
        }
      ]
    },
    {
      "cell_type": "code",
      "metadata": {
        "deletable": false,
        "editable": false,
        "nbgrader": {
          "cell_type": "code",
          "checksum": "d1c92e9be65ac427184fdae9935f7d8f",
          "grade": false,
          "grade_id": "cell-26d617a08fa36eb1",
          "locked": true,
          "schema_version": 3,
          "solution": false,
          "task": false
        },
        "colab": {
          "base_uri": "https://localhost:8080/",
          "height": 292
        },
        "id": "lTc0FVxX3ScY",
        "outputId": "315f4abd-4fc7-4365-95db-f42f7015b0b6"
      },
      "source": [
        "import matplotlib.pyplot as plt\n",
        "plt.matshow(m)"
      ],
      "execution_count": 6,
      "outputs": [
        {
          "output_type": "execute_result",
          "data": {
            "text/plain": [
              "<matplotlib.image.AxesImage at 0x7f06a70b2890>"
            ]
          },
          "metadata": {
            "tags": []
          },
          "execution_count": 6
        },
        {
          "output_type": "display_data",
          "data": {
            "image/png": "[encoded data removed]",
            "text/plain": [
              "<Figure size 288x288 with 1 Axes>"
            ]
          },
          "metadata": {
            "tags": [],
            "needs_background": "light"
          }
        }
      ]
    },
    {
      "cell_type": "markdown",
      "metadata": {
        "deletable": false,
        "editable": false,
        "nbgrader": {
          "cell_type": "markdown",
          "checksum": "c43ce232bdd094d2d8787200e82cd200",
          "grade": false,
          "grade_id": "cell-0810641c405cedb0",
          "locked": true,
          "schema_version": 3,
          "solution": false,
          "task": false
        },
        "id": "CIpsfvab3Sch"
      },
      "source": [
        "Зададим вектор правой части системы $b$, символизирующий точечный заряд в центре:"
      ]
    },
    {
      "cell_type": "code",
      "metadata": {
        "deletable": false,
        "editable": false,
        "nbgrader": {
          "cell_type": "code",
          "checksum": "2ee23b7e4631364aa0def6e9025de5fe",
          "grade": false,
          "grade_id": "cell-bdf75cbde3d40c9b",
          "locked": true,
          "schema_version": 3,
          "solution": false,
          "task": false
        },
        "id": "WM7jXpGn3Scy"
      },
      "source": [
        "b = np.zeros(m.shape[0])\n",
        "b[m.shape[0]//2] = -1"
      ],
      "execution_count": 7,
      "outputs": []
    },
    {
      "cell_type": "markdown",
      "metadata": {
        "deletable": false,
        "editable": false,
        "nbgrader": {
          "cell_type": "markdown",
          "checksum": "4818e389f558693d56e6bff7518c7d0d",
          "grade": false,
          "grade_id": "cell-3d07f62eb12bf684",
          "locked": true,
          "schema_version": 3,
          "solution": false,
          "task": false
        },
        "id": "jpEWOw0q3Sc3"
      },
      "source": [
        "Составьте функцию, вычисляющую решение системы уравнений $m x = b$ **методом Зейделя** с заданной точностью $\\epsilon$.\n",
        "\n",
        "Не пользуйтесь функциями `np.linalg.solve`, `np.linalg.inv` и т.п. Обратите внимание на функции `np.triu` и `scipy.linalg.solve_triangular`."
      ]
    },
    {
      "cell_type": "code",
      "metadata": {
        "deletable": false,
        "nbgrader": {
          "cell_type": "code",
          "checksum": "386955466ee6d63226201a37e3c5f0e8",
          "grade": false,
          "grade_id": "cell-d3e0976736f7d3f0",
          "locked": false,
          "schema_version": 3,
          "solution": true,
          "task": false
        },
        "id": "HnpIJDTD3SdA"
      },
      "source": [
        "from scipy.linalg import solve_triangular\n",
        "\n",
        "def seidel_solve(m, b, x0, eps=1e-5, maxiter=500):\n",
        "    \"\"\" Solve `m @ x = b` with Seidel iteration.\n",
        "    \n",
        "    Parameters\n",
        "    ----------\n",
        "    m : ndarray, shape (n, n)\n",
        "       Input matrix\n",
        "    b : ndarray, shape (n,)\n",
        "       Right-hand side\n",
        "    x0 : ndarray, shape (n, )\n",
        "       Initial point for the iteration\n",
        "    eps : float, optional\n",
        "       Target accuracy.\n",
        "       Stop iterations when the 2-norm of \n",
        "       `|x_k - x_{k-1}| < eps`\n",
        "    maxiter : int\n",
        "       Maximum allowed number of iterations.\n",
        "       \n",
        "    Returns\n",
        "    -------\n",
        "    x : ndarray, shape (n,)\n",
        "       The approximation to the solution of `m @ x = b`\n",
        "    nit : the number of iterations performed.\n",
        "    \"\"\"\n",
        "    A = -np.triu(m, k=1)\n",
        "    C = -np.tril(m, k=-1)\n",
        "    B = np.diag(np.diag(m))\n",
        "    \n",
        "    B_C = B - C\n",
        "    \n",
        "    xp = x0\n",
        "    nit = 0\n",
        "    \n",
        "    while (nit < maxiter):\n",
        "        x = solve_triangular(B_C, A@xp + b, lower=True)\n",
        "        if np.linalg.norm(x-xp) < eps:\n",
        "            return x, nit\n",
        "        xp = x\n",
        "        nit += 1\n",
        "    \n",
        "    return x, nit"
      ],
      "execution_count": 8,
      "outputs": []
    },
    {
      "cell_type": "code",
      "metadata": {
        "deletable": false,
        "editable": false,
        "nbgrader": {
          "cell_type": "code",
          "checksum": "397e5092e4bf5d9b1dcbb011ea82c008",
          "grade": true,
          "grade_id": "cell-8f5b96cfad0e18d7",
          "locked": true,
          "points": 15,
          "schema_version": 3,
          "solution": false,
          "task": false
        },
        "id": "1wTOzOb13SdL"
      },
      "source": [
        "m = lhs_matrix(n=6)\n",
        "b = np.zeros(m.shape[0])\n",
        "b[b.size//2] = 1\n",
        "\n",
        "x0 = np.ones(m.shape[0])\n",
        "x, nit = seidel_solve(m, b, x0)\n",
        "\n",
        "from numpy.testing import assert_allclose\n",
        "assert_allclose(x,\n",
        "                np.linalg.solve(m, b), atol=2e-5)\n"
      ],
      "execution_count": 9,
      "outputs": []
    },
    {
      "cell_type": "markdown",
      "metadata": {
        "deletable": false,
        "editable": false,
        "nbgrader": {
          "cell_type": "markdown",
          "checksum": "1df4e606a0bc3490f652daf5226d0c33",
          "grade": false,
          "grade_id": "cell-76a3476cfd72af3b",
          "locked": true,
          "schema_version": 3,
          "solution": false,
          "task": false
        },
        "id": "gSYssOkI3SdW"
      },
      "source": [
        "Прокомментируйте зависимость числа итераций, требуемых для достижения заданной точности, от $\\epsilon$. (без оценки)"
      ]
    },
    {
      "cell_type": "code",
      "metadata": {
        "colab": {
          "base_uri": "https://localhost:8080/",
          "height": 501
        },
        "id": "4K9TjoAM3SdZ",
        "outputId": "81c0ddb4-eeb3-4700-8667-bc2e6b8ec4df"
      },
      "source": [
        "l_eps = 10**np.array(np.arange(-1, -7, -1, dtype=float))\n",
        "l_iter = []\n",
        "\n",
        "for eps in l_eps:\n",
        "    x, nit = seidel_solve(m, b, x0, eps=eps)\n",
        "    l_iter.append(nit)\n",
        "\n",
        "plt.figure(figsize=(10, 8))\n",
        "plt.plot(l_eps, l_iter, '*-')\n",
        "plt.xscale('log')\n",
        "plt.xlabel('Заданная точность')\n",
        "plt.ylabel('Число итераций')\n",
        "plt.show()#линейная"
      ],
      "execution_count": 10,
      "outputs": [
        {
          "output_type": "display_data",
          "data": {
            "image/png": "[encoded data removed]",
            "text/plain": [
              "<Figure size 720x576 with 1 Axes>"
            ]
          },
          "metadata": {
            "tags": [],
            "needs_background": "light"
          }
        }
      ]
    },
    {
      "cell_type": "code",
      "metadata": {
        "colab": {
          "base_uri": "https://localhost:8080/",
          "height": 265
        },
        "id": "dfbheOK93Sdc",
        "outputId": "45868853-ccaf-4235-9c1f-14607ed85165"
      },
      "source": [
        "# Постройте график решения как функцию индекса компоненты вектора. \n",
        "# Прокомментируйте характер зависимости (без оценки).\n",
        "plt.plot(x, '*-')\n",
        "plt.show()"
      ],
      "execution_count": 11,
      "outputs": [
        {
          "output_type": "display_data",
          "data": {
            "image/png": "[encoded data removed]",
            "text/plain": [
              "<Figure size 432x288 with 1 Axes>"
            ]
          },
          "metadata": {
            "tags": [],
            "needs_background": "light"
          }
        }
      ]
    }
  ]
}