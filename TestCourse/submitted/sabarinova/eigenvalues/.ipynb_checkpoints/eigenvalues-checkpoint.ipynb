{
 "cells": [
  {
   "cell_type": "markdown",
   "metadata": {
    "id": "zXY9Y3CRSqgz"
   },
   "source": [
    "Before you turn this problem in, make sure everything runs as expected. First, **restart the kernel** (in the menubar, select Kernel$\\rightarrow$Restart) and then **run all cells** (in the menubar, select Cell$\\rightarrow$Run All).\n",
    "\n",
    "Make sure you fill in any place that says `YOUR CODE HERE` or \"YOUR ANSWER HERE\", as well as your name and collaborators below:"
   ]
  },
  {
   "cell_type": "code",
   "execution_count": 1,
   "metadata": {
    "id": "eO_XATQRSqg6"
   },
   "outputs": [],
   "source": [
    "NAME = \"\"\n",
    "COLLABORATORS = \"\""
   ]
  },
  {
   "cell_type": "markdown",
   "metadata": {
    "id": "cGGCTXHiSqg7"
   },
   "source": [
    "---"
   ]
  },
  {
   "cell_type": "code",
   "execution_count": 2,
   "metadata": {
    "deletable": false,
    "editable": false,
    "id": "XN7wVM2BSqg8",
    "nbgrader": {
     "checksum": "05666cdfbea4d90e167692683629e516",
     "grade": false,
     "grade_id": "cell-dee318487c917c20",
     "locked": true,
     "schema_version": 3,
     "solution": false,
     "task": false
    }
   },
   "outputs": [],
   "source": [
    "import numpy as np\n",
    "from numpy.testing import assert_allclose"
   ]
  },
  {
   "cell_type": "markdown",
   "metadata": {
    "deletable": false,
    "editable": false,
    "id": "AzbhDAiJSqg8",
    "nbgrader": {
     "checksum": "669a2dcb9b9e6f6c64579986fb9235df",
     "grade": false,
     "grade_id": "cell-00de4de4082aa444",
     "locked": true,
     "schema_version": 3,
     "solution": false,
     "task": false
    }
   },
   "source": [
    "# 1. Степенная итерация"
   ]
  },
  {
   "cell_type": "markdown",
   "metadata": {
    "deletable": false,
    "editable": false,
    "id": "ci0tolpeSqg9",
    "nbgrader": {
     "checksum": "9f430376dbbc28c66fa9ab28bcecb6ca",
     "grade": false,
     "grade_id": "cell-1a3077925e3e394b",
     "locked": true,
     "schema_version": 3,
     "solution": false,
     "task": false
    }
   },
   "source": [
    "Дана квадратная $n \\times n$ матрица $A$. Алгоритм степенной итерации позволяет найти максимальное собственное значение $\\lambda$ матрицы $A$. Для начала необходимо задать начальное приближение собственного вектора $x_0$. \n",
    "\n",
    "\n",
    "Модифицированный алгоритм степенной итерации:\n",
    "\n",
    "1. $y_{k+1} = A x_k$\n",
    "\n",
    "2. $x_{k+1} = \\cfrac{y_{k+1}}{||y_{k+1}||}$\n",
    "\n",
    "3. $\\lambda^{(k)} = (x_k, y_{k+1})$\n",
    "\n",
    "где $k$ - номер итерации.\n",
    "\n",
    "Напишите функцию, реализующую поиск максимального собственного значения заданной матрицы с помощью алгоритма степенной итерации."
   ]
  },
  {
   "cell_type": "code",
   "execution_count": 3,
   "metadata": {
    "deletable": false,
    "id": "Od7hGemhSqg-",
    "nbgrader": {
     "checksum": "1a88dfc0f776e1d38fc4175d016cf5fc",
     "grade": false,
     "grade_id": "cell-3cfc4f5a0e04dc11",
     "locked": false,
     "schema_version": 3,
     "solution": true,
     "task": false
    }
   },
   "outputs": [],
   "source": [
    "def power_iter(a, vec, eps=1e-3, maxiter=1000):\n",
    "    \"\"\"Реализует алгоритм степенной итерации поиска максимального собственного значения матрицы `a` \n",
    "        с начальным приближением собственного вектора vec.\n",
    "    \n",
    "    Parameters\n",
    "    ----------\n",
    "    a : array-like of floats, shape (n, n)\n",
    "        Введённая матрица\n",
    "    vec : array-like of floats, shape (n,)\n",
    "        Введённое начальное приближение собственного вектора\n",
    "    eps : float\n",
    "        Введённая абсолютная точность\n",
    "    maxiter : integer\n",
    "        Максимальное количество итераций\n",
    "    \n",
    "    Returns\n",
    "    -------\n",
    "    lm : float\n",
    "        Приближение максимального собственного значения\n",
    "    outvec : array of floats, shape (n,)\n",
    "        Приближение собственного вектора\n",
    "    iters : integer\n",
    "        Количество итераций\n",
    "    \"\"\"\n",
    "    a = np.asarray(a, dtype=float)\n",
    "    if a.ndim != 2:\n",
    "        raise ValueError(\"a.ndim = %s, expected 2\" % a.ndim)\n",
    "    \n",
    "    vec = np.asarray(vec, dtype=float)\n",
    "    if vec.ndim != 1:\n",
    "        raise ValueError(\"vec.ndim = %s, expected 1\" % vec.ndim)\n",
    "        \n",
    "    if (a.shape[0] != a.shape[1]):\n",
    "        raise ValueError(\"a is not square\")\n",
    "        \n",
    "    if (a.shape[0] != vec.shape[0]):\n",
    "        raise ValueError(\"vec should be of length %s\" % a.shape[0])\n",
    "    outvec = np.copy(vec)\n",
    "    outvec = outvec.reshape(len(outvec), 1)\n",
    "    iters = 0\n",
    "    lm = 0\n",
    "    err = 2 * eps\n",
    "    while(iters < maxiter and err > 0.1*eps):\n",
    "      y = a @ outvec\n",
    "      lm = sum(outvec * y)\n",
    "      err = np.linalg.norm(y - lm * outvec)/np.linalg.norm(outvec)\n",
    "      outvec = y / np.linalg.norm(y)\n",
    "      iters += 1\n",
    "    return lm, outvec, iters"
   ]
  },
  {
   "cell_type": "markdown",
   "metadata": {
    "deletable": false,
    "editable": false,
    "id": "lWUzQKAbSqg-",
    "nbgrader": {
     "checksum": "794418380c0633f7d05918214a63a46d",
     "grade": false,
     "grade_id": "cell-16650a49b51bde96",
     "locked": true,
     "schema_version": 3,
     "solution": false,
     "task": false
    }
   },
   "source": [
    "Протестируйте свою функцию на следующих примерах:"
   ]
  },
  {
   "cell_type": "code",
   "execution_count": 4,
   "metadata": {
    "deletable": false,
    "editable": false,
    "id": "Tdg3oY8wSqg_",
    "nbgrader": {
     "checksum": "9e86359b74379b404d33edcaa13736b7",
     "grade": true,
     "grade_id": "cell-d67c4ed20e0cc45a",
     "locked": true,
     "points": 4,
     "schema_version": 3,
     "solution": false,
     "task": false
    }
   },
   "outputs": [],
   "source": [
    "A = np.asarray([[4, 34],[7, 1]])\n",
    "\n",
    "np.random.seed(123)\n",
    "x = np.random.random(size=2)\n",
    "\n",
    "l, e, k = power_iter(A, x)\n",
    "assert_allclose(A @ e, l * e, atol=1e-3)\n",
    "\n",
    "l, e, k = power_iter(A, x, 1e-5)\n",
    "assert_allclose(A @ e, l * e, atol=1e-5)\n"
   ]
  },
  {
   "cell_type": "markdown",
   "metadata": {
    "deletable": false,
    "editable": false,
    "id": "0-vFKHZOSqg_",
    "nbgrader": {
     "checksum": "09dd6054c925c2448cbdfb2a00952c31",
     "grade": false,
     "grade_id": "cell-0aea0e46b416169e",
     "locked": true,
     "schema_version": 3,
     "solution": false,
     "task": false
    }
   },
   "source": [
    "# 2. Обратная итерация\n",
    "\n",
    "Этот метод может использоваться, например, для поиска собственных векторов матрицы, если уже имеется достаточно хорошее приближение её максимального собственного значения.\n",
    "\n",
    "Для реализации алгоритма необходимо задать начальные приближения для собственного вектора $x_0$ и собственного значения $\\mu$.\n",
    "\n",
    "На каждой итерации метода решается система уравнений:\n",
    "$$(A - \\lambda^{(k)} I) y_{k+1} = x_k,$$\n",
    "приэтом $\\lambda^{(0)} = \\mu$. После этого за новое приближение собственного вектора принимается нормированный вектор $y_{k+1}$:\n",
    "$$x_{k+1} = \\cfrac{y_{k+1}}{||y_{k+1}||}.$$"
   ]
  },
  {
   "cell_type": "code",
   "execution_count": 5,
   "metadata": {
    "deletable": false,
    "id": "sbOojNkRSqhA",
    "nbgrader": {
     "checksum": "f9b46113b4ae028819eaf69072b54de2",
     "grade": false,
     "grade_id": "cell-f3b15fcf5f5b9c62",
     "locked": false,
     "schema_version": 3,
     "solution": true,
     "task": false
    }
   },
   "outputs": [],
   "source": [
    "def inverse_iter(a, vec, mu, eps=1e-3, maxiter=1000):\n",
    "    \"\"\"Реализует алгоритм степенной итерации поиска максимального собственного значения матрицы a \n",
    "        с начальным приближением собственного вектора vec и начальным приближением собственного значения mu\n",
    "    \n",
    "    Parameters\n",
    "    ----------\n",
    "    a : array-like of floats, shape (n, n)\n",
    "        Введённая матрица\n",
    "    vec : array-like of floats, shape (n,)\n",
    "        Введённое начальное приближение собственного вектора\n",
    "    mu : float\n",
    "        Введённое начальное приближение собственного значения\n",
    "    eps : float\n",
    "        Введённая точность \n",
    "    maxiter : integer\n",
    "        Максимальное количество итераций\n",
    "    \n",
    "    Returns\n",
    "    -------\n",
    "    lm : float\n",
    "        Приближение максимального собственного значения\n",
    "    outvec : array of floats, shape (n,)\n",
    "        Приближение собственного вектора\n",
    "    iters : integer\n",
    "        Количество итераций\n",
    "    \"\"\"\n",
    "    a = np.asarray(a, dtype=float)\n",
    "    if a.ndim != 2:\n",
    "        raise ValueError(\"a.ndim = %s, expected 2\" % a.ndim)\n",
    "    \n",
    "    vec = np.asarray(vec, dtype=float)\n",
    "    if vec.ndim != 1:\n",
    "        raise ValueError(\"vec.ndim = %s, expected 1\" % vec.ndim)\n",
    "        \n",
    "    if (a.shape[0] != a.shape[1]):\n",
    "        raise ValueError(\"a is not square\")\n",
    "        \n",
    "    if (a.shape[0] != vec.shape[0]):\n",
    "        raise ValueError(\"vec should be of length %s\" % a.shape[0])\n",
    "    \n",
    "    outvec = np.copy(vec)\n",
    "    outvec = outvec.reshape(len(outvec), 1)\n",
    "    iters = 0\n",
    "    lm = mu\n",
    "    err = 2 * eps\n",
    "    while(iters < maxiter and err > 0.1*eps):\n",
    "      if np.linalg.det(a - lm * np.eye(len(vec))) == 0:\n",
    "        return lm, outvec, iters\n",
    "      y = np.linalg.solve(a - lm * np.eye(len(vec)), outvec)\n",
    "      y = y / np.linalg.norm(y)\n",
    "      err = np.linalg.norm(y - outvec)/np.linalg.norm(outvec)\n",
    "      outvec = y\n",
    "      lm = sum(outvec * (a @ outvec))\n",
    "      iters += 1\n",
    "    return lm, outvec, iters"
   ]
  },
  {
   "cell_type": "markdown",
   "metadata": {
    "deletable": false,
    "editable": false,
    "id": "BdErsHOaSqhA",
    "nbgrader": {
     "checksum": "a6ddbeaa68cf7507ded8c69c800b2232",
     "grade": false,
     "grade_id": "cell-dbefba66b5327bd6",
     "locked": true,
     "schema_version": 3,
     "solution": false,
     "task": false
    }
   },
   "source": [
    "Протестируйте свою функцию на следующих примерах:"
   ]
  },
  {
   "cell_type": "code",
   "execution_count": 6,
   "metadata": {
    "deletable": false,
    "editable": false,
    "id": "fU5q8NqoSqhB",
    "nbgrader": {
     "checksum": "320a824265ae0f53894c0dbb79395c4c",
     "grade": true,
     "grade_id": "cell-014b5a8fe53ecfdf",
     "locked": true,
     "points": 3,
     "schema_version": 3,
     "solution": false,
     "task": false
    }
   },
   "outputs": [],
   "source": [
    "A = np.asarray([[4, 34],\n",
    "                [7, 1]])\n",
    "x = np.random.random(size=2)\n",
    "\n",
    "l, e, k = inverse_iter(A, x, 1.)\n",
    "assert_allclose(A @ e, l * e, atol=1e-3)\n",
    "\n",
    "l, e, k = inverse_iter(A, x, 100.)\n",
    "assert_allclose(A @ e, l * e, atol=1e-3)\n"
   ]
  },
  {
   "cell_type": "markdown",
   "metadata": {
    "deletable": false,
    "editable": false,
    "id": "_pYbhxAOSqhB",
    "nbgrader": {
     "checksum": "fcbbe61b5efabaf37f9d11b68774e4c1",
     "grade": false,
     "grade_id": "cell-30adf2c9ac9e0774",
     "locked": true,
     "schema_version": 3,
     "solution": false,
     "task": false
    }
   },
   "source": [
    "## Пример\n",
    "\n",
    "Рассмотрите матрицу \n",
    "$$ A = \n",
    "\\begin{bmatrix}\n",
    "3 & 1 & 0 & 0\\\\ \n",
    "1 & 2 & 0 & 1\\\\ \n",
    "0 & 0 & 1 & 1\\\\ \n",
    "0 & 1 & 1 & 1\n",
    "\\end{bmatrix}.$$"
   ]
  },
  {
   "cell_type": "code",
   "execution_count": 7,
   "metadata": {
    "deletable": false,
    "id": "MnCOR3UISqhC",
    "nbgrader": {
     "checksum": "1e5cc87b75e98cb63efc0bd0e5d4419d",
     "grade": false,
     "grade_id": "cell-3fb3b96b54cbb97d",
     "locked": false,
     "schema_version": 3,
     "solution": true,
     "task": false
    }
   },
   "outputs": [],
   "source": [
    "# Определите матрицу `А` и задайте начальное приближение для собственного вектора\n",
    "# (используйте случайный начальный вектор)\n",
    "\n",
    "def A_and_x(seed=1234):\n",
    "    \"\"\"Возвращает матрицу `А` и случайный начальный вектор.\"\"\"\n",
    "    A = np.array([[3, 1, 0, 0], [1, 2, 0, 1], [0, 0, 1, 1], [0, 1, 1, 1]])\n",
    "    np.random.seed(seed)\n",
    "    x = np.random.rand(4)\n",
    "    return A, x"
   ]
  },
  {
   "cell_type": "markdown",
   "metadata": {
    "deletable": false,
    "editable": false,
    "id": "bbWE4aPFSqhC",
    "nbgrader": {
     "checksum": "41e2028e64f76fb8ad699f4b111affbf",
     "grade": false,
     "grade_id": "cell-8070e62614ed1872",
     "locked": true,
     "schema_version": 3,
     "solution": false,
     "task": false
    }
   },
   "source": [
    "Найдите максимальное собственное число этой матрицы тремя разными методами."
   ]
  },
  {
   "cell_type": "markdown",
   "metadata": {
    "deletable": false,
    "editable": false,
    "id": "p7PDwtuzSqhD",
    "nbgrader": {
     "checksum": "cb1678cca632bff7bce255e85732a975",
     "grade": false,
     "grade_id": "cell-81756f5999707654",
     "locked": true,
     "schema_version": 3,
     "solution": false,
     "task": false
    }
   },
   "source": [
    "### 1) Степенная итерация"
   ]
  },
  {
   "cell_type": "code",
   "execution_count": 8,
   "metadata": {
    "deletable": false,
    "editable": false,
    "id": "YRxqu9HWSqhD",
    "nbgrader": {
     "checksum": "22e2c92361a75f8b76b9d8a0441f19dd",
     "grade": true,
     "grade_id": "cell-a48d281064127067",
     "locked": true,
     "points": 1,
     "schema_version": 3,
     "solution": false,
     "task": false
    }
   },
   "outputs": [],
   "source": [
    "A, x = A_and_x()\n",
    "\n",
    "l, e, k = power_iter(A, x)\n",
    "assert_allclose(A @ e, l * e, atol=1.6e-2)\n"
   ]
  },
  {
   "cell_type": "markdown",
   "metadata": {
    "id": "FAG9eizSSqhE"
   },
   "source": [
    "### 2) Обратная итерация с $\\mu = 3.5$"
   ]
  },
  {
   "cell_type": "code",
   "execution_count": 9,
   "metadata": {
    "deletable": false,
    "editable": false,
    "id": "PV9aNaMESqhE",
    "nbgrader": {
     "checksum": "56ac5b858a8eb36d7620d5c82bb462b5",
     "grade": true,
     "grade_id": "cell-80ce0d792279ba41",
     "locked": true,
     "points": 1,
     "schema_version": 3,
     "solution": false,
     "task": false
    }
   },
   "outputs": [],
   "source": [
    "A, x = A_and_x()\n",
    "\n",
    "l, e, k = inverse_iter(A, x, 3.5)\n",
    "assert_allclose(A @ e, l * e, atol=1e-3)\n"
   ]
  },
  {
   "cell_type": "markdown",
   "metadata": {
    "deletable": false,
    "editable": false,
    "id": "DSZd2EZOSqhE",
    "nbgrader": {
     "checksum": "6fa73bf60139a3b567f231dcfacee482",
     "grade": false,
     "grade_id": "cell-8e66d533134b1c8a",
     "locked": true,
     "schema_version": 3,
     "solution": false,
     "task": false
    }
   },
   "source": [
    "### 3) Обратная итерация с $\\mu = 3.7$"
   ]
  },
  {
   "cell_type": "code",
   "execution_count": 10,
   "metadata": {
    "deletable": false,
    "editable": false,
    "id": "5nD8XzlmSqhF",
    "nbgrader": {
     "checksum": "58d5f06ae8cda2aa8a201afe5f6aa037",
     "grade": true,
     "grade_id": "cell-9fdc8e167e855b76",
     "locked": true,
     "points": 1,
     "schema_version": 3,
     "solution": false,
     "task": false
    }
   },
   "outputs": [],
   "source": [
    "A, x = A_and_x()\n",
    "\n",
    "l, e, k = inverse_iter(A, x, 3.7)\n",
    "assert_allclose(A @ e, l * e, atol=1e-3)\n"
   ]
  },
  {
   "cell_type": "markdown",
   "metadata": {
    "deletable": false,
    "editable": false,
    "id": "JSrGmzv0SqhF",
    "nbgrader": {
     "checksum": "78fe511364d7cc76fd2f4df9f3a3a926",
     "grade": false,
     "grade_id": "cell-5a89eda9d7deabf3",
     "locked": true,
     "points": 5,
     "schema_version": 3,
     "solution": false,
     "task": true
    }
   },
   "source": [
    "Сколько шагов $k$ требуется в каждом случае для того, чтобы получить настоящий собственный вектор $x^*$ с точностью $||x^* - x_k||_2 < 10^{-3}$?"
   ]
  },
  {
   "cell_type": "code",
   "execution_count": 11,
   "metadata": {
    "colab": {
     "base_uri": "https://localhost:8080/"
    },
    "deletable": false,
    "editable": false,
    "id": "IJaDXvyuV_h4",
    "nbgrader": {
     "checksum": "22e2c92361a75f8b76b9d8a0441f19dd",
     "grade": true,
     "grade_id": "cell-a48d281064127067",
     "locked": true,
     "points": 1,
     "schema_version": 3,
     "solution": false,
     "task": false
    },
    "outputId": "f0cb0868-c986-4eb7-f6d5-289f64ab7af7"
   },
   "outputs": [
    {
     "name": "stdout",
     "output_type": "stream",
     "text": [
      "22\n"
     ]
    }
   ],
   "source": [
    "A, x = A_and_x()\n",
    "\n",
    "print(power_iter(A, x)[2])\n"
   ]
  },
  {
   "cell_type": "markdown",
   "metadata": {
    "id": "Hvze4XXgV_iE"
   },
   "source": [
    "### 2) Обратная итерация с $\\mu = 3.5$"
   ]
  },
  {
   "cell_type": "code",
   "execution_count": 12,
   "metadata": {
    "colab": {
     "base_uri": "https://localhost:8080/"
    },
    "deletable": false,
    "editable": false,
    "id": "EJ-i-fjoV_iF",
    "nbgrader": {
     "checksum": "56ac5b858a8eb36d7620d5c82bb462b5",
     "grade": true,
     "grade_id": "cell-80ce0d792279ba41",
     "locked": true,
     "points": 1,
     "schema_version": 3,
     "solution": false,
     "task": false
    },
    "outputId": "bc4dae9a-0eb4-401e-d053-f6b1713864e2"
   },
   "outputs": [
    {
     "name": "stdout",
     "output_type": "stream",
     "text": [
      "4\n"
     ]
    }
   ],
   "source": [
    "A, x = A_and_x()\n",
    "\n",
    "print(inverse_iter(A, x, 3.5)[2])\n"
   ]
  },
  {
   "cell_type": "markdown",
   "metadata": {
    "deletable": false,
    "editable": false,
    "id": "JVXCs74RV_iF",
    "nbgrader": {
     "checksum": "6fa73bf60139a3b567f231dcfacee482",
     "grade": false,
     "grade_id": "cell-8e66d533134b1c8a",
     "locked": true,
     "schema_version": 3,
     "solution": false,
     "task": false
    }
   },
   "source": [
    "### 3) Обратная итерация с $\\mu = 3.7$"
   ]
  },
  {
   "cell_type": "code",
   "execution_count": 13,
   "metadata": {
    "colab": {
     "base_uri": "https://localhost:8080/"
    },
    "deletable": false,
    "editable": false,
    "id": "DqFqusVBV_iG",
    "nbgrader": {
     "checksum": "58d5f06ae8cda2aa8a201afe5f6aa037",
     "grade": true,
     "grade_id": "cell-9fdc8e167e855b76",
     "locked": true,
     "points": 1,
     "schema_version": 3,
     "solution": false,
     "task": false
    },
    "outputId": "a2fec1df-ceb1-4af1-d9fb-31240b7b4c45"
   },
   "outputs": [
    {
     "name": "stdout",
     "output_type": "stream",
     "text": [
      "3\n"
     ]
    }
   ],
   "source": [
    "A, x = A_and_x()\n",
    "\n",
    "print(inverse_iter(A, x, 3.7)[2])\n"
   ]
  }
 ],
 "metadata": {
  "celltoolbar": "Create Assignment",
  "colab": {
   "collapsed_sections": [],
   "name": "eigenvalues_sabarinova",
   "provenance": []
  },
  "kernelspec": {
   "display_name": "Python 3",
   "language": "python",
   "name": "python3"
  },
  "language_info": {
   "codemirror_mode": {
    "name": "ipython",
    "version": 3
   },
   "file_extension": ".py",
   "mimetype": "text/x-python",
   "name": "python",
   "nbconvert_exporter": "python",
   "pygments_lexer": "ipython3",
   "version": "3.7.6"
  }
 },
 "nbformat": 4,
 "nbformat_minor": 1
}
