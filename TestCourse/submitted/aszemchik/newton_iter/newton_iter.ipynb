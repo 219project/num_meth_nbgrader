{
 "cells": [
  {
   "cell_type": "markdown",
   "metadata": {},
   "source": [
    "Before you turn this problem in, make sure everything runs as expected. First, **restart the kernel** (in the menubar, select Kernel$\\rightarrow$Restart) and then **run all cells** (in the menubar, select Cell$\\rightarrow$Run All).\n",
    "\n",
    "Make sure you fill in any place that says `YOUR CODE HERE` or \"YOUR ANSWER HERE\", as well as your name and collaborators below:"
   ]
  },
  {
   "cell_type": "code",
   "execution_count": 1,
   "metadata": {},
   "outputs": [],
   "source": [
    "NAME = \"Arina Zemchyk\"\n",
    "COLLABORATORS = \"BAM 185\""
   ]
  },
  {
   "cell_type": "markdown",
   "metadata": {},
   "source": [
    "---"
   ]
  },
  {
   "cell_type": "code",
   "execution_count": 2,
   "metadata": {
    "deletable": false,
    "editable": false,
    "nbgrader": {
     "cell_type": "code",
     "checksum": "faffb78b7d48e753358e7f2b080e58e1",
     "grade": false,
     "grade_id": "cell-d238cbae9896563e",
     "locked": true,
     "schema_version": 3,
     "solution": false,
     "task": false
    }
   },
   "outputs": [],
   "source": [
    "import matplotlib.pyplot as plt\n",
    "import numpy as np"
   ]
  },
  {
   "cell_type": "markdown",
   "metadata": {
    "deletable": false,
    "editable": false,
    "nbgrader": {
     "cell_type": "markdown",
     "checksum": "87e98d582358e0470c1593a461300f5f",
     "grade": false,
     "grade_id": "cell-e24f93d1f5c3d8e8",
     "locked": true,
     "schema_version": 3,
     "solution": false,
     "task": false
    }
   },
   "source": [
    "# Часть I. Метод Ньютона нахождения корней уравнения."
   ]
  },
  {
   "cell_type": "markdown",
   "metadata": {
    "deletable": false,
    "editable": false,
    "nbgrader": {
     "cell_type": "markdown",
     "checksum": "461b52f42752997f98438e039802ad00",
     "grade": false,
     "grade_id": "cell-dcdac7e559daf63a",
     "locked": true,
     "schema_version": 3,
     "solution": false,
     "task": false
    }
   },
   "source": [
    "Напишите алгоритм, который выполняет итерации Ньютона для заданной функции $f(x)$ с известной производной $f'(x)$. Ваша функция должна находить корни $f(x)$ с заданной точностью $\\epsilon$."
   ]
  },
  {
   "cell_type": "code",
   "execution_count": 3,
   "metadata": {
    "deletable": false,
    "nbgrader": {
     "cell_type": "code",
     "checksum": "e97b768e6a3dc7e5496abd0004b542aa",
     "grade": false,
     "grade_id": "cell-e47469fedb8cc24a",
     "locked": false,
     "schema_version": 3,
     "solution": true,
     "task": false
    }
   },
   "outputs": [],
   "source": [
    "def newton_iteration(f, fder, x0, eps=1e-5, maxiter=100):\n",
    "    \"\"\"Нахождение корней $f(x) = 0$ через итерации Ньютона.\n",
    "    \n",
    "    Parameters\n",
    "    ----------\n",
    "    f : callable\n",
    "        Функция, корни которой мы хотим найти.\n",
    "    fder : callable\n",
    "        Производная `f`.\n",
    "    x0 : float\n",
    "        Начальное приближение итераций Ньютона.\n",
    "    eps : float\n",
    "        Заданная точность. \n",
    "        Алгоритм прекращает работу когда расстояние между последовательными приближениями меньше `eps`.\n",
    "        По умолчанию 1e-5.\n",
    "    maxiter : int\n",
    "        Максимальное число итераций (по умолчанию 100).\n",
    "        Алгоритм прекращается, когда число итераций достигает `maxiter`.\n",
    "        Этот параметр нужен лишь для предотвращения бесконечного зацикливания.\n",
    "    \n",
    "    Returns\n",
    "    -------\n",
    "    x : float\n",
    "        Найденное приближение к корню.\n",
    "    niter : int\n",
    "        Количество итераций.\n",
    "    \"\"\"\n",
    "    niter = 0\n",
    "    x = x0\n",
    "    for i in range(maxiter):\n",
    "        x_new = x - f(x)/fder(x)\n",
    "        niter += 1\n",
    "        if abs(x - x_new) <= eps:\n",
    "            break\n",
    "        x = x_new\n",
    "    return x, niter"
   ]
  },
  {
   "cell_type": "code",
   "execution_count": 4,
   "metadata": {
    "deletable": false,
    "editable": false,
    "nbgrader": {
     "cell_type": "code",
     "checksum": "127b1076061cac3a04850b843b2a45a3",
     "grade": true,
     "grade_id": "cell-0c23dfbb8447f5aa",
     "locked": true,
     "points": 5,
     "schema_version": 3,
     "solution": false,
     "task": false
    }
   },
   "outputs": [],
   "source": [
    "from numpy.testing import assert_allclose\n",
    "\n",
    "xx, nit = newton_iteration(lambda x: x**2 - 1, lambda x: 2.*x, x0=4)\n",
    "assert_allclose(xx, 1.0, atol=1e-5)\n",
    "assert nit < 10\n",
    "\n",
    "xx, nit = newton_iteration(lambda x: x**2 - 1, lambda x: 2.*x, x0=-4)\n",
    "assert_allclose(xx, -1.0, atol=1e-5)\n",
    "assert nit < 10\n",
    "\n",
    "\n",
    "from math import log, exp\n",
    "\n",
    "xx, nit = newton_iteration(lambda x: exp(x)-2, lambda x: exp(x), x0=4, eps=1e-10)\n",
    "assert_allclose(xx, log(2), atol=1e-10)"
   ]
  },
  {
   "cell_type": "markdown",
   "metadata": {
    "deletable": false,
    "editable": false,
    "nbgrader": {
     "cell_type": "markdown",
     "checksum": "7a6d66171d8f71ad126a9061605b3023",
     "grade": false,
     "grade_id": "cell-5df8b5b63ea89558",
     "locked": true,
     "schema_version": 3,
     "solution": false,
     "task": false
    }
   },
   "source": [
    "Используя функцию `newton_iteration` для функции $f(x) = x^2 - 1$, постройте зависимость логарифма ошибки нахождения корня методом Ньютона от числа итераций. Какова сходимость метода (линейная, квадратичная, иная)?"
   ]
  },
  {
   "cell_type": "markdown",
   "metadata": {
    "deletable": false,
    "editable": false,
    "nbgrader": {
     "cell_type": "markdown",
     "checksum": "a9088ee177b91b07a97306dc0d4100e8",
     "grade": false,
     "grade_id": "cell-d429579b202c13d0",
     "locked": true,
     "points": 5,
     "schema_version": 3,
     "solution": false,
     "task": true
    }
   },
   "source": [
    "### Your code here."
   ]
  },
  {
   "cell_type": "code",
   "execution_count": 5,
   "metadata": {},
   "outputs": [
    {
     "data": {
      "text/plain": [
       "[<matplotlib.lines.Line2D at 0x7fe719f28550>]"
      ]
     },
     "execution_count": 5,
     "metadata": {},
     "output_type": "execute_result"
    },
    {
     "data": {
      "image/png": "[encoded data removed]",
      "text/plain": [
       "<Figure size 432x288 with 1 Axes>"
      ]
     },
     "metadata": {
      "needs_background": "light"
     },
     "output_type": "display_data"
    }
   ],
   "source": [
    "import numpy as np\n",
    "max_nim_of_iter = 10\n",
    "err_log = np.ones(max_nim_of_iter)\n",
    "for i in range(max_nim_of_iter):\n",
    "    result, nit = newton_iteration(lambda x: exp(x)-2, lambda x: exp(x), x0=4, eps=1e-10, maxiter = i)\n",
    "    err_log[i] = np.log(abs(xx - result) + 1e-10)\n",
    "plt.plot(err_log, 'o-')\n",
    "# сходимость метода кважратичная"
   ]
  },
  {
   "cell_type": "markdown",
   "metadata": {
    "deletable": false,
    "editable": false,
    "nbgrader": {
     "cell_type": "markdown",
     "checksum": "c4d8c23c1ec39e503217971bf3f2a5e8",
     "grade": false,
     "grade_id": "cell-f588bf8c5619986c",
     "locked": true,
     "schema_version": 3,
     "solution": false,
     "task": false
    }
   },
   "source": [
    "# Часть II. Модифицированный метод Ньютона для кратных корней.\n",
    "\n",
    "Рассмотрим функцию, имеющую кратный корень (например, $f(x) = (x^2 - 1)^2$). Реализуйте модифицированную итерацию Ньютона, \n",
    "\n",
    "$$\n",
    "x_{n+1} = x_{n} - m \\frac{f(x_n)}{f'(x_n)}\n",
    "$$"
   ]
  },
  {
   "cell_type": "code",
   "execution_count": 6,
   "metadata": {
    "deletable": false,
    "nbgrader": {
     "cell_type": "code",
     "checksum": "585d03c9ede970d8b84d11324180b5ab",
     "grade": false,
     "grade_id": "cell-2f641d195eae18f0",
     "locked": false,
     "schema_version": 3,
     "solution": true,
     "task": false
    }
   },
   "outputs": [],
   "source": [
    "def mod_newton(f, fder, x0, m, eps=1e-5, maxiter=100):\n",
    "    \"\"\"Нахождение корней $f(x) = 0$ через итерации Ньютона.\n",
    "    \n",
    "    Parameters\n",
    "    ----------\n",
    "    f : callable\n",
    "        Функция, корни которой мы хотим найти.\n",
    "    fder : callable\n",
    "        Производная `f`.\n",
    "    x0 : float\n",
    "        Начальное приближение итераций Ньютона.\n",
    "    eps : float\n",
    "        Заданная точность. \n",
    "        Алгоритм прекращает работу когда расстояние между последовательными приближениями меньше `eps`.\n",
    "        По умолчанию 1e-5.\n",
    "    maxiter : int\n",
    "        Максимальное число итераций (по умолчанию 100).\n",
    "        Алгоритм прекращается, когда число итераций достигает `maxiter`.\n",
    "        Этот параметр нужен лишь для преcдотвращения бесконечного зацикливания.\n",
    "    \n",
    "    Returns\n",
    "    -------\n",
    "    x : float\n",
    "        Найденное приближение к корню.\n",
    "    niter : int\n",
    "        Количество итераций.\n",
    "    \"\"\"\n",
    "    niter = 0\n",
    "    x = x0\n",
    "    for i in range(maxiter):\n",
    "        x_new = x - m*f(x)/fder(x)\n",
    "        niter += 1\n",
    "        if abs(x - x_new) <= eps:\n",
    "            break\n",
    "        x = x_new\n",
    "    return x, niter"
   ]
  },
  {
   "cell_type": "code",
   "execution_count": 7,
   "metadata": {
    "deletable": false,
    "editable": false,
    "nbgrader": {
     "cell_type": "code",
     "checksum": "60aa61993eb13e346d46721bf2f4e0db",
     "grade": true,
     "grade_id": "cell-d2c8d42721e39f15",
     "locked": true,
     "points": 5,
     "schema_version": 3,
     "solution": false,
     "task": false
    }
   },
   "outputs": [],
   "source": [
    "for m in [1, 2, 3, 4, 5, 6]:\n",
    "    xx, nit = mod_newton(lambda x: (x**2 - 1)**4,\n",
    "                         lambda x: 4*(x**2 - 1)**3 * 2 * x,\n",
    "                         x0=2, m=m, maxiter=10000, eps=1e-9)\n",
    "    assert_allclose(xx, 1.0, atol=1e-8)\n",
    "    "
   ]
  },
  {
   "cell_type": "markdown",
   "metadata": {
    "deletable": false,
    "editable": false,
    "nbgrader": {
     "cell_type": "markdown",
     "checksum": "e23163e7ecd9cd6453bcc7f992765a8c",
     "grade": false,
     "grade_id": "cell-6cfe913974c653c8",
     "locked": true,
     "schema_version": 3,
     "solution": false,
     "task": false
    }
   },
   "source": [
    "Используйте модифицированную итерацию Ньютона для функции $f(x) = (x^2 - 1)^2$ со значениями  $m= 1, 2, 3, 4, 5, 6$. Сколько итераций требуется для достижения сходимости с фиксированным значением $\\epsilon$? Согласуются ли ваши наблюдения с предсказанием о квадратичной сходимости метода при значении $m$ равном кратности корня, и линейной сходимости для остальных значений $m$?"
   ]
  },
  {
   "cell_type": "markdown",
   "metadata": {
    "deletable": false,
    "editable": false,
    "nbgrader": {
     "cell_type": "markdown",
     "checksum": "325f9fbffa5acefb7e01e03356c1d72a",
     "grade": false,
     "grade_id": "cell-8e82e12fb5659e3b",
     "locked": true,
     "points": 5,
     "schema_version": 3,
     "solution": false,
     "task": true
    }
   },
   "source": [
    "### Your code here."
   ]
  },
  {
   "cell_type": "code",
   "execution_count": 8,
   "metadata": {},
   "outputs": [
    {
     "name": "stdout",
     "output_type": "stream",
     "text": [
      "1\n"
     ]
    },
    {
     "data": {
      "image/png": "[encoded data removed]",
      "text/plain": [
       "<Figure size 432x288 with 1 Axes>"
      ]
     },
     "metadata": {
      "needs_background": "light"
     },
     "output_type": "display_data"
    },
    {
     "name": "stdout",
     "output_type": "stream",
     "text": [
      "2\n"
     ]
    },
    {
     "data": {
      "image/png": "[encoded data removed]",
      "text/plain": [
       "<Figure size 432x288 with 1 Axes>"
      ]
     },
     "metadata": {
      "needs_background": "light"
     },
     "output_type": "display_data"
    },
    {
     "name": "stdout",
     "output_type": "stream",
     "text": [
      "3\n"
     ]
    },
    {
     "data": {
      "image/png": "[encoded data removed]",
      "text/plain": [
       "<Figure size 432x288 with 1 Axes>"
      ]
     },
     "metadata": {
      "needs_background": "light"
     },
     "output_type": "display_data"
    },
    {
     "name": "stdout",
     "output_type": "stream",
     "text": [
      "4\n"
     ]
    },
    {
     "data": {
      "image/png": "[encoded data removed]",
      "text/plain": [
       "<Figure size 432x288 with 1 Axes>"
      ]
     },
     "metadata": {
      "needs_background": "light"
     },
     "output_type": "display_data"
    },
    {
     "name": "stdout",
     "output_type": "stream",
     "text": [
      "5\n"
     ]
    },
    {
     "data": {
      "image/png": "[encoded data removed]",
      "text/plain": [
       "<Figure size 432x288 with 1 Axes>"
      ]
     },
     "metadata": {
      "needs_background": "light"
     },
     "output_type": "display_data"
    },
    {
     "name": "stdout",
     "output_type": "stream",
     "text": [
      "6\n"
     ]
    },
    {
     "data": {
      "image/png": "[encoded data removed]",
      "text/plain": [
       "<Figure size 432x288 with 1 Axes>"
      ]
     },
     "metadata": {
      "needs_background": "light"
     },
     "output_type": "display_data"
    },
    {
     "data": {
      "text/plain": [
       "[<matplotlib.lines.Line2D at 0x7fe71a9dc990>]"
      ]
     },
     "execution_count": 8,
     "metadata": {},
     "output_type": "execute_result"
    },
    {
     "data": {
      "image/png": "[encoded data removed]",
      "text/plain": [
       "<Figure size 432x288 with 1 Axes>"
      ]
     },
     "metadata": {
      "needs_background": "light"
     },
     "output_type": "display_data"
    }
   ],
   "source": [
    "m_list = [1, 2, 3, 4, 5, 6]\n",
    "num_of_it = []\n",
    "for m in range(1, 7):\n",
    "    xx, nit = mod_newton(lambda x: (x**2 - 1)**4,\n",
    "                         lambda x: 4*(x**2 - 1)**3 * 2 * x,\n",
    "                         x0=2, m=m, eps=1e-9, maxiter=10000)\n",
    "    num_of_it.append(nit)\n",
    "    max_nim_of_iter_quadr = 10\n",
    "    err = np.ones(max_nim_of_iter_quadr)\n",
    "    for i in range(max_nim_of_iter_quadr):\n",
    "        result, nit_m = mod_newton(lambda x: (x**2 - 1)**4,\n",
    "                         lambda x: 4*(x**2 - 1)**3 * 2 * x,\n",
    "                         x0=2, m=m, eps=1e-9,maxiter=max_nim_of_iter_quadr)\n",
    "        err[i] = abs(xx - result)\n",
    "    print(m)\n",
    "    plt.plot(err, 'o-')\n",
    "    plt.show()\n",
    "plt.plot(m_list, num_of_it)\n",
    "#Не согласуется"
   ]
  },
  {
   "cell_type": "markdown",
   "metadata": {
    "deletable": false,
    "editable": false,
    "nbgrader": {
     "cell_type": "markdown",
     "checksum": "02628d52dcb8ef3318c72184cbba297e",
     "grade": false,
     "grade_id": "cell-afcddb4086fe5494",
     "locked": true,
     "schema_version": 3,
     "solution": false,
     "task": false
    }
   },
   "source": [
    "# Часть III. Метод Ньютона для системы нелинейных уравнений."
   ]
  },
  {
   "cell_type": "markdown",
   "metadata": {
    "deletable": false,
    "editable": false,
    "nbgrader": {
     "cell_type": "markdown",
     "checksum": "e4f5f4089635cba3d6d371acc61386ac",
     "grade": false,
     "grade_id": "cell-43a22a68039359f3",
     "locked": true,
     "schema_version": 3,
     "solution": false,
     "task": false
    }
   },
   "source": [
    "Напишите алгоритм, который выполняет итерации Ньютона для заданной системы нелинейных уравнений $\\vec{f}(x) = 0$ с известной матрицей Якоби $J(x)$. Ваша функция должна находить корни вектор-функции $\\vec{f}(x)$ с заданной точностью $\\epsilon$."
   ]
  },
  {
   "cell_type": "code",
   "execution_count": 9,
   "metadata": {
    "deletable": false,
    "nbgrader": {
     "cell_type": "code",
     "checksum": "a88f3498536fb36e1ad57b3e077e803f",
     "grade": false,
     "grade_id": "cell-4580b8353412b2d3",
     "locked": false,
     "schema_version": 3,
     "solution": true,
     "task": false
    }
   },
   "outputs": [],
   "source": [
    "def newton_system(F, jcb, X0, eps=1e-5, maxiter=100):\n",
    "    \"\"\"Нахождение корней $f(x) = 0$ через итерации Ньютона.\n",
    "    \n",
    "    Parameters\n",
    "    ----------\n",
    "    F : callable\n",
    "        Вектор-функция системы, которую мы хотим решить.\n",
    "    jcb : callable\n",
    "        Производная `f`.\n",
    "    X0 : array-like of floats, shape (n,)\n",
    "        Начальное приближение итераций Ньютона.\n",
    "    eps : float\n",
    "        Заданная точность. \n",
    "        Алгоритм прекращает работу когда расстояние между последовательными приближениями меньше `eps`.\n",
    "        По умолчанию 1e-5.\n",
    "    maxiter : int\n",
    "        Максимальное число итераций (по умолчанию 100).\n",
    "        Алгоритм прекращается, когда число итераций достигает `maxiter`.\n",
    "        Этот параметр нужен лишь для предотвращения бесконечного зацикливания.\n",
    "    \n",
    "    Returns\n",
    "    -------\n",
    "    X : array-like of floats, shape (n,)\n",
    "        Найденное приближение к корню.\n",
    "    niter : int\n",
    "        Количество итераций.\n",
    "    \"\"\"\n",
    "    niter = 0\n",
    "    X = np.copy(X0)\n",
    "    for i in range(maxiter):\n",
    "        d_X = np.linalg.solve(jcb(X), -F(X))\n",
    "        X_new = X + d_X\n",
    "        if np.linalg.norm(X - X_new) <= eps:\n",
    "            niter = i+1\n",
    "            break\n",
    "        X = X_new\n",
    "    return X, niter"
   ]
  },
  {
   "cell_type": "code",
   "execution_count": 10,
   "metadata": {
    "deletable": false,
    "editable": false,
    "nbgrader": {
     "cell_type": "code",
     "checksum": "e3dcbf89cb6e2b45fa7b1736e185ec03",
     "grade": true,
     "grade_id": "cell-32a522217549fd0c",
     "locked": true,
     "points": 5,
     "schema_version": 3,
     "solution": false,
     "task": false
    }
   },
   "outputs": [],
   "source": [
    "from numpy.testing import assert_allclose\n",
    "\n",
    "def func(X):\n",
    "    return np.array([X[0]**2 - 2*X[1]**4 + 1, X[0] - X[1]**3 + 1])\n",
    "\n",
    "def jac(X):\n",
    "    return np.array([[2.*X[0], -8.*X[1]**3],\n",
    "                       [1., -3.*X[1]**2]])\n",
    "\n",
    "xx, nit = newton_system(func, jac, np.array([3., 2.]))\n",
    "assert_allclose(xx, np.array([4.02879487, 1.71325223]), atol=1e-5)\n",
    "assert nit < 10\n",
    "\n",
    "xx, nit = newton_system(func, jac, np.asarray([1., 2.]))\n",
    "assert_allclose(xx, np.asarray([-0.35119943,  0.86570596]), atol=1e-5)\n",
    "assert nit < 10\n",
    "\n"
   ]
  }
 ],
 "metadata": {
  "kernelspec": {
   "display_name": "Python 3",
   "language": "python",
   "name": "python3"
  },
  "language_info": {
   "codemirror_mode": {
    "name": "ipython",
    "version": 3
   },
   "file_extension": ".py",
   "mimetype": "text/x-python",
   "name": "python",
   "nbconvert_exporter": "python",
   "pygments_lexer": "ipython3",
   "version": "3.7.6"
  }
 },
 "nbformat": 4,
 "nbformat_minor": 2
}
