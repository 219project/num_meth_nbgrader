{
  "nbformat": 4,
  "nbformat_minor": 0,
  "metadata": {
    "kernelspec": {
      "display_name": "Python 3",
      "language": "python",
      "name": "python3"
    },
    "language_info": {
      "codemirror_mode": {
        "name": "ipython",
        "version": 3
      },
      "file_extension": ".py",
      "mimetype": "text/x-python",
      "name": "python",
      "nbconvert_exporter": "python",
      "pygments_lexer": "ipython3",
      "version": "3.8.5"
    },
    "colab": {
      "name": "LSQ_eamelekhova.ipynb",
      "provenance": []
    }
  },
  "cells": [
    {
      "cell_type": "markdown",
      "metadata": {
        "id": "C8NSkSrK2vA1"
      },
      "source": [
        "Before you turn this problem in, make sure everything runs as expected. First, **restart the kernel** (in the menubar, select Kernel$\\rightarrow$Restart) and then **run all cells** (in the menubar, select Cell$\\rightarrow$Run All).\n",
        "\n",
        "Make sure you fill in any place that says `YOUR CODE HERE` or \"YOUR ANSWER HERE\", as well as your name and collaborators below:"
      ]
    },
    {
      "cell_type": "code",
      "metadata": {
        "id": "bHvwQVC62vA-"
      },
      "source": [
        "NAME = \"Мелехова Екатерина\"\n",
        "COLLABORATORS = \"\""
      ],
      "execution_count": null,
      "outputs": []
    },
    {
      "cell_type": "markdown",
      "metadata": {
        "id": "I_DM2rkC2vA_"
      },
      "source": [
        "---"
      ]
    },
    {
      "cell_type": "markdown",
      "metadata": {
        "deletable": false,
        "editable": false,
        "nbgrader": {
          "cell_type": "markdown",
          "checksum": "9dbd3271243e2215bb9e477aecf95841",
          "grade": false,
          "grade_id": "cell-78f75b2228a73d9d",
          "locked": true,
          "schema_version": 3,
          "solution": false,
          "task": false
        },
        "id": "Mnga9ras2vBA"
      },
      "source": [
        "# Метод наименьших квадратов (линейный случай)."
      ]
    },
    {
      "cell_type": "markdown",
      "metadata": {
        "deletable": false,
        "editable": false,
        "nbgrader": {
          "cell_type": "markdown",
          "checksum": "bbd65e859b22126f4eac181e530c5f38",
          "grade": false,
          "grade_id": "cell-a5dbb9bfecbe8783",
          "locked": true,
          "schema_version": 3,
          "solution": false,
          "task": false
        },
        "id": "ZMj0dCno2vBB"
      },
      "source": [
        "Рассмотрим функцию $y = f(x)$ определенной набором значений $y_0, y_1, \\cdots, y_n$ в точках $x_0, x_1, \\cdots, x_n$."
      ]
    },
    {
      "cell_type": "code",
      "metadata": {
        "deletable": false,
        "editable": false,
        "nbgrader": {
          "cell_type": "code",
          "checksum": "90edf950dece26a9e1e884f4df65c60b",
          "grade": false,
          "grade_id": "cell-f5815a6aff49a678",
          "locked": true,
          "schema_version": 3,
          "solution": false,
          "task": false
        },
        "id": "WBxF3i7_2vBC"
      },
      "source": [
        "import numpy as np\n",
        "\n",
        "x = np.asarray([-1, -0.7, -0.43, -0.14, 0.14, 0.43, 0.71, 1, 1.29, 1.57, 1.86, 2.14, 2.43, 2.71, 3])\n",
        "y = np.asarray([-2.25, -0.77, 0.21, 0.44, 0.64, 0.03, -0.22, -0.84, -1.2, -1.03, -0.37, 0.61, 2.67, 5.04, 8.90])\n",
        "\n",
        "rng = np.random.default_rng(123)\n",
        "x += 0.1 * rng.uniform(size=len(x))\n",
        "y += 4 * rng.uniform(size=len(x))"
      ],
      "execution_count": 1,
      "outputs": []
    },
    {
      "cell_type": "markdown",
      "metadata": {
        "deletable": false,
        "editable": false,
        "nbgrader": {
          "cell_type": "markdown",
          "checksum": "23b766ee3bd39ececc330949a2ba5a56",
          "grade": false,
          "grade_id": "cell-98a91662e46cdd3a",
          "locked": true,
          "schema_version": 3,
          "solution": false,
          "task": false
        },
        "id": "WSJOe8I-2vBD"
      },
      "source": [
        "### I. Найдите многочлен наилучшего приближения,\n",
        "\n",
        "$$\n",
        "P_m(x) = a_0 + a_1 x + \\cdots + a_m x^m\n",
        "$$\n",
        "\n",
        "используя линейный метод наименьших квадратов.Для этого:\n",
        "\n",
        "1. реализуйте алгоритм, создающий  \"design matrix\" `А`, используя $1, x, \\cdots, x^m$ в качестве базисных функций.\n",
        "\n",
        "2. постройте явно нормальную систему уравнений задачи наименьших квадратов при фиксированных значениях $m$.\n",
        "\n",
        "3. решите систему уравнений, чтобы найти коэффициенты $P_m(x)$ для $m = 0, 1, 2, \\dots$. Для решения задач линейной алгебры можете использовать либо библиотечные функции (`numpy.linalg.solve`), либо Вашу реализацию LU - разложение из 1 недели."
      ]
    },
    {
      "cell_type": "code",
      "metadata": {
        "deletable": false,
        "nbgrader": {
          "cell_type": "code",
          "checksum": "d0ca7572ac30f14998ab1c7bfb5ae7e3",
          "grade": false,
          "grade_id": "cell-3c5b770ce3dc9362",
          "locked": false,
          "schema_version": 3,
          "solution": true,
          "task": false
        },
        "id": "N77OhBiu2vBD"
      },
      "source": [
        "import numpy as np\n",
        "\n",
        "def design_matrix(x, m):\n",
        "    \"\"\"Construct the design matrix with monomials x**k for k=0..m-1\"\"\" \n",
        "    A = np.empty((len(x), m), dtype=float)\n",
        "    for k in range(0, m):\n",
        "        A[:, k] = [q**k for q in x]\n",
        "    return A"
      ],
      "execution_count": 4,
      "outputs": []
    },
    {
      "cell_type": "code",
      "metadata": {
        "deletable": false,
        "editable": false,
        "nbgrader": {
          "cell_type": "code",
          "checksum": "42b9fdd5f57a6548469d233cd074bc6b",
          "grade": true,
          "grade_id": "cell-4eb9827586286964",
          "locked": true,
          "points": 1,
          "schema_version": 3,
          "solution": false,
          "task": false
        },
        "id": "uVLQDj1E2vBE"
      },
      "source": [
        "assert design_matrix(x, 3).shape == (len(x), 3)\n",
        "assert design_matrix(x, 11).shape == (len(x), 11)"
      ],
      "execution_count": 5,
      "outputs": []
    },
    {
      "cell_type": "code",
      "metadata": {
        "deletable": false,
        "nbgrader": {
          "cell_type": "code",
          "checksum": "347c6054c37bd35bf1aa00bf2a6da060",
          "grade": false,
          "grade_id": "cell-ec39ee7d9ada0eb5",
          "locked": false,
          "schema_version": 3,
          "solution": true,
          "task": false
        },
        "id": "2FkeI2TX3TTH"
      },
      "source": [
        "def lsq_poly(x, y, m):\n",
        "    \"\"\"Construct the LSQ polynomial of degree `m-1`.\n",
        "    \n",
        "    Parameters\n",
        "    ----------\n",
        "    x : array_like\n",
        "        Sample points\n",
        "    y : array_like\n",
        "        Measured values\n",
        "    m : int\n",
        "        The number of coefficients of the LSQ polynomial\n",
        "        (i.e. the degree of the polynomial is `m-1`)\n",
        "        \n",
        "    Returns\n",
        "    -------\n",
        "    p : callable \n",
        "        np.polynomial.Polynomial instance, representing the LSQ polynomial\n",
        "        \n",
        "    Examples\n",
        "    --------\n",
        "    >>> p = lsq_poly([1, 2, 3], [4, 5, 6], m=2)\n",
        "    >>> p(np.array([1.5, 2.5]))\n",
        "    array([4.5, 5.5])\n",
        "    \n",
        "    \"\"\"\n",
        "    x = np.array(x)\n",
        "    y = np.array(y)\n",
        "    if x.shape[0] != y.shape[0]:\n",
        "        raise ValueError(\"Expect paired data.\")\n",
        "    if x.shape[0] <= m:\n",
        "        raise ValueError(\"Cannot fit a degree-%s polynomial through %s points\" % (m, x.shape[0]))\n",
        "    \n",
        "    A = design_matrix(x, m)\n",
        "    right_part = np.linalg.inv(A.T@A)@A.T\n",
        "    p = np.polynomial.Polynomial(right_part.dot(y))\n",
        "    beta = right_part.dot(y) # решение уравнения\n",
        "    return p  \n",
        "        \n"
      ],
      "execution_count": 6,
      "outputs": []
    },
    {
      "cell_type": "code",
      "metadata": {
        "deletable": false,
        "editable": false,
        "nbgrader": {
          "cell_type": "code",
          "checksum": "e66a1bc43cbdb765cc3459fcfd2210dd",
          "grade": true,
          "grade_id": "cell-c690d81357c56b85",
          "locked": true,
          "points": 3,
          "schema_version": 3,
          "solution": false,
          "task": false
        },
        "id": "ODNXrCr02vBF"
      },
      "source": [
        "import pytest\n",
        "with pytest.raises(ValueError):\n",
        "    lsq_poly([1, 2, 3], [1, 2], m=1)\n",
        "\n",
        "with pytest.raises(ValueError):\n",
        "    lsq_poly([1, 2, 3], [1, 2, 3], m=3)\n",
        "    \n",
        "# test that lsq_poly returns a callable object\n",
        "# which support vectorized evaluation\n",
        "p = lsq_poly(x, y, m=3)\n",
        "assert len(p(x)) == len(x)"
      ],
      "execution_count": 7,
      "outputs": []
    },
    {
      "cell_type": "markdown",
      "metadata": {
        "deletable": false,
        "editable": false,
        "nbgrader": {
          "cell_type": "markdown",
          "checksum": "4b9c19795e46089c0f215625dbc68ca6",
          "grade": false,
          "grade_id": "cell-c65dcec5ea66dc4f",
          "locked": true,
          "schema_version": 3,
          "solution": false,
          "task": false
        },
        "id": "eCeyJm8t2vBG"
      },
      "source": [
        "Вычислите число обусловленности матрицы `A` и матрицы левой части системы нормальных уравнений в зависимости $m$, и напечатайте их на экран.\n",
        "Прокомментируйте полученные результаты."
      ]
    },
    {
      "cell_type": "code",
      "metadata": {
        "deletable": false,
        "nbgrader": {
          "cell_type": "code",
          "checksum": "b556951d4736d703e6e1b4e129e14399",
          "grade": false,
          "grade_id": "cell-ede76d4a7cff87d0",
          "locked": false,
          "schema_version": 3,
          "solution": true,
          "task": false
        },
        "id": "jHkfGsq82vBG",
        "colab": {
          "base_uri": "https://localhost:8080/"
        },
        "outputId": "a727c314-b994-42ec-e774-ac564ef4445c"
      },
      "source": [
        "for m in range(1, 10):\n",
        "    A = design_matrix(x, m)\n",
        "    cond_A = np.linalg.cond(A)\n",
        "    print('A:\\t', cond_A)\n",
        "    cond_A_T_A = np.linalg.cond(A.T @ A)\n",
        "    print('A_T_A:\\t', cond_A_T_A)\n",
        "    print()"
      ],
      "execution_count": 8,
      "outputs": [
        {
          "output_type": "stream",
          "text": [
            "A:\t 1.0\n",
            "A_T_A:\t 1.0\n",
            "\n",
            "A:\t 2.5436796556599037\n",
            "A_T_A:\t 6.470306190618082\n",
            "\n",
            "A:\t 7.974123103608089\n",
            "A_T_A:\t 63.58663927149611\n",
            "\n",
            "A:\t 33.65632525997137\n",
            "A_T_A:\t 1132.7482300049778\n",
            "\n",
            "A:\t 149.21938644682763\n",
            "A_T_A:\t 22266.42529156567\n",
            "\n",
            "A:\t 709.1637406918856\n",
            "A_T_A:\t 502913.21111292107\n",
            "\n",
            "A:\t 3627.8477937658618\n",
            "A_T_A:\t 13161279.6151521\n",
            "\n",
            "A:\t 18346.19889548623\n",
            "A_T_A:\t 336583014.09533143\n",
            "\n",
            "A:\t 102424.5975675104\n",
            "A_T_A:\t 10490798212.051163\n",
            "\n"
          ],
          "name": "stdout"
        }
      ]
    },
    {
      "cell_type": "code",
      "metadata": {
        "deletable": false,
        "editable": false,
        "nbgrader": {
          "cell_type": "code",
          "checksum": "70f97b7e865ead5672ca93641c6a7cf0",
          "grade": true,
          "grade_id": "cell-a57fd1f730a5ca62",
          "locked": true,
          "points": 1,
          "schema_version": 3,
          "solution": false,
          "task": false
        },
        "id": "7c29wOiz2vBG"
      },
      "source": [
        "# This cell is a test: keep it intact\n"
      ],
      "execution_count": 9,
      "outputs": []
    },
    {
      "cell_type": "markdown",
      "metadata": {
        "deletable": false,
        "editable": false,
        "nbgrader": {
          "cell_type": "markdown",
          "checksum": "ffd0ce9ba5645b875537955eb8887e5b",
          "grade": false,
          "grade_id": "cell-f6f0f84795c73024",
          "locked": true,
          "schema_version": 3,
          "solution": false,
          "task": false
        },
        "id": "EC_rhVh12vBH"
      },
      "source": [
        "### II. Многочлен наилучшего приближения.\n",
        "\n",
        "Ясно, что бесконтрольно увеличивать степень аппроксимирующего многочлена довольно бессмысленно. Зададимся целью построить \"оптимальный\" многочлен как можно более низкой степени $m$.\n",
        "\n",
        "Для нахождения оптимального значения $m$ используйте следующий критерий: возьмем $m = 1, 2, \\dots$, и для каждого значения $m$ вычислим\n",
        "\n",
        "$$\n",
        "\\sigma_m^2 = \\frac{1}{n - m} \\sum_{k=0}^n \\left( P_m(x_k) - y_k \\right)^2\n",
        "$$\n",
        "\n",
        "и возьмем такое значение $m$, при котором $\\sigma_m$ стабилизируется или начинает расти."
      ]
    },
    {
      "cell_type": "code",
      "metadata": {
        "deletable": false,
        "nbgrader": {
          "cell_type": "code",
          "checksum": "b85853941544ff0159efbe6a8b8a9e0b",
          "grade": false,
          "grade_id": "cell-5d7424589f59ac28",
          "locked": false,
          "schema_version": 3,
          "solution": true,
          "task": false
        },
        "id": "TLb4RvJJ2vBH"
      },
      "source": [
        "def sigma(x, y, m):\n",
        "    r\"\"\"Compute $\\sigma_m$.\"\"\"\n",
        "    n = len(y)\n",
        "    SUM = 0\n",
        "    p = lsq_poly(x, y, m)\n",
        "    for k in range(n):\n",
        "        SUM += (p(x[k]) - y[k])**2\n",
        "    sigma_2 = SUM / (n - m)\n",
        "    return sigma_2"
      ],
      "execution_count": 10,
      "outputs": []
    },
    {
      "cell_type": "code",
      "metadata": {
        "id": "GHNV593h2vBI",
        "colab": {
          "base_uri": "https://localhost:8080/"
        },
        "outputId": "9e789b75-e245-4e0e-f72f-932670240f56"
      },
      "source": [
        "for m in range(1, 15):\n",
        "    print(m, sigma(x, y, m))"
      ],
      "execution_count": 11,
      "outputs": [
        {
          "output_type": "stream",
          "text": [
            "1 11.457382047310075\n",
            "2 8.520081963394482\n",
            "3 4.00556405823897\n",
            "4 1.1356406880121819\n",
            "5 1.1272670188279155\n",
            "6 1.1208555131773152\n",
            "7 1.0050279843985317\n",
            "8 1.1003064743050361\n",
            "9 1.2659515051676002\n",
            "10 0.770119122303984\n",
            "11 0.15965009694831334\n",
            "12 0.174307998486898\n",
            "13 0.21747791295259944\n",
            "14 376.65252083584085\n"
          ],
          "name": "stdout"
        }
      ]
    },
    {
      "cell_type": "markdown",
      "metadata": {
        "deletable": false,
        "editable": false,
        "nbgrader": {
          "cell_type": "markdown",
          "checksum": "09c8fb6ce3b3b9e55f7094d7c73348a2",
          "grade": false,
          "grade_id": "cell-57e0268e519fef92",
          "locked": true,
          "schema_version": 3,
          "solution": false,
          "task": false
        },
        "id": "8A_LhpjL2vBI"
      },
      "source": [
        "Постройте ваши полиномы $P_m(x)$ вместе с данными. Визуально сравните полиномы различных степеней. Согласуется ли визуальное сравнение с ожидаемым оптимальным значением $m$?"
      ]
    },
    {
      "cell_type": "code",
      "metadata": {
        "id": "8aRV-KW82vBJ",
        "colab": {
          "base_uri": "https://localhost:8080/",
          "height": 265
        },
        "outputId": "f0b45f71-826c-44c3-ba0c-69f4536507dc"
      },
      "source": [
        "import matplotlib.pyplot as plt\n",
        "fig, ax = plt.subplots()\n",
        "for m in range(1, 7):\n",
        "    p = lsq_poly(x, y, m)\n",
        "    \n",
        "    xx = np.linspace(-1, 3.2, 51)\n",
        "    ax.plot(xx, p(xx), '-', label='m = %s' % m)\n",
        "\n",
        "ax.plot(x, y, 'o', ms=8, color='k')\n",
        "plt.legend(loc='best')\n",
        "plt.grid()"
      ],
      "execution_count": 12,
      "outputs": [
        {
          "output_type": "display_data",
          "data": {
            "image/png": "[encoded data removed]",
            "text/plain": [
              "<Figure size 432x288 with 1 Axes>"
            ]
          },
          "metadata": {
            "tags": [],
            "needs_background": "light"
          }
        }
      ]
    },
    {
      "cell_type": "markdown",
      "metadata": {
        "deletable": false,
        "editable": false,
        "nbgrader": {
          "cell_type": "markdown",
          "checksum": "0046126501c6d92643bcf5456f063c07",
          "grade": false,
          "grade_id": "cell-ca71c0d238bdffd2",
          "locked": true,
          "schema_version": 3,
          "solution": false,
          "task": false
        },
        "id": "QASJOhuf2vBJ"
      },
      "source": [
        "### III. МНК с использованием QR-разложения.\n",
        "\n",
        "Для оптимального значения $m$ из предыдущей части решите задачу МНК, QR-разложение design матрицы. Для решения задач линейной алгебры можете использовать библиотечные функции (обратите внимание на `scipy.linalg.solve_triangular` и `scipy.linalg.qr` и т.д.) или код предыдущих недель.\n",
        "Сравните результат с ответом, полученным при решении системы уравнений."
      ]
    },
    {
      "cell_type": "code",
      "metadata": {
        "deletable": false,
        "nbgrader": {
          "cell_type": "code",
          "checksum": "4949ed85aae5641d121712c57eb88a12",
          "grade": false,
          "grade_id": "cell-2f72bccc7b48651d",
          "locked": false,
          "schema_version": 3,
          "solution": true,
          "task": false
        },
        "id": "0eMCrZRY2vBK"
      },
      "source": [
        "from scipy import linalg\n",
        "def lsq_qr(x, y, m):\n",
        "    \"\"\"Solve the LSQ problem via the QR decomp of the design matrix.\n",
        "\n",
        "    Parameters\n",
        "    ----------\n",
        "    x : array_like\n",
        "        Sample points\n",
        "    y : array_like\n",
        "        Measured values\n",
        "    m : int\n",
        "        The degree of the LSQ polynomial\n",
        "        \n",
        "    Returns\n",
        "    -------\n",
        "    p : callable \n",
        "        np.polynomial.Polynomial instance, representing the LSQ polynomial\n",
        "    \n",
        "    \"\"\"\n",
        "    A = design_matrix(x, m)\n",
        "    Q, R = linalg.qr(A)\n",
        "    vector = Q.T@y\n",
        "    vector_f = vector[:m]\n",
        "    \n",
        "    p = np.polynomial.Polynomial(np.linalg.inv(R[:m])@vector_f)\n",
        "    return p"
      ],
      "execution_count": 13,
      "outputs": []
    },
    {
      "cell_type": "code",
      "metadata": {
        "deletable": false,
        "editable": false,
        "nbgrader": {
          "cell_type": "code",
          "checksum": "d784bcc56dabf7ca87787a7347781fbf",
          "grade": true,
          "grade_id": "cell-e84a63fbccd75fdf",
          "locked": true,
          "points": 2,
          "schema_version": 3,
          "solution": false,
          "task": false
        },
        "id": "GCqM29-D2vBK"
      },
      "source": [
        "from numpy.testing import assert_allclose\n",
        "\n",
        "for m in range(1, 10):\n",
        "    assert_allclose(lsq_qr(x, y, m=m).coef,\n",
        "                    lsq_poly(x, y, m=m).coef,\n",
        "                    atol=1e-14)"
      ],
      "execution_count": 14,
      "outputs": []
    },
    {
      "cell_type": "code",
      "metadata": {
        "deletable": false,
        "editable": false,
        "nbgrader": {
          "cell_type": "code",
          "checksum": "41e34a05da07316ff15c569e78893537",
          "grade": true,
          "grade_id": "cell-0dec472419aee2c0",
          "locked": true,
          "points": 3,
          "schema_version": 3,
          "solution": false,
          "task": false
        },
        "id": "adYVIv_62vBL"
      },
      "source": [
        "# This cell spot-tests several polynomials to make sure that they are worse than your ``best'' polynomial.\n",
        "\n"
      ],
      "execution_count": 15,
      "outputs": []
    },
    {
      "cell_type": "code",
      "metadata": {
        "id": "7AMTZDBs2vBL"
      },
      "source": [
        ""
      ],
      "execution_count": null,
      "outputs": []
    }
  ]
}