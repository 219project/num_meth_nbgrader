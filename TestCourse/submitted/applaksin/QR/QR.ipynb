{
  "nbformat": 4,
  "nbformat_minor": 0,
  "metadata": {
    "colab": {
      "name": "QR_applaksin.ipynb",
      "provenance": []
    },
    "kernelspec": {
      "display_name": "Python 3",
      "language": "python",
      "name": "python3"
    },
    "language_info": {
      "codemirror_mode": {
        "name": "ipython",
        "version": 3
      },
      "file_extension": ".py",
      "mimetype": "text/x-python",
      "name": "python",
      "nbconvert_exporter": "python",
      "pygments_lexer": "ipython3",
      "version": "3.7.6"
    }
  },
  "cells": [
    {
      "cell_type": "markdown",
      "metadata": {
        "id": "9wNx9_0V78Y5"
      },
      "source": [
        "Before you turn this problem in, make sure everything runs as expected. First, **restart the kernel** (in the menubar, select Kernel$\\rightarrow$Restart) and then **run all cells** (in the menubar, select Cell$\\rightarrow$Run All).\n",
        "\n",
        "Make sure you fill in any place that says `YOUR CODE HERE` or \"YOUR ANSWER HERE\", as well as your name and collaborators below:"
      ]
    },
    {
      "cell_type": "code",
      "metadata": {
        "id": "HLPk0yhP78Y_"
      },
      "source": [
        "NAME = \"Plaksin Anton\"\n",
        "COLLABORATORS = \"\""
      ],
      "execution_count": null,
      "outputs": []
    },
    {
      "cell_type": "markdown",
      "metadata": {
        "id": "ZAzxvXlu78ZA"
      },
      "source": [
        "---"
      ]
    },
    {
      "cell_type": "code",
      "metadata": {
        "deletable": false,
        "editable": false,
        "id": "Oyr3kqyf78ZA",
        "nbgrader": {
          "cell_type": "code",
          "checksum": "771209e48db0b7681c5ce719d05b2b0c",
          "grade": false,
          "grade_id": "cell-66c8d50345588c95",
          "locked": true,
          "schema_version": 3,
          "solution": false,
          "task": false
        }
      },
      "source": [
        "import numpy as np\n",
        "\n",
        "from numpy.testing import assert_allclose"
      ],
      "execution_count": 1,
      "outputs": []
    },
    {
      "cell_type": "markdown",
      "metadata": {
        "deletable": false,
        "editable": false,
        "id": "nu0_JIl-78ZA",
        "nbgrader": {
          "cell_type": "markdown",
          "checksum": "6e341b63b116d4fcfe0588359a79b265",
          "grade": false,
          "grade_id": "cell-cfd189ec24b01044",
          "locked": true,
          "schema_version": 3,
          "solution": false,
          "task": false
        }
      },
      "source": [
        "\n",
        "### Часть I. Постройте отражение Хаусхолдера для вектора.\n",
        "\n",
        "Дан вектор $\\mathbf{x}$ и плоскость, заданная вектором нормали $\\mathbf{u}$. Преобразование Хаусхолдера отражает $\\mathbf{x}$ относительно плоскости.\n",
        "\n",
        "Матрица преобразований Хаусхолдера:\n",
        "$$ \\mathbf{H} = \\mathbf{1} - 2 \\mathbf{u} \\mathbf{u}^T $$\n",
        "\n",
        "Если даны два вектора $\\mathbf{x}$ и $\\mathbf{y}$ одинаковой длины, поворот, преобразующий $\\mathbf{x}$ в $\\mathbf{y}$ называется преобразованием Хаусхолдера с\n",
        "$$ \\mathbf{u} = \\frac{\\mathbf{x} - \\mathbf{y}}{\\left|\\mathbf{x} - \\mathbf{y}\\right|} $$\n",
        "\n",
        "Напишите функцию, преобразующую заданный вектор $\\mathbf{x} = (x_1, \\dots, x_n)$ в $\\mathbf{y} = (\\left|\\mathbf{x}\\right|, 0, \\dots, 0)^T$, используя преобразование Хаусхолдера.\n"
      ]
    },
    {
      "cell_type": "code",
      "metadata": {
        "deletable": false,
        "id": "hHg7xYau78ZB",
        "nbgrader": {
          "cell_type": "code",
          "checksum": "73d9a41ece5cf446777b9df562f48cf0",
          "grade": false,
          "grade_id": "cell-d8d82542e794c193",
          "locked": false,
          "schema_version": 3,
          "solution": true,
          "task": false
        }
      },
      "source": [
        "def householder(vec):\n",
        "    \"\"\"Создает отражение Хаусхолдера, преобразующее 2-ю, 3-ю и т.д. компоненты вектора vec в нули.\n",
        "    \n",
        "    Parameters\n",
        "    ----------\n",
        "    vec : array-like of floats, shape (n,)\n",
        "        Введенный вектор\n",
        "    \n",
        "    Returns\n",
        "    -------\n",
        "    outvec : array of floats, shape (n,)\n",
        "        Преобразованный вектор, причем ``outvec[1:]==0`` и ``|outvec| == |vec|``\n",
        "    H : array of floats, shape (n, n)\n",
        "        Ортогональная матрица отражений Хаусхолдера\n",
        "    \"\"\"\n",
        "\n",
        "    vec = np.asarray(vec, dtype=float)\n",
        "    if vec.ndim != 1:\n",
        "        raise ValueError(\"vec.ndim = %s, expected 1\" % vec.ndim)\n",
        "\n",
        "    if (np.size(vec) == 1) and (np.linalg.norm(vec)) < 1e-8:\n",
        "      return([0],[[1]])\n",
        "\n",
        "    x = vec\n",
        "    y = np.zeros(np.size(vec))\n",
        "    y[0] = np.linalg.norm(vec)\n",
        "    U = (x - y) / np.linalg.norm(x - y)\n",
        "    H = np.eye(np.size(vec)) - 2 * (U[np.newaxis, :].T @ U[np.newaxis, :] )\n",
        "    return(y, H)"
      ],
      "execution_count": 4,
      "outputs": []
    },
    {
      "cell_type": "code",
      "metadata": {
        "colab": {
          "base_uri": "https://localhost:8080/"
        },
        "id": "yjKYyW2PADk9",
        "outputId": "c127f9f5-96f6-47b4-d6ac-478b3c418d84"
      },
      "source": [
        "    V = np.array([1, 2, 3])\n",
        "    V = np.asarray(V, dtype=float)\n",
        "    if V.ndim != 1:\n",
        "        raise ValueError(\"V.ndim = %s, expected 1\" % V.ndim)\n",
        "\n",
        "    x = V\n",
        "    y = np.zeros(np.size(V))\n",
        "    y[0] = np.linalg.norm(V)\n",
        "    print(x - y)\n",
        "    print(np.linalg.norm(x - y))\n",
        "    u = (x - y) / np.linalg.norm(x - y)\n",
        "    print(u)\n",
        "    print(u[np.newaxis, :].T)\n",
        "    print(u[np.newaxis, :].T @ u[np.newaxis, :])\n",
        "    print(2 * (u[np.newaxis, :].T @ u[np.newaxis, :] ))\n",
        "    print(1 - 2 * (u[np.newaxis, :].T @ u[np.newaxis, :]))\n",
        "    H = np.eye(3) - 2 * (u[np.newaxis, :].T @ u[np.newaxis, :])\n",
        "    print(H)\n",
        "    print(H @ x)"
      ],
      "execution_count": 5,
      "outputs": [
        {
          "output_type": "stream",
          "text": [
            "[-2.74165739  2.          3.        ]\n",
            "4.529534769317056\n",
            "[-0.60528454  0.44154645  0.66231968]\n",
            "[[-0.60528454]\n",
            " [ 0.44154645]\n",
            " [ 0.66231968]]\n",
            "[[ 0.36636938 -0.26726124 -0.40089186]\n",
            " [-0.26726124  0.19496327  0.2924449 ]\n",
            " [-0.40089186  0.2924449   0.43866735]]\n",
            "[[ 0.73273876 -0.53452248 -0.80178373]\n",
            " [-0.53452248  0.38992654  0.5848898 ]\n",
            " [-0.80178373  0.5848898   0.87733471]]\n",
            "[[0.26726124 1.53452248 1.80178373]\n",
            " [1.53452248 0.61007346 0.4151102 ]\n",
            " [1.80178373 0.4151102  0.12266529]]\n",
            "[[ 0.26726124  0.53452248  0.80178373]\n",
            " [ 0.53452248  0.61007346 -0.5848898 ]\n",
            " [ 0.80178373 -0.5848898   0.12266529]]\n",
            "[ 3.74165739e+00  0.00000000e+00 -1.11022302e-16]\n"
          ],
          "name": "stdout"
        }
      ]
    },
    {
      "cell_type": "markdown",
      "metadata": {
        "deletable": false,
        "editable": false,
        "id": "rX_Svlqy78ZC",
        "nbgrader": {
          "cell_type": "markdown",
          "checksum": "c06ea08fd1f013d15e1b17ca2fb48e27",
          "grade": false,
          "grade_id": "cell-63560fcd44e56146",
          "locked": true,
          "schema_version": 3,
          "solution": false,
          "task": false
        }
      },
      "source": [
        "Протестируйте свою функцию на следующих примерах:"
      ]
    },
    {
      "cell_type": "code",
      "metadata": {
        "deletable": false,
        "editable": false,
        "id": "6tRS4EL378ZC",
        "nbgrader": {
          "cell_type": "code",
          "checksum": "39e0a1b30668d43674e1766410ce698b",
          "grade": true,
          "grade_id": "cell-7364c2b9de6bb44c",
          "locked": true,
          "points": 3,
          "schema_version": 3,
          "solution": false,
          "task": false
        }
      },
      "source": [
        "v = np.array([1, 2, 3])\n",
        "v1, h = householder(v)\n",
        "\n",
        "assert_allclose(h @ v1, v, atol=1e-14)\n",
        "assert_allclose(h @ v, v1, atol=1e-14)\n",
        "\n",
        "assert_allclose(v1[1:], 0, atol=1e-14)\n",
        "\n",
        "assert_allclose(h @ h.T, np.eye(3), atol=1e-14)\n"
      ],
      "execution_count": 6,
      "outputs": []
    },
    {
      "cell_type": "markdown",
      "metadata": {
        "deletable": false,
        "editable": false,
        "id": "bk5J4Zxh78ZD",
        "nbgrader": {
          "cell_type": "markdown",
          "checksum": "ebe7493dd22452e2422d5f111bc86adc",
          "grade": false,
          "grade_id": "cell-35217c03c48d40be",
          "locked": true,
          "schema_version": 3,
          "solution": false,
          "task": false
        }
      },
      "source": [
        "### Part II. Вычисление $\\mathrm{QR}$ - разложения матрицы.\n",
        "\n",
        "Дана прямоугольная $m\\times n$ матрица $\\mathbf{A}$. Выполните отражение Хаусхолдера матрицы $\\mathbf{H}_1$, преобразующее первый столбец матрицы $\\mathbf{A}$ (назовем результат $\\mathbf{A}^{(1)}$)\n",
        "\n",
        "$$ \n",
        "\\mathbf{H}_1 \\mathbf{A} %\\begin{pmatrix} \\times &amp; \\times &amp; \\times &amp; \\dots &amp; \\times \\\\ 0 &amp; \\times &amp; \\times &amp; \\dots &amp; \\times \\\\ 0 &amp; \\times &amp; \\times &amp; \\dots &amp; \\times \\\\ &amp;&amp; \\dots&amp;&amp; \\\\ 0 &amp; \\times &amp; \\times &amp; \\dots &amp; \\times \\\\ \\end{pmatrix}\n",
        "%\n",
        "\\equiv \\mathbf{A}^{(1)}\\;. \n",
        "$$\n",
        "\n",
        "Теперь рассмотрим нижнюю правую часть матрицы $\\mathbf{A}^{(1)}$ и выполним преобразование Хаусхолдера, действующее на 2 столбец $\\mathbf{A}$:\n",
        "$$\n",
        "\\mathbf{H}_2 \\mathbf{A}^{(1)} % \\begin{pmatrix} \\times &amp; \\times &amp; \\times &amp; \\dots &amp; \\times \\\\ 0 &amp; \\times &amp; \\times &amp; \\dots &amp; \\times \\\\ 0 &amp; 0 &amp; \\times &amp; \\dots &amp; \\times \\\\ &amp;&amp; \\dots&amp;&amp; \\\\ 0 &amp; 0 &amp; \\times &amp; \\dots &amp; \\times \\\\ \\end{pmatrix}\n",
        "%\n",
        "\\equiv \\mathbf{A}^{(2)} \\;. $$\n",
        "\n",
        "Повторяя процесс $n$ раз, получим\n",
        "$$\n",
        "\\mathbf{H}_{n} \\cdots \\mathbf{H}_2 \\mathbf{H}_1 \\mathbf{A} = \\mathbf{R} \\;, \n",
        "$$\n",
        "\n",
        "где $\\mathbf{R}$ верхняя треугольная матрица. Так как каждая из матриц $\\mathbf{H}_k$ ортогональна, таковым будет и их произведение. Обратная от ортогональной также есть матрица ортогональная. Таким образом, алгоритм создает $\\mathrm{QR}$ - разложение матрицы $\\mathbf{A}$.\n",
        "\n",
        "Напишите функцию, получающую прямоугольную матрицу $A$ и возвращающую матрицы $Q$ и $R$ --- компоненты $QR$-разложения $A$.\n"
      ]
    },
    {
      "cell_type": "code",
      "metadata": {
        "deletable": false,
        "id": "hc9fTXWG78ZD",
        "nbgrader": {
          "cell_type": "code",
          "checksum": "8a1f5a91c16847856a0cbb2190e6fc61",
          "grade": false,
          "grade_id": "cell-d5a63eec70d4d566",
          "locked": false,
          "schema_version": 3,
          "solution": true,
          "task": false
        }
      },
      "source": [
        "def qr_decomp(a):\n",
        "    \"\"\"Вычисляет QR - разложение матрицы.\n",
        "    \n",
        "    Parameters\n",
        "    ----------\n",
        "    a : ndarray, shape(m, n)\n",
        "        Введенная матрица\n",
        "    \n",
        "    Returns\n",
        "    -------\n",
        "    q : ndarray, shape(m, m)\n",
        "        Ортогональная матрица\n",
        "    r : ndarray, shape(m, n)\n",
        "        Верхняя треугольная матрица\n",
        "        \n",
        "    Examples\n",
        "    --------\n",
        "    >>> a = np.random.random(size=(3, 5))\n",
        "    >>> q, r = qr_decomp(a)\n",
        "    >>> np.testing.assert_allclose(q @ r, a, atol=1e-14)\n",
        "    \n",
        "    \"\"\"\n",
        "    a1 = np.array(a, copy=True, dtype=float)\n",
        "    m, n = a1.shape\n",
        "    count = min(m,n)\n",
        "    QT = np.eye(m)\n",
        "    Q = np.eye(m)\n",
        "    for i in range(count):\n",
        "      v, q = householder(a1[:,0])\n",
        "      a1 = q @ a1\n",
        "      qa = np.eye(m)\n",
        "      qa[i:,i:] = q\n",
        "      QT = qa @ QT\n",
        "      Q = Q @ qa.T\n",
        "      a1 = a1[1:,1:]\n",
        "\n",
        "    R = QT @ a\n",
        "    return Q, R"
      ],
      "execution_count": 8,
      "outputs": []
    },
    {
      "cell_type": "code",
      "metadata": {
        "deletable": false,
        "editable": false,
        "id": "iBqrpjLz78ZE",
        "nbgrader": {
          "cell_type": "code",
          "checksum": "cbad5d2fd9cc1e9402ecf57d84c8d4f6",
          "grade": false,
          "grade_id": "cell-56fbda736c3cd7ea",
          "locked": true,
          "schema_version": 3,
          "solution": false,
          "task": false
        }
      },
      "source": [
        "# можете запустить данную операцию для бооее сжатого вывода: нули вместо `1e-16` и т.д.\n",
        "np.set_printoptions(suppress=True)"
      ],
      "execution_count": null,
      "outputs": []
    },
    {
      "cell_type": "code",
      "metadata": {
        "deletable": false,
        "editable": false,
        "id": "hvYP2imy78ZE",
        "nbgrader": {
          "cell_type": "code",
          "checksum": "92b610ca8921e1424ed15186f1ac0245",
          "grade": true,
          "grade_id": "cell-c3391a61cbdadb2f",
          "locked": true,
          "points": 3,
          "schema_version": 3,
          "solution": false,
          "task": false
        }
      },
      "source": [
        "rndm = np.random.RandomState(1234)\n",
        "a = rndm.uniform(size=(5, 3))\n",
        "aa = a.copy()\n",
        "\n",
        "q, r = qr_decomp(a)\n",
        "\n",
        "# check that `qr_decomp` leaves `a` intact\n",
        "assert_allclose(a, aa, atol=1e-16)\n",
        "\n",
        "# тестируем, что Q ортогональна\n",
        "assert_allclose(q @ q.T, np.eye(5), atol=1e-14)\n",
        "\n",
        "# проверяем разложение\n",
        "assert_allclose(q @ r, a, atol=1e-14)"
      ],
      "execution_count": null,
      "outputs": []
    },
    {
      "cell_type": "markdown",
      "metadata": {
        "deletable": false,
        "editable": false,
        "id": "7WRbIiPU78ZE",
        "nbgrader": {
          "cell_type": "markdown",
          "checksum": "23a1c1caad0cc026fb9b11be20db43c9",
          "grade": false,
          "grade_id": "cell-c0e81975f522036f",
          "locked": true,
          "schema_version": 3,
          "solution": false,
          "task": false
        }
      },
      "source": [
        "Теперь сравните ваше разложение с разложением, полученным библиотечной функцией (содержащей соответствующие функции библиотеки LAPACK)"
      ]
    },
    {
      "cell_type": "code",
      "metadata": {
        "colab": {
          "base_uri": "https://localhost:8080/"
        },
        "deletable": false,
        "editable": false,
        "id": "Ig5Z5jjE78ZF",
        "nbgrader": {
          "cell_type": "code",
          "checksum": "ff88b4759f8e931b7fd1c4865974f290",
          "grade": false,
          "grade_id": "cell-30c8e09d6dfccd7e",
          "locked": true,
          "schema_version": 3,
          "solution": false,
          "task": false
        },
        "outputId": "bf9d63c9-aca4-48be-dcda-92e9689e07e8"
      },
      "source": [
        "from scipy.linalg import qr\n",
        "qq, rr = qr(a)\n",
        "\n",
        "assert_allclose(np.dot(qq, rr), a,\n",
        "                atol=1e-14)\n",
        "print(q,\"\\n\",r)\n",
        "print(qq,\"\\n\",rr)"
      ],
      "execution_count": 17,
      "outputs": [
        {
          "output_type": "stream",
          "text": [
            "[[ 0.70029229 -0.71385623]\n",
            " [-0.71385623 -0.70029229]] \n",
            " [[ 1.36747943e+01  1.53567209e+01  1.70386475e+01]\n",
            " [ 1.44328993e-15  1.08218436e+00  2.16436873e+00]\n",
            " [-1.55431223e-15  0.00000000e+00  6.66133815e-16]\n",
            " [ 9.29811783e-16  1.05471187e-15  7.35522754e-16]]\n",
            "[[-0.07312724 -0.8104029   0.25843988 -0.52068068]\n",
            " [-0.29250897 -0.46944071  0.10917259  0.82592086]\n",
            " [-0.5118907  -0.12847851 -0.83715175 -0.14365981]\n",
            " [-0.80439967  0.32613775  0.46953927 -0.16158037]] \n",
            " [[-1.36747943e+01 -1.53567209e+01 -1.70386475e+01]\n",
            " [ 0.00000000e+00 -1.08218436e+00 -2.16436873e+00]\n",
            " [ 0.00000000e+00  0.00000000e+00 -2.91420327e-15]\n",
            " [ 0.00000000e+00  0.00000000e+00  0.00000000e+00]]\n"
          ],
          "name": "stdout"
        }
      ]
    },
    {
      "cell_type": "markdown",
      "metadata": {
        "id": "zaEzvHp878ZF"
      },
      "source": [
        "Пояснений нет("
      ]
    },
    {
      "cell_type": "markdown",
      "metadata": {
        "deletable": false,
        "editable": false,
        "id": "vCRSOoGO78ZG",
        "nbgrader": {
          "cell_type": "markdown",
          "checksum": "1a1cfd1969ba69c09cdd68d5e651fb5b",
          "grade": false,
          "grade_id": "cell-28b501b4a2cd3dc1",
          "locked": true,
          "schema_version": 3,
          "solution": false,
          "task": false
        }
      },
      "source": [
        "\n",
        "### Часть III. Безматричная реализация.\n",
        "\n",
        "Отметим необычную структуру матрицы Хаусхолдера: матрица поворота $\\mathbf{H}$ полностью характеризуется вектором отражения $\\mathbf{u}$. Заметим, также, что вычислительная сложность операции отражения матрицы сильно зависит от порядка операций:\n",
        "$$ \\left( \\mathbf{u} \\mathbf{u}^T \\right) \\mathbf{A} \\qquad \\textrm{is } O(m^2 n)\\;, $$\n",
        "\n",
        "тогда как $$ \\mathbf{u} \\left( \\mathbf{u}^T \\mathbf{A} \\right) \\qquad \\textrm{is } O(mn) $$\n",
        "\n",
        "Таким образом, следует избегать формирований матриц $\\mathbf{H}$. Вместо этого можно сохранять сами векторы отражения $\\mathbf{u}$ и производить умножение произвольной матрицы на $\\mathbf{Q}^T$, например, как отдельную функцию (класс).\n",
        "\n",
        "Напишите функцию, выполняющую QR - разложение матрицы без формирования матриц $\\mathbf{H}$ и возвращающую матрицу $\\mathbf{R}$, а также вектора отражений Хаусхолдера.\n",
        "\n",
        "\n",
        "Напишите вторую функцию, которая использует вектора отражений, полученных предыдущей функцией, для вычисления произведения $Q^T B$ для заданной матрицы B. Убедитесь, что вы добавили достаточно комментариев, следующих вашим выкладкам. \n",
        "\n"
      ]
    },
    {
      "cell_type": "code",
      "metadata": {
        "deletable": false,
        "id": "wC6pSWIv78ZG",
        "nbgrader": {
          "cell_type": "code",
          "checksum": "dcc0faefea89bcb89fa28f0ae61fb5e1",
          "grade": false,
          "grade_id": "cell-5360f8930eabe0b4",
          "locked": false,
          "schema_version": 3,
          "solution": true,
          "task": false
        }
      },
      "source": [
        "def qr_nomatrix(a):\n",
        "    \"\"\"Form QR decomposition of `a` via successive Householder reflections.\n",
        "    \n",
        "    Parameters\n",
        "    ----------\n",
        "    a : ndarray\n",
        "        Input matrix\n",
        "    \n",
        "    Returns\n",
        "    -------\n",
        "    R : ndarray\n",
        "        Upper triangular matrix of the QR decomposition\n",
        "    \n",
        "    U : ndarray\n",
        "        Columns store successive Householder reflectors: `U[j:, j]` stores\n",
        "        the Householder reflector for reducing the `j`-th column.\n",
        "        \n",
        "    See Also\n",
        "    --------\n",
        "    householder_apply : apply Householder reflectors stored in `U` to `a`.\n",
        "    \n",
        "    \"\"\"\n",
        "    a1 = np.array(a, copy=True, dtype=float)\n",
        "    m, n = a1.shape\n",
        "    count = min(m,n)\n",
        "    #print(m,n)\n",
        "\n",
        "    QT = np.eye(m)\n",
        "    Q = np.eye(m)\n",
        "    U = np.eye(m)\n",
        "    #print(U)\n",
        "\n",
        "    for i in range(count):\n",
        "      V = np.asarray(a1[:,0], dtype=float)\n",
        "      if V.ndim != 1:\n",
        "          raise ValueError(\"V.ndim = %s, expected 1\" % V.ndim)\n",
        "      if np.size(V)==1 and np.linalg.norm(V)<1e-8:\n",
        "        q = [[1]]\n",
        "        u = np.asarray([0])\n",
        "      else:\n",
        "        x = V\n",
        "        y = np.zeros(np.size(V))\n",
        "        y[0] = np.linalg.norm(V)\n",
        "        u = (x - y) / np.linalg.norm(x - y)\n",
        "        print(\"u\", u)\n",
        "      U[i:, i] = u\n",
        "      print(\"U\", U)\n",
        "      q = np.eye(np.size(V))-2*(u[np.newaxis, :].T @ u[np.newaxis, :] )\n",
        "      a1 = q @ a1\n",
        "      qa = np.eye(m)\n",
        "      qa[i:,i:] = q\n",
        "      QT = qa @ QT\n",
        "      Q = Q @ (qa.T)\n",
        "      a1 = a1[1:,1:]\n",
        "    R = QT @ a\n",
        "    return R, U\n",
        "  \n",
        "def householder_apply(b, uu):\n",
        "    \"\"\"Apply the Householder reflectors stored in `uu` to `b`.\n",
        "    \n",
        "    The result is equivalent to\n",
        "    >>> r, q = qr_decomp(a)\n",
        "    >>> q.T @ b\n",
        "    \n",
        "    Parameters\n",
        "    ----------\n",
        "    b : ndarray\n",
        "        Input matrix\n",
        "    uu : ndarray\n",
        "        Householder reflectors: `U[j:, j]` is the reflection vector\n",
        "        for transforming the `j`-th column of `a`.\n",
        "        \n",
        "    Returns\n",
        "    -------\n",
        "    r : ndarray\n",
        "        The result of applying the reflectors to `b`. Equivalent to\n",
        "        computing `q.T @ b`.\n",
        "\n",
        "    See Also\n",
        "    --------\n",
        "    qr_decomp\n",
        "    \n",
        "    \"\"\"\n",
        "    a1 = np.array(b, copy=True, dtype=float)\n",
        "    m, n = a1.shape\n",
        "    count = min(m,n)\n",
        "    QT = np.eye(m)\n",
        "    Q = np.eye(m)\n",
        "    for i in range(count):\n",
        "      u = U[i:, i]\n",
        "      V = np.asarray(a1[:,0], dtype=float)\n",
        "      q = np.eye(np.size(V))-2*(u[np.newaxis, :].T @ u[np.newaxis, :] )\n",
        "      a1 = q @ a1\n",
        "      qa = np.eye(m)\n",
        "      qa[i:,i:] = q\n",
        "      QT = qa @ QT\n",
        "      Q = Q @ (qa.T)\n",
        "      a1 = a1[1:,1:]\n",
        "    R=QT@b\n",
        "    return R"
      ],
      "execution_count": 18,
      "outputs": []
    },
    {
      "cell_type": "code",
      "metadata": {
        "colab": {
          "base_uri": "https://localhost:8080/"
        },
        "deletable": false,
        "editable": false,
        "id": "JbrIquHT78ZH",
        "nbgrader": {
          "cell_type": "code",
          "checksum": "5973b62d7760c8e4f786f62f033e2904",
          "grade": true,
          "grade_id": "cell-68363e2462de3a8b",
          "locked": true,
          "points": 3,
          "schema_version": 3,
          "solution": false,
          "task": false
        },
        "outputId": "7fc401d9-66eb-4ec8-ee9b-c0c82116bfbf"
      },
      "source": [
        "rndm = np.random.RandomState(1223)\n",
        "\n",
        "a = rndm.uniform(size=(5, 5))\n",
        "R1, U = qr_nomatrix(a)\n",
        "R2 = householder_apply(a, U)\n",
        "R_lib = qr(a)[1]\n",
        "assert_allclose(R1, R2, atol=1e-14)\n"
      ],
      "execution_count": 19,
      "outputs": [
        {
          "output_type": "stream",
          "text": [
            "u [-0.51706743  0.1189934   0.38529641  0.72128983  0.22309079]\n",
            "U [[-0.51706743  0.          0.          0.          0.        ]\n",
            " [ 0.1189934   1.          0.          0.          0.        ]\n",
            " [ 0.38529641  0.          1.          0.          0.        ]\n",
            " [ 0.72128983  0.          0.          1.          0.        ]\n",
            " [ 0.22309079  0.          0.          0.          1.        ]]\n",
            "u [-0.71706866 -0.16784218 -0.19207851  0.64865043]\n",
            "U [[-0.51706743  0.          0.          0.          0.        ]\n",
            " [ 0.1189934  -0.71706866  0.          0.          0.        ]\n",
            " [ 0.38529641 -0.16784218  1.          0.          0.        ]\n",
            " [ 0.72128983 -0.19207851  0.          1.          0.        ]\n",
            " [ 0.22309079  0.64865043  0.          0.          1.        ]]\n",
            "u [-0.66214187 -0.2285334   0.71368104]\n",
            "U [[-0.51706743  0.          0.          0.          0.        ]\n",
            " [ 0.1189934  -0.71706866  0.          0.          0.        ]\n",
            " [ 0.38529641 -0.16784218 -0.66214187  0.          0.        ]\n",
            " [ 0.72128983 -0.19207851 -0.2285334   1.          0.        ]\n",
            " [ 0.22309079  0.64865043  0.71368104  0.          1.        ]]\n",
            "u [-0.97998438 -0.1990744 ]\n",
            "U [[-0.51706743  0.          0.          0.          0.        ]\n",
            " [ 0.1189934  -0.71706866  0.          0.          0.        ]\n",
            " [ 0.38529641 -0.16784218 -0.66214187  0.          0.        ]\n",
            " [ 0.72128983 -0.19207851 -0.2285334  -0.97998438  0.        ]\n",
            " [ 0.22309079  0.64865043  0.71368104 -0.1990744   1.        ]]\n",
            "u [-1.]\n",
            "U [[-0.51706743  0.          0.          0.          0.        ]\n",
            " [ 0.1189934  -0.71706866  0.          0.          0.        ]\n",
            " [ 0.38529641 -0.16784218 -0.66214187  0.          0.        ]\n",
            " [ 0.72128983 -0.19207851 -0.2285334  -0.97998438  0.        ]\n",
            " [ 0.22309079  0.64865043  0.71368104 -0.1990744  -1.        ]]\n"
          ],
          "name": "stdout"
        }
      ]
    },
    {
      "cell_type": "code",
      "metadata": {
        "deletable": false,
        "editable": false,
        "id": "jecshfio78ZH",
        "nbgrader": {
          "cell_type": "code",
          "checksum": "2eb85b9991a5a4f340ef32307fa42843",
          "grade": true,
          "grade_id": "cell-159c6803d580116d",
          "locked": true,
          "points": 3,
          "schema_version": 3,
          "solution": false,
          "task": false
        }
      },
      "source": [
        "# Check consistency with the scipy library decomposition. Allow for sign differences\n",
        "\n",
        "conds = [np.allclose(R2[i, :], R_lib[i, :], atol=1e-14) or\n",
        "         np.allclose(R2[i, :], -R_lib[i, :], atol=1e-14) for i in range(5)]\n",
        "assert False not in conds\n"
      ],
      "execution_count": 20,
      "outputs": []
    },
    {
      "cell_type": "code",
      "metadata": {
        "deletable": false,
        "editable": false,
        "id": "SEL5uqjr78ZI",
        "nbgrader": {
          "cell_type": "code",
          "checksum": "eae39ec8a064abcc8a9c74be1b03d24a",
          "grade": true,
          "grade_id": "cell-cfb9d263bcd923ed",
          "locked": true,
          "points": 3,
          "schema_version": 3,
          "solution": false,
          "task": false
        }
      },
      "source": [
        "# More testing here, keep this cell intact\n"
      ],
      "execution_count": null,
      "outputs": []
    },
    {
      "cell_type": "code",
      "metadata": {
        "id": "kVR5pQ6w78ZI"
      },
      "source": [
        ""
      ],
      "execution_count": null,
      "outputs": []
    },
    {
      "cell_type": "code",
      "metadata": {
        "id": "WqsNB446CnZr"
      },
      "source": [
        ""
      ],
      "execution_count": null,
      "outputs": []
    }
  ]
}