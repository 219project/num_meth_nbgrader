{
  "nbformat": 4,
  "nbformat_minor": 0,
  "metadata": {
    "kernelspec": {
      "display_name": "Python 3",
      "language": "python",
      "name": "python3"
    },
    "language_info": {
      "codemirror_mode": {
        "name": "ipython",
        "version": 3
      },
      "file_extension": ".py",
      "mimetype": "text/x-python",
      "name": "python",
      "nbconvert_exporter": "python",
      "pygments_lexer": "ipython3",
      "version": "3.8.5"
    },
    "colab": {
      "name": "newton_iter_apsakova.ipynb",
      "provenance": [],
      "collapsed_sections": []
    }
  },
  "cells": [
    {
      "cell_type": "markdown",
      "metadata": {
        "id": "CJurBbWvMk4T"
      },
      "source": [
        "Before you turn this problem in, make sure everything runs as expected. First, **restart the kernel** (in the menubar, select Kernel$\\rightarrow$Restart) and then **run all cells** (in the menubar, select Cell$\\rightarrow$Run All).\n",
        "\n",
        "Make sure you fill in any place that says `YOUR CODE HERE` or \"YOUR ANSWER HERE\", as well as your name and collaborators below:"
      ]
    },
    {
      "cell_type": "code",
      "metadata": {
        "id": "XfLN0En4Mk4c"
      },
      "source": [
        "NAME = \"Sakova Arina\"\n",
        "COLLABORATORS = \"\""
      ],
      "execution_count": 128,
      "outputs": []
    },
    {
      "cell_type": "markdown",
      "metadata": {
        "id": "IKrrlOIAMk4d"
      },
      "source": [
        "---"
      ]
    },
    {
      "cell_type": "code",
      "metadata": {
        "deletable": false,
        "editable": false,
        "nbgrader": {
          "cell_type": "code",
          "checksum": "faffb78b7d48e753358e7f2b080e58e1",
          "grade": false,
          "grade_id": "cell-d238cbae9896563e",
          "locked": true,
          "schema_version": 3,
          "solution": false,
          "task": false
        },
        "id": "A-SVp4NIMk4e"
      },
      "source": [
        "import matplotlib.pyplot as plt\n",
        "import numpy as np"
      ],
      "execution_count": 129,
      "outputs": []
    },
    {
      "cell_type": "markdown",
      "metadata": {
        "deletable": false,
        "editable": false,
        "nbgrader": {
          "cell_type": "markdown",
          "checksum": "87e98d582358e0470c1593a461300f5f",
          "grade": false,
          "grade_id": "cell-e24f93d1f5c3d8e8",
          "locked": true,
          "schema_version": 3,
          "solution": false,
          "task": false
        },
        "id": "7c1Bqp9JMk4e"
      },
      "source": [
        "# Часть I. Метод Ньютона нахождения корней уравнения."
      ]
    },
    {
      "cell_type": "markdown",
      "metadata": {
        "deletable": false,
        "editable": false,
        "nbgrader": {
          "cell_type": "markdown",
          "checksum": "461b52f42752997f98438e039802ad00",
          "grade": false,
          "grade_id": "cell-dcdac7e559daf63a",
          "locked": true,
          "schema_version": 3,
          "solution": false,
          "task": false
        },
        "id": "Gnf65Z1oMk4f"
      },
      "source": [
        "Напишите алгоритм, который выполняет итерации Ньютона для заданной функции $f(x)$ с известной производной $f'(x)$. Ваша функция должна находить корни $f(x)$ с заданной точностью $\\epsilon$."
      ]
    },
    {
      "cell_type": "code",
      "metadata": {
        "deletable": false,
        "nbgrader": {
          "cell_type": "code",
          "checksum": "e97b768e6a3dc7e5496abd0004b542aa",
          "grade": false,
          "grade_id": "cell-e47469fedb8cc24a",
          "locked": false,
          "schema_version": 3,
          "solution": true,
          "task": false
        },
        "id": "g5cT37vZMk4g"
      },
      "source": [
        "def newton_iteration(f, fder, x0, eps=1e-5, maxiter=100):\n",
        "    \"\"\"Нахождение корней $f(x) = 0$ через итерации Ньютона.\n",
        "    \n",
        "    Parameters\n",
        "    ----------\n",
        "    f : callable\n",
        "        Функция, корни которой мы хотим найти.\n",
        "    fder : callable\n",
        "        Производная `f`.\n",
        "    x0 : float\n",
        "        Начальное приближение итераций Ньютона.\n",
        "    eps : float\n",
        "        Заданная точность. \n",
        "        Алгоритм прекращает работу когда расстояние между последовательными приближениями меньше `eps`.\n",
        "        По умолчанию 1e-5.\n",
        "    maxiter : int\n",
        "        Максимальное число итераций (по умолчанию 100).\n",
        "        Алгоритм прекращается, когда число итераций достигает `maxiter`.\n",
        "        Этот параметр нужен лишь для предотвращения бесконечного зацикливания.\n",
        "    \n",
        "    Returns\n",
        "    -------\n",
        "    x : float\n",
        "        Найденное приближение к корню.\n",
        "    niter : int\n",
        "        Количество итераций.\n",
        "    \"\"\"\n",
        "    ind = 0\n",
        "    x = x0 - f(x0)/fder(x0)\n",
        "\n",
        "    while ind < maxiter:\n",
        "      if abs(x - x0) < eps:\n",
        "        break\n",
        "      ind += 1\n",
        "      x0 = x\n",
        "      x = x0 - f(x0)/fder(x0)\n",
        "    return x, ind"
      ],
      "execution_count": 130,
      "outputs": []
    },
    {
      "cell_type": "code",
      "metadata": {
        "deletable": false,
        "editable": false,
        "nbgrader": {
          "cell_type": "code",
          "checksum": "127b1076061cac3a04850b843b2a45a3",
          "grade": true,
          "grade_id": "cell-0c23dfbb8447f5aa",
          "locked": true,
          "points": 5,
          "schema_version": 3,
          "solution": false,
          "task": false
        },
        "id": "IdPMKX1nMk4g"
      },
      "source": [
        "from numpy.testing import assert_allclose\n",
        "\n",
        "xx, nit = newton_iteration(lambda x: x**2 - 1, lambda x: 2.*x, x0=4)\n",
        "assert_allclose(xx, 1.0, atol=1e-5)\n",
        "assert nit < 10\n",
        "\n",
        "xx, nit = newton_iteration(lambda x: x**2 - 1, lambda x: 2.*x, x0=-4)\n",
        "assert_allclose(xx, -1.0, atol=1e-5)\n",
        "assert nit < 10\n",
        "\n",
        "\n",
        "from math import log, exp\n",
        "\n",
        "xx, nit = newton_iteration(lambda x: exp(x)-2, lambda x: exp(x), x0=4, eps=1e-10)\n",
        "assert_allclose(xx, log(2), atol=1e-10)"
      ],
      "execution_count": 131,
      "outputs": []
    },
    {
      "cell_type": "markdown",
      "metadata": {
        "deletable": false,
        "editable": false,
        "nbgrader": {
          "cell_type": "markdown",
          "checksum": "7a6d66171d8f71ad126a9061605b3023",
          "grade": false,
          "grade_id": "cell-5df8b5b63ea89558",
          "locked": true,
          "schema_version": 3,
          "solution": false,
          "task": false
        },
        "id": "fj5wZO2FMk4h"
      },
      "source": [
        "Используя функцию `newton_iteration` для функции $f(x) = x^2 - 1$, постройте зависимость логарифма ошибки нахождения корня методом Ньютона от числа итераций. Какова сходимость метода (линейная, квадратичная, иная)?"
      ]
    },
    {
      "cell_type": "markdown",
      "metadata": {
        "deletable": false,
        "editable": false,
        "nbgrader": {
          "cell_type": "markdown",
          "checksum": "a9088ee177b91b07a97306dc0d4100e8",
          "grade": false,
          "grade_id": "cell-d429579b202c13d0",
          "locked": true,
          "points": 5,
          "schema_version": 3,
          "solution": false,
          "task": true
        },
        "id": "jiY_2T6CMk4i"
      },
      "source": [
        "### Your code here."
      ]
    },
    {
      "cell_type": "code",
      "metadata": {
        "colab": {
          "base_uri": "https://localhost:8080/",
          "height": 352
        },
        "id": "c3QAo7JtMk4j",
        "outputId": "7e2dd0e2-10e1-41cd-8a9e-39c9d27b10ce"
      },
      "source": [
        "errors = []\n",
        "maxit = []\n",
        "x0 = 4\n",
        "\n",
        "for i in range(100):\n",
        "  x, nit = newton_iteration(lambda x: x**2 - 1, lambda x: 2.*x, x0 = 4, eps = 1e-5, maxiter = i)\n",
        "  errors.append(np.log(abs(x - x0)))\n",
        "  maxit.append(nit)\n",
        "  x0 = x\n",
        "\n",
        "\n",
        "plt.figure()\n",
        "plt.plot(maxit, errors)\n",
        "plt.xlabel('Количество итераций')\n",
        "plt.ylabel('Логарифм ошибки нахождения корня')\n",
        "\n",
        "plt.show()\n",
        "print(errors)"
      ],
      "execution_count": 132,
      "outputs": [
        {
          "output_type": "stream",
          "text": [
            "/usr/local/lib/python3.7/dist-packages/ipykernel_launcher.py:7: RuntimeWarning: divide by zero encountered in log\n",
            "  import sys\n"
          ],
          "name": "stderr"
        },
        {
          "output_type": "display_data",
          "data": {
            "image/png": "[encoded data removed]",
            "text/plain": [
              "<Figure size 432x288 with 1 Axes>"
            ]
          },
          "metadata": {
            "tags": [],
            "needs_background": "light"
          }
        },
        {
          "output_type": "stream",
          "text": [
            "[0.6286086594223741, -0.18970166409157724, -1.3332164993803988, -3.3931756587764434, -7.480062720109286, -15.653272780206276, -inf, -inf, -inf, -inf, -inf, -inf, -inf, -inf, -inf, -inf, -inf, -inf, -inf, -inf, -inf, -inf, -inf, -inf, -inf, -inf, -inf, -inf, -inf, -inf, -inf, -inf, -inf, -inf, -inf, -inf, -inf, -inf, -inf, -inf, -inf, -inf, -inf, -inf, -inf, -inf, -inf, -inf, -inf, -inf, -inf, -inf, -inf, -inf, -inf, -inf, -inf, -inf, -inf, -inf, -inf, -inf, -inf, -inf, -inf, -inf, -inf, -inf, -inf, -inf, -inf, -inf, -inf, -inf, -inf, -inf, -inf, -inf, -inf, -inf, -inf, -inf, -inf, -inf, -inf, -inf, -inf, -inf, -inf, -inf, -inf, -inf, -inf, -inf, -inf, -inf, -inf, -inf, -inf, -inf]\n"
          ],
          "name": "stdout"
        }
      ]
    },
    {
      "cell_type": "markdown",
      "metadata": {
        "deletable": false,
        "editable": false,
        "nbgrader": {
          "cell_type": "markdown",
          "checksum": "c4d8c23c1ec39e503217971bf3f2a5e8",
          "grade": false,
          "grade_id": "cell-f588bf8c5619986c",
          "locked": true,
          "schema_version": 3,
          "solution": false,
          "task": false
        },
        "id": "0BefQ9QdMk4j"
      },
      "source": [
        "# Часть II. Модифицированный метод Ньютона для кратных корней.\n",
        "\n",
        "Рассмотрим функцию, имеющую кратный корень (например, $f(x) = (x^2 - 1)^2$). Реализуйте модифицированную итерацию Ньютона, \n",
        "\n",
        "$$\n",
        "x_{n+1} = x_{n} - m \\frac{f(x_n)}{f'(x_n)}\n",
        "$$"
      ]
    },
    {
      "cell_type": "code",
      "metadata": {
        "deletable": false,
        "nbgrader": {
          "cell_type": "code",
          "checksum": "585d03c9ede970d8b84d11324180b5ab",
          "grade": false,
          "grade_id": "cell-2f641d195eae18f0",
          "locked": false,
          "schema_version": 3,
          "solution": true,
          "task": false
        },
        "id": "VvMPX17cMk4k"
      },
      "source": [
        "def mod_newton(f, fder, x0, m, eps=1e-5, maxiter=100):\n",
        "    \"\"\"Нахождение корней $f(x) = 0$ через итерации Ньютона.\n",
        "    \n",
        "    Parameters\n",
        "    ----------\n",
        "    f : callable\n",
        "        Функция, корни которой мы хотим найти.\n",
        "    fder : callable\n",
        "        Производная `f`.\n",
        "    x0 : float\n",
        "        Начальное приближение итераций Ньютона.\n",
        "    eps : float\n",
        "        Заданная точность. \n",
        "        Алгоритм прекращает работу когда расстояние между последовательными приближениями меньше `eps`.\n",
        "        По умолчанию 1e-5.\n",
        "    maxiter : int\n",
        "        Максимальное число итераций (по умолчанию 100).\n",
        "        Алгоритм прекращается, когда число итераций достигает `maxiter`.\n",
        "        Этот параметр нужен лишь для преcдотвращения бесконечного зацикливания.\n",
        "    \n",
        "    Returns\n",
        "    -------\n",
        "    x : float\n",
        "        Найденное приближение к корню.\n",
        "    niter : int\n",
        "        Количество итераций.\n",
        "    \"\"\"\n",
        "    it = 0\n",
        "    x = x0 - m*f(x0)/fder(x0)\n",
        "\n",
        "    while it < maxiter:\n",
        "        if (np.abs(x - x0) < eps):\n",
        "          break\n",
        "        x0 = x\n",
        "        x = x0 - m * f(x0)/fder(x0)\n",
        "        it += 1\n",
        "    return x, it"
      ],
      "execution_count": 133,
      "outputs": []
    },
    {
      "cell_type": "code",
      "metadata": {
        "deletable": false,
        "editable": false,
        "nbgrader": {
          "cell_type": "code",
          "checksum": "60aa61993eb13e346d46721bf2f4e0db",
          "grade": true,
          "grade_id": "cell-d2c8d42721e39f15",
          "locked": true,
          "points": 5,
          "schema_version": 3,
          "solution": false,
          "task": false
        },
        "id": "liPf11uQMk4k"
      },
      "source": [
        "for m in [1, 2, 3, 4, 5, 6]:\n",
        "    xx, nit = mod_newton(lambda x: (x**2 - 1)**4,\n",
        "                         lambda x: 4*(x**2 - 1)**3 * 2 * x,\n",
        "                         x0=2, m=m, maxiter=10000, eps=1e-9)\n",
        "    assert_allclose(xx, 1.0, atol=1e-8)\n",
        "    "
      ],
      "execution_count": 134,
      "outputs": []
    },
    {
      "cell_type": "markdown",
      "metadata": {
        "deletable": false,
        "editable": false,
        "nbgrader": {
          "cell_type": "markdown",
          "checksum": "e23163e7ecd9cd6453bcc7f992765a8c",
          "grade": false,
          "grade_id": "cell-6cfe913974c653c8",
          "locked": true,
          "schema_version": 3,
          "solution": false,
          "task": false
        },
        "id": "agthbl6eMk4l"
      },
      "source": [
        "Используйте модифицированную итерацию Ньютона для функции $f(x) = (x^2 - 1)^2$ со значениями  $m= 1, 2, 3, 4, 5, 6$. Сколько итераций требуется для достижения сходимости с фиксированным значением $\\epsilon$? Согласуются ли ваши наблюдения с предсказанием о квадратичной сходимости метода при значении $m$ равном кратности корня, и линейной сходимости для остальных значений $m$?"
      ]
    },
    {
      "cell_type": "markdown",
      "metadata": {
        "deletable": false,
        "editable": false,
        "nbgrader": {
          "cell_type": "markdown",
          "checksum": "325f9fbffa5acefb7e01e03356c1d72a",
          "grade": false,
          "grade_id": "cell-8e82e12fb5659e3b",
          "locked": true,
          "points": 5,
          "schema_version": 3,
          "solution": false,
          "task": true
        },
        "id": "-dcTfvn7Mk4l"
      },
      "source": [
        "### Your code here."
      ]
    },
    {
      "cell_type": "code",
      "metadata": {
        "colab": {
          "base_uri": "https://localhost:8080/"
        },
        "id": "X9fp4iSfMk4m",
        "outputId": "f4a0fa21-f9d9-4922-fc74-8f17258c9721"
      },
      "source": [
        "for m in [1, 2, 3, 4, 5, 6]:\n",
        "    xx, nit = mod_newton(lambda x: (x**2 - 1)**2,\n",
        "                         lambda x: 2*(x**2 - 1) * 2 * x,\n",
        "                         x0=2, m=m, maxiter=10000)\n",
        "    print(m, \": iter = \", nit, \", x = \", xx)"
      ],
      "execution_count": 135,
      "outputs": [
        {
          "output_type": "stream",
          "text": [
            "1 : iter =  17 , x =  1.0000078296573287\n",
            "2 : iter =  4 , x =  1.000000000000001\n",
            "3 : iter =  16 , x =  0.9999978588127855\n",
            "4 : iter =  10000 , x =  0.5\n",
            "5 : iter =  10000 , x =  12.104453186721484\n",
            "6 : iter =  10000 , x =  1.15923327683425\n"
          ],
          "name": "stdout"
        }
      ]
    },
    {
      "cell_type": "markdown",
      "metadata": {
        "deletable": false,
        "editable": false,
        "nbgrader": {
          "cell_type": "markdown",
          "checksum": "02628d52dcb8ef3318c72184cbba297e",
          "grade": false,
          "grade_id": "cell-afcddb4086fe5494",
          "locked": true,
          "schema_version": 3,
          "solution": false,
          "task": false
        },
        "id": "v2qYVb4mMk4n"
      },
      "source": [
        "# Часть III. Метод Ньютона для системы нелинейных уравнений."
      ]
    },
    {
      "cell_type": "markdown",
      "metadata": {
        "deletable": false,
        "editable": false,
        "nbgrader": {
          "cell_type": "markdown",
          "checksum": "e4f5f4089635cba3d6d371acc61386ac",
          "grade": false,
          "grade_id": "cell-43a22a68039359f3",
          "locked": true,
          "schema_version": 3,
          "solution": false,
          "task": false
        },
        "id": "W78RphBpMk4n"
      },
      "source": [
        "Напишите алгоритм, который выполняет итерации Ньютона для заданной системы нелинейных уравнений $\\vec{f}(x) = 0$ с известной матрицей Якоби $J(x)$. Ваша функция должна находить корни вектор-функции $\\vec{f}(x)$ с заданной точностью $\\epsilon$."
      ]
    },
    {
      "cell_type": "code",
      "metadata": {
        "deletable": false,
        "nbgrader": {
          "cell_type": "code",
          "checksum": "a88f3498536fb36e1ad57b3e077e803f",
          "grade": false,
          "grade_id": "cell-4580b8353412b2d3",
          "locked": false,
          "schema_version": 3,
          "solution": true,
          "task": false
        },
        "id": "qF1VNS7NMk4o"
      },
      "source": [
        "def newton_system(F, jcb, X0, eps=1e-5, maxiter=100):\n",
        "    \"\"\"Нахождение корней $f(x) = 0$ через итерации Ньютона.\n",
        "    \n",
        "    Parameters\n",
        "    ----------\n",
        "    F : callable\n",
        "        Вектор-функция системы, которую мы хотим решить.\n",
        "    jcb : callable\n",
        "        Производная `f`.\n",
        "    X0 : array-like of floats, shape (n,)\n",
        "        Начальное приближение итераций Ньютона.\n",
        "    eps : float\n",
        "        Заданная точность. \n",
        "        Алгоритм прекращает работу когда расстояние между последовательными приближениями меньше `eps`.\n",
        "        По умолчанию 1e-5.\n",
        "    maxiter : int\n",
        "        Максимальное число итераций (по умолчанию 100).\n",
        "        Алгоритм прекращается, когда число итераций достигает `maxiter`.\n",
        "        Этот параметр нужен лишь для предотвращения бесконечного зацикливания.\n",
        "    \n",
        "    Returns\n",
        "    -------\n",
        "    X : array-like of floats, shape (n,)\n",
        "        Найденное приближение к корню.\n",
        "    niter : int\n",
        "        Количество итераций.\n",
        "    \"\"\"\n",
        "    d = np.linalg.solve(jcb(X0), -1*F(X0))\n",
        "    X1 = X0 + d\n",
        "    for i in range(maxiter):\n",
        "        if (np.abs(X1 - X0).all() < eps):\n",
        "          break\n",
        "        X0 = X1\n",
        "        d = np.linalg.solve(jcb(X0), -1*F(X0))\n",
        "        X1 = X0 + d\n",
        "    return X1, i"
      ],
      "execution_count": 136,
      "outputs": []
    },
    {
      "cell_type": "code",
      "metadata": {
        "deletable": false,
        "editable": false,
        "nbgrader": {
          "cell_type": "code",
          "checksum": "e3dcbf89cb6e2b45fa7b1736e185ec03",
          "grade": true,
          "grade_id": "cell-32a522217549fd0c",
          "locked": true,
          "points": 5,
          "schema_version": 3,
          "solution": false,
          "task": false
        },
        "id": "h-EjOVQGMk4o"
      },
      "source": [
        "from numpy.testing import assert_allclose\n",
        "\n",
        "def func(X):\n",
        "    return np.array([X[0]**2 - 2*X[1]**4 + 1, X[0] - X[1]**3 + 1])\n",
        "\n",
        "def jac(X):\n",
        "    return np.array([[2.*X[0], -8.*X[1]**3],\n",
        "                       [1., -3.*X[1]**2]])\n",
        "\n",
        "xx, nit = newton_system(func, jac, np.array([3., 2.]))\n",
        "assert_allclose(xx, np.array([4.02879487, 1.71325223]), atol=1e-5)\n",
        "assert nit < 10\n",
        "\n",
        "xx, nit = newton_system(func, jac, np.asarray([1., 2.]))\n",
        "assert_allclose(xx, np.asarray([-0.35119943,  0.86570596]), atol=1e-5)\n",
        "assert nit < 10\n",
        "\n"
      ],
      "execution_count": 137,
      "outputs": []
    }
  ]
}