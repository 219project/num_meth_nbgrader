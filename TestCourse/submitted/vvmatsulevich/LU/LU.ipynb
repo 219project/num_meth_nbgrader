{
  "nbformat": 4,
  "nbformat_minor": 0,
  "metadata": {
    "kernelspec": {
      "display_name": "Python 3",
      "language": "python",
      "name": "python3"
    },
    "language_info": {
      "codemirror_mode": {
        "name": "ipython",
        "version": 3
      },
      "file_extension": ".py",
      "mimetype": "text/x-python",
      "name": "python",
      "nbconvert_exporter": "python",
      "pygments_lexer": "ipython3",
      "version": "3.8.5"
    },
    "colab": {
      "name": "LU iaandriyanov.ipynb",
      "provenance": []
    }
  },
  "cells": [
    {
      "cell_type": "markdown",
      "metadata": {
        "id": "PXciMRfxC5AK"
      },
      "source": [
        "Before you turn this problem in, make sure everything runs as expected. First, **restart the kernel** (in the menubar, select Kernel$\\rightarrow$Restart) and then **run all cells** (in the menubar, select Cell$\\rightarrow$Run All).\n",
        "\n",
        "Make sure you fill in any place that says `YOUR CODE HERE` or \"YOUR ANSWER HERE\", as well as your name and collaborators below:"
      ]
    },
    {
      "cell_type": "code",
      "metadata": {
        "id": "CrNU9T1-C5AN"
      },
      "source": [
        "NAME = \"Valeriy Matsulevich\"\n",
        "COLLABORATORS = \"\""
      ],
      "execution_count": 2,
      "outputs": []
    },
    {
      "cell_type": "markdown",
      "metadata": {
        "id": "-nWq6P85C5AO"
      },
      "source": [
        "---"
      ]
    },
    {
      "cell_type": "markdown",
      "metadata": {
        "deletable": false,
        "editable": false,
        "nbgrader": {
          "cell_type": "markdown",
          "checksum": "1acdeea1f1f6b8708284099563024d63",
          "grade": false,
          "grade_id": "cell-c94465944d7d67c7",
          "locked": true,
          "schema_version": 3,
          "solution": false,
          "task": false
        },
        "id": "31yTo2TXC5AO"
      },
      "source": [
        "# I. $LU$ - разложение квадратной матрицы"
      ]
    },
    {
      "cell_type": "markdown",
      "metadata": {
        "deletable": false,
        "editable": false,
        "nbgrader": {
          "cell_type": "markdown",
          "checksum": "2891791733c0f344a020919fef4c4ca5",
          "grade": false,
          "grade_id": "cell-eb6000fbe2dd8cb5",
          "locked": true,
          "schema_version": 3,
          "solution": false,
          "task": false
        },
        "id": "TEUikc-3C5AP"
      },
      "source": [
        "\n",
        "\n",
        "Рассмотрим наивную реализацию LU - разложения.\n",
        "\n",
        "Заметим, что мы используем массивы numpy для представления матриц. [Не используйте 'np.matrix'].\n"
      ]
    },
    {
      "cell_type": "code",
      "metadata": {
        "deletable": false,
        "editable": false,
        "nbgrader": {
          "cell_type": "code",
          "checksum": "c59e2e6b26bca2f2ab1aae73a5c75fa3",
          "grade": false,
          "grade_id": "cell-05558de8e4fe3d52",
          "locked": true,
          "schema_version": 3,
          "solution": false,
          "task": false
        },
        "id": "xvCGTClaC5AP"
      },
      "source": [
        "import numpy as np\n",
        "\n",
        "def diy_lu(a):\n",
        "    \"\"\"Создает LU - разложение матрицы `a`.\n",
        "    \n",
        "    Наивное LU - разложение: работает столбец за столбцом, накапливает элементарные треугольные матрицы.\n",
        "    Без выбора главного элемента.\n",
        "    \"\"\"\n",
        "    N = a.shape[0]\n",
        "    \n",
        "    u = a.copy()\n",
        "    L = np.eye(N)\n",
        "    for j in range(N-1):\n",
        "        lam = np.eye(N)\n",
        "        gamma = u[j+1:, j] / u[j, j]\n",
        "        lam[j+1:, j] = -gamma\n",
        "        u = lam @ u\n",
        "\n",
        "        lam[j+1:, j] = gamma\n",
        "        L = L @ lam\n",
        "    return L, u"
      ],
      "execution_count": 3,
      "outputs": []
    },
    {
      "cell_type": "code",
      "metadata": {
        "deletable": false,
        "editable": false,
        "nbgrader": {
          "cell_type": "code",
          "checksum": "c6eb4c5a94231f7ea51b5336e4fcfd84",
          "grade": false,
          "grade_id": "cell-206e605b5fe9746a",
          "locked": true,
          "schema_version": 3,
          "solution": false,
          "task": false
        },
        "colab": {
          "base_uri": "https://localhost:8080/"
        },
        "id": "TdpBg6mvC5AQ",
        "outputId": "3ba424aa-be7e-4ce8-d116-6ee28fc63126"
      },
      "source": [
        "# Теперь сгенерируем матрицу полного ранга и протестируем наивное разложение.\n",
        "import numpy as np\n",
        "\n",
        "N = 6\n",
        "a = np.zeros((N, N), dtype=float)\n",
        "for i in range(N):\n",
        "    for j in range(N):\n",
        "        a[i, j] = 3. / (0.6*i*j + 1)\n",
        "\n",
        "L,U = diy_lu(a)\n",
        "\n",
        "np.linalg.matrix_rank(a)"
      ],
      "execution_count": 4,
      "outputs": [
        {
          "output_type": "execute_result",
          "data": {
            "text/plain": [
              "6"
            ]
          },
          "metadata": {
            "tags": []
          },
          "execution_count": 4
        }
      ]
    },
    {
      "cell_type": "code",
      "metadata": {
        "deletable": false,
        "editable": false,
        "nbgrader": {
          "cell_type": "code",
          "checksum": "73ee5a80924774795bacb6353701b1f2",
          "grade": false,
          "grade_id": "cell-776c713bbc30f2ad",
          "locked": true,
          "schema_version": 3,
          "solution": false,
          "task": false
        },
        "id": "IEP8TPp5C5AR"
      },
      "source": [
        "# Настройка вывода чисел с плавающей точкой для большей ясности\n",
        "np.set_printoptions(precision=3)"
      ],
      "execution_count": 5,
      "outputs": []
    },
    {
      "cell_type": "code",
      "metadata": {
        "deletable": false,
        "editable": false,
        "nbgrader": {
          "cell_type": "code",
          "checksum": "21866e0dc99b98bc726156b46b2e53b6",
          "grade": false,
          "grade_id": "cell-834568ce33f5799c",
          "locked": true,
          "schema_version": 3,
          "solution": false,
          "task": false
        },
        "colab": {
          "base_uri": "https://localhost:8080/"
        },
        "id": "E7smyZ4LC5AR",
        "outputId": "f75c4676-680c-4ac1-c6fa-54f716479062"
      },
      "source": [
        "L, u = diy_lu(a)\n",
        "print(L, \"\\n\")\n",
        "print(u, \"\\n\")\n",
        "\n",
        "# Быстрый тест на адекватность: L @ U должна быть равна изначальной матрице с точностью до ошибок округления.\n",
        "print(a-L@u)"
      ],
      "execution_count": 6,
      "outputs": [
        {
          "output_type": "stream",
          "text": [
            "[[1.    0.    0.    0.    0.    0.   ]\n",
            " [1.    1.    0.    0.    0.    0.   ]\n",
            " [1.    1.455 1.    0.    0.    0.   ]\n",
            " [1.    1.714 1.742 1.    0.    0.   ]\n",
            " [1.    1.882 2.276 2.039 1.    0.   ]\n",
            " [1.    2.    2.671 2.944 2.354 1.   ]] \n",
            "\n",
            "[[ 3.000e+00  3.000e+00  3.000e+00  3.000e+00  3.000e+00  3.000e+00]\n",
            " [ 0.000e+00 -1.125e+00 -1.636e+00 -1.929e+00 -2.118e+00 -2.250e+00]\n",
            " [ 0.000e+00  0.000e+00  2.625e-01  4.574e-01  5.975e-01  7.013e-01]\n",
            " [ 0.000e+00  2.220e-16  0.000e+00 -2.197e-02 -4.480e-02 -6.469e-02]\n",
            " [ 0.000e+00 -4.528e-16  0.000e+00  6.939e-18  8.080e-04  1.902e-03]\n",
            " [ 0.000e+00  4.123e-16  0.000e+00 -1.634e-17  0.000e+00 -1.585e-05]] \n",
            "\n",
            "[[ 0.000e+00  0.000e+00  0.000e+00  0.000e+00  0.000e+00  0.000e+00]\n",
            " [ 0.000e+00  0.000e+00  0.000e+00  0.000e+00  0.000e+00  0.000e+00]\n",
            " [ 0.000e+00  0.000e+00  1.110e-16 -1.110e-16 -1.110e-16  5.551e-17]\n",
            " [ 0.000e+00  0.000e+00 -3.331e-16  2.220e-16  5.551e-17  0.000e+00]\n",
            " [ 0.000e+00  0.000e+00  0.000e+00  1.110e-16  1.665e-16  0.000e+00]\n",
            " [ 0.000e+00  0.000e+00  1.110e-16  2.776e-16 -1.110e-16 -1.110e-16]]\n"
          ],
          "name": "stdout"
        }
      ]
    },
    {
      "cell_type": "markdown",
      "metadata": {
        "deletable": false,
        "editable": false,
        "nbgrader": {
          "cell_type": "markdown",
          "checksum": "90dc4dd0d89212844082a3eb20b0b60b",
          "grade": false,
          "grade_id": "cell-5f461bdf3dab7d0e",
          "locked": true,
          "schema_version": 3,
          "solution": false,
          "task": false
        },
        "id": "qT4pAUk7C5AS"
      },
      "source": [
        "# II. Необходимость выбора главного элемента"
      ]
    },
    {
      "cell_type": "markdown",
      "metadata": {
        "deletable": false,
        "editable": false,
        "nbgrader": {
          "cell_type": "markdown",
          "checksum": "29a95634971fde3baecde4171c1493c3",
          "grade": false,
          "grade_id": "cell-0d14523b9d253a89",
          "locked": true,
          "schema_version": 3,
          "solution": false,
          "task": false
        },
        "id": "c6fNo3mDC5AS"
      },
      "source": [
        "Давайте немного подправим матрицу, изменив в ней один элемент:"
      ]
    },
    {
      "cell_type": "code",
      "metadata": {
        "deletable": false,
        "editable": false,
        "nbgrader": {
          "cell_type": "code",
          "checksum": "637d91a18a4afd8a6908d84f82aa1698",
          "grade": false,
          "grade_id": "cell-d6999ec9614fc180",
          "locked": true,
          "schema_version": 3,
          "solution": false,
          "task": false
        },
        "colab": {
          "base_uri": "https://localhost:8080/"
        },
        "id": "wwfHG1tWC5AT",
        "outputId": "9ba964a1-c17b-41eb-8634-b4497b234593"
      },
      "source": [
        "a1 = a.copy()\n",
        "a1[1, 1] = 3\n",
        "print(a1)"
      ],
      "execution_count": 7,
      "outputs": [
        {
          "output_type": "stream",
          "text": [
            "[[3.    3.    3.    3.    3.    3.   ]\n",
            " [3.    3.    1.364 1.071 0.882 0.75 ]\n",
            " [3.    1.364 0.882 0.652 0.517 0.429]\n",
            " [3.    1.071 0.652 0.469 0.366 0.3  ]\n",
            " [3.    0.882 0.517 0.366 0.283 0.231]\n",
            " [3.    0.75  0.429 0.3   0.231 0.188]]\n"
          ],
          "name": "stdout"
        }
      ]
    },
    {
      "cell_type": "markdown",
      "metadata": {
        "deletable": false,
        "editable": false,
        "nbgrader": {
          "cell_type": "markdown",
          "checksum": "fb3e20d42ec7f924e94b0f957b78cf61",
          "grade": false,
          "grade_id": "cell-7a53534efcebc6b3",
          "locked": true,
          "schema_version": 3,
          "solution": false,
          "task": false
        },
        "id": "VGF75LTFC5AT"
      },
      "source": [
        "Результирующая матрица имеет полный ранг, но наивное LU-разложение не работает."
      ]
    },
    {
      "cell_type": "code",
      "metadata": {
        "deletable": false,
        "editable": false,
        "nbgrader": {
          "cell_type": "code",
          "checksum": "d14381e7c77405237c393b160cd2aa7d",
          "grade": false,
          "grade_id": "cell-19ebbd11505a4df5",
          "locked": true,
          "schema_version": 3,
          "solution": false,
          "task": false
        },
        "colab": {
          "base_uri": "https://localhost:8080/"
        },
        "id": "_RkXDZucC5AU",
        "outputId": "abea5d7b-17e3-4603-b126-75acbd8400b7"
      },
      "source": [
        "np.linalg.matrix_rank(a1)"
      ],
      "execution_count": 8,
      "outputs": [
        {
          "output_type": "execute_result",
          "data": {
            "text/plain": [
              "6"
            ]
          },
          "metadata": {
            "tags": []
          },
          "execution_count": 8
        }
      ]
    },
    {
      "cell_type": "code",
      "metadata": {
        "deletable": false,
        "editable": false,
        "nbgrader": {
          "cell_type": "code",
          "checksum": "c15ff1619d0bbdc8137bd73a8a4e7882",
          "grade": false,
          "grade_id": "cell-38b248ff53e6f15e",
          "locked": true,
          "schema_version": 3,
          "solution": false,
          "task": false
        },
        "colab": {
          "base_uri": "https://localhost:8080/"
        },
        "id": "I8CUQ5XHC5AV",
        "outputId": "6ad2bb28-8158-448b-a713-0dadcad642d1"
      },
      "source": [
        "l, u = diy_lu(a1)\n",
        "\n",
        "print(l, u, sep='\\n')"
      ],
      "execution_count": 9,
      "outputs": [
        {
          "output_type": "stream",
          "text": [
            "[[nan nan nan nan nan nan]\n",
            " [nan nan nan nan nan nan]\n",
            " [nan nan nan nan nan nan]\n",
            " [nan nan nan nan nan nan]\n",
            " [nan nan nan nan nan nan]\n",
            " [nan nan nan nan nan nan]]\n",
            "[[nan nan nan nan nan nan]\n",
            " [nan nan nan nan nan nan]\n",
            " [nan nan nan nan nan nan]\n",
            " [nan nan nan nan nan nan]\n",
            " [nan nan nan nan nan nan]\n",
            " [nan nan nan nan nan nan]]\n"
          ],
          "name": "stdout"
        },
        {
          "output_type": "stream",
          "text": [
            "/usr/local/lib/python3.6/dist-packages/ipykernel_launcher.py:15: RuntimeWarning: divide by zero encountered in true_divide\n",
            "  from ipykernel import kernelapp as app\n",
            "/usr/local/lib/python3.6/dist-packages/ipykernel_launcher.py:17: RuntimeWarning: invalid value encountered in matmul\n",
            "/usr/local/lib/python3.6/dist-packages/ipykernel_launcher.py:20: RuntimeWarning: invalid value encountered in matmul\n",
            "/usr/local/lib/python3.6/dist-packages/ipykernel_launcher.py:15: RuntimeWarning: invalid value encountered in true_divide\n",
            "  from ipykernel import kernelapp as app\n"
          ],
          "name": "stderr"
        }
      ]
    },
    {
      "cell_type": "markdown",
      "metadata": {
        "deletable": false,
        "editable": false,
        "nbgrader": {
          "cell_type": "markdown",
          "checksum": "d0480fa86f7e10ff6c76f9e551962a47",
          "grade": false,
          "grade_id": "cell-bc8216fec2166c04",
          "locked": true,
          "schema_version": 3,
          "solution": false,
          "task": false
        },
        "id": "KDxyFxo_C5AV"
      },
      "source": [
        "### Тест II.1\n",
        "\n",
        "Для того, чтобы наивное LU - разложение работало необходимо чтобы все лидирующие миноры матрицы были отличны от нуля. Проверьте, выполнено ли это требование для двух матриц a и a1."
      ]
    },
    {
      "cell_type": "code",
      "metadata": {
        "deletable": false,
        "nbgrader": {
          "cell_type": "code",
          "checksum": "52cda027b54c7d2d0591d924f4d012ea",
          "grade": false,
          "grade_id": "cell-cd7f666a9fa51d35",
          "locked": false,
          "schema_version": 3,
          "solution": true,
          "task": false
        },
        "id": "SnRVA1zHC5AW"
      },
      "source": [
        "def minor(a):\n",
        "    ''' Check if all leading minors are non-zero.\n",
        "    \n",
        "    Parameters\n",
        "    ----------\n",
        "    a : np.array\n",
        "        2D array representing the square matrix\n",
        "    \n",
        "    Returns\n",
        "    -------\n",
        "    answer : bool\n",
        "        True if all leading minors are non-zero\n",
        "    '''\n",
        "    # YOUR CODE HERE\n",
        "    for i in range(N):\n",
        "        c = a[:i+1,:i+1]\n",
        "        if np.linalg.det(c) == 0:\n",
        "            return False\n",
        "    return True\n",
        "    raise NotImplementedError()"
      ],
      "execution_count": 1,
      "outputs": []
    },
    {
      "cell_type": "code",
      "metadata": {
        "deletable": false,
        "editable": false,
        "nbgrader": {
          "cell_type": "code",
          "checksum": "5fb1ffbfd1da8aaad4b1bb2db2c91b25",
          "grade": true,
          "grade_id": "cell-212d71a3e76aea58",
          "locked": true,
          "points": 2,
          "schema_version": 3,
          "solution": false,
          "task": false
        },
        "id": "tf4WSay9C5AX"
      },
      "source": [
        "assert minor(a)==True\n",
        "assert minor(a1)==False"
      ],
      "execution_count": 10,
      "outputs": []
    },
    {
      "cell_type": "markdown",
      "metadata": {
        "deletable": false,
        "editable": false,
        "nbgrader": {
          "cell_type": "markdown",
          "checksum": "e755c0e186a7bf3d7061c786bda53250",
          "grade": false,
          "grade_id": "cell-6c5d624065287d6b",
          "locked": true,
          "schema_version": 3,
          "solution": false,
          "task": false
        },
        "id": "ro2nhE98C5AX"
      },
      "source": [
        "### Тест II.2\n",
        "\n",
        "Модифицируйте алгоритм diy_lu, чтобы осуществлять выбор главного элемента в столбцах. Для контроля выбора можете использовать матрицу перестановок или массив замен.\n",
        "Напишите функцию, воссоздающую изначальную матрицу из разложения. Протестируйте свой алгоритм на матрицах a и a1."
      ]
    },
    {
      "cell_type": "code",
      "metadata": {
        "deletable": false,
        "nbgrader": {
          "cell_type": "code",
          "checksum": "20772ccf33cd71cf4be281f4944864db",
          "grade": false,
          "grade_id": "cell-703a27f2e76339e7",
          "locked": false,
          "schema_version": 3,
          "solution": true,
          "task": false
        },
        "id": "nPlmiKxBC5AY"
      },
      "source": [
        "def diy_lu_mod(a):\n",
        "    '''Perform pivoted LU factorization of the input matrix. \n",
        "    \n",
        "    Parameters\n",
        "    ----------\n",
        "    a : np.array\n",
        "        2D array representing a square matrix with float entries\n",
        "       \n",
        "    Returns\n",
        "    -------\n",
        "    P, L, U : ndarrays\n",
        "        factors. Here P is a permutation matrix, L is lower triangular\n",
        "        with unit diagonal elements, and U upper triangular.\n",
        "    '''\n",
        "    # YOUR CODE HERE\n",
        "    N = a.shape[0]\n",
        "    u = a.copy()\n",
        "    L, P = np.eye(N), np.eye(N)\n",
        "    # loop \n",
        "    for j in range(N-1):\n",
        "        l, pivot = np.eye(N), np.eye(N)\n",
        "        row = np.argmax(abs(u[j:, j])) + j \n",
        "        if row != j:   \n",
        "            pivot[[j, row]] = pivot[[row, j]]\n",
        "            P = pivot @ P \n",
        "            u = pivot @ u\n",
        "            L = pivot @ L\n",
        "\n",
        "        g = u[j+1:, j] / u[j, j]\n",
        "        l[j+1:, j] = -g\n",
        "        u = l @ u\n",
        "        L = l @ L\n",
        "    \n",
        "    L = P @ (np.linalg.inv(L))\n",
        "    P = np.transpose(P)\n",
        "    return P, L, u\n",
        "    raise NotImplementedError()"
      ],
      "execution_count": 14,
      "outputs": []
    },
    {
      "cell_type": "code",
      "metadata": {
        "deletable": false,
        "editable": false,
        "nbgrader": {
          "cell_type": "code",
          "checksum": "8424c0b634f4adabb6ceb7e5f3ca9a9b",
          "grade": true,
          "grade_id": "cell-eacc7aa962410524",
          "locked": true,
          "points": 8,
          "schema_version": 3,
          "solution": false,
          "task": false
        },
        "id": "IMZh8ndyC5AZ"
      },
      "source": [
        "P, L, U = diy_lu_mod(a)\n",
        "P1, L1, U1 = diy_lu_mod(a1)\n",
        "\n",
        "from numpy.testing import assert_allclose\n",
        "assert_allclose(a, P @ L @ U, atol=1e-10)\n",
        "assert_allclose(a1, P1 @ L1 @ U1, atol=1e-10 )\n"
      ],
      "execution_count": 15,
      "outputs": []
    }
  ]
}