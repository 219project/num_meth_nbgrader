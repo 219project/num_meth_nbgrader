{
 "cells": [
  {
   "cell_type": "markdown",
   "metadata": {
    "id": "Lu9kU0os79CC"
   },
   "source": [
    "Before you turn this problem in, make sure everything runs as expected. First, **restart the kernel** (in the menubar, select Kernel$\\rightarrow$Restart) and then **run all cells** (in the menubar, select Cell$\\rightarrow$Run All).\n",
    "\n",
    "Make sure you fill in any place that says `YOUR CODE HERE` or \"YOUR ANSWER HERE\", as well as your name and collaborators below:"
   ]
  },
  {
   "cell_type": "code",
   "execution_count": 1,
   "metadata": {
    "executionInfo": {
     "elapsed": 1326,
     "status": "ok",
     "timestamp": 1616953796926,
     "user": {
      "displayName": "Антон Осипов",
      "photoUrl": "",
      "userId": "09503516511860138559"
     },
     "user_tz": -180
    },
    "id": "Rn6ncd5B79CI"
   },
   "outputs": [],
   "source": [
    "NAME = \"Антон Осипов\"\n",
    "COLLABORATORS = \"\""
   ]
  },
  {
   "cell_type": "markdown",
   "metadata": {
    "id": "f3wsHH9x79CJ"
   },
   "source": [
    "---"
   ]
  },
  {
   "cell_type": "code",
   "execution_count": 2,
   "metadata": {
    "deletable": false,
    "editable": false,
    "executionInfo": {
     "elapsed": 874,
     "status": "ok",
     "timestamp": 1616953798687,
     "user": {
      "displayName": "Антон Осипов",
      "photoUrl": "",
      "userId": "09503516511860138559"
     },
     "user_tz": -180
    },
    "id": "qCwngk8y79CJ",
    "nbgrader": {
     "cell_type": "code",
     "checksum": "82ecff7a3476ffeb1b53c115df234878",
     "grade": false,
     "grade_id": "cell-ed0e89e39ef5b952",
     "locked": true,
     "schema_version": 3,
     "solution": false,
     "task": false
    }
   },
   "outputs": [],
   "source": [
    "import numpy as np\n",
    "from scipy.linalg import block_diag"
   ]
  },
  {
   "cell_type": "markdown",
   "metadata": {
    "id": "2FbyEWOu79CJ"
   },
   "source": [
    "Рассмотрим систему линейных уравнений, матрица правой части которой является \"ленточной\" и имеет следующую структуру: ненулевые элементы расположены на трех центральных диагонялях и на двух \"крыльях\". Матрицы такой структуры возникают, например, при решении задачи на нахождение электростатического потенциала $\\phi(x, y)$, cоздаваемого двумерным распределением заряда $\\rho(x, y)$ при дискретизации на сетке уравнения Пуассона\n",
    "\n",
    "$$\n",
    "\\Delta \\phi = -4\\pi \\rho\\;.\n",
    "$$\n",
    "\n",
    "(детали см. напр. А.А. Самарский, А.В. Гулин, Численные методы, ч. 3 гл. 1, параграф 1).\n",
    "\n",
    "Размер матрицы растет с уменьшением шага сетки $h$ как $O(1/h^2)$. Таким образом, приходится иметь дело с разреженными матрицами огромного размера.\n",
    "\n",
    "Матрицу `m` создадим следующим образом:"
   ]
  },
  {
   "cell_type": "code",
   "execution_count": 3,
   "metadata": {
    "deletable": false,
    "editable": false,
    "executionInfo": {
     "elapsed": 905,
     "status": "ok",
     "timestamp": 1616953837257,
     "user": {
      "displayName": "Антон Осипов",
      "photoUrl": "",
      "userId": "09503516511860138559"
     },
     "user_tz": -180
    },
    "id": "yq03uqgL79CK",
    "nbgrader": {
     "cell_type": "code",
     "checksum": "49cc83ba22b9baf06a0fd368ebbe0594",
     "grade": false,
     "grade_id": "cell-68787095785b88fa",
     "locked": true,
     "schema_version": 3,
     "solution": false,
     "task": false
    }
   },
   "outputs": [],
   "source": [
    "def lhs_matrix(n):\n",
    "    # Диагональный блок\n",
    "    a = np.zeros((n-1, n-1))\n",
    "\n",
    "    idx = np.arange(n-1)\n",
    "\n",
    "    a[idx, idx] = -4\n",
    "    a[idx[:-1], idx[:-1]+1] = 1\n",
    "    a[idx[1:], idx[1:]-1] = 1\n",
    "\n",
    "    # собираем блочно-диагональную матрицу `m`\n",
    "    m = block_diag(*(a,)*n)\n",
    "\n",
    "    # заполняем \"крылья\"\n",
    "    idx = np.arange(m.shape[0])\n",
    "\n",
    "    m[idx[:-n+1], idx[:-n+1] + n-1] = 1\n",
    "    m[idx[n-1:], idx[n-1:] - n+1] = 1\n",
    "    return m"
   ]
  },
  {
   "cell_type": "code",
   "execution_count": 4,
   "metadata": {
    "colab": {
     "base_uri": "https://localhost:8080/"
    },
    "deletable": false,
    "editable": false,
    "executionInfo": {
     "elapsed": 816,
     "status": "ok",
     "timestamp": 1616954003608,
     "user": {
      "displayName": "Антон Осипов",
      "photoUrl": "",
      "userId": "09503516511860138559"
     },
     "user_tz": -180
    },
    "id": "xpz_ig7h79CK",
    "nbgrader": {
     "cell_type": "code",
     "checksum": "02c4a2bb847ac93894a90f04a8bf25f2",
     "grade": false,
     "grade_id": "cell-4c5b195e789944ab",
     "locked": true,
     "schema_version": 3,
     "solution": false,
     "task": false
    },
    "outputId": "19a15c79-9596-4afb-9409-c3a162a4a552"
   },
   "outputs": [
    {
     "name": "stdout",
     "output_type": "stream",
     "text": [
      "[[-4.  1.  0.  0.  1.  0.  0.  0.  0.  0.  0.  0.  0.  0.  0.  0.  0.  0.  0.  0.]\n",
      " [ 1. -4.  1.  0.  0.  1.  0.  0.  0.  0.  0.  0.  0.  0.  0.  0.  0.  0.  0.  0.]\n",
      " [ 0.  1. -4.  1.  0.  0.  1.  0.  0.  0.  0.  0.  0.  0.  0.  0.  0.  0.  0.  0.]\n",
      " [ 0.  0.  1. -4.  0.  0.  0.  1.  0.  0.  0.  0.  0.  0.  0.  0.  0.  0.  0.  0.]\n",
      " [ 1.  0.  0.  0. -4.  1.  0.  0.  1.  0.  0.  0.  0.  0.  0.  0.  0.  0.  0.  0.]\n",
      " [ 0.  1.  0.  0.  1. -4.  1.  0.  0.  1.  0.  0.  0.  0.  0.  0.  0.  0.  0.  0.]\n",
      " [ 0.  0.  1.  0.  0.  1. -4.  1.  0.  0.  1.  0.  0.  0.  0.  0.  0.  0.  0.  0.]\n",
      " [ 0.  0.  0.  1.  0.  0.  1. -4.  0.  0.  0.  1.  0.  0.  0.  0.  0.  0.  0.  0.]\n",
      " [ 0.  0.  0.  0.  1.  0.  0.  0. -4.  1.  0.  0.  1.  0.  0.  0.  0.  0.  0.  0.]\n",
      " [ 0.  0.  0.  0.  0.  1.  0.  0.  1. -4.  1.  0.  0.  1.  0.  0.  0.  0.  0.  0.]\n",
      " [ 0.  0.  0.  0.  0.  0.  1.  0.  0.  1. -4.  1.  0.  0.  1.  0.  0.  0.  0.  0.]\n",
      " [ 0.  0.  0.  0.  0.  0.  0.  1.  0.  0.  1. -4.  0.  0.  0.  1.  0.  0.  0.  0.]\n",
      " [ 0.  0.  0.  0.  0.  0.  0.  0.  1.  0.  0.  0. -4.  1.  0.  0.  1.  0.  0.  0.]\n",
      " [ 0.  0.  0.  0.  0.  0.  0.  0.  0.  1.  0.  0.  1. -4.  1.  0.  0.  1.  0.  0.]\n",
      " [ 0.  0.  0.  0.  0.  0.  0.  0.  0.  0.  1.  0.  0.  1. -4.  1.  0.  0.  1.  0.]\n",
      " [ 0.  0.  0.  0.  0.  0.  0.  0.  0.  0.  0.  1.  0.  0.  1. -4.  0.  0.  0.  1.]\n",
      " [ 0.  0.  0.  0.  0.  0.  0.  0.  0.  0.  0.  0.  1.  0.  0.  0. -4.  1.  0.  0.]\n",
      " [ 0.  0.  0.  0.  0.  0.  0.  0.  0.  0.  0.  0.  0.  1.  0.  0.  1. -4.  1.  0.]\n",
      " [ 0.  0.  0.  0.  0.  0.  0.  0.  0.  0.  0.  0.  0.  0.  1.  0.  0.  1. -4.  1.]\n",
      " [ 0.  0.  0.  0.  0.  0.  0.  0.  0.  0.  0.  0.  0.  0.  0.  1.  0.  0.  1. -4.]]\n"
     ]
    }
   ],
   "source": [
    "m = lhs_matrix(5)\n",
    "\n",
    "with np.printoptions(linewidth=99):\n",
    "    print(m)"
   ]
  },
  {
   "cell_type": "code",
   "execution_count": 5,
   "metadata": {
    "colab": {
     "base_uri": "https://localhost:8080/",
     "height": 292
    },
    "deletable": false,
    "editable": false,
    "executionInfo": {
     "elapsed": 824,
     "status": "ok",
     "timestamp": 1616954008916,
     "user": {
      "displayName": "Антон Осипов",
      "photoUrl": "",
      "userId": "09503516511860138559"
     },
     "user_tz": -180
    },
    "id": "odJypp1X79CK",
    "nbgrader": {
     "cell_type": "code",
     "checksum": "d1c92e9be65ac427184fdae9935f7d8f",
     "grade": false,
     "grade_id": "cell-26d617a08fa36eb1",
     "locked": true,
     "schema_version": 3,
     "solution": false,
     "task": false
    },
    "outputId": "57827b24-8ef4-4de4-f7f7-686f5fb94345"
   },
   "outputs": [
    {
     "data": {
      "text/plain": [
       "<matplotlib.image.AxesImage at 0x7fb96b11f250>"
      ]
     },
     "execution_count": 5,
     "metadata": {},
     "output_type": "execute_result"
    },
    {
     "data": {
      "image/png": "[encoded data removed]",
      "text/plain": [
       "<Figure size 288x288 with 1 Axes>"
      ]
     },
     "metadata": {
      "needs_background": "light"
     },
     "output_type": "display_data"
    }
   ],
   "source": [
    "import matplotlib.pyplot as plt\n",
    "plt.matshow(m)"
   ]
  },
  {
   "cell_type": "markdown",
   "metadata": {
    "deletable": false,
    "editable": false,
    "id": "T8qkrF3V79CL",
    "nbgrader": {
     "cell_type": "markdown",
     "checksum": "c43ce232bdd094d2d8787200e82cd200",
     "grade": false,
     "grade_id": "cell-0810641c405cedb0",
     "locked": true,
     "schema_version": 3,
     "solution": false,
     "task": false
    }
   },
   "source": [
    "Зададим вектор правой части системы $b$, символизирующий точечный заряд в центре:"
   ]
  },
  {
   "cell_type": "code",
   "execution_count": 6,
   "metadata": {
    "deletable": false,
    "editable": false,
    "executionInfo": {
     "elapsed": 806,
     "status": "ok",
     "timestamp": 1616954044286,
     "user": {
      "displayName": "Антон Осипов",
      "photoUrl": "",
      "userId": "09503516511860138559"
     },
     "user_tz": -180
    },
    "id": "msP6ES5W79CL",
    "nbgrader": {
     "cell_type": "code",
     "checksum": "2ee23b7e4631364aa0def6e9025de5fe",
     "grade": false,
     "grade_id": "cell-bdf75cbde3d40c9b",
     "locked": true,
     "schema_version": 3,
     "solution": false,
     "task": false
    }
   },
   "outputs": [],
   "source": [
    "b = np.zeros(m.shape[0])\n",
    "b[m.shape[0]//2] = -1"
   ]
  },
  {
   "cell_type": "markdown",
   "metadata": {
    "deletable": false,
    "editable": false,
    "id": "nMdGtF9179CL",
    "nbgrader": {
     "cell_type": "markdown",
     "checksum": "4818e389f558693d56e6bff7518c7d0d",
     "grade": false,
     "grade_id": "cell-3d07f62eb12bf684",
     "locked": true,
     "schema_version": 3,
     "solution": false,
     "task": false
    }
   },
   "source": [
    "Составьте функцию, вычисляющую решение системы уравнений $m x = b$ **методом Зейделя** с заданной точностью $\\epsilon$.\n",
    "\n",
    "Не пользуйтесь функциями `np.linalg.solve`, `np.linalg.inv` и т.п. Обратите внимание на функции `np.triu` и `scipy.linalg.solve_triangular`."
   ]
  },
  {
   "cell_type": "code",
   "execution_count": 7,
   "metadata": {
    "deletable": false,
    "executionInfo": {
     "elapsed": 828,
     "status": "ok",
     "timestamp": 1616955477264,
     "user": {
      "displayName": "Антон Осипов",
      "photoUrl": "",
      "userId": "09503516511860138559"
     },
     "user_tz": -180
    },
    "id": "FOJMaVJS79CM",
    "nbgrader": {
     "cell_type": "code",
     "checksum": "386955466ee6d63226201a37e3c5f0e8",
     "grade": false,
     "grade_id": "cell-d3e0976736f7d3f0",
     "locked": false,
     "schema_version": 3,
     "solution": true,
     "task": false
    }
   },
   "outputs": [],
   "source": [
    "from scipy.linalg import solve_triangular\n",
    "\n",
    "def seidel_solve(m, b, x0, eps=1e-5, maxiter=500):\n",
    "    \"\"\" Solve `m @ x = b` with Seidel iteration.\n",
    "    \n",
    "    Parameters\n",
    "    ----------\n",
    "    m : ndarray, shape (n, n)\n",
    "       Input matrix\n",
    "    b : ndarray, shape (n,)\n",
    "       Right-hand side\n",
    "    x0 : ndarray, shape (n, )\n",
    "       Initial point for the iteration\n",
    "    eps : float, optional\n",
    "       Target accuracy.\n",
    "       Stop iterations when the 2-norm of \n",
    "       `|x_k - x_{k-1}| < eps`\n",
    "    maxiter : int\n",
    "       Maximum allowed number of iterations.\n",
    "       \n",
    "    Returns\n",
    "    -------\n",
    "    x : ndarray, shape (n,)\n",
    "       The approximation to the solution of `m @ x = b`\n",
    "    nit : the number of iterations performed.\n",
    "    \"\"\"\n",
    "    nit = 0\n",
    "    x = np.copy(x0)\n",
    "    LD = np.tril(m)\n",
    "    U = m - LD\n",
    "    while nit < maxiter and np.linalg.norm(m @ x - b) > eps:\n",
    "      x = solve_triangular(LD,- U @ x + b,lower = True)\n",
    "      nit+=1\n",
    "    return x, nit\n",
    "    "
   ]
  },
  {
   "cell_type": "code",
   "execution_count": 8,
   "metadata": {
    "deletable": false,
    "editable": false,
    "executionInfo": {
     "elapsed": 1148,
     "status": "ok",
     "timestamp": 1616955481049,
     "user": {
      "displayName": "Антон Осипов",
      "photoUrl": "",
      "userId": "09503516511860138559"
     },
     "user_tz": -180
    },
    "id": "8hF91bMt79CM",
    "nbgrader": {
     "cell_type": "code",
     "checksum": "d29f856ff1f92073b26c87fccb4d7720",
     "grade": true,
     "grade_id": "cell-8f5b96cfad0e18d7",
     "locked": true,
     "points": 15,
     "schema_version": 3,
     "solution": false,
     "task": false
    }
   },
   "outputs": [],
   "source": [
    "m = lhs_matrix(n=6)\n",
    "b = np.zeros(m.shape[0])\n",
    "b[b.size//2] = 1\n",
    "\n",
    "x0 = np.ones(m.shape[0])\n",
    "x, nit = seidel_solve(m, b, x0)\n",
    "\n",
    "from numpy.testing import assert_allclose\n",
    "assert_allclose(x,\n",
    "                np.linalg.solve(m, b), atol=2e-5)\n",
    "\n",
    "### BEGIN HIDDEN TESTS\n",
    "m = lhs_matrix(n=15)\n",
    "b = np.zeros(m.shape[0])\n",
    "b[b.size//2] = 1\n",
    "\n",
    "ground_truth = np.linalg.solve(m, b)\n",
    "\n",
    "\n",
    "# try stubbing out solve/inv\n",
    "try:\n",
    "    np.linalg.solve = None\n",
    "    np.linalg.inv = None\n",
    "except:\n",
    "    pass\n",
    "\n",
    "x0 = np.ones(m.shape[0])\n",
    "x, nit = seidel_solve(m, b, x0, eps=1e-6, maxiter=1000)\n",
    "\n",
    "assert_allclose(x, ground_truth, atol=5e-6)\n",
    "### END HIDDEN TESTS"
   ]
  },
  {
   "cell_type": "markdown",
   "metadata": {
    "deletable": false,
    "editable": false,
    "id": "W3fMrSoX79CM",
    "nbgrader": {
     "cell_type": "markdown",
     "checksum": "1df4e606a0bc3490f652daf5226d0c33",
     "grade": false,
     "grade_id": "cell-76a3476cfd72af3b",
     "locked": true,
     "schema_version": 3,
     "solution": false,
     "task": false
    }
   },
   "source": [
    "Прокомментируйте зависимость числа итераций, требуемых для достижения заданной точности, от $\\epsilon$. (без оценки)"
   ]
  },
  {
   "cell_type": "code",
   "execution_count": 9,
   "metadata": {
    "colab": {
     "base_uri": "https://localhost:8080/"
    },
    "executionInfo": {
     "elapsed": 553,
     "status": "ok",
     "timestamp": 1616955746922,
     "user": {
      "displayName": "Антон Осипов",
      "photoUrl": "",
      "userId": "09503516511860138559"
     },
     "user_tz": -180
    },
    "id": "s_lYa_lPEoBC",
    "outputId": "abb53958-786b-492e-b8cc-ae3ae4c4d9fc"
   },
   "outputs": [
    {
     "name": "stdout",
     "output_type": "stream",
     "text": [
      "[-0.00413231 -0.00826075 -0.01234755 -0.01628714 -0.01987721 -0.02280934\n",
      " -0.02470519 -0.02522214 -0.02420914 -0.02180262 -0.01833143 -0.0141622\n",
      " -0.00959589 -0.00483522 -0.00826852 -0.01656318 -0.02484233 -0.03292385\n",
      " -0.04041241 -0.046655   -0.05078934 -0.05197425 -0.04981183 -0.04466993\n",
      " -0.03736092 -0.02872152 -0.01938613 -0.00974501 -0.0123786  -0.02488114\n",
      " -0.0375348  -0.05015356 -0.06219365 -0.07260897 -0.07982298 -0.08207376\n",
      " -0.07839407 -0.0697044  -0.05772085 -0.04397684 -0.02948213 -0.01475868\n",
      " -0.01636476 -0.03304803 -0.05026222 -0.06796201 -0.08559976 -0.10176432\n",
      " -0.11381994 -0.11810383 -0.11198637 -0.09803283 -0.07984127 -0.05998292\n",
      " -0.03980688 -0.01980761 -0.02003244 -0.04068407 -0.06250412 -0.0858326\n",
      " -0.11047913 -0.13502874 -0.15558872 -0.16453534 -0.15341485 -0.13059936\n",
      " -0.10362855 -0.07630674 -0.0499549  -0.02466489 -0.02308098 -0.04715174\n",
      " -0.07323768 -0.10238525 -0.13545555 -0.17228292 -0.20897097 -0.23103406\n",
      " -0.20653845 -0.16732128 -0.12776692 -0.09166063 -0.05904111 -0.02889707\n",
      " -0.02513978 -0.05160429 -0.0809097  -0.11501527 -0.156675   -0.20967653\n",
      " -0.27697831 -0.3440916  -0.27438372 -0.2043805  -0.14845727 -0.1035278\n",
      " -0.06565189 -0.0318823  -0.02587389 -0.05321602 -0.08378165 -0.12009123\n",
      " -0.1665528  -0.23277001 -0.34517425 -0.59397046 -0.34252442 -0.22735983\n",
      " -0.15815396 -0.10834148 -0.06815637 -0.03298024 -0.02513979 -0.05160432\n",
      " -0.08090974 -0.11501532 -0.15667506 -0.20967659 -0.27697837 -0.34409166\n",
      " -0.27438377 -0.20438055 -0.14845732 -0.10352784 -0.06565191 -0.03188231\n",
      " -0.02308101 -0.04715179 -0.07323775 -0.10238534 -0.13545565 -0.17228303\n",
      " -0.20897108 -0.23103417 -0.20653856 -0.16732138 -0.12776699 -0.09166069\n",
      " -0.05904115 -0.02889709 -0.02003248 -0.04068414 -0.06250422 -0.08583273\n",
      " -0.11047928 -0.1350289  -0.15558887 -0.16453549 -0.153415   -0.13059949\n",
      " -0.10362866 -0.07630682 -0.04995495 -0.02466492 -0.0163648  -0.03304811\n",
      " -0.05026234 -0.06796215 -0.08559992 -0.1017645  -0.11382011 -0.118104\n",
      " -0.11198654 -0.09803298 -0.07984139 -0.05998302 -0.03980695 -0.01980764\n",
      " -0.01237864 -0.02488122 -0.03753491 -0.0501537  -0.06219381 -0.07260914\n",
      " -0.07982315 -0.08207393 -0.07839423 -0.06970455 -0.05772097 -0.04397694\n",
      " -0.02948219 -0.01475872 -0.00826855 -0.01656324 -0.02484242 -0.03292396\n",
      " -0.04041254 -0.04665514 -0.05078948 -0.05197439 -0.04981197 -0.04467005\n",
      " -0.03736102 -0.02872159 -0.01938618 -0.00974503 -0.00413233 -0.00826079\n",
      " -0.01234761 -0.01628721 -0.01987729 -0.02280942 -0.02470528 -0.02522222\n",
      " -0.02420922 -0.02180269 -0.01833149 -0.01416225 -0.00959592 -0.00483524]\n"
     ]
    }
   ],
   "source": [
    "print(x)"
   ]
  },
  {
   "cell_type": "code",
   "execution_count": 10,
   "metadata": {
    "id": "xJ4AoGQU79CM"
   },
   "outputs": [],
   "source": [
    "## Your code here."
   ]
  },
  {
   "cell_type": "code",
   "execution_count": 11,
   "metadata": {
    "colab": {
     "base_uri": "https://localhost:8080/",
     "height": 282
    },
    "executionInfo": {
     "elapsed": 993,
     "status": "ok",
     "timestamp": 1616955507763,
     "user": {
      "displayName": "Антон Осипов",
      "photoUrl": "",
      "userId": "09503516511860138559"
     },
     "user_tz": -180
    },
    "id": "7BMBSEbp79CN",
    "outputId": "30dece51-811e-436a-acc6-0b1f8e06c011"
   },
   "outputs": [
    {
     "data": {
      "text/plain": [
       "[<matplotlib.lines.Line2D at 0x7fb96a39f810>]"
      ]
     },
     "execution_count": 11,
     "metadata": {},
     "output_type": "execute_result"
    },
    {
     "data": {
      "image/png": "[encoded data removed]",
      "text/plain": [
       "<Figure size 432x288 with 1 Axes>"
      ]
     },
     "metadata": {
      "needs_background": "light"
     },
     "output_type": "display_data"
    }
   ],
   "source": [
    "# Постройте график решения как функцию индекса компоненты вектора. \n",
    "# Прокомментируйте характер зависимости (без оценки).\n",
    "plt.plot(x, 'o-')"
   ]
  },
  {
   "cell_type": "code",
   "execution_count": null,
   "metadata": {
    "id": "ZU6kUq1nDwAz"
   },
   "outputs": [],
   "source": []
  }
 ],
 "metadata": {
  "colab": {
   "name": "SeidelPoisson_aaosipov.ipynb",
   "provenance": [
    {
     "file_id": "1sqARDZKAkomyVfOk41gAoeaf75-jU2X-",
     "timestamp": 1616953774175
    }
   ]
  },
  "kernelspec": {
   "display_name": "Python 3",
   "language": "python",
   "name": "python3"
  },
  "language_info": {
   "codemirror_mode": {
    "name": "ipython",
    "version": 3
   },
   "file_extension": ".py",
   "mimetype": "text/x-python",
   "name": "python",
   "nbconvert_exporter": "python",
   "pygments_lexer": "ipython3",
   "version": "3.7.6"
  }
 },
 "nbformat": 4,
 "nbformat_minor": 0
}
