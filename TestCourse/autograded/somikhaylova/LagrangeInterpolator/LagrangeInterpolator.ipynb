{
 "cells": [
  {
   "cell_type": "markdown",
   "metadata": {
    "id": "NthmeOWeGQ5s"
   },
   "source": [
    "Before you turn this problem in, make sure everything runs as expected. First, **restart the kernel** (in the menubar, select Kernel$\\rightarrow$Restart) and then **run all cells** (in the menubar, select Cell$\\rightarrow$Run All).\n",
    "\n",
    "Make sure you fill in any place that says `YOUR CODE HERE` or \"YOUR ANSWER HERE\", as well as your name and collaborators below:"
   ]
  },
  {
   "cell_type": "code",
   "execution_count": 1,
   "metadata": {
    "execution": {
     "iopub.execute_input": "2021-04-19T11:11:51.788059Z",
     "iopub.status.busy": "2021-04-19T11:11:51.785572Z",
     "iopub.status.idle": "2021-04-19T11:11:51.792901Z",
     "shell.execute_reply": "2021-04-19T11:11:51.790884Z"
    },
    "id": "G1nQH7nNGQ5w"
   },
   "outputs": [],
   "source": [
    "NAME = \"Mikhaylova Sveta\"\n",
    "COLLABORATORS = \"\""
   ]
  },
  {
   "cell_type": "markdown",
   "metadata": {
    "id": "H4T4rGlZGQ5y"
   },
   "source": [
    "---"
   ]
  },
  {
   "cell_type": "markdown",
   "metadata": {
    "deletable": false,
    "editable": false,
    "id": "jQR55niGGQ5z",
    "nbgrader": {
     "cell_type": "markdown",
     "checksum": "233c53446ef795debdf3179ead9a728a",
     "grade": false,
     "grade_id": "cell-af0193379161e7dd",
     "locked": true,
     "schema_version": 3,
     "solution": false,
     "task": false
    }
   },
   "source": [
    "# Интерполяция при помощи полиномов Лагранжа."
   ]
  },
  {
   "cell_type": "code",
   "execution_count": 2,
   "metadata": {
    "deletable": false,
    "execution": {
     "iopub.execute_input": "2021-04-19T11:11:51.800587Z",
     "iopub.status.busy": "2021-04-19T11:11:51.799543Z",
     "iopub.status.idle": "2021-04-19T11:11:51.946730Z",
     "shell.execute_reply": "2021-04-19T11:11:51.945619Z"
    },
    "id": "DahDiyMJGQ5z",
    "nbgrader": {
     "cell_type": "code",
     "checksum": "c209243c82df3a0862e2b45a6e133bbc",
     "grade": false,
     "grade_id": "cell-d459dee4d09527c4",
     "locked": false,
     "schema_version": 3,
     "solution": true,
     "task": false
    }
   },
   "outputs": [],
   "source": [
    "import numpy as np\n",
    "class LagrangeInterpolator:\n",
    "    \"\"\"Lagrange interpolating polynomial.\n",
    "    \n",
    "    Given a set of pairs ``(x_k, y_k)``, construct \n",
    "    a Lagrange polynomial ``f(x)``, such that\n",
    "    \n",
    "    .. math::\n",
    "\n",
    "        f(x_k) = y_k   for k =0, ..., n-1\n",
    "    \n",
    "    Parameters\n",
    "    ----------\n",
    "    xk : array_like, shape(n,)\n",
    "        Abscissas\n",
    "    yk : array_like, shape(n,)\n",
    "        Ordinates\n",
    "    \n",
    "    Attributes\n",
    "    ----------\n",
    "    __call__\n",
    "    \n",
    "    \"\"\"\n",
    "    def __init__(self, xk, yk):\n",
    "        self.xk = np.asarray(xk, dtype=float)\n",
    "        self.yk = np.asarray(yk, dtype=float)\n",
    "        \n",
    "    def __call__(self, x):\n",
    "        \"\"\"Evaluate the interpolator at a given point.\n",
    "        \n",
    "        Parameters\n",
    "        ----------\n",
    "        x : float\n",
    "        \n",
    "        Returns\n",
    "        -------\n",
    "        the value of the interpolator at ``x``.\n",
    "        \"\"\"\n",
    "        def basis(j):\n",
    "            p=1\n",
    "            for m in range(len(self.xk)):\n",
    "                 if m != j:\n",
    "                    p = p*(x - self.xk[m])/(self.xk[j] - self.xk[m])\n",
    "            return p\n",
    "        return sum((self.yk[j]*basis(j)) for j in range(len(self.xk)))\n",
    "        raise NotImplementedError()"
   ]
  },
  {
   "cell_type": "code",
   "execution_count": 3,
   "metadata": {
    "deletable": false,
    "editable": false,
    "execution": {
     "iopub.execute_input": "2021-04-19T11:11:51.957504Z",
     "iopub.status.busy": "2021-04-19T11:11:51.954658Z",
     "iopub.status.idle": "2021-04-19T11:11:51.983832Z",
     "shell.execute_reply": "2021-04-19T11:11:51.982051Z"
    },
    "id": "gx3OvJeUGQ51",
    "nbgrader": {
     "cell_type": "code",
     "checksum": "bcea1ecba91d3cd6618b2556506016de",
     "grade": true,
     "grade_id": "cell-02e34e05d317dfb2",
     "locked": true,
     "points": 5,
     "schema_version": 3,
     "solution": false,
     "task": false
    }
   },
   "outputs": [],
   "source": [
    "def runge_func(x, a=25):\n",
    "    return 1.0 / (1.0 + a*x**2)\n",
    "\n",
    "xx = np.linspace(-2, 2, 21)\n",
    "yy = runge_func(xx)\n",
    "\n",
    "lagr = LagrangeInterpolator(xx, yy)\n",
    "\n",
    "from numpy.testing import assert_allclose\n",
    "\n",
    "assert_allclose(yy,\n",
    "                [lagr(xval) for xval in xx],\n",
    "                atol=1e-14)"
   ]
  },
  {
   "cell_type": "markdown",
   "metadata": {
    "deletable": false,
    "editable": false,
    "id": "LC5W9P9VGQ51",
    "nbgrader": {
     "cell_type": "markdown",
     "checksum": "e7c0d15903d4b1cd34c0580a8b6b37c0",
     "grade": false,
     "grade_id": "cell-7017c4fddb92f038",
     "locked": true,
     "points": 5,
     "schema_version": 3,
     "solution": false,
     "task": true
    }
   },
   "source": [
    "Рассмотрим функцию Рунге $1/(1 + 25x^2)$. Интерполируйте данную функцию на интервале $x\\in [-2, 2]$, используя полиномы Лагранжа степени $m$, где $m=3, 5, 7, 11$. Используйте равномерную сетку. Постройте результат интерполяции вместе с $f(x)$.\n",
    "\n",
    "Повторите предыдущее задание используя узлы Чебышева. Сравните качество интерполяции на равномерной сетке и на узлах Чебышева.\n"
   ]
  },
  {
   "cell_type": "code",
   "execution_count": 4,
   "metadata": {
    "execution": {
     "iopub.execute_input": "2021-04-19T11:11:51.996629Z",
     "iopub.status.busy": "2021-04-19T11:11:51.994319Z",
     "iopub.status.idle": "2021-04-19T11:11:52.644400Z",
     "shell.execute_reply": "2021-04-19T11:11:52.643406Z"
    },
    "id": "rh3e1CAJGQ52"
   },
   "outputs": [
    {
     "data": {
      "text/plain": [
       "[<matplotlib.lines.Line2D at 0x7f74830a8820>]"
      ]
     },
     "execution_count": 1,
     "metadata": {},
     "output_type": "execute_result"
    },
    {
     "data": {
      "image/png": "[encoded data removed]",
      "text/plain": [
       "<Figure size 432x288 with 1 Axes>"
      ]
     },
     "metadata": {
      "needs_background": "light"
     },
     "output_type": "display_data"
    }
   ],
   "source": [
    "import matplotlib.pyplot as plt\n",
    "fig = plt.figure()\n",
    "xx2 = np.linspace(-2, 2, 100)\n",
    "for m in [3, 5, 7, 11]:\n",
    "    xx1 = np.linspace(-2, 2, m)\n",
    "    yy1 = runge_func(xx1)\n",
    "    lagr = LagrangeInterpolator(xx1, yy1)\n",
    "    yy2 = [lagr(xval) for xval in xx2]\n",
    "    plt.plot(xx2, yy2)\n",
    "\n",
    "plt.plot(xx2, runge_func(xx2), '.')\n",
    "#Чем больше степень полинома, тем сильнее граничные отклонения"
   ]
  },
  {
   "cell_type": "code",
   "execution_count": 5,
   "metadata": {
    "execution": {
     "iopub.execute_input": "2021-04-19T11:11:52.712942Z",
     "iopub.status.busy": "2021-04-19T11:11:52.683163Z",
     "iopub.status.idle": "2021-04-19T11:11:52.936008Z",
     "shell.execute_reply": "2021-04-19T11:11:52.934449Z"
    }
   },
   "outputs": [
    {
     "data": {
      "text/plain": [
       "[<matplotlib.lines.Line2D at 0x7f7482803160>]"
      ]
     },
     "execution_count": 1,
     "metadata": {},
     "output_type": "execute_result"
    },
    {
     "data": {
      "image/png": "[encoded data removed]",
      "text/plain": [
       "<Figure size 432x288 with 1 Axes>"
      ]
     },
     "metadata": {
      "needs_background": "light"
     },
     "output_type": "display_data"
    }
   ],
   "source": [
    "def cheb_nodes(n):\n",
    "    k = np.arange(n)\n",
    "    return np.cos((2*k + 1) * np.pi / (2*n+2))\n",
    "\n",
    "fig = plt.plot()\n",
    "for m in [3, 5, 7, 11]:\n",
    "    xx3 = 2 * cheb_nodes(m)\n",
    "    yy3 = runge_func(xx3)\n",
    "    lagr = LagrangeInterpolator(xx3, yy3)\n",
    "    yy2 = [lagr(xval) for xval in xx2]\n",
    "    plt.plot(xx2, yy2)\n",
    "plt.plot(xx2, runge_func(xx2), \".\")\n",
    "#Чем больше степень полинома, тем функция более пологая и похожа на исходную\n",
    "#Интерполяция на узлах Чебышева намного лучше"
   ]
  },
  {
   "cell_type": "code",
   "execution_count": null,
   "metadata": {},
   "outputs": [],
   "source": []
  }
 ],
 "metadata": {
  "colab": {
   "name": "LagrangeInterpolator.ipynb",
   "provenance": []
  },
  "kernelspec": {
   "display_name": "Python 3",
   "language": "python",
   "name": "python3"
  },
  "language_info": {
   "codemirror_mode": {
    "name": "ipython",
    "version": 3
   },
   "file_extension": ".py",
   "mimetype": "text/x-python",
   "name": "python",
   "nbconvert_exporter": "python",
   "pygments_lexer": "ipython3",
   "version": "3.8.5"
  }
 },
 "nbformat": 4,
 "nbformat_minor": 1
}
