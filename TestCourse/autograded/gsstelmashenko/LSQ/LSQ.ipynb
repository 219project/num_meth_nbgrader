{
 "cells": [
  {
   "cell_type": "markdown",
   "metadata": {},
   "source": [
    "Before you turn this problem in, make sure everything runs as expected. First, **restart the kernel** (in the menubar, select Kernel$\\rightarrow$Restart) and then **run all cells** (in the menubar, select Cell$\\rightarrow$Run All).\n",
    "\n",
    "Make sure you fill in any place that says `YOUR CODE HERE` or \"YOUR ANSWER HERE\", as well as your name and collaborators below:"
   ]
  },
  {
   "cell_type": "code",
   "execution_count": 1,
   "metadata": {},
   "outputs": [],
   "source": [
    "NAME = \"\"\n",
    "COLLABORATORS = \"\""
   ]
  },
  {
   "cell_type": "markdown",
   "metadata": {},
   "source": [
    "---"
   ]
  },
  {
   "cell_type": "markdown",
   "metadata": {
    "deletable": false,
    "editable": false,
    "nbgrader": {
     "cell_type": "markdown",
     "checksum": "9dbd3271243e2215bb9e477aecf95841",
     "grade": false,
     "grade_id": "cell-78f75b2228a73d9d",
     "locked": true,
     "schema_version": 3,
     "solution": false,
     "task": false
    }
   },
   "source": [
    "# Метод наименьших квадратов (линейный случай)."
   ]
  },
  {
   "cell_type": "markdown",
   "metadata": {
    "deletable": false,
    "editable": false,
    "nbgrader": {
     "cell_type": "markdown",
     "checksum": "bbd65e859b22126f4eac181e530c5f38",
     "grade": false,
     "grade_id": "cell-a5dbb9bfecbe8783",
     "locked": true,
     "schema_version": 3,
     "solution": false,
     "task": false
    }
   },
   "source": [
    "Рассмотрим функцию $y = f(x)$ определенной набором значений $y_0, y_1, \\cdots, y_n$ в точках $x_0, x_1, \\cdots, x_n$."
   ]
  },
  {
   "cell_type": "code",
   "execution_count": 2,
   "metadata": {
    "deletable": false,
    "editable": false,
    "nbgrader": {
     "cell_type": "code",
     "checksum": "90edf950dece26a9e1e884f4df65c60b",
     "grade": false,
     "grade_id": "cell-f5815a6aff49a678",
     "locked": true,
     "schema_version": 3,
     "solution": false,
     "task": false
    }
   },
   "outputs": [],
   "source": [
    "import numpy as np\n",
    "\n",
    "x = np.asarray([-1, -0.7, -0.43, -0.14, 0.14, 0.43, 0.71, 1, 1.29, 1.57, 1.86, 2.14, 2.43, 2.71, 3])\n",
    "y = np.asarray([-2.25, -0.77, 0.21, 0.44, 0.64, 0.03, -0.22, -0.84, -1.2, -1.03, -0.37, 0.61, 2.67, 5.04, 8.90])\n",
    "\n",
    "rng = np.random.default_rng(123)\n",
    "x += 0.1 * rng.uniform(size=len(x))\n",
    "y += 4 * rng.uniform(size=len(x))"
   ]
  },
  {
   "cell_type": "markdown",
   "metadata": {
    "deletable": false,
    "editable": false,
    "nbgrader": {
     "cell_type": "markdown",
     "checksum": "23b766ee3bd39ececc330949a2ba5a56",
     "grade": false,
     "grade_id": "cell-98a91662e46cdd3a",
     "locked": true,
     "schema_version": 3,
     "solution": false,
     "task": false
    }
   },
   "source": [
    "### I. Найдите многочлен наилучшего приближения,\n",
    "\n",
    "$$\n",
    "P_m(x) = a_0 + a_1 x + \\cdots + a_m x^m\n",
    "$$\n",
    "\n",
    "используя линейный метод наименьших квадратов.Для этого:\n",
    "\n",
    "1. реализуйте алгоритм, создающий  \"design matrix\" `А`, используя $1, x, \\cdots, x^m$ в качестве базисных функций.\n",
    "\n",
    "2. постройте явно нормальную систему уравнений задачи наименьших квадратов при фиксированных значениях $m$.\n",
    "\n",
    "3. решите систему уравнений, чтобы найти коэффициенты $P_m(x)$ для $m = 0, 1, 2, \\dots$. Для решения задач линейной алгебры можете использовать либо библиотечные функции (`numpy.linalg.solve`), либо Вашу реализацию LU - разложение из 1 недели."
   ]
  },
  {
   "cell_type": "code",
   "execution_count": 3,
   "metadata": {
    "deletable": false,
    "nbgrader": {
     "cell_type": "code",
     "checksum": "d0ca7572ac30f14998ab1c7bfb5ae7e3",
     "grade": false,
     "grade_id": "cell-3c5b770ce3dc9362",
     "locked": false,
     "schema_version": 3,
     "solution": true,
     "task": false
    }
   },
   "outputs": [],
   "source": [
    "import numpy as np\n",
    "import matplotlib.pyplot as plt\n",
    "\n",
    "#print(len(x))\n",
    "def design_matrix(x, m):\n",
    "    \"\"\"Construct the design matrix with monomials x**k for k=0..m-1\"\"\"\n",
    "    a = np.zeros((len(x), m))\n",
    "    for i in range(len(x)):\n",
    "        for j in range(m):\n",
    "            a[i][j] = (x[i])**j\n",
    "    #print(a)\n",
    "    return a\n",
    "#design_matrix(x, len(x))        \n",
    "   # raise NotImplementedError()"
   ]
  },
  {
   "cell_type": "code",
   "execution_count": 4,
   "metadata": {
    "deletable": false,
    "editable": false,
    "nbgrader": {
     "cell_type": "code",
     "checksum": "42b9fdd5f57a6548469d233cd074bc6b",
     "grade": true,
     "grade_id": "cell-4eb9827586286964",
     "locked": true,
     "points": 1,
     "schema_version": 3,
     "solution": false,
     "task": false
    }
   },
   "outputs": [],
   "source": [
    "assert design_matrix(x, 3).shape == (len(x), 3)\n",
    "assert design_matrix(x, 11).shape == (len(x), 11)"
   ]
  },
  {
   "cell_type": "code",
   "execution_count": 5,
   "metadata": {
    "deletable": false,
    "nbgrader": {
     "cell_type": "code",
     "checksum": "347c6054c37bd35bf1aa00bf2a6da060",
     "grade": false,
     "grade_id": "cell-ec39ee7d9ada0eb5",
     "locked": false,
     "schema_version": 3,
     "solution": true,
     "task": false
    }
   },
   "outputs": [],
   "source": [
    "def lsq_poly(x, y, m):\n",
    "    \"\"\"Construct the LSQ polynomial of degree `m-1`.\n",
    "    \n",
    "    Parameters\n",
    "    ----------\n",
    "    x : array_like\n",
    "        Sample points\n",
    "    y : array_like\n",
    "        Measured values\n",
    "    m : int\n",
    "        The number of coefficients of the LSQ polynomial\n",
    "        (i.e. the degree of the polynomial is `m-1`)\n",
    "        \n",
    "    Returns\n",
    "    -------\n",
    "    p : callable \n",
    "        np.polynomial.Polynomial instance, representing the LSQ polynomial\n",
    "        \n",
    "    Examples\n",
    "    --------\n",
    "    >>> p = lsq_poly([1, 2, 3], [4, 5, 6], m=2)\n",
    "    >>> p(np.array([1.5, 2.5]))\n",
    "    array([4.5, 5.5])\n",
    "    \n",
    "    \"\"\"\n",
    "    \"\"\"Construct the design matrix with monomials x**k for k=0..m-1\"\"\"\n",
    "    x = np.asarray(x, dtype=float)\n",
    "    y = np.asarray(y, dtype=float)\n",
    "    if x.shape[0] != y.shape[0]:\n",
    "        raise ValueError(\"Expect paired data.\")\n",
    "    if x.shape[0] <= m:\n",
    "        raise ValueError(\"Cannot fit a degree-%s polynomial through %s points\" % (m, x.shape[0]))\n",
    "    \n",
    "    a = np.zeros((len(x), m))\n",
    "    for i in range(len(x)):\n",
    "        for j in range(m):\n",
    "            a[i][j] = (x[i])**j\n",
    "    F = (a.T).dot(a)\n",
    "    F_inv = np.linalg.inv(F)\n",
    "    P = ((F_inv).dot(a.T)).dot(y)\n",
    "    #print(P)\n",
    "    #Pol = np.poly1d(P)\n",
    "    Pol = np.polynomial.Polynomial(P)\n",
    "    #print(Pol)\n",
    "    \n",
    "    #myline = np.linspace(-5, 5, 200)\n",
    "    #mymodel = np.poly1d(P)\n",
    "    #plt.scatter(x, y)\n",
    "    \n",
    "    #plt.plot(myline, mymodel(myline))\n",
    "    \n",
    "    return Pol\n",
    "    #raise NotImplementedError()"
   ]
  },
  {
   "cell_type": "code",
   "execution_count": 6,
   "metadata": {
    "deletable": false,
    "editable": false,
    "nbgrader": {
     "cell_type": "code",
     "checksum": "e66a1bc43cbdb765cc3459fcfd2210dd",
     "grade": true,
     "grade_id": "cell-c690d81357c56b85",
     "locked": true,
     "points": 3,
     "schema_version": 3,
     "solution": false,
     "task": false
    }
   },
   "outputs": [],
   "source": [
    "import pytest\n",
    "with pytest.raises(ValueError):\n",
    "    lsq_poly([1, 2, 3], [1, 2], m=1)\n",
    "\n",
    "with pytest.raises(ValueError):\n",
    "    lsq_poly([1, 2, 3], [1, 2, 3], m=3)\n",
    "    \n",
    "# test that lsq_poly returns a callable object\n",
    "# which support vectorized evaluation\n",
    "p = lsq_poly(x, y, m=3)\n",
    "assert len(p(x)) == len(x)"
   ]
  },
  {
   "cell_type": "markdown",
   "metadata": {
    "deletable": false,
    "editable": false,
    "nbgrader": {
     "cell_type": "markdown",
     "checksum": "4b9c19795e46089c0f215625dbc68ca6",
     "grade": false,
     "grade_id": "cell-c65dcec5ea66dc4f",
     "locked": true,
     "schema_version": 3,
     "solution": false,
     "task": false
    }
   },
   "source": [
    "Вычислите число обусловленности матрицы `A` и матрицы левой части системы нормальных уравнений в зависимости $m$, и напечатайте их на экран.\n",
    "Прокомментируйте полученные результаты."
   ]
  },
  {
   "cell_type": "code",
   "execution_count": 7,
   "metadata": {
    "deletable": false,
    "nbgrader": {
     "cell_type": "code",
     "checksum": "b556951d4736d703e6e1b4e129e14399",
     "grade": false,
     "grade_id": "cell-ede76d4a7cff87d0",
     "locked": false,
     "schema_version": 3,
     "solution": true,
     "task": false
    }
   },
   "outputs": [
    {
     "name": "stdout",
     "output_type": "stream",
     "text": [
      "LEFT cond =  1.0\n",
      "Cond design matrix: 1.0\n",
      "----------------\n",
      "\n",
      "LEFT cond =  6.470306190618083\n",
      "Cond design matrix: 2.5436796556599033\n",
      "----------------\n",
      "\n",
      "LEFT cond =  63.586639271496125\n",
      "Cond design matrix: 7.974123103608077\n",
      "----------------\n",
      "\n",
      "LEFT cond =  1132.7482300049744\n",
      "Cond design matrix: 33.65632525997141\n",
      "----------------\n",
      "\n",
      "LEFT cond =  22266.425291572934\n",
      "Cond design matrix: 149.2193864468274\n",
      "----------------\n",
      "\n",
      "LEFT cond =  502913.211111679\n",
      "Cond design matrix: 709.1637406918765\n",
      "----------------\n",
      "\n"
     ]
    }
   ],
   "source": [
    "for m in range(1, 7):\n",
    "    a = np.zeros((len(x), m))\n",
    "    for i in range(len(x)):\n",
    "        for j in range(m):\n",
    "            a[i][j] = (x[i])**j\n",
    "    F = (a.T).dot(a)\n",
    "    F_inv = np.linalg.inv(F)\n",
    "    P = ((F_inv).dot(a.T)).dot(y)\n",
    "    #P = P.T\n",
    "    #print(\"P=\", P)\n",
    "    #print(design_matrix(x, m))\n",
    "    #b = np.zeros((len(P), 1))\n",
    "    #for i  in range(len(P)):\n",
    "       # for j in range(len(P)):\n",
    "         #   b[i] = P[j]\n",
    "    #print(\"b=\", b)\n",
    "    L = (((design_matrix(x, m).T).dot(design_matrix(x, m))))#.dot(P.transpose())\n",
    "    #print(\"\\n\", L)\n",
    "    L1 = np.outer(L,P) #Left ahndside of equation\n",
    "    print(\"LEFT cond = \", np.linalg.cond(L))\n",
    "    print(\"Cond design matrix:\", np.linalg.cond(design_matrix(x,m)))\n",
    "    print(\"----------------\\n\")\n",
    "#raise NotImplementedError()"
   ]
  },
  {
   "cell_type": "code",
   "execution_count": 8,
   "metadata": {
    "deletable": false,
    "editable": false,
    "nbgrader": {
     "cell_type": "code",
     "checksum": "14dc6db78e0dd91c815887a0b68f9bb5",
     "grade": true,
     "grade_id": "cell-a57fd1f730a5ca62",
     "locked": true,
     "points": 1,
     "schema_version": 3,
     "solution": false,
     "task": false
    }
   },
   "outputs": [],
   "source": [
    "# This cell is a test: keep it intact\n",
    "\n",
    "### BEGIN HIDDEN TESTS\n",
    "\n",
    "from numpy.testing import assert_allclose\n",
    "\n",
    "for m in range(1, 10):\n",
    "    a = design_matrix(x, m)\n",
    "    assert_allclose(np.linalg.cond(a)**2,\n",
    "                    np.linalg.cond(a.T @ a), rtol=1e-2)\n",
    "### END HIDDEN TESTS"
   ]
  },
  {
   "cell_type": "markdown",
   "metadata": {
    "deletable": false,
    "editable": false,
    "nbgrader": {
     "cell_type": "markdown",
     "checksum": "ffd0ce9ba5645b875537955eb8887e5b",
     "grade": false,
     "grade_id": "cell-f6f0f84795c73024",
     "locked": true,
     "schema_version": 3,
     "solution": false,
     "task": false
    }
   },
   "source": [
    "### II. Многочлен наилучшего приближения.\n",
    "\n",
    "Ясно, что бесконтрольно увеличивать степень аппроксимирующего многочлена довольно бессмысленно. Зададимся целью построить \"оптимальный\" многочлен как можно более низкой степени $m$.\n",
    "\n",
    "Для нахождения оптимального значения $m$ используйте следующий критерий: возьмем $m = 1, 2, \\dots$, и для каждого значения $m$ вычислим\n",
    "\n",
    "$$\n",
    "\\sigma_m^2 = \\frac{1}{n - m} \\sum_{k=0}^n \\left( P_m(x_k) - y_k \\right)^2\n",
    "$$\n",
    "\n",
    "и возьмем такое значение $m$, при котором $\\sigma_m$ стабилизируется или начинает расти."
   ]
  },
  {
   "cell_type": "code",
   "execution_count": 9,
   "metadata": {
    "deletable": false,
    "nbgrader": {
     "cell_type": "code",
     "checksum": "b85853941544ff0159efbe6a8b8a9e0b",
     "grade": false,
     "grade_id": "cell-5d7424589f59ac28",
     "locked": false,
     "schema_version": 3,
     "solution": true,
     "task": false
    }
   },
   "outputs": [],
   "source": [
    "def sigma(x, y, m):\n",
    "    r\"\"\"Compute $\\sigma_m$.\"\"\"\n",
    "    p = lsq_poly(x, y, m)\n",
    "    summ = np.sum((p(x) - y) ** 2)\n",
    "    sigma = np.sqrt(1/(len(x) - m) * summ)\n",
    "    return sigma\n",
    "    raise NotImplementedError()"
   ]
  },
  {
   "cell_type": "code",
   "execution_count": 10,
   "metadata": {},
   "outputs": [
    {
     "name": "stdout",
     "output_type": "stream",
     "text": [
      "1 3.384875484757168\n",
      "2 2.9189179439296478\n",
      "3 2.0013905311655114\n",
      "4 1.0656644349945166\n",
      "5 1.061728316862612\n",
      "6 1.0587046392537036\n",
      "7 1.0025108400404112\n",
      "8 1.0489549438870278\n",
      "9 1.1251451040499811\n",
      "10 0.8775643123975373\n",
      "11 0.3995623805015092\n",
      "12 0.41755081776248715\n",
      "13 0.1715462821093238\n",
      "14 73.34715778431915\n"
     ]
    }
   ],
   "source": [
    "for m in range(1, 15):\n",
    "    print(m, sigma(x, y, m))"
   ]
  },
  {
   "cell_type": "markdown",
   "metadata": {
    "deletable": false,
    "editable": false,
    "nbgrader": {
     "cell_type": "markdown",
     "checksum": "09c8fb6ce3b3b9e55f7094d7c73348a2",
     "grade": false,
     "grade_id": "cell-57e0268e519fef92",
     "locked": true,
     "schema_version": 3,
     "solution": false,
     "task": false
    }
   },
   "source": [
    "Постройте ваши полиномы $P_m(x)$ вместе с данными. Визуально сравните полиномы различных степеней. Согласуется ли визуальное сравнение с ожидаемым оптимальным значением $m$?"
   ]
  },
  {
   "cell_type": "code",
   "execution_count": 11,
   "metadata": {},
   "outputs": [
    {
     "data": {
      "image/png": "[encoded data removed]",
      "text/plain": [
       "<Figure size 432x288 with 1 Axes>"
      ]
     },
     "metadata": {
      "needs_background": "light"
     },
     "output_type": "display_data"
    }
   ],
   "source": [
    "import matplotlib.pyplot as plt\n",
    "fig, ax = plt.subplots()\n",
    "for m in range(1, 9):\n",
    "    p = lsq_poly(x, y, m)\n",
    "    \n",
    "    xx = np.linspace(-1, 3, 100)\n",
    "    ax.plot(xx, p(xx), '-', label='m = %s' % m)\n",
    "\n",
    "ax.plot(x, y, 'o', ms=8, color='k')\n",
    "plt.legend(loc='best')\n",
    "plt.grid()"
   ]
  },
  {
   "cell_type": "markdown",
   "metadata": {
    "deletable": false,
    "editable": false,
    "nbgrader": {
     "cell_type": "markdown",
     "checksum": "0046126501c6d92643bcf5456f063c07",
     "grade": false,
     "grade_id": "cell-ca71c0d238bdffd2",
     "locked": true,
     "schema_version": 3,
     "solution": false,
     "task": false
    }
   },
   "source": [
    "### III. МНК с использованием QR-разложения.\n",
    "\n",
    "Для оптимального значения $m$ из предыдущей части решите задачу МНК, QR-разложение design матрицы. Для решения задач линейной алгебры можете использовать библиотечные функции (обратите внимание на `scipy.linalg.solve_triangular` и `scipy.linalg.qr` и т.д.) или код предыдущих недель.\n",
    "Сравните результат с ответом, полученным при решении системы уравнений."
   ]
  },
  {
   "cell_type": "code",
   "execution_count": 12,
   "metadata": {
    "deletable": false,
    "nbgrader": {
     "cell_type": "code",
     "checksum": "4949ed85aae5641d121712c57eb88a12",
     "grade": false,
     "grade_id": "cell-2f72bccc7b48651d",
     "locked": false,
     "schema_version": 3,
     "solution": true,
     "task": false
    }
   },
   "outputs": [],
   "source": [
    "def lsq_qr(x, y, m):\n",
    "    \"\"\"Solve the LSQ problem via the QR decomp of the design matrix.\n",
    "\n",
    "    Parameters\n",
    "    ----------\n",
    "    x : array_like\n",
    "        Sample points\n",
    "    y : array_like\n",
    "        Measured values\n",
    "    m : int\n",
    "        The degree of the LSQ polynomial\n",
    "        \n",
    "    Returns\n",
    "    -------\n",
    "    p : callable \n",
    "        np.polynomial.Polynomial instance, representing the LSQ polynomial\n",
    "    \n",
    "    \"\"\"\n",
    "    x = np.asarray(x, dtype=float)\n",
    "    y = np.asarray(y, dtype=float)\n",
    "    if x.shape[0] != y.shape[0]:\n",
    "        raise ValueError(\"Expect paired data.\")\n",
    "    if x.shape[0] <= m:\n",
    "        raise ValueError(\"Cannot fit a degree-%s polynomial through %s points\" % (m, x.shape[0]))\n",
    "\n",
    "    A = design_matrix(x, m)\n",
    "    Q, R = np.linalg.qr(A)\n",
    "    f = np.dot(Q.transpose(), y)\n",
    "    b = np.linalg.solve(R, f)\n",
    "    p = np.polynomial.Polynomial(b)\n",
    "    return p\n",
    "    raise NotImplementedError()"
   ]
  },
  {
   "cell_type": "code",
   "execution_count": 13,
   "metadata": {
    "deletable": false,
    "editable": false,
    "nbgrader": {
     "cell_type": "code",
     "checksum": "d784bcc56dabf7ca87787a7347781fbf",
     "grade": true,
     "grade_id": "cell-e84a63fbccd75fdf",
     "locked": true,
     "points": 2,
     "schema_version": 3,
     "solution": false,
     "task": false
    }
   },
   "outputs": [],
   "source": [
    "from numpy.testing import assert_allclose\n",
    "\n",
    "for m in range(1, 10):\n",
    "    assert_allclose(lsq_qr(x, y, m=m).coef,\n",
    "                    lsq_poly(x, y, m=m).coef,\n",
    "                    atol=1e-14)"
   ]
  },
  {
   "cell_type": "code",
   "execution_count": 14,
   "metadata": {
    "deletable": false,
    "editable": false,
    "nbgrader": {
     "cell_type": "code",
     "checksum": "a7db3d26b7df4ba0bc193bfc4a1f7adc",
     "grade": true,
     "grade_id": "cell-0dec472419aee2c0",
     "locked": true,
     "points": 3,
     "schema_version": 3,
     "solution": false,
     "task": false
    }
   },
   "outputs": [],
   "source": [
    "# This cell spot-tests several polynomials to make sure that they are worse than your ``best'' polynomial.\n",
    "\n",
    "\n",
    "### BEGIN HIDDEN TESTS\n",
    "p = lsq_qr(x, y, m=4)\n",
    "s = ((p(x) - y)**2).sum() / (y.shape[0] - m)\n",
    "\n",
    "rndm = np.random.RandomState(123)\n",
    "\n",
    "for _ in range(10):\n",
    "    coef = p.coef + 0.1*rndm.uniform(size=p.coef.shape[0])\n",
    "    pp = np.polynomial.Polynomial(coef)\n",
    "    spp = ((pp(x) - y)**2).sum() / (y.shape[0] - m)\n",
    "\n",
    "    assert s < spp\n",
    "\n",
    "### END HIDDEN TESTS"
   ]
  },
  {
   "cell_type": "code",
   "execution_count": null,
   "metadata": {},
   "outputs": [],
   "source": []
  }
 ],
 "metadata": {
  "kernelspec": {
   "display_name": "Python 3",
   "language": "python",
   "name": "python3"
  },
  "language_info": {
   "codemirror_mode": {
    "name": "ipython",
    "version": 3
   },
   "file_extension": ".py",
   "mimetype": "text/x-python",
   "name": "python",
   "nbconvert_exporter": "python",
   "pygments_lexer": "ipython3",
   "version": "3.7.6"
  }
 },
 "nbformat": 4,
 "nbformat_minor": 2
}
