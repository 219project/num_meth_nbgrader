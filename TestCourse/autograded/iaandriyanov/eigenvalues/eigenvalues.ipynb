{
 "cells": [
  {
   "cell_type": "markdown",
   "metadata": {
    "id": "JQ3mTCm8n5sU"
   },
   "source": [
    "Before you turn this problem in, make sure everything runs as expected. First, **restart the kernel** (in the menubar, select Kernel$\\rightarrow$Restart) and then **run all cells** (in the menubar, select Cell$\\rightarrow$Run All).\n",
    "\n",
    "Make sure you fill in any place that says `YOUR CODE HERE` or \"YOUR ANSWER HERE\", as well as your name and collaborators below:"
   ]
  },
  {
   "cell_type": "code",
   "execution_count": 1,
   "metadata": {
    "id": "LFhB8m6gn5se"
   },
   "outputs": [],
   "source": [
    "NAME = \"Ilya Andriyanov\"\n",
    "COLLABORATORS = \"\""
   ]
  },
  {
   "cell_type": "markdown",
   "metadata": {
    "id": "Lfj6d5KSn5sf"
   },
   "source": [
    "---"
   ]
  },
  {
   "cell_type": "code",
   "execution_count": 2,
   "metadata": {
    "deletable": false,
    "editable": false,
    "id": "Db4I6GGcn5sf",
    "nbgrader": {
     "cell_type": "code",
     "checksum": "05666cdfbea4d90e167692683629e516",
     "grade": false,
     "grade_id": "cell-dee318487c917c20",
     "locked": true,
     "schema_version": 3,
     "solution": false,
     "task": false
    }
   },
   "outputs": [],
   "source": [
    "import numpy as np\n",
    "from numpy.testing import assert_allclose"
   ]
  },
  {
   "cell_type": "markdown",
   "metadata": {
    "deletable": false,
    "editable": false,
    "id": "MrlnRb3Bn5sg",
    "nbgrader": {
     "cell_type": "markdown",
     "checksum": "669a2dcb9b9e6f6c64579986fb9235df",
     "grade": false,
     "grade_id": "cell-00de4de4082aa444",
     "locked": true,
     "schema_version": 3,
     "solution": false,
     "task": false
    }
   },
   "source": [
    "# 1. Степенная итерация"
   ]
  },
  {
   "cell_type": "markdown",
   "metadata": {
    "deletable": false,
    "editable": false,
    "id": "4Ro6iY3en5sh",
    "nbgrader": {
     "cell_type": "markdown",
     "checksum": "9f430376dbbc28c66fa9ab28bcecb6ca",
     "grade": false,
     "grade_id": "cell-1a3077925e3e394b",
     "locked": true,
     "schema_version": 3,
     "solution": false,
     "task": false
    }
   },
   "source": [
    "Дана квадратная $n \\times n$ матрица $A$. Алгоритм степенной итерации позволяет найти максимальное собственное значение $\\lambda$ матрицы $A$. Для начала необходимо задать начальное приближение собственного вектора $x_0$. \n",
    "\n",
    "\n",
    "Модифицированный алгоритм степенной итерации:\n",
    "\n",
    "1. $y_{k+1} = A x_k$\n",
    "\n",
    "2. $x_{k+1} = \\cfrac{y_{k+1}}{||y_{k+1}||}$\n",
    "\n",
    "3. $\\lambda^{(k)} = (x_k, y_{k+1})$\n",
    "\n",
    "где $k$ - номер итерации.\n",
    "\n",
    "Напишите функцию, реализующую поиск максимального собственного значения заданной матрицы с помощью алгоритма степенной итерации."
   ]
  },
  {
   "cell_type": "code",
   "execution_count": 3,
   "metadata": {
    "deletable": false,
    "id": "kuOjKjg_n5sh",
    "nbgrader": {
     "cell_type": "code",
     "checksum": "1a88dfc0f776e1d38fc4175d016cf5fc",
     "grade": false,
     "grade_id": "cell-3cfc4f5a0e04dc11",
     "locked": false,
     "schema_version": 3,
     "solution": true,
     "task": false
    }
   },
   "outputs": [],
   "source": [
    "def power_iter(a, vec, eps=1e-3, maxiter=1000):\n",
    "    \"\"\"Реализует алгоритм степенной итерации поиска максимального собственного значения матрицы `a` \n",
    "        с начальным приближением собственного вектора vec.\n",
    "    \n",
    "    Parameters\n",
    "    ----------\n",
    "    a : array-like of floats, shape (n, n)\n",
    "        Введённая матрица\n",
    "    vec : array-like of floats, shape (n,)\n",
    "        Введённое начальное приближение собственного вектора\n",
    "    eps : float\n",
    "        Введённая абсолютная точность\n",
    "    maxiter : integer\n",
    "        Максимальное количество итераций\n",
    "    \n",
    "    Returns\n",
    "    -------\n",
    "    lm : float\n",
    "        Приближение максимального собственного значения\n",
    "    outvec : array of floats, shape (n,)\n",
    "        Приближение собственного вектора\n",
    "    iters : integer\n",
    "        Количество итераций\n",
    "    \"\"\"\n",
    "    a = np.asarray(a, dtype=float)\n",
    "    if a.ndim != 2:\n",
    "        raise ValueError(\"a.ndim = %s, expected 2\" % a.ndim)\n",
    "    \n",
    "    vec = np.asarray(vec, dtype=float)\n",
    "    if vec.ndim != 1:\n",
    "        raise ValueError(\"vec.ndim = %s, expected 1\" % vec.ndim)\n",
    "        \n",
    "    if (a.shape[0] != a.shape[1]):\n",
    "        raise ValueError(\"a is not square\")\n",
    "        \n",
    "    if (a.shape[0] != vec.shape[0]):\n",
    "        raise ValueError(\"vec should be of length %s\" % a.shape[0])\n",
    "    \n",
    "    for i in range(maxiter):\n",
    "        y = np.dot(a, vec)\n",
    "        x = y / np.linalg.norm(y)\n",
    "        next_lm = np.dot(vec, y)\n",
    "        if (i != 0 and abs(lm - next_lm) < eps) or i == maxiter - 1:\n",
    "            return lm, x, i\n",
    "        vec = x\n",
    "        lm = next_lm"
   ]
  },
  {
   "cell_type": "markdown",
   "metadata": {
    "deletable": false,
    "editable": false,
    "id": "44iPDhALn5si",
    "nbgrader": {
     "cell_type": "markdown",
     "checksum": "794418380c0633f7d05918214a63a46d",
     "grade": false,
     "grade_id": "cell-16650a49b51bde96",
     "locked": true,
     "schema_version": 3,
     "solution": false,
     "task": false
    }
   },
   "source": [
    "Протестируйте свою функцию на следующих примерах:"
   ]
  },
  {
   "cell_type": "code",
   "execution_count": 4,
   "metadata": {
    "deletable": false,
    "editable": false,
    "id": "gCfhbZNOn5si",
    "nbgrader": {
     "cell_type": "code",
     "checksum": "c86b53d4e95733c7c21ed8dc66a4b319",
     "grade": true,
     "grade_id": "cell-d67c4ed20e0cc45a",
     "locked": true,
     "points": 4,
     "schema_version": 3,
     "solution": false,
     "task": false
    }
   },
   "outputs": [
    {
     "ename": "AssertionError",
     "evalue": "\nNot equal to tolerance rtol=1e-07, atol=0.001\n\nMismatched elements: 1 / 2 (50%)\nMax absolute difference: 0.00188708\nMax relative difference: 0.03076172\n x: array([1.029736, 0.014924])\n y: array([1.031623, 0.015397])",
     "output_type": "error",
     "traceback": [
      "\u001b[0;31m---------------------------------------------------------------------------\u001b[0m",
      "\u001b[0;31mAssertionError\u001b[0m                            Traceback (most recent call last)",
      "\u001b[0;32m<ipython-input-4-bd30eb54c1b4>\u001b[0m in \u001b[0;36m<module>\u001b[0;34m\u001b[0m\n\u001b[1;32m     16\u001b[0m \u001b[0;34m\u001b[0m\u001b[0m\n\u001b[1;32m     17\u001b[0m \u001b[0ml\u001b[0m\u001b[0;34m,\u001b[0m \u001b[0me\u001b[0m\u001b[0;34m,\u001b[0m \u001b[0mk\u001b[0m \u001b[0;34m=\u001b[0m \u001b[0mpower_iter\u001b[0m\u001b[0;34m(\u001b[0m\u001b[0mA\u001b[0m\u001b[0;34m,\u001b[0m \u001b[0mx\u001b[0m\u001b[0;34m)\u001b[0m\u001b[0;34m\u001b[0m\u001b[0;34m\u001b[0m\u001b[0m\n\u001b[0;32m---> 18\u001b[0;31m \u001b[0massert_allclose\u001b[0m\u001b[0;34m(\u001b[0m\u001b[0mA\u001b[0m \u001b[0;34m@\u001b[0m \u001b[0me\u001b[0m\u001b[0;34m,\u001b[0m \u001b[0ml\u001b[0m \u001b[0;34m*\u001b[0m \u001b[0me\u001b[0m\u001b[0;34m,\u001b[0m \u001b[0matol\u001b[0m\u001b[0;34m=\u001b[0m\u001b[0;36m1e-3\u001b[0m\u001b[0;34m)\u001b[0m\u001b[0;34m\u001b[0m\u001b[0;34m\u001b[0m\u001b[0m\n\u001b[0m\u001b[1;32m     19\u001b[0m \u001b[0;34m\u001b[0m\u001b[0m\n\u001b[1;32m     20\u001b[0m \u001b[0ml\u001b[0m\u001b[0;34m,\u001b[0m \u001b[0me\u001b[0m\u001b[0;34m,\u001b[0m \u001b[0mk\u001b[0m \u001b[0;34m=\u001b[0m \u001b[0mpower_iter\u001b[0m\u001b[0;34m(\u001b[0m\u001b[0mA\u001b[0m\u001b[0;34m,\u001b[0m \u001b[0mx\u001b[0m\u001b[0;34m,\u001b[0m \u001b[0;36m1e-5\u001b[0m\u001b[0;34m)\u001b[0m\u001b[0;34m\u001b[0m\u001b[0;34m\u001b[0m\u001b[0m\n",
      "\u001b[0;32m~/anaconda3/lib/python3.7/site-packages/numpy/testing/_private/utils.py\u001b[0m in \u001b[0;36massert_allclose\u001b[0;34m(actual, desired, rtol, atol, equal_nan, err_msg, verbose)\u001b[0m\n\u001b[1;32m   1531\u001b[0m     \u001b[0mheader\u001b[0m \u001b[0;34m=\u001b[0m \u001b[0;34m'Not equal to tolerance rtol=%g, atol=%g'\u001b[0m \u001b[0;34m%\u001b[0m \u001b[0;34m(\u001b[0m\u001b[0mrtol\u001b[0m\u001b[0;34m,\u001b[0m \u001b[0matol\u001b[0m\u001b[0;34m)\u001b[0m\u001b[0;34m\u001b[0m\u001b[0;34m\u001b[0m\u001b[0m\n\u001b[1;32m   1532\u001b[0m     assert_array_compare(compare, actual, desired, err_msg=str(err_msg),\n\u001b[0;32m-> 1533\u001b[0;31m                          verbose=verbose, header=header, equal_nan=equal_nan)\n\u001b[0m\u001b[1;32m   1534\u001b[0m \u001b[0;34m\u001b[0m\u001b[0m\n\u001b[1;32m   1535\u001b[0m \u001b[0;34m\u001b[0m\u001b[0m\n",
      "\u001b[0;32m~/anaconda3/lib/python3.7/site-packages/numpy/testing/_private/utils.py\u001b[0m in \u001b[0;36massert_array_compare\u001b[0;34m(comparison, x, y, err_msg, verbose, header, precision, equal_nan, equal_inf)\u001b[0m\n\u001b[1;32m    844\u001b[0m                                 \u001b[0mverbose\u001b[0m\u001b[0;34m=\u001b[0m\u001b[0mverbose\u001b[0m\u001b[0;34m,\u001b[0m \u001b[0mheader\u001b[0m\u001b[0;34m=\u001b[0m\u001b[0mheader\u001b[0m\u001b[0;34m,\u001b[0m\u001b[0;34m\u001b[0m\u001b[0;34m\u001b[0m\u001b[0m\n\u001b[1;32m    845\u001b[0m                                 names=('x', 'y'), precision=precision)\n\u001b[0;32m--> 846\u001b[0;31m             \u001b[0;32mraise\u001b[0m \u001b[0mAssertionError\u001b[0m\u001b[0;34m(\u001b[0m\u001b[0mmsg\u001b[0m\u001b[0;34m)\u001b[0m\u001b[0;34m\u001b[0m\u001b[0;34m\u001b[0m\u001b[0m\n\u001b[0m\u001b[1;32m    847\u001b[0m     \u001b[0;32mexcept\u001b[0m \u001b[0mValueError\u001b[0m\u001b[0;34m:\u001b[0m\u001b[0;34m\u001b[0m\u001b[0;34m\u001b[0m\u001b[0m\n\u001b[1;32m    848\u001b[0m         \u001b[0;32mimport\u001b[0m \u001b[0mtraceback\u001b[0m\u001b[0;34m\u001b[0m\u001b[0;34m\u001b[0m\u001b[0m\n",
      "\u001b[0;31mAssertionError\u001b[0m: \nNot equal to tolerance rtol=1e-07, atol=0.001\n\nMismatched elements: 1 / 2 (50%)\nMax absolute difference: 0.00188708\nMax relative difference: 0.03076172\n x: array([1.029736, 0.014924])\n y: array([1.031623, 0.015397])"
     ]
    }
   ],
   "source": [
    "A = np.asarray([[4, 34],[7, 1]])\n",
    "\n",
    "np.random.seed(123)\n",
    "x = np.random.random(size=2)\n",
    "\n",
    "l, e, k = power_iter(A, x)\n",
    "assert_allclose(A @ e, l * e, atol=1e-3)\n",
    "\n",
    "l, e, k = power_iter(A, x, 1e-5)\n",
    "assert_allclose(A @ e, l * e, atol=1e-5)\n",
    "\n",
    "###BEGIN HIDDEN TESTS\n",
    "\n",
    "A = np.asarray([[1, 2], [0, 1]])\n",
    "x = np.asarray([1,1])\n",
    "\n",
    "l, e, k = power_iter(A, x)\n",
    "assert_allclose(A @ e, l * e, atol=1e-3)\n",
    "\n",
    "l, e, k = power_iter(A, x, 1e-5)\n",
    "assert_allclose(A @ e, l * e, atol=1e-5)\n",
    "\n",
    "###END HIDDEN TESTS"
   ]
  },
  {
   "cell_type": "markdown",
   "metadata": {
    "deletable": false,
    "editable": false,
    "id": "xu5bnCVdn5sj",
    "nbgrader": {
     "cell_type": "markdown",
     "checksum": "09dd6054c925c2448cbdfb2a00952c31",
     "grade": false,
     "grade_id": "cell-0aea0e46b416169e",
     "locked": true,
     "schema_version": 3,
     "solution": false,
     "task": false
    }
   },
   "source": [
    "# 2. Обратная итерация\n",
    "\n",
    "Этот метод может использоваться, например, для поиска собственных векторов матрицы, если уже имеется достаточно хорошее приближение её максимального собственного значения.\n",
    "\n",
    "Для реализации алгоритма необходимо задать начальные приближения для собственного вектора $x_0$ и собственного значения $\\mu$.\n",
    "\n",
    "На каждой итерации метода решается система уравнений:\n",
    "$$(A - \\lambda^{(k)} I) y_{k+1} = x_k,$$\n",
    "приэтом $\\lambda^{(0)} = \\mu$. После этого за новое приближение собственного вектора принимается нормированный вектор $y_{k+1}$:\n",
    "$$x_{k+1} = \\cfrac{y_{k+1}}{||y_{k+1}||}.$$"
   ]
  },
  {
   "cell_type": "code",
   "execution_count": 5,
   "metadata": {
    "deletable": false,
    "id": "JxWfIoo4n5sk",
    "nbgrader": {
     "cell_type": "code",
     "checksum": "f9b46113b4ae028819eaf69072b54de2",
     "grade": false,
     "grade_id": "cell-f3b15fcf5f5b9c62",
     "locked": false,
     "schema_version": 3,
     "solution": true,
     "task": false
    }
   },
   "outputs": [],
   "source": [
    "def inverse_iter(a, vec, mu, eps=1e-3, maxiter=1000):\n",
    "    \"\"\"Реализует алгоритм степенной итерации поиска максимального собственного значения матрицы a \n",
    "        с начальным приближением собственного вектора vec и начальным приближением собственного значения mu\n",
    "    \n",
    "    Parameters\n",
    "    ----------\n",
    "    a : array-like of floats, shape (n, n)\n",
    "        Введённая матрица\n",
    "    vec : array-like of floats, shape (n,)\n",
    "        Введённое начальное приближение собственного вектора\n",
    "    mu : float\n",
    "        Введённое начальное приближение собственного значения\n",
    "    eps : float\n",
    "        Введённая точность \n",
    "    maxiter : integer\n",
    "        Максимальное количество итераций\n",
    "    \n",
    "    Returns\n",
    "    -------\n",
    "    lm : float\n",
    "        Приближение максимального собственного значения\n",
    "    outvec : array of floats, shape (n,)\n",
    "        Приближение собственного вектора\n",
    "    iters : integer\n",
    "        Количество итераций\n",
    "    \"\"\"\n",
    "    a = np.asarray(a, dtype=float)\n",
    "    if a.ndim != 2:\n",
    "        raise ValueError(\"a.ndim = %s, expected 2\" % a.ndim)\n",
    "    \n",
    "    vec = np.asarray(vec, dtype=float)\n",
    "    if vec.ndim != 1:\n",
    "        raise ValueError(\"vec.ndim = %s, expected 1\" % vec.ndim)\n",
    "        \n",
    "    if (a.shape[0] != a.shape[1]):\n",
    "        raise ValueError(\"a is not square\")\n",
    "        \n",
    "    if (a.shape[0] != vec.shape[0]):\n",
    "        raise ValueError(\"vec should be of length %s\" % a.shape[0])\n",
    "    \n",
    "    ident = np.identity(vec.shape[0])\n",
    "\n",
    "    lm = mu\n",
    "\n",
    "    for i in range(maxiter):\n",
    "        y = np.linalg.solve(a - lm * ident, vec)\n",
    "        x = y / np.linalg.norm(y)\n",
    "        next_lm = np.dot(vec, np.dot(A, vec))\n",
    "        if (i != 0 and abs(lm - next_lm) < eps) or i == maxiter - 1:\n",
    "            return lm, x, i\n",
    "        vec = x\n",
    "        lm = next_lm"
   ]
  },
  {
   "cell_type": "markdown",
   "metadata": {
    "deletable": false,
    "editable": false,
    "id": "NoWW389xn5sk",
    "nbgrader": {
     "cell_type": "markdown",
     "checksum": "a6ddbeaa68cf7507ded8c69c800b2232",
     "grade": false,
     "grade_id": "cell-dbefba66b5327bd6",
     "locked": true,
     "schema_version": 3,
     "solution": false,
     "task": false
    }
   },
   "source": [
    "Протестируйте свою функцию на следующих примерах:"
   ]
  },
  {
   "cell_type": "code",
   "execution_count": 6,
   "metadata": {
    "deletable": false,
    "editable": false,
    "id": "uLuD_FYvn5sl",
    "nbgrader": {
     "cell_type": "code",
     "checksum": "3e5ce181ca2ed446d30d1d4a4954031d",
     "grade": true,
     "grade_id": "cell-014b5a8fe53ecfdf",
     "locked": true,
     "points": 3,
     "schema_version": 3,
     "solution": false,
     "task": false
    }
   },
   "outputs": [
    {
     "ename": "AssertionError",
     "evalue": "\nNot equal to tolerance rtol=1e-07, atol=0.001\n\nMismatched elements: 1 / 2 (50%)\nMax absolute difference: 0.0011467\nMax relative difference: 0.00185884\n x: array([ 9.992912e-01, -3.543477e-04])\n y: array([ 9.981445e-01, -3.536902e-04])",
     "output_type": "error",
     "traceback": [
      "\u001b[0;31m---------------------------------------------------------------------------\u001b[0m",
      "\u001b[0;31mAssertionError\u001b[0m                            Traceback (most recent call last)",
      "\u001b[0;32m<ipython-input-6-f3ae12db4480>\u001b[0m in \u001b[0;36m<module>\u001b[0;34m\u001b[0m\n\u001b[1;32m     15\u001b[0m \u001b[0;34m\u001b[0m\u001b[0m\n\u001b[1;32m     16\u001b[0m \u001b[0ml\u001b[0m\u001b[0;34m,\u001b[0m \u001b[0me\u001b[0m\u001b[0;34m,\u001b[0m \u001b[0mk\u001b[0m \u001b[0;34m=\u001b[0m \u001b[0minverse_iter\u001b[0m\u001b[0;34m(\u001b[0m\u001b[0mA\u001b[0m\u001b[0;34m,\u001b[0m \u001b[0mx\u001b[0m\u001b[0;34m,\u001b[0m \u001b[0;36m0.5\u001b[0m\u001b[0;34m)\u001b[0m\u001b[0;34m\u001b[0m\u001b[0;34m\u001b[0m\u001b[0m\n\u001b[0;32m---> 17\u001b[0;31m \u001b[0massert_allclose\u001b[0m\u001b[0;34m(\u001b[0m\u001b[0mA\u001b[0m \u001b[0;34m@\u001b[0m \u001b[0me\u001b[0m\u001b[0;34m,\u001b[0m \u001b[0ml\u001b[0m \u001b[0;34m*\u001b[0m \u001b[0me\u001b[0m\u001b[0;34m,\u001b[0m \u001b[0matol\u001b[0m\u001b[0;34m=\u001b[0m\u001b[0;36m1e-3\u001b[0m\u001b[0;34m)\u001b[0m\u001b[0;34m\u001b[0m\u001b[0;34m\u001b[0m\u001b[0m\n\u001b[0m\u001b[1;32m     18\u001b[0m \u001b[0;34m\u001b[0m\u001b[0m\n\u001b[1;32m     19\u001b[0m \u001b[0ml\u001b[0m\u001b[0;34m,\u001b[0m \u001b[0me\u001b[0m\u001b[0;34m,\u001b[0m \u001b[0mk\u001b[0m \u001b[0;34m=\u001b[0m \u001b[0minverse_iter\u001b[0m\u001b[0;34m(\u001b[0m\u001b[0mA\u001b[0m\u001b[0;34m,\u001b[0m \u001b[0mx\u001b[0m\u001b[0;34m,\u001b[0m \u001b[0;36m50.\u001b[0m\u001b[0;34m)\u001b[0m\u001b[0;34m\u001b[0m\u001b[0;34m\u001b[0m\u001b[0m\n",
      "\u001b[0;32m~/anaconda3/lib/python3.7/site-packages/numpy/testing/_private/utils.py\u001b[0m in \u001b[0;36massert_allclose\u001b[0;34m(actual, desired, rtol, atol, equal_nan, err_msg, verbose)\u001b[0m\n\u001b[1;32m   1531\u001b[0m     \u001b[0mheader\u001b[0m \u001b[0;34m=\u001b[0m \u001b[0;34m'Not equal to tolerance rtol=%g, atol=%g'\u001b[0m \u001b[0;34m%\u001b[0m \u001b[0;34m(\u001b[0m\u001b[0mrtol\u001b[0m\u001b[0;34m,\u001b[0m \u001b[0matol\u001b[0m\u001b[0;34m)\u001b[0m\u001b[0;34m\u001b[0m\u001b[0;34m\u001b[0m\u001b[0m\n\u001b[1;32m   1532\u001b[0m     assert_array_compare(compare, actual, desired, err_msg=str(err_msg),\n\u001b[0;32m-> 1533\u001b[0;31m                          verbose=verbose, header=header, equal_nan=equal_nan)\n\u001b[0m\u001b[1;32m   1534\u001b[0m \u001b[0;34m\u001b[0m\u001b[0m\n\u001b[1;32m   1535\u001b[0m \u001b[0;34m\u001b[0m\u001b[0m\n",
      "\u001b[0;32m~/anaconda3/lib/python3.7/site-packages/numpy/testing/_private/utils.py\u001b[0m in \u001b[0;36massert_array_compare\u001b[0;34m(comparison, x, y, err_msg, verbose, header, precision, equal_nan, equal_inf)\u001b[0m\n\u001b[1;32m    844\u001b[0m                                 \u001b[0mverbose\u001b[0m\u001b[0;34m=\u001b[0m\u001b[0mverbose\u001b[0m\u001b[0;34m,\u001b[0m \u001b[0mheader\u001b[0m\u001b[0;34m=\u001b[0m\u001b[0mheader\u001b[0m\u001b[0;34m,\u001b[0m\u001b[0;34m\u001b[0m\u001b[0;34m\u001b[0m\u001b[0m\n\u001b[1;32m    845\u001b[0m                                 names=('x', 'y'), precision=precision)\n\u001b[0;32m--> 846\u001b[0;31m             \u001b[0;32mraise\u001b[0m \u001b[0mAssertionError\u001b[0m\u001b[0;34m(\u001b[0m\u001b[0mmsg\u001b[0m\u001b[0;34m)\u001b[0m\u001b[0;34m\u001b[0m\u001b[0;34m\u001b[0m\u001b[0m\n\u001b[0m\u001b[1;32m    847\u001b[0m     \u001b[0;32mexcept\u001b[0m \u001b[0mValueError\u001b[0m\u001b[0;34m:\u001b[0m\u001b[0;34m\u001b[0m\u001b[0;34m\u001b[0m\u001b[0m\n\u001b[1;32m    848\u001b[0m         \u001b[0;32mimport\u001b[0m \u001b[0mtraceback\u001b[0m\u001b[0;34m\u001b[0m\u001b[0;34m\u001b[0m\u001b[0m\n",
      "\u001b[0;31mAssertionError\u001b[0m: \nNot equal to tolerance rtol=1e-07, atol=0.001\n\nMismatched elements: 1 / 2 (50%)\nMax absolute difference: 0.0011467\nMax relative difference: 0.00185884\n x: array([ 9.992912e-01, -3.543477e-04])\n y: array([ 9.981445e-01, -3.536902e-04])"
     ]
    }
   ],
   "source": [
    "A = np.asarray([[4, 34],\n",
    "                [7, 1]])\n",
    "x = np.random.random(size=2)\n",
    "\n",
    "l, e, k = inverse_iter(A, x, 1.)\n",
    "assert_allclose(A @ e, l * e, atol=1e-3)\n",
    "\n",
    "l, e, k = inverse_iter(A, x, 100.)\n",
    "assert_allclose(A @ e, l * e, atol=1e-3)\n",
    "\n",
    "###BEGIN HIDDEN TESTS\n",
    "\n",
    "A = np.asarray([[1, 2], [0, 1]])\n",
    "x = np.asarray([1, 1])\n",
    "\n",
    "l, e, k = inverse_iter(A, x, 0.5)\n",
    "assert_allclose(A @ e, l * e, atol=1e-3)\n",
    "\n",
    "l, e, k = inverse_iter(A, x, 50.)\n",
    "assert_allclose(A @ e, l * e, atol=1e-3)\n",
    "\n",
    "###END HIDDEN TESTS"
   ]
  },
  {
   "cell_type": "markdown",
   "metadata": {
    "deletable": false,
    "editable": false,
    "id": "Tyeivlbbn5sl",
    "nbgrader": {
     "cell_type": "markdown",
     "checksum": "fcbbe61b5efabaf37f9d11b68774e4c1",
     "grade": false,
     "grade_id": "cell-30adf2c9ac9e0774",
     "locked": true,
     "schema_version": 3,
     "solution": false,
     "task": false
    }
   },
   "source": [
    "## Пример\n",
    "\n",
    "Рассмотрите матрицу \n",
    "$$ A = \n",
    "\\begin{bmatrix}\n",
    "3 & 1 & 0 & 0\\\\ \n",
    "1 & 2 & 0 & 1\\\\ \n",
    "0 & 0 & 1 & 1\\\\ \n",
    "0 & 1 & 1 & 1\n",
    "\\end{bmatrix}.$$"
   ]
  },
  {
   "cell_type": "code",
   "execution_count": 7,
   "metadata": {
    "deletable": false,
    "id": "fL_uJK4Jn5sl",
    "nbgrader": {
     "cell_type": "code",
     "checksum": "1e5cc87b75e98cb63efc0bd0e5d4419d",
     "grade": false,
     "grade_id": "cell-3fb3b96b54cbb97d",
     "locked": false,
     "schema_version": 3,
     "solution": true,
     "task": false
    }
   },
   "outputs": [],
   "source": [
    "# Определите матрицу `А` и задайте начальное приближение для собственного вектора\n",
    "# (используйте случайный начальный вектор)\n",
    "\n",
    "def A_and_x(seed=1234):\n",
    "    \"\"\"Возвращает матрицу `А` и случайный начальный вектор.\"\"\"\n",
    "\n",
    "    A = np.asarray([[3, 1, 0, 0],[1, 2, 0, 1], [0, 0, 1, 1], [0, 1, 1, 1]])\n",
    "    np.random.seed(seed)\n",
    "    x = np.random.random(size=4)\n",
    "\n",
    "    return A, x"
   ]
  },
  {
   "cell_type": "markdown",
   "metadata": {
    "deletable": false,
    "editable": false,
    "id": "QFPCj3dZn5sm",
    "nbgrader": {
     "cell_type": "markdown",
     "checksum": "41e2028e64f76fb8ad699f4b111affbf",
     "grade": false,
     "grade_id": "cell-8070e62614ed1872",
     "locked": true,
     "schema_version": 3,
     "solution": false,
     "task": false
    }
   },
   "source": [
    "Найдите максимальное собственное число этой матрицы тремя разными методами."
   ]
  },
  {
   "cell_type": "markdown",
   "metadata": {
    "deletable": false,
    "editable": false,
    "id": "QGHjLO23n5sm",
    "nbgrader": {
     "cell_type": "markdown",
     "checksum": "cb1678cca632bff7bce255e85732a975",
     "grade": false,
     "grade_id": "cell-81756f5999707654",
     "locked": true,
     "schema_version": 3,
     "solution": false,
     "task": false
    }
   },
   "source": [
    "### 1) Степенная итерация"
   ]
  },
  {
   "cell_type": "code",
   "execution_count": 8,
   "metadata": {
    "deletable": false,
    "editable": false,
    "id": "E4s2HGGYn5sn",
    "nbgrader": {
     "cell_type": "code",
     "checksum": "996515b25f94ede75199765a71e5e0f4",
     "grade": true,
     "grade_id": "cell-a48d281064127067",
     "locked": true,
     "points": 1,
     "schema_version": 3,
     "solution": false,
     "task": false
    }
   },
   "outputs": [],
   "source": [
    "A, x = A_and_x()\n",
    "\n",
    "l, e, k = power_iter(A, x, eps=1e-5)\n",
    "assert_allclose(A @ e, l * e, atol=1.6e-2)\n",
    "\n",
    "### BEGIN HIDDEN TESTS\n",
    "A, x = A_and_x()\n",
    "l, e, k = power_iter(A, x, eps=1e-5)\n",
    "assert_allclose(A @ e, l * e, atol=1.6e-3)\n",
    "### END HIDDEN TESTS"
   ]
  },
  {
   "cell_type": "markdown",
   "metadata": {
    "id": "wAWgLsH3n5sp"
   },
   "source": [
    "### 2) Обратная итерация с $\\mu = 3.5$"
   ]
  },
  {
   "cell_type": "code",
   "execution_count": 9,
   "metadata": {
    "deletable": false,
    "editable": false,
    "id": "CpnMjwxwn5sq",
    "nbgrader": {
     "cell_type": "code",
     "checksum": "b3fa3f932da53b792b8792002ba45248",
     "grade": true,
     "grade_id": "cell-80ce0d792279ba41",
     "locked": true,
     "points": 1,
     "schema_version": 3,
     "solution": false,
     "task": false
    }
   },
   "outputs": [],
   "source": [
    "A, x = A_and_x()\n",
    "\n",
    "l, e, k = inverse_iter(A, x, 3.5, eps=1e-5)\n",
    "assert_allclose(A @ e, l * e, atol=1e-3)\n",
    "\n",
    "### BEGIN HIDDEN TESTS\n",
    "A, x = A_and_x()\n",
    "l, e, k = inverse_iter(A, x, 3.5, eps=1e-5)\n",
    "assert_allclose(A @ e, l * e, atol=1e-5)\n",
    "### END HIDDEN TESTS"
   ]
  },
  {
   "cell_type": "markdown",
   "metadata": {
    "deletable": false,
    "editable": false,
    "id": "u3EbvwZLn5sr",
    "nbgrader": {
     "cell_type": "markdown",
     "checksum": "6fa73bf60139a3b567f231dcfacee482",
     "grade": false,
     "grade_id": "cell-8e66d533134b1c8a",
     "locked": true,
     "schema_version": 3,
     "solution": false,
     "task": false
    }
   },
   "source": [
    "### 3) Обратная итерация с $\\mu = 3.7$"
   ]
  },
  {
   "cell_type": "code",
   "execution_count": 10,
   "metadata": {
    "deletable": false,
    "editable": false,
    "id": "Elnf2Lfrn5ss",
    "nbgrader": {
     "cell_type": "code",
     "checksum": "4aac66d4abf46cc1f421a4f877ca1129",
     "grade": true,
     "grade_id": "cell-9fdc8e167e855b76",
     "locked": true,
     "points": 1,
     "schema_version": 3,
     "solution": false,
     "task": false
    }
   },
   "outputs": [],
   "source": [
    "A, x = A_and_x()\n",
    "\n",
    "l, e, k = inverse_iter(A, x, 3.7, eps=1e-5)\n",
    "assert_allclose(A @ e, l * e, atol=1e-3)\n",
    "\n",
    "### BEGIN HIDDEN TESTS\n",
    "A, x = A_and_x()\n",
    "l, e, k = inverse_iter(A, x, 3.7, 1e-5)\n",
    "assert_allclose(A @ e, l * e, atol=1e-5)\n",
    "### END HIDDEN TESTS"
   ]
  },
  {
   "cell_type": "markdown",
   "metadata": {
    "deletable": false,
    "editable": false,
    "id": "rJwyE0Xxn5ss",
    "nbgrader": {
     "cell_type": "markdown",
     "checksum": "78fe511364d7cc76fd2f4df9f3a3a926",
     "grade": false,
     "grade_id": "cell-5a89eda9d7deabf3",
     "locked": true,
     "points": 5,
     "schema_version": 3,
     "solution": false,
     "task": true
    }
   },
   "source": [
    "Сколько шагов $k$ требуется в каждом случае для того, чтобы получить настоящий собственный вектор $x^*$ с точностью $||x^* - x_k||_2 < 10^{-3}$?"
   ]
  },
  {
   "cell_type": "code",
   "execution_count": 11,
   "metadata": {
    "colab": {
     "base_uri": "https://localhost:8080/"
    },
    "deletable": false,
    "id": "6u4RU35En5st",
    "nbgrader": {
     "cell_type": "code",
     "checksum": "5312cb237aaba2e94e26cd2177a31bd0",
     "grade": true,
     "grade_id": "cell-6e9a3b55d1fa9b7d",
     "locked": false,
     "points": 0,
     "schema_version": 3,
     "solution": true,
     "task": false
    },
    "outputId": "4d3c54f9-e182-48ef-d15a-80c2bfa5bbcb"
   },
   "outputs": [
    {
     "name": "stdout",
     "output_type": "stream",
     "text": [
      "13 4 3\n"
     ]
    }
   ],
   "source": [
    "def vec_power_iter(a, vec, eps=1e-3, maxiter=1000):\n",
    "    for i in range(maxiter):\n",
    "        y = np.dot(a, vec)\n",
    "        x = y / np.linalg.norm(y)\n",
    "        next_lm = np.dot(vec, y)\n",
    "        if (i != 0 and np.linalg.norm(vec - x) < eps) or i == maxiter - 1:\n",
    "            return lm, x, i\n",
    "        vec = x\n",
    "        lm = next_lm\n",
    "\n",
    "def vec_inverse_iter(a, vec, mu, eps=1e-3, maxiter=1000):\n",
    "    ident = np.identity(vec.shape[0])\n",
    "\n",
    "    lm = mu\n",
    "\n",
    "    for i in range(maxiter):\n",
    "        y = np.linalg.solve(a - lm * ident, vec)\n",
    "        x = y / np.linalg.norm(y)\n",
    "        next_lm = np.dot(vec, np.dot(A, vec))\n",
    "        if (i != 0 and np.linalg.norm(vec - x) < eps) or i == maxiter - 1:\n",
    "            return lm, x, i\n",
    "        vec = x\n",
    "        lm = next_lm\n",
    "\n",
    "A, x = A_and_x()\n",
    "\n",
    "l, e, k1 = vec_power_iter(A, x)\n",
    "\n",
    "l, e, k2 = vec_inverse_iter(A, x, 3.5)\n",
    "\n",
    "l, e, k3 = vec_inverse_iter(A, x, 3.7)\n",
    "\n",
    "print(k1, k2, k3)"
   ]
  }
 ],
 "metadata": {
  "colab": {
   "collapsed_sections": [],
   "name": "Копия блокнота \"Копия блокнота \"eigenvalues.ipynb\"\"",
   "provenance": []
  },
  "kernelspec": {
   "display_name": "Python 3",
   "language": "python",
   "name": "python3"
  },
  "language_info": {
   "codemirror_mode": {
    "name": "ipython",
    "version": 3
   },
   "file_extension": ".py",
   "mimetype": "text/x-python",
   "name": "python",
   "nbconvert_exporter": "python",
   "pygments_lexer": "ipython3",
   "version": "3.7.6"
  }
 },
 "nbformat": 4,
 "nbformat_minor": 1
}
