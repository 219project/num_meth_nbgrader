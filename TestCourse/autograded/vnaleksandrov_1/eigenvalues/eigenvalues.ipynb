{
 "cells": [
  {
   "cell_type": "markdown",
   "metadata": {
    "id": "DUFojxtziuUT"
   },
   "source": [
    "Before you turn this problem in, make sure everything runs as expected. First, **restart the kernel** (in the menubar, select Kernel$\\rightarrow$Restart) and then **run all cells** (in the menubar, select Cell$\\rightarrow$Run All).\n",
    "\n",
    "Make sure you fill in any place that says `YOUR CODE HERE` or \"YOUR ANSWER HERE\", as well as your name and collaborators below:"
   ]
  },
  {
   "cell_type": "code",
   "execution_count": 1,
   "metadata": {
    "id": "da6i8Qs4iuUa"
   },
   "outputs": [],
   "source": [
    "NAME = \"Aleksandrov Vladislav BPM182\"\n",
    "COLLABORATORS = \"-\""
   ]
  },
  {
   "cell_type": "markdown",
   "metadata": {
    "id": "ERghOeo1iuUd"
   },
   "source": [
    "---"
   ]
  },
  {
   "cell_type": "code",
   "execution_count": 2,
   "metadata": {
    "deletable": false,
    "editable": false,
    "id": "_7dFjp6AiuUd",
    "nbgrader": {
     "cell_type": "code",
     "checksum": "05666cdfbea4d90e167692683629e516",
     "grade": false,
     "grade_id": "cell-dee318487c917c20",
     "locked": true,
     "schema_version": 3,
     "solution": false,
     "task": false
    }
   },
   "outputs": [],
   "source": [
    "import numpy as np\n",
    "from numpy.testing import assert_allclose"
   ]
  },
  {
   "cell_type": "markdown",
   "metadata": {
    "deletable": false,
    "editable": false,
    "id": "JtjVcLFUiuUe",
    "nbgrader": {
     "cell_type": "markdown",
     "checksum": "669a2dcb9b9e6f6c64579986fb9235df",
     "grade": false,
     "grade_id": "cell-00de4de4082aa444",
     "locked": true,
     "schema_version": 3,
     "solution": false,
     "task": false
    }
   },
   "source": [
    "# 1. Степенная итерация"
   ]
  },
  {
   "cell_type": "markdown",
   "metadata": {
    "deletable": false,
    "editable": false,
    "id": "Kk94HBVBiuUf",
    "nbgrader": {
     "cell_type": "markdown",
     "checksum": "9f430376dbbc28c66fa9ab28bcecb6ca",
     "grade": false,
     "grade_id": "cell-1a3077925e3e394b",
     "locked": true,
     "schema_version": 3,
     "solution": false,
     "task": false
    }
   },
   "source": [
    "Дана квадратная $n \\times n$ матрица $A$. Алгоритм степенной итерации позволяет найти максимальное собственное значение $\\lambda$ матрицы $A$. Для начала необходимо задать начальное приближение собственного вектора $x_0$. \n",
    "\n",
    "\n",
    "Модифицированный алгоритм степенной итерации:\n",
    "\n",
    "1. $y_{k+1} = A x_k$\n",
    "\n",
    "2. $x_{k+1} = \\cfrac{y_{k+1}}{||y_{k+1}||}$\n",
    "\n",
    "3. $\\lambda^{(k)} = (x_k, y_{k+1})$\n",
    "\n",
    "где $k$ - номер итерации.\n",
    "\n",
    "Напишите функцию, реализующую поиск максимального собственного значения заданной матрицы с помощью алгоритма степенной итерации."
   ]
  },
  {
   "cell_type": "code",
   "execution_count": 3,
   "metadata": {
    "deletable": false,
    "id": "Ada0lwWSiuUf",
    "nbgrader": {
     "cell_type": "code",
     "checksum": "1a88dfc0f776e1d38fc4175d016cf5fc",
     "grade": false,
     "grade_id": "cell-3cfc4f5a0e04dc11",
     "locked": false,
     "schema_version": 3,
     "solution": true,
     "task": false
    }
   },
   "outputs": [],
   "source": [
    "def power_iter(a, vec, eps=1e-3, maxiter=1000):\n",
    "    \"\"\"Реализует алгоритм степенной итерации поиска максимального собственного значения матрицы `a` \n",
    "        с начальным приближением собственного вектора vec.\n",
    "    \n",
    "    Parameters\n",
    "    ----------\n",
    "    a : array-like of floats, shape (n, n)\n",
    "        Введённая матрица\n",
    "    vec : array-like of floats, shape (n,)\n",
    "        Введённое начальное приближение собственного вектора\n",
    "    eps : float\n",
    "        Введённая абсолютная точность\n",
    "    maxiter : integer\n",
    "        Максимальное количество итераций\n",
    "    \n",
    "    Returns\n",
    "    -------\n",
    "    lm : float\n",
    "        Приближение максимального собственного значения\n",
    "    outvec : array of floats, shape (n,)\n",
    "        Приближение собственного вектора\n",
    "    iters : integer\n",
    "        Количество итераций\n",
    "    \"\"\"\n",
    "    a = np.asarray(a, dtype=float)\n",
    "    if a.ndim != 2:\n",
    "        raise ValueError(\"a.ndim = %s, expected 2\" % a.ndim)\n",
    "    \n",
    "    vec = np.asarray(vec, dtype=float)\n",
    "    if vec.ndim != 1:\n",
    "        raise ValueError(\"vec.ndim = %s, expected 1\" % vec.ndim)\n",
    "        \n",
    "    if (a.shape[0] != a.shape[1]):\n",
    "        raise ValueError(\"a is not square\")\n",
    "        \n",
    "    if (a.shape[0] != vec.shape[0]):\n",
    "        raise ValueError(\"vec should be of length %s\" % a.shape[0])\n",
    "    \n",
    "    x = vec\n",
    "    for k in range(maxiter):\n",
    "      y_next = a @ x\n",
    "      x_next = y_next / np.linalg.norm(y_next)\n",
    "      lym = x @ y_next\n",
    "      if max(abs(y_next - lym * x)) < eps or k == maxiter - 1:\n",
    "        return lym, x, k+1\n",
    "      x = x_next"
   ]
  },
  {
   "cell_type": "markdown",
   "metadata": {
    "deletable": false,
    "editable": false,
    "id": "GVZC2Fq0iuUg",
    "nbgrader": {
     "cell_type": "markdown",
     "checksum": "794418380c0633f7d05918214a63a46d",
     "grade": false,
     "grade_id": "cell-16650a49b51bde96",
     "locked": true,
     "schema_version": 3,
     "solution": false,
     "task": false
    }
   },
   "source": [
    "Протестируйте свою функцию на следующих примерах:"
   ]
  },
  {
   "cell_type": "code",
   "execution_count": 4,
   "metadata": {
    "deletable": false,
    "editable": false,
    "id": "HTBgve5PiuUi",
    "nbgrader": {
     "cell_type": "code",
     "checksum": "c86b53d4e95733c7c21ed8dc66a4b319",
     "grade": true,
     "grade_id": "cell-d67c4ed20e0cc45a",
     "locked": true,
     "points": 4,
     "schema_version": 3,
     "solution": false,
     "task": false
    }
   },
   "outputs": [],
   "source": [
    "A = np.asarray([[4, 34],[7, 1]])\n",
    "\n",
    "np.random.seed(123)\n",
    "x = np.random.random(size=2)\n",
    "\n",
    "l, e, k = power_iter(A, x)\n",
    "assert_allclose(A @ e, l * e, atol=1e-3)\n",
    "\n",
    "l, e, k = power_iter(A, x, 1e-5)\n",
    "assert_allclose(A @ e, l * e, atol=1e-5)\n",
    "\n",
    "###BEGIN HIDDEN TESTS\n",
    "\n",
    "A = np.asarray([[1, 2], [0, 1]])\n",
    "x = np.asarray([1,1])\n",
    "\n",
    "l, e, k = power_iter(A, x)\n",
    "assert_allclose(A @ e, l * e, atol=1e-3)\n",
    "\n",
    "l, e, k = power_iter(A, x, 1e-5)\n",
    "assert_allclose(A @ e, l * e, atol=1e-5)\n",
    "\n",
    "###END HIDDEN TESTS"
   ]
  },
  {
   "cell_type": "markdown",
   "metadata": {
    "deletable": false,
    "editable": false,
    "id": "HHaJKuzYiuUi",
    "nbgrader": {
     "cell_type": "markdown",
     "checksum": "09dd6054c925c2448cbdfb2a00952c31",
     "grade": false,
     "grade_id": "cell-0aea0e46b416169e",
     "locked": true,
     "schema_version": 3,
     "solution": false,
     "task": false
    }
   },
   "source": [
    "# 2. Обратная итерация\n",
    "\n",
    "Этот метод может использоваться, например, для поиска собственных векторов матрицы, если уже имеется достаточно хорошее приближение её максимального собственного значения.\n",
    "\n",
    "Для реализации алгоритма необходимо задать начальные приближения для собственного вектора $x_0$ и собственного значения $\\mu$.\n",
    "\n",
    "На каждой итерации метода решается система уравнений:\n",
    "$$(A - \\lambda^{(k)} I) y_{k+1} = x_k,$$\n",
    "приэтом $\\lambda^{(0)} = \\mu$. После этого за новое приближение собственного вектора принимается нормированный вектор $y_{k+1}$:\n",
    "$$x_{k+1} = \\cfrac{y_{k+1}}{||y_{k+1}||}.$$"
   ]
  },
  {
   "cell_type": "code",
   "execution_count": 5,
   "metadata": {
    "deletable": false,
    "id": "q8FVyT_diuUi",
    "nbgrader": {
     "cell_type": "code",
     "checksum": "f9b46113b4ae028819eaf69072b54de2",
     "grade": false,
     "grade_id": "cell-f3b15fcf5f5b9c62",
     "locked": false,
     "schema_version": 3,
     "solution": true,
     "task": false
    }
   },
   "outputs": [],
   "source": [
    "def inverse_iter(a, vec, mu, eps=1e-3, maxiter=1000):\n",
    "    \"\"\"Реализует алгоритм степенной итерации поиска максимального собственного значения матрицы a \n",
    "        с начальным приближением собственного вектора vec и начальным приближением собственного значения mu\n",
    "    \n",
    "    Parameters\n",
    "    ----------\n",
    "    a : array-like of floats, shape (n, n)\n",
    "        Введённая матрица\n",
    "    vec : array-like of floats, shape (n,)\n",
    "        Введённое начальное приближение собственного вектора\n",
    "    mu : float\n",
    "        Введённое начальное приближение собственного значения\n",
    "    eps : float\n",
    "        Введённая точность \n",
    "    maxiter : integer\n",
    "        Максимальное количество итераций\n",
    "    \n",
    "    Returns\n",
    "    -------\n",
    "    lm : float\n",
    "        Приближение максимального собственного значения\n",
    "    outvec : array of floats, shape (n,)\n",
    "        Приближение собственного вектора\n",
    "    iters : integer\n",
    "        Количество итераций\n",
    "    \"\"\"\n",
    "    a = np.asarray(a, dtype=float)\n",
    "    if a.ndim != 2:\n",
    "        raise ValueError(\"a.ndim = %s, expected 2\" % a.ndim)\n",
    "    \n",
    "    vec = np.asarray(vec, dtype=float)\n",
    "    if vec.ndim != 1:\n",
    "        raise ValueError(\"vec.ndim = %s, expected 1\" % vec.ndim)\n",
    "        \n",
    "    if (a.shape[0] != a.shape[1]):\n",
    "        raise ValueError(\"a is not square\")\n",
    "        \n",
    "    if (a.shape[0] != vec.shape[0]):\n",
    "        raise ValueError(\"vec should be of length %s\" % a.shape[0])\n",
    "    \n",
    "    if (np.linalg.matrix_rank(a - mu * np.eye(a.shape[0])) != a.shape[0]):\n",
    "      lym = mu - 1e-3\n",
    "    else:\n",
    "      lym = mu\n",
    "    x = vec\n",
    "    for k in range(maxiter):\n",
    "      new_matrix = a - lym * np.eye(a.shape[0])\n",
    "      if (np.linalg.matrix_rank(new_matrix) != a.shape[0]):\n",
    "        lym, x, k\n",
    "      y = np.linalg.inv(new_matrix) @ x\n",
    "      if max(abs(a @ x - lym * x)) < eps or k == maxiter - 1:\n",
    "        return lym, x, k+1\n",
    "      x = y / np.linalg.norm(y)\n",
    "      lym = x @ (a @ x)"
   ]
  },
  {
   "cell_type": "markdown",
   "metadata": {
    "deletable": false,
    "editable": false,
    "id": "EyPp13ZuiuUk",
    "nbgrader": {
     "cell_type": "markdown",
     "checksum": "a6ddbeaa68cf7507ded8c69c800b2232",
     "grade": false,
     "grade_id": "cell-dbefba66b5327bd6",
     "locked": true,
     "schema_version": 3,
     "solution": false,
     "task": false
    }
   },
   "source": [
    "Протестируйте свою функцию на следующих примерах:"
   ]
  },
  {
   "cell_type": "code",
   "execution_count": 6,
   "metadata": {
    "deletable": false,
    "editable": false,
    "id": "xjD-9GYEiuUk",
    "nbgrader": {
     "cell_type": "code",
     "checksum": "3e5ce181ca2ed446d30d1d4a4954031d",
     "grade": true,
     "grade_id": "cell-014b5a8fe53ecfdf",
     "locked": true,
     "points": 3,
     "schema_version": 3,
     "solution": false,
     "task": false
    }
   },
   "outputs": [],
   "source": [
    "A = np.asarray([[4, 34],\n",
    "                [7, 1]])\n",
    "x = np.random.random(size=2)\n",
    "\n",
    "l, e, k = inverse_iter(A, x, 1.)\n",
    "assert_allclose(A @ e, l * e, atol=1e-3)\n",
    "\n",
    "l, e, k = inverse_iter(A, x, 100.)\n",
    "assert_allclose(A @ e, l * e, atol=1e-3)\n",
    "\n",
    "###BEGIN HIDDEN TESTS\n",
    "\n",
    "A = np.asarray([[1, 2], [0, 1]])\n",
    "x = np.asarray([1, 1])\n",
    "\n",
    "l, e, k = inverse_iter(A, x, 0.5)\n",
    "assert_allclose(A @ e, l * e, atol=1e-3)\n",
    "\n",
    "l, e, k = inverse_iter(A, x, 50.)\n",
    "assert_allclose(A @ e, l * e, atol=1e-3)\n",
    "\n",
    "###END HIDDEN TESTS"
   ]
  },
  {
   "cell_type": "markdown",
   "metadata": {
    "deletable": false,
    "editable": false,
    "id": "I8CwlFzTiuUl",
    "nbgrader": {
     "cell_type": "markdown",
     "checksum": "fcbbe61b5efabaf37f9d11b68774e4c1",
     "grade": false,
     "grade_id": "cell-30adf2c9ac9e0774",
     "locked": true,
     "schema_version": 3,
     "solution": false,
     "task": false
    }
   },
   "source": [
    "## Пример\n",
    "\n",
    "Рассмотрите матрицу \n",
    "$$ A = \n",
    "\\begin{bmatrix}\n",
    "3 & 1 & 0 & 0\\\\ \n",
    "1 & 2 & 0 & 1\\\\ \n",
    "0 & 0 & 1 & 1\\\\ \n",
    "0 & 1 & 1 & 1\n",
    "\\end{bmatrix}.$$"
   ]
  },
  {
   "cell_type": "code",
   "execution_count": 7,
   "metadata": {
    "deletable": false,
    "id": "5XQsmlxziuUm",
    "nbgrader": {
     "cell_type": "code",
     "checksum": "1e5cc87b75e98cb63efc0bd0e5d4419d",
     "grade": false,
     "grade_id": "cell-3fb3b96b54cbb97d",
     "locked": false,
     "schema_version": 3,
     "solution": true,
     "task": false
    }
   },
   "outputs": [],
   "source": [
    "# Определите матрицу `А` и задайте начальное приближение для собственного вектора\n",
    "# (используйте случайный начальный вектор)\n",
    "\n",
    "def A_and_x(seed=1234):\n",
    "    \"\"\"Возвращает матрицу `А` и случайный начальный вектор.\"\"\"\n",
    "    a = np.array([[3, 1, 0, 0], [1,2,0,1], [0,0,1,1], [0,1,1,1]])\n",
    "    np.random.seed(seed)\n",
    "    x = np.random.random(size=4)\n",
    "    return a, x"
   ]
  },
  {
   "cell_type": "markdown",
   "metadata": {
    "deletable": false,
    "editable": false,
    "id": "abfhOHHPiuUm",
    "nbgrader": {
     "cell_type": "markdown",
     "checksum": "41e2028e64f76fb8ad699f4b111affbf",
     "grade": false,
     "grade_id": "cell-8070e62614ed1872",
     "locked": true,
     "schema_version": 3,
     "solution": false,
     "task": false
    }
   },
   "source": [
    "Найдите максимальное собственное число этой матрицы тремя разными методами."
   ]
  },
  {
   "cell_type": "markdown",
   "metadata": {
    "deletable": false,
    "editable": false,
    "id": "Ur2jviDRiuUm",
    "nbgrader": {
     "cell_type": "markdown",
     "checksum": "cb1678cca632bff7bce255e85732a975",
     "grade": false,
     "grade_id": "cell-81756f5999707654",
     "locked": true,
     "schema_version": 3,
     "solution": false,
     "task": false
    }
   },
   "source": [
    "### 1) Степенная итерация"
   ]
  },
  {
   "cell_type": "code",
   "execution_count": 8,
   "metadata": {
    "deletable": false,
    "editable": false,
    "id": "v5U0jYNAiuUn",
    "nbgrader": {
     "cell_type": "code",
     "checksum": "996515b25f94ede75199765a71e5e0f4",
     "grade": true,
     "grade_id": "cell-a48d281064127067",
     "locked": true,
     "points": 1,
     "schema_version": 3,
     "solution": false,
     "task": false
    }
   },
   "outputs": [],
   "source": [
    "A, x = A_and_x()\n",
    "\n",
    "l, e, k = power_iter(A, x, eps=1e-5)\n",
    "assert_allclose(A @ e, l * e, atol=1.6e-2)\n",
    "\n",
    "### BEGIN HIDDEN TESTS\n",
    "A, x = A_and_x()\n",
    "l, e, k = power_iter(A, x, eps=1e-5)\n",
    "assert_allclose(A @ e, l * e, atol=1.6e-3)\n",
    "### END HIDDEN TESTS"
   ]
  },
  {
   "cell_type": "markdown",
   "metadata": {
    "id": "8U4QmvAriuUn"
   },
   "source": [
    "### 2) Обратная итерация с $\\mu = 3.5$"
   ]
  },
  {
   "cell_type": "code",
   "execution_count": 9,
   "metadata": {
    "deletable": false,
    "editable": false,
    "id": "Wuo4GY_CiuUn",
    "nbgrader": {
     "cell_type": "code",
     "checksum": "b3fa3f932da53b792b8792002ba45248",
     "grade": true,
     "grade_id": "cell-80ce0d792279ba41",
     "locked": true,
     "points": 1,
     "schema_version": 3,
     "solution": false,
     "task": false
    }
   },
   "outputs": [],
   "source": [
    "A, x = A_and_x()\n",
    "\n",
    "l, e, k = inverse_iter(A, x, 3.5, eps=1e-5)\n",
    "assert_allclose(A @ e, l * e, atol=1e-3)\n",
    "\n",
    "### BEGIN HIDDEN TESTS\n",
    "A, x = A_and_x()\n",
    "l, e, k = inverse_iter(A, x, 3.5, eps=1e-5)\n",
    "assert_allclose(A @ e, l * e, atol=1e-5)\n",
    "### END HIDDEN TESTS"
   ]
  },
  {
   "cell_type": "markdown",
   "metadata": {
    "deletable": false,
    "editable": false,
    "id": "FUWbtE-XiuUn",
    "nbgrader": {
     "cell_type": "markdown",
     "checksum": "6fa73bf60139a3b567f231dcfacee482",
     "grade": false,
     "grade_id": "cell-8e66d533134b1c8a",
     "locked": true,
     "schema_version": 3,
     "solution": false,
     "task": false
    }
   },
   "source": [
    "### 3) Обратная итерация с $\\mu = 3.7$"
   ]
  },
  {
   "cell_type": "code",
   "execution_count": 10,
   "metadata": {
    "deletable": false,
    "editable": false,
    "id": "b-211jKHiuUn",
    "nbgrader": {
     "cell_type": "code",
     "checksum": "4aac66d4abf46cc1f421a4f877ca1129",
     "grade": true,
     "grade_id": "cell-9fdc8e167e855b76",
     "locked": true,
     "points": 1,
     "schema_version": 3,
     "solution": false,
     "task": false
    }
   },
   "outputs": [],
   "source": [
    "A, x = A_and_x()\n",
    "\n",
    "l, e, k = inverse_iter(A, x, 3.7, eps=1e-5)\n",
    "assert_allclose(A @ e, l * e, atol=1e-3)\n",
    "\n",
    "### BEGIN HIDDEN TESTS\n",
    "A, x = A_and_x()\n",
    "l, e, k = inverse_iter(A, x, 3.7, 1e-5)\n",
    "assert_allclose(A @ e, l * e, atol=1e-5)\n",
    "### END HIDDEN TESTS"
   ]
  },
  {
   "cell_type": "markdown",
   "metadata": {
    "deletable": false,
    "editable": false,
    "id": "9G7J-yXQiuUo",
    "nbgrader": {
     "cell_type": "markdown",
     "checksum": "78fe511364d7cc76fd2f4df9f3a3a926",
     "grade": false,
     "grade_id": "cell-5a89eda9d7deabf3",
     "locked": true,
     "points": 5,
     "schema_version": 3,
     "solution": false,
     "task": true
    }
   },
   "source": [
    "Сколько шагов $k$ требуется в каждом случае для того, чтобы получить настоящий собственный вектор $x^*$ с точностью $||x^* - x_k||_2 < 10^{-3}$?"
   ]
  },
  {
   "cell_type": "code",
   "execution_count": 11,
   "metadata": {
    "colab": {
     "base_uri": "https://localhost:8080/"
    },
    "deletable": false,
    "id": "DP5EM9ZliuUo",
    "nbgrader": {
     "cell_type": "code",
     "checksum": "5312cb237aaba2e94e26cd2177a31bd0",
     "grade": true,
     "grade_id": "cell-6e9a3b55d1fa9b7d",
     "locked": false,
     "points": 0,
     "schema_version": 3,
     "solution": true,
     "task": false
    },
    "outputId": "ac2bd8f5-781e-4b88-b9e0-0e327f15c0ce"
   },
   "outputs": [
    {
     "name": "stdout",
     "output_type": "stream",
     "text": [
      "Степенная итерация:\n",
      "k = 16 pr = 0.0008132159514509945\n",
      "Уменьшим кол-во итераций:\n",
      "k = 15 pr = 0.0013156194035643105\n",
      "\n",
      "Обратная итерация с m = 3.5:\n",
      "k = 4 pr = 2.25178021559467e-06\n",
      "Уменьшим кол-во итераций:\n",
      "k = 3 pr = 0.01310356945972209\n",
      "\n",
      "Обратная итерация с m = 3.7:\n",
      "k = 3 pr = 6.824221502940697e-05\n",
      "Уменьшим кол-во итераций:\n",
      "k = 2 pr = 0.04077824396085803\n"
     ]
    }
   ],
   "source": [
    "A, x = A_and_x()\n",
    "eg = np.linalg.eig(A)\n",
    "mv = eg[1][:, eg[0].argmax()]\n",
    "v1, k1 = power_iter(A, x)[1:]\n",
    "v2, k2 = inverse_iter(A, x, 3.5)[1:]\n",
    "v3, k3 = inverse_iter(A, x, 3.7)[1:]\n",
    "print(\"Степенная итерация:\")\n",
    "print(\"k =\", k1, \"pr =\", np.linalg.norm(mv + v1))\n",
    "print(\"Уменьшим кол-во итераций:\")\n",
    "print(\"k =\", power_iter(A, x, maxiter=k1 -1)[2], \"pr =\", np.linalg.norm(mv + power_iter(A, x, maxiter=k1 -1)[1]))\n",
    "\n",
    "print(\"\\nОбратная итерация с m = 3.5:\")\n",
    "print(\"k =\", k2, \"pr =\", np.linalg.norm(mv + v2))\n",
    "print(\"Уменьшим кол-во итераций:\")\n",
    "print(\"k =\", inverse_iter(A, x, 3.5, maxiter= k2 - 1)[2], \"pr =\", np.linalg.norm(mv + inverse_iter(A, x, 3.5, maxiter= k2 - 1)[1]))\n",
    "\n",
    "print(\"\\nОбратная итерация с m = 3.7:\")\n",
    "print(\"k =\", k3, \"pr =\", np.linalg.norm(mv + v3))\n",
    "print(\"Уменьшим кол-во итераций:\")\n",
    "print(\"k =\", inverse_iter(A, x, 3.7, maxiter= k3 - 1)[2], \"pr =\", np.linalg.norm(mv + inverse_iter(A, x, 3.7, maxiter= k3 - 1)[1]))"
   ]
  }
 ],
 "metadata": {
  "colab": {
   "collapsed_sections": [],
   "name": "eigenvalues_vnaleksandrov_1.ipynb",
   "provenance": []
  },
  "kernelspec": {
   "display_name": "Python 3",
   "language": "python",
   "name": "python3"
  },
  "language_info": {
   "codemirror_mode": {
    "name": "ipython",
    "version": 3
   },
   "file_extension": ".py",
   "mimetype": "text/x-python",
   "name": "python",
   "nbconvert_exporter": "python",
   "pygments_lexer": "ipython3",
   "version": "3.7.6"
  }
 },
 "nbformat": 4,
 "nbformat_minor": 0
}
