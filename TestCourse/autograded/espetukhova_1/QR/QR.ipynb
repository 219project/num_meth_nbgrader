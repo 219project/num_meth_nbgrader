{
 "cells": [
  {
   "cell_type": "markdown",
   "metadata": {},
   "source": [
    "Before you turn this problem in, make sure everything runs as expected. First, **restart the kernel** (in the menubar, select Kernel$\\rightarrow$Restart) and then **run all cells** (in the menubar, select Cell$\\rightarrow$Run All).\n",
    "\n",
    "Make sure you fill in any place that says `YOUR CODE HERE` or \"YOUR ANSWER HERE\", as well as your name and collaborators below:"
   ]
  },
  {
   "cell_type": "code",
   "execution_count": 1,
   "metadata": {},
   "outputs": [],
   "source": [
    "NAME = \"espetukhova\"\n",
    "COLLABORATORS = \"\""
   ]
  },
  {
   "cell_type": "markdown",
   "metadata": {},
   "source": [
    "---"
   ]
  },
  {
   "cell_type": "code",
   "execution_count": 2,
   "metadata": {
    "deletable": false,
    "editable": false,
    "nbgrader": {
     "cell_type": "code",
     "checksum": "771209e48db0b7681c5ce719d05b2b0c",
     "grade": false,
     "grade_id": "cell-66c8d50345588c95",
     "locked": true,
     "schema_version": 3,
     "solution": false,
     "task": false
    }
   },
   "outputs": [],
   "source": [
    "import numpy as np\n",
    "\n",
    "from numpy.testing import assert_allclose"
   ]
  },
  {
   "cell_type": "markdown",
   "metadata": {
    "deletable": false,
    "editable": false,
    "nbgrader": {
     "cell_type": "markdown",
     "checksum": "6e341b63b116d4fcfe0588359a79b265",
     "grade": false,
     "grade_id": "cell-cfd189ec24b01044",
     "locked": true,
     "schema_version": 3,
     "solution": false,
     "task": false
    }
   },
   "source": [
    "\n",
    "### Часть I. Постройте отражение Хаусхолдера для вектора.\n",
    "\n",
    "Дан вектор $\\mathbf{x}$ и плоскость, заданная вектором нормали $\\mathbf{u}$. Преобразование Хаусхолдера отражает $\\mathbf{x}$ относительно плоскости.\n",
    "\n",
    "Матрица преобразований Хаусхолдера:\n",
    "$$ \\mathbf{H} = \\mathbf{1} - 2 \\mathbf{u} \\mathbf{u}^T $$\n",
    "\n",
    "Если даны два вектора $\\mathbf{x}$ и $\\mathbf{y}$ одинаковой длины, поворот, преобразующий $\\mathbf{x}$ в $\\mathbf{y}$ называется преобразованием Хаусхолдера с\n",
    "$$ \\mathbf{u} = \\frac{\\mathbf{x} - \\mathbf{y}}{\\left|\\mathbf{x} - \\mathbf{y}\\right|} $$\n",
    "\n",
    "Напишите функцию, преобразующую заданный вектор $\\mathbf{x} = (x_1, \\dots, x_n)$ в $\\mathbf{y} = (\\left|\\mathbf{x}\\right|, 0, \\dots, 0)^T$, используя преобразование Хаусхолдера.\n"
   ]
  },
  {
   "cell_type": "code",
   "execution_count": 3,
   "metadata": {
    "deletable": false,
    "nbgrader": {
     "cell_type": "code",
     "checksum": "73d9a41ece5cf446777b9df562f48cf0",
     "grade": false,
     "grade_id": "cell-d8d82542e794c193",
     "locked": false,
     "schema_version": 3,
     "solution": true,
     "task": false
    }
   },
   "outputs": [],
   "source": [
    "import numpy as np\n",
    "def householder(vec):\n",
    "    \"\"\"Создает отражение Хаусхолдера, преобразующее 2-ю, 3-ю и т.д. компоненты вектора vec в нули.\n",
    "    \n",
    "    Parameters\n",
    "    ----------\n",
    "    vec : array-like of floats, shape (n,)\n",
    "        Введенный вектор\n",
    "    \n",
    "    Returns\n",
    "    -------\n",
    "    outvec : array of floats, shape (n,)\n",
    "        Преобразованный вектор, причем ``outvec[1:]==0`` и ``|outvec| == |vec|``\n",
    "    H : array of floats, shape (n, n)\n",
    "        Ортогональная матрица отражений Хаусхолдера\n",
    "    \"\"\"\n",
    "    vec = np.asarray(vec, dtype=float)\n",
    "    if vec.ndim != 1:\n",
    "        raise ValueError(\"vec.ndim = %s, expected 1\" % vec.ndim)\n",
    "    \n",
    "    # YOUR CODE HERE\n",
    "    n = len(vec)\n",
    "    I = np.eye(n)\n",
    "    e1 = np.zeros_like(vec).astype(float)\n",
    "    e1[0] = 1.0\n",
    "    V1 = e1 * np.linalg.norm(vec)# вектор у\n",
    "    print(\"V1:\", V1)\n",
    "    u = vec.copy()\n",
    "    u[0] = vec[0] - np.linalg.norm(vec)\n",
    "    u = u / np.linalg.norm(u)\n",
    "    H = I - 2 * (np.outer(u, np.transpose(u)))\n",
    "    print(\"H:\", H)\n",
    "    return V1 , H\n",
    "   "
   ]
  },
  {
   "cell_type": "markdown",
   "metadata": {
    "deletable": false,
    "editable": false,
    "nbgrader": {
     "cell_type": "markdown",
     "checksum": "c06ea08fd1f013d15e1b17ca2fb48e27",
     "grade": false,
     "grade_id": "cell-63560fcd44e56146",
     "locked": true,
     "schema_version": 3,
     "solution": false,
     "task": false
    }
   },
   "source": [
    "Протестируйте свою функцию на следующих примерах:"
   ]
  },
  {
   "cell_type": "code",
   "execution_count": 4,
   "metadata": {
    "deletable": false,
    "editable": false,
    "nbgrader": {
     "cell_type": "code",
     "checksum": "97789d6000886bb5e9644bf1f9d18e07",
     "grade": true,
     "grade_id": "cell-7364c2b9de6bb44c",
     "locked": true,
     "points": 3,
     "schema_version": 3,
     "solution": false,
     "task": false
    }
   },
   "outputs": [
    {
     "name": "stdout",
     "output_type": "stream",
     "text": [
      "V1: [3.74165739 0.         0.        ]\n",
      "H: [[ 0.26726124  0.53452248  0.80178373]\n",
      " [ 0.53452248  0.61007346 -0.5848898 ]\n",
      " [ 0.80178373 -0.5848898   0.12266529]]\n",
      "V1: [2.82373829 0.         0.         0.         0.         0.\n",
      " 0.         0.         0.         0.         0.         0.\n",
      " 0.         0.         0.         0.         0.         0.\n",
      " 0.         0.         0.        ]\n",
      "H: [[ 1.87367505e-01  5.78503909e-02  3.51216331e-01  9.12162209e-03\n",
      "   2.28514252e-01  4.95538703e-02  1.75455381e-02  3.50197494e-01\n",
      "   8.94415846e-02  3.05557705e-01  1.60453676e-01  3.62678714e-02\n",
      "   2.91351470e-01  2.56165134e-01  1.22644622e-01  3.00375504e-01\n",
      "   9.20715413e-02  3.24421782e-01  3.52166885e-01  1.72948831e-01\n",
      "   9.29044118e-02]\n",
      " [ 5.78503909e-02  9.95881696e-01 -2.50026946e-02 -6.49357990e-04\n",
      "  -1.62676719e-02 -3.52768414e-03 -1.24904707e-03 -2.49301647e-02\n",
      "  -6.36724554e-03 -2.17523084e-02 -1.14225162e-02 -2.58186886e-03\n",
      "  -2.07409826e-02 -1.82361070e-02 -8.73093232e-03 -2.13833934e-02\n",
      "  -6.55446919e-03 -2.30952208e-02 -2.50703634e-02 -1.23120323e-02\n",
      "  -6.61376031e-03]\n",
      " [ 3.51216331e-01 -2.50026946e-02  8.48205785e-01 -3.94232654e-03\n",
      "  -9.87628945e-02 -2.14169734e-02 -7.58310747e-03 -1.51353878e-01\n",
      "  -3.86562751e-02 -1.32060749e-01 -6.93474008e-02 -1.56748208e-02\n",
      "  -1.25920875e-01 -1.10713489e-01 -5.30064875e-02 -1.29821024e-01\n",
      "  -3.97929312e-02 -1.40213724e-01 -1.52205040e-01 -7.47477544e-02\n",
      "  -4.01528943e-02]\n",
      " [ 9.12162209e-03 -6.49357990e-04 -3.94232654e-03  9.99897612e-01\n",
      "  -2.56502252e-03 -5.56231361e-04 -1.96944830e-04 -3.93089031e-03\n",
      "  -1.00396223e-03 -3.42981843e-03 -1.80105743e-03 -4.07098927e-04\n",
      "  -3.27035656e-03 -2.87539762e-03 -1.37665907e-03 -3.37164936e-03\n",
      "  -1.03348292e-03 -3.64156358e-03 -3.95299629e-03 -1.94131282e-03\n",
      "  -1.04283171e-03]\n",
      " [ 2.28514252e-01 -1.62676719e-02 -9.87628945e-02 -2.56502252e-03\n",
      "   9.35741231e-01 -1.39346700e-02 -4.93384840e-03 -9.84763950e-02\n",
      "  -2.51511931e-02 -8.59235766e-02 -4.51199674e-02 -1.01986145e-02\n",
      "  -8.19287486e-02 -7.20342644e-02 -3.44879687e-02 -8.44663290e-02\n",
      "  -2.58907434e-02 -9.12282014e-02 -9.90301924e-02 -4.86336359e-02\n",
      "  -2.61249487e-02]\n",
      " [ 4.95538703e-02 -3.52768414e-03 -2.14169734e-02 -5.56231361e-04\n",
      "  -1.39346700e-02  9.96978233e-01 -1.06991700e-03 -2.13548453e-02\n",
      "  -5.45409729e-03 -1.86327362e-02 -9.78437447e-03 -2.21159430e-03\n",
      "  -1.77664480e-02 -1.56208051e-02 -7.47879973e-03 -1.83167285e-02\n",
      "  -5.61447056e-03 -1.97830569e-02 -2.14749376e-02 -1.05463220e-02\n",
      "  -5.66525853e-03]\n",
      " [ 1.75455381e-02 -1.24904707e-03 -7.58310747e-03 -1.96944830e-04\n",
      "  -4.93384840e-03 -1.06991700e-03  9.99621175e-01 -7.56110977e-03\n",
      "  -1.93113215e-03 -6.59729263e-03 -3.46435333e-03 -7.83059163e-04\n",
      "  -6.29056600e-03 -5.53085824e-03 -2.64801851e-03 -6.48540379e-03\n",
      "  -1.98791551e-03 -7.00458669e-03 -7.60363086e-03 -3.73413608e-03\n",
      "  -2.00589801e-03]\n",
      " [ 3.50197494e-01 -2.49301647e-02 -1.51353878e-01 -3.93089031e-03\n",
      "  -9.84763950e-02 -2.13548453e-02 -7.56110977e-03  8.49085182e-01\n",
      "  -3.85441378e-02 -1.31677657e-01 -6.91462322e-02 -1.56293500e-02\n",
      "  -1.25555593e-01 -1.10392322e-01 -5.28527219e-02 -1.29444428e-01\n",
      "  -3.96774966e-02 -1.39806980e-01 -1.51763511e-01 -7.45309200e-02\n",
      "  -4.00364155e-02]\n",
      " [ 8.94415846e-02 -6.36724554e-03 -3.86562751e-02 -1.00396223e-03\n",
      "  -2.51511931e-02 -5.45409729e-03 -1.93113215e-03 -3.85441378e-02\n",
      "   9.90155701e-01 -3.36309039e-02 -1.76601737e-02 -3.99178707e-03\n",
      "  -3.20673088e-02 -2.81945598e-02 -1.34987579e-02 -3.30605301e-02\n",
      "  -1.01337623e-02 -3.57071597e-02 -3.87608967e-02 -1.90354406e-02\n",
      "  -1.02254314e-02]\n",
      " [ 3.05557705e-01 -2.17523084e-02 -1.32060749e-01 -3.42981843e-03\n",
      "  -8.59235766e-02 -1.86327362e-02 -6.59729263e-03 -1.31677657e-01\n",
      "  -3.36309039e-02  8.85107338e-01 -6.03321392e-02 -1.36370716e-02\n",
      "  -1.09550980e-01 -9.63205764e-02 -4.61155681e-02 -1.12944105e-01\n",
      "  -3.46197931e-02 -1.21985739e-01 -1.32418166e-01 -6.50304391e-02\n",
      "  -3.49329605e-02]\n",
      " [ 1.60453676e-01 -1.14225162e-02 -6.93474008e-02 -1.80105743e-03\n",
      "  -4.51199674e-02 -9.78437447e-03 -3.46435333e-03 -6.91462322e-02\n",
      "  -1.76601737e-02 -6.03321392e-02  9.68318542e-01 -7.16106395e-03\n",
      "  -5.75271289e-02 -5.05796132e-02 -2.42160884e-02 -5.93089176e-02\n",
      "  -1.81794567e-02 -6.40568371e-02 -6.95350868e-02 -3.41486168e-02\n",
      "  -1.83439063e-02]\n",
      " [ 3.62678714e-02 -2.58186886e-03 -1.56748208e-02 -4.07098927e-04\n",
      "  -1.01986145e-02 -2.21159430e-03 -7.83059163e-04 -1.56293500e-02\n",
      "  -3.99178707e-03 -1.36370716e-02 -7.16106395e-03  9.98381361e-01\n",
      "  -1.30030459e-02 -1.14326761e-02 -5.47364202e-03 -1.34057895e-02\n",
      "  -4.10916231e-03 -1.44789773e-02 -1.57172441e-02 -7.71872404e-03\n",
      "  -4.14633340e-03]\n",
      " [ 2.91351470e-01 -2.07409826e-02 -1.25920875e-01 -3.27035656e-03\n",
      "  -8.19287486e-02 -1.77664480e-02 -6.29056600e-03 -1.25555593e-01\n",
      "  -3.20673088e-02 -1.09550980e-01 -5.75271289e-02 -1.30030459e-02\n",
      "   8.95542352e-01 -9.18423628e-02 -4.39715260e-02 -1.07693017e-01\n",
      "  -3.30102219e-02 -1.16314280e-01 -1.26261675e-01 -6.20069917e-02\n",
      "  -3.33088292e-02]\n",
      " [ 2.56165134e-01 -1.82361070e-02 -1.10713489e-01 -2.87539762e-03\n",
      "  -7.20342644e-02 -1.56208051e-02 -5.53085824e-03 -1.10392322e-01\n",
      "  -2.81945598e-02 -9.63205764e-02 -5.05796132e-02 -1.14326761e-02\n",
      "  -9.18423628e-02  9.19249382e-01 -3.86611121e-02 -9.46869977e-02\n",
      "  -2.90235978e-02 -1.02267076e-01 -1.11013130e-01 -5.45184457e-02\n",
      "  -2.92861426e-02]\n",
      " [ 1.22644622e-01 -8.73093232e-03 -5.30064875e-02 -1.37665907e-03\n",
      "  -3.44879687e-02 -7.47879973e-03 -2.64801851e-03 -5.28527219e-02\n",
      "  -1.34987579e-02 -4.61155681e-02 -2.42160884e-02 -5.47364202e-03\n",
      "  -4.39715260e-02 -3.86611121e-02  9.81490153e-01 -4.53334568e-02\n",
      "  -1.38956779e-02 -4.89625840e-02 -5.31499475e-02 -2.61018901e-02\n",
      "  -1.40213769e-02]\n",
      " [ 3.00375504e-01 -2.13833934e-02 -1.29821024e-01 -3.37164936e-03\n",
      "  -8.44663290e-02 -1.83167285e-02 -6.48540379e-03 -1.29444428e-01\n",
      "  -3.30605301e-02 -1.12944105e-01 -5.93089176e-02 -1.34057895e-02\n",
      "  -1.07693017e-01 -9.46869977e-02 -4.53334568e-02  8.88971406e-01\n",
      "  -3.40326480e-02 -1.19916884e-01 -1.30172379e-01 -6.39275352e-02\n",
      "  -3.43405041e-02]\n",
      " [ 9.20715413e-02 -6.55446919e-03 -3.97929312e-02 -1.03348292e-03\n",
      "  -2.58907434e-02 -5.61447056e-03 -1.98791551e-03 -3.96774966e-02\n",
      "  -1.01337623e-02 -3.46197931e-02 -1.81794567e-02 -4.10916231e-03\n",
      "  -3.30102219e-02 -2.90235978e-02 -1.38956779e-02 -3.40326480e-02\n",
      "   9.89568263e-01 -3.67570996e-02 -3.99006292e-02 -1.95951621e-02\n",
      "  -1.05261018e-02]\n",
      " [ 3.24421782e-01 -2.30952208e-02 -1.40213724e-01 -3.64156358e-03\n",
      "  -9.12282014e-02 -1.97830569e-02 -7.00458669e-03 -1.39806980e-01\n",
      "  -3.57071597e-02 -1.21985739e-01 -6.40568371e-02 -1.44789773e-02\n",
      "  -1.16314280e-01 -1.02267076e-01 -4.89625840e-02 -1.19916884e-01\n",
      "  -3.67570996e-02  8.70483283e-01 -1.40593207e-01 -6.90451938e-02\n",
      "  -3.70896008e-02]\n",
      " [ 3.52166885e-01 -2.50703634e-02 -1.52205040e-01 -3.95299629e-03\n",
      "  -9.90301924e-02 -2.14749376e-02 -7.60363086e-03 -1.51763511e-01\n",
      "  -3.87608967e-02 -1.32418166e-01 -6.95350868e-02 -1.57172441e-02\n",
      "  -1.26261675e-01 -1.11013130e-01 -5.31499475e-02 -1.30172379e-01\n",
      "  -3.99006292e-02 -1.40593207e-01  8.47383023e-01 -7.49500563e-02\n",
      "  -4.02615666e-02]\n",
      " [ 1.72948831e-01 -1.23120323e-02 -7.47477544e-02 -1.94131282e-03\n",
      "  -4.86336359e-02 -1.05463220e-02 -3.73413608e-03 -7.45309200e-02\n",
      "  -1.90354406e-02 -6.50304391e-02 -3.41486168e-02 -7.71872404e-03\n",
      "  -6.20069917e-02 -5.45184457e-02 -2.61018901e-02 -6.39275352e-02\n",
      "  -1.95951621e-02 -6.90451938e-02 -7.49500563e-02  9.63192097e-01\n",
      "  -1.97724181e-02]\n",
      " [ 9.29044118e-02 -6.61376031e-03 -4.01528943e-02 -1.04283171e-03\n",
      "  -2.61249487e-02 -5.66525853e-03 -2.00589801e-03 -4.00364155e-02\n",
      "  -1.02254314e-02 -3.49329605e-02 -1.83439063e-02 -4.14633340e-03\n",
      "  -3.33088292e-02 -2.92861426e-02 -1.40213769e-02 -3.43405041e-02\n",
      "  -1.05261018e-02 -3.70896008e-02 -4.02615666e-02 -1.97724181e-02\n",
      "   9.89378680e-01]]\n"
     ]
    }
   ],
   "source": [
    "v = np.array([1, 2, 3])\n",
    "v1, h = householder(v)\n",
    "\n",
    "assert_allclose(h @ v1, v, atol=1e-14)\n",
    "assert_allclose(h @ v, v1, atol=1e-14)\n",
    "\n",
    "assert_allclose(v1[1:], 0, atol=1e-14)\n",
    "\n",
    "assert_allclose(h @ h.T, np.eye(3), atol=1e-14)\n",
    "\n",
    "###BEGIN HIDDEN TESTS\n",
    "rndm = np.random.RandomState(1223)\n",
    "vec = rndm.uniform(size=21)\n",
    "v1, h = householder(vec)\n",
    "\n",
    "assert_allclose(h @ v1, vec, atol=1e-14)\n",
    "assert_allclose(h @ vec, v1, atol=1e-14)\n",
    "assert_allclose(v1[1:], 0, atol=1e-14)\n",
    "\n",
    "assert_allclose(h @ h.T, np.eye(h.shape[0]), atol=1e-14)\n",
    "###END HIDDEN TESTS"
   ]
  },
  {
   "cell_type": "markdown",
   "metadata": {
    "deletable": false,
    "editable": false,
    "nbgrader": {
     "cell_type": "markdown",
     "checksum": "ebe7493dd22452e2422d5f111bc86adc",
     "grade": false,
     "grade_id": "cell-35217c03c48d40be",
     "locked": true,
     "schema_version": 3,
     "solution": false,
     "task": false
    }
   },
   "source": [
    "### Part II. Вычисление $\\mathrm{QR}$ - разложения матрицы.\n",
    "\n",
    "Дана прямоугольная $m\\times n$ матрица $\\mathbf{A}$. Выполните отражение Хаусхолдера матрицы $\\mathbf{H}_1$, преобразующее первый столбец матрицы $\\mathbf{A}$ (назовем результат $\\mathbf{A}^{(1)}$)\n",
    "\n",
    "$$ \n",
    "\\mathbf{H}_1 \\mathbf{A} %\\begin{pmatrix} \\times &amp; \\times &amp; \\times &amp; \\dots &amp; \\times \\\\ 0 &amp; \\times &amp; \\times &amp; \\dots &amp; \\times \\\\ 0 &amp; \\times &amp; \\times &amp; \\dots &amp; \\times \\\\ &amp;&amp; \\dots&amp;&amp; \\\\ 0 &amp; \\times &amp; \\times &amp; \\dots &amp; \\times \\\\ \\end{pmatrix}\n",
    "%\n",
    "\\equiv \\mathbf{A}^{(1)}\\;. \n",
    "$$\n",
    "\n",
    "Теперь рассмотрим нижнюю правую часть матрицы $\\mathbf{A}^{(1)}$ и выполним преобразование Хаусхолдера, действующее на 2 столбец $\\mathbf{A}$:\n",
    "$$\n",
    "\\mathbf{H}_2 \\mathbf{A}^{(1)} % \\begin{pmatrix} \\times &amp; \\times &amp; \\times &amp; \\dots &amp; \\times \\\\ 0 &amp; \\times &amp; \\times &amp; \\dots &amp; \\times \\\\ 0 &amp; 0 &amp; \\times &amp; \\dots &amp; \\times \\\\ &amp;&amp; \\dots&amp;&amp; \\\\ 0 &amp; 0 &amp; \\times &amp; \\dots &amp; \\times \\\\ \\end{pmatrix}\n",
    "%\n",
    "\\equiv \\mathbf{A}^{(2)} \\;. $$\n",
    "\n",
    "Повторяя процесс $n$ раз, получим\n",
    "$$\n",
    "\\mathbf{H}_{n} \\cdots \\mathbf{H}_2 \\mathbf{H}_1 \\mathbf{A} = \\mathbf{R} \\;, \n",
    "$$\n",
    "\n",
    "где $\\mathbf{R}$ верхняя треугольная матрица. Так как каждая из матриц $\\mathbf{H}_k$ ортогональна, таковым будет и их произведение. Обратная от ортогональной также есть матрица ортогональная. Таким образом, алгоритм создает $\\mathrm{QR}$ - разложение матрицы $\\mathbf{A}$.\n",
    "\n",
    "Напишите функцию, получающую прямоугольную матрицу $A$ и возвращающую матрицы $Q$ и $R$ --- компоненты $QR$-разложения $A$.\n"
   ]
  },
  {
   "cell_type": "code",
   "execution_count": 5,
   "metadata": {
    "deletable": false,
    "nbgrader": {
     "cell_type": "code",
     "checksum": "8a1f5a91c16847856a0cbb2190e6fc61",
     "grade": false,
     "grade_id": "cell-d5a63eec70d4d566",
     "locked": false,
     "schema_version": 3,
     "solution": true,
     "task": false
    }
   },
   "outputs": [],
   "source": [
    "def qr_decomp(a):\n",
    "    \"\"\"Вычисляет QR - разложение матрицы.\n",
    "    \n",
    "    Parameters\n",
    "    ----------\n",
    "    a : ndarray, shape(m, n)\n",
    "        Введенная матрица\n",
    "    \n",
    "    Returns\n",
    "    -------\n",
    "    q : ndarray, shape(m, m)\n",
    "        Ортогональная матрица\n",
    "    r : ndarray, shape(m, n)\n",
    "        Верхняя треугольная матрица\n",
    "        \n",
    "    Examples\n",
    "    --------\n",
    "    >>> a = np.random.random(size=(3, 5))\n",
    "    >>> q, r = qr_decomp(a)\n",
    "    >>> np.testing.assert_allclose(q @ r, a, atol=1e-14)\n",
    "    \n",
    "    \"\"\"\n",
    "    a1 = np.array(a, copy=True, dtype=float)\n",
    "    m, n = a1.shape\n",
    "    \n",
    "    # YOUR CODE HERE\n",
    "    R = a1.copy()\n",
    "    Q = np.identity(m)\n",
    "\n",
    "    for j in range(0, n):\n",
    "        # Apply Householder transformation.\n",
    "        h = np.eye(m)\n",
    "        V1, H = householder(R[j:,j])\n",
    "        h[j:, j:] = H\n",
    "        R = h @ R\n",
    "        Q = Q @ h\n",
    "\n",
    "    return Q,R"
   ]
  },
  {
   "cell_type": "code",
   "execution_count": 6,
   "metadata": {
    "deletable": false,
    "editable": false,
    "nbgrader": {
     "cell_type": "code",
     "checksum": "cbad5d2fd9cc1e9402ecf57d84c8d4f6",
     "grade": false,
     "grade_id": "cell-56fbda736c3cd7ea",
     "locked": true,
     "schema_version": 3,
     "solution": false,
     "task": false
    }
   },
   "outputs": [],
   "source": [
    "# можете запустить данную операцию для бооее сжатого вывода: нули вместо `1e-16` и т.д.\n",
    "np.set_printoptions(suppress=True)"
   ]
  },
  {
   "cell_type": "code",
   "execution_count": 7,
   "metadata": {
    "deletable": false,
    "editable": false,
    "nbgrader": {
     "cell_type": "code",
     "checksum": "92b610ca8921e1424ed15186f1ac0245",
     "grade": true,
     "grade_id": "cell-c3391a61cbdadb2f",
     "locked": true,
     "points": 3,
     "schema_version": 3,
     "solution": false,
     "task": false
    }
   },
   "outputs": [
    {
     "name": "stdout",
     "output_type": "stream",
     "text": [
      "V1: [1.40152769 0.         0.         0.         0.        ]\n",
      "H: [[ 0.13665049  0.56035895  0.19725922  0.62498418  0.48765568]\n",
      " [ 0.56035895  0.63629775 -0.12803154 -0.4056474  -0.31651402]\n",
      " [ 0.19725922 -0.12803154  0.95492996 -0.1427972  -0.1114202 ]\n",
      " [ 0.62498418 -0.4056474  -0.1427972   0.54756999 -0.35301704]\n",
      " [ 0.48765568 -0.31651402 -0.1114202  -0.35301704  0.72455181]]\n",
      "V1: [0.84158252 0.         0.         0.        ]\n",
      "H: [[ 0.44144015  0.78195807 -0.11615982  0.42447505]\n",
      " [ 0.78195807 -0.09470529  0.1626184  -0.59424552]\n",
      " [-0.11615982  0.1626184   0.97584305  0.08827514]\n",
      " [ 0.42447505 -0.59424552  0.08827514  0.67742209]]\n",
      "V1: [0.5496046 0.        0.       ]\n",
      "H: [[-0.25241289  0.57716606 -0.77663832]\n",
      " [ 0.57716606  0.7340169   0.35790855]\n",
      " [-0.77663832  0.35790855  0.51839599]]\n"
     ]
    }
   ],
   "source": [
    "rndm = np.random.RandomState(1234)\n",
    "a = rndm.uniform(size=(5, 3))\n",
    "aa = a.copy()\n",
    "\n",
    "q, r = qr_decomp(a)\n",
    "\n",
    "# check that `qr_decomp` leaves `a` intact\n",
    "assert_allclose(a, aa, atol=1e-16)\n",
    "\n",
    "# тестируем, что Q ортогональна\n",
    "assert_allclose(q @ q.T, np.eye(5), atol=1e-14)\n",
    "\n",
    "# проверяем разложение\n",
    "assert_allclose(q @ r, a, atol=1e-14)"
   ]
  },
  {
   "cell_type": "markdown",
   "metadata": {
    "deletable": false,
    "editable": false,
    "nbgrader": {
     "cell_type": "markdown",
     "checksum": "23a1c1caad0cc026fb9b11be20db43c9",
     "grade": false,
     "grade_id": "cell-c0e81975f522036f",
     "locked": true,
     "schema_version": 3,
     "solution": false,
     "task": false
    }
   },
   "source": [
    "Теперь сравните ваше разложение с разложением, полученным библиотечной функцией (содержащей соответствующие функции библиотеки LAPACK)"
   ]
  },
  {
   "cell_type": "code",
   "execution_count": 8,
   "metadata": {
    "deletable": false,
    "editable": false,
    "nbgrader": {
     "cell_type": "code",
     "checksum": "ff88b4759f8e931b7fd1c4865974f290",
     "grade": false,
     "grade_id": "cell-30c8e09d6dfccd7e",
     "locked": true,
     "schema_version": 3,
     "solution": false,
     "task": false
    }
   },
   "outputs": [],
   "source": [
    "from scipy.linalg import qr\n",
    "qq, rr = qr(a)\n",
    "\n",
    "assert_allclose(np.dot(qq, rr), a,\n",
    "                atol=1e-14)"
   ]
  },
  {
   "cell_type": "markdown",
   "metadata": {},
   "source": [
    "Проверьте, согласуются ли ваши матрицы `q` и `r` с `qq` и `rr`. Объясните результат.\n",
    "Оставьте пояснения в этой ячейке."
   ]
  },
  {
   "cell_type": "code",
   "execution_count": 9,
   "metadata": {},
   "outputs": [
    {
     "name": "stdout",
     "output_type": "stream",
     "text": [
      "Q:\n",
      " [[ 0.13665049  0.53601299 -0.09369752  0.7697136   0.30459557]\n",
      " [ 0.56035895  0.0935397  -0.53326881  0.01839528 -0.62652547]\n",
      " [ 0.19725922  0.65948912  0.60068463 -0.32384673 -0.24589462]\n",
      " [ 0.62498418 -0.50418303  0.52144688  0.28453698  0.04822969]\n",
      " [ 0.48765568  0.12171264 -0.27224305 -0.47049398  0.67223293]] \n",
      "\n",
      "QQ:\n",
      " [[-0.13665049  0.53601299  0.09369752  0.661619   -0.49749149]\n",
      " [-0.56035895  0.0935397   0.53326881 -0.52477245 -0.34276292]\n",
      " [-0.19725922  0.65948912 -0.60068463 -0.37879015  0.14784752]\n",
      " [-0.62498418 -0.50418303 -0.52144688  0.18967657 -0.21750907]\n",
      " [-0.48765568  0.12171264  0.27224305  0.32774225  0.75222783]] \n",
      "\n",
      "R:\n",
      " [[ 1.40152769  1.2514379   0.89523615]\n",
      " [ 0.          0.84158252  0.68447942]\n",
      " [-0.          0.          0.5496046 ]\n",
      " [ 0.         -0.         -0.        ]\n",
      " [ 0.          0.          0.        ]] \n",
      "\n",
      "RR:\n",
      " [[-1.40152769 -1.2514379  -0.89523615]\n",
      " [ 0.          0.84158252  0.68447942]\n",
      " [ 0.          0.         -0.5496046 ]\n",
      " [ 0.          0.          0.        ]\n",
      " [ 0.          0.          0.        ]]\n"
     ]
    }
   ],
   "source": [
    "print('Q:\\n', q, '\\n')\n",
    "print('QQ:\\n', qq, '\\n')\n",
    "print('R:\\n', r, '\\n')\n",
    "print('RR:\\n', rr)"
   ]
  },
  {
   "cell_type": "markdown",
   "metadata": {
    "deletable": false,
    "editable": false,
    "nbgrader": {
     "cell_type": "markdown",
     "checksum": "1a1cfd1969ba69c09cdd68d5e651fb5b",
     "grade": false,
     "grade_id": "cell-28b501b4a2cd3dc1",
     "locked": true,
     "schema_version": 3,
     "solution": false,
     "task": false
    }
   },
   "source": [
    "\n",
    "### Часть III. Безматричная реализация.\n",
    "\n",
    "Отметим необычную структуру матрицы Хаусхолдера: матрица поворота $\\mathbf{H}$ полностью характеризуется вектором отражения $\\mathbf{u}$. Заметим, также, что вычислительная сложность операции отражения матрицы сильно зависит от порядка операций:\n",
    "$$ \\left( \\mathbf{u} \\mathbf{u}^T \\right) \\mathbf{A} \\qquad \\textrm{is } O(m^2 n)\\;, $$\n",
    "\n",
    "тогда как $$ \\mathbf{u} \\left( \\mathbf{u}^T \\mathbf{A} \\right) \\qquad \\textrm{is } O(mn) $$\n",
    "\n",
    "Таким образом, следует избегать формирований матриц $\\mathbf{H}$. Вместо этого можно сохранять сами векторы отражения $\\mathbf{u}$ и производить умножение произвольной матрицы на $\\mathbf{Q}^T$, например, как отдельную функцию (класс).\n",
    "\n",
    "Напишите функцию, выполняющую QR - разложение матрицы без формирования матриц $\\mathbf{H}$ и возвращающую матрицу $\\mathbf{R}$, а также вектора отражений Хаусхолдера.\n",
    "\n",
    "\n",
    "Напишите вторую функцию, которая использует вектора отражений, полученных предыдущей функцией, для вычисления произведения $Q^T B$ для заданной матрицы B. Убедитесь, что вы добавили достаточно комментариев, следующих вашим выкладкам. \n",
    "\n"
   ]
  },
  {
   "cell_type": "code",
   "execution_count": 10,
   "metadata": {},
   "outputs": [],
   "source": [
    "def norm(v):\n",
    "    return np.sqrt(np.sum(v**2))"
   ]
  },
  {
   "cell_type": "code",
   "execution_count": 11,
   "metadata": {
    "deletable": false,
    "nbgrader": {
     "cell_type": "code",
     "checksum": "dcc0faefea89bcb89fa28f0ae61fb5e1",
     "grade": false,
     "grade_id": "cell-5360f8930eabe0b4",
     "locked": false,
     "schema_version": 3,
     "solution": true,
     "task": false
    }
   },
   "outputs": [],
   "source": [
    "def qr_nomatrix(a):\n",
    "    \"\"\"Form QR decomposition of `a` via successive Householder reflections.\n",
    "    \n",
    "    Parameters\n",
    "    ----------\n",
    "    a : ndarray\n",
    "        Input matrix\n",
    "    \n",
    "    Returns\n",
    "    -------\n",
    "    R : ndarray\n",
    "        Upper triangular matrix of the QR decomposition\n",
    "    \n",
    "    U : ndarray\n",
    "        Columns store successive Householder reflectors: `U[j:, j]` stores\n",
    "        the Householder reflector for reducing the `j`-th column.\n",
    "        \n",
    "    See Also\n",
    "    --------\n",
    "    householder_apply : apply Householder reflectors stored in `U` to `a`.\n",
    "    \n",
    "    \"\"\"\n",
    "    # YOUR CODE HERE\n",
    "    a2 = np.array(a, copy=True, dtype=float)\n",
    "    m, n = a2.shape\n",
    "    U = np.zeros((m,n))\n",
    "    for i in range(n):\n",
    "        x = a2[i:, i]\n",
    "        y = np.zeros_like(x)\n",
    "        y[0] = norm(x)\n",
    "        if x[0] > 0:\n",
    "            d = x.copy()\n",
    "            d[0] = -np.sum(x[1:]**2) / (x[0] + norm(x))\n",
    "            u = d / norm(d)\n",
    "        else:\n",
    "            u = (x - y) / norm(x-y)\n",
    "        u = np.reshape(u, (1, x.shape[0]))\n",
    "        for k in range(m - i):\n",
    "            U[i:,i] = u\n",
    "        u_ = np.reshape(U[:, i], (1, m))\n",
    "        a2 = a2 - 2* u_.T @ (u_ @ a2)\n",
    "    return a2, U\n",
    "\n",
    "    \n",
    "def householder_apply(b, uu):\n",
    "    \"\"\"Apply the Householder reflectors stored in `uu` to `b`.\n",
    "    \n",
    "    The result is equivalent to\n",
    "    >>> r, q = qr_decomp(a)\n",
    "    >>> q.T @ b\n",
    "    \n",
    "    Parameters\n",
    "    ----------\n",
    "    b : ndarray\n",
    "        Input matrix\n",
    "    uu : ndarray\n",
    "        Householder reflectors: `U[j:, j]` is the reflection vector\n",
    "        for transforming the `j`-th column of `a`.\n",
    "        \n",
    "    Returns\n",
    "    -------\n",
    "    r : ndarray\n",
    "        The result of applying the reflectors to `b`. Equivalent to\n",
    "        computing `q.T @ b`.\n",
    "\n",
    "    See Also\n",
    "    --------\n",
    "    qr_decomp\n",
    "    \n",
    "    \"\"\"\n",
    "    b1 = np.array(b, copy=True, dtype=float)\n",
    "    for i in range(uu.shape[1]):\n",
    "        u = np.reshape(uu[:, i], (1, uu.shape[0]))\n",
    "        b1 = b1 - 2* u.T @ (u @ b1)\n",
    "    return b1"
   ]
  },
  {
   "cell_type": "code",
   "execution_count": 12,
   "metadata": {
    "deletable": false,
    "editable": false,
    "nbgrader": {
     "cell_type": "code",
     "checksum": "61999a616159d1e0e9bb05b209dd6e65",
     "grade": true,
     "grade_id": "cell-68363e2462de3a8b",
     "locked": true,
     "points": 3,
     "schema_version": 3,
     "solution": false,
     "task": false
    }
   },
   "outputs": [
    {
     "ename": "IndexError",
     "evalue": "index 0 is out of bounds for axis 0 with size 0",
     "output_type": "error",
     "traceback": [
      "\u001b[0;31m---------------------------------------------------------------------------\u001b[0m",
      "\u001b[0;31mIndexError\u001b[0m                                Traceback (most recent call last)",
      "\u001b[0;32m<ipython-input-12-8f74a7315d63>\u001b[0m in \u001b[0;36m<module>\u001b[0;34m\u001b[0m\n\u001b[1;32m     19\u001b[0m \u001b[0mname3\u001b[0m \u001b[0;34m=\u001b[0m \u001b[0;34m\"Test 3: horizontal rectangular matrix\"\u001b[0m\u001b[0;34m\u001b[0m\u001b[0;34m\u001b[0m\u001b[0m\n\u001b[1;32m     20\u001b[0m \u001b[0ma3\u001b[0m \u001b[0;34m=\u001b[0m \u001b[0mrndm\u001b[0m\u001b[0;34m.\u001b[0m\u001b[0muniform\u001b[0m\u001b[0;34m(\u001b[0m\u001b[0msize\u001b[0m\u001b[0;34m=\u001b[0m\u001b[0;34m(\u001b[0m\u001b[0;36m3\u001b[0m\u001b[0;34m,\u001b[0m \u001b[0;36m5\u001b[0m\u001b[0;34m)\u001b[0m\u001b[0;34m)\u001b[0m\u001b[0;34m\u001b[0m\u001b[0;34m\u001b[0m\u001b[0m\n\u001b[0;32m---> 21\u001b[0;31m \u001b[0mR1\u001b[0m\u001b[0;34m,\u001b[0m \u001b[0mU\u001b[0m \u001b[0;34m=\u001b[0m \u001b[0mqr_nomatrix\u001b[0m\u001b[0;34m(\u001b[0m\u001b[0ma3\u001b[0m\u001b[0;34m)\u001b[0m\u001b[0;34m\u001b[0m\u001b[0;34m\u001b[0m\u001b[0m\n\u001b[0m\u001b[1;32m     22\u001b[0m \u001b[0mR23\u001b[0m \u001b[0;34m=\u001b[0m \u001b[0mhouseholder_apply\u001b[0m\u001b[0;34m(\u001b[0m\u001b[0ma3\u001b[0m\u001b[0;34m,\u001b[0m \u001b[0mU\u001b[0m\u001b[0;34m)\u001b[0m\u001b[0;34m\u001b[0m\u001b[0;34m\u001b[0m\u001b[0m\n\u001b[1;32m     23\u001b[0m \u001b[0mR_lib3\u001b[0m \u001b[0;34m=\u001b[0m \u001b[0mqr\u001b[0m\u001b[0;34m(\u001b[0m\u001b[0ma3\u001b[0m\u001b[0;34m)\u001b[0m\u001b[0;34m[\u001b[0m\u001b[0;36m1\u001b[0m\u001b[0;34m]\u001b[0m\u001b[0;34m\u001b[0m\u001b[0;34m\u001b[0m\u001b[0m\n",
      "\u001b[0;32m<ipython-input-11-7f427216b47a>\u001b[0m in \u001b[0;36mqr_nomatrix\u001b[0;34m(a)\u001b[0m\n\u001b[1;32m     28\u001b[0m         \u001b[0mx\u001b[0m \u001b[0;34m=\u001b[0m \u001b[0ma2\u001b[0m\u001b[0;34m[\u001b[0m\u001b[0mi\u001b[0m\u001b[0;34m:\u001b[0m\u001b[0;34m,\u001b[0m \u001b[0mi\u001b[0m\u001b[0;34m]\u001b[0m\u001b[0;34m\u001b[0m\u001b[0;34m\u001b[0m\u001b[0m\n\u001b[1;32m     29\u001b[0m         \u001b[0my\u001b[0m \u001b[0;34m=\u001b[0m \u001b[0mnp\u001b[0m\u001b[0;34m.\u001b[0m\u001b[0mzeros_like\u001b[0m\u001b[0;34m(\u001b[0m\u001b[0mx\u001b[0m\u001b[0;34m)\u001b[0m\u001b[0;34m\u001b[0m\u001b[0;34m\u001b[0m\u001b[0m\n\u001b[0;32m---> 30\u001b[0;31m         \u001b[0my\u001b[0m\u001b[0;34m[\u001b[0m\u001b[0;36m0\u001b[0m\u001b[0;34m]\u001b[0m \u001b[0;34m=\u001b[0m \u001b[0mnorm\u001b[0m\u001b[0;34m(\u001b[0m\u001b[0mx\u001b[0m\u001b[0;34m)\u001b[0m\u001b[0;34m\u001b[0m\u001b[0;34m\u001b[0m\u001b[0m\n\u001b[0m\u001b[1;32m     31\u001b[0m         \u001b[0;32mif\u001b[0m \u001b[0mx\u001b[0m\u001b[0;34m[\u001b[0m\u001b[0;36m0\u001b[0m\u001b[0;34m]\u001b[0m \u001b[0;34m>\u001b[0m \u001b[0;36m0\u001b[0m\u001b[0;34m:\u001b[0m\u001b[0;34m\u001b[0m\u001b[0;34m\u001b[0m\u001b[0m\n\u001b[1;32m     32\u001b[0m             \u001b[0md\u001b[0m \u001b[0;34m=\u001b[0m \u001b[0mx\u001b[0m\u001b[0;34m.\u001b[0m\u001b[0mcopy\u001b[0m\u001b[0;34m(\u001b[0m\u001b[0;34m)\u001b[0m\u001b[0;34m\u001b[0m\u001b[0;34m\u001b[0m\u001b[0m\n",
      "\u001b[0;31mIndexError\u001b[0m: index 0 is out of bounds for axis 0 with size 0"
     ]
    }
   ],
   "source": [
    "rndm = np.random.RandomState(1223)\n",
    "\n",
    "a = rndm.uniform(size=(5, 5))\n",
    "R1, U = qr_nomatrix(a)\n",
    "R2 = householder_apply(a, U)\n",
    "R_lib = qr(a)[1]\n",
    "assert_allclose(R1, R2, atol=1e-14)\n",
    "\n",
    "###BEGIN HIDDEN TESTS\n",
    "\n",
    "name2 = \"Test 2: vertical rectangular matrix\"\n",
    "a2 = rndm.uniform(size=(5, 3))\n",
    "R1, U = qr_nomatrix(a2)\n",
    "R22 = householder_apply(a2, U)\n",
    "R_lib2 = qr(a2)[1]\n",
    "assert_allclose(R1, R22, atol=1e-14)\n",
    "\n",
    "\n",
    "name3 = \"Test 3: horizontal rectangular matrix\"\n",
    "a3 = rndm.uniform(size=(3, 5))\n",
    "R1, U = qr_nomatrix(a3)\n",
    "R23 = householder_apply(a3, U)\n",
    "R_lib3 = qr(a3)[1]\n",
    "assert_allclose(R1, R23, atol=1e-14)\n",
    "\n",
    "###END HIDDEN TESTS"
   ]
  },
  {
   "cell_type": "code",
   "execution_count": 13,
   "metadata": {
    "deletable": false,
    "editable": false,
    "nbgrader": {
     "cell_type": "code",
     "checksum": "1d43f3fa0c85dd0882b853d8d4545963",
     "grade": true,
     "grade_id": "cell-159c6803d580116d",
     "locked": true,
     "points": 3,
     "schema_version": 3,
     "solution": false,
     "task": false
    }
   },
   "outputs": [
    {
     "ename": "NameError",
     "evalue": "name 'R23' is not defined",
     "output_type": "error",
     "traceback": [
      "\u001b[0;31m---------------------------------------------------------------------------\u001b[0m",
      "\u001b[0;31mNameError\u001b[0m                                 Traceback (most recent call last)",
      "\u001b[0;32m<ipython-input-13-8bf97c9a7aa3>\u001b[0m in \u001b[0;36m<module>\u001b[0;34m\u001b[0m\n\u001b[1;32m     11\u001b[0m \u001b[0;34m\u001b[0m\u001b[0m\n\u001b[1;32m     12\u001b[0m conds = [np.allclose(R23[i, :], R_lib3[i, :], atol=1e-14) or\n\u001b[0;32m---> 13\u001b[0;31m          np.allclose(R23[i, :], -R_lib3[i, :], atol=1e-14) for i in range(3)]\n\u001b[0m\u001b[1;32m     14\u001b[0m \u001b[0;32massert\u001b[0m \u001b[0;32mFalse\u001b[0m \u001b[0;32mnot\u001b[0m \u001b[0;32min\u001b[0m \u001b[0mconds\u001b[0m\u001b[0;34m\u001b[0m\u001b[0;34m\u001b[0m\u001b[0m\n\u001b[1;32m     15\u001b[0m \u001b[0;31m###END HIDDEN TESTS\u001b[0m\u001b[0;34m\u001b[0m\u001b[0;34m\u001b[0m\u001b[0;34m\u001b[0m\u001b[0m\n",
      "\u001b[0;32m<ipython-input-13-8bf97c9a7aa3>\u001b[0m in \u001b[0;36m<listcomp>\u001b[0;34m(.0)\u001b[0m\n\u001b[1;32m     11\u001b[0m \u001b[0;34m\u001b[0m\u001b[0m\n\u001b[1;32m     12\u001b[0m conds = [np.allclose(R23[i, :], R_lib3[i, :], atol=1e-14) or\n\u001b[0;32m---> 13\u001b[0;31m          np.allclose(R23[i, :], -R_lib3[i, :], atol=1e-14) for i in range(3)]\n\u001b[0m\u001b[1;32m     14\u001b[0m \u001b[0;32massert\u001b[0m \u001b[0;32mFalse\u001b[0m \u001b[0;32mnot\u001b[0m \u001b[0;32min\u001b[0m \u001b[0mconds\u001b[0m\u001b[0;34m\u001b[0m\u001b[0;34m\u001b[0m\u001b[0m\n\u001b[1;32m     15\u001b[0m \u001b[0;31m###END HIDDEN TESTS\u001b[0m\u001b[0;34m\u001b[0m\u001b[0;34m\u001b[0m\u001b[0;34m\u001b[0m\u001b[0m\n",
      "\u001b[0;31mNameError\u001b[0m: name 'R23' is not defined"
     ]
    }
   ],
   "source": [
    "# Check consistency with the scipy library decomposition. Allow for sign differences\n",
    "\n",
    "conds = [np.allclose(R2[i, :], R_lib[i, :], atol=1e-14) or\n",
    "         np.allclose(R2[i, :], -R_lib[i, :], atol=1e-14) for i in range(5)]\n",
    "assert False not in conds\n",
    "\n",
    "###BEGIN HIDDEN TESTS\n",
    "conds = [np.allclose(R22[i, :], R_lib2[i, :], atol=1e-14) or\n",
    "         np.allclose(R22[i, :], -R_lib2[i, :], atol=1e-14) for i in range(5)]\n",
    "assert False not in conds\n",
    "\n",
    "conds = [np.allclose(R23[i, :], R_lib3[i, :], atol=1e-14) or\n",
    "         np.allclose(R23[i, :], -R_lib3[i, :], atol=1e-14) for i in range(3)]\n",
    "assert False not in conds\n",
    "###END HIDDEN TESTS"
   ]
  },
  {
   "cell_type": "code",
   "execution_count": 14,
   "metadata": {
    "deletable": false,
    "editable": false,
    "nbgrader": {
     "cell_type": "code",
     "checksum": "545b18d6c716104c360c950accf968be",
     "grade": true,
     "grade_id": "cell-cfb9d263bcd923ed",
     "locked": true,
     "points": 3,
     "schema_version": 3,
     "solution": false,
     "task": false
    }
   },
   "outputs": [
    {
     "name": "stdout",
     "output_type": "stream",
     "text": [
      "V1: [1.40152769 0.         0.         0.         0.        ]\n",
      "H: [[ 0.13665049  0.56035895  0.19725922  0.62498418  0.48765568]\n",
      " [ 0.56035895  0.63629775 -0.12803154 -0.4056474  -0.31651402]\n",
      " [ 0.19725922 -0.12803154  0.95492996 -0.1427972  -0.1114202 ]\n",
      " [ 0.62498418 -0.4056474  -0.1427972   0.54756999 -0.35301704]\n",
      " [ 0.48765568 -0.31651402 -0.1114202  -0.35301704  0.72455181]]\n",
      "V1: [0.84158252 0.         0.         0.        ]\n",
      "H: [[ 0.44144015  0.78195807 -0.11615982  0.42447505]\n",
      " [ 0.78195807 -0.09470529  0.1626184  -0.59424552]\n",
      " [-0.11615982  0.1626184   0.97584305  0.08827514]\n",
      " [ 0.42447505 -0.59424552  0.08827514  0.67742209]]\n",
      "V1: [0.5496046 0.        0.       ]\n",
      "H: [[-0.25241289  0.57716606 -0.77663832]\n",
      " [ 0.57716606  0.7340169   0.35790855]\n",
      " [-0.77663832  0.35790855  0.51839599]]\n"
     ]
    }
   ],
   "source": [
    "# More testing here, keep this cell intact\n",
    "\n",
    "### BEGIN HIDDEN TESTS\n",
    "\n",
    "rndm = np.random.RandomState(1234)\n",
    "a = rndm.uniform(size=(5, 3))\n",
    "\n",
    "q, r = qr_decomp(a)\n",
    "rr, uu = qr_nomatrix(a)\n",
    "\n",
    "# check consistency\n",
    "assert_allclose(np.triu(r),\n",
    "                np.triu(rr), atol=1e-14)\n",
    "\n",
    "# $Q^T @ A = R$\n",
    "assert_allclose(householder_apply(a, uu),\n",
    "                r,\n",
    "                atol=1e-14)\n",
    "\n",
    "# act on a different matrix\n",
    "b = rndm.uniform(size=(5, 3))\n",
    "assert_allclose(householder_apply(b, uu),\n",
    "                q.T @ b,\n",
    "                atol=1e-14)\n",
    "\n",
    "# END HIDDEN TESTS"
   ]
  },
  {
   "cell_type": "code",
   "execution_count": null,
   "metadata": {},
   "outputs": [],
   "source": []
  }
 ],
 "metadata": {
  "kernelspec": {
   "display_name": "Python 3",
   "language": "python",
   "name": "python3"
  },
  "language_info": {
   "codemirror_mode": {
    "name": "ipython",
    "version": 3
   },
   "file_extension": ".py",
   "mimetype": "text/x-python",
   "name": "python",
   "nbconvert_exporter": "python",
   "pygments_lexer": "ipython3",
   "version": "3.7.6"
  }
 },
 "nbformat": 4,
 "nbformat_minor": 4
}
