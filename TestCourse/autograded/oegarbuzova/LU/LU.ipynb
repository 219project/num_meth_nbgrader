{
 "cells": [
  {
   "cell_type": "markdown",
   "metadata": {
    "id": "xy5_s3qARnf0"
   },
   "source": [
    "Before you turn this problem in, make sure everything runs as expected. First, **restart the kernel** (in the menubar, select Kernel$\\rightarrow$Restart) and then **run all cells** (in the menubar, select Cell$\\rightarrow$Run All).\n",
    "\n",
    "Make sure you fill in any place that says `YOUR CODE HERE` or \"YOUR ANSWER HERE\", as well as your name and collaborators below:"
   ]
  },
  {
   "cell_type": "code",
   "execution_count": 1,
   "metadata": {
    "id": "Sa9Loyy9RngC"
   },
   "outputs": [
    {
     "ename": "NameError",
     "evalue": "name 'Olesya' is not defined",
     "output_type": "error",
     "traceback": [
      "\u001b[0;31m---------------------------------------------------------------------------\u001b[0m",
      "\u001b[0;31mNameError\u001b[0m                                 Traceback (most recent call last)",
      "\u001b[0;32m<ipython-input-1-5259643690a3>\u001b[0m in \u001b[0;36m<module>\u001b[0;34m\u001b[0m\n\u001b[0;32m----> 1\u001b[0;31m \u001b[0mNAME\u001b[0m \u001b[0;34m=\u001b[0m \u001b[0mOlesya\u001b[0m\u001b[0;34m\u001b[0m\u001b[0;34m\u001b[0m\u001b[0m\n\u001b[0m\u001b[1;32m      2\u001b[0m \u001b[0mCOLLABORATORS\u001b[0m \u001b[0;34m=\u001b[0m \u001b[0;34m\"\"\u001b[0m\u001b[0;34m\u001b[0m\u001b[0;34m\u001b[0m\u001b[0m\n",
      "\u001b[0;31mNameError\u001b[0m: name 'Olesya' is not defined"
     ]
    }
   ],
   "source": [
    "NAME = Olesya\n",
    "COLLABORATORS = \"\""
   ]
  },
  {
   "cell_type": "markdown",
   "metadata": {
    "id": "uTuclqY0RngD"
   },
   "source": [
    "---"
   ]
  },
  {
   "cell_type": "markdown",
   "metadata": {
    "deletable": false,
    "editable": false,
    "id": "7i7kEt4BRngE",
    "nbgrader": {
     "cell_type": "markdown",
     "checksum": "1acdeea1f1f6b8708284099563024d63",
     "grade": false,
     "grade_id": "cell-c94465944d7d67c7",
     "locked": true,
     "schema_version": 3,
     "solution": false,
     "task": false
    }
   },
   "source": [
    "# I. $LU$ - разложение квадратной матрицы"
   ]
  },
  {
   "cell_type": "markdown",
   "metadata": {
    "deletable": false,
    "editable": false,
    "id": "CescOvJuRngE",
    "nbgrader": {
     "cell_type": "markdown",
     "checksum": "2891791733c0f344a020919fef4c4ca5",
     "grade": false,
     "grade_id": "cell-eb6000fbe2dd8cb5",
     "locked": true,
     "schema_version": 3,
     "solution": false,
     "task": false
    }
   },
   "source": [
    "\n",
    "\n",
    "Рассмотрим наивную реализацию LU - разложения.\n",
    "\n",
    "Заметим, что мы используем массивы numpy для представления матриц. [Не используйте 'np.matrix'].\n"
   ]
  },
  {
   "cell_type": "code",
   "execution_count": 2,
   "metadata": {
    "deletable": false,
    "editable": false,
    "executionInfo": {
     "elapsed": 1699,
     "status": "ok",
     "timestamp": 1612729884237,
     "user": {
      "displayName": "Olesya Garbuzova",
      "photoUrl": "https://lh3.googleusercontent.com/a-/AOh14GhezpIGdfnqg5b3ECeSzxhGhzTKVLEI-kHUppuG=s64",
      "userId": "09700978696465273237"
     },
     "user_tz": -180
    },
    "id": "EYejMCTURngF",
    "nbgrader": {
     "cell_type": "code",
     "checksum": "c59e2e6b26bca2f2ab1aae73a5c75fa3",
     "grade": false,
     "grade_id": "cell-05558de8e4fe3d52",
     "locked": true,
     "schema_version": 3,
     "solution": false,
     "task": false
    }
   },
   "outputs": [],
   "source": [
    "import numpy as np\n",
    "\n",
    "def diy_lu(a):\n",
    "    \"\"\"Создает LU - разложение матрицы `a`.\n",
    "    \n",
    "    Наивное LU - разложение: работает столбец за столбцом, накапливает элементарные треугольные матрицы.\n",
    "    Без выбора главного элемента.\n",
    "    \"\"\"\n",
    "    N = a.shape[0]\n",
    "    \n",
    "    u = a.copy()\n",
    "    L = np.eye(N)\n",
    "    for j in range(N-1):\n",
    "        lam = np.eye(N)\n",
    "        gamma = u[j+1:, j] / u[j, j]\n",
    "        lam[j+1:, j] = -gamma\n",
    "        u = lam @ u\n",
    "\n",
    "        lam[j+1:, j] = gamma\n",
    "        L = L @ lam\n",
    "    return L, u"
   ]
  },
  {
   "cell_type": "code",
   "execution_count": 3,
   "metadata": {
    "colab": {
     "base_uri": "https://localhost:8080/"
    },
    "deletable": false,
    "editable": false,
    "executionInfo": {
     "elapsed": 1782,
     "status": "ok",
     "timestamp": 1612729890518,
     "user": {
      "displayName": "Olesya Garbuzova",
      "photoUrl": "https://lh3.googleusercontent.com/a-/AOh14GhezpIGdfnqg5b3ECeSzxhGhzTKVLEI-kHUppuG=s64",
      "userId": "09700978696465273237"
     },
     "user_tz": -180
    },
    "id": "kVkqN9uRRngG",
    "nbgrader": {
     "cell_type": "code",
     "checksum": "c6eb4c5a94231f7ea51b5336e4fcfd84",
     "grade": false,
     "grade_id": "cell-206e605b5fe9746a",
     "locked": true,
     "schema_version": 3,
     "solution": false,
     "task": false
    },
    "outputId": "ec82a77e-f6c1-4a39-a206-02d7c9546741"
   },
   "outputs": [
    {
     "data": {
      "text/plain": [
       "6"
      ]
     },
     "execution_count": 3,
     "metadata": {},
     "output_type": "execute_result"
    }
   ],
   "source": [
    "# Теперь сгенерируем матрицу полного ранга и протестируем наивное разложение.\n",
    "import numpy as np\n",
    "\n",
    "N = 6\n",
    "a = np.zeros((N, N), dtype=float)\n",
    "for i in range(N):\n",
    "    for j in range(N):\n",
    "        a[i, j] = 3. / (0.6*i*j + 1)\n",
    "\n",
    "L,U = diy_lu(a)\n",
    "\n",
    "np.linalg.matrix_rank(a)"
   ]
  },
  {
   "cell_type": "code",
   "execution_count": 4,
   "metadata": {
    "deletable": false,
    "editable": false,
    "executionInfo": {
     "elapsed": 1770,
     "status": "ok",
     "timestamp": 1612729893164,
     "user": {
      "displayName": "Olesya Garbuzova",
      "photoUrl": "https://lh3.googleusercontent.com/a-/AOh14GhezpIGdfnqg5b3ECeSzxhGhzTKVLEI-kHUppuG=s64",
      "userId": "09700978696465273237"
     },
     "user_tz": -180
    },
    "id": "XZuQw6U8RngG",
    "nbgrader": {
     "cell_type": "code",
     "checksum": "73ee5a80924774795bacb6353701b1f2",
     "grade": false,
     "grade_id": "cell-776c713bbc30f2ad",
     "locked": true,
     "schema_version": 3,
     "solution": false,
     "task": false
    }
   },
   "outputs": [],
   "source": [
    "# Настройка вывода чисел с плавающей точкой для большей ясности\n",
    "np.set_printoptions(precision=3)"
   ]
  },
  {
   "cell_type": "code",
   "execution_count": 5,
   "metadata": {
    "colab": {
     "base_uri": "https://localhost:8080/"
    },
    "deletable": false,
    "editable": false,
    "executionInfo": {
     "elapsed": 1210,
     "status": "ok",
     "timestamp": 1612729898953,
     "user": {
      "displayName": "Olesya Garbuzova",
      "photoUrl": "https://lh3.googleusercontent.com/a-/AOh14GhezpIGdfnqg5b3ECeSzxhGhzTKVLEI-kHUppuG=s64",
      "userId": "09700978696465273237"
     },
     "user_tz": -180
    },
    "id": "DToeloSqRngG",
    "nbgrader": {
     "cell_type": "code",
     "checksum": "21866e0dc99b98bc726156b46b2e53b6",
     "grade": false,
     "grade_id": "cell-834568ce33f5799c",
     "locked": true,
     "schema_version": 3,
     "solution": false,
     "task": false
    },
    "outputId": "d723ee91-6236-45f3-f4d3-7909e85e81aa"
   },
   "outputs": [
    {
     "name": "stdout",
     "output_type": "stream",
     "text": [
      "[[1.    0.    0.    0.    0.    0.   ]\n",
      " [1.    1.    0.    0.    0.    0.   ]\n",
      " [1.    1.455 1.    0.    0.    0.   ]\n",
      " [1.    1.714 1.742 1.    0.    0.   ]\n",
      " [1.    1.882 2.276 2.039 1.    0.   ]\n",
      " [1.    2.    2.671 2.944 2.354 1.   ]] \n",
      "\n",
      "[[ 3.000e+00  3.000e+00  3.000e+00  3.000e+00  3.000e+00  3.000e+00]\n",
      " [ 0.000e+00 -1.125e+00 -1.636e+00 -1.929e+00 -2.118e+00 -2.250e+00]\n",
      " [ 0.000e+00  0.000e+00  2.625e-01  4.574e-01  5.975e-01  7.013e-01]\n",
      " [ 0.000e+00  2.220e-16  0.000e+00 -2.197e-02 -4.480e-02 -6.469e-02]\n",
      " [ 0.000e+00 -4.528e-16  0.000e+00  6.939e-18  8.080e-04  1.902e-03]\n",
      " [ 0.000e+00  4.123e-16  0.000e+00 -1.634e-17  0.000e+00 -1.585e-05]] \n",
      "\n",
      "[[ 0.000e+00  0.000e+00  0.000e+00  0.000e+00  0.000e+00  0.000e+00]\n",
      " [ 0.000e+00  0.000e+00  0.000e+00  0.000e+00  0.000e+00  0.000e+00]\n",
      " [ 0.000e+00  0.000e+00  0.000e+00 -2.220e-16  1.110e-16  1.665e-16]\n",
      " [ 0.000e+00  0.000e+00 -2.220e-16  5.551e-17  1.665e-16  1.665e-16]\n",
      " [ 0.000e+00  0.000e+00  1.110e-16  1.665e-16 -1.665e-16 -5.551e-17]\n",
      " [ 0.000e+00  0.000e+00  1.665e-16  1.665e-16 -5.551e-17  0.000e+00]]\n"
     ]
    }
   ],
   "source": [
    "L, u = diy_lu(a)\n",
    "print(L, \"\\n\")\n",
    "print(u, \"\\n\")\n",
    "\n",
    "# Быстрый тест на адекватность: L @ U должна быть равна изначальной матрице с точностью до ошибок округления.\n",
    "print(a-L@u)"
   ]
  },
  {
   "cell_type": "markdown",
   "metadata": {
    "deletable": false,
    "editable": false,
    "id": "2zAA5hPnRngH",
    "nbgrader": {
     "cell_type": "markdown",
     "checksum": "90dc4dd0d89212844082a3eb20b0b60b",
     "grade": false,
     "grade_id": "cell-5f461bdf3dab7d0e",
     "locked": true,
     "schema_version": 3,
     "solution": false,
     "task": false
    }
   },
   "source": [
    "# II. Необходимость выбора главного элемента"
   ]
  },
  {
   "cell_type": "markdown",
   "metadata": {
    "deletable": false,
    "editable": false,
    "id": "wKUGkGCWRngH",
    "nbgrader": {
     "cell_type": "markdown",
     "checksum": "29a95634971fde3baecde4171c1493c3",
     "grade": false,
     "grade_id": "cell-0d14523b9d253a89",
     "locked": true,
     "schema_version": 3,
     "solution": false,
     "task": false
    }
   },
   "source": [
    "Давайте немного подправим матрицу, изменив в ней один элемент:"
   ]
  },
  {
   "cell_type": "code",
   "execution_count": 6,
   "metadata": {
    "colab": {
     "base_uri": "https://localhost:8080/"
    },
    "deletable": false,
    "editable": false,
    "executionInfo": {
     "elapsed": 1184,
     "status": "ok",
     "timestamp": 1612729904916,
     "user": {
      "displayName": "Olesya Garbuzova",
      "photoUrl": "https://lh3.googleusercontent.com/a-/AOh14GhezpIGdfnqg5b3ECeSzxhGhzTKVLEI-kHUppuG=s64",
      "userId": "09700978696465273237"
     },
     "user_tz": -180
    },
    "id": "rXuR55GfRngI",
    "nbgrader": {
     "cell_type": "code",
     "checksum": "637d91a18a4afd8a6908d84f82aa1698",
     "grade": false,
     "grade_id": "cell-d6999ec9614fc180",
     "locked": true,
     "schema_version": 3,
     "solution": false,
     "task": false
    },
    "outputId": "d726cadf-651f-4e4e-e650-7b575f03b394"
   },
   "outputs": [
    {
     "name": "stdout",
     "output_type": "stream",
     "text": [
      "[[3.    3.    3.    3.    3.    3.   ]\n",
      " [3.    3.    1.364 1.071 0.882 0.75 ]\n",
      " [3.    1.364 0.882 0.652 0.517 0.429]\n",
      " [3.    1.071 0.652 0.469 0.366 0.3  ]\n",
      " [3.    0.882 0.517 0.366 0.283 0.231]\n",
      " [3.    0.75  0.429 0.3   0.231 0.188]]\n"
     ]
    }
   ],
   "source": [
    "a1 = a.copy()\n",
    "a1[1, 1] = 3\n",
    "print(a1)"
   ]
  },
  {
   "cell_type": "markdown",
   "metadata": {
    "deletable": false,
    "editable": false,
    "id": "_1LoOXg3RngI",
    "nbgrader": {
     "cell_type": "markdown",
     "checksum": "fb3e20d42ec7f924e94b0f957b78cf61",
     "grade": false,
     "grade_id": "cell-7a53534efcebc6b3",
     "locked": true,
     "schema_version": 3,
     "solution": false,
     "task": false
    }
   },
   "source": [
    "Результирующая матрица имеет полный ранг, но наивное LU-разложение не работает."
   ]
  },
  {
   "cell_type": "code",
   "execution_count": 7,
   "metadata": {
    "colab": {
     "base_uri": "https://localhost:8080/"
    },
    "deletable": false,
    "editable": false,
    "executionInfo": {
     "elapsed": 1197,
     "status": "ok",
     "timestamp": 1612729908450,
     "user": {
      "displayName": "Olesya Garbuzova",
      "photoUrl": "https://lh3.googleusercontent.com/a-/AOh14GhezpIGdfnqg5b3ECeSzxhGhzTKVLEI-kHUppuG=s64",
      "userId": "09700978696465273237"
     },
     "user_tz": -180
    },
    "id": "fKk1LFXLRngI",
    "nbgrader": {
     "cell_type": "code",
     "checksum": "d14381e7c77405237c393b160cd2aa7d",
     "grade": false,
     "grade_id": "cell-19ebbd11505a4df5",
     "locked": true,
     "schema_version": 3,
     "solution": false,
     "task": false
    },
    "outputId": "b93421d1-edd5-4fdc-aadd-41932e54aa99"
   },
   "outputs": [
    {
     "data": {
      "text/plain": [
       "6"
      ]
     },
     "execution_count": 7,
     "metadata": {},
     "output_type": "execute_result"
    }
   ],
   "source": [
    "np.linalg.matrix_rank(a1)"
   ]
  },
  {
   "cell_type": "code",
   "execution_count": 8,
   "metadata": {
    "colab": {
     "base_uri": "https://localhost:8080/"
    },
    "deletable": false,
    "editable": false,
    "executionInfo": {
     "elapsed": 1028,
     "status": "ok",
     "timestamp": 1612729910129,
     "user": {
      "displayName": "Olesya Garbuzova",
      "photoUrl": "https://lh3.googleusercontent.com/a-/AOh14GhezpIGdfnqg5b3ECeSzxhGhzTKVLEI-kHUppuG=s64",
      "userId": "09700978696465273237"
     },
     "user_tz": -180
    },
    "id": "ypcSBwsFRngJ",
    "nbgrader": {
     "cell_type": "code",
     "checksum": "c15ff1619d0bbdc8137bd73a8a4e7882",
     "grade": false,
     "grade_id": "cell-38b248ff53e6f15e",
     "locked": true,
     "schema_version": 3,
     "solution": false,
     "task": false
    },
    "outputId": "cd1689b2-66b2-42a2-a914-1eec0aa9f803"
   },
   "outputs": [
    {
     "name": "stdout",
     "output_type": "stream",
     "text": [
      "[[nan nan nan nan nan nan]\n",
      " [nan nan nan nan nan nan]\n",
      " [nan nan nan nan nan nan]\n",
      " [nan nan nan nan nan nan]\n",
      " [nan nan nan nan nan nan]\n",
      " [nan nan nan nan nan nan]]\n",
      "[[nan nan nan nan nan nan]\n",
      " [nan nan nan nan nan nan]\n",
      " [nan nan nan nan nan nan]\n",
      " [nan nan nan nan nan nan]\n",
      " [nan nan nan nan nan nan]\n",
      " [nan nan nan nan nan nan]]\n"
     ]
    },
    {
     "name": "stderr",
     "output_type": "stream",
     "text": [
      "/home/kotya/anaconda3/lib/python3.7/site-packages/ipykernel_launcher.py:15: RuntimeWarning: divide by zero encountered in true_divide\n",
      "  from ipykernel import kernelapp as app\n",
      "/home/kotya/anaconda3/lib/python3.7/site-packages/ipykernel_launcher.py:17: RuntimeWarning: invalid value encountered in matmul\n",
      "/home/kotya/anaconda3/lib/python3.7/site-packages/ipykernel_launcher.py:20: RuntimeWarning: invalid value encountered in matmul\n",
      "/home/kotya/anaconda3/lib/python3.7/site-packages/ipykernel_launcher.py:15: RuntimeWarning: invalid value encountered in true_divide\n",
      "  from ipykernel import kernelapp as app\n"
     ]
    }
   ],
   "source": [
    "l, u = diy_lu(a1)\n",
    "\n",
    "print(l, u, sep='\\n')"
   ]
  },
  {
   "cell_type": "markdown",
   "metadata": {
    "deletable": false,
    "editable": false,
    "id": "BZYkYF-DRngJ",
    "nbgrader": {
     "cell_type": "markdown",
     "checksum": "d0480fa86f7e10ff6c76f9e551962a47",
     "grade": false,
     "grade_id": "cell-bc8216fec2166c04",
     "locked": true,
     "schema_version": 3,
     "solution": false,
     "task": false
    }
   },
   "source": [
    "### Тест II.1\n",
    "\n",
    "Для того, чтобы наивное LU - разложение работало необходимо чтобы все лидирующие миноры матрицы были отличны от нуля. Проверьте, выполнено ли это требование для двух матриц a и a1."
   ]
  },
  {
   "cell_type": "code",
   "execution_count": 9,
   "metadata": {
    "deletable": false,
    "executionInfo": {
     "elapsed": 1177,
     "status": "ok",
     "timestamp": 1612729919521,
     "user": {
      "displayName": "Olesya Garbuzova",
      "photoUrl": "https://lh3.googleusercontent.com/a-/AOh14GhezpIGdfnqg5b3ECeSzxhGhzTKVLEI-kHUppuG=s64",
      "userId": "09700978696465273237"
     },
     "user_tz": -180
    },
    "id": "qBkjJ2sbRngJ",
    "nbgrader": {
     "cell_type": "code",
     "checksum": "52cda027b54c7d2d0591d924f4d012ea",
     "grade": false,
     "grade_id": "cell-cd7f666a9fa51d35",
     "locked": false,
     "schema_version": 3,
     "solution": true,
     "task": false
    }
   },
   "outputs": [],
   "source": [
    "def minor(a):\n",
    "    ''' Check if all leading minors are non-zero.\n",
    "    \n",
    "    Parameters\n",
    "    ----------\n",
    "    a : np.array\n",
    "        2D array representing the square matrix\n",
    "    \n",
    "    Returns\n",
    "    -------\n",
    "    answer : bool\n",
    "        True if all leading minors are non-zero\n",
    "    '''\n",
    "    N = a.shape[0]\n",
    "    minors = np.zeros(N, dtype=float)\n",
    "    for i in range(N):\n",
    "      minors[i] = np.linalg.det(a[:i, :i])\n",
    "    if np.count_nonzero(minors) == N:\n",
    "      return True\n",
    "    else:\n",
    "      return False"
   ]
  },
  {
   "cell_type": "code",
   "execution_count": 10,
   "metadata": {
    "deletable": false,
    "editable": false,
    "executionInfo": {
     "elapsed": 674,
     "status": "ok",
     "timestamp": 1612729925763,
     "user": {
      "displayName": "Olesya Garbuzova",
      "photoUrl": "https://lh3.googleusercontent.com/a-/AOh14GhezpIGdfnqg5b3ECeSzxhGhzTKVLEI-kHUppuG=s64",
      "userId": "09700978696465273237"
     },
     "user_tz": -180
    },
    "id": "Kshr-DhQRngK",
    "nbgrader": {
     "cell_type": "code",
     "checksum": "5fb1ffbfd1da8aaad4b1bb2db2c91b25",
     "grade": true,
     "grade_id": "cell-212d71a3e76aea58",
     "locked": true,
     "points": 2,
     "schema_version": 3,
     "solution": false,
     "task": false
    }
   },
   "outputs": [],
   "source": [
    "assert minor(a)==True\n",
    "assert minor(a1)==False"
   ]
  },
  {
   "cell_type": "markdown",
   "metadata": {
    "deletable": false,
    "editable": false,
    "id": "1YgnVFWPRngK",
    "nbgrader": {
     "cell_type": "markdown",
     "checksum": "e755c0e186a7bf3d7061c786bda53250",
     "grade": false,
     "grade_id": "cell-6c5d624065287d6b",
     "locked": true,
     "schema_version": 3,
     "solution": false,
     "task": false
    }
   },
   "source": [
    "### Тест II.2\n",
    "\n",
    "Модифицируйте алгоритм diy_lu, чтобы осуществлять выбор главного элемента в столбцах. Для контроля выбора можете использовать матрицу перестановок или массив замен.\n",
    "Напишите функцию, воссоздающую изначальную матрицу из разложения. Протестируйте свой алгоритм на матрицах a и a1."
   ]
  },
  {
   "cell_type": "code",
   "execution_count": 11,
   "metadata": {
    "executionInfo": {
     "elapsed": 668,
     "status": "ok",
     "timestamp": 1612730001043,
     "user": {
      "displayName": "Olesya Garbuzova",
      "photoUrl": "https://lh3.googleusercontent.com/a-/AOh14GhezpIGdfnqg5b3ECeSzxhGhzTKVLEI-kHUppuG=s64",
      "userId": "09700978696465273237"
     },
     "user_tz": -180
    },
    "id": "zwIdbAjZP2l3"
   },
   "outputs": [],
   "source": [
    "from math import fabs\r\n",
    "numpy_fabs = np.vectorize(fabs)"
   ]
  },
  {
   "cell_type": "code",
   "execution_count": 12,
   "metadata": {
    "deletable": false,
    "executionInfo": {
     "elapsed": 683,
     "status": "ok",
     "timestamp": 1612730006531,
     "user": {
      "displayName": "Olesya Garbuzova",
      "photoUrl": "https://lh3.googleusercontent.com/a-/AOh14GhezpIGdfnqg5b3ECeSzxhGhzTKVLEI-kHUppuG=s64",
      "userId": "09700978696465273237"
     },
     "user_tz": -180
    },
    "id": "AXzBydgARngL",
    "nbgrader": {
     "cell_type": "code",
     "checksum": "20772ccf33cd71cf4be281f4944864db",
     "grade": false,
     "grade_id": "cell-703a27f2e76339e7",
     "locked": false,
     "schema_version": 3,
     "solution": true,
     "task": false
    }
   },
   "outputs": [],
   "source": [
    "def diy_lu_mod(a):\n",
    "    '''Perform pivoted LU factorization of the input matrix. \n",
    "    \n",
    "    Parameters\n",
    "    ----------\n",
    "    a : np.array\n",
    "        2D array representing a square matrix with float entries\n",
    "       \n",
    "    Returns\n",
    "    -------\n",
    "    P, L, U : ndarrays\n",
    "        factors. Here P is a permutation matrix, L is lower triangular\n",
    "        with unit diagonal elements, and U upper triangular.\n",
    "    '''\n",
    "    N = a.shape[0]\n",
    "    \n",
    "    u = a.copy()\n",
    "    L = np.eye(N)\n",
    "    P = np.eye(N)\n",
    "    for j in range(N-1):\n",
    "      ind = np.argmax(numpy_fabs(u[j:, j])) + j\n",
    "      #u_j = np.copy(u[j])\n",
    "      #u[j] = u[ind]\n",
    "      #u[ind] = u_j\n",
    "      if u[ind][j] != 0:\n",
    "        p = np.eye(N)\n",
    "        p_j = np.copy(p[j])\n",
    "        p[j] = p[ind]\n",
    "        p[ind] = p_j\n",
    "\n",
    "        u = p @ u\n",
    "\n",
    "        L = p @ L\n",
    "        L = L @ p\n",
    "\n",
    "        lam = np.eye(N)\n",
    "        gamma = u[j+1:, j] / u[j, j]\n",
    "        lam[j+1:, j] = -gamma\n",
    "        u = lam @ u\n",
    "\n",
    "        lam[j+1:, j] = gamma\n",
    "        L = L @ lam\n",
    "        P = P @ p\n",
    "\n",
    "    return P, L, u\n"
   ]
  },
  {
   "cell_type": "code",
   "execution_count": 13,
   "metadata": {
    "deletable": false,
    "editable": false,
    "executionInfo": {
     "elapsed": 712,
     "status": "ok",
     "timestamp": 1612730008332,
     "user": {
      "displayName": "Olesya Garbuzova",
      "photoUrl": "https://lh3.googleusercontent.com/a-/AOh14GhezpIGdfnqg5b3ECeSzxhGhzTKVLEI-kHUppuG=s64",
      "userId": "09700978696465273237"
     },
     "user_tz": -180
    },
    "id": "3Glw1iW3RngL",
    "nbgrader": {
     "cell_type": "code",
     "checksum": "c97f676bb8ebc237be45ed1dc8b01183",
     "grade": true,
     "grade_id": "cell-eacc7aa962410524",
     "locked": true,
     "points": 8,
     "schema_version": 3,
     "solution": false,
     "task": false
    }
   },
   "outputs": [],
   "source": [
    "P, L, U = diy_lu_mod(a)\n",
    "P1, L1, U1 = diy_lu_mod(a1)\n",
    "\n",
    "from numpy.testing import assert_allclose\n",
    "assert_allclose(a, P @ L @ U, atol=1e-10)\n",
    "assert_allclose(a1, P1 @ L1 @ U1, atol=1e-10 )\n",
    "\n",
    "###BEGIN HIDDEN TESTS\n",
    "np.random.seed(1234)\n",
    "m = np.random.rand(N, N)\n",
    "a2 = np.diag([100]*N) + m.T @ m\n",
    "P2, L2, U2 = diy_lu_mod(a2)\n",
    "\n",
    "assert_allclose(a2, P2 @ L2 @ U2)\n",
    "###END HIDDEN TESTS"
   ]
  }
 ],
 "metadata": {
  "colab": {
   "name": "LU_oegarbuzova.ipynb",
   "provenance": []
  },
  "kernelspec": {
   "display_name": "Python 3",
   "language": "python",
   "name": "python3"
  },
  "language_info": {
   "codemirror_mode": {
    "name": "ipython",
    "version": 3
   },
   "file_extension": ".py",
   "mimetype": "text/x-python",
   "name": "python",
   "nbconvert_exporter": "python",
   "pygments_lexer": "ipython3",
   "version": "3.7.6"
  }
 },
 "nbformat": 4,
 "nbformat_minor": 0
}
