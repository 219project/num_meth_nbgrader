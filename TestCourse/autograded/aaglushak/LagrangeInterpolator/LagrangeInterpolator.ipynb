{
 "cells": [
  {
   "cell_type": "markdown",
   "metadata": {
    "id": "s648Wze5NNR8"
   },
   "source": [
    "Before you turn this problem in, make sure everything runs as expected. First, **restart the kernel** (in the menubar, select Kernel$\\rightarrow$Restart) and then **run all cells** (in the menubar, select Cell$\\rightarrow$Run All).\n",
    "\n",
    "Make sure you fill in any place that says `YOUR CODE HERE` or \"YOUR ANSWER HERE\", as well as your name and collaborators below:"
   ]
  },
  {
   "cell_type": "code",
   "execution_count": 1,
   "metadata": {
    "execution": {
     "iopub.execute_input": "2021-04-19T11:05:02.406799Z",
     "iopub.status.busy": "2021-04-19T11:05:02.404239Z",
     "iopub.status.idle": "2021-04-19T11:05:02.414075Z",
     "shell.execute_reply": "2021-04-19T11:05:02.415235Z"
    },
    "id": "h7r5jMr5NNSC"
   },
   "outputs": [],
   "source": [
    "NAME = \"Artem Glushak\"\n",
    "COLLABORATORS = \"\""
   ]
  },
  {
   "cell_type": "markdown",
   "metadata": {
    "id": "z-Qsg3dPNNSD"
   },
   "source": [
    "---"
   ]
  },
  {
   "cell_type": "markdown",
   "metadata": {
    "deletable": false,
    "editable": false,
    "id": "UazhWmFKNNSE",
    "nbgrader": {
     "cell_type": "markdown",
     "checksum": "233c53446ef795debdf3179ead9a728a",
     "grade": false,
     "grade_id": "cell-af0193379161e7dd",
     "locked": true,
     "schema_version": 3,
     "solution": false,
     "task": false
    }
   },
   "source": [
    "# Интерполяция при помощи полиномов Лагранжа."
   ]
  },
  {
   "cell_type": "code",
   "execution_count": 2,
   "metadata": {
    "deletable": false,
    "execution": {
     "iopub.execute_input": "2021-04-19T11:05:02.421627Z",
     "iopub.status.busy": "2021-04-19T11:05:02.420583Z",
     "iopub.status.idle": "2021-04-19T11:05:02.633425Z",
     "shell.execute_reply": "2021-04-19T11:05:02.634238Z"
    },
    "id": "QxLNBRLPNNSE",
    "nbgrader": {
     "cell_type": "code",
     "checksum": "c209243c82df3a0862e2b45a6e133bbc",
     "grade": false,
     "grade_id": "cell-d459dee4d09527c4",
     "locked": false,
     "schema_version": 3,
     "solution": true,
     "task": false
    }
   },
   "outputs": [],
   "source": [
    "import numpy as np\n",
    "\n",
    "class LagrangeInterpolator:\n",
    "    \"\"\"Lagrange interpolating polynomial.\n",
    "    \n",
    "    Given a set of pairs ``(x_k, y_k)``, construct \n",
    "    a Lagrange polynomial ``f(x)``, such that\n",
    "    \n",
    "    .. math::\n",
    "\n",
    "        f(x_k) = y_k   for k =0, ..., n-1\n",
    "    \n",
    "    Parameters\n",
    "    ----------\n",
    "    xk : array_like, shape(n,)\n",
    "        Abscissas\n",
    "    yk : array_like, shape(n,)\n",
    "        Ordinates\n",
    "    \n",
    "    Attributes\n",
    "    ----------\n",
    "    __call__\n",
    "    \n",
    "    \"\"\"\n",
    "    def __init__(self, xk, yk):\n",
    "        self.xk = np.asarray(xk, dtype=float)\n",
    "        self.yk = np.asarray(yk, dtype=float)\n",
    "        \n",
    "    def __call__(self, x):\n",
    "        \"\"\"Evaluate the interpolator at a given point.\n",
    "        \n",
    "        Parameters\n",
    "        ----------\n",
    "        x : float\n",
    "        \n",
    "        Returns\n",
    "        -------\n",
    "        the value of the interpolator at ``x``.\n",
    "        \"\"\"\n",
    "        # YOUR CODE HERE\n",
    "        L = 0\n",
    "        n = len(self.yk)\n",
    "        m = len(self.xk)\n",
    "        for i in range(n):\n",
    "          l = 1\n",
    "          for j in range(m):\n",
    "            if j != i:\n",
    "              l *= (x - self.xk[j]) / (self.xk[i] - self.xk[j])\n",
    "          L += l * self.yk[i]\n",
    "        return L"
   ]
  },
  {
   "cell_type": "code",
   "execution_count": 3,
   "metadata": {
    "deletable": false,
    "editable": false,
    "execution": {
     "iopub.execute_input": "2021-04-19T11:05:02.638590Z",
     "iopub.status.busy": "2021-04-19T11:05:02.637632Z",
     "iopub.status.idle": "2021-04-19T11:05:02.677885Z",
     "shell.execute_reply": "2021-04-19T11:05:02.678785Z"
    },
    "id": "LwLSsBt5NNSE",
    "nbgrader": {
     "cell_type": "code",
     "checksum": "bcea1ecba91d3cd6618b2556506016de",
     "grade": true,
     "grade_id": "cell-02e34e05d317dfb2",
     "locked": true,
     "points": 5,
     "schema_version": 3,
     "solution": false,
     "task": false
    }
   },
   "outputs": [],
   "source": [
    "def runge_func(x, a=25):\n",
    "    return 1.0 / (1.0 + a*x**2)\n",
    "\n",
    "xx = np.linspace(-2, 2, 21)\n",
    "yy = runge_func(xx)\n",
    "\n",
    "lagr = LagrangeInterpolator(xx, yy)\n",
    "\n",
    "from numpy.testing import assert_allclose\n",
    "\n",
    "assert_allclose(yy,\n",
    "                [lagr(xval) for xval in xx],\n",
    "                atol=1e-14)"
   ]
  },
  {
   "cell_type": "markdown",
   "metadata": {
    "deletable": false,
    "editable": false,
    "id": "A6Y9fjnVNNSF",
    "nbgrader": {
     "cell_type": "markdown",
     "checksum": "e7c0d15903d4b1cd34c0580a8b6b37c0",
     "grade": false,
     "grade_id": "cell-7017c4fddb92f038",
     "locked": true,
     "points": 5,
     "schema_version": 3,
     "solution": false,
     "task": true
    }
   },
   "source": [
    "Рассмотрим функцию Рунге $1/(1 + 25x^2)$. Интерполируйте данную функцию на интервале $x\\in [-2, 2]$, используя полиномы Лагранжа степени $m$, где $m=3, 5, 7, 11$. Используйте равномерную сетку. Постройте результат интерполяции вместе с $f(x)$.\n",
    "\n",
    "Повторите предыдущее задание используя узлы Чебышева. Сравните качество интерполяции на равномерной сетке и на узлах Чебышева.\n"
   ]
  },
  {
   "cell_type": "code",
   "execution_count": 4,
   "metadata": {
    "execution": {
     "iopub.execute_input": "2021-04-19T11:05:02.683315Z",
     "iopub.status.busy": "2021-04-19T11:05:02.682232Z",
     "iopub.status.idle": "2021-04-19T11:05:03.269752Z",
     "shell.execute_reply": "2021-04-19T11:05:03.270737Z"
    },
    "id": "2CCUo8YkNNSF"
   },
   "outputs": [],
   "source": [
    "# YOUR CODE AND COMMENTS HERE (5 pts, manually graded)\n",
    "import matplotlib.pyplot as plt"
   ]
  },
  {
   "cell_type": "code",
   "execution_count": 5,
   "metadata": {
    "colab": {
     "base_uri": "https://localhost:8080/",
     "height": 265
    },
    "execution": {
     "iopub.execute_input": "2021-04-19T11:05:03.276923Z",
     "iopub.status.busy": "2021-04-19T11:05:03.275664Z",
     "iopub.status.idle": "2021-04-19T11:05:04.186761Z",
     "shell.execute_reply": "2021-04-19T11:05:04.187794Z"
    },
    "id": "ayW8Ph1Nv7JT",
    "outputId": "6dad0181-9968-433a-df5f-efda5db1f849"
   },
   "outputs": [
    {
     "data": {
      "image/png": "[encoded data removed]",
      "text/plain": [
       "<Figure size 432x288 with 1 Axes>"
      ]
     },
     "metadata": {
      "needs_background": "light"
     },
     "output_type": "display_data"
    }
   ],
   "source": [
    "fig, ax = plt.subplots()\n",
    "x_full = np.linspace(-2, 2, 500)\n",
    "y_full = runge_func(x_full)\n",
    "\n",
    "\n",
    "for m in [3, 5, 7, 11]:\n",
    "  y_new = []\n",
    "  x_pol = np.linspace(-2, 2, m)\n",
    "  y_pol = runge_func(x_pol)\n",
    "  lagr = LagrangeInterpolator(x_pol, y_pol)\n",
    "  for k in range(len(x_full)):\n",
    "    y_new.append(lagr(x_full[k]))\n",
    "  message_template = str(m)\n",
    "  ax.plot(x_full, y_new, label=message_template)\n",
    "ax.plot(x_full, y_full, color='black', label='runge func')\n",
    "plt.legend()\n",
    "plt.grid()"
   ]
  },
  {
   "cell_type": "code",
   "execution_count": 6,
   "metadata": {
    "colab": {
     "base_uri": "https://localhost:8080/",
     "height": 265
    },
    "execution": {
     "iopub.execute_input": "2021-04-19T11:05:04.195838Z",
     "iopub.status.busy": "2021-04-19T11:05:04.194668Z",
     "iopub.status.idle": "2021-04-19T11:05:04.878194Z",
     "shell.execute_reply": "2021-04-19T11:05:04.879082Z"
    },
    "id": "RR_xRIGAxjkX",
    "outputId": "c92cb719-2fc3-476a-be62-c21adf0210e5"
   },
   "outputs": [
    {
     "data": {
      "image/png": "[encoded data removed]",
      "text/plain": [
       "<Figure size 432x288 with 1 Axes>"
      ]
     },
     "metadata": {
      "needs_background": "light"
     },
     "output_type": "display_data"
    }
   ],
   "source": [
    "def nodes_chebushev(n):\n",
    "    k = np.arange(n)\n",
    "    return 2*np.cos((2*k+1) * np.pi / (2*n+2))\n",
    "\n",
    "fig, ax = plt.subplots()\n",
    "x_full = np.linspace(-2, 2, 500)\n",
    "y_full = runge_func(x_full)\n",
    "\n",
    "\n",
    "for m in [3, 5, 7, 11]:\n",
    "  y_new = []\n",
    "  x_pol = nodes_chebushev(m)\n",
    "  y_pol = runge_func(x_pol)\n",
    "  lagr = LagrangeInterpolator(x_pol, y_pol)\n",
    "  for k in range(len(x_full)):\n",
    "    y_new.append(lagr(x_full[k]))\n",
    "  message_template = str(m)\n",
    "  ax.plot(x_full, y_new, label=message_template)\n",
    "ax.plot(x_full, y_full, color='black', label='runge func')\n",
    "plt.legend()\n",
    "plt.grid()"
   ]
  },
  {
   "cell_type": "markdown",
   "metadata": {
    "id": "u2BrQzv8848L"
   },
   "source": [
    "Использование узлов чебышева позволяет повысить точность интерполяции. Хотя в окрестности точки (0,0), в случае Чебышева приближение не достигает значения функции, но зато, уже начиная c m=5, узлы позволяют предсказать характер поведения функции, экстремуы, точки перегиба и тд."
   ]
  },
  {
   "cell_type": "code",
   "execution_count": null,
   "metadata": {
    "id": "WmZWSmKx98zL"
   },
   "outputs": [],
   "source": []
  }
 ],
 "metadata": {
  "colab": {
   "collapsed_sections": [],
   "name": "LagrangeInterpolator_aaglushak",
   "provenance": []
  },
  "kernelspec": {
   "display_name": "Python 3",
   "language": "python",
   "name": "python3"
  },
  "language_info": {
   "codemirror_mode": {
    "name": "ipython",
    "version": 3
   },
   "file_extension": ".py",
   "mimetype": "text/x-python",
   "name": "python",
   "nbconvert_exporter": "python",
   "pygments_lexer": "ipython3",
   "version": "3.8.5"
  }
 },
 "nbformat": 4,
 "nbformat_minor": 0
}
