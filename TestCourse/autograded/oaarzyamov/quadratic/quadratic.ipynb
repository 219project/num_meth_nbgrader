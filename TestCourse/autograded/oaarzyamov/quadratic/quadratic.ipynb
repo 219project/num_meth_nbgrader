{
 "cells": [
  {
   "cell_type": "markdown",
   "metadata": {
    "id": "As4UolV33LJ_"
   },
   "source": [
    "Before you turn this problem in, make sure everything runs as expected. First, **restart the kernel** (in the menubar, select Kernel$\\rightarrow$Restart) and then **run all cells** (in the menubar, select Cell$\\rightarrow$Run All).\n",
    "\n",
    "Make sure you fill in any place that says `YOUR CODE HERE` or \"YOUR ANSWER HERE\", as well as your name and collaborators below:"
   ]
  },
  {
   "cell_type": "code",
   "execution_count": 1,
   "metadata": {
    "id": "XGhbV-ZQ3LKE"
   },
   "outputs": [],
   "source": [
    "NAME = \"Arzyamov Oleg\"\n",
    "COLLABORATORS = \"\""
   ]
  },
  {
   "cell_type": "markdown",
   "metadata": {
    "id": "BxjL4gkt3LKF"
   },
   "source": [
    "---"
   ]
  },
  {
   "cell_type": "markdown",
   "metadata": {
    "deletable": false,
    "editable": false,
    "id": "1ISPmnFI3LKG",
    "nbgrader": {
     "cell_type": "markdown",
     "checksum": "74073e87d382d0355e85faeba52e8453",
     "grade": false,
     "grade_id": "cell-eb39a9ff603592f6",
     "locked": true,
     "schema_version": 3,
     "solution": false
    }
   },
   "source": [
    "Write a function which solves a quadratic equation, $x^2 + b x + c = 0$. Your function must receive two values for coefficients and return two real or complex roots. Always return two roots, even if the equation has a single double root. "
   ]
  },
  {
   "cell_type": "code",
   "execution_count": 2,
   "metadata": {
    "deletable": false,
    "id": "GP3V2qnq3LKG",
    "nbgrader": {
     "cell_type": "code",
     "checksum": "60c2d35c9cce948edb2dca582d5f63b5",
     "grade": false,
     "grade_id": "cell-2032efc64a327acc",
     "locked": false,
     "schema_version": 3,
     "solution": true
    }
   },
   "outputs": [],
   "source": [
    "from math import sqrt\n",
    "from cmath import sqrt as c_sqrt\n",
    "\n",
    "\n",
    "def solve_quad(b, c):\n",
    "    ''' Parameters\n",
    "    ----------\n",
    "    b, c : float\n",
    "       Coefficients\n",
    "       \n",
    "    Returns\n",
    "    -------\n",
    "    x1, x2 : float or complex\n",
    "        Roots.\n",
    "    '''\n",
    "    \n",
    "    # YOUR CODE HERE\n",
    "    d = b ** 2 - 4 * c\n",
    "    if d > 0:\n",
    "      x1=(-2 * c) / (b + sqrt(d))\n",
    "      x2=(-b-sqrt(d)) / 2\n",
    "      return x1, x2\n",
    "    elif d < 0:\n",
    "      x1=(-2 * c) / (b + c_sqrt(d))\n",
    "      x2=(-b-c_sqrt(d)) / 2\n",
    "      return x1, x2\n",
    "    else:\n",
    "          x1=  (-2 * c) / (b + sqrt(d))     \n",
    "          return x1, x1\n",
    "\n"
   ]
  },
  {
   "cell_type": "code",
   "execution_count": 3,
   "metadata": {
    "deletable": false,
    "editable": false,
    "id": "qRXG8alN3LKG",
    "nbgrader": {
     "cell_type": "code",
     "checksum": "cba52b9e7e77f925b1f2fb3334a99b92",
     "grade": true,
     "grade_id": "cell-89cf7badb387b0e0",
     "locked": true,
     "points": 5,
     "schema_version": 3,
     "solution": false
    }
   },
   "outputs": [],
   "source": [
    "#\n",
    "# Your implementation should pass tests in this cell.\n",
    "#\n",
    "# Do not remove or alter this cell. You may run it, but do not remove or alter it.\n",
    "# Your changes to this cell will be ignored on grading.\n",
    "# There will be additional tests.\n",
    "#\n",
    "from numpy.testing import assert_allclose\n",
    "\n",
    "variants = [{'b': 4.0, 'c': 3.0},\n",
    "            {'b': 2.0, 'c': 1.0},\n",
    "            {'b': 0.5, 'c': 4.0},\n",
    "            {'b': 1e10, 'c': 3.0},\n",
    "           ]\n",
    "\n",
    "for var in variants:\n",
    "    x1, x2 = solve_quad(**var)\n",
    "    assert_allclose(x1*x2, var['c'], rtol=1e-15)"
   ]
  },
  {
   "cell_type": "code",
   "execution_count": 4,
   "metadata": {
    "deletable": false,
    "editable": false,
    "id": "oMVvc8c73LKH",
    "nbgrader": {
     "cell_type": "code",
     "checksum": "c46cc34c962c37dab60db62b8f1db74a",
     "grade": true,
     "grade_id": "cell-0970e4298cb77486",
     "locked": true,
     "points": 5,
     "schema_version": 3,
     "solution": false,
     "task": false
    }
   },
   "outputs": [
    {
     "ename": "ZeroDivisionError",
     "evalue": "float division by zero",
     "output_type": "error",
     "traceback": [
      "\u001b[0;31m---------------------------------------------------------------------------\u001b[0m",
      "\u001b[0;31mZeroDivisionError\u001b[0m                         Traceback (most recent call last)",
      "\u001b[0;32m<ipython-input-4-77c500eb0fc9>\u001b[0m in \u001b[0;36m<module>\u001b[0;34m\u001b[0m\n\u001b[1;32m      5\u001b[0m                    {'b': -1e10, 'c': 4.0},]\n\u001b[1;32m      6\u001b[0m \u001b[0;32mfor\u001b[0m \u001b[0mvar\u001b[0m \u001b[0;32min\u001b[0m \u001b[0mhidden_variants\u001b[0m\u001b[0;34m:\u001b[0m\u001b[0;34m\u001b[0m\u001b[0;34m\u001b[0m\u001b[0m\n\u001b[0;32m----> 7\u001b[0;31m     \u001b[0mx1\u001b[0m\u001b[0;34m,\u001b[0m \u001b[0mx2\u001b[0m \u001b[0;34m=\u001b[0m \u001b[0msolve_quad\u001b[0m\u001b[0;34m(\u001b[0m\u001b[0;34m**\u001b[0m\u001b[0mvar\u001b[0m\u001b[0;34m)\u001b[0m\u001b[0;34m\u001b[0m\u001b[0;34m\u001b[0m\u001b[0m\n\u001b[0m\u001b[1;32m      8\u001b[0m     \u001b[0massert_allclose\u001b[0m\u001b[0;34m(\u001b[0m\u001b[0mx1\u001b[0m\u001b[0;34m*\u001b[0m\u001b[0mx2\u001b[0m\u001b[0;34m,\u001b[0m \u001b[0mvar\u001b[0m\u001b[0;34m[\u001b[0m\u001b[0;34m'c'\u001b[0m\u001b[0;34m]\u001b[0m\u001b[0;34m,\u001b[0m \u001b[0mrtol\u001b[0m\u001b[0;34m=\u001b[0m\u001b[0;36m1e-15\u001b[0m\u001b[0;34m)\u001b[0m\u001b[0;34m\u001b[0m\u001b[0;34m\u001b[0m\u001b[0m\n\u001b[1;32m      9\u001b[0m \u001b[0;31m### END HIDDEN TESTS\u001b[0m\u001b[0;34m\u001b[0m\u001b[0;34m\u001b[0m\u001b[0;34m\u001b[0m\u001b[0m\n",
      "\u001b[0;32m<ipython-input-2-f4128f61d85f>\u001b[0m in \u001b[0;36msolve_quad\u001b[0;34m(b, c)\u001b[0m\n\u001b[1;32m     18\u001b[0m     \u001b[0md\u001b[0m \u001b[0;34m=\u001b[0m \u001b[0mb\u001b[0m \u001b[0;34m**\u001b[0m \u001b[0;36m2\u001b[0m \u001b[0;34m-\u001b[0m \u001b[0;36m4\u001b[0m \u001b[0;34m*\u001b[0m \u001b[0mc\u001b[0m\u001b[0;34m\u001b[0m\u001b[0;34m\u001b[0m\u001b[0m\n\u001b[1;32m     19\u001b[0m     \u001b[0;32mif\u001b[0m \u001b[0md\u001b[0m \u001b[0;34m>\u001b[0m \u001b[0;36m0\u001b[0m\u001b[0;34m:\u001b[0m\u001b[0;34m\u001b[0m\u001b[0;34m\u001b[0m\u001b[0m\n\u001b[0;32m---> 20\u001b[0;31m       \u001b[0mx1\u001b[0m\u001b[0;34m=\u001b[0m\u001b[0;34m(\u001b[0m\u001b[0;34m-\u001b[0m\u001b[0;36m2\u001b[0m \u001b[0;34m*\u001b[0m \u001b[0mc\u001b[0m\u001b[0;34m)\u001b[0m \u001b[0;34m/\u001b[0m \u001b[0;34m(\u001b[0m\u001b[0mb\u001b[0m \u001b[0;34m+\u001b[0m \u001b[0msqrt\u001b[0m\u001b[0;34m(\u001b[0m\u001b[0md\u001b[0m\u001b[0;34m)\u001b[0m\u001b[0;34m)\u001b[0m\u001b[0;34m\u001b[0m\u001b[0;34m\u001b[0m\u001b[0m\n\u001b[0m\u001b[1;32m     21\u001b[0m       \u001b[0mx2\u001b[0m\u001b[0;34m=\u001b[0m\u001b[0;34m(\u001b[0m\u001b[0;34m-\u001b[0m\u001b[0mb\u001b[0m\u001b[0;34m-\u001b[0m\u001b[0msqrt\u001b[0m\u001b[0;34m(\u001b[0m\u001b[0md\u001b[0m\u001b[0;34m)\u001b[0m\u001b[0;34m)\u001b[0m \u001b[0;34m/\u001b[0m \u001b[0;36m2\u001b[0m\u001b[0;34m\u001b[0m\u001b[0;34m\u001b[0m\u001b[0m\n\u001b[1;32m     22\u001b[0m       \u001b[0;32mreturn\u001b[0m \u001b[0mx1\u001b[0m\u001b[0;34m,\u001b[0m \u001b[0mx2\u001b[0m\u001b[0;34m\u001b[0m\u001b[0;34m\u001b[0m\u001b[0m\n",
      "\u001b[0;31mZeroDivisionError\u001b[0m: float division by zero"
     ]
    }
   ],
   "source": [
    "### BEGIN HIDDEN TESTS\n",
    "from numpy.testing import assert_allclose\n",
    "\n",
    "hidden_variants = [{'b': 1e10, 'c': 3.0},\n",
    "                   {'b': -1e10, 'c': 4.0},]\n",
    "for var in hidden_variants:\n",
    "    x1, x2 = solve_quad(**var)\n",
    "    assert_allclose(x1*x2, var['c'], rtol=1e-15)\n",
    "### END HIDDEN TESTS"
   ]
  }
 ],
 "metadata": {
  "colab": {
   "name": "quadratic_oaarzyamov.ipynb",
   "provenance": [],
   "toc_visible": true
  },
  "kernelspec": {
   "display_name": "Python 3",
   "language": "python",
   "name": "python3"
  },
  "language_info": {
   "codemirror_mode": {
    "name": "ipython",
    "version": 3
   },
   "file_extension": ".py",
   "mimetype": "text/x-python",
   "name": "python",
   "nbconvert_exporter": "python",
   "pygments_lexer": "ipython3",
   "version": "3.7.6"
  }
 },
 "nbformat": 4,
 "nbformat_minor": 0
}
