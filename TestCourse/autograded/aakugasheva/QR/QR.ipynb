{
 "cells": [
  {
   "cell_type": "markdown",
   "metadata": {
    "id": "IF7ZiJ-BEeLI"
   },
   "source": [
    "Before you turn this problem in, make sure everything runs as expected. First, **restart the kernel** (in the menubar, select Kernel$\\rightarrow$Restart) and then **run all cells** (in the menubar, select Cell$\\rightarrow$Run All).\n",
    "\n",
    "Make sure you fill in any place that says `YOUR CODE HERE` or \"YOUR ANSWER HERE\", as well as your name and collaborators below:"
   ]
  },
  {
   "cell_type": "code",
   "execution_count": 1,
   "metadata": {
    "id": "IG4qRebJEeLK"
   },
   "outputs": [],
   "source": [
    "NAME = \"Kugasheva Adeliya\"\n",
    "COLLABORATORS = \"Kugasheva Adeliya\""
   ]
  },
  {
   "cell_type": "markdown",
   "metadata": {
    "id": "-T9WVmcEEeLL"
   },
   "source": [
    "---"
   ]
  },
  {
   "cell_type": "code",
   "execution_count": 2,
   "metadata": {
    "deletable": false,
    "editable": false,
    "id": "EDkCVvxFEeLL",
    "nbgrader": {
     "cell_type": "code",
     "checksum": "771209e48db0b7681c5ce719d05b2b0c",
     "grade": false,
     "grade_id": "cell-66c8d50345588c95",
     "locked": true,
     "schema_version": 3,
     "solution": false,
     "task": false
    }
   },
   "outputs": [],
   "source": [
    "import numpy as np\n",
    "\n",
    "from numpy.testing import assert_allclose"
   ]
  },
  {
   "cell_type": "markdown",
   "metadata": {
    "deletable": false,
    "editable": false,
    "id": "EmVf7L2kEeLL",
    "nbgrader": {
     "cell_type": "markdown",
     "checksum": "6e341b63b116d4fcfe0588359a79b265",
     "grade": false,
     "grade_id": "cell-cfd189ec24b01044",
     "locked": true,
     "schema_version": 3,
     "solution": false,
     "task": false
    }
   },
   "source": [
    "\n",
    "### Часть I. Постройте отражение Хаусхолдера для вектора.\n",
    "\n",
    "Дан вектор $\\mathbf{x}$ и плоскость, заданная вектором нормали $\\mathbf{u}$. Преобразование Хаусхолдера отражает $\\mathbf{x}$ относительно плоскости.\n",
    "\n",
    "Матрица преобразований Хаусхолдера:\n",
    "$$ \\mathbf{H} = \\mathbf{1} - 2 \\mathbf{u} \\mathbf{u}^T $$\n",
    "\n",
    "Если даны два вектора $\\mathbf{x}$ и $\\mathbf{y}$ одинаковой длины, поворот, преобразующий $\\mathbf{x}$ в $\\mathbf{y}$ называется преобразованием Хаусхолдера с\n",
    "$$ \\mathbf{u} = \\frac{\\mathbf{x} - \\mathbf{y}}{\\left|\\mathbf{x} - \\mathbf{y}\\right|} $$\n",
    "\n",
    "Напишите функцию, преобразующую заданный вектор $\\mathbf{x} = (x_1, \\dots, x_n)$ в $\\mathbf{y} = (\\left|\\mathbf{x}\\right|, 0, \\dots, 0)^T$, используя преобразование Хаусхолдера.\n"
   ]
  },
  {
   "cell_type": "code",
   "execution_count": 3,
   "metadata": {
    "deletable": false,
    "id": "O5pP1lArEeLM",
    "nbgrader": {
     "cell_type": "code",
     "checksum": "73d9a41ece5cf446777b9df562f48cf0",
     "grade": false,
     "grade_id": "cell-d8d82542e794c193",
     "locked": false,
     "schema_version": 3,
     "solution": true,
     "task": false
    }
   },
   "outputs": [],
   "source": [
    "def householder(vec):\n",
    "    \"\"\"Создает отражение Хаусхолдера, преобразующее 2-ю, 3-ю и т.д. компоненты вектора vec в нули.\n",
    "    \n",
    "    Parameters\n",
    "    ----------\n",
    "    vec : array-like of floats, shape (n,)\n",
    "        Введенный вектор\n",
    "    \n",
    "    Returns\n",
    "    -------\n",
    "    outvec : array of floats, shape (n,)\n",
    "        Преобразованный вектор, причем ``outvec[1:]==0`` и ``|outvec| == |vec|``\n",
    "    H : array of floats, shape (n, n)\n",
    "        Ортогональная матрица отражений Хаусхолдера\n",
    "    \"\"\"\n",
    "    vec = np.asarray(vec, dtype=float)\n",
    "    if vec.ndim != 1:\n",
    "        raise ValueError(\"vec.ndim = %s, expected 1\" % vec.ndim)\n",
    "  \n",
    "    if len(vec) == 1:\n",
    "      return abs(vec), np.eye(1)\n",
    "    if vec[0] > 0:\n",
    "        u = vec.copy()\n",
    "        u[0] = sum(-(vec[1:]**2)) / (vec[0] + np.linalg.norm(vec))\n",
    "        u /= np.linalg.norm(u)\n",
    "    else:\n",
    "      u = np.zeros(len(vec))\n",
    "      u[0] = np.linalg.norm(vec)\n",
    "      u = ((vec - u) / np.linalg.norm(vec - u))\n",
    "    U = np.tile(u, (len(vec), 1))\n",
    "    H = np.eye(len(vec)) - 2* u.reshape(len(vec), 1)*U\n",
    "    return H @ vec, H"
   ]
  },
  {
   "cell_type": "markdown",
   "metadata": {
    "deletable": false,
    "editable": false,
    "id": "BaZ4rQgqEeLM",
    "nbgrader": {
     "cell_type": "markdown",
     "checksum": "c06ea08fd1f013d15e1b17ca2fb48e27",
     "grade": false,
     "grade_id": "cell-63560fcd44e56146",
     "locked": true,
     "schema_version": 3,
     "solution": false,
     "task": false
    }
   },
   "source": [
    "Протестируйте свою функцию на следующих примерах:"
   ]
  },
  {
   "cell_type": "code",
   "execution_count": 4,
   "metadata": {
    "deletable": false,
    "editable": false,
    "id": "c5wZof9_EeLM",
    "nbgrader": {
     "cell_type": "code",
     "checksum": "97789d6000886bb5e9644bf1f9d18e07",
     "grade": true,
     "grade_id": "cell-7364c2b9de6bb44c",
     "locked": true,
     "points": 3,
     "schema_version": 3,
     "solution": false,
     "task": false
    }
   },
   "outputs": [],
   "source": [
    "v = np.array([1, 2, 3])\n",
    "v1, h = householder(v)\n",
    "\n",
    "assert_allclose(h @ v1, v, atol=1e-14)\n",
    "assert_allclose(h @ v, v1, atol=1e-14)\n",
    "\n",
    "assert_allclose(v1[1:], 0, atol=1e-14)\n",
    "\n",
    "assert_allclose(h @ h.T, np.eye(3), atol=1e-14)\n",
    "\n",
    "###BEGIN HIDDEN TESTS\n",
    "rndm = np.random.RandomState(1223)\n",
    "vec = rndm.uniform(size=21)\n",
    "v1, h = householder(vec)\n",
    "\n",
    "assert_allclose(h @ v1, vec, atol=1e-14)\n",
    "assert_allclose(h @ vec, v1, atol=1e-14)\n",
    "assert_allclose(v1[1:], 0, atol=1e-14)\n",
    "\n",
    "assert_allclose(h @ h.T, np.eye(h.shape[0]), atol=1e-14)\n",
    "###END HIDDEN TESTS"
   ]
  },
  {
   "cell_type": "markdown",
   "metadata": {
    "deletable": false,
    "editable": false,
    "id": "41XbUkzJEeLN",
    "nbgrader": {
     "cell_type": "markdown",
     "checksum": "ebe7493dd22452e2422d5f111bc86adc",
     "grade": false,
     "grade_id": "cell-35217c03c48d40be",
     "locked": true,
     "schema_version": 3,
     "solution": false,
     "task": false
    }
   },
   "source": [
    "### Part II. Вычисление $\\mathrm{QR}$ - разложения матрицы.\n",
    "\n",
    "Дана прямоугольная $m\\times n$ матрица $\\mathbf{A}$. Выполните отражение Хаусхолдера матрицы $\\mathbf{H}_1$, преобразующее первый столбец матрицы $\\mathbf{A}$ (назовем результат $\\mathbf{A}^{(1)}$)\n",
    "\n",
    "$$ \n",
    "\\mathbf{H}_1 \\mathbf{A} %\\begin{pmatrix} \\times &amp; \\times &amp; \\times &amp; \\dots &amp; \\times \\\\ 0 &amp; \\times &amp; \\times &amp; \\dots &amp; \\times \\\\ 0 &amp; \\times &amp; \\times &amp; \\dots &amp; \\times \\\\ &amp;&amp; \\dots&amp;&amp; \\\\ 0 &amp; \\times &amp; \\times &amp; \\dots &amp; \\times \\\\ \\end{pmatrix}\n",
    "%\n",
    "\\equiv \\mathbf{A}^{(1)}\\;. \n",
    "$$\n",
    "\n",
    "Теперь рассмотрим нижнюю правую часть матрицы $\\mathbf{A}^{(1)}$ и выполним преобразование Хаусхолдера, действующее на 2 столбец $\\mathbf{A}$:\n",
    "$$\n",
    "\\mathbf{H}_2 \\mathbf{A}^{(1)} % \\begin{pmatrix} \\times &amp; \\times &amp; \\times &amp; \\dots &amp; \\times \\\\ 0 &amp; \\times &amp; \\times &amp; \\dots &amp; \\times \\\\ 0 &amp; 0 &amp; \\times &amp; \\dots &amp; \\times \\\\ &amp;&amp; \\dots&amp;&amp; \\\\ 0 &amp; 0 &amp; \\times &amp; \\dots &amp; \\times \\\\ \\end{pmatrix}\n",
    "%\n",
    "\\equiv \\mathbf{A}^{(2)} \\;. $$\n",
    "\n",
    "Повторяя процесс $n$ раз, получим\n",
    "$$\n",
    "\\mathbf{H}_{n} \\cdots \\mathbf{H}_2 \\mathbf{H}_1 \\mathbf{A} = \\mathbf{R} \\;, \n",
    "$$\n",
    "\n",
    "где $\\mathbf{R}$ верхняя треугольная матрица. Так как каждая из матриц $\\mathbf{H}_k$ ортогональна, таковым будет и их произведение. Обратная от ортогональной также есть матрица ортогональная. Таким образом, алгоритм создает $\\mathrm{QR}$ - разложение матрицы $\\mathbf{A}$.\n",
    "\n",
    "Напишите функцию, получающую прямоугольную матрицу $A$ и возвращающую матрицы $Q$ и $R$ --- компоненты $QR$-разложения $A$.\n"
   ]
  },
  {
   "cell_type": "code",
   "execution_count": 5,
   "metadata": {
    "deletable": false,
    "id": "Dcx58-pKEeLN",
    "nbgrader": {
     "cell_type": "code",
     "checksum": "8a1f5a91c16847856a0cbb2190e6fc61",
     "grade": false,
     "grade_id": "cell-d5a63eec70d4d566",
     "locked": false,
     "schema_version": 3,
     "solution": true,
     "task": false
    }
   },
   "outputs": [],
   "source": [
    "def qr_decomp(a):\n",
    "    \"\"\"Вычисляет QR - разложение матрицы.\n",
    "    \n",
    "    Parameters\n",
    "    ----------\n",
    "    a : ndarray, shape(m, n)\n",
    "        Введенная матрица\n",
    "    \n",
    "    Returns\n",
    "    -------\n",
    "    q : ndarray, shape(m, m)\n",
    "        Ортогональная матрица\n",
    "    r : ndarray, shape(m, n)\n",
    "        Верхняя треугольная матрица\n",
    "        \n",
    "    Examples\n",
    "    --------\n",
    "    >>> a = np.random.random(size=(3, 5))\n",
    "    >>> q, r = qr_decomp(a)\n",
    "    >>> np.testing.assert_allclose(q @ r, a, atol=1e-14)\n",
    "    \n",
    "    \"\"\"\n",
    "    a1 = np.array(a, copy=True, dtype=float)\n",
    "    m, n = a1.shape\n",
    "    size = min(n, m)\n",
    "    q = np.eye(m)\n",
    "    for i in range(size):\n",
    "      out, h = householder(a1[i:, i])\n",
    "      h1 = np.eye(m)\n",
    "      h1[i:, i:] = h\n",
    "      q = q @ h1\n",
    "      a1 = h1 @ a1\n",
    "    return q, a1"
   ]
  },
  {
   "cell_type": "code",
   "execution_count": 6,
   "metadata": {
    "deletable": false,
    "editable": false,
    "id": "h6bDb8pUEeLN",
    "nbgrader": {
     "cell_type": "code",
     "checksum": "cbad5d2fd9cc1e9402ecf57d84c8d4f6",
     "grade": false,
     "grade_id": "cell-56fbda736c3cd7ea",
     "locked": true,
     "schema_version": 3,
     "solution": false,
     "task": false
    }
   },
   "outputs": [],
   "source": [
    "# можете запустить данную операцию для бооее сжатого вывода: нули вместо `1e-16` и т.д.\n",
    "np.set_printoptions(suppress=True)"
   ]
  },
  {
   "cell_type": "code",
   "execution_count": 7,
   "metadata": {
    "deletable": false,
    "editable": false,
    "id": "sbaVvCr3EeLO",
    "nbgrader": {
     "cell_type": "code",
     "checksum": "92b610ca8921e1424ed15186f1ac0245",
     "grade": true,
     "grade_id": "cell-c3391a61cbdadb2f",
     "locked": true,
     "points": 3,
     "schema_version": 3,
     "solution": false,
     "task": false
    }
   },
   "outputs": [],
   "source": [
    "rndm = np.random.RandomState(1234)\n",
    "a = rndm.uniform(size=(5, 3))\n",
    "aa = a.copy()\n",
    "\n",
    "q, r = qr_decomp(a)\n",
    "\n",
    "# check that `qr_decomp` leaves `a` intact\n",
    "assert_allclose(a, aa, atol=1e-16)\n",
    "\n",
    "# тестируем, что Q ортогональна\n",
    "assert_allclose(q @ q.T, np.eye(5), atol=1e-14)\n",
    "\n",
    "# проверяем разложение\n",
    "assert_allclose(q @ r, a, atol=1e-14)"
   ]
  },
  {
   "cell_type": "markdown",
   "metadata": {
    "deletable": false,
    "editable": false,
    "id": "YvY_FzJ0EeLO",
    "nbgrader": {
     "cell_type": "markdown",
     "checksum": "23a1c1caad0cc026fb9b11be20db43c9",
     "grade": false,
     "grade_id": "cell-c0e81975f522036f",
     "locked": true,
     "schema_version": 3,
     "solution": false,
     "task": false
    }
   },
   "source": [
    "Теперь сравните ваше разложение с разложением, полученным библиотечной функцией (содержащей соответствующие функции библиотеки LAPACK)"
   ]
  },
  {
   "cell_type": "code",
   "execution_count": 8,
   "metadata": {
    "deletable": false,
    "editable": false,
    "id": "e_pKWvcSEeLO",
    "nbgrader": {
     "cell_type": "code",
     "checksum": "ff88b4759f8e931b7fd1c4865974f290",
     "grade": false,
     "grade_id": "cell-30c8e09d6dfccd7e",
     "locked": true,
     "schema_version": 3,
     "solution": false,
     "task": false
    }
   },
   "outputs": [],
   "source": [
    "from scipy.linalg import qr\n",
    "qq, rr = qr(a)\n",
    "\n",
    "assert_allclose(np.dot(qq, rr), a,\n",
    "                atol=1e-14)"
   ]
  },
  {
   "cell_type": "markdown",
   "metadata": {
    "id": "2E16hP9JEeLP"
   },
   "source": [
    "Проверьте, согласуются ли ваши матрицы `q` и `r` с `qq` и `rr`. Объясните результат.\n",
    "Оставьте пояснения в этой ячейке."
   ]
  },
  {
   "cell_type": "code",
   "execution_count": 9,
   "metadata": {
    "colab": {
     "base_uri": "https://localhost:8080/",
     "height": 547
    },
    "id": "lRbRzoD8Z69G",
    "outputId": "734d2b15-3bb3-47a2-d03a-1cb7b1eb52bc"
   },
   "outputs": [
    {
     "ename": "AssertionError",
     "evalue": "\nNot equal to tolerance rtol=1e-07, atol=1e-14\n\nMismatched elements: 20 / 25 (80%)\nMax absolute difference: 1.24996836\nMax relative difference: 29.52756747\n x: array([[-0.13665 ,  0.536013,  0.093698,  0.661619, -0.497491],\n       [-0.560359,  0.09354 ,  0.533269, -0.524772, -0.342763],\n       [-0.197259,  0.659489, -0.600685, -0.37879 ,  0.147848],...\n y: array([[ 0.13665 ,  0.536013, -0.093698,  0.769714,  0.304596],\n       [ 0.560359,  0.09354 , -0.533269,  0.018395, -0.626525],\n       [ 0.197259,  0.659489,  0.600685, -0.323847, -0.245895],...",
     "output_type": "error",
     "traceback": [
      "\u001b[0;31m---------------------------------------------------------------------------\u001b[0m",
      "\u001b[0;31mAssertionError\u001b[0m                            Traceback (most recent call last)",
      "\u001b[0;32m<ipython-input-9-c8f376c2a8ad>\u001b[0m in \u001b[0;36m<module>\u001b[0;34m\u001b[0m\n\u001b[1;32m      1\u001b[0m \u001b[0massert_allclose\u001b[0m\u001b[0;34m(\u001b[0m\u001b[0mnp\u001b[0m\u001b[0;34m.\u001b[0m\u001b[0mdot\u001b[0m\u001b[0;34m(\u001b[0m\u001b[0mqq\u001b[0m\u001b[0;34m,\u001b[0m \u001b[0mrr\u001b[0m\u001b[0;34m)\u001b[0m\u001b[0;34m,\u001b[0m \u001b[0mq\u001b[0m \u001b[0;34m@\u001b[0m \u001b[0mr\u001b[0m\u001b[0;34m,\u001b[0m \u001b[0matol\u001b[0m\u001b[0;34m=\u001b[0m\u001b[0;36m1e-14\u001b[0m\u001b[0;34m)\u001b[0m\u001b[0;34m\u001b[0m\u001b[0;34m\u001b[0m\u001b[0m\n\u001b[0;32m----> 2\u001b[0;31m \u001b[0massert_allclose\u001b[0m\u001b[0;34m(\u001b[0m\u001b[0mqq\u001b[0m\u001b[0;34m,\u001b[0m \u001b[0mq\u001b[0m\u001b[0;34m,\u001b[0m \u001b[0matol\u001b[0m\u001b[0;34m=\u001b[0m\u001b[0;36m1e-14\u001b[0m\u001b[0;34m)\u001b[0m\u001b[0;34m\u001b[0m\u001b[0;34m\u001b[0m\u001b[0m\n\u001b[0m",
      "\u001b[0;32m~/anaconda3/lib/python3.7/site-packages/numpy/testing/_private/utils.py\u001b[0m in \u001b[0;36massert_allclose\u001b[0;34m(actual, desired, rtol, atol, equal_nan, err_msg, verbose)\u001b[0m\n\u001b[1;32m   1531\u001b[0m     \u001b[0mheader\u001b[0m \u001b[0;34m=\u001b[0m \u001b[0;34m'Not equal to tolerance rtol=%g, atol=%g'\u001b[0m \u001b[0;34m%\u001b[0m \u001b[0;34m(\u001b[0m\u001b[0mrtol\u001b[0m\u001b[0;34m,\u001b[0m \u001b[0matol\u001b[0m\u001b[0;34m)\u001b[0m\u001b[0;34m\u001b[0m\u001b[0;34m\u001b[0m\u001b[0m\n\u001b[1;32m   1532\u001b[0m     assert_array_compare(compare, actual, desired, err_msg=str(err_msg),\n\u001b[0;32m-> 1533\u001b[0;31m                          verbose=verbose, header=header, equal_nan=equal_nan)\n\u001b[0m\u001b[1;32m   1534\u001b[0m \u001b[0;34m\u001b[0m\u001b[0m\n\u001b[1;32m   1535\u001b[0m \u001b[0;34m\u001b[0m\u001b[0m\n",
      "\u001b[0;32m~/anaconda3/lib/python3.7/site-packages/numpy/testing/_private/utils.py\u001b[0m in \u001b[0;36massert_array_compare\u001b[0;34m(comparison, x, y, err_msg, verbose, header, precision, equal_nan, equal_inf)\u001b[0m\n\u001b[1;32m    844\u001b[0m                                 \u001b[0mverbose\u001b[0m\u001b[0;34m=\u001b[0m\u001b[0mverbose\u001b[0m\u001b[0;34m,\u001b[0m \u001b[0mheader\u001b[0m\u001b[0;34m=\u001b[0m\u001b[0mheader\u001b[0m\u001b[0;34m,\u001b[0m\u001b[0;34m\u001b[0m\u001b[0;34m\u001b[0m\u001b[0m\n\u001b[1;32m    845\u001b[0m                                 names=('x', 'y'), precision=precision)\n\u001b[0;32m--> 846\u001b[0;31m             \u001b[0;32mraise\u001b[0m \u001b[0mAssertionError\u001b[0m\u001b[0;34m(\u001b[0m\u001b[0mmsg\u001b[0m\u001b[0;34m)\u001b[0m\u001b[0;34m\u001b[0m\u001b[0;34m\u001b[0m\u001b[0m\n\u001b[0m\u001b[1;32m    847\u001b[0m     \u001b[0;32mexcept\u001b[0m \u001b[0mValueError\u001b[0m\u001b[0;34m:\u001b[0m\u001b[0;34m\u001b[0m\u001b[0;34m\u001b[0m\u001b[0m\n\u001b[1;32m    848\u001b[0m         \u001b[0;32mimport\u001b[0m \u001b[0mtraceback\u001b[0m\u001b[0;34m\u001b[0m\u001b[0;34m\u001b[0m\u001b[0m\n",
      "\u001b[0;31mAssertionError\u001b[0m: \nNot equal to tolerance rtol=1e-07, atol=1e-14\n\nMismatched elements: 20 / 25 (80%)\nMax absolute difference: 1.24996836\nMax relative difference: 29.52756747\n x: array([[-0.13665 ,  0.536013,  0.093698,  0.661619, -0.497491],\n       [-0.560359,  0.09354 ,  0.533269, -0.524772, -0.342763],\n       [-0.197259,  0.659489, -0.600685, -0.37879 ,  0.147848],...\n y: array([[ 0.13665 ,  0.536013, -0.093698,  0.769714,  0.304596],\n       [ 0.560359,  0.09354 , -0.533269,  0.018395, -0.626525],\n       [ 0.197259,  0.659489,  0.600685, -0.323847, -0.245895],..."
     ]
    }
   ],
   "source": [
    "assert_allclose(np.dot(qq, rr), q @ r, atol=1e-14)\r\n",
    "assert_allclose(qq, q, atol=1e-14)"
   ]
  },
  {
   "cell_type": "code",
   "execution_count": 10,
   "metadata": {
    "colab": {
     "base_uri": "https://localhost:8080/",
     "height": 529
    },
    "id": "dmyU7V6JIHNt",
    "outputId": "840c1f24-68a5-4bc0-a7f2-5e78bc6df422"
   },
   "outputs": [
    {
     "ename": "AssertionError",
     "evalue": "\nNot equal to tolerance rtol=1e-07, atol=1e-14\n\nMismatched elements: 4 / 15 (26.7%)\nMax absolute difference: 2.80305537\nMax relative difference: 2.\n x: array([[-1.401528, -1.251438, -0.895236],\n       [ 0.      ,  0.841583,  0.684479],\n       [ 0.      ,  0.      , -0.549605],...\n y: array([[ 1.401528,  1.251438,  0.895236],\n       [-0.      ,  0.841583,  0.684479],\n       [ 0.      , -0.      ,  0.549605],...",
     "output_type": "error",
     "traceback": [
      "\u001b[0;31m---------------------------------------------------------------------------\u001b[0m",
      "\u001b[0;31mAssertionError\u001b[0m                            Traceback (most recent call last)",
      "\u001b[0;32m<ipython-input-10-bd2cc7904fe7>\u001b[0m in \u001b[0;36m<module>\u001b[0;34m\u001b[0m\n\u001b[0;32m----> 1\u001b[0;31m \u001b[0massert_allclose\u001b[0m\u001b[0;34m(\u001b[0m\u001b[0mrr\u001b[0m\u001b[0;34m,\u001b[0m \u001b[0mr\u001b[0m\u001b[0;34m,\u001b[0m \u001b[0matol\u001b[0m\u001b[0;34m=\u001b[0m\u001b[0;36m1e-14\u001b[0m\u001b[0;34m)\u001b[0m\u001b[0;34m\u001b[0m\u001b[0;34m\u001b[0m\u001b[0m\n\u001b[0m",
      "\u001b[0;32m~/anaconda3/lib/python3.7/site-packages/numpy/testing/_private/utils.py\u001b[0m in \u001b[0;36massert_allclose\u001b[0;34m(actual, desired, rtol, atol, equal_nan, err_msg, verbose)\u001b[0m\n\u001b[1;32m   1531\u001b[0m     \u001b[0mheader\u001b[0m \u001b[0;34m=\u001b[0m \u001b[0;34m'Not equal to tolerance rtol=%g, atol=%g'\u001b[0m \u001b[0;34m%\u001b[0m \u001b[0;34m(\u001b[0m\u001b[0mrtol\u001b[0m\u001b[0;34m,\u001b[0m \u001b[0matol\u001b[0m\u001b[0;34m)\u001b[0m\u001b[0;34m\u001b[0m\u001b[0;34m\u001b[0m\u001b[0m\n\u001b[1;32m   1532\u001b[0m     assert_array_compare(compare, actual, desired, err_msg=str(err_msg),\n\u001b[0;32m-> 1533\u001b[0;31m                          verbose=verbose, header=header, equal_nan=equal_nan)\n\u001b[0m\u001b[1;32m   1534\u001b[0m \u001b[0;34m\u001b[0m\u001b[0m\n\u001b[1;32m   1535\u001b[0m \u001b[0;34m\u001b[0m\u001b[0m\n",
      "\u001b[0;32m~/anaconda3/lib/python3.7/site-packages/numpy/testing/_private/utils.py\u001b[0m in \u001b[0;36massert_array_compare\u001b[0;34m(comparison, x, y, err_msg, verbose, header, precision, equal_nan, equal_inf)\u001b[0m\n\u001b[1;32m    844\u001b[0m                                 \u001b[0mverbose\u001b[0m\u001b[0;34m=\u001b[0m\u001b[0mverbose\u001b[0m\u001b[0;34m,\u001b[0m \u001b[0mheader\u001b[0m\u001b[0;34m=\u001b[0m\u001b[0mheader\u001b[0m\u001b[0;34m,\u001b[0m\u001b[0;34m\u001b[0m\u001b[0;34m\u001b[0m\u001b[0m\n\u001b[1;32m    845\u001b[0m                                 names=('x', 'y'), precision=precision)\n\u001b[0;32m--> 846\u001b[0;31m             \u001b[0;32mraise\u001b[0m \u001b[0mAssertionError\u001b[0m\u001b[0;34m(\u001b[0m\u001b[0mmsg\u001b[0m\u001b[0;34m)\u001b[0m\u001b[0;34m\u001b[0m\u001b[0;34m\u001b[0m\u001b[0m\n\u001b[0m\u001b[1;32m    847\u001b[0m     \u001b[0;32mexcept\u001b[0m \u001b[0mValueError\u001b[0m\u001b[0;34m:\u001b[0m\u001b[0;34m\u001b[0m\u001b[0;34m\u001b[0m\u001b[0m\n\u001b[1;32m    848\u001b[0m         \u001b[0;32mimport\u001b[0m \u001b[0mtraceback\u001b[0m\u001b[0;34m\u001b[0m\u001b[0;34m\u001b[0m\u001b[0m\n",
      "\u001b[0;31mAssertionError\u001b[0m: \nNot equal to tolerance rtol=1e-07, atol=1e-14\n\nMismatched elements: 4 / 15 (26.7%)\nMax absolute difference: 2.80305537\nMax relative difference: 2.\n x: array([[-1.401528, -1.251438, -0.895236],\n       [ 0.      ,  0.841583,  0.684479],\n       [ 0.      ,  0.      , -0.549605],...\n y: array([[ 1.401528,  1.251438,  0.895236],\n       [-0.      ,  0.841583,  0.684479],\n       [ 0.      , -0.      ,  0.549605],..."
     ]
    }
   ],
   "source": [
    "assert_allclose(rr, r, atol=1e-14)"
   ]
  },
  {
   "cell_type": "markdown",
   "metadata": {
    "deletable": false,
    "editable": false,
    "id": "uRKSIgw7EeLP",
    "nbgrader": {
     "cell_type": "markdown",
     "checksum": "1a1cfd1969ba69c09cdd68d5e651fb5b",
     "grade": false,
     "grade_id": "cell-28b501b4a2cd3dc1",
     "locked": true,
     "schema_version": 3,
     "solution": false,
     "task": false
    }
   },
   "source": [
    "\n",
    "### Часть III. Безматричная реализация.\n",
    "\n",
    "Отметим необычную структуру матрицы Хаусхолдера: матрица поворота $\\mathbf{H}$ полностью характеризуется вектором отражения $\\mathbf{u}$. Заметим, также, что вычислительная сложность операции отражения матрицы сильно зависит от порядка операций:\n",
    "$$ \\left( \\mathbf{u} \\mathbf{u}^T \\right) \\mathbf{A} \\qquad \\textrm{is } O(m^2 n)\\;, $$\n",
    "\n",
    "тогда как $$ \\mathbf{u} \\left( \\mathbf{u}^T \\mathbf{A} \\right) \\qquad \\textrm{is } O(mn) $$\n",
    "\n",
    "Таким образом, следует избегать формирований матриц $\\mathbf{H}$. Вместо этого можно сохранять сами векторы отражения $\\mathbf{u}$ и производить умножение произвольной матрицы на $\\mathbf{Q}^T$, например, как отдельную функцию (класс).\n",
    "\n",
    "Напишите функцию, выполняющую QR - разложение матрицы без формирования матриц $\\mathbf{H}$ и возвращающую матрицу $\\mathbf{R}$, а также вектора отражений Хаусхолдера.\n",
    "\n",
    "\n",
    "Напишите вторую функцию, которая использует вектора отражений, полученных предыдущей функцией, для вычисления произведения $Q^T B$ для заданной матрицы B. Убедитесь, что вы добавили достаточно комментариев, следующих вашим выкладкам. \n",
    "\n"
   ]
  },
  {
   "cell_type": "code",
   "execution_count": 11,
   "metadata": {
    "deletable": false,
    "id": "TUxkb9hwEeLP",
    "nbgrader": {
     "cell_type": "code",
     "checksum": "dcc0faefea89bcb89fa28f0ae61fb5e1",
     "grade": false,
     "grade_id": "cell-5360f8930eabe0b4",
     "locked": false,
     "schema_version": 3,
     "solution": true,
     "task": false
    }
   },
   "outputs": [],
   "source": [
    "def qr_nomatrix(a):\n",
    "    \"\"\"Form QR decomposition of `a` via successive Householder reflections.\n",
    "    \n",
    "    Parameters\n",
    "    ----------\n",
    "    a : ndarray\n",
    "        Input matrix\n",
    "    \n",
    "    Returns\n",
    "    -------\n",
    "    R : ndarray\n",
    "        Upper triangular matrix of the QR decomposition\n",
    "    \n",
    "    U : ndarray\n",
    "        Columns store successive Householder reflectors: `U[j:, j]` stores\n",
    "        the Householder reflector for reducing the `j`-th column.\n",
    "        \n",
    "    See Also\n",
    "    --------\n",
    "    householder_apply : apply Householder reflectors stored in `U` to `a`.\n",
    "    \n",
    "    \"\"\"\n",
    "    # YOUR CODE HERE\n",
    "    raise NotImplementedError()\n",
    "\n",
    "    \n",
    "def householder_apply(b, uu):\n",
    "    \"\"\"Apply the Householder reflectors stored in `uu` to `b`.\n",
    "    \n",
    "    The result is equivalent to\n",
    "    >>> r, q = qr_decomp(a)\n",
    "    >>> q.T @ b\n",
    "    \n",
    "    Parameters\n",
    "    ----------\n",
    "    b : ndarray\n",
    "        Input matrix\n",
    "    uu : ndarray\n",
    "        Householder reflectors: `U[j:, j]` is the reflection vector\n",
    "        for transforming the `j`-th column of `a`.\n",
    "        \n",
    "    Returns\n",
    "    -------\n",
    "    r : ndarray\n",
    "        The result of applying the reflectors to `b`. Equivalent to\n",
    "        computing `q.T @ b`.\n",
    "\n",
    "    See Also\n",
    "    --------\n",
    "    qr_decomp\n",
    "    \n",
    "    \"\"\"\n",
    "    # YOUR CODE HERE\n",
    "    raise NotImplementedError()\n",
    "    "
   ]
  },
  {
   "cell_type": "code",
   "execution_count": 12,
   "metadata": {
    "deletable": false,
    "editable": false,
    "id": "F47UCzdyEeLP",
    "nbgrader": {
     "cell_type": "code",
     "checksum": "61999a616159d1e0e9bb05b209dd6e65",
     "grade": true,
     "grade_id": "cell-68363e2462de3a8b",
     "locked": true,
     "points": 3,
     "schema_version": 3,
     "solution": false,
     "task": false
    }
   },
   "outputs": [
    {
     "ename": "NotImplementedError",
     "evalue": "",
     "output_type": "error",
     "traceback": [
      "\u001b[0;31m---------------------------------------------------------------------------\u001b[0m",
      "\u001b[0;31mNotImplementedError\u001b[0m                       Traceback (most recent call last)",
      "\u001b[0;32m<ipython-input-12-8f74a7315d63>\u001b[0m in \u001b[0;36m<module>\u001b[0;34m\u001b[0m\n\u001b[1;32m      2\u001b[0m \u001b[0;34m\u001b[0m\u001b[0m\n\u001b[1;32m      3\u001b[0m \u001b[0ma\u001b[0m \u001b[0;34m=\u001b[0m \u001b[0mrndm\u001b[0m\u001b[0;34m.\u001b[0m\u001b[0muniform\u001b[0m\u001b[0;34m(\u001b[0m\u001b[0msize\u001b[0m\u001b[0;34m=\u001b[0m\u001b[0;34m(\u001b[0m\u001b[0;36m5\u001b[0m\u001b[0;34m,\u001b[0m \u001b[0;36m5\u001b[0m\u001b[0;34m)\u001b[0m\u001b[0;34m)\u001b[0m\u001b[0;34m\u001b[0m\u001b[0;34m\u001b[0m\u001b[0m\n\u001b[0;32m----> 4\u001b[0;31m \u001b[0mR1\u001b[0m\u001b[0;34m,\u001b[0m \u001b[0mU\u001b[0m \u001b[0;34m=\u001b[0m \u001b[0mqr_nomatrix\u001b[0m\u001b[0;34m(\u001b[0m\u001b[0ma\u001b[0m\u001b[0;34m)\u001b[0m\u001b[0;34m\u001b[0m\u001b[0;34m\u001b[0m\u001b[0m\n\u001b[0m\u001b[1;32m      5\u001b[0m \u001b[0mR2\u001b[0m \u001b[0;34m=\u001b[0m \u001b[0mhouseholder_apply\u001b[0m\u001b[0;34m(\u001b[0m\u001b[0ma\u001b[0m\u001b[0;34m,\u001b[0m \u001b[0mU\u001b[0m\u001b[0;34m)\u001b[0m\u001b[0;34m\u001b[0m\u001b[0;34m\u001b[0m\u001b[0m\n\u001b[1;32m      6\u001b[0m \u001b[0mR_lib\u001b[0m \u001b[0;34m=\u001b[0m \u001b[0mqr\u001b[0m\u001b[0;34m(\u001b[0m\u001b[0ma\u001b[0m\u001b[0;34m)\u001b[0m\u001b[0;34m[\u001b[0m\u001b[0;36m1\u001b[0m\u001b[0;34m]\u001b[0m\u001b[0;34m\u001b[0m\u001b[0;34m\u001b[0m\u001b[0m\n",
      "\u001b[0;32m<ipython-input-11-d55931e7c60e>\u001b[0m in \u001b[0;36mqr_nomatrix\u001b[0;34m(a)\u001b[0m\n\u001b[1;32m     22\u001b[0m     \"\"\"\n\u001b[1;32m     23\u001b[0m     \u001b[0;31m# YOUR CODE HERE\u001b[0m\u001b[0;34m\u001b[0m\u001b[0;34m\u001b[0m\u001b[0;34m\u001b[0m\u001b[0m\n\u001b[0;32m---> 24\u001b[0;31m     \u001b[0;32mraise\u001b[0m \u001b[0mNotImplementedError\u001b[0m\u001b[0;34m(\u001b[0m\u001b[0;34m)\u001b[0m\u001b[0;34m\u001b[0m\u001b[0;34m\u001b[0m\u001b[0m\n\u001b[0m\u001b[1;32m     25\u001b[0m \u001b[0;34m\u001b[0m\u001b[0m\n\u001b[1;32m     26\u001b[0m \u001b[0;34m\u001b[0m\u001b[0m\n",
      "\u001b[0;31mNotImplementedError\u001b[0m: "
     ]
    }
   ],
   "source": [
    "rndm = np.random.RandomState(1223)\n",
    "\n",
    "a = rndm.uniform(size=(5, 5))\n",
    "R1, U = qr_nomatrix(a)\n",
    "R2 = householder_apply(a, U)\n",
    "R_lib = qr(a)[1]\n",
    "assert_allclose(R1, R2, atol=1e-14)\n",
    "\n",
    "###BEGIN HIDDEN TESTS\n",
    "\n",
    "name2 = \"Test 2: vertical rectangular matrix\"\n",
    "a2 = rndm.uniform(size=(5, 3))\n",
    "R1, U = qr_nomatrix(a2)\n",
    "R22 = householder_apply(a2, U)\n",
    "R_lib2 = qr(a2)[1]\n",
    "assert_allclose(R1, R22, atol=1e-14)\n",
    "\n",
    "\n",
    "name3 = \"Test 3: horizontal rectangular matrix\"\n",
    "a3 = rndm.uniform(size=(3, 5))\n",
    "R1, U = qr_nomatrix(a3)\n",
    "R23 = householder_apply(a3, U)\n",
    "R_lib3 = qr(a3)[1]\n",
    "assert_allclose(R1, R23, atol=1e-14)\n",
    "\n",
    "###END HIDDEN TESTS"
   ]
  },
  {
   "cell_type": "code",
   "execution_count": 13,
   "metadata": {
    "deletable": false,
    "editable": false,
    "id": "Hp7hshOdEeLQ",
    "nbgrader": {
     "cell_type": "code",
     "checksum": "1d43f3fa0c85dd0882b853d8d4545963",
     "grade": true,
     "grade_id": "cell-159c6803d580116d",
     "locked": true,
     "points": 3,
     "schema_version": 3,
     "solution": false,
     "task": false
    }
   },
   "outputs": [
    {
     "ename": "NameError",
     "evalue": "name 'R2' is not defined",
     "output_type": "error",
     "traceback": [
      "\u001b[0;31m---------------------------------------------------------------------------\u001b[0m",
      "\u001b[0;31mNameError\u001b[0m                                 Traceback (most recent call last)",
      "\u001b[0;32m<ipython-input-13-8bf97c9a7aa3>\u001b[0m in \u001b[0;36m<module>\u001b[0;34m\u001b[0m\n\u001b[1;32m      2\u001b[0m \u001b[0;34m\u001b[0m\u001b[0m\n\u001b[1;32m      3\u001b[0m conds = [np.allclose(R2[i, :], R_lib[i, :], atol=1e-14) or\n\u001b[0;32m----> 4\u001b[0;31m          np.allclose(R2[i, :], -R_lib[i, :], atol=1e-14) for i in range(5)]\n\u001b[0m\u001b[1;32m      5\u001b[0m \u001b[0;32massert\u001b[0m \u001b[0;32mFalse\u001b[0m \u001b[0;32mnot\u001b[0m \u001b[0;32min\u001b[0m \u001b[0mconds\u001b[0m\u001b[0;34m\u001b[0m\u001b[0;34m\u001b[0m\u001b[0m\n\u001b[1;32m      6\u001b[0m \u001b[0;34m\u001b[0m\u001b[0m\n",
      "\u001b[0;32m<ipython-input-13-8bf97c9a7aa3>\u001b[0m in \u001b[0;36m<listcomp>\u001b[0;34m(.0)\u001b[0m\n\u001b[1;32m      2\u001b[0m \u001b[0;34m\u001b[0m\u001b[0m\n\u001b[1;32m      3\u001b[0m conds = [np.allclose(R2[i, :], R_lib[i, :], atol=1e-14) or\n\u001b[0;32m----> 4\u001b[0;31m          np.allclose(R2[i, :], -R_lib[i, :], atol=1e-14) for i in range(5)]\n\u001b[0m\u001b[1;32m      5\u001b[0m \u001b[0;32massert\u001b[0m \u001b[0;32mFalse\u001b[0m \u001b[0;32mnot\u001b[0m \u001b[0;32min\u001b[0m \u001b[0mconds\u001b[0m\u001b[0;34m\u001b[0m\u001b[0;34m\u001b[0m\u001b[0m\n\u001b[1;32m      6\u001b[0m \u001b[0;34m\u001b[0m\u001b[0m\n",
      "\u001b[0;31mNameError\u001b[0m: name 'R2' is not defined"
     ]
    }
   ],
   "source": [
    "# Check consistency with the scipy library decomposition. Allow for sign differences\n",
    "\n",
    "conds = [np.allclose(R2[i, :], R_lib[i, :], atol=1e-14) or\n",
    "         np.allclose(R2[i, :], -R_lib[i, :], atol=1e-14) for i in range(5)]\n",
    "assert False not in conds\n",
    "\n",
    "###BEGIN HIDDEN TESTS\n",
    "conds = [np.allclose(R22[i, :], R_lib2[i, :], atol=1e-14) or\n",
    "         np.allclose(R22[i, :], -R_lib2[i, :], atol=1e-14) for i in range(5)]\n",
    "assert False not in conds\n",
    "\n",
    "conds = [np.allclose(R23[i, :], R_lib3[i, :], atol=1e-14) or\n",
    "         np.allclose(R23[i, :], -R_lib3[i, :], atol=1e-14) for i in range(3)]\n",
    "assert False not in conds\n",
    "###END HIDDEN TESTS"
   ]
  },
  {
   "cell_type": "code",
   "execution_count": 14,
   "metadata": {
    "deletable": false,
    "editable": false,
    "id": "4fQcb6VKEeLQ",
    "nbgrader": {
     "cell_type": "code",
     "checksum": "545b18d6c716104c360c950accf968be",
     "grade": true,
     "grade_id": "cell-cfb9d263bcd923ed",
     "locked": true,
     "points": 3,
     "schema_version": 3,
     "solution": false,
     "task": false
    }
   },
   "outputs": [
    {
     "ename": "NotImplementedError",
     "evalue": "",
     "output_type": "error",
     "traceback": [
      "\u001b[0;31m---------------------------------------------------------------------------\u001b[0m",
      "\u001b[0;31mNotImplementedError\u001b[0m                       Traceback (most recent call last)",
      "\u001b[0;32m<ipython-input-14-6fe9c95b9dc7>\u001b[0m in \u001b[0;36m<module>\u001b[0;34m\u001b[0m\n\u001b[1;32m      7\u001b[0m \u001b[0;34m\u001b[0m\u001b[0m\n\u001b[1;32m      8\u001b[0m \u001b[0mq\u001b[0m\u001b[0;34m,\u001b[0m \u001b[0mr\u001b[0m \u001b[0;34m=\u001b[0m \u001b[0mqr_decomp\u001b[0m\u001b[0;34m(\u001b[0m\u001b[0ma\u001b[0m\u001b[0;34m)\u001b[0m\u001b[0;34m\u001b[0m\u001b[0;34m\u001b[0m\u001b[0m\n\u001b[0;32m----> 9\u001b[0;31m \u001b[0mrr\u001b[0m\u001b[0;34m,\u001b[0m \u001b[0muu\u001b[0m \u001b[0;34m=\u001b[0m \u001b[0mqr_nomatrix\u001b[0m\u001b[0;34m(\u001b[0m\u001b[0ma\u001b[0m\u001b[0;34m)\u001b[0m\u001b[0;34m\u001b[0m\u001b[0;34m\u001b[0m\u001b[0m\n\u001b[0m\u001b[1;32m     10\u001b[0m \u001b[0;34m\u001b[0m\u001b[0m\n\u001b[1;32m     11\u001b[0m \u001b[0;31m# check consistency\u001b[0m\u001b[0;34m\u001b[0m\u001b[0;34m\u001b[0m\u001b[0;34m\u001b[0m\u001b[0m\n",
      "\u001b[0;32m<ipython-input-11-d55931e7c60e>\u001b[0m in \u001b[0;36mqr_nomatrix\u001b[0;34m(a)\u001b[0m\n\u001b[1;32m     22\u001b[0m     \"\"\"\n\u001b[1;32m     23\u001b[0m     \u001b[0;31m# YOUR CODE HERE\u001b[0m\u001b[0;34m\u001b[0m\u001b[0;34m\u001b[0m\u001b[0;34m\u001b[0m\u001b[0m\n\u001b[0;32m---> 24\u001b[0;31m     \u001b[0;32mraise\u001b[0m \u001b[0mNotImplementedError\u001b[0m\u001b[0;34m(\u001b[0m\u001b[0;34m)\u001b[0m\u001b[0;34m\u001b[0m\u001b[0;34m\u001b[0m\u001b[0m\n\u001b[0m\u001b[1;32m     25\u001b[0m \u001b[0;34m\u001b[0m\u001b[0m\n\u001b[1;32m     26\u001b[0m \u001b[0;34m\u001b[0m\u001b[0m\n",
      "\u001b[0;31mNotImplementedError\u001b[0m: "
     ]
    }
   ],
   "source": [
    "# More testing here, keep this cell intact\n",
    "\n",
    "### BEGIN HIDDEN TESTS\n",
    "\n",
    "rndm = np.random.RandomState(1234)\n",
    "a = rndm.uniform(size=(5, 3))\n",
    "\n",
    "q, r = qr_decomp(a)\n",
    "rr, uu = qr_nomatrix(a)\n",
    "\n",
    "# check consistency\n",
    "assert_allclose(np.triu(r),\n",
    "                np.triu(rr), atol=1e-14)\n",
    "\n",
    "# $Q^T @ A = R$\n",
    "assert_allclose(householder_apply(a, uu),\n",
    "                r,\n",
    "                atol=1e-14)\n",
    "\n",
    "# act on a different matrix\n",
    "b = rndm.uniform(size=(5, 3))\n",
    "assert_allclose(householder_apply(b, uu),\n",
    "                q.T @ b,\n",
    "                atol=1e-14)\n",
    "\n",
    "# END HIDDEN TESTS"
   ]
  },
  {
   "cell_type": "code",
   "execution_count": null,
   "metadata": {
    "id": "BA9Xuf6dEeLR"
   },
   "outputs": [],
   "source": []
  }
 ],
 "metadata": {
  "colab": {
   "collapsed_sections": [],
   "name": "QR.ipynb",
   "provenance": []
  },
  "kernelspec": {
   "display_name": "Python 3",
   "language": "python",
   "name": "python3"
  },
  "language_info": {
   "codemirror_mode": {
    "name": "ipython",
    "version": 3
   },
   "file_extension": ".py",
   "mimetype": "text/x-python",
   "name": "python",
   "nbconvert_exporter": "python",
   "pygments_lexer": "ipython3",
   "version": "3.7.6"
  }
 },
 "nbformat": 4,
 "nbformat_minor": 0
}
