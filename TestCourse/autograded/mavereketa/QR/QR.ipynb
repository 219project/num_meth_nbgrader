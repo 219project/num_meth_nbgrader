{
 "cells": [
  {
   "cell_type": "markdown",
   "metadata": {
    "id": "FfHGozSRxKAN"
   },
   "source": [
    "Before you turn this problem in, make sure everything runs as expected. First, **restart the kernel** (in the menubar, select Kernel$\\rightarrow$Restart) and then **run all cells** (in the menubar, select Cell$\\rightarrow$Run All).\n",
    "\n",
    "Make sure you fill in any place that says `YOUR CODE HERE` or \"YOUR ANSWER HERE\", as well as your name and collaborators below:"
   ]
  },
  {
   "cell_type": "code",
   "execution_count": 1,
   "metadata": {
    "id": "Rgln5q_yxKAW"
   },
   "outputs": [],
   "source": [
    "NAME = \"\"\n",
    "COLLABORATORS = \"\""
   ]
  },
  {
   "cell_type": "markdown",
   "metadata": {
    "id": "uV9hiPqAxKAX"
   },
   "source": [
    "---"
   ]
  },
  {
   "cell_type": "code",
   "execution_count": 2,
   "metadata": {
    "deletable": false,
    "editable": false,
    "id": "zKb7IFs6xKAY",
    "nbgrader": {
     "cell_type": "code",
     "checksum": "771209e48db0b7681c5ce719d05b2b0c",
     "grade": false,
     "grade_id": "cell-66c8d50345588c95",
     "locked": true,
     "schema_version": 3,
     "solution": false,
     "task": false
    }
   },
   "outputs": [],
   "source": [
    "import numpy as np\n",
    "\n",
    "from numpy.testing import assert_allclose"
   ]
  },
  {
   "cell_type": "markdown",
   "metadata": {
    "deletable": false,
    "editable": false,
    "id": "RLMlLqWIxKAY",
    "nbgrader": {
     "cell_type": "markdown",
     "checksum": "6e341b63b116d4fcfe0588359a79b265",
     "grade": false,
     "grade_id": "cell-cfd189ec24b01044",
     "locked": true,
     "schema_version": 3,
     "solution": false,
     "task": false
    }
   },
   "source": [
    "\n",
    "### Часть I. Постройте отражение Хаусхолдера для вектора.\n",
    "\n",
    "Дан вектор $\\mathbf{x}$ и плоскость, заданная вектором нормали $\\mathbf{u}$. Преобразование Хаусхолдера отражает $\\mathbf{x}$ относительно плоскости.\n",
    "\n",
    "Матрица преобразований Хаусхолдера:\n",
    "$$ \\mathbf{H} = \\mathbf{1} - 2 \\mathbf{u} \\mathbf{u}^T $$\n",
    "\n",
    "Если даны два вектора $\\mathbf{x}$ и $\\mathbf{y}$ одинаковой длины, поворот, преобразующий $\\mathbf{x}$ в $\\mathbf{y}$ называется преобразованием Хаусхолдера с\n",
    "$$ \\mathbf{u} = \\frac{\\mathbf{x} - \\mathbf{y}}{\\left|\\mathbf{x} - \\mathbf{y}\\right|} $$\n",
    "\n",
    "Напишите функцию, преобразующую заданный вектор $\\mathbf{x} = (x_1, \\dots, x_n)$ в $\\mathbf{y} = (\\left|\\mathbf{x}\\right|, 0, \\dots, 0)^T$, используя преобразование Хаусхолдера.\n"
   ]
  },
  {
   "cell_type": "code",
   "execution_count": 3,
   "metadata": {
    "deletable": false,
    "id": "9LsIDARWxKAZ",
    "nbgrader": {
     "cell_type": "code",
     "checksum": "73d9a41ece5cf446777b9df562f48cf0",
     "grade": false,
     "grade_id": "cell-d8d82542e794c193",
     "locked": false,
     "schema_version": 3,
     "solution": true,
     "task": false
    }
   },
   "outputs": [],
   "source": [
    "def householder(vec):\n",
    "    \"\"\"Создает отражение Хаусхолдера, преобразующее 2-ю, 3-ю и т.д. компоненты вектора vec в нули.\n",
    "    \n",
    "    Parameters\n",
    "    ----------\n",
    "    vec : array-like of floats, shape (n,)\n",
    "        Введенный вектор\n",
    "    \n",
    "    Returns\n",
    "    -------\n",
    "    outvec : array of floats, shape (n,)\n",
    "        Преобразованный вектор, причем ``outvec[1:]==0`` и ``|outvec| == |vec|``\n",
    "    H : array of floats, shape (n, n)\n",
    "        Ортогональная матрица отражений Хаусхолдера\n",
    "    \"\"\"\n",
    "\n",
    "\n",
    "\n",
    "    vec = np.asarray(vec, dtype=float)\n",
    "    if vec.ndim != 1:\n",
    "        raise ValueError(\"vec.ndim = %s, expected 1\" % vec.ndim)\n",
    "\n",
    "    if np.size(vec)==1 and np.linalg.norm(vec)<1e-8:\n",
    "      return([0],[[1]])\n",
    "\n",
    "    x = vec\n",
    "    y = np.zeros(np.size(vec))\n",
    "    y[0] = np.linalg.norm(vec)\n",
    "    u = (x - y)/np.linalg.norm(x - y)\n",
    "    H=np.eye(np.size(vec))-2*(u[np.newaxis, :].T @ u[np.newaxis, :] )\n",
    "\n",
    "    return(y, H)"
   ]
  },
  {
   "cell_type": "code",
   "execution_count": 4,
   "metadata": {
    "colab": {
     "base_uri": "https://localhost:8080/"
    },
    "id": "BYmBSPlDxt0v",
    "outputId": "b8ba8ced-f662-4fa7-f55a-984c0bb73269"
   },
   "outputs": [
    {
     "name": "stdout",
     "output_type": "stream",
     "text": [
      "[-2.74165739  2.          3.        ]\n",
      "4.529534769317056\n",
      "[-0.60528454  0.44154645  0.66231968]\n",
      "[[-0.60528454]\n",
      " [ 0.44154645]\n",
      " [ 0.66231968]]\n",
      "[[ 0.36636938 -0.26726124 -0.40089186]\n",
      " [-0.26726124  0.19496327  0.2924449 ]\n",
      " [-0.40089186  0.2924449   0.43866735]]\n",
      "[[ 0.73273876 -0.53452248 -0.80178373]\n",
      " [-0.53452248  0.38992654  0.5848898 ]\n",
      " [-0.80178373  0.5848898   0.87733471]]\n",
      "[[0.26726124 1.53452248 1.80178373]\n",
      " [1.53452248 0.61007346 0.4151102 ]\n",
      " [1.80178373 0.4151102  0.12266529]]\n",
      "[[ 0.26726124  0.53452248  0.80178373]\n",
      " [ 0.53452248  0.61007346 -0.5848898 ]\n",
      " [ 0.80178373 -0.5848898   0.12266529]]\n",
      "[ 3.74165739e+00  0.00000000e+00 -1.11022302e-16]\n"
     ]
    }
   ],
   "source": [
    "    vec = np.array([1, 2, 3])\r\n",
    "\r\n",
    "    vec = np.asarray(vec, dtype=float)\r\n",
    "    if vec.ndim != 1:\r\n",
    "        raise ValueError(\"vec.ndim = %s, expected 1\" % vec.ndim)\r\n",
    "\r\n",
    "    x = vec\r\n",
    "    y = np.zeros(np.size(vec))\r\n",
    "    y[0] = np.linalg.norm(vec)\r\n",
    "    #y = y[np.newaxis, :].T\r\n",
    "    print(x - y)\r\n",
    "    print(np.linalg.norm(x - y))\r\n",
    "    u = (x - y)/np.linalg.norm(x - y)\r\n",
    "    print(u)\r\n",
    "    print(u[np.newaxis, :].T)\r\n",
    "    \r\n",
    "    print(  u[np.newaxis, :].T @ u[np.newaxis, :] )\r\n",
    "    print(  2*(u[np.newaxis, :].T @ u[np.newaxis, :] ))\r\n",
    "    print(1-  2*(u[np.newaxis, :].T @ u[np.newaxis, :] ))\r\n",
    "\r\n",
    "    H=np.eye(3)-2*(u[np.newaxis, :].T @ u[np.newaxis, :] )\r\n",
    "    print(H)\r\n",
    "\r\n",
    "    print(H @ x)"
   ]
  },
  {
   "cell_type": "markdown",
   "metadata": {
    "deletable": false,
    "editable": false,
    "id": "PRvp-P96xKAZ",
    "nbgrader": {
     "cell_type": "markdown",
     "checksum": "c06ea08fd1f013d15e1b17ca2fb48e27",
     "grade": false,
     "grade_id": "cell-63560fcd44e56146",
     "locked": true,
     "schema_version": 3,
     "solution": false,
     "task": false
    }
   },
   "source": [
    "Протестируйте свою функцию на следующих примерах:"
   ]
  },
  {
   "cell_type": "code",
   "execution_count": 5,
   "metadata": {
    "deletable": false,
    "editable": false,
    "id": "CNEc24IBxKAa",
    "nbgrader": {
     "cell_type": "code",
     "checksum": "97789d6000886bb5e9644bf1f9d18e07",
     "grade": true,
     "grade_id": "cell-7364c2b9de6bb44c",
     "locked": true,
     "points": 3,
     "schema_version": 3,
     "solution": false,
     "task": false
    }
   },
   "outputs": [],
   "source": [
    "v = np.array([1, 2, 3])\n",
    "v1, h = householder(v)\n",
    "\n",
    "assert_allclose(h @ v1, v, atol=1e-14)\n",
    "assert_allclose(h @ v, v1, atol=1e-14)\n",
    "\n",
    "assert_allclose(v1[1:], 0, atol=1e-14)\n",
    "\n",
    "assert_allclose(h @ h.T, np.eye(3), atol=1e-14)\n",
    "\n",
    "###BEGIN HIDDEN TESTS\n",
    "rndm = np.random.RandomState(1223)\n",
    "vec = rndm.uniform(size=21)\n",
    "v1, h = householder(vec)\n",
    "\n",
    "assert_allclose(h @ v1, vec, atol=1e-14)\n",
    "assert_allclose(h @ vec, v1, atol=1e-14)\n",
    "assert_allclose(v1[1:], 0, atol=1e-14)\n",
    "\n",
    "assert_allclose(h @ h.T, np.eye(h.shape[0]), atol=1e-14)\n",
    "###END HIDDEN TESTS"
   ]
  },
  {
   "cell_type": "markdown",
   "metadata": {
    "deletable": false,
    "editable": false,
    "id": "Mjdb5sY9xKAb",
    "nbgrader": {
     "cell_type": "markdown",
     "checksum": "ebe7493dd22452e2422d5f111bc86adc",
     "grade": false,
     "grade_id": "cell-35217c03c48d40be",
     "locked": true,
     "schema_version": 3,
     "solution": false,
     "task": false
    }
   },
   "source": [
    "### Part II. Вычисление $\\mathrm{QR}$ - разложения матрицы.\n",
    "\n",
    "Дана прямоугольная $m\\times n$ матрица $\\mathbf{A}$. Выполните отражение Хаусхолдера матрицы $\\mathbf{H}_1$, преобразующее первый столбец матрицы $\\mathbf{A}$ (назовем результат $\\mathbf{A}^{(1)}$)\n",
    "\n",
    "$$ \n",
    "\\mathbf{H}_1 \\mathbf{A} %\\begin{pmatrix} \\times &amp; \\times &amp; \\times &amp; \\dots &amp; \\times \\\\ 0 &amp; \\times &amp; \\times &amp; \\dots &amp; \\times \\\\ 0 &amp; \\times &amp; \\times &amp; \\dots &amp; \\times \\\\ &amp;&amp; \\dots&amp;&amp; \\\\ 0 &amp; \\times &amp; \\times &amp; \\dots &amp; \\times \\\\ \\end{pmatrix}\n",
    "%\n",
    "\\equiv \\mathbf{A}^{(1)}\\;. \n",
    "$$\n",
    "\n",
    "Теперь рассмотрим нижнюю правую часть матрицы $\\mathbf{A}^{(1)}$ и выполним преобразование Хаусхолдера, действующее на 2 столбец $\\mathbf{A}$:\n",
    "$$\n",
    "\\mathbf{H}_2 \\mathbf{A}^{(1)} % \\begin{pmatrix} \\times &amp; \\times &amp; \\times &amp; \\dots &amp; \\times \\\\ 0 &amp; \\times &amp; \\times &amp; \\dots &amp; \\times \\\\ 0 &amp; 0 &amp; \\times &amp; \\dots &amp; \\times \\\\ &amp;&amp; \\dots&amp;&amp; \\\\ 0 &amp; 0 &amp; \\times &amp; \\dots &amp; \\times \\\\ \\end{pmatrix}\n",
    "%\n",
    "\\equiv \\mathbf{A}^{(2)} \\;. $$\n",
    "\n",
    "Повторяя процесс $n$ раз, получим\n",
    "$$\n",
    "\\mathbf{H}_{n} \\cdots \\mathbf{H}_2 \\mathbf{H}_1 \\mathbf{A} = \\mathbf{R} \\;, \n",
    "$$\n",
    "\n",
    "где $\\mathbf{R}$ верхняя треугольная матрица. Так как каждая из матриц $\\mathbf{H}_k$ ортогональна, таковым будет и их произведение. Обратная от ортогональной также есть матрица ортогональная. Таким образом, алгоритм создает $\\mathrm{QR}$ - разложение матрицы $\\mathbf{A}$.\n",
    "\n",
    "Напишите функцию, получающую прямоугольную матрицу $A$ и возвращающую матрицы $Q$ и $R$ --- компоненты $QR$-разложения $A$.\n"
   ]
  },
  {
   "cell_type": "code",
   "execution_count": 6,
   "metadata": {
    "deletable": false,
    "id": "5EOTkEqlxKAb",
    "nbgrader": {
     "cell_type": "code",
     "checksum": "8a1f5a91c16847856a0cbb2190e6fc61",
     "grade": false,
     "grade_id": "cell-d5a63eec70d4d566",
     "locked": false,
     "schema_version": 3,
     "solution": true,
     "task": false
    }
   },
   "outputs": [],
   "source": [
    "def qr_decomp(a):\n",
    "    \"\"\"Вычисляет QR - разложение матрицы.\n",
    "    \n",
    "    Parameters\n",
    "    ----------\n",
    "    a : ndarray, shape(m, n)\n",
    "        Введенная матрица\n",
    "    \n",
    "    Returns\n",
    "    -------\n",
    "    q : ndarray, shape(m, m)\n",
    "        Ортогональная матрица\n",
    "    r : ndarray, shape(m, n)\n",
    "        Верхняя треугольная матрица\n",
    "        \n",
    "    Examples\n",
    "    --------\n",
    "    >>> a = np.random.random(size=(3, 5))\n",
    "    >>> q, r = qr_decomp(a)\n",
    "    >>> np.testing.assert_allclose(q @ r, a, atol=1e-14)\n",
    "    \n",
    "    \"\"\"\n",
    "    A = np.array(a, copy=True, dtype=float)\n",
    "    m, n = A.shape\n",
    "    iter = min(m,n)\n",
    "    #print(iter)\n",
    "\n",
    "    QT = np.eye(m)\n",
    "    Q = np.eye(m)\n",
    "\n",
    "    for i in range(0,iter):\n",
    "      #print(\"Aaf\",A)\n",
    "      v1, q = householder(A[:,0])\n",
    "      A=q @ A\n",
    "      qa=np.eye(m)\n",
    "      qa[i:,i:]=q\n",
    "      QT=qa @ QT\n",
    "      Q=Q @ (np.transpose(qa))\n",
    "\n",
    "      #print(\"Abef\",A)\n",
    "      A = A[1:,1:]\n",
    "      #print(\"Aaf\",A)\n",
    "\n",
    "    R=QT@a\n",
    "    return Q, R"
   ]
  },
  {
   "cell_type": "code",
   "execution_count": 7,
   "metadata": {
    "colab": {
     "base_uri": "https://localhost:8080/"
    },
    "id": "Xc8uqpPvywax",
    "outputId": "f158e1ed-0ed7-465d-bb40-c6f994b5137a"
   },
   "outputs": [
    {
     "name": "stdout",
     "output_type": "stream",
     "text": [
      "[[ 1.  2.  3.]\n",
      " [ 4.  5.  6.]\n",
      " [ 7.  8.  9.]\n",
      " [11. 12. 13.]]\n"
     ]
    }
   ],
   "source": [
    "a = np.array([[1,2,3],[4,5,6],[7,8,9],[11,12,13]])\r\n",
    "\r\n",
    "q, r = qr_decomp(a)\r\n",
    "print(q@r)"
   ]
  },
  {
   "cell_type": "code",
   "execution_count": 8,
   "metadata": {
    "colab": {
     "base_uri": "https://localhost:8080/"
    },
    "id": "mQtCL1ZJy02O",
    "outputId": "10fbbf10-626a-446b-e4f1-96a575038ff2"
   },
   "outputs": [
    {
     "name": "stdout",
     "output_type": "stream",
     "text": [
      "Abef [[1.36747943e+01 1.53567209e+01 1.70386475e+01]\n",
      " [8.88178420e-16 7.84792855e-01 1.56958571e+00]\n",
      " [1.77635684e-15 6.23387496e-01 1.24677499e+00]\n",
      " [1.77635684e-15 4.08180351e-01 8.16360702e-01]]\n",
      "Aaf [[0.78479285 1.56958571]\n",
      " [0.6233875  1.24677499]\n",
      " [0.40818035 0.8163607 ]]\n",
      "Abef [[ 1.08218436e+00  2.16436873e+00]\n",
      " [-1.66533454e-16  1.44328993e-15]\n",
      " [-2.77555756e-17 -1.05471187e-15]]\n",
      "Aaf [[ 1.44328993e-15]\n",
      " [-1.05471187e-15]]\n",
      "Abef [[1.78759698e-15]\n",
      " [9.86076132e-32]]\n",
      "Aaf []\n",
      "[[ 1.  2.  3.]\n",
      " [ 4.  5.  6.]\n",
      " [ 7.  8.  9.]\n",
      " [11. 12. 13.]]\n"
     ]
    }
   ],
   "source": [
    "    a = np.array([[1,2,3],[4,5,6],[7,8,9],[11,12,13]])\r\n",
    "\r\n",
    "\r\n",
    "    A = np.array(a, copy=True, dtype=float)\r\n",
    "    m, n = A.shape\r\n",
    "    iter = min(m,n)\r\n",
    "    #print(iter)\r\n",
    "\r\n",
    "    QT = np.eye(m)\r\n",
    "    Q = np.eye(m)\r\n",
    "\r\n",
    "    for i in range(0,iter):\r\n",
    "      #print(\"Aaf\",A)\r\n",
    "      v1, q = householder(A[:,0])\r\n",
    "      A=q @ A\r\n",
    "      qa=np.eye(m)\r\n",
    "      qa[i:,i:]=q\r\n",
    "      QT=qa @ QT\r\n",
    "      Q=Q @ (np.transpose(qa))\r\n",
    "\r\n",
    "      print(\"Abef\",A)\r\n",
    "      A = A[1:,1:]\r\n",
    "      print(\"Aaf\",A)\r\n",
    "\r\n",
    "    R=QT@a\r\n",
    "    print(Q@R)"
   ]
  },
  {
   "cell_type": "code",
   "execution_count": 9,
   "metadata": {
    "colab": {
     "base_uri": "https://localhost:8080/"
    },
    "id": "M-F-JcoXy9mw",
    "outputId": "8e204ef5-2561-4c27-bef6-04b885d31ba3"
   },
   "outputs": [
    {
     "name": "stdout",
     "output_type": "stream",
     "text": [
      "q\n",
      " [[ 0.12309149  0.49236596  0.86164044]\n",
      " [ 0.49236596  0.72354671 -0.48379326]\n",
      " [ 0.86164044 -0.48379326  0.1533618 ]]\n",
      "Q\n",
      " [[ 0.12309149  0.49236596  0.86164044]\n",
      " [ 0.49236596  0.72354671 -0.48379326]\n",
      " [ 0.86164044 -0.48379326  0.1533618 ]]\n",
      "A1bef\n",
      " [[8.12403840e+00 9.60113630e+00 1.10782342e+01]\n",
      " [4.44089210e-16 7.32119416e-01 1.46423883e+00]\n",
      " [8.88178420e-16 5.31208978e-01 1.06241796e+00]]\n",
      "A1\n",
      " [[0.73211942 1.46423883]\n",
      " [0.53120898 1.06241796]]\n",
      "q\n",
      " [[ 0.80938847  0.58727362]\n",
      " [ 0.58727362 -0.80938847]]\n",
      "A2\n",
      " [[ 9.04534034e-01  1.80906807e+00]\n",
      " [-2.77555756e-16 -3.33066907e-16]]\n",
      "[-3.33066907e-16]\n",
      "q\n",
      " [[1]]\n",
      "A3\n",
      " [[-3.33066907e-16]]\n",
      "[[1. 0. 0.]\n",
      " [0. 1. 0.]\n",
      " [0. 0. 1.]]\n",
      "[[ 0.12309149  0.49236596  0.86164044]\n",
      " [ 0.90453403  0.30151134 -0.30151134]\n",
      " [-0.40824829  0.81649658 -0.40824829]]\n",
      "[[1. 2. 3.]\n",
      " [4. 5. 6.]\n",
      " [7. 8. 9.]]\n"
     ]
    }
   ],
   "source": [
    "A = np.array([[1,2,3],[4,5,6],[7,8,9]])\r\n",
    "\r\n",
    "Q = np.eye(3)\r\n",
    "Qad=np.eye(3)\r\n",
    "\r\n",
    "\r\n",
    "#print(householder(A[:,0]))\r\n",
    "v1, q = householder(A[:,0])\r\n",
    "Q = q @ Q\r\n",
    "Qad=Qad @ (np.transpose(q))\r\n",
    "print(\"q\\n\",q)\r\n",
    "print(\"Q\\n\",Q)\r\n",
    "\r\n",
    "A1 = q @ A\r\n",
    "print(\"A1bef\\n\",A1)\r\n",
    "\r\n",
    "A1 = A1[1:,1:]\r\n",
    "print(\"A1\\n\",A1)\r\n",
    "v1, q = householder(A1[:,0])\r\n",
    "A2 = q @ A1\r\n",
    "print(\"q\\n\",q)\r\n",
    "qa=np.eye(3)\r\n",
    "qa[1:,1:]=q\r\n",
    "#print(qa)\r\n",
    "Q = qa @ Q\r\n",
    "Qad=Qad @ (np.transpose(qa))\r\n",
    "\r\n",
    "print(\"A2\\n\",A2)\r\n",
    "\r\n",
    "A2 = A2[1:,1:]\r\n",
    "print(A2[:,0])\r\n",
    "v1, q = householder(A2[:,0])\r\n",
    "print(\"q\\n\",q)\r\n",
    "A3 = q @ A2\r\n",
    "\r\n",
    "print(\"A3\\n\",A3)\r\n",
    "\r\n",
    "qa=np.eye(3)\r\n",
    "qa[2:,2:]=q\r\n",
    "print(qa)\r\n",
    "Q = qa @ Q\r\n",
    "Qad=Qad @ (np.transpose(qa))\r\n",
    "print(Q)\r\n",
    "R=Q@A\r\n",
    "\r\n",
    "print(Qad@R)"
   ]
  },
  {
   "cell_type": "code",
   "execution_count": 10,
   "metadata": {
    "deletable": false,
    "editable": false,
    "id": "UdctDup3xKAc",
    "nbgrader": {
     "cell_type": "code",
     "checksum": "cbad5d2fd9cc1e9402ecf57d84c8d4f6",
     "grade": false,
     "grade_id": "cell-56fbda736c3cd7ea",
     "locked": true,
     "schema_version": 3,
     "solution": false,
     "task": false
    }
   },
   "outputs": [],
   "source": [
    "# можете запустить данную операцию для бооее сжатого вывода: нули вместо `1e-16` и т.д.\n",
    "np.set_printoptions(suppress=True)"
   ]
  },
  {
   "cell_type": "code",
   "execution_count": 11,
   "metadata": {
    "deletable": false,
    "editable": false,
    "id": "vhfrXrD_xKAc",
    "nbgrader": {
     "cell_type": "code",
     "checksum": "92b610ca8921e1424ed15186f1ac0245",
     "grade": true,
     "grade_id": "cell-c3391a61cbdadb2f",
     "locked": true,
     "points": 3,
     "schema_version": 3,
     "solution": false,
     "task": false
    }
   },
   "outputs": [],
   "source": [
    "rndm = np.random.RandomState(1234)\n",
    "a = rndm.uniform(size=(5, 3))\n",
    "aa = a.copy()\n",
    "\n",
    "q, r = qr_decomp(a)\n",
    "\n",
    "# check that `qr_decomp` leaves `a` intact\n",
    "assert_allclose(a, aa, atol=1e-16)\n",
    "\n",
    "# тестируем, что Q ортогональна\n",
    "assert_allclose(q @ q.T, np.eye(5), atol=1e-14)\n",
    "\n",
    "# проверяем разложение\n",
    "assert_allclose(q @ r, a, atol=1e-14)"
   ]
  },
  {
   "cell_type": "markdown",
   "metadata": {
    "deletable": false,
    "editable": false,
    "id": "jdW-Hq0PxKAd",
    "nbgrader": {
     "cell_type": "markdown",
     "checksum": "23a1c1caad0cc026fb9b11be20db43c9",
     "grade": false,
     "grade_id": "cell-c0e81975f522036f",
     "locked": true,
     "schema_version": 3,
     "solution": false,
     "task": false
    }
   },
   "source": [
    "Теперь сравните ваше разложение с разложением, полученным библиотечной функцией (содержащей соответствующие функции библиотеки LAPACK)"
   ]
  },
  {
   "cell_type": "code",
   "execution_count": 12,
   "metadata": {
    "deletable": false,
    "editable": false,
    "id": "-mfehuPoxKAd",
    "nbgrader": {
     "cell_type": "code",
     "checksum": "ff88b4759f8e931b7fd1c4865974f290",
     "grade": false,
     "grade_id": "cell-30c8e09d6dfccd7e",
     "locked": true,
     "schema_version": 3,
     "solution": false,
     "task": false
    }
   },
   "outputs": [],
   "source": [
    "from scipy.linalg import qr\n",
    "qq, rr = qr(a)\n",
    "\n",
    "assert_allclose(np.dot(qq, rr), a,\n",
    "                atol=1e-14)"
   ]
  },
  {
   "cell_type": "markdown",
   "metadata": {
    "id": "sgFyQtywxKAd"
   },
   "source": [
    "Проверьте, согласуются ли ваши матрицы `q` и `r` с `qq` и `rr`. Объясните результат.\n",
    "Оставьте пояснения в этой ячейке."
   ]
  },
  {
   "cell_type": "markdown",
   "metadata": {
    "deletable": false,
    "editable": false,
    "id": "mtHXc3cexKAe",
    "nbgrader": {
     "cell_type": "markdown",
     "checksum": "1a1cfd1969ba69c09cdd68d5e651fb5b",
     "grade": false,
     "grade_id": "cell-28b501b4a2cd3dc1",
     "locked": true,
     "schema_version": 3,
     "solution": false,
     "task": false
    }
   },
   "source": [
    "\n",
    "### Часть III. Безматричная реализация.\n",
    "\n",
    "Отметим необычную структуру матрицы Хаусхолдера: матрица поворота $\\mathbf{H}$ полностью характеризуется вектором отражения $\\mathbf{u}$. Заметим, также, что вычислительная сложность операции отражения матрицы сильно зависит от порядка операций:\n",
    "$$ \\left( \\mathbf{u} \\mathbf{u}^T \\right) \\mathbf{A} \\qquad \\textrm{is } O(m^2 n)\\;, $$\n",
    "\n",
    "тогда как $$ \\mathbf{u} \\left( \\mathbf{u}^T \\mathbf{A} \\right) \\qquad \\textrm{is } O(mn) $$\n",
    "\n",
    "Таким образом, следует избегать формирований матриц $\\mathbf{H}$. Вместо этого можно сохранять сами векторы отражения $\\mathbf{u}$ и производить умножение произвольной матрицы на $\\mathbf{Q}^T$, например, как отдельную функцию (класс).\n",
    "\n",
    "Напишите функцию, выполняющую QR - разложение матрицы без формирования матриц $\\mathbf{H}$ и возвращающую матрицу $\\mathbf{R}$, а также вектора отражений Хаусхолдера.\n",
    "\n",
    "\n",
    "Напишите вторую функцию, которая использует вектора отражений, полученных предыдущей функцией, для вычисления произведения $Q^T B$ для заданной матрицы B. Убедитесь, что вы добавили достаточно комментариев, следующих вашим выкладкам. \n",
    "\n"
   ]
  },
  {
   "cell_type": "code",
   "execution_count": 13,
   "metadata": {
    "deletable": false,
    "id": "OpXjjFV2xKAe",
    "nbgrader": {
     "cell_type": "code",
     "checksum": "dcc0faefea89bcb89fa28f0ae61fb5e1",
     "grade": false,
     "grade_id": "cell-5360f8930eabe0b4",
     "locked": false,
     "schema_version": 3,
     "solution": true,
     "task": false
    }
   },
   "outputs": [],
   "source": [
    "def qr_nomatrix(a):\n",
    "    \"\"\"Form QR decomposition of `a` via successive Householder reflections.\n",
    "    \n",
    "    Parameters\n",
    "    ----------\n",
    "    a : ndarray\n",
    "        Input matrix\n",
    "    \n",
    "    Returns\n",
    "    -------\n",
    "    R : ndarray\n",
    "        Upper triangular matrix of the QR decomposition\n",
    "    \n",
    "    U : ndarray\n",
    "        Columns store successive Householder reflectors: `U[j:, j]` stores\n",
    "        the Householder reflector for reducing the `j`-th column.\n",
    "        \n",
    "    See Also\n",
    "    --------\n",
    "    householder_apply : apply Householder reflectors stored in `U` to `a`.\n",
    "    \n",
    "    \"\"\"\n",
    "    A = np.array(a, copy=True, dtype=float)\n",
    "    m, n = A.shape\n",
    "    iter = min(m,n)\n",
    "    print(m,n)\n",
    "\n",
    "    QT = np.eye(m)\n",
    "    Q = np.eye(m)\n",
    "    U = np.eye(m)\n",
    "    print(U)\n",
    "\n",
    "    for i in range(0,iter):\n",
    "\n",
    "      vec = np.asarray(A[:,0], dtype=float)\n",
    "      if vec.ndim != 1:\n",
    "          raise ValueError(\"vec.ndim = %s, expected 1\" % vec.ndim)\n",
    "\n",
    "      if np.size(vec)==1 and np.linalg.norm(vec)<1e-8:\n",
    "        q = [[1]]\n",
    "        u = np.asarray([0])\n",
    "      else:\n",
    "        x = vec\n",
    "        y = np.zeros(np.size(vec))\n",
    "        y[0] = np.linalg.norm(vec)\n",
    "        u = (x - y)/np.linalg.norm(x - y)\n",
    "        print(\"u\",u)\n",
    "      U[i:, i] = u\n",
    "      print(\"U\",U)\n",
    "\n",
    "\n",
    "      q=np.eye(np.size(vec))-2*(u[np.newaxis, :].T @ u[np.newaxis, :] )\n",
    "\n",
    "\n",
    "      A=q @ A\n",
    "      qa=np.eye(m)\n",
    "      qa[i:,i:]=q\n",
    "      QT=qa @ QT\n",
    "      Q=Q @ (np.transpose(qa))\n",
    "\n",
    "      A = A[1:,1:]\n",
    "\n",
    "    R=QT@a\n",
    "    return R, U\n",
    "\n",
    "    \n",
    "def householder_apply(b, uu):\n",
    "    \"\"\"Apply the Householder reflectors stored in `uu` to `b`.\n",
    "    \n",
    "    The result is equivalent to\n",
    "    >>> r, q = qr_decomp(a)\n",
    "    >>> q.T @ b\n",
    "    \n",
    "    Parameters\n",
    "    ----------\n",
    "    b : ndarray\n",
    "        Input matrix\n",
    "    uu : ndarray\n",
    "        Householder reflectors: `U[j:, j]` is the reflection vector\n",
    "        for transforming the `j`-th column of `a`.\n",
    "        \n",
    "    Returns\n",
    "    -------\n",
    "    r : ndarray\n",
    "        The result of applying the reflectors to `b`. Equivalent to\n",
    "        computing `q.T @ b`.\n",
    "\n",
    "    See Also\n",
    "    --------\n",
    "    qr_decomp\n",
    "    \n",
    "    \"\"\"\n",
    "    A = np.array(b, copy=True, dtype=float)\n",
    "    m, n = A.shape\n",
    "    iter = min(m,n)\n",
    "\n",
    "    QT = np.eye(m)\n",
    "    Q = np.eye(m)\n",
    "\n",
    "    for i in range(0,iter):\n",
    "      u = U[i:, i]\n",
    "\n",
    "      vec = np.asarray(A[:,0], dtype=float)\n",
    "\n",
    "      q=np.eye(np.size(vec))-2*(u[np.newaxis, :].T @ u[np.newaxis, :] )\n",
    "      A=q @ A\n",
    "      qa=np.eye(m)\n",
    "      qa[i:,i:]=q\n",
    "      QT=qa @ QT\n",
    "      Q=Q @ (np.transpose(qa))\n",
    "\n",
    "      A = A[1:,1:]\n",
    "\n",
    "    R=QT@b\n",
    "    return R\n",
    "    "
   ]
  },
  {
   "cell_type": "code",
   "execution_count": 14,
   "metadata": {
    "colab": {
     "base_uri": "https://localhost:8080/"
    },
    "deletable": false,
    "editable": false,
    "id": "52EZT8zrxKAf",
    "nbgrader": {
     "cell_type": "code",
     "checksum": "61999a616159d1e0e9bb05b209dd6e65",
     "grade": true,
     "grade_id": "cell-68363e2462de3a8b",
     "locked": true,
     "points": 3,
     "schema_version": 3,
     "solution": false,
     "task": false
    },
    "outputId": "bdd08134-4416-4298-e796-ffcf0b6fe39f"
   },
   "outputs": [
    {
     "name": "stdout",
     "output_type": "stream",
     "text": [
      "5 5\n",
      "[[1. 0. 0. 0. 0.]\n",
      " [0. 1. 0. 0. 0.]\n",
      " [0. 0. 1. 0. 0.]\n",
      " [0. 0. 0. 1. 0.]\n",
      " [0. 0. 0. 0. 1.]]\n",
      "u [-0.51706743  0.1189934   0.38529641  0.72128983  0.22309079]\n",
      "U"
     ]
    },
    {
     "name": "stdout",
     "output_type": "stream",
     "text": [
      " [[-0.51706743  0.          0.          0.          0.        ]\n",
      " [ 0.1189934   1.          0.          0.          0.        ]\n",
      " [ 0.38529641  0.          1.          0.          0.        ]\n",
      " [ 0.72128983  0.          0.          1.          0.        ]\n",
      " [ 0.22309079  0.          0.          0.          1.        ]]\n",
      "u [-0.71706866 -0.16784218 -0.19207851  0.64865043]\n",
      "U [[-0.51706743  0.          0.          0.          0.        ]\n",
      " [ 0.1189934  -0.71706866  0.          0.          0.        ]\n",
      " [ 0.38529641 -0.16784218  1.          0.          0.        ]\n",
      " [ 0.72128983 -0.19207851  0.          1.          0.        ]\n",
      " [ 0.22309079  0.64865043  0.          0.          1.        ]]\n",
      "u [-0.66214187 -0.2285334   0.71368104]\n",
      "U [[-0.51706743  0.          0.          0.          0.        ]\n",
      " [ 0.1189934  -0.71706866  0.          0.          0.        ]\n",
      " [ 0.38529641 -0.16784218 -0.66214187  0.          0.        ]\n",
      " [ 0.72128983 -0.19207851 -0.2285334   1.          0.        ]\n",
      " [ 0.22309079  0.64865043  0.71368104  0.          1.        ]]\n",
      "u [-0.97998438 -0.1990744 ]\n",
      "U [[-0.51706743  0.          0.          0.          0.        ]\n",
      " [ 0.1189934  -0.71706866  0.          0.          0.        ]\n",
      " [ 0.38529641 -0.16784218 -0.66214187  0.          0.        ]\n",
      " [ 0.72128983 -0.19207851 -0.2285334  -0.97998438  0.        ]\n",
      " [ 0.22309079  0.64865043  0.71368104 -0.1990744   1.        ]]\n",
      "u [-1.]\n",
      "U [[-0.51706743  0.          0.          0.          0.        ]\n",
      " [ 0.1189934  -0.71706866  0.          0.          0.        ]\n",
      " [ 0.38529641 -0.16784218 -0.66214187  0.          0.        ]\n",
      " [ 0.72128983 -0.19207851 -0.2285334  -0.97998438  0.        ]\n",
      " [ 0.22309079  0.64865043  0.71368104 -0.1990744  -1.        ]]\n",
      "5 3\n",
      "[[1. 0. 0. 0. 0.]\n",
      " [0. 1. 0. 0. 0.]\n",
      " [0. 0. 1. 0. 0.]\n",
      " [0. 0. 0. 1. 0.]\n",
      " [0. 0. 0. 0. 1.]]\n",
      "u [-0.51157544  0.33354083  0.59478315  0.00144333  0.52275425]\n",
      "U [[-0.51157544  0.          0.          0.          0.        ]\n",
      " [ 0.33354083  1.          0.          0.          0.        ]\n",
      " [ 0.59478315  0.          1.          0.          0.        ]\n",
      " [ 0.00144333  0.          0.          1.          0.        ]\n",
      " [ 0.52275425  0.          0.          0.          1.        ]]\n",
      "u [-0.80635813  0.2180711   0.53468784  0.12782986]\n",
      "U [[-0.51157544  0.          0.          0.          0.        ]\n",
      " [ 0.33354083 -0.80635813  0.          0.          0.        ]\n",
      " [ 0.59478315  0.2180711   1.          0.          0.        ]\n",
      " [ 0.00144333  0.53468784  0.          1.          0.        ]\n",
      " [ 0.52275425  0.12782986  0.          0.          1.        ]]\n",
      "u [-0.45406311  0.87669397  0.15885335]\n",
      "U [[-0.51157544  0.          0.          0.          0.        ]\n",
      " [ 0.33354083 -0.80635813  0.          0.          0.        ]\n",
      " [ 0.59478315  0.2180711  -0.45406311  0.          0.        ]\n",
      " [ 0.00144333  0.53468784  0.87669397  1.          0.        ]\n",
      " [ 0.52275425  0.12782986  0.15885335  0.          1.        ]]\n",
      "3 5\n",
      "[[1. 0. 0.]\n",
      " [0. 1. 0.]\n",
      " [0. 0. 1.]]\n",
      "u [-0.45116314  0.74891705  0.48536077]\n",
      "U [[-0.45116314  0.          0.        ]\n",
      " [ 0.74891705  1.          0.        ]\n",
      " [ 0.48536077  0.          1.        ]]\n",
      "u [-0.39496955  0.91869421]\n",
      "U [[-0.45116314  0.          0.        ]\n",
      " [ 0.74891705 -0.39496955  0.        ]\n",
      " [ 0.48536077  0.91869421  1.        ]]\n",
      "u [-1.]\n",
      "U [[-0.45116314  0.          0.        ]\n",
      " [ 0.74891705 -0.39496955  0.        ]\n",
      " [ 0.48536077  0.91869421 -1.        ]]\n"
     ]
    }
   ],
   "source": [
    "rndm = np.random.RandomState(1223)\n",
    "\n",
    "a = rndm.uniform(size=(5, 5))\n",
    "R1, U = qr_nomatrix(a)\n",
    "R2 = householder_apply(a, U)\n",
    "R_lib = qr(a)[1]\n",
    "assert_allclose(R1, R2, atol=1e-14)\n",
    "\n",
    "###BEGIN HIDDEN TESTS\n",
    "\n",
    "name2 = \"Test 2: vertical rectangular matrix\"\n",
    "a2 = rndm.uniform(size=(5, 3))\n",
    "R1, U = qr_nomatrix(a2)\n",
    "R22 = householder_apply(a2, U)\n",
    "R_lib2 = qr(a2)[1]\n",
    "assert_allclose(R1, R22, atol=1e-14)\n",
    "\n",
    "\n",
    "name3 = \"Test 3: horizontal rectangular matrix\"\n",
    "a3 = rndm.uniform(size=(3, 5))\n",
    "R1, U = qr_nomatrix(a3)\n",
    "R23 = householder_apply(a3, U)\n",
    "R_lib3 = qr(a3)[1]\n",
    "assert_allclose(R1, R23, atol=1e-14)\n",
    "\n",
    "###END HIDDEN TESTS"
   ]
  },
  {
   "cell_type": "code",
   "execution_count": 15,
   "metadata": {
    "deletable": false,
    "editable": false,
    "id": "xk2SFTs8xKAg",
    "nbgrader": {
     "cell_type": "code",
     "checksum": "1d43f3fa0c85dd0882b853d8d4545963",
     "grade": true,
     "grade_id": "cell-159c6803d580116d",
     "locked": true,
     "points": 3,
     "schema_version": 3,
     "solution": false,
     "task": false
    }
   },
   "outputs": [],
   "source": [
    "# Check consistency with the scipy library decomposition. Allow for sign differences\n",
    "\n",
    "conds = [np.allclose(R2[i, :], R_lib[i, :], atol=1e-14) or\n",
    "         np.allclose(R2[i, :], -R_lib[i, :], atol=1e-14) for i in range(5)]\n",
    "assert False not in conds\n",
    "\n",
    "###BEGIN HIDDEN TESTS\n",
    "conds = [np.allclose(R22[i, :], R_lib2[i, :], atol=1e-14) or\n",
    "         np.allclose(R22[i, :], -R_lib2[i, :], atol=1e-14) for i in range(5)]\n",
    "assert False not in conds\n",
    "\n",
    "conds = [np.allclose(R23[i, :], R_lib3[i, :], atol=1e-14) or\n",
    "         np.allclose(R23[i, :], -R_lib3[i, :], atol=1e-14) for i in range(3)]\n",
    "assert False not in conds\n",
    "###END HIDDEN TESTS"
   ]
  },
  {
   "cell_type": "code",
   "execution_count": 16,
   "metadata": {
    "deletable": false,
    "editable": false,
    "id": "DiZO6xYjxKAg",
    "nbgrader": {
     "cell_type": "code",
     "checksum": "545b18d6c716104c360c950accf968be",
     "grade": true,
     "grade_id": "cell-cfb9d263bcd923ed",
     "locked": true,
     "points": 3,
     "schema_version": 3,
     "solution": false,
     "task": false
    }
   },
   "outputs": [
    {
     "name": "stdout",
     "output_type": "stream",
     "text": [
      "5 3\n",
      "[[1. 0. 0. 0. 0.]\n",
      " [0. 1. 0. 0. 0.]\n",
      " [0. 0. 1. 0. 0.]\n",
      " [0. 0. 0. 1. 0.]\n",
      " [0. 0. 0. 0. 1.]]\n",
      "u [-0.6570196   0.42644006  0.15011669  0.47562065  0.37111197]\n",
      "U [[-0.6570196   0.          0.          0.          0.        ]\n",
      " [ 0.42644006  1.          0.          0.          0.        ]\n",
      " [ 0.15011669  0.          1.          0.          0.        ]\n",
      " [ 0.47562065  0.          0.          1.          0.        ]\n",
      " [ 0.37111197  0.          0.          0.          1.        ]]\n",
      "u [-0.52846942  0.73983285 -0.10990213  0.40160796]\n",
      "U [[-0.6570196   0.          0.          0.          0.        ]\n",
      " [ 0.42644006 -0.52846942  0.          0.          0.        ]\n",
      " [ 0.15011669  0.73983285  1.          0.          0.        ]\n",
      " [ 0.47562065 -0.10990213  0.          1.          0.        ]\n",
      " [ 0.37111197  0.40160796  0.          0.          1.        ]]\n",
      "u [-0.79133207  0.36468006 -0.49071581]\n",
      "U [[-0.6570196   0.          0.          0.          0.        ]\n",
      " [ 0.42644006 -0.52846942  0.          0.          0.        ]\n",
      " [ 0.15011669  0.73983285 -0.79133207  0.          0.        ]\n",
      " [ 0.47562065 -0.10990213  0.36468006  1.          0.        ]\n",
      " [ 0.37111197  0.40160796 -0.49071581  0.          1.        ]]\n"
     ]
    },
    {
     "ename": "ValueError",
     "evalue": "operands could not be broadcast together with shapes (5,5) (3,3) ",
     "output_type": "error",
     "traceback": [
      "\u001b[0;31m---------------------------------------------------------------------------\u001b[0m",
      "\u001b[0;31mValueError\u001b[0m                                Traceback (most recent call last)",
      "\u001b[0;32m<ipython-input-16-6fe9c95b9dc7>\u001b[0m in \u001b[0;36m<module>\u001b[0;34m\u001b[0m\n\u001b[1;32m     14\u001b[0m \u001b[0;34m\u001b[0m\u001b[0m\n\u001b[1;32m     15\u001b[0m \u001b[0;31m# $Q^T @ A = R$\u001b[0m\u001b[0;34m\u001b[0m\u001b[0;34m\u001b[0m\u001b[0;34m\u001b[0m\u001b[0m\n\u001b[0;32m---> 16\u001b[0;31m assert_allclose(householder_apply(a, uu),\n\u001b[0m\u001b[1;32m     17\u001b[0m                 \u001b[0mr\u001b[0m\u001b[0;34m,\u001b[0m\u001b[0;34m\u001b[0m\u001b[0;34m\u001b[0m\u001b[0m\n\u001b[1;32m     18\u001b[0m                 atol=1e-14)\n",
      "\u001b[0;32m<ipython-input-13-e8e08e7ab9c7>\u001b[0m in \u001b[0;36mhouseholder_apply\u001b[0;34m(b, uu)\u001b[0m\n\u001b[1;32m    103\u001b[0m       \u001b[0mvec\u001b[0m \u001b[0;34m=\u001b[0m \u001b[0mnp\u001b[0m\u001b[0;34m.\u001b[0m\u001b[0masarray\u001b[0m\u001b[0;34m(\u001b[0m\u001b[0mA\u001b[0m\u001b[0;34m[\u001b[0m\u001b[0;34m:\u001b[0m\u001b[0;34m,\u001b[0m\u001b[0;36m0\u001b[0m\u001b[0;34m]\u001b[0m\u001b[0;34m,\u001b[0m \u001b[0mdtype\u001b[0m\u001b[0;34m=\u001b[0m\u001b[0mfloat\u001b[0m\u001b[0;34m)\u001b[0m\u001b[0;34m\u001b[0m\u001b[0;34m\u001b[0m\u001b[0m\n\u001b[1;32m    104\u001b[0m \u001b[0;34m\u001b[0m\u001b[0m\n\u001b[0;32m--> 105\u001b[0;31m       \u001b[0mq\u001b[0m\u001b[0;34m=\u001b[0m\u001b[0mnp\u001b[0m\u001b[0;34m.\u001b[0m\u001b[0meye\u001b[0m\u001b[0;34m(\u001b[0m\u001b[0mnp\u001b[0m\u001b[0;34m.\u001b[0m\u001b[0msize\u001b[0m\u001b[0;34m(\u001b[0m\u001b[0mvec\u001b[0m\u001b[0;34m)\u001b[0m\u001b[0;34m)\u001b[0m\u001b[0;34m-\u001b[0m\u001b[0;36m2\u001b[0m\u001b[0;34m*\u001b[0m\u001b[0;34m(\u001b[0m\u001b[0mu\u001b[0m\u001b[0;34m[\u001b[0m\u001b[0mnp\u001b[0m\u001b[0;34m.\u001b[0m\u001b[0mnewaxis\u001b[0m\u001b[0;34m,\u001b[0m \u001b[0;34m:\u001b[0m\u001b[0;34m]\u001b[0m\u001b[0;34m.\u001b[0m\u001b[0mT\u001b[0m \u001b[0;34m@\u001b[0m \u001b[0mu\u001b[0m\u001b[0;34m[\u001b[0m\u001b[0mnp\u001b[0m\u001b[0;34m.\u001b[0m\u001b[0mnewaxis\u001b[0m\u001b[0;34m,\u001b[0m \u001b[0;34m:\u001b[0m\u001b[0;34m]\u001b[0m \u001b[0;34m)\u001b[0m\u001b[0;34m\u001b[0m\u001b[0;34m\u001b[0m\u001b[0m\n\u001b[0m\u001b[1;32m    106\u001b[0m       \u001b[0mA\u001b[0m\u001b[0;34m=\u001b[0m\u001b[0mq\u001b[0m \u001b[0;34m@\u001b[0m \u001b[0mA\u001b[0m\u001b[0;34m\u001b[0m\u001b[0;34m\u001b[0m\u001b[0m\n\u001b[1;32m    107\u001b[0m       \u001b[0mqa\u001b[0m\u001b[0;34m=\u001b[0m\u001b[0mnp\u001b[0m\u001b[0;34m.\u001b[0m\u001b[0meye\u001b[0m\u001b[0;34m(\u001b[0m\u001b[0mm\u001b[0m\u001b[0;34m)\u001b[0m\u001b[0;34m\u001b[0m\u001b[0;34m\u001b[0m\u001b[0m\n",
      "\u001b[0;31mValueError\u001b[0m: operands could not be broadcast together with shapes (5,5) (3,3) "
     ]
    }
   ],
   "source": [
    "# More testing here, keep this cell intact\n",
    "\n",
    "### BEGIN HIDDEN TESTS\n",
    "\n",
    "rndm = np.random.RandomState(1234)\n",
    "a = rndm.uniform(size=(5, 3))\n",
    "\n",
    "q, r = qr_decomp(a)\n",
    "rr, uu = qr_nomatrix(a)\n",
    "\n",
    "# check consistency\n",
    "assert_allclose(np.triu(r),\n",
    "                np.triu(rr), atol=1e-14)\n",
    "\n",
    "# $Q^T @ A = R$\n",
    "assert_allclose(householder_apply(a, uu),\n",
    "                r,\n",
    "                atol=1e-14)\n",
    "\n",
    "# act on a different matrix\n",
    "b = rndm.uniform(size=(5, 3))\n",
    "assert_allclose(householder_apply(b, uu),\n",
    "                q.T @ b,\n",
    "                atol=1e-14)\n",
    "\n",
    "# END HIDDEN TESTS"
   ]
  },
  {
   "cell_type": "code",
   "execution_count": null,
   "metadata": {
    "id": "s1_vEWFwxKAh"
   },
   "outputs": [],
   "source": []
  }
 ],
 "metadata": {
  "colab": {
   "name": "QR.ipynb",
   "provenance": []
  },
  "kernelspec": {
   "display_name": "Python 3",
   "language": "python",
   "name": "python3"
  },
  "language_info": {
   "codemirror_mode": {
    "name": "ipython",
    "version": 3
   },
   "file_extension": ".py",
   "mimetype": "text/x-python",
   "name": "python",
   "nbconvert_exporter": "python",
   "pygments_lexer": "ipython3",
   "version": "3.7.6"
  }
 },
 "nbformat": 4,
 "nbformat_minor": 0
}
