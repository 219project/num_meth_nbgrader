{
 "cells": [
  {
   "cell_type": "markdown",
   "metadata": {
    "id": "LXSm4VwnN6W3"
   },
   "source": [
    "Before you turn this problem in, make sure everything runs as expected. First, **restart the kernel** (in the menubar, select Kernel$\\rightarrow$Restart) and then **run all cells** (in the menubar, select Cell$\\rightarrow$Run All).\n",
    "\n",
    "Make sure you fill in any place that says `YOUR CODE HERE` or \"YOUR ANSWER HERE\", as well as your name and collaborators below:"
   ]
  },
  {
   "cell_type": "code",
   "execution_count": 1,
   "metadata": {
    "executionInfo": {
     "elapsed": 694,
     "status": "ok",
     "timestamp": 1615150050039,
     "user": {
      "displayName": "Николай Пучко",
      "photoUrl": "https://lh3.googleusercontent.com/a-/AOh14GjkY-Po5wt2Psyld60fRGhD_2V4ab_1QadlUMC6Lw=s64",
      "userId": "11701846442455714831"
     },
     "user_tz": -180
    },
    "id": "iyrkiXJBN6XA"
   },
   "outputs": [],
   "source": [
    "NAME = \"Nick\"\n",
    "COLLABORATORS = \"Nick\""
   ]
  },
  {
   "cell_type": "markdown",
   "metadata": {
    "id": "J3o4SNkqN6XB"
   },
   "source": [
    "---"
   ]
  },
  {
   "cell_type": "code",
   "execution_count": 2,
   "metadata": {
    "deletable": false,
    "editable": false,
    "executionInfo": {
     "elapsed": 1760,
     "status": "ok",
     "timestamp": 1615147169796,
     "user": {
      "displayName": "Николай Пучко",
      "photoUrl": "https://lh3.googleusercontent.com/a-/AOh14GjkY-Po5wt2Psyld60fRGhD_2V4ab_1QadlUMC6Lw=s64",
      "userId": "11701846442455714831"
     },
     "user_tz": -180
    },
    "id": "rSLVJ4w3N6XB",
    "nbgrader": {
     "cell_type": "code",
     "checksum": "05666cdfbea4d90e167692683629e516",
     "grade": false,
     "grade_id": "cell-dee318487c917c20",
     "locked": true,
     "schema_version": 3,
     "solution": false,
     "task": false
    }
   },
   "outputs": [],
   "source": [
    "import numpy as np\n",
    "from numpy.testing import assert_allclose"
   ]
  },
  {
   "cell_type": "markdown",
   "metadata": {
    "deletable": false,
    "editable": false,
    "id": "wVzaInbAN6XC",
    "nbgrader": {
     "cell_type": "markdown",
     "checksum": "669a2dcb9b9e6f6c64579986fb9235df",
     "grade": false,
     "grade_id": "cell-00de4de4082aa444",
     "locked": true,
     "schema_version": 3,
     "solution": false,
     "task": false
    }
   },
   "source": [
    "# 1. Степенная итерация"
   ]
  },
  {
   "cell_type": "markdown",
   "metadata": {
    "deletable": false,
    "editable": false,
    "id": "mMfMrSzVN6XC",
    "nbgrader": {
     "cell_type": "markdown",
     "checksum": "9f430376dbbc28c66fa9ab28bcecb6ca",
     "grade": false,
     "grade_id": "cell-1a3077925e3e394b",
     "locked": true,
     "schema_version": 3,
     "solution": false,
     "task": false
    }
   },
   "source": [
    "Дана квадратная $n \\times n$ матрица $A$. Алгоритм степенной итерации позволяет найти максимальное собственное значение $\\lambda$ матрицы $A$. Для начала необходимо задать начальное приближение собственного вектора $x_0$. \n",
    "\n",
    "\n",
    "Модифицированный алгоритм степенной итерации:\n",
    "\n",
    "1. $y_{k+1} = A x_k$\n",
    "\n",
    "2. $x_{k+1} = \\cfrac{y_{k+1}}{||y_{k+1}||}$\n",
    "\n",
    "3. $\\lambda^{(k)} = (x_k, y_{k+1})$\n",
    "\n",
    "где $k$ - номер итерации.\n",
    "\n",
    "Напишите функцию, реализующую поиск максимального собственного значения заданной матрицы с помощью алгоритма степенной итерации."
   ]
  },
  {
   "cell_type": "code",
   "execution_count": 3,
   "metadata": {
    "deletable": false,
    "executionInfo": {
     "elapsed": 612,
     "status": "ok",
     "timestamp": 1615150615044,
     "user": {
      "displayName": "Николай Пучко",
      "photoUrl": "https://lh3.googleusercontent.com/a-/AOh14GjkY-Po5wt2Psyld60fRGhD_2V4ab_1QadlUMC6Lw=s64",
      "userId": "11701846442455714831"
     },
     "user_tz": -180
    },
    "id": "G_d2bbP_N6XD",
    "nbgrader": {
     "cell_type": "code",
     "checksum": "1a88dfc0f776e1d38fc4175d016cf5fc",
     "grade": false,
     "grade_id": "cell-3cfc4f5a0e04dc11",
     "locked": false,
     "schema_version": 3,
     "solution": true,
     "task": false
    }
   },
   "outputs": [],
   "source": [
    "def power_iter(a, vec, eps=1e-3, maxiter=1000):\n",
    "    \"\"\"Реализует алгоритм степенной итерации поиска максимального собственного значения матрицы `a` \n",
    "        с начальным приближением собственного вектора vec.\n",
    "    \n",
    "    Parameters\n",
    "    ----------\n",
    "    a : array-like of floats, shape (n, n)\n",
    "        Введённая матрица\n",
    "    vec : array-like of floats, shape (n,)\n",
    "        Введённое начальное приближение собственного вектора\n",
    "    eps : float\n",
    "        Введённая абсолютная точность\n",
    "    maxiter : integer\n",
    "        Максимальное количество итераций\n",
    "    \n",
    "    Returns\n",
    "    -------\n",
    "    lm : float\n",
    "        Приближение максимального собственного значения\n",
    "    outvec : array of floats, shape (n,)\n",
    "        Приближение собственного вектора\n",
    "    iters : integer\n",
    "        Количество итераций\n",
    "    \"\"\"\n",
    "    a = np.asarray(a, dtype=float)\n",
    "    if a.ndim != 2:\n",
    "        raise ValueError(\"a.ndim = %s, expected 2\" % a.ndim)\n",
    "    \n",
    "    vec = np.asarray(vec, dtype=float)\n",
    "    if vec.ndim != 1:\n",
    "        raise ValueError(\"vec.ndim = %s, expected 1\" % vec.ndim)\n",
    "        \n",
    "    if (a.shape[0] != a.shape[1]):\n",
    "        raise ValueError(\"a is not square\")\n",
    "        \n",
    "    if (a.shape[0] != vec.shape[0]):\n",
    "        raise ValueError(\"vec should be of length %s\" % a.shape[0])\n",
    "    \n",
    "    # YOUR CODE HERE\n",
    "    lm = 0\n",
    "    y = np.zeros(shape=vec.shape)\n",
    "    for iter in range(0, maxiter):\n",
    "      y = a @ vec\n",
    "      lm = np.dot(vec, y)\n",
    "      if np.linalg.norm((y - lm * vec)) / np.linalg.norm(vec) < eps:\n",
    "        return lm, vec, iter\n",
    "      vec = y / np.linalg.norm(y)\n",
    "    return lm, vec, maxiter"
   ]
  },
  {
   "cell_type": "markdown",
   "metadata": {
    "deletable": false,
    "editable": false,
    "id": "C6xGN6OIN6XD",
    "nbgrader": {
     "cell_type": "markdown",
     "checksum": "794418380c0633f7d05918214a63a46d",
     "grade": false,
     "grade_id": "cell-16650a49b51bde96",
     "locked": true,
     "schema_version": 3,
     "solution": false,
     "task": false
    }
   },
   "source": [
    "Протестируйте свою функцию на следующих примерах:"
   ]
  },
  {
   "cell_type": "code",
   "execution_count": 4,
   "metadata": {
    "deletable": false,
    "editable": false,
    "executionInfo": {
     "elapsed": 554,
     "status": "ok",
     "timestamp": 1615150616071,
     "user": {
      "displayName": "Николай Пучко",
      "photoUrl": "https://lh3.googleusercontent.com/a-/AOh14GjkY-Po5wt2Psyld60fRGhD_2V4ab_1QadlUMC6Lw=s64",
      "userId": "11701846442455714831"
     },
     "user_tz": -180
    },
    "id": "2QMRKORoN6XE",
    "nbgrader": {
     "cell_type": "code",
     "checksum": "c86b53d4e95733c7c21ed8dc66a4b319",
     "grade": true,
     "grade_id": "cell-d67c4ed20e0cc45a",
     "locked": true,
     "points": 4,
     "schema_version": 3,
     "solution": false,
     "task": false
    }
   },
   "outputs": [],
   "source": [
    "A = np.asarray([[4, 34],[7, 1]])\n",
    "\n",
    "np.random.seed(123)\n",
    "x = np.random.random(size=2)\n",
    "\n",
    "l, e, k = power_iter(A, x)\n",
    "assert_allclose(A @ e, l * e, atol=1e-3)\n",
    "\n",
    "l, e, k = power_iter(A, x, 1e-5)\n",
    "assert_allclose(A @ e, l * e, atol=1e-5)\n",
    "\n",
    "###BEGIN HIDDEN TESTS\n",
    "\n",
    "A = np.asarray([[1, 2], [0, 1]])\n",
    "x = np.asarray([1,1])\n",
    "\n",
    "l, e, k = power_iter(A, x)\n",
    "assert_allclose(A @ e, l * e, atol=1e-3)\n",
    "\n",
    "l, e, k = power_iter(A, x, 1e-5)\n",
    "assert_allclose(A @ e, l * e, atol=1e-5)\n",
    "\n",
    "###END HIDDEN TESTS"
   ]
  },
  {
   "cell_type": "markdown",
   "metadata": {
    "deletable": false,
    "editable": false,
    "id": "rK2xZCa8N6XE",
    "nbgrader": {
     "cell_type": "markdown",
     "checksum": "09dd6054c925c2448cbdfb2a00952c31",
     "grade": false,
     "grade_id": "cell-0aea0e46b416169e",
     "locked": true,
     "schema_version": 3,
     "solution": false,
     "task": false
    }
   },
   "source": [
    "# 2. Обратная итерация\n",
    "\n",
    "Этот метод может использоваться, например, для поиска собственных векторов матрицы, если уже имеется достаточно хорошее приближение её максимального собственного значения.\n",
    "\n",
    "Для реализации алгоритма необходимо задать начальные приближения для собственного вектора $x_0$ и собственного значения $\\mu$.\n",
    "\n",
    "На каждой итерации метода решается система уравнений:\n",
    "$$(A - \\lambda^{(k)} I) y_{k+1} = x_k,$$\n",
    "приэтом $\\lambda^{(0)} = \\mu$. После этого за новое приближение собственного вектора принимается нормированный вектор $y_{k+1}$:\n",
    "$$x_{k+1} = \\cfrac{y_{k+1}}{||y_{k+1}||}.$$"
   ]
  },
  {
   "cell_type": "code",
   "execution_count": 5,
   "metadata": {
    "deletable": false,
    "executionInfo": {
     "elapsed": 858,
     "status": "ok",
     "timestamp": 1615150617021,
     "user": {
      "displayName": "Николай Пучко",
      "photoUrl": "https://lh3.googleusercontent.com/a-/AOh14GjkY-Po5wt2Psyld60fRGhD_2V4ab_1QadlUMC6Lw=s64",
      "userId": "11701846442455714831"
     },
     "user_tz": -180
    },
    "id": "MSeZctkpN6XE",
    "nbgrader": {
     "cell_type": "code",
     "checksum": "f9b46113b4ae028819eaf69072b54de2",
     "grade": false,
     "grade_id": "cell-f3b15fcf5f5b9c62",
     "locked": false,
     "schema_version": 3,
     "solution": true,
     "task": false
    }
   },
   "outputs": [],
   "source": [
    "def inverse_iter(a, vec, mu, eps=1e-3, maxiter=1000):\n",
    "    \"\"\"Реализует алгоритм степенной итерации поиска максимального собственного значения матрицы a \n",
    "        с начальным приближением собственного вектора vec и начальным приближением собственного значения mu\n",
    "    \n",
    "    Parameters\n",
    "    ----------\n",
    "    a : array-like of floats, shape (n, n)\n",
    "        Введённая матрица\n",
    "    vec : array-like of floats, shape (n,)\n",
    "        Введённое начальное приближение собственного вектора\n",
    "    mu : float\n",
    "        Введённое начальное приближение собственного значения\n",
    "    eps : float\n",
    "        Введённая точность \n",
    "    maxiter : integer\n",
    "        Максимальное количество итераций\n",
    "    \n",
    "    Returns\n",
    "    -------\n",
    "    lm : float\n",
    "        Приближение максимального собственного значения\n",
    "    outvec : array of floats, shape (n,)\n",
    "        Приближение собственного вектора\n",
    "    iters : integer\n",
    "        Количество итераций\n",
    "    \"\"\"\n",
    "    a = np.asarray(a, dtype=float)\n",
    "    if a.ndim != 2:\n",
    "        raise ValueError(\"a.ndim = %s, expected 2\" % a.ndim)\n",
    "    \n",
    "    vec = np.asarray(vec, dtype=float)\n",
    "    if vec.ndim != 1:\n",
    "        raise ValueError(\"vec.ndim = %s, expected 1\" % vec.ndim)\n",
    "        \n",
    "    if (a.shape[0] != a.shape[1]):\n",
    "        raise ValueError(\"a is not square\")\n",
    "        \n",
    "    if (a.shape[0] != vec.shape[0]):\n",
    "        raise ValueError(\"vec should be of length %s\" % a.shape[0])\n",
    "    \n",
    "    # YOUR CODE HERE\n",
    "    lm = mu\n",
    "    x = vec.copy()\n",
    "    iter = 0\n",
    "    ax = a @ x\n",
    "    for iter in range(maxiter):\n",
    "        if np.linalg.norm(ax - lm * x) < eps:\n",
    "            return lm, x, iter\n",
    "        try:\n",
    "            y = np.linalg.solve(a - lm * np.eye(a.shape[0]), x)\n",
    "        except:\n",
    "            lm += 1e-3 * np.random.normal()\n",
    "            y = np.linalg.solve(a - lm * np.eye(a.shape[0]), x)\n",
    "        x = y / np.linalg.norm(y)\n",
    "        ax = a @ x\n",
    "        lm = x @ ax\n",
    "        iter += 1\n",
    "    return lm, x, maxiter"
   ]
  },
  {
   "cell_type": "markdown",
   "metadata": {
    "deletable": false,
    "editable": false,
    "id": "HNl7UoI9N6XF",
    "nbgrader": {
     "cell_type": "markdown",
     "checksum": "a6ddbeaa68cf7507ded8c69c800b2232",
     "grade": false,
     "grade_id": "cell-dbefba66b5327bd6",
     "locked": true,
     "schema_version": 3,
     "solution": false,
     "task": false
    }
   },
   "source": [
    "Протестируйте свою функцию на следующих примерах:"
   ]
  },
  {
   "cell_type": "code",
   "execution_count": 6,
   "metadata": {
    "deletable": false,
    "editable": false,
    "executionInfo": {
     "elapsed": 544,
     "status": "ok",
     "timestamp": 1615150617021,
     "user": {
      "displayName": "Николай Пучко",
      "photoUrl": "https://lh3.googleusercontent.com/a-/AOh14GjkY-Po5wt2Psyld60fRGhD_2V4ab_1QadlUMC6Lw=s64",
      "userId": "11701846442455714831"
     },
     "user_tz": -180
    },
    "id": "9cphEqjHN6XF",
    "nbgrader": {
     "cell_type": "code",
     "checksum": "3e5ce181ca2ed446d30d1d4a4954031d",
     "grade": true,
     "grade_id": "cell-014b5a8fe53ecfdf",
     "locked": true,
     "points": 3,
     "schema_version": 3,
     "solution": false,
     "task": false
    }
   },
   "outputs": [],
   "source": [
    "A = np.asarray([[4, 34],\n",
    "                [7, 1]])\n",
    "x = np.random.random(size=2)\n",
    "\n",
    "l, e, k = inverse_iter(A, x, 1.)\n",
    "assert_allclose(A @ e, l * e, atol=1e-3)\n",
    "\n",
    "l, e, k = inverse_iter(A, x, 100.)\n",
    "assert_allclose(A @ e, l * e, atol=1e-3)\n",
    "\n",
    "###BEGIN HIDDEN TESTS\n",
    "\n",
    "A = np.asarray([[1, 2], [0, 1]])\n",
    "x = np.asarray([1, 1])\n",
    "\n",
    "l, e, k = inverse_iter(A, x, 0.5)\n",
    "assert_allclose(A @ e, l * e, atol=1e-3)\n",
    "\n",
    "l, e, k = inverse_iter(A, x, 50.)\n",
    "assert_allclose(A @ e, l * e, atol=1e-3)\n",
    "\n",
    "###END HIDDEN TESTS"
   ]
  },
  {
   "cell_type": "markdown",
   "metadata": {
    "deletable": false,
    "editable": false,
    "id": "LP0i5QeZN6XG",
    "nbgrader": {
     "cell_type": "markdown",
     "checksum": "fcbbe61b5efabaf37f9d11b68774e4c1",
     "grade": false,
     "grade_id": "cell-30adf2c9ac9e0774",
     "locked": true,
     "schema_version": 3,
     "solution": false,
     "task": false
    }
   },
   "source": [
    "## Пример\n",
    "\n",
    "Рассмотрите матрицу \n",
    "$$ A = \n",
    "\\begin{bmatrix}\n",
    "3 & 1 & 0 & 0\\\\ \n",
    "1 & 2 & 0 & 1\\\\ \n",
    "0 & 0 & 1 & 1\\\\ \n",
    "0 & 1 & 1 & 1\n",
    "\\end{bmatrix}.$$"
   ]
  },
  {
   "cell_type": "code",
   "execution_count": 7,
   "metadata": {
    "deletable": false,
    "executionInfo": {
     "elapsed": 625,
     "status": "ok",
     "timestamp": 1615150617367,
     "user": {
      "displayName": "Николай Пучко",
      "photoUrl": "https://lh3.googleusercontent.com/a-/AOh14GjkY-Po5wt2Psyld60fRGhD_2V4ab_1QadlUMC6Lw=s64",
      "userId": "11701846442455714831"
     },
     "user_tz": -180
    },
    "id": "u_zDxHq3N6XG",
    "nbgrader": {
     "cell_type": "code",
     "checksum": "1e5cc87b75e98cb63efc0bd0e5d4419d",
     "grade": false,
     "grade_id": "cell-3fb3b96b54cbb97d",
     "locked": false,
     "schema_version": 3,
     "solution": true,
     "task": false
    }
   },
   "outputs": [],
   "source": [
    "# Определите матрицу `А` и задайте начальное приближение для собственного вектора\n",
    "# (используйте случайный начальный вектор)\n",
    "\n",
    "def A_and_x(seed=1234):\n",
    "    \"\"\"Возвращает матрицу `А` и случайный начальный вектор.\"\"\"\n",
    "\n",
    "    # YOUR CODE HERE\n",
    "    np.random.seed(seed)\n",
    "    A = np.array([[3, 1, 0, 0], [1, 2, 0, 1], [0, 0, 1, 1], [0, 1, 1, 1]])\n",
    "    size = A.shape[0]\n",
    "    x = np.random.random(size=size)\n",
    "    return A, x"
   ]
  },
  {
   "cell_type": "markdown",
   "metadata": {
    "deletable": false,
    "editable": false,
    "id": "NVCjxDXGN6XG",
    "nbgrader": {
     "cell_type": "markdown",
     "checksum": "41e2028e64f76fb8ad699f4b111affbf",
     "grade": false,
     "grade_id": "cell-8070e62614ed1872",
     "locked": true,
     "schema_version": 3,
     "solution": false,
     "task": false
    }
   },
   "source": [
    "Найдите максимальное собственное число этой матрицы тремя разными методами."
   ]
  },
  {
   "cell_type": "markdown",
   "metadata": {
    "deletable": false,
    "editable": false,
    "id": "Vm8WspjDN6XH",
    "nbgrader": {
     "cell_type": "markdown",
     "checksum": "cb1678cca632bff7bce255e85732a975",
     "grade": false,
     "grade_id": "cell-81756f5999707654",
     "locked": true,
     "schema_version": 3,
     "solution": false,
     "task": false
    }
   },
   "source": [
    "### 1) Степенная итерация"
   ]
  },
  {
   "cell_type": "code",
   "execution_count": 8,
   "metadata": {
    "deletable": false,
    "editable": false,
    "executionInfo": {
     "elapsed": 585,
     "status": "ok",
     "timestamp": 1615150617901,
     "user": {
      "displayName": "Николай Пучко",
      "photoUrl": "https://lh3.googleusercontent.com/a-/AOh14GjkY-Po5wt2Psyld60fRGhD_2V4ab_1QadlUMC6Lw=s64",
      "userId": "11701846442455714831"
     },
     "user_tz": -180
    },
    "id": "iWv5Rsk2N6XI",
    "nbgrader": {
     "cell_type": "code",
     "checksum": "996515b25f94ede75199765a71e5e0f4",
     "grade": true,
     "grade_id": "cell-a48d281064127067",
     "locked": true,
     "points": 1,
     "schema_version": 3,
     "solution": false,
     "task": false
    }
   },
   "outputs": [],
   "source": [
    "A, x = A_and_x()\n",
    "\n",
    "l, e, k = power_iter(A, x, eps=1e-5)\n",
    "assert_allclose(A @ e, l * e, atol=1.6e-2)\n",
    "\n",
    "### BEGIN HIDDEN TESTS\n",
    "A, x = A_and_x()\n",
    "l, e, k = power_iter(A, x, eps=1e-5)\n",
    "assert_allclose(A @ e, l * e, atol=1.6e-3)\n",
    "### END HIDDEN TESTS"
   ]
  },
  {
   "cell_type": "markdown",
   "metadata": {
    "id": "BiHuJ7WCN6XJ"
   },
   "source": [
    "### 2) Обратная итерация с $\\mu = 3.5$"
   ]
  },
  {
   "cell_type": "code",
   "execution_count": 9,
   "metadata": {
    "deletable": false,
    "editable": false,
    "executionInfo": {
     "elapsed": 689,
     "status": "ok",
     "timestamp": 1615150618319,
     "user": {
      "displayName": "Николай Пучко",
      "photoUrl": "https://lh3.googleusercontent.com/a-/AOh14GjkY-Po5wt2Psyld60fRGhD_2V4ab_1QadlUMC6Lw=s64",
      "userId": "11701846442455714831"
     },
     "user_tz": -180
    },
    "id": "qnUXHlt4N6XJ",
    "nbgrader": {
     "cell_type": "code",
     "checksum": "b3fa3f932da53b792b8792002ba45248",
     "grade": true,
     "grade_id": "cell-80ce0d792279ba41",
     "locked": true,
     "points": 1,
     "schema_version": 3,
     "solution": false,
     "task": false
    }
   },
   "outputs": [],
   "source": [
    "A, x = A_and_x()\n",
    "\n",
    "l, e, k = inverse_iter(A, x, 3.5, eps=1e-5)\n",
    "assert_allclose(A @ e, l * e, atol=1e-3)\n",
    "\n",
    "### BEGIN HIDDEN TESTS\n",
    "A, x = A_and_x()\n",
    "l, e, k = inverse_iter(A, x, 3.5, eps=1e-5)\n",
    "assert_allclose(A @ e, l * e, atol=1e-5)\n",
    "### END HIDDEN TESTS"
   ]
  },
  {
   "cell_type": "markdown",
   "metadata": {
    "deletable": false,
    "editable": false,
    "id": "Zdr7dBhVN6XJ",
    "nbgrader": {
     "cell_type": "markdown",
     "checksum": "6fa73bf60139a3b567f231dcfacee482",
     "grade": false,
     "grade_id": "cell-8e66d533134b1c8a",
     "locked": true,
     "schema_version": 3,
     "solution": false,
     "task": false
    }
   },
   "source": [
    "### 3) Обратная итерация с $\\mu = 3.7$"
   ]
  },
  {
   "cell_type": "code",
   "execution_count": 10,
   "metadata": {
    "deletable": false,
    "editable": false,
    "executionInfo": {
     "elapsed": 548,
     "status": "ok",
     "timestamp": 1615150618542,
     "user": {
      "displayName": "Николай Пучко",
      "photoUrl": "https://lh3.googleusercontent.com/a-/AOh14GjkY-Po5wt2Psyld60fRGhD_2V4ab_1QadlUMC6Lw=s64",
      "userId": "11701846442455714831"
     },
     "user_tz": -180
    },
    "id": "uUSMm2mWN6XK",
    "nbgrader": {
     "cell_type": "code",
     "checksum": "4aac66d4abf46cc1f421a4f877ca1129",
     "grade": true,
     "grade_id": "cell-9fdc8e167e855b76",
     "locked": true,
     "points": 1,
     "schema_version": 3,
     "solution": false,
     "task": false
    }
   },
   "outputs": [],
   "source": [
    "A, x = A_and_x()\n",
    "\n",
    "l, e, k = inverse_iter(A, x, 3.7, eps=1e-5)\n",
    "assert_allclose(A @ e, l * e, atol=1e-3)\n",
    "\n",
    "### BEGIN HIDDEN TESTS\n",
    "A, x = A_and_x()\n",
    "l, e, k = inverse_iter(A, x, 3.7, 1e-5)\n",
    "assert_allclose(A @ e, l * e, atol=1e-5)\n",
    "### END HIDDEN TESTS"
   ]
  },
  {
   "cell_type": "markdown",
   "metadata": {
    "deletable": false,
    "editable": false,
    "id": "OZ4GnVJNN6XK",
    "nbgrader": {
     "cell_type": "markdown",
     "checksum": "78fe511364d7cc76fd2f4df9f3a3a926",
     "grade": false,
     "grade_id": "cell-5a89eda9d7deabf3",
     "locked": true,
     "points": 5,
     "schema_version": 3,
     "solution": false,
     "task": true
    }
   },
   "source": [
    "Сколько шагов $k$ требуется в каждом случае для того, чтобы получить настоящий собственный вектор $x^*$ с точностью $||x^* - x_k||_2 < 10^{-3}$?"
   ]
  },
  {
   "cell_type": "code",
   "execution_count": 11,
   "metadata": {
    "colab": {
     "base_uri": "https://localhost:8080/"
    },
    "deletable": false,
    "executionInfo": {
     "elapsed": 554,
     "status": "ok",
     "timestamp": 1615150619297,
     "user": {
      "displayName": "Николай Пучко",
      "photoUrl": "https://lh3.googleusercontent.com/a-/AOh14GjkY-Po5wt2Psyld60fRGhD_2V4ab_1QadlUMC6Lw=s64",
      "userId": "11701846442455714831"
     },
     "user_tz": -180
    },
    "id": "ffIWLan0N6XL",
    "nbgrader": {
     "cell_type": "code",
     "checksum": "5312cb237aaba2e94e26cd2177a31bd0",
     "grade": true,
     "grade_id": "cell-6e9a3b55d1fa9b7d",
     "locked": false,
     "points": 0,
     "schema_version": 3,
     "solution": true,
     "task": false
    },
    "outputId": "6ee498fa-6718-44f2-ddcf-9e3caebaf474"
   },
   "outputs": [
    {
     "name": "stdout",
     "output_type": "stream",
     "text": [
      "0.0005026681865792665 16\n",
      "2.2517802155933903e-06 3\n",
      "6.82422150294424e-05 2\n"
     ]
    }
   ],
   "source": [
    "# YOUR CODE HERE\n",
    "A, x = A_and_x()\n",
    "\n",
    "l, e, k = power_iter(A, x)\n",
    "w, v = np.linalg.eigh(A)\n",
    "print(np.linalg.norm(v[:,3] + e), k)\n",
    "\n",
    "l, e, k = inverse_iter(A, x, 3.5)\n",
    "w, v = np.linalg.eigh(A)\n",
    "print(np.linalg.norm(v[:,3] + e), k)\n",
    "\n",
    "l, e, k = inverse_iter(A, x, 3.7)\n",
    "w, v = np.linalg.eigh(A)\n",
    "print(np.linalg.norm(v[:,3] + e), k)"
   ]
  }
 ],
 "metadata": {
  "colab": {
   "collapsed_sections": [],
   "name": "eigenvalues_napuchko.ipynb",
   "provenance": [
    {
     "file_id": "1evYAPtwsbVww0oXfY8WHQ8ZoHLbSNlIV",
     "timestamp": 1615146399857
    }
   ]
  },
  "kernelspec": {
   "display_name": "Python 3",
   "language": "python",
   "name": "python3"
  },
  "language_info": {
   "codemirror_mode": {
    "name": "ipython",
    "version": 3
   },
   "file_extension": ".py",
   "mimetype": "text/x-python",
   "name": "python",
   "nbconvert_exporter": "python",
   "pygments_lexer": "ipython3",
   "version": "3.7.6"
  }
 },
 "nbformat": 4,
 "nbformat_minor": 0
}
