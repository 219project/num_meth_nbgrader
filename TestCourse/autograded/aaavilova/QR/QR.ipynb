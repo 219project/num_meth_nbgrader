{
 "cells": [
  {
   "cell_type": "markdown",
   "metadata": {},
   "source": [
    "Before you turn this problem in, make sure everything runs as expected. First, **restart the kernel** (in the menubar, select Kernel$\\rightarrow$Restart) and then **run all cells** (in the menubar, select Cell$\\rightarrow$Run All).\n",
    "\n",
    "Make sure you fill in any place that says `YOUR CODE HERE` or \"YOUR ANSWER HERE\", as well as your name and collaborators below:"
   ]
  },
  {
   "cell_type": "code",
   "execution_count": 1,
   "metadata": {},
   "outputs": [],
   "source": [
    "NAME = \"Anna Avilova\"\n",
    "COLLABORATORS = \"\""
   ]
  },
  {
   "cell_type": "markdown",
   "metadata": {},
   "source": [
    "---"
   ]
  },
  {
   "cell_type": "code",
   "execution_count": 2,
   "metadata": {
    "deletable": false,
    "editable": false,
    "nbgrader": {
     "cell_type": "code",
     "checksum": "771209e48db0b7681c5ce719d05b2b0c",
     "grade": false,
     "grade_id": "cell-66c8d50345588c95",
     "locked": true,
     "schema_version": 3,
     "solution": false,
     "task": false
    }
   },
   "outputs": [],
   "source": [
    "import numpy as np\n",
    "\n",
    "from numpy.testing import assert_allclose"
   ]
  },
  {
   "cell_type": "markdown",
   "metadata": {
    "deletable": false,
    "editable": false,
    "nbgrader": {
     "cell_type": "markdown",
     "checksum": "6e341b63b116d4fcfe0588359a79b265",
     "grade": false,
     "grade_id": "cell-cfd189ec24b01044",
     "locked": true,
     "schema_version": 3,
     "solution": false,
     "task": false
    }
   },
   "source": [
    "\n",
    "### Часть I. Постройте отражение Хаусхолдера для вектора.\n",
    "\n",
    "Дан вектор $\\mathbf{x}$ и плоскость, заданная вектором нормали $\\mathbf{u}$. Преобразование Хаусхолдера отражает $\\mathbf{x}$ относительно плоскости.\n",
    "\n",
    "Матрица преобразований Хаусхолдера:\n",
    "$$ \\mathbf{H} = \\mathbf{1} - 2 \\mathbf{u} \\mathbf{u}^T $$\n",
    "\n",
    "Если даны два вектора $\\mathbf{x}$ и $\\mathbf{y}$ одинаковой длины, поворот, преобразующий $\\mathbf{x}$ в $\\mathbf{y}$ называется преобразованием Хаусхолдера с\n",
    "$$ \\mathbf{u} = \\frac{\\mathbf{x} - \\mathbf{y}}{\\left|\\mathbf{x} - \\mathbf{y}\\right|} $$\n",
    "\n",
    "Напишите функцию, преобразующую заданный вектор $\\mathbf{x} = (x_1, \\dots, x_n)$ в $\\mathbf{y} = (\\left|\\mathbf{x}\\right|, 0, \\dots, 0)^T$, используя преобразование Хаусхолдера.\n"
   ]
  },
  {
   "cell_type": "code",
   "execution_count": 3,
   "metadata": {
    "deletable": false,
    "nbgrader": {
     "cell_type": "code",
     "checksum": "73d9a41ece5cf446777b9df562f48cf0",
     "grade": false,
     "grade_id": "cell-d8d82542e794c193",
     "locked": false,
     "schema_version": 3,
     "solution": true,
     "task": false
    }
   },
   "outputs": [],
   "source": [
    "def householder(vec):\n",
    "    \"\"\"Создает отражение Хаусхолдера, преобразующее 2-ю, 3-ю и т.д. компоненты вектора vec в нули.\n",
    "    \n",
    "    Parameters\n",
    "    ----------\n",
    "    vec : array-like of floats, shape (n,)\n",
    "        Введенный вектор\n",
    "    \n",
    "    Returns\n",
    "    -------\n",
    "    outvec : array of floats, shape (n,)\n",
    "        Преобразованный вектор, причем ``outvec[1:]==0`` и ``|outvec| == |vec|``\n",
    "    H : array of floats, shape (n, n)\n",
    "        Ортогональная матрица отражений Хаусхолдера\n",
    "    \"\"\"\n",
    "    vec = np.asarray(vec, dtype = float)\n",
    "    if vec.ndim != 1:\n",
    "        raise ValueError(\"vec.ndim = %s, expected 1\" % vec.ndim)\n",
    "    \n",
    "    if len(vec) == 1:\n",
    "        return abs(vec), np.eye(1)\n",
    "    \n",
    "    if v[0] > 0:\n",
    "      k = vec.copy()\n",
    "      k[0] = -(vec[1:]**2).sum() / (vec[0] + np.linalg.norm(vec))\n",
    "      k /= np.linalg.norm(k)\n",
    "      k = k.reshape(-1, 1)\n",
    "    else: \n",
    "      k = np.zeros(vec.shape)\n",
    "      k[0] = np.linalg.norm(vec)\n",
    "      k = ((vec - k) / np.linalg.norm(vec - k)).reshape(-1, 1)\n",
    "\n",
    "    H = np.eye(vec.shape[0]) - 2 * k @ np.transpose(k)\n",
    "    A = np.dot(H, vec)\n",
    "\n",
    "    return A, H"
   ]
  },
  {
   "cell_type": "markdown",
   "metadata": {
    "deletable": false,
    "editable": false,
    "nbgrader": {
     "cell_type": "markdown",
     "checksum": "c06ea08fd1f013d15e1b17ca2fb48e27",
     "grade": false,
     "grade_id": "cell-63560fcd44e56146",
     "locked": true,
     "schema_version": 3,
     "solution": false,
     "task": false
    }
   },
   "source": [
    "Протестируйте свою функцию на следующих примерах:"
   ]
  },
  {
   "cell_type": "code",
   "execution_count": 4,
   "metadata": {
    "deletable": false,
    "editable": false,
    "nbgrader": {
     "cell_type": "code",
     "checksum": "97789d6000886bb5e9644bf1f9d18e07",
     "grade": true,
     "grade_id": "cell-7364c2b9de6bb44c",
     "locked": true,
     "points": 3,
     "schema_version": 3,
     "solution": false,
     "task": false
    }
   },
   "outputs": [],
   "source": [
    "v = np.array([1, 2, 3])\n",
    "v1, h = householder(v)\n",
    "\n",
    "assert_allclose(h @ v1, v, atol=1e-14)\n",
    "assert_allclose(h @ v, v1, atol=1e-14)\n",
    "\n",
    "assert_allclose(v1[1:], 0, atol=1e-14)\n",
    "\n",
    "assert_allclose(h @ h.T, np.eye(3), atol=1e-14)\n",
    "\n",
    "###BEGIN HIDDEN TESTS\n",
    "rndm = np.random.RandomState(1223)\n",
    "vec = rndm.uniform(size=21)\n",
    "v1, h = householder(vec)\n",
    "\n",
    "assert_allclose(h @ v1, vec, atol=1e-14)\n",
    "assert_allclose(h @ vec, v1, atol=1e-14)\n",
    "assert_allclose(v1[1:], 0, atol=1e-14)\n",
    "\n",
    "assert_allclose(h @ h.T, np.eye(h.shape[0]), atol=1e-14)\n",
    "###END HIDDEN TESTS"
   ]
  },
  {
   "cell_type": "markdown",
   "metadata": {
    "deletable": false,
    "editable": false,
    "nbgrader": {
     "cell_type": "markdown",
     "checksum": "ebe7493dd22452e2422d5f111bc86adc",
     "grade": false,
     "grade_id": "cell-35217c03c48d40be",
     "locked": true,
     "schema_version": 3,
     "solution": false,
     "task": false
    }
   },
   "source": [
    "### Part II. Вычисление $\\mathrm{QR}$ - разложения матрицы.\n",
    "\n",
    "Дана прямоугольная $m\\times n$ матрица $\\mathbf{A}$. Выполните отражение Хаусхолдера матрицы $\\mathbf{H}_1$, преобразующее первый столбец матрицы $\\mathbf{A}$ (назовем результат $\\mathbf{A}^{(1)}$)\n",
    "\n",
    "$$ \n",
    "\\mathbf{H}_1 \\mathbf{A} %\\begin{pmatrix} \\times &amp; \\times &amp; \\times &amp; \\dots &amp; \\times \\\\ 0 &amp; \\times &amp; \\times &amp; \\dots &amp; \\times \\\\ 0 &amp; \\times &amp; \\times &amp; \\dots &amp; \\times \\\\ &amp;&amp; \\dots&amp;&amp; \\\\ 0 &amp; \\times &amp; \\times &amp; \\dots &amp; \\times \\\\ \\end{pmatrix}\n",
    "%\n",
    "\\equiv \\mathbf{A}^{(1)}\\;. \n",
    "$$\n",
    "\n",
    "Теперь рассмотрим нижнюю правую часть матрицы $\\mathbf{A}^{(1)}$ и выполним преобразование Хаусхолдера, действующее на 2 столбец $\\mathbf{A}$:\n",
    "$$\n",
    "\\mathbf{H}_2 \\mathbf{A}^{(1)} % \\begin{pmatrix} \\times &amp; \\times &amp; \\times &amp; \\dots &amp; \\times \\\\ 0 &amp; \\times &amp; \\times &amp; \\dots &amp; \\times \\\\ 0 &amp; 0 &amp; \\times &amp; \\dots &amp; \\times \\\\ &amp;&amp; \\dots&amp;&amp; \\\\ 0 &amp; 0 &amp; \\times &amp; \\dots &amp; \\times \\\\ \\end{pmatrix}\n",
    "%\n",
    "\\equiv \\mathbf{A}^{(2)} \\;. $$\n",
    "\n",
    "Повторяя процесс $n$ раз, получим\n",
    "$$\n",
    "\\mathbf{H}_{n} \\cdots \\mathbf{H}_2 \\mathbf{H}_1 \\mathbf{A} = \\mathbf{R} \\;, \n",
    "$$\n",
    "\n",
    "где $\\mathbf{R}$ верхняя треугольная матрица. Так как каждая из матриц $\\mathbf{H}_k$ ортогональна, таковым будет и их произведение. Обратная от ортогональной также есть матрица ортогональная. Таким образом, алгоритм создает $\\mathrm{QR}$ - разложение матрицы $\\mathbf{A}$.\n",
    "\n",
    "Напишите функцию, получающую прямоугольную матрицу $A$ и возвращающую матрицы $Q$ и $R$ --- компоненты $QR$-разложения $A$.\n"
   ]
  },
  {
   "cell_type": "code",
   "execution_count": 5,
   "metadata": {
    "deletable": false,
    "nbgrader": {
     "cell_type": "code",
     "checksum": "8a1f5a91c16847856a0cbb2190e6fc61",
     "grade": false,
     "grade_id": "cell-d5a63eec70d4d566",
     "locked": false,
     "schema_version": 3,
     "solution": true,
     "task": false
    }
   },
   "outputs": [],
   "source": [
    "def qr_decomp(a):\n",
    "    \"\"\"Вычисляет QR - разложение матрицы.\n",
    "    \n",
    "    Parameters\n",
    "    ----------\n",
    "    a : ndarray, shape(m, n)\n",
    "        Введенная матрица\n",
    "    \n",
    "    Returns\n",
    "    -------\n",
    "    q : ndarray, shape(m, m)\n",
    "        Ортогональная матрица\n",
    "    r : ndarray, shape(m, n)\n",
    "        Верхняя треугольная матрица\n",
    "        \n",
    "    Examples\n",
    "    --------\n",
    "    >>> a = np.random.random(size=(3, 5))\n",
    "    >>> q, r = qr_decomp(a)\n",
    "    >>> np.testing.assert_allclose(q @ r, a, atol=1e-14)\n",
    "    \n",
    "    \"\"\"\n",
    "    a1 = np.array(a, copy = True, dtype = float)\n",
    "    m, n = a1.shape\n",
    "    \n",
    "    Q = np.eye(m)\n",
    "    \n",
    "    for j in range(n):\n",
    "        _, H = householder(a1[j:, j])\n",
    "        h = np.eye(m)\n",
    "        h[j:, j:] = H\n",
    "        a1 = np.dot(h, a1)\n",
    "        Q = np.dot(Q, h)\n",
    "        \n",
    "    return Q, a1"
   ]
  },
  {
   "cell_type": "code",
   "execution_count": 6,
   "metadata": {
    "deletable": false,
    "editable": false,
    "nbgrader": {
     "cell_type": "code",
     "checksum": "cbad5d2fd9cc1e9402ecf57d84c8d4f6",
     "grade": false,
     "grade_id": "cell-56fbda736c3cd7ea",
     "locked": true,
     "schema_version": 3,
     "solution": false,
     "task": false
    }
   },
   "outputs": [],
   "source": [
    "# можете запустить данную операцию для бооее сжатого вывода: нули вместо `1e-16` и т.д.\n",
    "np.set_printoptions(suppress=True)"
   ]
  },
  {
   "cell_type": "code",
   "execution_count": 7,
   "metadata": {
    "deletable": false,
    "editable": false,
    "nbgrader": {
     "cell_type": "code",
     "checksum": "92b610ca8921e1424ed15186f1ac0245",
     "grade": true,
     "grade_id": "cell-c3391a61cbdadb2f",
     "locked": true,
     "points": 3,
     "schema_version": 3,
     "solution": false,
     "task": false
    }
   },
   "outputs": [],
   "source": [
    "rndm = np.random.RandomState(1234)\n",
    "a = rndm.uniform(size=(5, 3))\n",
    "aa = a.copy()\n",
    "\n",
    "q, r = qr_decomp(a)\n",
    "\n",
    "# check that `qr_decomp` leaves `a` intact\n",
    "assert_allclose(a, aa, atol=1e-16)\n",
    "\n",
    "# тестируем, что Q ортогональна\n",
    "assert_allclose(q @ q.T, np.eye(5), atol=1e-14)\n",
    "\n",
    "# проверяем разложение\n",
    "assert_allclose(q @ r, a, atol=1e-14)"
   ]
  },
  {
   "cell_type": "markdown",
   "metadata": {
    "deletable": false,
    "editable": false,
    "nbgrader": {
     "cell_type": "markdown",
     "checksum": "23a1c1caad0cc026fb9b11be20db43c9",
     "grade": false,
     "grade_id": "cell-c0e81975f522036f",
     "locked": true,
     "schema_version": 3,
     "solution": false,
     "task": false
    }
   },
   "source": [
    "Теперь сравните ваше разложение с разложением, полученным библиотечной функцией (содержащей соответствующие функции библиотеки LAPACK)"
   ]
  },
  {
   "cell_type": "code",
   "execution_count": 8,
   "metadata": {
    "deletable": false,
    "editable": false,
    "nbgrader": {
     "cell_type": "code",
     "checksum": "ff88b4759f8e931b7fd1c4865974f290",
     "grade": false,
     "grade_id": "cell-30c8e09d6dfccd7e",
     "locked": true,
     "schema_version": 3,
     "solution": false,
     "task": false
    }
   },
   "outputs": [],
   "source": [
    "from scipy.linalg import qr\n",
    "qq, rr = qr(a)\n",
    "\n",
    "assert_allclose(np.dot(qq, rr), a,\n",
    "                atol=1e-14)"
   ]
  },
  {
   "cell_type": "markdown",
   "metadata": {},
   "source": [
    "Проверьте, согласуются ли ваши матрицы `q` и `r` с `qq` и `rr`. Объясните результат.\n",
    "Оставьте пояснения в этой ячейке.\n",
    "\n",
    "Из-за того, что у исходной матрицы размером (m x n) строк больше, чем столбцов, то у матрицы R последние (m - n) строк нулевые, поэтому последние (m - n) столбцов матрицы Q могут быть любые, так как элементы этих столбцов все равно умножатся на ноль.\n",
    "Также можно заметить разницу в знаках матриц, она объясняется тем, что scipy иногда берет в качестве “y” не (|x|, 0, 0, ..., 0), а (-|x|, 0, 0, ..., 0)."
   ]
  },
  {
   "cell_type": "code",
   "execution_count": 9,
   "metadata": {},
   "outputs": [
    {
     "data": {
      "text/plain": [
       "array([[ 0.13665049,  0.53601299, -0.09369752,  0.7697136 ,  0.30459557],\n",
       "       [ 0.56035895,  0.0935397 , -0.53326881,  0.01839528, -0.62652547],\n",
       "       [ 0.19725922,  0.65948912,  0.60068463, -0.32384673, -0.24589462],\n",
       "       [ 0.62498418, -0.50418303,  0.52144688,  0.28453698,  0.04822969],\n",
       "       [ 0.48765568,  0.12171264, -0.27224305, -0.47049398,  0.67223293]])"
      ]
     },
     "execution_count": 9,
     "metadata": {},
     "output_type": "execute_result"
    }
   ],
   "source": [
    "q"
   ]
  },
  {
   "cell_type": "code",
   "execution_count": 10,
   "metadata": {},
   "outputs": [
    {
     "data": {
      "text/plain": [
       "array([[-0.13665049,  0.53601299,  0.09369752,  0.661619  , -0.49749149],\n",
       "       [-0.56035895,  0.0935397 ,  0.53326881, -0.52477245, -0.34276292],\n",
       "       [-0.19725922,  0.65948912, -0.60068463, -0.37879015,  0.14784752],\n",
       "       [-0.62498418, -0.50418303, -0.52144688,  0.18967657, -0.21750907],\n",
       "       [-0.48765568,  0.12171264,  0.27224305,  0.32774225,  0.75222783]])"
      ]
     },
     "execution_count": 10,
     "metadata": {},
     "output_type": "execute_result"
    }
   ],
   "source": [
    "qq"
   ]
  },
  {
   "cell_type": "code",
   "execution_count": 11,
   "metadata": {},
   "outputs": [
    {
     "data": {
      "text/plain": [
       "array([[ 1.40152769,  1.2514379 ,  0.89523615],\n",
       "       [-0.        ,  0.84158252,  0.68447942],\n",
       "       [ 0.        , -0.        ,  0.5496046 ],\n",
       "       [-0.        ,  0.        , -0.        ],\n",
       "       [ 0.        , -0.        , -0.        ]])"
      ]
     },
     "execution_count": 11,
     "metadata": {},
     "output_type": "execute_result"
    }
   ],
   "source": [
    "r"
   ]
  },
  {
   "cell_type": "code",
   "execution_count": 12,
   "metadata": {},
   "outputs": [
    {
     "data": {
      "text/plain": [
       "array([[-1.40152769, -1.2514379 , -0.89523615],\n",
       "       [ 0.        ,  0.84158252,  0.68447942],\n",
       "       [ 0.        ,  0.        , -0.5496046 ],\n",
       "       [ 0.        ,  0.        ,  0.        ],\n",
       "       [ 0.        ,  0.        ,  0.        ]])"
      ]
     },
     "execution_count": 12,
     "metadata": {},
     "output_type": "execute_result"
    }
   ],
   "source": [
    "rr"
   ]
  },
  {
   "cell_type": "markdown",
   "metadata": {
    "deletable": false,
    "editable": false,
    "nbgrader": {
     "cell_type": "markdown",
     "checksum": "1a1cfd1969ba69c09cdd68d5e651fb5b",
     "grade": false,
     "grade_id": "cell-28b501b4a2cd3dc1",
     "locked": true,
     "schema_version": 3,
     "solution": false,
     "task": false
    }
   },
   "source": [
    "\n",
    "### Часть III. Безматричная реализация.\n",
    "\n",
    "Отметим необычную структуру матрицы Хаусхолдера: матрица поворота $\\mathbf{H}$ полностью характеризуется вектором отражения $\\mathbf{u}$. Заметим, также, что вычислительная сложность операции отражения матрицы сильно зависит от порядка операций:\n",
    "$$ \\left( \\mathbf{u} \\mathbf{u}^T \\right) \\mathbf{A} \\qquad \\textrm{is } O(m^2 n)\\;, $$\n",
    "\n",
    "тогда как $$ \\mathbf{u} \\left( \\mathbf{u}^T \\mathbf{A} \\right) \\qquad \\textrm{is } O(mn) $$\n",
    "\n",
    "Таким образом, следует избегать формирований матриц $\\mathbf{H}$. Вместо этого можно сохранять сами векторы отражения $\\mathbf{u}$ и производить умножение произвольной матрицы на $\\mathbf{Q}^T$, например, как отдельную функцию (класс).\n",
    "\n",
    "Напишите функцию, выполняющую QR - разложение матрицы без формирования матриц $\\mathbf{H}$ и возвращающую матрицу $\\mathbf{R}$, а также вектора отражений Хаусхолдера.\n",
    "\n",
    "\n",
    "Напишите вторую функцию, которая использует вектора отражений, полученных предыдущей функцией, для вычисления произведения $Q^T B$ для заданной матрицы B. Убедитесь, что вы добавили достаточно комментариев, следующих вашим выкладкам. \n",
    "\n"
   ]
  },
  {
   "cell_type": "code",
   "execution_count": 13,
   "metadata": {
    "deletable": false,
    "nbgrader": {
     "cell_type": "code",
     "checksum": "dcc0faefea89bcb89fa28f0ae61fb5e1",
     "grade": false,
     "grade_id": "cell-5360f8930eabe0b4",
     "locked": false,
     "schema_version": 3,
     "solution": true,
     "task": false
    }
   },
   "outputs": [],
   "source": [
    "def qr_nomatrix(a):\n",
    "    \"\"\"Form QR decomposition of `a` via successive Householder reflections.\n",
    "    \n",
    "    Parameters\n",
    "    ----------\n",
    "    a : ndarray\n",
    "        Input matrix\n",
    "    \n",
    "    Returns\n",
    "    -------\n",
    "    R : ndarray\n",
    "        Upper triangular matrix of the QR decomposition\n",
    "    \n",
    "    U : ndarray\n",
    "        Columns store successive Householder reflectors: `U[j:, j]` stores\n",
    "        the Householder reflector for reducing the `j`-th column.\n",
    "        \n",
    "    See Also\n",
    "    --------\n",
    "    householder_apply : apply Householder reflectors stored in `U` to `a`.\n",
    "    \"\"\"\n",
    "    \n",
    "    R = np.copy(a)\n",
    "    m, n = R.shape\n",
    "    U = np.empty((m, n))\n",
    "    for i in range(n):\n",
    "        vec = np.array(R[i:,i])\n",
    "        if len(vec) == 0:\n",
    "            break\n",
    "        if vec[0] > 0:\n",
    "            u = vec.copy()\n",
    "            u[0] = -(vec[1:]**2).sum() / (vec[0] + np.linalg.norm(vec))\n",
    "            u /= np.linalg.norm(u)\n",
    "        else:\n",
    "            u = np.zeros(vec.shape)\n",
    "            u[0] = np.linalg.norm(vec)\n",
    "            u = ((vec - u) / np.linalg.norm(vec - u))\n",
    "        Z = np.zeros(m)\n",
    "        Z[i:] = u\n",
    "        U[i:, i] = Z[i:]\n",
    "        R[i:, i:] -= 2 * np.outer(u, (u @ R[i:, i:]))\n",
    "    return R, U    \n",
    "    \n",
    "\n",
    "\n",
    "    \n",
    "def householder_apply(b, uu):\n",
    "    \"\"\"Apply the Householder reflectors stored in `uu` to `b`.\n",
    "    \n",
    "    The result is equivalent to\n",
    "    >>> r, q = qr_decomp(a)\n",
    "    >>> q.T @ b\n",
    "    \n",
    "    Parameters\n",
    "    ----------\n",
    "    b : ndarray\n",
    "        Input matrix\n",
    "    uu : ndarray\n",
    "        Householder reflectors: `U[j:, j]` is the reflection vector\n",
    "        for transforming the `j`-th column of `a`.\n",
    "        \n",
    "    Returns\n",
    "    -------\n",
    "    r : ndarray\n",
    "        The result of applying the reflectors to `b`. Equivalent to\n",
    "        computing `q.T @ b`.\n",
    "\n",
    "    See Also\n",
    "    --------\n",
    "    qr_decomp\n",
    "    \n",
    "    \"\"\"\n",
    "    A = np.array(b)\n",
    "    n = uu.shape[1]\n",
    "        \n",
    "    for i in range(n):\n",
    "        u = uu[i:,i].reshape(-1,1)\n",
    "        A[i:,i:] -= 2 * u @ (u.T @ A[i:, i:])\n",
    "    return A"
   ]
  },
  {
   "cell_type": "code",
   "execution_count": 14,
   "metadata": {
    "deletable": false,
    "editable": false,
    "nbgrader": {
     "cell_type": "code",
     "checksum": "61999a616159d1e0e9bb05b209dd6e65",
     "grade": true,
     "grade_id": "cell-68363e2462de3a8b",
     "locked": true,
     "points": 3,
     "schema_version": 3,
     "solution": false,
     "task": false
    }
   },
   "outputs": [],
   "source": [
    "rndm = np.random.RandomState(1223)\n",
    "\n",
    "a = rndm.uniform(size=(5, 5))\n",
    "R1, U = qr_nomatrix(a)\n",
    "R2 = householder_apply(a, U)\n",
    "R_lib = qr(a)[1]\n",
    "assert_allclose(R1, R2, atol=1e-14)\n",
    "\n",
    "###BEGIN HIDDEN TESTS\n",
    "\n",
    "name2 = \"Test 2: vertical rectangular matrix\"\n",
    "a2 = rndm.uniform(size=(5, 3))\n",
    "R1, U = qr_nomatrix(a2)\n",
    "R22 = householder_apply(a2, U)\n",
    "R_lib2 = qr(a2)[1]\n",
    "assert_allclose(R1, R22, atol=1e-14)\n",
    "\n",
    "\n",
    "name3 = \"Test 3: horizontal rectangular matrix\"\n",
    "a3 = rndm.uniform(size=(3, 5))\n",
    "R1, U = qr_nomatrix(a3)\n",
    "R23 = householder_apply(a3, U)\n",
    "R_lib3 = qr(a3)[1]\n",
    "assert_allclose(R1, R23, atol=1e-14)\n",
    "\n",
    "###END HIDDEN TESTS"
   ]
  },
  {
   "cell_type": "code",
   "execution_count": 15,
   "metadata": {
    "deletable": false,
    "editable": false,
    "nbgrader": {
     "cell_type": "code",
     "checksum": "1d43f3fa0c85dd0882b853d8d4545963",
     "grade": true,
     "grade_id": "cell-159c6803d580116d",
     "locked": true,
     "points": 3,
     "schema_version": 3,
     "solution": false,
     "task": false
    }
   },
   "outputs": [],
   "source": [
    "# Check consistency with the scipy library decomposition. Allow for sign differences\n",
    "\n",
    "conds = [np.allclose(R2[i, :], R_lib[i, :], atol=1e-14) or\n",
    "         np.allclose(R2[i, :], -R_lib[i, :], atol=1e-14) for i in range(5)]\n",
    "assert False not in conds\n",
    "\n",
    "###BEGIN HIDDEN TESTS\n",
    "conds = [np.allclose(R22[i, :], R_lib2[i, :], atol=1e-14) or\n",
    "         np.allclose(R22[i, :], -R_lib2[i, :], atol=1e-14) for i in range(5)]\n",
    "assert False not in conds\n",
    "\n",
    "conds = [np.allclose(R23[i, :], R_lib3[i, :], atol=1e-14) or\n",
    "         np.allclose(R23[i, :], -R_lib3[i, :], atol=1e-14) for i in range(3)]\n",
    "assert False not in conds\n",
    "###END HIDDEN TESTS"
   ]
  },
  {
   "cell_type": "code",
   "execution_count": 16,
   "metadata": {
    "deletable": false,
    "editable": false,
    "nbgrader": {
     "cell_type": "code",
     "checksum": "545b18d6c716104c360c950accf968be",
     "grade": true,
     "grade_id": "cell-cfb9d263bcd923ed",
     "locked": true,
     "points": 3,
     "schema_version": 3,
     "solution": false,
     "task": false
    }
   },
   "outputs": [
    {
     "ename": "AssertionError",
     "evalue": "\nNot equal to tolerance rtol=1e-07, atol=1e-14\n\nMismatched elements: 7 / 15 (46.7%)\nMax absolute difference: 0.64921716\nMax relative difference: 2.9625729\n x: array([[ 1.598967,  1.13982 ,  0.804384],\n       [ 0.099259,  0.112083,  0.153629],\n       [ 0.378285,  0.430078,  0.078134],...\n y: array([[ 1.598967,  1.13982 ,  0.804384],\n       [ 0.404471,  0.112083,  0.153629],\n       [ 0.176809, -0.21914 ,  0.078134],...",
     "output_type": "error",
     "traceback": [
      "\u001b[0;31m---------------------------------------------------------------------------\u001b[0m",
      "\u001b[0;31mAssertionError\u001b[0m                            Traceback (most recent call last)",
      "\u001b[0;32m<ipython-input-16-6fe9c95b9dc7>\u001b[0m in \u001b[0;36m<module>\u001b[0;34m\u001b[0m\n\u001b[1;32m     22\u001b[0m assert_allclose(householder_apply(b, uu),\n\u001b[1;32m     23\u001b[0m                 \u001b[0mq\u001b[0m\u001b[0;34m.\u001b[0m\u001b[0mT\u001b[0m \u001b[0;34m@\u001b[0m \u001b[0mb\u001b[0m\u001b[0;34m,\u001b[0m\u001b[0;34m\u001b[0m\u001b[0;34m\u001b[0m\u001b[0m\n\u001b[0;32m---> 24\u001b[0;31m                 atol=1e-14)\n\u001b[0m\u001b[1;32m     25\u001b[0m \u001b[0;34m\u001b[0m\u001b[0m\n\u001b[1;32m     26\u001b[0m \u001b[0;31m# END HIDDEN TESTS\u001b[0m\u001b[0;34m\u001b[0m\u001b[0;34m\u001b[0m\u001b[0;34m\u001b[0m\u001b[0m\n",
      "\u001b[0;32m~/anaconda3/lib/python3.7/site-packages/numpy/testing/_private/utils.py\u001b[0m in \u001b[0;36massert_allclose\u001b[0;34m(actual, desired, rtol, atol, equal_nan, err_msg, verbose)\u001b[0m\n\u001b[1;32m   1531\u001b[0m     \u001b[0mheader\u001b[0m \u001b[0;34m=\u001b[0m \u001b[0;34m'Not equal to tolerance rtol=%g, atol=%g'\u001b[0m \u001b[0;34m%\u001b[0m \u001b[0;34m(\u001b[0m\u001b[0mrtol\u001b[0m\u001b[0;34m,\u001b[0m \u001b[0matol\u001b[0m\u001b[0;34m)\u001b[0m\u001b[0;34m\u001b[0m\u001b[0;34m\u001b[0m\u001b[0m\n\u001b[1;32m   1532\u001b[0m     assert_array_compare(compare, actual, desired, err_msg=str(err_msg),\n\u001b[0;32m-> 1533\u001b[0;31m                          verbose=verbose, header=header, equal_nan=equal_nan)\n\u001b[0m\u001b[1;32m   1534\u001b[0m \u001b[0;34m\u001b[0m\u001b[0m\n\u001b[1;32m   1535\u001b[0m \u001b[0;34m\u001b[0m\u001b[0m\n",
      "\u001b[0;32m~/anaconda3/lib/python3.7/site-packages/numpy/testing/_private/utils.py\u001b[0m in \u001b[0;36massert_array_compare\u001b[0;34m(comparison, x, y, err_msg, verbose, header, precision, equal_nan, equal_inf)\u001b[0m\n\u001b[1;32m    844\u001b[0m                                 \u001b[0mverbose\u001b[0m\u001b[0;34m=\u001b[0m\u001b[0mverbose\u001b[0m\u001b[0;34m,\u001b[0m \u001b[0mheader\u001b[0m\u001b[0;34m=\u001b[0m\u001b[0mheader\u001b[0m\u001b[0;34m,\u001b[0m\u001b[0;34m\u001b[0m\u001b[0;34m\u001b[0m\u001b[0m\n\u001b[1;32m    845\u001b[0m                                 names=('x', 'y'), precision=precision)\n\u001b[0;32m--> 846\u001b[0;31m             \u001b[0;32mraise\u001b[0m \u001b[0mAssertionError\u001b[0m\u001b[0;34m(\u001b[0m\u001b[0mmsg\u001b[0m\u001b[0;34m)\u001b[0m\u001b[0;34m\u001b[0m\u001b[0;34m\u001b[0m\u001b[0m\n\u001b[0m\u001b[1;32m    847\u001b[0m     \u001b[0;32mexcept\u001b[0m \u001b[0mValueError\u001b[0m\u001b[0;34m:\u001b[0m\u001b[0;34m\u001b[0m\u001b[0;34m\u001b[0m\u001b[0m\n\u001b[1;32m    848\u001b[0m         \u001b[0;32mimport\u001b[0m \u001b[0mtraceback\u001b[0m\u001b[0;34m\u001b[0m\u001b[0;34m\u001b[0m\u001b[0m\n",
      "\u001b[0;31mAssertionError\u001b[0m: \nNot equal to tolerance rtol=1e-07, atol=1e-14\n\nMismatched elements: 7 / 15 (46.7%)\nMax absolute difference: 0.64921716\nMax relative difference: 2.9625729\n x: array([[ 1.598967,  1.13982 ,  0.804384],\n       [ 0.099259,  0.112083,  0.153629],\n       [ 0.378285,  0.430078,  0.078134],...\n y: array([[ 1.598967,  1.13982 ,  0.804384],\n       [ 0.404471,  0.112083,  0.153629],\n       [ 0.176809, -0.21914 ,  0.078134],..."
     ]
    }
   ],
   "source": [
    "# More testing here, keep this cell intact\n",
    "\n",
    "### BEGIN HIDDEN TESTS\n",
    "\n",
    "rndm = np.random.RandomState(1234)\n",
    "a = rndm.uniform(size=(5, 3))\n",
    "\n",
    "q, r = qr_decomp(a)\n",
    "rr, uu = qr_nomatrix(a)\n",
    "\n",
    "# check consistency\n",
    "assert_allclose(np.triu(r),\n",
    "                np.triu(rr), atol=1e-14)\n",
    "\n",
    "# $Q^T @ A = R$\n",
    "assert_allclose(householder_apply(a, uu),\n",
    "                r,\n",
    "                atol=1e-14)\n",
    "\n",
    "# act on a different matrix\n",
    "b = rndm.uniform(size=(5, 3))\n",
    "assert_allclose(householder_apply(b, uu),\n",
    "                q.T @ b,\n",
    "                atol=1e-14)\n",
    "\n",
    "# END HIDDEN TESTS"
   ]
  },
  {
   "cell_type": "code",
   "execution_count": null,
   "metadata": {},
   "outputs": [],
   "source": []
  }
 ],
 "metadata": {
  "kernelspec": {
   "display_name": "Python 3",
   "language": "python",
   "name": "python3"
  },
  "language_info": {
   "codemirror_mode": {
    "name": "ipython",
    "version": 3
   },
   "file_extension": ".py",
   "mimetype": "text/x-python",
   "name": "python",
   "nbconvert_exporter": "python",
   "pygments_lexer": "ipython3",
   "version": "3.7.6"
  }
 },
 "nbformat": 4,
 "nbformat_minor": 4
}
