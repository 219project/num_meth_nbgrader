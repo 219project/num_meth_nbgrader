{
 "cells": [
  {
   "cell_type": "markdown",
   "metadata": {
    "id": "wltWeX-EAwL1"
   },
   "source": [
    "Before you turn this problem in, make sure everything runs as expected. First, **restart the kernel** (in the menubar, select Kernel$\\rightarrow$Restart) and then **run all cells** (in the menubar, select Cell$\\rightarrow$Run All).\n",
    "\n",
    "Make sure you fill in any place that says `YOUR CODE HERE` or \"YOUR ANSWER HERE\", as well as your name and collaborators below:"
   ]
  },
  {
   "cell_type": "code",
   "execution_count": 1,
   "metadata": {
    "id": "ow-nRmyiAwL5"
   },
   "outputs": [],
   "source": [
    "NAME = \"KIRILL GROMOV\"\n",
    "COLLABORATORS = \"\""
   ]
  },
  {
   "cell_type": "markdown",
   "metadata": {
    "id": "5_og1FW1AwL6"
   },
   "source": [
    "---"
   ]
  },
  {
   "cell_type": "markdown",
   "metadata": {
    "deletable": false,
    "editable": false,
    "id": "NeT52ypiAwL6",
    "nbgrader": {
     "cell_type": "markdown",
     "checksum": "1acdeea1f1f6b8708284099563024d63",
     "grade": false,
     "grade_id": "cell-c94465944d7d67c7",
     "locked": true,
     "schema_version": 3,
     "solution": false,
     "task": false
    }
   },
   "source": [
    "# I. $LU$ - разложение квадратной матрицы"
   ]
  },
  {
   "cell_type": "markdown",
   "metadata": {
    "deletable": false,
    "editable": false,
    "id": "dwOJmSBXAwL7",
    "nbgrader": {
     "cell_type": "markdown",
     "checksum": "2891791733c0f344a020919fef4c4ca5",
     "grade": false,
     "grade_id": "cell-eb6000fbe2dd8cb5",
     "locked": true,
     "schema_version": 3,
     "solution": false,
     "task": false
    }
   },
   "source": [
    "\n",
    "\n",
    "Рассмотрим наивную реализацию LU - разложения.\n",
    "\n",
    "Заметим, что мы используем массивы numpy для представления матриц. [Не используйте 'np.matrix'].\n"
   ]
  },
  {
   "cell_type": "code",
   "execution_count": 2,
   "metadata": {
    "deletable": false,
    "editable": false,
    "id": "VMFXU9pLAwL7",
    "nbgrader": {
     "cell_type": "code",
     "checksum": "c59e2e6b26bca2f2ab1aae73a5c75fa3",
     "grade": false,
     "grade_id": "cell-05558de8e4fe3d52",
     "locked": true,
     "schema_version": 3,
     "solution": false,
     "task": false
    }
   },
   "outputs": [],
   "source": [
    "import numpy as np\n",
    "\n",
    "def diy_lu(a):\n",
    "    \"\"\"Создает LU - разложение матрицы `a`.\n",
    "    \n",
    "    Наивное LU - разложение: работает столбец за столбцом, накапливает элементарные треугольные матрицы.\n",
    "    Без выбора главного элемента.\n",
    "    \"\"\"\n",
    "    N = a.shape[0]\n",
    "    \n",
    "    u = a.copy()\n",
    "    L = np.eye(N)\n",
    "    for j in range(N-1):\n",
    "        lam = np.eye(N)\n",
    "        gamma = u[j+1:, j] / u[j, j]\n",
    "        lam[j+1:, j] = -gamma\n",
    "        u = lam @ u\n",
    "\n",
    "        lam[j+1:, j] = gamma\n",
    "        L = L @ lam\n",
    "    return L, u"
   ]
  },
  {
   "cell_type": "code",
   "execution_count": 3,
   "metadata": {
    "colab": {
     "base_uri": "https://localhost:8080/"
    },
    "deletable": false,
    "editable": false,
    "id": "LDdCa38gAwL7",
    "nbgrader": {
     "cell_type": "code",
     "checksum": "c6eb4c5a94231f7ea51b5336e4fcfd84",
     "grade": false,
     "grade_id": "cell-206e605b5fe9746a",
     "locked": true,
     "schema_version": 3,
     "solution": false,
     "task": false
    },
    "outputId": "518ace2d-6a81-4119-d2ad-63fed890bb41"
   },
   "outputs": [
    {
     "data": {
      "text/plain": [
       "6"
      ]
     },
     "execution_count": 3,
     "metadata": {},
     "output_type": "execute_result"
    }
   ],
   "source": [
    "# Теперь сгенерируем матрицу полного ранга и протестируем наивное разложение.\n",
    "import numpy as np\n",
    "\n",
    "N = 6\n",
    "a = np.zeros((N, N), dtype=float)\n",
    "for i in range(N):\n",
    "    for j in range(N):\n",
    "        a[i, j] = 3. / (0.6*i*j + 1)\n",
    "\n",
    "L,U = diy_lu(a)\n",
    "\n",
    "np.linalg.matrix_rank(a)"
   ]
  },
  {
   "cell_type": "code",
   "execution_count": 4,
   "metadata": {
    "deletable": false,
    "editable": false,
    "id": "8JCEo-NpAwL7",
    "nbgrader": {
     "cell_type": "code",
     "checksum": "73ee5a80924774795bacb6353701b1f2",
     "grade": false,
     "grade_id": "cell-776c713bbc30f2ad",
     "locked": true,
     "schema_version": 3,
     "solution": false,
     "task": false
    }
   },
   "outputs": [],
   "source": [
    "# Настройка вывода чисел с плавающей точкой для большей ясности\n",
    "np.set_printoptions(precision=3)"
   ]
  },
  {
   "cell_type": "code",
   "execution_count": 5,
   "metadata": {
    "colab": {
     "base_uri": "https://localhost:8080/"
    },
    "deletable": false,
    "editable": false,
    "id": "2YVc0LcxAwL8",
    "nbgrader": {
     "cell_type": "code",
     "checksum": "21866e0dc99b98bc726156b46b2e53b6",
     "grade": false,
     "grade_id": "cell-834568ce33f5799c",
     "locked": true,
     "schema_version": 3,
     "solution": false,
     "task": false
    },
    "outputId": "0d213538-9f5e-46a7-d8b1-d18e1c1f9987"
   },
   "outputs": [
    {
     "name": "stdout",
     "output_type": "stream",
     "text": [
      "[[1.    0.    0.    0.    0.    0.   ]\n",
      " [1.    1.    0.    0.    0.    0.   ]\n",
      " [1.    1.455 1.    0.    0.    0.   ]\n",
      " [1.    1.714 1.742 1.    0.    0.   ]\n",
      " [1.    1.882 2.276 2.039 1.    0.   ]\n",
      " [1.    2.    2.671 2.944 2.354 1.   ]] \n",
      "\n",
      "[[ 3.000e+00  3.000e+00  3.000e+00  3.000e+00  3.000e+00  3.000e+00]\n",
      " [ 0.000e+00 -1.125e+00 -1.636e+00 -1.929e+00 -2.118e+00 -2.250e+00]\n",
      " [ 0.000e+00  0.000e+00  2.625e-01  4.574e-01  5.975e-01  7.013e-01]\n",
      " [ 0.000e+00  2.220e-16  0.000e+00 -2.197e-02 -4.480e-02 -6.469e-02]\n",
      " [ 0.000e+00 -4.528e-16  0.000e+00  6.939e-18  8.080e-04  1.902e-03]\n",
      " [ 0.000e+00  4.123e-16  0.000e+00 -1.634e-17  0.000e+00 -1.585e-05]] \n",
      "\n",
      "[[ 0.000e+00  0.000e+00  0.000e+00  0.000e+00  0.000e+00  0.000e+00]\n",
      " [ 0.000e+00  0.000e+00  0.000e+00  0.000e+00  0.000e+00  0.000e+00]\n",
      " [ 0.000e+00  0.000e+00  0.000e+00 -2.220e-16  1.110e-16  1.665e-16]\n",
      " [ 0.000e+00  0.000e+00 -2.220e-16  5.551e-17  1.665e-16  1.665e-16]\n",
      " [ 0.000e+00  0.000e+00  1.110e-16  1.665e-16 -1.665e-16 -5.551e-17]\n",
      " [ 0.000e+00  0.000e+00  1.665e-16  1.665e-16 -5.551e-17  0.000e+00]]\n"
     ]
    }
   ],
   "source": [
    "L, u = diy_lu(a)\n",
    "print(L, \"\\n\")\n",
    "print(u, \"\\n\")\n",
    "\n",
    "# Быстрый тест на адекватность: L @ U должна быть равна изначальной матрице с точностью до ошибок округления.\n",
    "print(a-L@u)"
   ]
  },
  {
   "cell_type": "markdown",
   "metadata": {
    "deletable": false,
    "editable": false,
    "id": "iedrctf_AwL8",
    "nbgrader": {
     "cell_type": "markdown",
     "checksum": "90dc4dd0d89212844082a3eb20b0b60b",
     "grade": false,
     "grade_id": "cell-5f461bdf3dab7d0e",
     "locked": true,
     "schema_version": 3,
     "solution": false,
     "task": false
    }
   },
   "source": [
    "# II. Необходимость выбора главного элемента"
   ]
  },
  {
   "cell_type": "markdown",
   "metadata": {
    "deletable": false,
    "editable": false,
    "id": "uOut68XHAwL8",
    "nbgrader": {
     "cell_type": "markdown",
     "checksum": "29a95634971fde3baecde4171c1493c3",
     "grade": false,
     "grade_id": "cell-0d14523b9d253a89",
     "locked": true,
     "schema_version": 3,
     "solution": false,
     "task": false
    }
   },
   "source": [
    "Давайте немного подправим матрицу, изменив в ней один элемент:"
   ]
  },
  {
   "cell_type": "code",
   "execution_count": 6,
   "metadata": {
    "colab": {
     "base_uri": "https://localhost:8080/"
    },
    "deletable": false,
    "editable": false,
    "id": "SNIM6eyFAwL8",
    "nbgrader": {
     "cell_type": "code",
     "checksum": "637d91a18a4afd8a6908d84f82aa1698",
     "grade": false,
     "grade_id": "cell-d6999ec9614fc180",
     "locked": true,
     "schema_version": 3,
     "solution": false,
     "task": false
    },
    "outputId": "f6070d44-896f-4547-be86-0cb88fd7f42a"
   },
   "outputs": [
    {
     "name": "stdout",
     "output_type": "stream",
     "text": [
      "[[3.    3.    3.    3.    3.    3.   ]\n",
      " [3.    3.    1.364 1.071 0.882 0.75 ]\n",
      " [3.    1.364 0.882 0.652 0.517 0.429]\n",
      " [3.    1.071 0.652 0.469 0.366 0.3  ]\n",
      " [3.    0.882 0.517 0.366 0.283 0.231]\n",
      " [3.    0.75  0.429 0.3   0.231 0.188]]\n"
     ]
    }
   ],
   "source": [
    "a1 = a.copy()\n",
    "a1[1, 1] = 3\n",
    "print(a1)"
   ]
  },
  {
   "cell_type": "markdown",
   "metadata": {
    "deletable": false,
    "editable": false,
    "id": "i2eB-0OEAwL9",
    "nbgrader": {
     "cell_type": "markdown",
     "checksum": "fb3e20d42ec7f924e94b0f957b78cf61",
     "grade": false,
     "grade_id": "cell-7a53534efcebc6b3",
     "locked": true,
     "schema_version": 3,
     "solution": false,
     "task": false
    }
   },
   "source": [
    "Результирующая матрица имеет полный ранг, но наивное LU-разложение не работает."
   ]
  },
  {
   "cell_type": "code",
   "execution_count": 7,
   "metadata": {
    "colab": {
     "base_uri": "https://localhost:8080/"
    },
    "deletable": false,
    "editable": false,
    "id": "VXNj3iQQAwL9",
    "nbgrader": {
     "cell_type": "code",
     "checksum": "d14381e7c77405237c393b160cd2aa7d",
     "grade": false,
     "grade_id": "cell-19ebbd11505a4df5",
     "locked": true,
     "schema_version": 3,
     "solution": false,
     "task": false
    },
    "outputId": "56a0d175-bd7a-4cd9-9aa9-05ada22c6144"
   },
   "outputs": [
    {
     "data": {
      "text/plain": [
       "6"
      ]
     },
     "execution_count": 7,
     "metadata": {},
     "output_type": "execute_result"
    }
   ],
   "source": [
    "np.linalg.matrix_rank(a1)"
   ]
  },
  {
   "cell_type": "code",
   "execution_count": 8,
   "metadata": {
    "colab": {
     "base_uri": "https://localhost:8080/"
    },
    "deletable": false,
    "editable": false,
    "id": "w9cjbB25AwL9",
    "nbgrader": {
     "cell_type": "code",
     "checksum": "c15ff1619d0bbdc8137bd73a8a4e7882",
     "grade": false,
     "grade_id": "cell-38b248ff53e6f15e",
     "locked": true,
     "schema_version": 3,
     "solution": false,
     "task": false
    },
    "outputId": "4f765866-6d91-4dcb-cb19-289b1c3f7baf"
   },
   "outputs": [
    {
     "name": "stdout",
     "output_type": "stream",
     "text": [
      "[[nan nan nan nan nan nan]\n",
      " [nan nan nan nan nan nan]\n",
      " [nan nan nan nan nan nan]\n",
      " [nan nan nan nan nan nan]\n",
      " [nan nan nan nan nan nan]\n",
      " [nan nan nan nan nan nan]]\n",
      "[[nan nan nan nan nan nan]\n",
      " [nan nan nan nan nan nan]\n",
      " [nan nan nan nan nan nan]\n",
      " [nan nan nan nan nan nan]\n",
      " [nan nan nan nan nan nan]\n",
      " [nan nan nan nan nan nan]]\n"
     ]
    },
    {
     "name": "stderr",
     "output_type": "stream",
     "text": [
      "/home/kotya/anaconda3/lib/python3.7/site-packages/ipykernel_launcher.py:15: RuntimeWarning: divide by zero encountered in true_divide\n",
      "  from ipykernel import kernelapp as app\n",
      "/home/kotya/anaconda3/lib/python3.7/site-packages/ipykernel_launcher.py:17: RuntimeWarning: invalid value encountered in matmul\n",
      "/home/kotya/anaconda3/lib/python3.7/site-packages/ipykernel_launcher.py:20: RuntimeWarning: invalid value encountered in matmul\n",
      "/home/kotya/anaconda3/lib/python3.7/site-packages/ipykernel_launcher.py:15: RuntimeWarning: invalid value encountered in true_divide\n",
      "  from ipykernel import kernelapp as app\n"
     ]
    }
   ],
   "source": [
    "l, u = diy_lu(a1)\n",
    "\n",
    "print(l, u, sep='\\n')"
   ]
  },
  {
   "cell_type": "markdown",
   "metadata": {
    "deletable": false,
    "editable": false,
    "id": "AP6Jf5kuAwL9",
    "nbgrader": {
     "cell_type": "markdown",
     "checksum": "d0480fa86f7e10ff6c76f9e551962a47",
     "grade": false,
     "grade_id": "cell-bc8216fec2166c04",
     "locked": true,
     "schema_version": 3,
     "solution": false,
     "task": false
    }
   },
   "source": [
    "### Тест II.1\n",
    "\n",
    "Для того, чтобы наивное LU - разложение работало необходимо чтобы все лидирующие миноры матрицы были отличны от нуля. Проверьте, выполнено ли это требование для двух матриц a и a1."
   ]
  },
  {
   "cell_type": "code",
   "execution_count": 9,
   "metadata": {
    "deletable": false,
    "id": "y2qDLGg-AwL9",
    "nbgrader": {
     "cell_type": "code",
     "checksum": "52cda027b54c7d2d0591d924f4d012ea",
     "grade": false,
     "grade_id": "cell-cd7f666a9fa51d35",
     "locked": false,
     "schema_version": 3,
     "solution": true,
     "task": false
    }
   },
   "outputs": [],
   "source": [
    "def minor(a):\n",
    "    ''' Check if all leading minors are non-zero.\n",
    "    \n",
    "    Parameters\n",
    "    ----------\n",
    "    a : np.array\n",
    "        2D array representing the square matrix\n",
    "    \n",
    "    Returns\n",
    "    -------\n",
    "    answer : bool\n",
    "        True if all leading minors are non-zero\n",
    "    '''\n",
    "    # YOUR CODE HERE\n",
    "    import math\n",
    "    n = len(a)\n",
    "    minors = []\n",
    "    result = True\n",
    "    for k in range(1, n+1):\n",
    "      minor_matrix = np.zeros((k, k))\n",
    "      for i in range(k):\n",
    "        for j in range(k):\n",
    "          minor_matrix[i][j] = a[i][j]\n",
    "      leading_minor = np.linalg.det(minor_matrix)\n",
    "      # minors.append(leading_minor)\n",
    "      if math.isclose(leading_minor, 0, abs_tol=1e-10):\n",
    "        result = False\n",
    "    return result\n",
    "    # raise NotImplementedError()"
   ]
  },
  {
   "cell_type": "code",
   "execution_count": 10,
   "metadata": {
    "deletable": false,
    "editable": false,
    "id": "x9sL9bw9AwL9",
    "nbgrader": {
     "cell_type": "code",
     "checksum": "5fb1ffbfd1da8aaad4b1bb2db2c91b25",
     "grade": true,
     "grade_id": "cell-212d71a3e76aea58",
     "locked": true,
     "points": 2,
     "schema_version": 3,
     "solution": false,
     "task": false
    }
   },
   "outputs": [],
   "source": [
    "assert minor(a)==True\n",
    "assert minor(a1)==False"
   ]
  },
  {
   "cell_type": "markdown",
   "metadata": {
    "deletable": false,
    "editable": false,
    "id": "hyW3jcGsAwL-",
    "nbgrader": {
     "cell_type": "markdown",
     "checksum": "e755c0e186a7bf3d7061c786bda53250",
     "grade": false,
     "grade_id": "cell-6c5d624065287d6b",
     "locked": true,
     "schema_version": 3,
     "solution": false,
     "task": false
    }
   },
   "source": [
    "### Тест II.2\n",
    "\n",
    "Модифицируйте алгоритм diy_lu, чтобы осуществлять выбор главного элемента в столбцах. Для контроля выбора можете использовать матрицу перестановок или массив замен.\n",
    "Напишите функцию, воссоздающую изначальную матрицу из разложения. Протестируйте свой алгоритм на матрицах a и a1."
   ]
  },
  {
   "cell_type": "code",
   "execution_count": 11,
   "metadata": {
    "deletable": false,
    "id": "Jf8JqS8GAwL-",
    "nbgrader": {
     "cell_type": "code",
     "checksum": "20772ccf33cd71cf4be281f4944864db",
     "grade": false,
     "grade_id": "cell-703a27f2e76339e7",
     "locked": false,
     "schema_version": 3,
     "solution": true,
     "task": false
    }
   },
   "outputs": [],
   "source": [
    "def diy_lu_mod(a):\n",
    "    '''Perform pivoted LU factorization of the input matrix. \n",
    "    \n",
    "    Parameters\n",
    "    ----------\n",
    "    a : np.array\n",
    "        2D array representing a square matrix with float entries\n",
    "       \n",
    "    Returns\n",
    "    -------\n",
    "    P, L, U : ndarrays\n",
    "        factors. Here P is a permutation matrix, L is lower triangular\n",
    "        with unit diagonal elements, and U upper triangular.\n",
    "    '''\n",
    "    # YOUR CODE HERE\n",
    "    N = a.shape[0]\n",
    "    \n",
    "    u = a.copy()\n",
    "    L = np.eye(N)\n",
    "    P = np.eye(N)\n",
    "    for j in range(N-1):\n",
    "      max = 0.\n",
    "      maxnum = j\n",
    "      for k in range(j, N):\n",
    "        if abs(u[k][j]) > max:\n",
    "          max = u[k][j]\n",
    "          maxnum = k\n",
    "      u[j], u[maxnum] = u[maxnum], u[j].copy()\n",
    "      P[j], P[maxnum] = P[maxnum], P[j].copy()\n",
    "      lam = np.eye(N)\n",
    "      gamma = u[j+1:, j] / u[j, j]\n",
    "      lam[j+1:, j] = -gamma\n",
    "      u = lam @ u\n",
    "\n",
    "      lam[j+1:, j] = gamma\n",
    "      L = L @ lam\n",
    "    return np.linalg.inv(P), L, u\n",
    "    # raise NotImplementedError()\n",
    "\n",
    "from scipy import linalg\n",
    "P1, L1, U1 = linalg.lu(a1)\n",
    "P, L, U = diy_lu_mod(a1)"
   ]
  },
  {
   "cell_type": "code",
   "execution_count": 12,
   "metadata": {
    "colab": {
     "base_uri": "https://localhost:8080/",
     "height": 566
    },
    "deletable": false,
    "editable": false,
    "id": "7DU5BlLwAwL-",
    "nbgrader": {
     "cell_type": "code",
     "checksum": "c97f676bb8ebc237be45ed1dc8b01183",
     "grade": true,
     "grade_id": "cell-eacc7aa962410524",
     "locked": true,
     "points": 8,
     "schema_version": 3,
     "solution": false,
     "task": false
    },
    "outputId": "61f2e501-38fd-4933-8ad3-d28b9d50990b"
   },
   "outputs": [
    {
     "ename": "AssertionError",
     "evalue": "\nNot equal to tolerance rtol=1e-07, atol=1e-10\n\nMismatched elements: 20 / 36 (55.6%)\nMax absolute difference: 0.993\nMax relative difference: 5.769\n x: array([[3.      , 3.      , 3.      , 3.      , 3.      , 3.      ],\n       [3.      , 1.875   , 1.363636, 1.071429, 0.882353, 0.75    ],\n       [3.      , 1.363636, 0.882353, 0.652174, 0.517241, 0.428571],...\n y: array([[3.      , 3.      , 3.      , 3.      , 3.      , 3.      ],\n       [3.      , 1.363636, 0.779221, 0.457792, 0.252982, 0.110795],\n       [3.      , 1.071429, 0.652174, 0.47275 , 0.374538, 0.313015],...",
     "output_type": "error",
     "traceback": [
      "\u001b[0;31m---------------------------------------------------------------------------\u001b[0m",
      "\u001b[0;31mAssertionError\u001b[0m                            Traceback (most recent call last)",
      "\u001b[0;32m<ipython-input-12-36870cc9377b>\u001b[0m in \u001b[0;36m<module>\u001b[0;34m\u001b[0m\n\u001b[1;32m      3\u001b[0m \u001b[0;34m\u001b[0m\u001b[0m\n\u001b[1;32m      4\u001b[0m \u001b[0;32mfrom\u001b[0m \u001b[0mnumpy\u001b[0m\u001b[0;34m.\u001b[0m\u001b[0mtesting\u001b[0m \u001b[0;32mimport\u001b[0m \u001b[0massert_allclose\u001b[0m\u001b[0;34m\u001b[0m\u001b[0;34m\u001b[0m\u001b[0m\n\u001b[0;32m----> 5\u001b[0;31m \u001b[0massert_allclose\u001b[0m\u001b[0;34m(\u001b[0m\u001b[0ma\u001b[0m\u001b[0;34m,\u001b[0m \u001b[0mP\u001b[0m \u001b[0;34m@\u001b[0m \u001b[0mL\u001b[0m \u001b[0;34m@\u001b[0m \u001b[0mU\u001b[0m\u001b[0;34m,\u001b[0m \u001b[0matol\u001b[0m\u001b[0;34m=\u001b[0m\u001b[0;36m1e-10\u001b[0m\u001b[0;34m)\u001b[0m\u001b[0;34m\u001b[0m\u001b[0;34m\u001b[0m\u001b[0m\n\u001b[0m\u001b[1;32m      6\u001b[0m \u001b[0massert_allclose\u001b[0m\u001b[0;34m(\u001b[0m\u001b[0ma1\u001b[0m\u001b[0;34m,\u001b[0m \u001b[0mP1\u001b[0m \u001b[0;34m@\u001b[0m \u001b[0mL1\u001b[0m \u001b[0;34m@\u001b[0m \u001b[0mU1\u001b[0m\u001b[0;34m,\u001b[0m \u001b[0matol\u001b[0m\u001b[0;34m=\u001b[0m\u001b[0;36m1e-10\u001b[0m \u001b[0;34m)\u001b[0m\u001b[0;34m\u001b[0m\u001b[0;34m\u001b[0m\u001b[0m\n\u001b[1;32m      7\u001b[0m \u001b[0;34m\u001b[0m\u001b[0m\n",
      "\u001b[0;32m~/anaconda3/lib/python3.7/site-packages/numpy/testing/_private/utils.py\u001b[0m in \u001b[0;36massert_allclose\u001b[0;34m(actual, desired, rtol, atol, equal_nan, err_msg, verbose)\u001b[0m\n\u001b[1;32m   1531\u001b[0m     \u001b[0mheader\u001b[0m \u001b[0;34m=\u001b[0m \u001b[0;34m'Not equal to tolerance rtol=%g, atol=%g'\u001b[0m \u001b[0;34m%\u001b[0m \u001b[0;34m(\u001b[0m\u001b[0mrtol\u001b[0m\u001b[0;34m,\u001b[0m \u001b[0matol\u001b[0m\u001b[0;34m)\u001b[0m\u001b[0;34m\u001b[0m\u001b[0;34m\u001b[0m\u001b[0m\n\u001b[1;32m   1532\u001b[0m     assert_array_compare(compare, actual, desired, err_msg=str(err_msg),\n\u001b[0;32m-> 1533\u001b[0;31m                          verbose=verbose, header=header, equal_nan=equal_nan)\n\u001b[0m\u001b[1;32m   1534\u001b[0m \u001b[0;34m\u001b[0m\u001b[0m\n\u001b[1;32m   1535\u001b[0m \u001b[0;34m\u001b[0m\u001b[0m\n",
      "\u001b[0;32m~/anaconda3/lib/python3.7/site-packages/numpy/testing/_private/utils.py\u001b[0m in \u001b[0;36massert_array_compare\u001b[0;34m(comparison, x, y, err_msg, verbose, header, precision, equal_nan, equal_inf)\u001b[0m\n\u001b[1;32m    844\u001b[0m                                 \u001b[0mverbose\u001b[0m\u001b[0;34m=\u001b[0m\u001b[0mverbose\u001b[0m\u001b[0;34m,\u001b[0m \u001b[0mheader\u001b[0m\u001b[0;34m=\u001b[0m\u001b[0mheader\u001b[0m\u001b[0;34m,\u001b[0m\u001b[0;34m\u001b[0m\u001b[0;34m\u001b[0m\u001b[0m\n\u001b[1;32m    845\u001b[0m                                 names=('x', 'y'), precision=precision)\n\u001b[0;32m--> 846\u001b[0;31m             \u001b[0;32mraise\u001b[0m \u001b[0mAssertionError\u001b[0m\u001b[0;34m(\u001b[0m\u001b[0mmsg\u001b[0m\u001b[0;34m)\u001b[0m\u001b[0;34m\u001b[0m\u001b[0;34m\u001b[0m\u001b[0m\n\u001b[0m\u001b[1;32m    847\u001b[0m     \u001b[0;32mexcept\u001b[0m \u001b[0mValueError\u001b[0m\u001b[0;34m:\u001b[0m\u001b[0;34m\u001b[0m\u001b[0;34m\u001b[0m\u001b[0m\n\u001b[1;32m    848\u001b[0m         \u001b[0;32mimport\u001b[0m \u001b[0mtraceback\u001b[0m\u001b[0;34m\u001b[0m\u001b[0;34m\u001b[0m\u001b[0m\n",
      "\u001b[0;31mAssertionError\u001b[0m: \nNot equal to tolerance rtol=1e-07, atol=1e-10\n\nMismatched elements: 20 / 36 (55.6%)\nMax absolute difference: 0.993\nMax relative difference: 5.769\n x: array([[3.      , 3.      , 3.      , 3.      , 3.      , 3.      ],\n       [3.      , 1.875   , 1.363636, 1.071429, 0.882353, 0.75    ],\n       [3.      , 1.363636, 0.882353, 0.652174, 0.517241, 0.428571],...\n y: array([[3.      , 3.      , 3.      , 3.      , 3.      , 3.      ],\n       [3.      , 1.363636, 0.779221, 0.457792, 0.252982, 0.110795],\n       [3.      , 1.071429, 0.652174, 0.47275 , 0.374538, 0.313015],..."
     ]
    }
   ],
   "source": [
    "P, L, U = diy_lu_mod(a)\n",
    "P1, L1, U1 = diy_lu_mod(a1)\n",
    "\n",
    "from numpy.testing import assert_allclose\n",
    "assert_allclose(a, P @ L @ U, atol=1e-10)\n",
    "assert_allclose(a1, P1 @ L1 @ U1, atol=1e-10 )\n",
    "\n",
    "###BEGIN HIDDEN TESTS\n",
    "np.random.seed(1234)\n",
    "m = np.random.rand(N, N)\n",
    "a2 = np.diag([100]*N) + m.T @ m\n",
    "P2, L2, U2 = diy_lu_mod(a2)\n",
    "\n",
    "assert_allclose(a2, P2 @ L2 @ U2)\n",
    "###END HIDDEN TESTS"
   ]
  }
 ],
 "metadata": {
  "colab": {
   "name": "LU_ksgromov.ipynb",
   "provenance": []
  },
  "kernelspec": {
   "display_name": "Python 3",
   "language": "python",
   "name": "python3"
  },
  "language_info": {
   "codemirror_mode": {
    "name": "ipython",
    "version": 3
   },
   "file_extension": ".py",
   "mimetype": "text/x-python",
   "name": "python",
   "nbconvert_exporter": "python",
   "pygments_lexer": "ipython3",
   "version": "3.7.6"
  }
 },
 "nbformat": 4,
 "nbformat_minor": 0
}
