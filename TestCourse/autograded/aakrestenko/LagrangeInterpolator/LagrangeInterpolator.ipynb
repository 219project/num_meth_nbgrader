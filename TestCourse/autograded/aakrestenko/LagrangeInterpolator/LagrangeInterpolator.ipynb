{
 "cells": [
  {
   "cell_type": "markdown",
   "metadata": {
    "id": "vTKVlaDKvYWY"
   },
   "source": [
    "Before you turn this problem in, make sure everything runs as expected. First, **restart the kernel** (in the menubar, select Kernel$\\rightarrow$Restart) and then **run all cells** (in the menubar, select Cell$\\rightarrow$Run All).\n",
    "\n",
    "Make sure you fill in any place that says `YOUR CODE HERE` or \"YOUR ANSWER HERE\", as well as your name and collaborators below:"
   ]
  },
  {
   "cell_type": "code",
   "execution_count": 1,
   "metadata": {
    "execution": {
     "iopub.execute_input": "2021-04-19T11:05:13.951083Z",
     "iopub.status.busy": "2021-04-19T11:05:13.949098Z",
     "iopub.status.idle": "2021-04-19T11:05:13.953794Z",
     "shell.execute_reply": "2021-04-19T11:05:13.953079Z"
    },
    "id": "bdUwEE6LvYWm"
   },
   "outputs": [],
   "source": [
    "NAME = \"Krestenko Anatoly\"\n",
    "COLLABORATORS = \"\""
   ]
  },
  {
   "cell_type": "markdown",
   "metadata": {
    "id": "ZN6RY4y-vYWn"
   },
   "source": [
    "---"
   ]
  },
  {
   "cell_type": "markdown",
   "metadata": {
    "deletable": false,
    "editable": false,
    "id": "quxACLTSvYWo",
    "nbgrader": {
     "cell_type": "markdown",
     "checksum": "233c53446ef795debdf3179ead9a728a",
     "grade": false,
     "grade_id": "cell-af0193379161e7dd",
     "locked": true,
     "schema_version": 3,
     "solution": false,
     "task": false
    }
   },
   "source": [
    "# Интерполяция при помощи полиномов Лагранжа."
   ]
  },
  {
   "cell_type": "code",
   "execution_count": 2,
   "metadata": {
    "deletable": false,
    "execution": {
     "iopub.execute_input": "2021-04-19T11:05:13.968944Z",
     "iopub.status.busy": "2021-04-19T11:05:13.967862Z",
     "iopub.status.idle": "2021-04-19T11:05:14.114324Z",
     "shell.execute_reply": "2021-04-19T11:05:14.113644Z"
    },
    "id": "QYjx3B9-vYWo",
    "nbgrader": {
     "cell_type": "code",
     "checksum": "c209243c82df3a0862e2b45a6e133bbc",
     "grade": false,
     "grade_id": "cell-d459dee4d09527c4",
     "locked": false,
     "schema_version": 3,
     "solution": true,
     "task": false
    }
   },
   "outputs": [],
   "source": [
    "import numpy as np\n",
    "\n",
    "class LagrangeInterpolator:\n",
    "    \"\"\"Lagrange interpolating polynomial.\n",
    "    \n",
    "    Given a set of pairs ``(x_k, y_k)``, construct \n",
    "    a Lagrange polynomial ``f(x)``, such that\n",
    "    \n",
    "    .. math::\n",
    "\n",
    "        f(x_k) = y_k   for k =0, ..., n-1\n",
    "    \n",
    "    Parameters\n",
    "    ----------\n",
    "    xk : array_like, shape(n,)\n",
    "        Abscissas\n",
    "    yk : array_like, shape(n,)\n",
    "        Ordinates\n",
    "    \n",
    "    Attributes\n",
    "    ----------\n",
    "    __call__\n",
    "    \n",
    "    \"\"\"\n",
    "    def __init__(self, xk, yk):\n",
    "        self.xk = np.asarray(xk, dtype=float)\n",
    "        self.yk = np.asarray(yk, dtype=float)\n",
    "        \n",
    "    def __call__(self, x):\n",
    "        \"\"\"Evaluate the interpolator at a given point.\n",
    "        \n",
    "        Parameters\n",
    "        ----------\n",
    "        x : float\n",
    "        \n",
    "        Returns\n",
    "        -------\n",
    "        the value of the interpolator at ``x``.\n",
    "        \"\"\"\n",
    "        n = len(self.xk)\n",
    "        s = 0\n",
    "        for i in range(n):\n",
    "            term = 1\n",
    "            for j in range(n):\n",
    "                if j == i:\n",
    "                    continue\n",
    "                term *= (x - self.xk[j]) / (self.xk[i] - self.xk[j])\n",
    "            s += self.yk[i] * term\n",
    "        return s"
   ]
  },
  {
   "cell_type": "code",
   "execution_count": 3,
   "metadata": {
    "deletable": false,
    "editable": false,
    "execution": {
     "iopub.execute_input": "2021-04-19T11:05:14.124867Z",
     "iopub.status.busy": "2021-04-19T11:05:14.122338Z",
     "iopub.status.idle": "2021-04-19T11:05:14.148494Z",
     "shell.execute_reply": "2021-04-19T11:05:14.147633Z"
    },
    "id": "YW7hyRP1vYWq",
    "nbgrader": {
     "cell_type": "code",
     "checksum": "bcea1ecba91d3cd6618b2556506016de",
     "grade": true,
     "grade_id": "cell-02e34e05d317dfb2",
     "locked": true,
     "points": 5,
     "schema_version": 3,
     "solution": false,
     "task": false
    }
   },
   "outputs": [],
   "source": [
    "def runge_func(x, a=25):\n",
    "    return 1.0 / (1.0 + a*x**2)\n",
    "\n",
    "xx = np.linspace(-2, 2, 21)\n",
    "yy = runge_func(xx)\n",
    "\n",
    "lagr = LagrangeInterpolator(xx, yy)\n",
    "\n",
    "from numpy.testing import assert_allclose\n",
    "\n",
    "assert_allclose(yy,\n",
    "                [lagr(xval) for xval in xx],\n",
    "                atol=1e-14)"
   ]
  },
  {
   "cell_type": "markdown",
   "metadata": {
    "deletable": false,
    "editable": false,
    "id": "ZRgdNKdlvYWr",
    "nbgrader": {
     "cell_type": "markdown",
     "checksum": "e7c0d15903d4b1cd34c0580a8b6b37c0",
     "grade": false,
     "grade_id": "cell-7017c4fddb92f038",
     "locked": true,
     "points": 5,
     "schema_version": 3,
     "solution": false,
     "task": true
    }
   },
   "source": [
    "Рассмотрим функцию Рунге $1/(1 + 25x^2)$. Интерполируйте данную функцию на интервале $x\\in [-2, 2]$, используя полиномы Лагранжа степени $m$, где $m=3, 5, 7, 11$. Используйте равномерную сетку. Постройте результат интерполяции вместе с $f(x)$.\n",
    "\n",
    "Повторите предыдущее задание используя узлы Чебышева. Сравните качество интерполяции на равномерной сетке и на узлах Чебышева.\n"
   ]
  },
  {
   "cell_type": "code",
   "execution_count": 4,
   "metadata": {
    "execution": {
     "iopub.execute_input": "2021-04-19T11:05:14.169200Z",
     "iopub.status.busy": "2021-04-19T11:05:14.165101Z",
     "iopub.status.idle": "2021-04-19T11:05:15.643902Z",
     "shell.execute_reply": "2021-04-19T11:05:15.642954Z"
    },
    "id": "xTfrayFTvYWr"
   },
   "outputs": [
    {
     "name": "stdout",
     "output_type": "stream",
     "text": [
      "M=3\n"
     ]
    },
    {
     "data": {
      "image/png": "[encoded data removed]",
      "text/plain": [
       "<Figure size 432x288 with 1 Axes>"
      ]
     },
     "metadata": {
      "needs_background": "light"
     },
     "output_type": "display_data"
    },
    {
     "name": "stdout",
     "output_type": "stream",
     "text": [
      "M=4\n"
     ]
    },
    {
     "data": {
      "image/png": "[encoded data removed]",
      "text/plain": [
       "<Figure size 432x288 with 1 Axes>"
      ]
     },
     "metadata": {
      "needs_background": "light"
     },
     "output_type": "display_data"
    },
    {
     "name": "stdout",
     "output_type": "stream",
     "text": [
      "M=5\n"
     ]
    },
    {
     "data": {
      "image/png": "[encoded data removed]",
      "text/plain": [
       "<Figure size 432x288 with 1 Axes>"
      ]
     },
     "metadata": {
      "needs_background": "light"
     },
     "output_type": "display_data"
    },
    {
     "name": "stdout",
     "output_type": "stream",
     "text": [
      "M=11\n"
     ]
    },
    {
     "data": {
      "image/png": "[encoded data removed]",
      "text/plain": [
       "<Figure size 432x288 with 1 Axes>"
      ]
     },
     "metadata": {
      "needs_background": "light"
     },
     "output_type": "display_data"
    }
   ],
   "source": [
    "import numpy as np\n",
    "\n",
    "import matplotlib.pyplot as plt\n",
    "\n",
    "%matplotlib inline\n",
    "\n",
    "def runge(x):\n",
    "    return 1/(1 + 25*(x**2))\n",
    "\n",
    "for m in [3, 4, 5, 11]:\n",
    "    x1 = np.linspace(-2, 2, m)\n",
    "    y1 = runge(x1)\n",
    "\n",
    "    lagrange = LagrangeInterpolator(x1, y1)\n",
    "\n",
    "    print(f'M={m}')\n",
    "    plt.plot(x1, lagrange(x1), label='Lagrange')\n",
    "    plt.plot(x1, y1, 'o', ms=5)\n",
    "    plt.legend(loc='best')\n",
    "    plt.show()"
   ]
  },
  {
   "cell_type": "code",
   "execution_count": null,
   "metadata": {},
   "outputs": [],
   "source": []
  }
 ],
 "metadata": {
  "colab": {
   "name": "LagrangeInterpolator.ipynb",
   "provenance": []
  },
  "kernelspec": {
   "display_name": "Python 3",
   "language": "python",
   "name": "python3"
  },
  "language_info": {
   "codemirror_mode": {
    "name": "ipython",
    "version": 3
   },
   "file_extension": ".py",
   "mimetype": "text/x-python",
   "name": "python",
   "nbconvert_exporter": "python",
   "pygments_lexer": "ipython3",
   "version": "3.8.5"
  }
 },
 "nbformat": 4,
 "nbformat_minor": 1
}
